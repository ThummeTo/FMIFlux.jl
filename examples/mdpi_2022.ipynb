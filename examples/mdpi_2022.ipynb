{
 "cells": [
  {
   "attachments": {},
   "cell_type": "markdown",
   "metadata": {},
   "source": [
    "# Physics-enhanced NeuralODEs in real-world applications\n",
    "Tutorial by *Tobias Thummerer* based on the paper [*NeuralFMU: presenting a workflow for integrating hybrid NeuralODEs into real-world applications*](https://doi.org/10.3390/electronics11193202)\n",
    "\n",
    "*(Work in progress, last edit: 20.12.2022)*\n",
    "\n",
    "## Keywords\n",
    "PeNODE, NeuralODE, Universal Differential Equation, Hybrid Modeling, Functional Mock-up Unit, FMU, NeuralFMU\n",
    "\n",
    "## License"
   ]
  },
  {
   "cell_type": "code",
   "execution_count": null,
   "metadata": {
    "execution": {
     "iopub.execute_input": "2022-10-14T15:30:08.475000Z",
     "iopub.status.busy": "2022-10-14T15:30:07.808000Z",
     "iopub.status.idle": "2022-10-14T15:30:08.737000Z",
     "shell.execute_reply": "2022-10-14T15:30:08.667000Z"
    }
   },
   "outputs": [],
   "source": [
    "# Copyright (c) 2021 Tobias Thummerer, Lars Mikelsons\n",
    "# Licensed under the MIT license. \n",
    "# See LICENSE (https://github.com/thummeto/FMIFlux.jl/blob/main/LICENSE) file in the project root for details."
   ]
  },
  {
   "attachments": {},
   "cell_type": "markdown",
   "metadata": {},
   "source": [
    "## Introduction to the example\n",
    "The Julia Package *FMIFlux.jl* is motivated by the application of hybrid modeling. This package enables the user to integrate his simulation model(s) in form of FMU(s) side-by-side together with artifical neural networks. For more detailed information on *FMIFlux.jl*, see the [introduction page](https://thummeto.github.io/FMIFlux.jl/dev/). This tutorial is an easy, code-focussed version of the paper [[1]](#Source). If this tutorial is useful for your work, please cite the linked paper.\n",
    "\n",
    "In this example, a real-world simulation model is enhanced in terms of accuracy using a so called *physics-enhanced neural ordinary differential equation* (PeNode). Basically, this is an extension to the NeuralODE concept and looks as can be seen in Fig. 1.\n",
    "\n",
    "![NeuralFMU.svg](https://github.com/ThummeTo/FMIFlux.jl/tree/main/examples/img/mdpi_2022/neuralfmu.svg?raw=true)\n",
    "\n",
    "*Fig.1: A possible representation for a physics-enhanced neural ordinary differential equation (PeNODE). PeNODEs that include FMUs instead of symbolic ODEs are called NeuralFMUs.*\n",
    "\n",
    "Note, that this is only one possible topology of a PeNODE, there could be an additional artifical neural network (ANN) before the ODE (that can also share some connections with the other ANN) and other signals, like FMU state derivatives, inputs and outputs could be connected to the ANN(s). ODEs are in general not very handy, for modeling **real** applications, a more suitable container for ODEs is needed. The most common model exchange format in industry is the *Functional Mock-up interface* (FMI), models exported with FMI are called *Functional Mock-up unit* (FMU). Especially *model-exchange* FMUs can be seen as containers for ODEs. For more information, see ([fmi-standard.org](http://fmi-standard.org/)). So if you want to use a real model from your modeling tool (with FMI support), you can simply export an FMU instead of handling large and bulky ODEs. If PeNODEs use FMUs instead of ODEs, they are called NeuralFMUs [[2]](#Source).\n",
    "\n",
    "In this tutorial series, a *vehicle longitudinal-dynamics model* (VLDM) is extended to a NeuralFMU (PeNODE) to make better consumption predictions.\n",
    "\n",
    "\n",
    "## Target group\n",
    "The example is primarily intended for users who work in the field of first principle and/or data driven modeling and are further interested in hybrid model building. The example shows how to combine FMUs with machine learning and illustrates the advantages of this approach.\n",
    "\n",
    "\n",
    "## Other formats\n",
    "Besides, this [Jupyter Notebook](https://github.com/thummeto/FMIFlux.jl/blob/examples/examples/mdpi_2022.ipynb) there is also a [Julia file](https://github.com/thummeto/FMIFlux.jl/blob/examples/examples/mdpi_2022.jl) with the same name, which contains only the code cells. For the documentation there is a [Markdown file](https://github.com/thummeto/FMIFlux.jl/blob/examples/examples/mdpi_2022.md) corresponding to the notebook.  \n",
    "\n",
    "\n",
    "## Getting started\n",
    "\n",
    "### Installation prerequisites\n",
    "|     | Description                       | Command                   | \n",
    "|:----|:----------------------------------|:--------------------------|\n",
    "| 1.  | Enter Package Manager via         | ]                         |          \n",
    "| 2.  | Install FMI via                   | add FMI                   | \n",
    "| 3.  | Install FMIFlux via               | add FMIFlux               |\n",
    "| 4.  | Install FMIZoo via                | add FMIZoo                |\n",
    "| 5.  | Install Plots via                 | add Plots                 |\n",
    "| 6.  | Install PlotlyJS via              | add PlotlyJS              |\n",
    "| 7.  | Install Random via                | add Random                | \n",
    "| 8.  | Install JLD2 via                  | add JLD2                  | "
   ]
  },
  {
   "attachments": {},
   "cell_type": "markdown",
   "metadata": {},
   "source": [
    "## Part 1: Loading the FMU\n",
    "\n",
    "To run the example, the previously installed packages must be included. "
   ]
  },
  {
   "cell_type": "code",
   "execution_count": null,
   "metadata": {
    "execution": {
     "iopub.execute_input": "2022-10-14T15:30:08.740000Z",
     "iopub.status.busy": "2022-10-14T15:30:08.740000Z",
     "iopub.status.idle": "2022-10-14T15:31:29.492000Z",
     "shell.execute_reply": "2022-10-14T15:31:29.492000Z"
    },
    "scrolled": false
   },
   "outputs": [],
   "source": [
    "# Loading in the required libraries\n",
    "using FMIFlux   # for NeuralFMUs\n",
    "using FMI       # import FMUs into Julia \n",
    "using FMIZoo    # a collection of demo models, including the VLDM\n",
    "\n",
    "import FMI.DifferentialEquations: Tsit5     # import the Tsit5-solver\n",
    "using FMIFlux.Flux                          # the default ML-library \n",
    "using JLD2                                  # data format for saving/loading parameters\n",
    "\n",
    "# plotting\n",
    "import Plots        # default plotting framework\n",
    "import PlotlyJS     # plotting (interactive)\n",
    "Plots.plotlyjs()    # actiavte PlotlyJS as default plotting backend\n",
    "\n",
    "# Let's fix the random seed to make our program determinsitic (ANN layers are initialized indeterminsitic otherwise)\n",
    "import Random \n",
    "Random.seed!(1234)\n",
    "\n",
    "# we use the Tsit5 solver for ODEs here \n",
    "solver = Tsit5()    "
   ]
  },
  {
   "attachments": {},
   "cell_type": "markdown",
   "metadata": {},
   "source": [
    "Next, we load the FMU from the *FMIZoo.jl* and have a brief look on its metadata. For a detailed view, see the [Modelica model](https://github.com/ThummeTo/FMIZoo.jl/blob/main/models/src/VLDM.mo)."
   ]
  },
  {
   "cell_type": "code",
   "execution_count": null,
   "metadata": {
    "execution": {
     "iopub.execute_input": "2022-10-14T15:31:36.296000Z",
     "iopub.status.busy": "2022-10-14T15:31:29.495000Z",
     "iopub.status.idle": "2022-10-14T15:31:44.274000Z",
     "shell.execute_reply": "2022-10-14T15:31:44.273000Z"
    },
    "scrolled": false
   },
   "outputs": [],
   "source": [
    "# load our FMU (we take one from the FMIZoo.jl, exported with Dymola 2022x)\n",
    "fmu = fmiLoad(\"VLDM\", \"Dymola\", \"2022x\"; type=:ME, logLevel=FMI.FMIImport.FMULogLevelInfo)\n",
    "\n",
    "# let's have a look on the model meta data\n",
    "fmiInfo(fmu)"
   ]
  },
  {
   "attachments": {},
   "cell_type": "markdown",
   "metadata": {},
   "source": [
    "As you can see, in section *States* there are six states listed:\n",
    "\n",
    "| ID  | Value Reference | Value Name(s)                                                                                    | Description                                          | \n",
    "|:----|:----------------|--------------------------------------------------------------------------------------------------|:-----------------------------------------------------|\n",
    "| 1   | 33554432        | \"driver.accelerationPedalController.PI.x\"                                                        | PI-Controller state (integrated error), accelerating |       \n",
    "| 2   | 33554433        | \"driver.brakePedalController.PI.x\"                                                               | PI-Controller state (integrated error), braking      | \n",
    "| 3   | 33554434        | \"drivingCycle.s\"                                                                                 | vehicle position (target)                            |\n",
    "| 4   | 33554435        | \"dynamics.accelerationCalculation.integrator.y\"                                                  | vehicle position (actual)                             |\n",
    "| 5   | 33554436        | \"dynamics.accelerationCalculation.limiter.u\", \"dynamics.accelerationCalculation.limIntegrator.y\" | vehicle velocity (actual)                            |\n",
    "| 6   | 33554437        | \"result.integrator.y\"                                                                            | cumulative consumption * 3600                        |"
   ]
  },
  {
   "attachments": {},
   "cell_type": "markdown",
   "metadata": {},
   "source": [
    "Next thing is having a look on the real measurement data, that comes with the FMU. The VLDM and corresponding data are based on the [Component Library for Full Vehicle Simulations](https://github.com/TUMFTM/Component_Library_for_Full_Vehicle_Simulations) [[3]](#Source)."
   ]
  },
  {
   "cell_type": "code",
   "execution_count": null,
   "metadata": {
    "execution": {
     "iopub.execute_input": "2022-10-14T15:31:49.425000Z",
     "iopub.status.busy": "2022-10-14T15:31:49.424000Z",
     "iopub.status.idle": "2022-10-14T15:33:45.488000Z",
     "shell.execute_reply": "2022-10-14T15:33:45.488000Z"
    },
    "scrolled": false
   },
   "outputs": [],
   "source": [
    "# load data from FMIZoo.jl, gather simulation parameters for FMU\n",
    "data = FMIZoo.VLDM(split=:train)\n",
    "tStart = data.consumption_t[1]\n",
    "tStop = data.consumption_t[end]\n",
    "tSave = data.consumption_t\n",
    "\n",
    "# have a look on the FMU parameters (these are the file paths to the characteristic maps)\n",
    "data.params"
   ]
  },
  {
   "attachments": {},
   "cell_type": "markdown",
   "metadata": {},
   "source": [
    "Finally, we do a single simulation run and compare the simulation output to the real data."
   ]
  },
  {
   "cell_type": "code",
   "execution_count": null,
   "metadata": {
    "execution": {
     "iopub.execute_input": "2022-10-14T15:33:45.494000Z",
     "iopub.status.busy": "2022-10-14T15:33:45.494000Z",
     "iopub.status.idle": "2022-10-14T15:33:47.082000Z",
     "shell.execute_reply": "2022-10-14T15:33:47.082000Z"
    }
   },
   "outputs": [],
   "source": [
    "\n",
    "# let's run a simulation from `tStart` to `tStop`, use the parameters we just viewed for the simulation run\n",
    "resultFMU = fmiSimulate(fmu, (tStart, tStop); parameters=data.params) \n",
    "fig = fmiPlot(resultFMU)                                                                        # Plot it, but this is a bit too much, so ...\n",
    "fig = fmiPlot(resultFMU; stateIndices=6:6)                                                      # ... only plot the state #6 and ...\n",
    "fig = fmiPlot(resultFMU; stateIndices=6:6, ylabel=\"Cumulative consumption [Ws]\", label=\"FMU\")   # ... add some helpful labels!\n",
    "\n",
    "# further plot the (measurement) data values `consumption_val` and deviation between measurements `consumption_dev`\n",
    "Plots.plot!(fig, data.consumption_t, data.consumption_val; label=\"Data\", ribbon=data.consumption_dev, fillalpha=0.3)"
   ]
  },
  {
   "attachments": {},
   "cell_type": "markdown",
   "metadata": {},
   "source": [
    "## Part 2: Designing the Topology"
   ]
  },
  {
   "attachments": {},
   "cell_type": "markdown",
   "metadata": {},
   "source": [
    "After we have successful loaded the FMI, had a look inside its model description and simulated it, we want to build a hybrid model (NeuralFMU) with our FMU as its core. \n",
    "\n",
    "### Part 2a: Interfaces between ANNs and FMUs\n",
    "What happens between ANNs and FMUs?\n",
    "\n",
    "Note, that FMUs and ANNs don't operate within the same numerical ranges. Whereas FMU signals can basically use the entire range of a Float64, ANNs operate the best in a range that suits theire activation functions. Many activation functions saturate their input values. Consider the $tanh$-activation, that acts almost linear close around $0$, but drastically saturates values further away from zero:"
   ]
  },
  {
   "cell_type": "code",
   "execution_count": null,
   "metadata": {},
   "outputs": [],
   "source": [
    "for i in [0.0, 0.01, 0.1, 1.0, 10.0, 100.0, 1000.0]\n",
    "    println(\"tanh($(i)) = $(tanh(i))\")\n",
    "end"
   ]
  },
  {
   "attachments": {},
   "cell_type": "markdown",
   "metadata": {},
   "source": [
    "Similarly for the opposite direction: Signals from ANNs into FMUs may be too small, because of the limited output of the ANNs. To prevent this issue, an appropriate transformation (like shifting and scaling) between ANNs and FMUs is necessary. In the following code section, the results of ignoring this is shown, together with a fix by using the provided `ScaleShift`- and `ShiftScale`-layers from *FMIFlux.jl*."
   ]
  },
  {
   "cell_type": "code",
   "execution_count": null,
   "metadata": {},
   "outputs": [],
   "source": [
    "# variable we want to manipulate - why we are picking exactly these three is shown a few lines later ;-)\n",
    "manipulatedDerVars = [\"der(dynamics.accelerationCalculation.integrator.y)\",\n",
    "                      \"der(dynamics.accelerationCalculation.limIntegrator.y)\",\n",
    "                      \"der(result.integrator.y)\"]\n",
    "# alternative: manipulatedDerVars = fmu.modelDescription.derivativeValueReferences[4:6]\n",
    "\n",
    "# reference simulation to record the derivatives \n",
    "resultFMU = fmiSimulate(fmu, (tStart, tStop), parameters=data.params, recordValues=:derivatives, saveat=tSave) # [29s]\n",
    "vals = fmiGetSolutionValue(resultFMU, manipulatedDerVars)\n",
    "\n",
    "# what happens without propper transformation between FMU- and ML-domain?\n",
    "Plots.plot(resultFMU.values.t, vals[1,:][1]; label=\"vehicle velocity\");\n",
    "Plots.plot!(resultFMU.values.t, tanh.(vals[1,:][1]); label=\"tanh(velocity)\")\n",
    "\n",
    "# setup shift/scale layers for pre-processing\n",
    "preProcess = ShiftScale(vals)\n",
    "\n",
    "# check what it's doing now ...\n",
    "testVals = collect(preProcess(collect(val[t] for val in vals))[1] for t in 1:length(resultFMU.values.t))\n",
    "Plots.plot(resultFMU.values.t, testVals; label=\"velocity (pre-processed)\");\n",
    "Plots.plot!(resultFMU.values.t, tanh.(testVals); label=\"tanh(velocity)\")"
   ]
  },
  {
   "cell_type": "code",
   "execution_count": null,
   "metadata": {},
   "outputs": [],
   "source": [
    "# add some additional \"buffer\"\n",
    "preProcess.scale[:] *= 0.5 \n",
    "testVals = collect(preProcess(collect(val[t] for val in vals))[1] for t in 1:length(resultFMU.values.t))\n",
    "Plots.plot(resultFMU.values.t, testVals; label=\"velocity (pre-processed)\");\n",
    "Plots.plot!(resultFMU.values.t, tanh.(testVals); label=\"tanh(velocity)\")"
   ]
  },
  {
   "cell_type": "code",
   "execution_count": null,
   "metadata": {},
   "outputs": [],
   "source": [
    "# ... also check the consumption\n",
    "testVals = collect(preProcess(collect(val[t] for val in vals))[3] for t in 1:length(resultFMU.values.t))\n",
    "Plots.plot(resultFMU.values.t, testVals; label=\"vehicle consumption (pre-processed)\");\n",
    "Plots.plot!(resultFMU.values.t, tanh.(testVals); label=\"tanh(consumption)\")"
   ]
  },
  {
   "cell_type": "code",
   "execution_count": null,
   "metadata": {},
   "outputs": [],
   "source": [
    "# setup scale/shift layer (inverse transformation) for post-processing\n",
    "# we don't an inverse transform for the entire preProcess, only for the second element (acceleration)\n",
    "postProcess = ScaleShift(preProcess; indices=2:2)"
   ]
  },
  {
   "attachments": {},
   "cell_type": "markdown",
   "metadata": {},
   "source": [
    "As a little extra, these shifting and scaling parameters are optimized together with the ANN parameters in the later training process!"
   ]
  },
  {
   "attachments": {},
   "cell_type": "markdown",
   "metadata": {},
   "source": [
    "### Part 2b: ANN in- and output\n",
    "Besides shifting and scaling, a major question is: What signals should be fed into the ANN and what signals should be output by it? We need to make some considerations:\n",
    "- **What should be learned?** In theory, we could manipulate every interface signal from an to the FMU, but in real life this is not efficient. The more signals we connect, the more partial derivatives need to be determined during training. So if there is something you know about the model (and often there is more than just *something*) you can use that knowledge to make your hybrid model more efficient. So ask yourself: *What* should be learned? And right after that: *How* could it be learned? In mechanical applications the answer will often be: A force (or momentum in rotational systems). Forces result in a change of acceleration, so they can be expressed by an additional acceleration. In mechanical systems, the acceleration is almost always a state derivative (the derivative of the velocity), so in many cases, manipulating the lowest state derivative - the acceleration - is a very good choice. \n",
    "- **How many ANNs do we need?** Technically, you can add an arbitrary number of ANNs around your FMU (you can also use multiple FMUs if you want). But again, one should not use more than a single ANN if there is no good reason to do so. A second ANN *before* the FMU can be useful for example, if measurment offsets or similar effects should be corrected. Often, a single ANN to modify the state dynamics is sufficient.\n",
    "- **What signals from the FMU should be inserted into the ANN?** In theory, we could use them all, meaning all states, state derivatives, time, inputs, outputs and other variables that are accessible through FMI. You know what comes next: Using less signals is the better choice, of course. If you know that the physical effect (here: the friction force), you have also an idea what *influences* this effect or at least you know what values will have no impact and can be neglected to enhance training performance.\n",
    "\n",
    "At this specific example, the following considerations were made:\n",
    "\n",
    "| | Consideration                                                                                                                         | Considered inputs for the ANN |\n",
    "|:---|--------------------------------------------------------------------------------------------------------------------------------------|--------|\n",
    "| 1. | we have no inputs, nothing to add                                                                                                       | $\\{\\}$ |  \n",
    "| 2. | we have no outputs, nothing to add                                                                                                      | $\\{\\}$ | \n",
    "| 3. | we have six states, that may influence the effect, add them                                                                                     | $\\{x_1, x_2, x_3, x_4, x_5, x_6\\}$ |  \n",
    "| 4. | we have six state derivatives, that may influence the effect, add them                                                                         | $\\{x_1, x_2, x_3, x_4, x_5, x_6\\, \\dot{x}_1, \\dot{x}_2, \\dot{x}_3, \\dot{x}_4, \\dot{x}_5, \\dot{x}_6\\}$ |  \n",
    "| 5. | the system is modelled as second order ODE, the state $x_5$ (velocity) equlas the state derivative $\\dot{x}_4$, remove $x_5$ | $\\{x_1, x_2, x_3, x_4, x_6\\, \\dot{x}_1, \\dot{x}_2, \\dot{x}_3, \\dot{x}_4, \\dot{x}_5, \\dot{x}_6\\}$ | \n",
    "| 6. | we know that the friction effect is not dependent on the driver controller, remove two states ($x_1$ and $x_2$) and state derivatives ($\\dot{x}_1$ and $\\dot{x}_2$) | $\\{x_3, x_4, x_6\\, \\dot{x}_3, \\dot{x}_4, \\dot{x}_5, \\dot{x}_6\\}$ | \n",
    "| 7. | we know that the friction effect is not dependent on the target driving cycle position $x_3$ or velocity $\\dot{x}_3$, remove them | $\\{x_4, x_6\\, \\dot{x}_4, \\dot{x}_5, \\dot{x}_6\\}$ | \n",
    "| 8. | we assume that the friction effect is not dependent on the vehicle position $x_4$, remove $x_4$ | $\\{x_6\\, \\dot{x}_4, \\dot{x}_5, \\dot{x}_6\\}$ | \n",
    "| 9. | we assume that the friction effect is not dependent on the accumulated vehicle consumption $x_6$, remove $x_6$ | $\\{\\dot{x}_4, \\dot{x}_5, \\dot{x}_6\\}$ | \n",
    "\n",
    "These considerations lead to the following topology:\n",
    "\n",
    "![usedneuralfmu.svg](https://github.com/ThummeTo/FMIFlux.jl/tree/main/examples/img/mdpi_2022/usedneuralfmu.svg?raw=true)\n",
    "\n",
    "*Fig.2: The used topology for a NeuralFMU in this example. The ANN operates based on the signals $\\dot{x}_4, \\dot{x}_5, \\dot{x}_6$ from the FMU, but only modifies the signal $\\hat{\\dot{x}}_5$.*\n",
    "\n",
    "### Part 2c: Translating topology to Julia\n",
    "To implement the signal bypass in a layer sequence, two layers named `CacheLayer` and `CacheRetrieveLayer` are used to cache and retrieve arbitrary values:"
   ]
  },
  {
   "cell_type": "code",
   "execution_count": null,
   "metadata": {},
   "outputs": [],
   "source": [
    "# setup cache layers \n",
    "cache = CacheLayer()\n",
    "cacheRetrieve = CacheRetrieveLayer(cache)\n",
    "\n",
    "gates = ScaleSum([1.0, 0.0]) # signal from FMU (#1 = 1.0), signal from ANN (#2 = 0.0)\n",
    "\n",
    "# evaluate the FMU by calling it, we are only interessted in `dx` in this case\n",
    "function evalFMU(x)\n",
    "    y, dx = fmu(; x=x)\n",
    "    return dx \n",
    "end\n",
    "\n",
    "# setup the NeuralFMU topology\n",
    "net = Chain(x -> evalFMU(x),                    # take `x`, put it into the FMU, retrieve `dx`\n",
    "            dx -> cache(dx),                    # cache `dx`\n",
    "            dx -> dx[4:6],                      # forward only dx[4, 5, 6]\n",
    "            preProcess,                         # pre-process `dx`\n",
    "            Dense(3, 32, tanh),                 # Dense Layer 3 -> 32 with `tanh` activasion\n",
    "            Dense(32, 1, tanh),                 # Dense Layer 32 -> 1 with `tanh` activasion \n",
    "            postProcess,                        # post process `dx`\n",
    "            dx -> cacheRetrieve(5:5, dx),       # dynamics FMU | dynamics ANN\n",
    "            gates,                              # compute resulting dx from ANN + FMU\n",
    "            dx -> cacheRetrieve(1:4, dx, 6:6))  # stack together: dx[1,2,3,4] from cache + dx from ANN + dx[6] from cache\n",
    "\n",
    "# build NeuralFMU\n",
    "neuralFMU = ME_NeuralFMU(fmu, net, (tStart, tStop), solver; saveat=tSave)\n",
    "neuralFMU.modifiedState = false # speed optimization (no ANN before the FMU)\n",
    "\n",
    "# get start state vector from data (FMIZoo)\n",
    "x0 = FMIZoo.getStateVector(data, tStart)\n",
    "\n",
    "# simulate and plot the (uninitialized) NeuralFMU\n",
    "resultNFMU_original = neuralFMU(x0, (tStart, tStop); parameters=data.params, showProgress=true) \n",
    "fig = fmiPlot(resultNFMU_original; stateIndices=5:5, label=\"NeuralFMU (original)\", ylabel=\"velocity [m/s]\")\n",
    "\n",
    "# plot the original FMU and data\n",
    "fmiPlot!(fig, resultFMU; stateIndices=5:5, values=false)\n",
    "Plots.plot!(fig, data.speed_t, data.speed_val, label=\"Data\")"
   ]
  },
  {
   "attachments": {},
   "cell_type": "markdown",
   "metadata": {},
   "source": [
    "### Part 2d: Initialization\n",
    "In general, initialization of (phyiscs-enhanced) NeuralODEs is challenging, because ANNs are initialized random by default. In this case we are using a special initialization method introducing two gates, that control how much of the original FMU dynamics and how much of the ANN dynamics is introduced to the final model dynamics. See the paper [[1]](#Source) for a deeper insight."
   ]
  },
  {
   "attachments": {},
   "cell_type": "markdown",
   "metadata": {},
   "source": [
    "## Part 3: Training\n",
    "\n",
    "Finally: The actual training!\n",
    "\n",
    "Basically, you can use your custom loss function, batching strategies and optimsation routines with *FMIFlux.jl*. Because we need to keep it short here, we use some tools already shipped with *FMIFlux.jl*."
   ]
  },
  {
   "cell_type": "code",
   "execution_count": null,
   "metadata": {},
   "outputs": [],
   "source": [
    "# prepare training data (array of arrays required)\n",
    "train_data = collect([d] for d in data.consumption_val)\n",
    "train_t = data.consumption_t \n",
    "\n",
    "# switch to a more efficient execution configuration, allocate only a singel FMU instance, see:\n",
    "# https://thummeto.github.io/FMI.jl/dev/features/#Execution-Configuration\n",
    "fmu.executionConfig = FMI.FMIImport.FMU2_EXECUTION_CONFIGURATION_NOTHING\n",
    "c, _ = FMIFlux.prepareSolveFMU(neuralFMU.fmu, nothing, neuralFMU.fmu.type, true, false, false, false, true, data.params; x0=x0)\n",
    "\n",
    "# batch the data (time, targets), train only on model output index 6, plot batch elements\n",
    "batch = batchDataSolution(neuralFMU, t -> FMIZoo.getStateVector(data, t), train_t, train_data;\n",
    "    batchDuration=10.0, indicesModel=6:6, plot=true, parameters=data.params, showProgress=true)\n",
    "\n",
    "# limit the maximum number of solver steps to 1e5 and maximum simulation/training duration to 30 minutes\n",
    "solverKwargsTrain = Dict{Symbol, Any}(:maxiters => 1e5, :max_execution_duration => 10.0*60.0)\n",
    "\n",
    "# picks a modified MSE, which weights the last time point MSE with 25% and the remaining element MSE with 75%\n",
    "# this promotes training a continuous function, even when training on batch elements\n",
    "lossFct = (a, b) -> FMIFlux.Losses.mse_last_element_rel(a, b, 0.5)\n",
    "lossFct([1.0, 2.0], [0.0, 0.0]) # (1.0)^2 * 0.75 + (2.0)^2 * 0.25\n",
    "\n",
    "# initialize a \"worst error growth scheduler\" (updates all batch losses, pick the batch element with largest error increase)\n",
    "scheduler = LossAccumulationScheduler(neuralFMU, batch, lossFct; applyStep=1, plotStep=5, updateStep=5)\n",
    "logLoss = false\n",
    "updateScheduler = () -> update!(scheduler)\n",
    "#scheduler = SequentialScheduler(neuralFMU, batch)\n",
    "#logLoss = true \n",
    "\n",
    "# defines a loss for the entire batch (accumulate error of batch elements)\n",
    "batch_loss = p -> FMIFlux.Losses.batch_loss(neuralFMU, batch; \n",
    "    showProgress=true, p=p, parameters=data.params, update=true, lossFct=lossFct, logLoss=true, solverKwargsTrain...) # [120s]\n",
    "\n",
    "# loss for training, take element from the worst element scheduler\n",
    "loss = p -> FMIFlux.Losses.loss(neuralFMU, batch; \n",
    "    showProgress=true, p=p, parameters=data.params, lossFct=lossFct, batchIndex=scheduler.elementIndex, logLoss=logLoss, solverKwargsTrain...)\n",
    "\n",
    "gates.scale[:] = [0.99, 0.01] \n",
    "\n",
    "# gather the parameters from the NeuralFMU\n",
    "params = Flux.params(neuralFMU)\n",
    "\n",
    "params[1][end-1] = 0.99\n",
    "params[1][end] = 0.01\n",
    "\n",
    "# for training, we use the Adam optimizer (with exponential decay) \n",
    "optim = Adam(1e-3) \n",
    "\n",
    "# initialize the scheduler \n",
    "initialize!(scheduler; parameters=data.params, p=params[1], showProgress=true) # [120s]"
   ]
  },
  {
   "attachments": {},
   "cell_type": "markdown",
   "metadata": {},
   "source": [
    "Finally, the line we are waiting for so long:"
   ]
  },
  {
   "cell_type": "code",
   "execution_count": null,
   "metadata": {},
   "outputs": [],
   "source": [
    "batch_loss(params[1])\n",
    "FMIFlux.train!(loss, params, Iterators.repeated((), length(batch)), optim; chunk_size=length(params[1]), cb=updateScheduler) \n",
    "\n",
    "optim.eta *= 0.5\n",
    "FMIFlux.train!(loss, params, Iterators.repeated((), length(batch)), optim; chunk_size=length(params[1]), cb=updateScheduler) \n",
    "batch_loss(params[1])\n",
    "\n",
    "optim.eta *= 0.5\n",
    "FMIFlux.train!(loss, params, Iterators.repeated((), length(batch)), optim; chunk_size=length(params[1]), cb=updateScheduler) \n",
    "batch_loss(params[1])"
   ]
  },
  {
   "attachments": {},
   "cell_type": "markdown",
   "metadata": {},
   "source": [
    "After training, it seems a good idea to store the optimized parameters for later use:"
   ]
  },
  {
   "cell_type": "code",
   "execution_count": null,
   "metadata": {},
   "outputs": [],
   "source": [
    "# save the parameters (so we can use them tomorrow again)\n",
    "paramsPath = joinpath(@__DIR__, \"params_$(scheduler.step)steps.jld2\")\n",
    "fmiSaveParameters(neuralFMU, paramsPath)\n",
    "\n",
    "# switch back to the default execution configuration, see:\n",
    "# https://thummeto.github.io/FMI.jl/dev/features/#Execution-Configuration\n",
    "fmu.executionConfig = FMI.FMIImport.FMU2_EXECUTION_CONFIGURATION_NO_RESET\n",
    "FMIFlux.finishSolveFMU(neuralFMU.fmu, c, false, true)"
   ]
  },
  {
   "attachments": {},
   "cell_type": "markdown",
   "metadata": {},
   "source": [
    "The final question is: Are we better? This can be easily checked by running a simulation and compare it to the training data:"
   ]
  },
  {
   "cell_type": "code",
   "execution_count": null,
   "metadata": {},
   "outputs": [],
   "source": [
    "# Load parameters \n",
    "# fmiLoadParameters(neuralFMU, paramsPath)\n",
    "\n",
    "# check what had been learned by the NeuralFMU, simulate it ...\n",
    "resultNFMU_train = neuralFMU(x0, (tStart, tStop); parameters=data.params, showProgress=true, recordValues=manipulatedDerVars, maxiters=1e7) # [120s]\n",
    "\n",
    "# are we better?\n",
    "mse_NFMU = FMIFlux.Losses.mse(data.consumption_val, fmiGetSolutionState(resultNFMU_train, 6; isIndex=true))\n",
    "mse_FMU  = FMIFlux.Losses.mse(data.consumption_val, fmiGetSolutionState(resultFMU, 6; isIndex=true))\n",
    "\n",
    "# ... and plot it\n",
    "fig = fmiPlot(resultNFMU_nipt; stateIndices=6:6, stateEvents=false, label=\"NeuralFMU (NIPT)\", title=\"Training Data\");\n",
    "fmiPlot!(fig, resultNFMU_train; stateIndices=6:6, stateEvents=false, values=false, label=\"NeuralFMU (Train)\");\n",
    "fmiPlot!(fig, resultFMU; stateIndices=6:6, stateEvents=false, values=false, label=\"FMU\");\n",
    "Plots.plot!(fig, train_t, data.consumption_val, label=\"Data\", ribbon=data.consumption_dev, fillalpha=0.3)"
   ]
  },
  {
   "attachments": {},
   "cell_type": "markdown",
   "metadata": {},
   "source": [
    "## Part 4: Results discussion\n",
    "\n",
    "**WIP: coming soon!**"
   ]
  },
  {
   "attachments": {},
   "cell_type": "markdown",
   "metadata": {},
   "source": [
    "### Source\n",
    "\n",
    "[1] Tobias Thummerer, Johannes Stoljar and Lars Mikelsons. 2022. **NeuralFMU: presenting a workflow for integrating hybrid NeuralODEs into real-world applications.** Electronics 11, 19, 3202. [DOI: 10.3390/electronics11193202](https://doi.org/10.3390/electronics11193202)\n",
    "\n",
    "\n",
    "[2] Tobias Thummerer, Lars Mikelsons and Josef Kircher. 2021. **NeuralFMU: towards structural integration of FMUs into neural networks.** Martin Sjölund, Lena Buffoni, Adrian Pop and Lennart Ochel (Ed.). Proceedings of 14th Modelica Conference 2021, Linköping, Sweden, September 20-24, 2021. Linköping University Electronic Press, Linköping (Linköping Electronic Conference Proceedings ; 181), 297-306. [DOI: 10.3384/ecp21181297](https://doi.org/10.3384/ecp21181297)\n",
    "\n",
    "[3] Danquah, B.; Koch, A.; Weis, T.; Lienkamp, M.; Pinnel, A. 2019. **Modular, Open Source Simulation Approach: Application to Design and Analyze Electric Vehicles.** In Proceedings of the IEEE 2019 Fourteenth International Conference on Ecological Vehicles and Renewable Energies (EVER), Monte Carlo, Monaco, 8–10 May 2019; pp. 1–8. [DOI: 10.1109/EVER.2019.8813568](https://doi.org/10.1109/EVER.2019.8813568).\n"
   ]
  }
 ],
 "metadata": {
  "interpreter": {
   "hash": "037537ff7419c497b9325f7d495147943224d408cf5d5ed915294a5b960167b0"
  },
  "jupytext": {
   "cell_metadata_filter": "-all",
   "comment_magics": "false",
   "notebook_metadata_filter": "-all"
  },
  "kernelspec": {
   "display_name": "JuliaPro_v1.5.4-1 1.5.4",
   "language": "julia",
   "name": "juliapro_v1.5.4-1-1.5"
  },
  "language_info": {
   "file_extension": ".jl",
   "mimetype": "application/julia",
   "name": "julia",
   "version": "1.8.2"
  },
  "nteract": {
   "version": "0.28.0"
  }
 },
 "nbformat": 4,
 "nbformat_minor": 2
}
