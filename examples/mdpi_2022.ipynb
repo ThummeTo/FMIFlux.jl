{
 "cells": [
  {
   "attachments": {},
   "cell_type": "markdown",
   "metadata": {},
   "source": [
    "# Physics-enhanced NeuralODEs in real-world applications\n",
    "Tutorial by Tobias Thummerer, Johannes Stoljar\n",
    "*(Work in progress, last edit: 09.12.2022)*\n",
    "\n",
    "## Keywords\n",
    "PeNODE, NeuralODE, Universal Differential Equation, Hybrid Modeling, Functional Mock-up Unit, FMU, NeuralFMU\n",
    "\n",
    "## License"
   ]
  },
  {
   "cell_type": "code",
   "execution_count": 1,
   "metadata": {
    "execution": {
     "iopub.execute_input": "2022-10-14T15:30:08.475000Z",
     "iopub.status.busy": "2022-10-14T15:30:07.808000Z",
     "iopub.status.idle": "2022-10-14T15:30:08.737000Z",
     "shell.execute_reply": "2022-10-14T15:30:08.667000Z"
    }
   },
   "outputs": [],
   "source": [
    "# Copyright (c) 2021 Tobias Thummerer, Lars Mikelsons\n",
    "# Licensed under the MIT license. \n",
    "# See LICENSE (https://github.com/thummeto/FMIFlux.jl/blob/main/LICENSE) file in the project root for details."
   ]
  },
  {
   "attachments": {},
   "cell_type": "markdown",
   "metadata": {},
   "source": [
    "## Motivation\n",
    "The Julia Package *FMIFlux.jl* is motivated by the application of hybrid modeling. This package enables the user to integrate his simulation model(s) in form of FMU(s) between neural networks (NeuralFMU). For more detailed information on *FMIFlux.jl*, see the [introduction page](https://thummeto.github.io/FMIFlux.jl/dev/). This tutorial is an easy, code-focussed version of the paper [[1]](#Source).\n",
    "\n",
    "## Introduction to the example\n",
    "In this example, a real-world simulation model is enhanced in terms of accuracy using a so called *physics-enhanced neural ordinary differential equation* (PeNode). Basically, this is an extension to the NeuralODE concept and looks as can be seen in Fig. 1.\n",
    "\n",
    "![PeNODE.svg](https://github.com/thummeto/FMIFlux.jl/blob/main/docs/src/examples/pics/PeNODE.svg?raw=true)\n",
    "\n",
    "*Fig.1: A possible representation for a physics-enhanced neural ordinary differential equation (PeNODE)*.\n",
    "\n",
    "Note, that this is only one possible topology, there could be an additional artifical neural network (ANN) before the ODE (that can also share some connections with the other ANN) and other signals, like FMU state derivatives, inputs and outputs could be connected to the ANN(s). ODEs are in general not very handy, for modeling **real** applications, a more suitable format is needed. The most common model exchange format in industry is the *Functional Mock-up interface* (FMI), models exported with FMI are called *Functional Mock-up unit* (FMU). Especially *model-exchange* FMUs can be seen as containers for ODEs. For more information, see ([fmi-standard.org](http://fmi-standard.org/)). So if you want to use a real model from your modeling tool (with FMI support), you can simply export an FMU instead of handling large and bulky ODEs. If PeNODEs use FMUs instead of ODEs, they are called NeuralFMUs [[2]](#Source).\n",
    "\n",
    "In this tutorial series, a *vehicle longitudinal-dynamics model* (VLDM) is extended to a NeuralFMU (PeNODE) to make better consumption predictions.\n",
    "\n",
    "\n",
    "## Target group\n",
    "The example is primarily intended for users who work in the field of first principle and/or hybrid modeling and are further interested in hybrid model building. The example wants to show how simple it is to combine FMUs with machine learning and to illustrate the advantages of this approach.\n",
    "\n",
    "\n",
    "## Other formats\n",
    "Besides, this [Jupyter Notebook](https://github.com/thummeto/FMIFlux.jl/blob/examples/examples/mdpi_part1_loading.ipynb) there is also a [Julia file](https://github.com/thummeto/FMIFlux.jl/blob/examples/examples/mdpi_part1_loading.jl) with the same name, which contains only the code cells. For the documentation there is a [Markdown file](https://github.com/thummeto/FMIFlux.jl/blob/examples/examples/mdpi_part1_loading.md) corresponding to the notebook.  \n",
    "\n",
    "\n",
    "## Getting started\n",
    "\n",
    "### Installation prerequisites\n",
    "|     | Description                       | Command                   | \n",
    "|:----|:----------------------------------|:--------------------------|\n",
    "| 1.  | Enter Package Manager via         | ]                         |          \n",
    "| 2.  | Install FMI via                   | add FMI                   | \n",
    "| 3.  | Install FMIFlux via               | add FMIFlux               |\n",
    "| 4.  | Install FMIZoo via                | add FMIZoo                |\n",
    "| 5.  | Install Plots via                 | add Plots                 |\n",
    "| 6.  | Install PlotlyJS via              | add PlotlyJS              |\n",
    "| 7.  | Install Random via                | add Random                | \n",
    "| 8.  | Install JLD2 via                  | add JLD2                  | "
   ]
  },
  {
   "attachments": {},
   "cell_type": "markdown",
   "metadata": {},
   "source": [
    "## Part 1: Loading the FMU\n",
    "\n",
    "To run the example, the previously installed packages must be included. "
   ]
  },
  {
   "cell_type": "code",
   "execution_count": 2,
   "metadata": {
    "execution": {
     "iopub.execute_input": "2022-10-14T15:30:08.740000Z",
     "iopub.status.busy": "2022-10-14T15:30:08.740000Z",
     "iopub.status.idle": "2022-10-14T15:31:29.492000Z",
     "shell.execute_reply": "2022-10-14T15:31:29.492000Z"
    },
    "scrolled": false
   },
   "outputs": [
    {
     "data": {
      "text/plain": [
       "Tsit5(stage_limiter! = trivial_limiter!, step_limiter! = trivial_limiter!, thread = static(false))"
      ]
     },
     "metadata": {},
     "output_type": "display_data"
    }
   ],
   "source": [
    "# Loading in the required libraries\n",
    "using FMIFlux   # for NeuralFMUs\n",
    "using FMI       # import FMUs into Julia \n",
    "using FMIZoo    # a collection of demo models, including the VLDM\n",
    "\n",
    "import FMI.DifferentialEquations: Tsit5     # import the Tsit5-solver\n",
    "using FMIFlux.Flux                          # the default ML-library \n",
    "using JLD2                                  # data format for saving/loading parameters\n",
    "\n",
    "# plotting\n",
    "import Plots        # default plotting framework\n",
    "import PlotlyJS     # plotting (interactive)\n",
    "Plots.plotlyjs()    # actiavte PlotlyJS as default plotting backend\n",
    "\n",
    "# Let's fix the random seed to make our program determinsitic (ANN layers are initialized indeterminsitic otherwise)\n",
    "import Random \n",
    "Random.seed!(1234)\n",
    "\n",
    "# we use the Tsit5 solver for ODEs here \n",
    "solver = Tsit5()    "
   ]
  },
  {
   "attachments": {},
   "cell_type": "markdown",
   "metadata": {},
   "source": [
    "Next, we load the FMU from the *FMIZoo.jl* and have a brief look on its metadata. For a detailed view, see the [Modelica model](https://github.com/ThummeTo/FMIZoo.jl/blob/main/models/src/VLDM.mo)."
   ]
  },
  {
   "cell_type": "code",
   "execution_count": 3,
   "metadata": {
    "execution": {
     "iopub.execute_input": "2022-10-14T15:31:36.296000Z",
     "iopub.status.busy": "2022-10-14T15:31:29.495000Z",
     "iopub.status.idle": "2022-10-14T15:31:44.274000Z",
     "shell.execute_reply": "2022-10-14T15:31:44.273000Z"
    },
    "scrolled": false
   },
   "outputs": [
    {
     "name": "stderr",
     "output_type": "stream",
     "text": [
      "┌ Info: fmi2Load(...): FMU resources location is `file:///C:/Users/thummeto/AppData/Local/Temp/fmijl_AhqPP0/VLDM/resources`\n",
      "└ @ FMICore C:\\Users\\thummeto\\Documents\\FMICore.jl\\src\\logging.jl:20\n"
     ]
    },
    {
     "name": "stdout",
     "output_type": "stream",
     "text": [
      "#################### Begin information for FMU ####################\n",
      "\tModel name:\t\t\tLongitudinaldynamic.LongitudinaldynamicmodelContinuous\n",
      "\tFMI-Version:\t\t\t2.0\n",
      "\tGUID:\t\t\t\t{669889ab-7ab7-4fac-be92-96b6cd0b86a6}\n",
      "\tGeneration tool:\t\tDymola Version 2020x (64-bit), 2019-10-10\n",
      "\tGeneration time:\t\t2022-07-22T09:32:50Z\n",
      "\tVar. naming conv.:\t\tstructured\n",
      "\tEvent indicators:\t\t28\n",
      "\tInputs:\t\t\t\t0\n",
      "\tOutputs:\t\t\t0\n",
      "\tStates:\t\t\t\t6\n",
      "\t\t33554432 [\"driver.accelerationPedalController.PI.x\"]\n",
      "\t\t33554433 [\"driver.brakePedalController.PI.x\"]\n",
      "\t\t33554434 [\"drivingCycle.s\"]\n",
      "\t\t33554435 [\"dynamics.accelerationCalculation.integrator.y\"]\n",
      "\t\t33554436 [\"dynamics.accelerationCalculation.limiter.u\", \"dynamics.accelerationCalculation.limIntegrator.y\", \"dynamics.accelerationCalculation.limiter.simplifiedExpr\"]\n",
      "\t\t33554437 [\"result.integrator.y\"]\n",
      "\tSupports Co-Simulation:\t\ttrue\n",
      "\t\tModel identifier:\tLongitudinaldynamic_LongitudinaldynamicmodelContinuous\n",
      "\t\tGet/Set State:\t\ttrue\n",
      "\t\tSerialize State:\ttrue\n",
      "\t\tDir. Derivatives:\ttrue\n",
      "\t\tVar. com. steps:\ttrue\n",
      "\t\tInput interpol.:\ttrue\n",
      "\t\tMax order out. der.:\t1\n",
      "\tSupports Model-Exchange:\ttrue\n",
      "\t\tModel identifier:\tLongitudinaldynamic_LongitudinaldynamicmodelContinuous\n",
      "\t\tGet/Set State:\t\ttrue\n",
      "\t\tSerialize State:\ttrue\n",
      "\t\tDir. Derivatives:\ttrue\n",
      "##################### End information for FMU #####################\n"
     ]
    }
   ],
   "source": [
    "# load our FMU (we take one from the FMIZoo.jl, exported with Dymola 2022x)\n",
    "fmu = fmiLoad(\"VLDM\", \"Dymola\", \"2022x\"; type=:ME, logLevel=FMI.FMIImport.FMULogLevelInfo)\n",
    "\n",
    "# let's have a look on the model meta data\n",
    "fmiInfo(fmu)\n",
    "# States:                         6\n",
    "# 33554432 [\"driver.accelerationPedalController.PI.x\"]                                                          \"PI-Controller state (integrated error), accelerating\"\n",
    "# 33554433 [\"driver.brakePedalController.PI.x\"]                                                                 \"PI-Controller state (integrated error), braking\"\n",
    "# 33554434 [\"drivingCycle.s\"]                                                                                   \"vehicle position (target)\"\n",
    "# 33554435 [\"dynamics.accelerationCalculation.integrator.y\"]                                                    \"vehcle position (actual)\"\n",
    "# 33554436 [\"dynamics.accelerationCalculation.limiter.u\", \"dynamics.accelerationCalculation.limIntegrator.y\"]   \"vehicle velocity (actual)\"\n",
    "# 33554437 [\"result.integrator.y\"]                                                                              \"cumulative consumption * 3600\""
   ]
  },
  {
   "attachments": {},
   "cell_type": "markdown",
   "metadata": {},
   "source": [
    "Next thing is having a look on the real measurement data, that comes with the FMU. The VLDM and corresponding data are based on the [Component Library for Full Vehicle Simulations](https://github.com/TUMFTM/Component_Library_for_Full_Vehicle_Simulations) [[3]](#Source)."
   ]
  },
  {
   "cell_type": "code",
   "execution_count": 4,
   "metadata": {
    "execution": {
     "iopub.execute_input": "2022-10-14T15:31:49.425000Z",
     "iopub.status.busy": "2022-10-14T15:31:49.424000Z",
     "iopub.status.idle": "2022-10-14T15:33:45.488000Z",
     "shell.execute_reply": "2022-10-14T15:33:45.488000Z"
    },
    "scrolled": false
   },
   "outputs": [
    {
     "data": {
      "text/plain": [
       "Dict{String, Any} with 3 entries:\n",
       "  \"peFileName\" => \"C:\\\\Users\\\\thummeto\\\\Documents\\\\FMIZoo.jl\\\\src\\\\..\\\\data\\\\VL…\n",
       "  \"edFileName\" => \"C:\\\\Users\\\\thummeto\\\\Documents\\\\FMIZoo.jl\\\\src\\\\..\\\\data\\\\VL…\n",
       "  \"dcFileName\" => \"C:\\\\Users\\\\thummeto\\\\Documents\\\\FMIZoo.jl\\\\src\\\\..\\\\data\\\\VL…"
      ]
     },
     "metadata": {},
     "output_type": "display_data"
    }
   ],
   "source": [
    "# load data from FMIZoo.jl, gather simulation parameters for FMU\n",
    "data = FMIZoo.VLDM(split=:train)\n",
    "tStart = data.consumption_t[1]\n",
    "tStop = data.consumption_t[end]\n",
    "tSave = data.consumption_t\n",
    "\n",
    "# have a look on the FMU parameters\n",
    "data.params"
   ]
  },
  {
   "attachments": {},
   "cell_type": "markdown",
   "metadata": {},
   "source": [
    "Finally, we do a single simulation run and compare the simulation output to the real data."
   ]
  },
  {
   "cell_type": "code",
   "execution_count": 5,
   "metadata": {
    "execution": {
     "iopub.execute_input": "2022-10-14T15:33:45.494000Z",
     "iopub.status.busy": "2022-10-14T15:33:45.494000Z",
     "iopub.status.idle": "2022-10-14T15:33:47.082000Z",
     "shell.execute_reply": "2022-10-14T15:33:47.082000Z"
    }
   },
   "outputs": [
    {
     "ename": "TypeError",
     "evalue": "TypeError: in keyword argument t, expected Union{Nothing, Real}, got a value of type Tuple{Float64, Float64}",
     "output_type": "error",
     "traceback": [
      "TypeError: in keyword argument t, expected Union{Nothing, Real}, got a value of type Tuple{Float64, Float64}\n",
      "\n",
      "Stacktrace:\n",
      " [1] top-level scope\n",
      "   @ c:\\Users\\thummeto\\Documents\\FMIFlux.jl\\examples\\mdpi_part1_loading.ipynb:3"
     ]
    }
   ],
   "source": [
    "\n",
    "# let's run a simulation\n",
    "resultFMU = fmu(t=(tStart, tStop), parameters=data.params) \n",
    "fig = fmiPlot(resultFMU)                                                                        # This is a bit too much, so ...\n",
    "fig = fmiPlot(resultFMU; stateIndices=6:6)                                                      # ... only plot the state #6 and ...\n",
    "fig = fmiPlot(resultFMU; stateIndices=6:6, ylabel=\"Cumulative consumption [Ws]\", label=\"FMU\")   # ... add some helpful labels!\n",
    "\n",
    "# plot the (measurement) data \n",
    "Plots.plot!(fig, data.consumption_t, data.consumption_val; label=\"Data\", ribbon=data.consumption_dev, fillalpha=0.3)"
   ]
  },
  {
   "attachments": {},
   "cell_type": "markdown",
   "metadata": {},
   "source": [
    "**WIP, to be continued soon ...**"
   ]
  },
  {
   "attachments": {},
   "cell_type": "markdown",
   "metadata": {},
   "source": [
    "### Source\n",
    "\n",
    "[1] Tobias Thummerer, Johannes Stoljar and Lars Mikelsons. 2022. **NeuralFMU: presenting a workflow for integrating hybrid NeuralODEs into real-world applications.** Electronics 11, 19, 3202. [DOI: 10.3390/electronics11193202](https://doi.org/10.3390/electronics11193202)\n",
    "\n",
    "\n",
    "[2] Tobias Thummerer, Lars Mikelsons and Josef Kircher. 2021. **NeuralFMU: towards structural integration of FMUs into neural networks.** Martin Sjölund, Lena Buffoni, Adrian Pop and Lennart Ochel (Ed.). Proceedings of 14th Modelica Conference 2021, Linköping, Sweden, September 20-24, 2021. Linköping University Electronic Press, Linköping (Linköping Electronic Conference Proceedings ; 181), 297-306. [DOI: 10.3384/ecp21181297](https://doi.org/10.3384/ecp21181297)\n",
    "\n",
    "[3] Danquah, B.; Koch, A.; Weis, T.; Lienkamp, M.; Pinnel, A. 2019. **Modular, Open Source Simulation Approach: Application to Design\n",
    "and Analyze Electric Vehicles.** In Proceedings of the IEEE 2019 Fourteenth International Conference on Ecological Vehicles and\n",
    "Renewable Energies (EVER), Monte Carlo, Monaco, 8–10 May 2019; pp. 1–8. [DOI: 10.1109/EVER.2019.8813568](https://doi.org/10.1109/EVER.2019.8813568).\n"
   ]
  }
 ],
 "metadata": {
  "interpreter": {
   "hash": "037537ff7419c497b9325f7d495147943224d408cf5d5ed915294a5b960167b0"
  },
  "jupytext": {
   "cell_metadata_filter": "-all",
   "comment_magics": "false",
   "notebook_metadata_filter": "-all"
  },
  "kernelspec": {
   "display_name": "Julia 1.8.2",
   "language": "julia",
   "name": "julia-1.8"
  },
  "language_info": {
   "file_extension": ".jl",
   "mimetype": "application/julia",
   "name": "julia",
   "version": "1.8.2"
  },
  "nteract": {
   "version": "0.28.0"
  }
 },
 "nbformat": 4,
 "nbformat_minor": 2
}
