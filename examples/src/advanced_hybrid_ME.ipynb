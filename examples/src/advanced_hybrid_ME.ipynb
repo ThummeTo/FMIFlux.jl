{
 "cells": [
  {
   "attachments": {},
   "cell_type": "markdown",
   "metadata": {},
   "source": [
    "# Creation and training of ME-NeuralFMUs\n",
    "Tutorial by Johannes Stoljar, Tobias Thummerer\n",
    "\n",
    "*Last edit: 29.03.2023*\n",
    "\n",
    "## LICENSE\n"
   ]
  },
  {
   "cell_type": "code",
   "execution_count": null,
   "metadata": {
    "execution": {
     "iopub.execute_input": "2022-10-14T15:20:31.245000Z",
     "iopub.status.busy": "2022-10-14T15:20:30.554000Z",
     "iopub.status.idle": "2022-10-14T15:20:31.531000Z",
     "shell.execute_reply": "2022-10-14T15:20:31.456000Z"
    }
   },
   "outputs": [],
   "source": [
    "# Copyright (c) 2021 Tobias Thummerer, Lars Mikelsons, Johannes Stoljar\n",
    "# Licensed under the MIT license. \n",
    "# See LICENSE (https://github.com/thummeto/FMIFlux.jl/blob/main/LICENSE) file in the project root for details."
   ]
  },
  {
   "attachments": {},
   "cell_type": "markdown",
   "metadata": {},
   "source": [
    "## Motivation\n",
    "The Julia Package *FMIFlux.jl* is motivated by the application of hybrid modeling. This package enables the user to integrate his simulation model between neural networks (NeuralFMU). For this, the simulation model must be exported as FMU (functional mock-up unit), which corresponds to a widely used standard. The big advantage of hybrid modeling with artificial neural networks is, that effects that are difficult to model (because they might be unknown) can be easily learned by the neural networks. For this purpose, the NeuralFMU is trained with measurement data containing the not modeled physical effect. The final product is a simulation model including the originally not modeled effects. Another big advantage of the NeuralFMU is that it works with little data, because the FMU already contains the characteristic functionality of the simulation and only the missing effects are added.\n",
    "\n",
    "NeuralFMUs do not need to be as easy as in this example. Basically a NeuralFMU can combine different ANN topologies that manipulate any FMU-input (system state, system inputs, time) and any FMU-output (system state derivative, system outputs, other system variables). However, for this example a NeuralFMU topology as shown in the following picture is used.\n",
    "\n",
    "![NeuralFMU.svg](https://github.com/thummeto/FMIFlux.jl/blob/main/docs/src/examples/img/NeuralFMU.svg?raw=true)\n",
    "\n",
    "*NeuralFMU (ME) from* [[1]](#Source).\n",
    "\n",
    "## Introduction to the example\n",
    "In this example, simplified modeling of a one-dimensional spring pendulum (without friction) is compared to a model of the same system that includes a nonlinear friction model. The FMU with the simplified model will be named *simpleFMU* in the following and the model with the friction will be named *realFMU*. At the beginning, the actual state of both simulations is shown, whereby clear deviations can be seen in the graphs. The *realFMU* serves as a reference graph. The *simpleFMU* is then integrated into a NeuralFMU architecture and a training of the entire network is performed. After the training the final state is compared again to the *realFMU*. It can be clearly seen that by using the NeuralFMU, learning of the friction process has taken place.  \n",
    "\n",
    "\n",
    "## Target group\n",
    "The example is primarily intended for users who work in the field of first principle and/or hybrid modeling and are further interested in hybrid model building. The example wants to show how simple it is to combine FMUs with machine learning and to illustrate the advantages of this approach.\n",
    "\n",
    "\n",
    "## Other formats\n",
    "Besides, this [Jupyter Notebook](https://github.com/thummeto/FMIFlux.jl/blob/examples/examples/src/advanced_hybrid_ME.ipynb) there is also a [Julia file](https://github.com/thummeto/FMIFlux.jl/blob/examples/examples/src/advanced_hybrid_ME.jl) with the same name, which contains only the code cells and for the documentation there is a [Markdown file](https://github.com/thummeto/FMIFlux.jl/blob/examples/examples/src/advanced_hybrid_ME.md) corresponding to the notebook.  \n",
    "\n",
    "\n",
    "## Getting started\n",
    "\n",
    "### Installation prerequisites\n",
    "|     | Description                       | Command                   | \n",
    "|:----|:----------------------------------|:--------------------------|\n",
    "| 1.  | Enter Package Manager via         | ]                         |\n",
    "| 2.  | Install FMI via                   | add FMI                   | \n",
    "| 3.  | Install FMIFlux via               | add FMIFlux               | \n",
    "| 4.  | Install FMIZoo via                | add FMIZoo                | \n",
    "| 5.  | Install DifferentialEquations via | add DifferentialEquations | \n",
    "| 6.  | Install Plots via                 | add Plots                 | \n",
    "| 7.  | Install Random via                | add Random                | "
   ]
  },
  {
   "cell_type": "markdown",
   "metadata": {},
   "source": [
    "## Code section\n",
    "\n",
    "To run the example, the previously installed packages must be included. "
   ]
  },
  {
   "cell_type": "code",
   "execution_count": null,
   "metadata": {
    "execution": {
     "iopub.execute_input": "2022-10-14T15:20:31.534000Z",
     "iopub.status.busy": "2022-10-14T15:20:31.534000Z",
     "iopub.status.idle": "2022-10-14T15:21:51.703000Z",
     "shell.execute_reply": "2022-10-14T15:21:51.703000Z"
    },
    "scrolled": false
   },
   "outputs": [],
   "source": [
    "# imports\n",
    "using FMI\n",
    "using FMI.FMIImport: fmi2StringToValueReference, fmi2ValueReference, fmi2Real\n",
    "using FMIFlux\n",
    "using FMIFlux.Flux\n",
    "using FMIZoo\n",
    "using DifferentialEquations: Tsit5\n",
    "using Statistics: mean, std\n",
    "import Plots\n",
    "\n",
    "# set seed\n",
    "import Random\n",
    "Random.seed!(1234);"
   ]
  },
  {
   "attachments": {},
   "cell_type": "markdown",
   "metadata": {},
   "source": [
    "After importing the packages, the path to the *Functional Mock-up Units* (FMUs) is set. The FMU is a model exported meeting the *Functional Mock-up Interface* (FMI) Standard. The FMI is a free standard ([fmi-standard.org](http://fmi-standard.org/)) that defines a container and an interface to exchange dynamic models using a combination of XML files, binaries and C code zipped into a single file. \n",
    "\n",
    "The object-orientated structure of the *SpringPendulum1D* (*simpleFMU*) can be seen in the following graphic and corresponds to a simple modeling.\n",
    "\n",
    "![svg](https://github.com/thummeto/FMIFlux.jl/blob/main/docs/src/examples/img/SpringPendulum1D.svg?raw=true)\n",
    "\n",
    "In contrast, the model *SpringFrictionPendulum1D* (*realFMU*) is somewhat more accurate, because it includes a friction component. \n",
    "\n",
    "![svg](https://github.com/thummeto/FMIFlux.jl/blob/main/docs/src/examples/img/SpringFrictionPendulum1D.svg?raw=true)"
   ]
  },
  {
   "cell_type": "markdown",
   "metadata": {},
   "source": [
    "Next, the start time and end time of the simulation are set. Finally, a step size is specified to store the results of the simulation at these time steps."
   ]
  },
  {
   "cell_type": "code",
   "execution_count": null,
   "metadata": {
    "execution": {
     "iopub.execute_input": "2022-10-14T15:21:58.429000Z",
     "iopub.status.busy": "2022-10-14T15:21:51.706000Z",
     "iopub.status.idle": "2022-10-14T15:22:06.288000Z",
     "shell.execute_reply": "2022-10-14T15:22:06.288000Z"
    },
    "scrolled": false
   },
   "outputs": [],
   "source": [
    "tStart = 0.0\n",
    "tStep = 0.1\n",
    "tStop = 5.0\n",
    "tSave = collect(tStart:tStep:tStop)"
   ]
  },
  {
   "cell_type": "markdown",
   "metadata": {},
   "source": [
    "### RealFMU\n",
    "\n",
    "In the next lines of code the FMU of the *realFMU* model from *FMIZoo.jl* is loaded and the information about the FMU is shown."
   ]
  },
  {
   "cell_type": "code",
   "execution_count": null,
   "metadata": {
    "execution": {
     "iopub.execute_input": "2022-10-14T15:22:06.330000Z",
     "iopub.status.busy": "2022-10-14T15:22:06.330000Z",
     "iopub.status.idle": "2022-10-14T15:22:11.884000Z",
     "shell.execute_reply": "2022-10-14T15:22:11.884000Z"
    },
    "scrolled": false
   },
   "outputs": [],
   "source": [
    "realFMU = fmiLoad(\"SpringFrictionPendulum1D\", \"Dymola\", \"2022x\")\n",
    "fmiInfo(realFMU)"
   ]
  },
  {
   "cell_type": "markdown",
   "metadata": {},
   "source": [
    "In the function fmiSimulate() the *realFMU* is simulated, still specifying the start and end time, the parameters and which variables are recorded. After the simulation is finished the result of the *realFMU* can be plotted. This plot also serves as a reference for the other model (*simpleFMU*)."
   ]
  },
  {
   "cell_type": "code",
   "execution_count": null,
   "metadata": {
    "execution": {
     "iopub.execute_input": "2022-10-14T15:22:11.888000Z",
     "iopub.status.busy": "2022-10-14T15:22:11.888000Z",
     "iopub.status.idle": "2022-10-14T15:24:01.505000Z",
     "shell.execute_reply": "2022-10-14T15:24:01.504000Z"
    },
    "scrolled": false
   },
   "outputs": [],
   "source": [
    "vrs = [\"mass.s\", \"mass.v\", \"mass.a\", \"mass.f\"]\n",
    "realSimData = fmiSimulate(realFMU, (tStart, tStop); recordValues=vrs, saveat=tSave)\n",
    "fmiPlot(realSimData)"
   ]
  },
  {
   "cell_type": "markdown",
   "metadata": {},
   "source": [
    "The data from the simulation of the *realFMU*, are divided into position and velocity data. These data will be needed later. "
   ]
  },
  {
   "cell_type": "code",
   "execution_count": null,
   "metadata": {
    "execution": {
     "iopub.execute_input": "2022-10-14T15:24:01.510000Z",
     "iopub.status.busy": "2022-10-14T15:24:01.509000Z",
     "iopub.status.idle": "2022-10-14T15:24:02.242000Z",
     "shell.execute_reply": "2022-10-14T15:24:02.242000Z"
    }
   },
   "outputs": [],
   "source": [
    "posReal = fmi2GetSolutionValue(realSimData, \"mass.s\")\n",
    "velReal = fmi2GetSolutionValue(realSimData, \"mass.v\")"
   ]
  },
  {
   "cell_type": "markdown",
   "metadata": {},
   "source": [
    "The FMU hase two states: The first state is the position of the mass and the second state is the velocity. The initial position of the mass is initilized with $0.5𝑚$. The initial velocity of the mass is initialized with $0\\frac{m}{s}$. "
   ]
  },
  {
   "cell_type": "code",
   "execution_count": null,
   "metadata": {
    "execution": {
     "iopub.execute_input": "2022-10-14T15:24:02.246000Z",
     "iopub.status.busy": "2022-10-14T15:24:02.246000Z",
     "iopub.status.idle": "2022-10-14T15:24:02.287000Z",
     "shell.execute_reply": "2022-10-14T15:24:02.287000Z"
    },
    "scrolled": false
   },
   "outputs": [],
   "source": [
    "x₀ = [posReal[1], velReal[1]]"
   ]
  },
  {
   "cell_type": "markdown",
   "metadata": {},
   "source": [
    "After extracting the data, the FMU is cleaned-up."
   ]
  },
  {
   "cell_type": "code",
   "execution_count": null,
   "metadata": {
    "execution": {
     "iopub.execute_input": "2022-10-14T15:24:02.291000Z",
     "iopub.status.busy": "2022-10-14T15:24:02.291000Z",
     "iopub.status.idle": "2022-10-14T15:24:02.329000Z",
     "shell.execute_reply": "2022-10-14T15:24:02.329000Z"
    }
   },
   "outputs": [],
   "source": [
    "fmiUnload(realFMU)"
   ]
  },
  {
   "cell_type": "markdown",
   "metadata": {},
   "source": [
    "### SimpleFMU\n",
    "\n",
    "The following lines load, simulate and plot the *simpleFMU* just like the *realFMU*. The differences between both systems can be clearly seen from the plots. In the plot for the *realFMU* it can be seen that the oscillation continues to decrease due to the effect of the friction. If you simulate long enough, the oscillation would come to a standstill in a certain time. The oscillation in the *simpleFMU* behaves differently, since the friction was not taken into account here. The oscillation in this model would continue to infinity with the same oscillation amplitude. From this observation the desire of an improvement of this model arises.     "
   ]
  },
  {
   "cell_type": "code",
   "execution_count": null,
   "metadata": {
    "execution": {
     "iopub.execute_input": "2022-10-14T15:24:02.332000Z",
     "iopub.status.busy": "2022-10-14T15:24:02.332000Z",
     "iopub.status.idle": "2022-10-14T15:24:02.535000Z",
     "shell.execute_reply": "2022-10-14T15:24:02.534000Z"
    },
    "scrolled": false
   },
   "outputs": [],
   "source": [
    "simpleFMU = fmiLoad(\"SpringPendulum1D\", \"Dymola\", \"2022x\")\n",
    "fmiInfo(simpleFMU)\n",
    "\n",
    "vrs = [\"mass.s\", \"mass.v\", \"mass.a\"]\n",
    "simpleSimData = fmiSimulate(simpleFMU, (tStart, tStop); recordValues=vrs, saveat=tSave)\n",
    "fmiPlot(simpleSimData)"
   ]
  },
  {
   "cell_type": "markdown",
   "metadata": {},
   "source": [
    "The data from the simulation of the *simpleFMU*, are divided into position and velocity data. These data will be needed later to plot the results. "
   ]
  },
  {
   "cell_type": "code",
   "execution_count": null,
   "metadata": {
    "execution": {
     "iopub.execute_input": "2022-10-14T15:24:02.539000Z",
     "iopub.status.busy": "2022-10-14T15:24:02.538000Z",
     "iopub.status.idle": "2022-10-14T15:24:02.593000Z",
     "shell.execute_reply": "2022-10-14T15:24:02.592000Z"
    },
    "scrolled": false
   },
   "outputs": [],
   "source": [
    "posSimple = fmi2GetSolutionValue(simpleSimData, \"mass.s\")\n",
    "velSimple = fmi2GetSolutionValue(simpleSimData, \"mass.v\")"
   ]
  },
  {
   "attachments": {},
   "cell_type": "markdown",
   "metadata": {},
   "source": [
    "## NeuralFMU\n",
    "\n",
    "#### Loss function with growing horizon\n",
    "\n",
    "In order to train our model, a loss function must be implemented. The solver of the NeuralFMU can calculate the gradient of the loss function. The gradient descent is needed to adjust the weights in the neural network so that the sum of the error is reduced and the model becomes more accurate.\n",
    "\n",
    "The loss function in this implementation consists of the mean squared error (mse) from the real position of the *realFMU* simulation (posReal) and the position data of the network (posNet).\n",
    "$$ e_{mse} = \\frac{1}{n} \\sum\\limits_{i=0}^n (posReal[i] - posNet[i])^2 $$\n",
    "A growing horizon is applied, whereby the horizon only goes over the first five values. For this horizon the mse is calculated."
   ]
  },
  {
   "cell_type": "code",
   "execution_count": null,
   "metadata": {
    "execution": {
     "iopub.execute_input": "2022-10-14T15:24:02.596000Z",
     "iopub.status.busy": "2022-10-14T15:24:02.596000Z",
     "iopub.status.idle": "2022-10-14T15:24:04.131000Z",
     "shell.execute_reply": "2022-10-14T15:24:04.131000Z"
    },
    "scrolled": false
   },
   "outputs": [],
   "source": [
    "# loss function for training\n",
    "global horizon = 5\n",
    "function lossSum(p)\n",
    "    global posReal, neuralFMU, horizon\n",
    "    solution = neuralFMU(x₀; p=p)\n",
    "\n",
    "    posNet = fmi2GetSolutionState(solution, 1; isIndex=true)\n",
    "    \n",
    "    horizon = min(length(posNet), horizon)\n",
    "\n",
    "    FMIFlux.Losses.mse(posReal[1:horizon], posNet[1:horizon])\n",
    "end"
   ]
  },
  {
   "cell_type": "markdown",
   "metadata": {},
   "source": [
    "#### Function for plotting\n",
    "\n",
    "In this section the function for plotting is defined. The function `plotResults()` creates a new figure object. In dieses figure objekt werden dann die aktuellsten Ergebnisse von *realFMU*, *simpleFMU* und *neuralFMU* gegenübergestellt. \n",
    "\n",
    "To output the loss in certain time intervals, a callback is implemented as a function in the following. Here a counter is incremented, every twentieth pass the loss function is called and the average error is printed out."
   ]
  },
  {
   "cell_type": "code",
   "execution_count": null,
   "metadata": {
    "execution": {
     "iopub.execute_input": "2022-10-14T15:24:04.135000Z",
     "iopub.status.busy": "2022-10-14T15:24:04.135000Z",
     "iopub.status.idle": "2022-10-14T15:24:04.240000Z",
     "shell.execute_reply": "2022-10-14T15:24:04.240000Z"
    }
   },
   "outputs": [],
   "source": [
    "function plotResults()\n",
    "    global neuralFMU\n",
    "    solution = neuralFMU(x₀)\n",
    "\n",
    "    posNeural = fmi2GetSolutionState(solution, 1; isIndex=true)\n",
    "    time = fmi2GetSolutionTime(solution)\n",
    "    \n",
    "    fig = Plots.plot(xlabel=\"t [s]\", ylabel=\"mass position [m]\", linewidth=2,\n",
    "                     xtickfontsize=12, ytickfontsize=12,\n",
    "                     xguidefontsize=12, yguidefontsize=12,\n",
    "                     legendfontsize=8, legend=:topright)\n",
    "    \n",
    "    Plots.plot!(fig, tSave, posSimple, label=\"SimpleFMU\", linewidth=2)\n",
    "    Plots.plot!(fig, tSave, posReal, label=\"RealFMU\", linewidth=2)\n",
    "    Plots.plot!(fig, time, posNeural, label=\"NeuralFMU\", linewidth=2)\n",
    "    fig\n",
    "end"
   ]
  },
  {
   "cell_type": "markdown",
   "metadata": {},
   "source": [
    "#### Callback\n",
    "\n",
    "To output the loss in certain time intervals, a callback is implemented as a function in the following. Here a counter is incremented, every twentieth pass the loss function is called and the average error is printed out.  As soon as a limit value (in this example `0.1`) is undershot, the horizon is extended by the next two values."
   ]
  },
  {
   "cell_type": "code",
   "execution_count": null,
   "metadata": {
    "execution": {
     "iopub.execute_input": "2022-10-14T15:24:04.244000Z",
     "iopub.status.busy": "2022-10-14T15:24:04.244000Z",
     "iopub.status.idle": "2022-10-14T15:24:04.416000Z",
     "shell.execute_reply": "2022-10-14T15:24:04.416000Z"
    },
    "scrolled": false
   },
   "outputs": [],
   "source": [
    "# callback function for training\n",
    "global counter = 0\n",
    "function callb(p)\n",
    "    global counter, horizon \n",
    "    counter += 1\n",
    "   \n",
    "    if counter % 20 == 1\n",
    "        avgLoss = lossSum(p[1])\n",
    "        @info \"   Loss [$counter] for horizon $horizon : $(round(avgLoss, digits=5))   \n",
    "        Avg displacement in data: $(round(sqrt(avgLoss), digits=5))\"\n",
    "        \n",
    "        if avgLoss <= 0.01\n",
    "            horizon += 2\n",
    "        end\n",
    "   \n",
    "        # fig = plotResults()\n",
    "        # println(\"Figure update.\")\n",
    "        # display(fig)\n",
    "    end\n",
    "end\n"
   ]
  },
  {
   "cell_type": "markdown",
   "metadata": {},
   "source": [
    "#### Pre- and Postprocessing\n",
    "\n",
    "In the following functions for pre-processing and post-processing are defined. The function `preProc` is normalized the input values to mean of zero and a standard deviation of one. "
   ]
  },
  {
   "cell_type": "code",
   "execution_count": null,
   "metadata": {
    "execution": {
     "iopub.execute_input": "2022-10-14T15:24:04.420000Z",
     "iopub.status.busy": "2022-10-14T15:24:04.420000Z",
     "iopub.status.idle": "2022-10-14T15:24:04.523000Z",
     "shell.execute_reply": "2022-10-14T15:24:04.523000Z"
    }
   },
   "outputs": [],
   "source": [
    "global meanVal = 0.0\n",
    "global stdVal = 0.0\n",
    "\n",
    "function preProc!(data)\n",
    "    global meanVal, stdVal\n",
    "\n",
    "    meanVal = mean(data)\n",
    "    stdVal = std(data)\n",
    "    \n",
    "    (data .- meanVal) ./ stdVal    \n",
    "end "
   ]
  },
  {
   "cell_type": "markdown",
   "metadata": {},
   "source": [
    "For post-processing, the previous normalization is undone by applying the calculation steps in reverse order."
   ]
  },
  {
   "cell_type": "code",
   "execution_count": null,
   "metadata": {
    "execution": {
     "iopub.execute_input": "2022-10-14T15:24:04.527000Z",
     "iopub.status.busy": "2022-10-14T15:24:04.527000Z",
     "iopub.status.idle": "2022-10-14T15:24:04.628000Z",
     "shell.execute_reply": "2022-10-14T15:24:04.628000Z"
    }
   },
   "outputs": [],
   "source": [
    "function postProc!(data)\n",
    "    global meanVal, stdVal\n",
    "    \n",
    "    (data .* stdVal) .+ meanVal\n",
    "end "
   ]
  },
  {
   "cell_type": "markdown",
   "metadata": {},
   "source": [
    "#### Structure of the NeuralFMU\n",
    "\n",
    "In the following, the topology of the NeuralFMU is constructed. It consists of an input layer, which then leads into the *simpleFMU* model. The ME-FMU computes the state derivatives for a given system state. Following the *simpleFMU* is a dense layer that has exactly as many inputs as the model has states (and therefore state derivatives). The output of this layer consists of 16 output nodes and a *tanh* activation function. The next layer has 16 input and output nodes with the same activation function. The last layer is again a dense layer with 16 input nodes and the number of states as outputs. Here, it is important that no *tanh*-activation function follows, because otherwise the pendulums state values would be limited to the interval $[-1;1]$."
   ]
  },
  {
   "cell_type": "code",
   "execution_count": null,
   "metadata": {
    "execution": {
     "iopub.execute_input": "2022-10-14T15:24:04.632000Z",
     "iopub.status.busy": "2022-10-14T15:24:04.632000Z",
     "iopub.status.idle": "2022-10-14T15:24:11.624000Z",
     "shell.execute_reply": "2022-10-14T15:24:11.624000Z"
    },
    "scrolled": false
   },
   "outputs": [],
   "source": [
    "# NeuralFMU setup\n",
    "numStates = fmiGetNumberOfStates(simpleFMU)\n",
    "additionalVRs = [fmi2StringToValueReference(simpleFMU, \"mass.m\")]\n",
    "numAdditionalVRs = length(additionalVRs)\n",
    "\n",
    "net = Chain(\n",
    "    x -> simpleFMU(x=x, y_refs=additionalVRs),\n",
    "    preProc!,\n",
    "    Dense(numStates+numAdditionalVRs, 16, tanh),\n",
    "    postProc!,\n",
    "    preProc!,\n",
    "    Dense(16, 16, tanh),\n",
    "    postProc!,\n",
    "    preProc!,\n",
    "    Dense(16, numStates),\n",
    "    postProc!,\n",
    ")"
   ]
  },
  {
   "cell_type": "markdown",
   "metadata": {},
   "source": [
    "#### Definition of the NeuralFMU\n",
    "\n",
    "The instantiation of the ME-NeuralFMU is done as a one-liner. The FMU (*simpleFMU*), the structure of the network `net`, start `tStart` and end time `tStop`, the numerical solver `Tsit5()` and the time steps `tSave` for saving are specified."
   ]
  },
  {
   "cell_type": "code",
   "execution_count": null,
   "metadata": {
    "execution": {
     "iopub.execute_input": "2022-10-14T15:24:11.628000Z",
     "iopub.status.busy": "2022-10-14T15:24:11.628000Z",
     "iopub.status.idle": "2022-10-14T15:24:13.173000Z",
     "shell.execute_reply": "2022-10-14T15:24:13.173000Z"
    },
    "scrolled": false
   },
   "outputs": [],
   "source": [
    "neuralFMU = ME_NeuralFMU(simpleFMU, net, (tStart, tStop), Tsit5(); saveat=tSave);"
   ]
  },
  {
   "cell_type": "markdown",
   "metadata": {},
   "source": [
    "#### Plot before training\n",
    "\n",
    "Here the state trajectory of the *simpleFMU* is recorded. Doesn't really look like a pendulum yet, but the system is random initialized by default. In the plots later on, the effect of learning can be seen."
   ]
  },
  {
   "cell_type": "code",
   "execution_count": null,
   "metadata": {
    "execution": {
     "iopub.execute_input": "2022-10-14T15:24:13.177000Z",
     "iopub.status.busy": "2022-10-14T15:24:13.177000Z",
     "iopub.status.idle": "2022-10-14T15:24:50.220000Z",
     "shell.execute_reply": "2022-10-14T15:24:50.220000Z"
    },
    "scrolled": false
   },
   "outputs": [],
   "source": [
    "solutionBefore = neuralFMU(x₀)\n",
    "fmiPlot(solutionBefore)"
   ]
  },
  {
   "attachments": {},
   "cell_type": "markdown",
   "metadata": {},
   "source": [
    "#### Training of the NeuralFMU\n",
    "\n",
    "For the training of the NeuralFMU the parameters are extracted. The known Adam optimizer for minimizing the gradient descent is used as further passing parameters. In addition, the previously defined loss and callback function, as well as the number of epochs are passed."
   ]
  },
  {
   "cell_type": "code",
   "execution_count": null,
   "metadata": {
    "execution": {
     "iopub.execute_input": "2022-10-14T15:24:50.225000Z",
     "iopub.status.busy": "2022-10-14T15:24:50.225000Z",
     "iopub.status.idle": "2022-10-14T15:29:56.341000Z",
     "shell.execute_reply": "2022-10-14T15:29:56.341000Z"
    },
    "scrolled": false
   },
   "outputs": [],
   "source": [
    "# train\n",
    "paramsNet = FMIFlux.params(neuralFMU)\n",
    "\n",
    "optim = Adam()\n",
    "FMIFlux.train!(lossSum, paramsNet, Iterators.repeated((), 1000), optim; cb=()->callb(paramsNet)) "
   ]
  },
  {
   "cell_type": "markdown",
   "metadata": {},
   "source": [
    "#### Comparison of the plots\n",
    "\n",
    "Here three plots are compared with each other and only the position of the mass is considered. The first plot represents the *simpleFMU*, the second represents the *realFMU* (reference) and the third plot represents the result after training the NeuralFMU. "
   ]
  },
  {
   "cell_type": "code",
   "execution_count": null,
   "metadata": {
    "execution": {
     "iopub.execute_input": "2022-10-14T15:29:56.344000Z",
     "iopub.status.busy": "2022-10-14T15:29:56.344000Z",
     "iopub.status.idle": "2022-10-14T15:29:56.646000Z",
     "shell.execute_reply": "2022-10-14T15:29:56.646000Z"
    },
    "scrolled": false
   },
   "outputs": [],
   "source": [
    "# plot results mass.s\n",
    "plotResults()"
   ]
  },
  {
   "cell_type": "markdown",
   "metadata": {
    "nteract": {
     "transient": {
      "deleting": false
     }
    }
   },
   "source": [
    "Finally, the FMU is cleaned-up."
   ]
  },
  {
   "cell_type": "code",
   "execution_count": null,
   "metadata": {
    "execution": {
     "iopub.execute_input": "2022-10-14T15:29:56.651000Z",
     "iopub.status.busy": "2022-10-14T15:29:56.651000Z",
     "iopub.status.idle": "2022-10-14T15:29:56.657000Z",
     "shell.execute_reply": "2022-10-14T15:29:56.657000Z"
    },
    "scrolled": false
   },
   "outputs": [],
   "source": [
    "fmiUnload(simpleFMU)"
   ]
  },
  {
   "attachments": {},
   "cell_type": "markdown",
   "metadata": {},
   "source": [
    "### Summary\n",
    "\n",
    "Based on the plots, it can be seen that the NeuralFMU is able to adapt the friction model of the *realFMU*. After 1000 training steps, the curves already overlap quite well, but this can be further improved by longer training or a better initialization."
   ]
  },
  {
   "cell_type": "markdown",
   "metadata": {},
   "source": [
    "### Source\n",
    "\n",
    "[1] Tobias Thummerer, Lars Mikelsons and Josef Kircher. 2021. **NeuralFMU: towards structural integration of FMUs into neural networks.** Martin Sjölund, Lena Buffoni, Adrian Pop and Lennart Ochel (Ed.). Proceedings of 14th Modelica Conference 2021, Linköping, Sweden, September 20-24, 2021. Linköping University Electronic Press, Linköping (Linköping Electronic Conference Proceedings ; 181), 297-306. [DOI: 10.3384/ecp21181297](https://doi.org/10.3384/ecp21181297)\n"
   ]
  }
 ],
 "metadata": {
  "interpreter": {
   "hash": "037537ff7419c497b9325f7d495147943224d408cf5d5ed915294a5b960167b0"
  },
  "jupytext": {
   "cell_metadata_filter": "-all",
   "comment_magics": "false",
   "notebook_metadata_filter": "-all"
  },
  "kernelspec": {
   "display_name": "Julia 1.8.5",
   "language": "julia",
   "name": "julia-1.8"
  },
  "language_info": {
   "file_extension": ".jl",
   "mimetype": "application/julia",
   "name": "julia",
   "version": "1.8.5"
  },
  "nteract": {
   "version": "0.28.0"
  }
 },
 "nbformat": 4,
 "nbformat_minor": 2
}
