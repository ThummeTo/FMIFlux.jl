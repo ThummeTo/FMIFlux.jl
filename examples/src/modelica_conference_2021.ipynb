{
 "cells": [
  {
   "attachments": {},
   "cell_type": "markdown",
   "metadata": {},
   "source": [
    "# ME-NeuralFMU from the Modelica Conference 2021\n",
    "Tutorial by Johannes Stoljar, Tobias Thummerer\n",
    "\n",
    "*Last edit: 29.03.2023*\n",
    "\n",
    "## License"
   ]
  },
  {
   "cell_type": "code",
   "execution_count": null,
   "metadata": {
    "execution": {
     "iopub.execute_input": "2022-10-14T15:30:08.475000Z",
     "iopub.status.busy": "2022-10-14T15:30:07.808000Z",
     "iopub.status.idle": "2022-10-14T15:30:08.737000Z",
     "shell.execute_reply": "2022-10-14T15:30:08.667000Z"
    }
   },
   "outputs": [],
   "source": [
    "# Copyright (c) 2021 Tobias Thummerer, Lars Mikelsons, Johannes Stoljar\n",
    "# Licensed under the MIT license. \n",
    "# See LICENSE (https://github.com/thummeto/FMIFlux.jl/blob/main/LICENSE) file in the project root for details."
   ]
  },
  {
   "attachments": {},
   "cell_type": "markdown",
   "metadata": {},
   "source": [
    "## Motivation\n",
    "The Julia Package *FMIFlux.jl* is motivated by the application of hybrid modeling. This package enables the user to integrate his simulation model between neural networks (NeuralFMU). For this, the simulation model must be exported as FMU (functional mock-up unit), which corresponds to a widely used standard. The big advantage of hybrid modeling with artificial neural networks is, that the effects that are difficult to model (because they might be unknown) can be easily learned by the neural networks. For this purpose, the NeuralFMU is trained with measurement data containing the not modeled physical effect. The final product is a simulation model including the originally not modeled effects. Another big advantage of the NeuralFMU is that it works with little data, because the FMU already contains the characteristic functionality of the simulation and only the missing effects are added.\n",
    "\n",
    "NeuralFMUs do not need to be as easy as in this example. Basically a NeuralFMU can combine different ANN topologies that manipulate any FMU-input (system state, system inputs, time) and any FMU-output (system state derivative, system outputs, other system variables). However, for this example a NeuralFMU topology as shown in the following picture is used.\n",
    "\n",
    "![NeuralFMU.svg](https://github.com/thummeto/FMIFlux.jl/blob/main/docs/src/examples/img/NeuralFMU.svg?raw=true)\n",
    "\n",
    "*NeuralFMU (ME) from* [[1]](#Source).\n",
    "\n",
    "## Introduction to the example\n",
    "In this example, simplified modeling of a one-dimensional spring pendulum (without friction) is compared to a model of the same system that includes a nonlinear friction model. The FMU with the simplified model will be named *simpleFMU* in the following and the model with the friction will be named *realFMU*. At the beginning, the actual state of both simulations is shown, whereby clear deviations can be seen in the graphs. In addition, the initial states are changed for both models and these graphs are also contrasted, and the differences can again be clearly seen. The *realFMU* serves as a reference graph. The *simpleFMU* is then integrated into a NeuralFMU architecture and a training of the entire network is performed. After the training the final state is compared again to the *realFMU*. It can be clearly seen that by using the NeuralFMU, learning of the friction process has taken place.  \n",
    "\n",
    "\n",
    "## Target group\n",
    "The example is primarily intended for users who work in the field of first principle and/or hybrid modeling and are further interested in hybrid model building. The example wants to show how simple it is to combine FMUs with machine learning and to illustrate the advantages of this approach.\n",
    "\n",
    "\n",
    "## Other formats\n",
    "Besides, this [Jupyter Notebook](https://github.com/thummeto/FMIFlux.jl/blob/examples/examples/src/modelica_conference_2021.ipynb) there is also a [Julia file](https://github.com/thummeto/FMIFlux.jl/blob/examples/examples/src/modelica_conference_2021.jl) with the same name, which contains only the code cells. For the documentation there is a [Markdown file](https://github.com/thummeto/FMIFlux.jl/blob/examples/examples/src/modelica_conference_2021.md) corresponding to the notebook.  \n",
    "\n",
    "\n",
    "## Getting started\n",
    "\n",
    "### Installation prerequisites\n",
    "|     | Description                       | Command                   |   \n",
    "|:----|:----------------------------------|:--------------------------|\n",
    "| 1.  | Enter Package Manager via         | ]                         |\n",
    "| 2.  | Install FMI via                   | add FMI                   | \n",
    "| 3.  | Install FMIFlux via               | add FMIFlux               | \n",
    "| 4.  | Install FMIZoo via                | add FMIZoo                | \n",
    "| 5.  | Install DifferentialEquations via | add DifferentialEquations |  \n",
    "| 6.  | Install Plots via                 | add Plots                 | \n",
    "| 7.  | Install Random via                | add Random                | "
   ]
  },
  {
   "cell_type": "markdown",
   "metadata": {},
   "source": [
    "## Code section\n",
    "\n",
    "To run the example, the previously installed packages must be included. "
   ]
  },
  {
   "cell_type": "code",
   "execution_count": null,
   "metadata": {
    "execution": {
     "iopub.execute_input": "2022-10-14T15:30:08.740000Z",
     "iopub.status.busy": "2022-10-14T15:30:08.740000Z",
     "iopub.status.idle": "2022-10-14T15:31:29.492000Z",
     "shell.execute_reply": "2022-10-14T15:31:29.492000Z"
    },
    "scrolled": false
   },
   "outputs": [],
   "source": [
    "# imports\n",
    "using FMI\n",
    "using FMIFlux\n",
    "using FMIFlux.Flux\n",
    "using FMIZoo\n",
    "using DifferentialEquations: Tsit5\n",
    "import Plots\n",
    "\n",
    "# set seed\n",
    "import Random\n",
    "Random.seed!(1234);"
   ]
  },
  {
   "attachments": {},
   "cell_type": "markdown",
   "metadata": {},
   "source": [
    "After importing the packages, the path to the *Functional Mock-up Units* (FMUs) is set. The exported FMU is a model meeting the *Functional Mock-up Interface* (FMI) Standard. The FMI is a free standard ([fmi-standard.org](http://fmi-standard.org/)) that defines a container and an interface to exchange dynamic models using a combination of XML files, binaries and C code zipped into a single file. \n",
    "\n",
    "The object-orientated structure of the *SpringPendulum1D* (*simpleFMU*) can be seen in the following graphic and corresponds to a simple modeling.\n",
    "\n",
    "![svg](https://github.com/thummeto/FMIFlux.jl/blob/main/docs/src/examples/img/SpringPendulum1D.svg?raw=true)\n",
    "\n",
    "In contrast, the model *SpringFrictionPendulum1D* (*realFMU*) is somewhat more accurate, because it includes a friction component. \n",
    "\n",
    "![svg](https://github.com/thummeto/FMIFlux.jl/blob/main/docs/src/examples/img/SpringFrictionPendulum1D.svg?raw=true)"
   ]
  },
  {
   "cell_type": "markdown",
   "metadata": {},
   "source": [
    "Next, the start time and end time of the simulation are set. Finally, a step size is specified to store the results of the simulation at these time steps."
   ]
  },
  {
   "cell_type": "code",
   "execution_count": null,
   "metadata": {
    "execution": {
     "iopub.execute_input": "2022-10-14T15:31:36.296000Z",
     "iopub.status.busy": "2022-10-14T15:31:29.495000Z",
     "iopub.status.idle": "2022-10-14T15:31:44.274000Z",
     "shell.execute_reply": "2022-10-14T15:31:44.273000Z"
    },
    "scrolled": false
   },
   "outputs": [],
   "source": [
    "tStart = 0.0\n",
    "tStep = 0.01\n",
    "tStop = 4.0\n",
    "tSave = collect(tStart:tStep:tStop)"
   ]
  },
  {
   "cell_type": "markdown",
   "metadata": {},
   "source": [
    "### RealFMU\n",
    "\n",
    "In the next lines of code the FMU of the *realFMU* model from *FMIZoo.jl* is loaded and the information about the FMU is shown.  "
   ]
  },
  {
   "cell_type": "code",
   "execution_count": null,
   "metadata": {
    "execution": {
     "iopub.execute_input": "2022-10-14T15:31:44.278000Z",
     "iopub.status.busy": "2022-10-14T15:31:44.278000Z",
     "iopub.status.idle": "2022-10-14T15:31:49.421000Z",
     "shell.execute_reply": "2022-10-14T15:31:49.421000Z"
    },
    "scrolled": false
   },
   "outputs": [],
   "source": [
    "realFMU = fmiLoad(\"SpringFrictionPendulum1D\", \"Dymola\", \"2022x\")\n",
    "fmiInfo(realFMU)"
   ]
  },
  {
   "cell_type": "markdown",
   "metadata": {},
   "source": [
    "In the following two subsections, the *realFMU* is simulated twice with different initial states to show what effect the choice of initial states has."
   ]
  },
  {
   "cell_type": "markdown",
   "metadata": {},
   "source": [
    "#### Default initial states\n",
    "\n",
    "In the next steps the parameters are defined. The first parameter is the initial position of the mass, which is initialized with $0.5m$, the second parameter is the initial velocity, which is initialized with $0\\frac{m}{s}$. In the function `fmiSimulate()` the *realFMU* is simulated, still specifying the start and end time, the parameters and which variables are recorded. After the simulation is finished the result of the *realFMU* can be plotted. This plot also serves as a reference for the other model (*simpleFMU*). The extracted data will still be needed later on."
   ]
  },
  {
   "cell_type": "code",
   "execution_count": null,
   "metadata": {
    "execution": {
     "iopub.execute_input": "2022-10-14T15:31:49.425000Z",
     "iopub.status.busy": "2022-10-14T15:31:49.424000Z",
     "iopub.status.idle": "2022-10-14T15:33:45.488000Z",
     "shell.execute_reply": "2022-10-14T15:33:45.488000Z"
    },
    "scrolled": false
   },
   "outputs": [],
   "source": [
    "initStates = [\"s0\", \"v0\"]\n",
    "x₀ = [0.5, 0.0]\n",
    "params = Dict(zip(initStates, x₀))\n",
    "vrs = [\"mass.s\", \"mass.v\", \"mass.a\", \"mass.f\"]\n",
    "\n",
    "realSimData = fmiSimulate(realFMU, (tStart, tStop); parameters=params, recordValues=vrs, saveat=tSave)\n",
    "posReal = fmi2GetSolutionValue(realSimData, \"mass.s\")\n",
    "velReal = fmi2GetSolutionValue(realSimData, \"mass.v\")\n",
    "fmiPlot(realSimData)"
   ]
  },
  {
   "cell_type": "markdown",
   "metadata": {},
   "source": [
    "#### Define functions\n",
    "\n",
    "The structure of the previous code section is used more often in the further sections, so for clarity the previously explained code section for setting the paramters and simulating are combined into one function `simulate()`."
   ]
  },
  {
   "cell_type": "code",
   "execution_count": null,
   "metadata": {
    "execution": {
     "iopub.execute_input": "2022-10-14T15:33:45.494000Z",
     "iopub.status.busy": "2022-10-14T15:33:45.494000Z",
     "iopub.status.idle": "2022-10-14T15:33:47.082000Z",
     "shell.execute_reply": "2022-10-14T15:33:47.082000Z"
    }
   },
   "outputs": [],
   "source": [
    "function simulate(FMU, initStates, x₀, variables, tStart, tStop, tSave)\n",
    "    params = Dict(zip(initStates, x₀))\n",
    "    return fmiSimulate(FMU, (tStart, tStop); parameters=params, recordValues=variables, saveat=tSave)\n",
    "end"
   ]
  },
  {
   "cell_type": "markdown",
   "metadata": {},
   "source": [
    "Also, a function to extract the position and velocity from the simulation data is created."
   ]
  },
  {
   "cell_type": "code",
   "execution_count": null,
   "metadata": {
    "execution": {
     "iopub.execute_input": "2022-10-14T15:33:47.086000Z",
     "iopub.status.busy": "2022-10-14T15:33:47.086000Z",
     "iopub.status.idle": "2022-10-14T15:33:47.186000Z",
     "shell.execute_reply": "2022-10-14T15:33:47.185000Z"
    }
   },
   "outputs": [],
   "source": [
    "function extractPosVel(simData)\n",
    "    if simData.states === nothing\n",
    "        posData = fmi2GetSolutionValue(simData, \"mass.s\")\n",
    "        velData = fmi2GetSolutionValue(simData, \"mass.v\")\n",
    "    else\n",
    "        posData = fmi2GetSolutionState(simData, 1; isIndex=true)\n",
    "        velData = fmi2GetSolutionState(simData, 2; isIndex=true)\n",
    "    end\n",
    "\n",
    "    return posData, velData\n",
    "end"
   ]
  },
  {
   "cell_type": "markdown",
   "metadata": {},
   "source": [
    "#### Modified initial states\n",
    "\n",
    "In contrast to the previous section, other initial states are selected. The position of the mass is initialized with $1.0m$ and the velocity is initialized with $-1.5\\frac{m}{s}$. With the modified initial states the *realFMU* is simulated and a graph is generated."
   ]
  },
  {
   "cell_type": "code",
   "execution_count": null,
   "metadata": {
    "execution": {
     "iopub.execute_input": "2022-10-14T15:33:47.190000Z",
     "iopub.status.busy": "2022-10-14T15:33:47.189000Z",
     "iopub.status.idle": "2022-10-14T15:33:47.222000Z",
     "shell.execute_reply": "2022-10-14T15:33:47.222000Z"
    }
   },
   "outputs": [],
   "source": [
    "xMod₀ = [1.0, -1.5]\n",
    "realSimDataMod = simulate(realFMU, initStates, xMod₀, vrs, tStart, tStop, tSave)\n",
    "fmiPlot(realSimDataMod)"
   ]
  },
  {
   "cell_type": "markdown",
   "metadata": {},
   "source": [
    " After the plots are created, the FMU is unloaded."
   ]
  },
  {
   "cell_type": "code",
   "execution_count": null,
   "metadata": {
    "execution": {
     "iopub.execute_input": "2022-10-14T15:33:47.228000Z",
     "iopub.status.busy": "2022-10-14T15:33:47.227000Z",
     "iopub.status.idle": "2022-10-14T15:33:47.265000Z",
     "shell.execute_reply": "2022-10-14T15:33:47.265000Z"
    },
    "scrolled": false
   },
   "outputs": [],
   "source": [
    "fmiUnload(realFMU)"
   ]
  },
  {
   "cell_type": "markdown",
   "metadata": {},
   "source": [
    "### SimpleFMU\n",
    "\n",
    "The following lines load the *simpleFMU* from *FMIZoo.jl*. "
   ]
  },
  {
   "cell_type": "code",
   "execution_count": null,
   "metadata": {
    "execution": {
     "iopub.execute_input": "2022-10-14T15:33:47.268000Z",
     "iopub.status.busy": "2022-10-14T15:33:47.268000Z",
     "iopub.status.idle": "2022-10-14T15:33:47.385000Z",
     "shell.execute_reply": "2022-10-14T15:33:47.385000Z"
    },
    "scrolled": false
   },
   "outputs": [],
   "source": [
    "simpleFMU = fmiLoad(\"SpringPendulum1D\", \"Dymola\", \"2022x\")\n",
    "fmiInfo(simpleFMU)"
   ]
  },
  {
   "cell_type": "markdown",
   "metadata": {},
   "source": [
    "The differences between both systems can be clearly seen from the plots in the subchapters. In the plot for the *realFMU* it can be seen that the oscillation continues to decrease due to the effect of the friction. If you simulate long enough, the oscillation would come to a standstill in a certain time. The oscillation in the *simpleFMU* behaves differently, since the friction was not taken into account here. The oscillation in this model would continue to infinity with the same oscillation amplitude. From this observation the desire of an improvement of this model arises.     \n",
    "\n",
    "\n",
    "In the following two subsections, the *simpleFMU* is simulated twice with different initial states to show what effect the choice of initial states has."
   ]
  },
  {
   "cell_type": "markdown",
   "metadata": {},
   "source": [
    "#### Default initial states\n",
    "\n",
    "Similar to the simulation of the *realFMU*, the *simpleFMU* is also simulated with the default values for the position and velocity of the mass and then plotted. There is one difference, however, as another state representing a fixed displacement is set. In addition, the last variable is also removed from the variables to be plotted."
   ]
  },
  {
   "cell_type": "code",
   "execution_count": null,
   "metadata": {
    "execution": {
     "iopub.execute_input": "2022-10-14T15:33:47.390000Z",
     "iopub.status.busy": "2022-10-14T15:33:47.390000Z",
     "iopub.status.idle": "2022-10-14T15:33:47.540000Z",
     "shell.execute_reply": "2022-10-14T15:33:47.540000Z"
    },
    "scrolled": false
   },
   "outputs": [],
   "source": [
    "initStates = [\"mass_s0\", \"mass_v0\", \"fixed.s0\"]\n",
    "displacement = 0.1\n",
    "xSimple₀ = vcat(x₀, displacement)\n",
    "vrs = vrs[1:end-1]\n",
    "\n",
    "simpleSimData = simulate(simpleFMU, initStates, xSimple₀, vrs, tStart, tStop, tSave)\n",
    "fmiPlot(simpleSimData)"
   ]
  },
  {
   "cell_type": "markdown",
   "metadata": {},
   "source": [
    "#### Modified initial states\n",
    "\n",
    "The same values for the initial states are used for this simulation as for the simulation from the *realFMU* with the modified initial states."
   ]
  },
  {
   "cell_type": "code",
   "execution_count": null,
   "metadata": {
    "execution": {
     "iopub.execute_input": "2022-10-14T15:33:47.545000Z",
     "iopub.status.busy": "2022-10-14T15:33:47.545000Z",
     "iopub.status.idle": "2022-10-14T15:33:47.563000Z",
     "shell.execute_reply": "2022-10-14T15:33:47.563000Z"
    }
   },
   "outputs": [],
   "source": [
    "xSimpleMod₀ = vcat(xMod₀, displacement)\n",
    "\n",
    "simpleSimDataMod = simulate(simpleFMU, initStates, xSimpleMod₀, vrs, tStart, tStop, tSave)\n",
    "fmiPlot(simpleSimDataMod)"
   ]
  },
  {
   "attachments": {},
   "cell_type": "markdown",
   "metadata": {},
   "source": [
    "## NeuralFMU\n",
    "\n",
    "#### Loss function\n",
    "\n",
    "In order to train our model, a loss function must be implemented. The solver of the NeuralFMU can calculate the gradient of the loss function. The gradient descent is needed to adjust the weights in the neural network so that the sum of the error is reduced and the model becomes more accurate.\n",
    "\n",
    "The error function in this implementation consists of the mean of the mean squared errors. The first part of the addition is the deviation of the position and the second part is the deviation of the velocity. The mean squared error (mse) for the position consists from the real position of the *realFMU* simulation (posReal) and the position data of the network (posNet). The mean squared error for the velocity consists of the real velocity of the *realFMU* simulation (velReal) and the velocity data of the network (velNet).\n",
    "$$ e_{loss} = \\frac{1}{2} \\Bigl[ \\frac{1}{n} \\sum\\limits_{i=0}^n (posReal[i] - posNet[i])^2 + \\frac{1}{n} \\sum\\limits_{i=0}^n (velReal[i] - velNet[i])^2 \\Bigr]$$"
   ]
  },
  {
   "cell_type": "code",
   "execution_count": null,
   "metadata": {
    "execution": {
     "iopub.execute_input": "2022-10-14T15:33:47.568000Z",
     "iopub.status.busy": "2022-10-14T15:33:47.568000Z",
     "iopub.status.idle": "2022-10-14T15:33:47.669000Z",
     "shell.execute_reply": "2022-10-14T15:33:47.668000Z"
    },
    "scrolled": false
   },
   "outputs": [],
   "source": [
    "# loss function for training\n",
    "function lossSum(p)\n",
    "    global x₀\n",
    "    solution = neuralFMU(x₀; p=p)\n",
    "\n",
    "    posNet, velNet = extractPosVel(solution)\n",
    "\n",
    "    (FMIFlux.Losses.mse(posReal, posNet) + FMIFlux.Losses.mse(velReal, velNet)) / 2.0\n",
    "end"
   ]
  },
  {
   "cell_type": "markdown",
   "metadata": {},
   "source": [
    "#### Callback\n",
    "\n",
    "To output the loss in certain time intervals, a callback is implemented as a function in the following. Here a counter is incremented, every fiftieth pass the loss function is called and the average error is printed out. Also, the parameters for the velocity in the first layer are kept to a fixed value."
   ]
  },
  {
   "cell_type": "code",
   "execution_count": null,
   "metadata": {
    "execution": {
     "iopub.execute_input": "2022-10-14T15:33:47.673000Z",
     "iopub.status.busy": "2022-10-14T15:33:47.672000Z",
     "iopub.status.idle": "2022-10-14T15:33:47.775000Z",
     "shell.execute_reply": "2022-10-14T15:33:47.775000Z"
    },
    "scrolled": false
   },
   "outputs": [],
   "source": [
    "# callback function for training\n",
    "global counter = 0\n",
    "function callb(p)\n",
    "    global counter\n",
    "    counter += 1\n",
    "\n",
    "    # freeze first layer parameters (2,4,6) for velocity -> (static) direct feed trough for velocity\n",
    "    # parameters for position (1,3,5) are learned\n",
    "    p[1][2] = 0.0\n",
    "    p[1][4] = 1.0\n",
    "    p[1][6] = 0.0\n",
    "\n",
    "    if counter % 50 == 1\n",
    "        avgLoss = lossSum(p[1])\n",
    "        @info \"  Loss [$counter]: $(round(avgLoss, digits=5))\n",
    "        Avg displacement in data: $(round(sqrt(avgLoss), digits=5))\n",
    "        Weight/Scale: $(paramsNet[1][1])   Bias/Offset: $(paramsNet[1][5])\"\n",
    "    end\n",
    "end"
   ]
  },
  {
   "cell_type": "markdown",
   "metadata": {},
   "source": [
    "#### Functions for plotting\n",
    "\n",
    "In this section some important functions for plotting are defined. The function `generate_figure()` creates a new figure object and sets some attributes."
   ]
  },
  {
   "cell_type": "code",
   "execution_count": null,
   "metadata": {
    "execution": {
     "iopub.execute_input": "2022-10-14T15:33:47.779000Z",
     "iopub.status.busy": "2022-10-14T15:33:47.779000Z",
     "iopub.status.idle": "2022-10-14T15:33:47.880000Z",
     "shell.execute_reply": "2022-10-14T15:33:47.880000Z"
    }
   },
   "outputs": [],
   "source": [
    "function generate_figure(title, xLabel, yLabel, xlim=:auto)\n",
    "    Plots.plot(\n",
    "        title=title, xlabel=xLabel, ylabel=yLabel, linewidth=2,\n",
    "        xtickfontsize=12, ytickfontsize=12, xguidefontsize=12, yguidefontsize=12,\n",
    "        legendfontsize=12, legend=:topright, xlim=xlim)\n",
    "end"
   ]
  },
  {
   "cell_type": "markdown",
   "metadata": {},
   "source": [
    "In the following function, the data of the *realFMU*, *simpleFMU* and *neuralFMU* are summarized and displayed in a graph."
   ]
  },
  {
   "cell_type": "code",
   "execution_count": null,
   "metadata": {
    "execution": {
     "iopub.execute_input": "2022-10-14T15:33:47.884000Z",
     "iopub.status.busy": "2022-10-14T15:33:47.884000Z",
     "iopub.status.idle": "2022-10-14T15:33:47.988000Z",
     "shell.execute_reply": "2022-10-14T15:33:47.987000Z"
    }
   },
   "outputs": [],
   "source": [
    "function plot_results(title, xLabel, yLabel, interval, realData, simpleData, neuralData)\n",
    "    linestyles = [:dot, :solid]\n",
    "    \n",
    "    fig = generate_figure(title, xLabel, yLabel)\n",
    "    Plots.plot!(fig, interval, simpleData, label=\"SimpleFMU\", linewidth=2)\n",
    "    Plots.plot!(fig, interval, realData, label=\"Reference\", linewidth=2)\n",
    "    for i in 1:length(neuralData)\n",
    "        Plots.plot!(fig, neuralData[i][1], neuralData[i][2], label=\"NeuralFMU ($(i*2500))\", \n",
    "                    linewidth=2, linestyle=linestyles[i], linecolor=:green)\n",
    "    end\n",
    "    Plots.display(fig)\n",
    "end"
   ]
  },
  {
   "cell_type": "markdown",
   "metadata": {},
   "source": [
    "This is the superordinate function, which at the beginning extracts the position and velocity from the simulation data (`realSimData`, `realSimDataMod`, `simpleSimData`,..., `solutionAfterMod`). Four graphs are then generated, each comparing the corresponding data from the *realFMU*, *simpleFMU*, and *neuralFMU*. The comparison is made with the simulation data from the simulation with the default and modified initial states. According to the data, the designation of the title and the naming of the axes is adapted."
   ]
  },
  {
   "cell_type": "code",
   "execution_count": null,
   "metadata": {
    "execution": {
     "iopub.execute_input": "2022-10-14T15:33:47.991000Z",
     "iopub.status.busy": "2022-10-14T15:33:47.991000Z",
     "iopub.status.idle": "2022-10-14T15:33:48.098000Z",
     "shell.execute_reply": "2022-10-14T15:33:48.098000Z"
    }
   },
   "outputs": [],
   "source": [
    "function plot_all_results(realSimData, realSimDataMod, simpleSimData, \n",
    "        simpleSimDataMod, solutionAfter, solutionAfterMod)    \n",
    "    # collect all data\n",
    "    posReal, velReal = extractPosVel(realSimData)\n",
    "    posRealMod, velRealMod = extractPosVel(realSimDataMod)\n",
    "    posSimple, velSimple = extractPosVel(simpleSimData)\n",
    "    posSimpleMod, velSimpleMod = extractPosVel(simpleSimDataMod)\n",
    "    \n",
    "    run = length(solutionAfter)\n",
    "    \n",
    "    posNeural, velNeural = [], []\n",
    "    posNeuralMod, velNeuralMod = [], []\n",
    "    for i in 1:run\n",
    "        dataNeural = extractPosVel(solutionAfter[i])\n",
    "        time = fmi2GetSolutionTime(solutionAfter[i])\n",
    "\n",
    "        push!(posNeural, (time, dataNeural[1]))\n",
    "        push!(velNeural, (time, dataNeural[2]))\n",
    "        \n",
    "        dataNeuralMod = extractPosVel(solutionAfterMod[i])\n",
    "        time = fmi2GetSolutionTime(solutionAfterMod[i])\n",
    "        push!(posNeuralMod, (time, dataNeuralMod[1]))\n",
    "        push!(velNeuralMod, (time, dataNeuralMod[2]))\n",
    "    end\n",
    "         \n",
    "    # plot results s (default initial states)\n",
    "    xLabel=\"t [s]\"\n",
    "    yLabel=\"mass position [m]\"\n",
    "    title = \"Default: Mass position after Run: $(run)\"\n",
    "    plot_results(title, xLabel, yLabel, tSave, posReal, posSimple, posNeural)\n",
    "\n",
    "    # plot results s (modified initial states)\n",
    "    title = \"Modified: Mass position after Run: $(run)\"\n",
    "    plot_results(title, xLabel, yLabel, tSave, posRealMod, posSimpleMod, posNeuralMod)\n",
    "\n",
    "    # plot results v (default initial states)\n",
    "    yLabel=\"mass velocity [m/s]\"\n",
    "    title = \"Default: Mass velocity after Run: $(run)\"\n",
    "    plot_results(title, xLabel, yLabel, tSave, velReal, velSimple, velNeural)\n",
    "\n",
    "    # plot results v (modified initial states)    \n",
    "    title = \"Modified: Mass velocity after Run: $(run)\"\n",
    "    plot_results(title, xLabel, yLabel, tSave, velRealMod, velSimpleMod, velNeuralMod)\n",
    "end"
   ]
  },
  {
   "cell_type": "markdown",
   "metadata": {},
   "source": [
    "The function `plot_friction_model()` compares the friction model of the *realFMU*, *simpleFMU* and *neuralFMU*. For this, the velocity and force from the simulation data of the *realFMU* is needed. The force data is calculated with the extracted last layer of the *neuralFMU* to the real velocity in line 9 by iterating over the vector `velReal`. In the next rows, the velocity and force data (if available) for each of the three FMUs are combined into a matrix. The first row of the matrix corresponds to the later x-axis and here the velocity is plotted. The second row corresponds to the y-axis and here the force is plotted. This matrix is sorted and plotted by the first entries (velocity) with the function `sortperm()`. The graph with at least three graphs is plotted in line 33. As output this function has the forces of the *neuralFMU*."
   ]
  },
  {
   "cell_type": "code",
   "execution_count": null,
   "metadata": {
    "execution": {
     "iopub.execute_input": "2022-10-14T15:33:48.102000Z",
     "iopub.status.busy": "2022-10-14T15:33:48.102000Z",
     "iopub.status.idle": "2022-10-14T15:33:48.212000Z",
     "shell.execute_reply": "2022-10-14T15:33:48.211000Z"
    }
   },
   "outputs": [],
   "source": [
    "function plot_friction_model(realSimData, netBottom, forces)    \n",
    "    linestyles = [:dot, :solid]\n",
    "    \n",
    "    velReal = fmi2GetSolutionValue(realSimData, \"mass.v\")\n",
    "    forceReal = fmi2GetSolutionValue(realSimData, \"mass.f\")\n",
    "\n",
    "    push!(forces, zeros(length(velReal)))\n",
    "    for i in 1:length(velReal)\n",
    "        forces[end][i] = -netBottom([velReal[i], 0.0])[2]\n",
    "    end\n",
    "\n",
    "    run = length(forces) \n",
    "    \n",
    "    fig = generate_figure(\"Friction model $(run)\", \"v [m/s]\", \"friction force [N]\", (-1.25, 1.25))\n",
    "\n",
    "    fricSimple = hcat(velReal, zeros(length(velReal)))\n",
    "    fricSimple[sortperm(fricSimple[:, 1]), :]\n",
    "    Plots.plot!(fig, fricSimple[:,1], fricSimple[:,2], label=\"SimpleFMU\", linewidth=2)\n",
    "\n",
    "    fricReal = hcat(velReal, forceReal)\n",
    "    fricReal[sortperm(fricReal[:, 1]), :]\n",
    "    Plots.plot!(fig, fricReal[:,1], fricReal[:,2], label=\"reference\", linewidth=2)\n",
    "\n",
    "    for i in 1:run\n",
    "        fricNeural = hcat(velReal, forces[i])\n",
    "        fricNeural[sortperm(fricNeural[:, 1]), :]\n",
    "        Plots.plot!(fig, fricNeural[:,1], fricNeural[:,2], label=\"NeuralFMU ($(i*2500))\", \n",
    "                    linewidth=2, linestyle=linestyles[i], linecolor=:green)\n",
    "        @info \"Friction model $i mse: $(FMIFlux.Losses.mse(fricNeural[:,2], fricReal[:,2]))\"\n",
    "    end\n",
    "    flush(stderr)\n",
    "\n",
    "    Plots.display(fig)\n",
    "    \n",
    "    return forces   \n",
    "end"
   ]
  },
  {
   "cell_type": "markdown",
   "metadata": {},
   "source": [
    "The following function is used to display the different displacement modells of the *realFMU*, *simpleFMU* and *neuralFMU*. The displacement of the *realFMU* and *simpleFMU* is very trivial and is only a constant. The position data of the *realFMU* is needed to calculate the displacement. The displacement for the *neuralFMU* is calculated using the first extracted layer of the neural network, subtracting the real position and the displacement of the *simpleFMU*. Also in this function, the graphs of the three FMUs are compared in a plot."
   ]
  },
  {
   "cell_type": "code",
   "execution_count": null,
   "metadata": {
    "execution": {
     "iopub.execute_input": "2022-10-14T15:33:48.215000Z",
     "iopub.status.busy": "2022-10-14T15:33:48.215000Z",
     "iopub.status.idle": "2022-10-14T15:33:48.321000Z",
     "shell.execute_reply": "2022-10-14T15:33:48.321000Z"
    }
   },
   "outputs": [],
   "source": [
    "function plot_displacement_model(realSimData, netTop, displacements, tSave, displacement)\n",
    "    linestyles = [:dot, :solid]\n",
    "    \n",
    "    posReal = fmi2GetSolutionValue(realSimData, \"mass.s\")\n",
    "    \n",
    "    push!(displacements, zeros(length(posReal)))\n",
    "    for i in 1:length(posReal)\n",
    "        displacements[end][i] = netTop([posReal[i], 0.0])[1] - posReal[i] - displacement\n",
    "    end\n",
    "\n",
    "    run = length(displacements)\n",
    "    fig = generate_figure(\"Displacement model $(run)\", \"t [s]\", \"displacement [m]\")\n",
    "    Plots.plot!(fig, [tSave[1], tSave[end]], [displacement, displacement], label=\"simpleFMU\", linewidth=2)\n",
    "    Plots.plot!(fig, [tSave[1], tSave[end]], [0.0, 0.0], label=\"reference\", linewidth=2)\n",
    "    for i in 1:run\n",
    "        Plots.plot!(fig, tSave, displacements[i], label=\"NeuralFMU ($(i*2500))\", \n",
    "                    linewidth=2, linestyle=linestyles[i], linecolor=:green)\n",
    "    end\n",
    "\n",
    "    Plots.display(fig)\n",
    "    \n",
    "    return displacements\n",
    "end"
   ]
  },
  {
   "cell_type": "markdown",
   "metadata": {},
   "source": [
    "#### Structure of the NeuralFMU\n",
    "\n",
    "In the following, the topology of the NeuralFMU is constructed. It consists of a dense layer that has exactly as many inputs and outputs as the model has states `numStates` (and therefore state derivatives). It also sets the initial weights and offsets for the first dense layer, as well as the activation function, which consists of the identity. An input layer follows, which then leads into the *simpleFMU* model. The ME-FMU computes the state derivatives for a given system state. Following the *simpleFMU* is a dense layer that has `numStates` states. The output of this layer consists of 8 output nodes and a *identity* activation function. The next layer has 8 input and output nodes with a *tanh* activation function. The last layer is again a dense layer with 8 input nodes and the number of states as outputs. Here, it is important that no *tanh*-activation function follows, because otherwise the pendulums state values would be limited to the interval $[-1;1]$."
   ]
  },
  {
   "cell_type": "code",
   "execution_count": null,
   "metadata": {
    "execution": {
     "iopub.execute_input": "2022-10-14T15:33:48.325000Z",
     "iopub.status.busy": "2022-10-14T15:33:48.325000Z",
     "iopub.status.idle": "2022-10-14T15:33:56.107000Z",
     "shell.execute_reply": "2022-10-14T15:33:56.107000Z"
    },
    "scrolled": false
   },
   "outputs": [],
   "source": [
    "# NeuralFMU setup\n",
    "numStates = fmiGetNumberOfStates(simpleFMU)\n",
    "\n",
    "# diagonal matrix \n",
    "initW = zeros(numStates, numStates)\n",
    "for i in 1:numStates\n",
    "    initW[i,i] = 1\n",
    "end\n",
    "\n",
    "net = Chain(Dense(numStates, numStates,  identity),\n",
    "            x -> simpleFMU(x=x, dx_refs=:all),\n",
    "            Dense(numStates, 8, identity),\n",
    "            Dense(8, 8, tanh),\n",
    "            Dense(8, numStates))"
   ]
  },
  {
   "cell_type": "markdown",
   "metadata": {},
   "source": [
    "#### Definition of the NeuralFMU\n",
    "\n",
    "The instantiation of the ME-NeuralFMU is done as a one-liner. The FMU (*simpleFMU*), the structure of the network `net`, start `tStart` and end time `tStop`, the numerical solver `Tsit5()` and the time steps `tSave` for saving are specified."
   ]
  },
  {
   "cell_type": "code",
   "execution_count": null,
   "metadata": {
    "execution": {
     "iopub.execute_input": "2022-10-14T15:33:56.111000Z",
     "iopub.status.busy": "2022-10-14T15:33:56.111000Z",
     "iopub.status.idle": "2022-10-14T15:33:58.223000Z",
     "shell.execute_reply": "2022-10-14T15:33:58.222000Z"
    },
    "scrolled": false
   },
   "outputs": [],
   "source": [
    "neuralFMU = ME_NeuralFMU(simpleFMU, net, (tStart, tStop), Tsit5(); saveat=tSave);"
   ]
  },
  {
   "cell_type": "markdown",
   "metadata": {},
   "source": [
    "#### Plot before training\n",
    "\n",
    "Here the state trajectory of the *simpleFMU* is recorded. Doesn't really look like a pendulum yet, but the system is random initialized by default. In the plots later on, the effect of learning can be seen."
   ]
  },
  {
   "cell_type": "code",
   "execution_count": null,
   "metadata": {
    "execution": {
     "iopub.execute_input": "2022-10-14T15:33:58.226000Z",
     "iopub.status.busy": "2022-10-14T15:33:58.226000Z",
     "iopub.status.idle": "2022-10-14T15:34:29.260000Z",
     "shell.execute_reply": "2022-10-14T15:34:29.260000Z"
    },
    "scrolled": false
   },
   "outputs": [],
   "source": [
    "solutionBefore = neuralFMU(x₀)\n",
    "fmiPlot(solutionBefore)"
   ]
  },
  {
   "cell_type": "markdown",
   "metadata": {},
   "source": [
    "#### Training of the NeuralFMU\n",
    "\n",
    "For the training of the NeuralFMU the parameters are extracted. All parameters of the first layer are set to the absolute value."
   ]
  },
  {
   "cell_type": "code",
   "execution_count": null,
   "metadata": {
    "execution": {
     "iopub.execute_input": "2022-10-14T15:34:29.265000Z",
     "iopub.status.busy": "2022-10-14T15:34:29.265000Z",
     "iopub.status.idle": "2022-10-14T15:34:29.455000Z",
     "shell.execute_reply": "2022-10-14T15:34:29.455000Z"
    }
   },
   "outputs": [],
   "source": [
    "# train\n",
    "paramsNet = FMIFlux.params(neuralFMU)\n",
    "\n",
    "for i in 1:length(paramsNet[1])\n",
    "    if paramsNet[1][i] < 0.0 \n",
    "        paramsNet[1][i] = -paramsNet[1][i]\n",
    "    end\n",
    "end"
   ]
  },
  {
   "attachments": {},
   "cell_type": "markdown",
   "metadata": {},
   "source": [
    "The well-known Adam optimizer for minimizing the gradient descent is used as further passing parameters. Additionally, the previously defined loss and callback function as well as a one for the number of epochs are passed. Only one epoch is trained so that the NeuralFMU is precompiled."
   ]
  },
  {
   "cell_type": "code",
   "execution_count": null,
   "metadata": {
    "execution": {
     "iopub.execute_input": "2022-10-14T15:34:29.458000Z",
     "iopub.status.busy": "2022-10-14T15:34:29.458000Z",
     "iopub.status.idle": "2022-10-14T15:35:11.149000Z",
     "shell.execute_reply": "2022-10-14T15:35:11.149000Z"
    },
    "scrolled": false
   },
   "outputs": [],
   "source": [
    "optim = Adam()\n",
    "FMIFlux.train!(lossSum, paramsNet, Iterators.repeated((), 1), optim; cb=()->callb(paramsNet)) "
   ]
  },
  {
   "cell_type": "markdown",
   "metadata": {},
   "source": [
    "Some vectors for collecting data are initialized and the number of runs, epochs and iterations are set."
   ]
  },
  {
   "cell_type": "code",
   "execution_count": null,
   "metadata": {
    "execution": {
     "iopub.execute_input": "2022-10-14T15:35:11.153000Z",
     "iopub.status.busy": "2022-10-14T15:35:11.153000Z",
     "iopub.status.idle": "2022-10-14T15:35:11.155000Z",
     "shell.execute_reply": "2022-10-14T15:35:11.155000Z"
    }
   },
   "outputs": [],
   "source": [
    "solutionAfter = []\n",
    "solutionAfterMod = []\n",
    "forces = []\n",
    "displacements = []\n",
    "\n",
    "numRuns = 2\n",
    "numEpochs= 5\n",
    "numIterations = 500;"
   ]
  },
  {
   "cell_type": "markdown",
   "metadata": {},
   "source": [
    "#### Training loop\n",
    "\n",
    "The code section shown here represents the training loop. The loop is structured so that it has `numRuns` runs, where each run has `numEpochs` epochs, and the training is performed at each epoch with `numIterations` iterations. In lines 9 and 10, the data for the *neuralFMU* for the default and modified initial states are appended to the corresponding vectors. The plots for the opposition of position and velocity is done in line 13 by calling the function `plot_all_results`. In the following lines the last layers are extracted from the *neuralFMU* and formed into an independent network `netBottom`. The parameters for the `netBottom` network come from the original architecture and are shared. In line 20, the new network is used to represent the friction model in a graph. An analogous construction of the next part of the training loop, where here the first layer is taken from the *neuralFMU* and converted to its own network `netTop`. This network is used to record the displacement model. The different graphs are generated for each run and can thus be compared. "
   ]
  },
  {
   "cell_type": "code",
   "execution_count": null,
   "metadata": {
    "execution": {
     "iopub.execute_input": "2022-10-14T15:35:11.158000Z",
     "iopub.status.busy": "2022-10-14T15:35:11.158000Z",
     "iopub.status.idle": "2022-10-14T15:39:38.844000Z",
     "shell.execute_reply": "2022-10-14T15:39:38.844000Z"
    },
    "scrolled": false
   },
   "outputs": [],
   "source": [
    "for run in 1:numRuns\n",
    "    @time for epoch in 1:numEpochs\n",
    "        @info \"Run: $(run)/$(numRuns)  Epoch: $(epoch)/$(numEpochs)\"\n",
    "        FMIFlux.train!(lossSum, paramsNet, Iterators.repeated((), numIterations), optim; cb=()->callb(paramsNet))\n",
    "    end\n",
    "    flush(stderr)\n",
    "    flush(stdout)\n",
    "    \n",
    "    push!(solutionAfter, neuralFMU(x₀))\n",
    "    push!(solutionAfterMod, neuralFMU(xMod₀))\n",
    "\n",
    "    # generate all plots for the position and velocity\n",
    "    plot_all_results(realSimData, realSimDataMod, simpleSimData, simpleSimDataMod, solutionAfter, solutionAfterMod)\n",
    "    \n",
    "    # friction model extraction\n",
    "    layersBottom = neuralFMU.model.layers[3:5]\n",
    "    netBottom = Chain(layersBottom...)\n",
    "    transferFlatParams!(netBottom, paramsNet, 7)\n",
    "    \n",
    "    forces = plot_friction_model(realSimData, netBottom, forces) \n",
    "    \n",
    "    # displacement model extraction\n",
    "    layersTop = neuralFMU.model.layers[1:1]\n",
    "    netTop = Chain(layersTop...)\n",
    "    transferFlatParams!(netTop, paramsNet, 1)\n",
    "\n",
    "    displacements = plot_displacement_model(realSimData, netTop, displacements, tSave, displacement)\n",
    "end"
   ]
  },
  {
   "cell_type": "markdown",
   "metadata": {
    "nteract": {
     "transient": {
      "deleting": false
     }
    }
   },
   "source": [
    "Finally, the FMU is cleaned-up."
   ]
  },
  {
   "cell_type": "code",
   "execution_count": null,
   "metadata": {
    "execution": {
     "iopub.execute_input": "2022-10-14T15:39:38.848000Z",
     "iopub.status.busy": "2022-10-14T15:39:38.848000Z",
     "iopub.status.idle": "2022-10-14T15:39:38.854000Z",
     "shell.execute_reply": "2022-10-14T15:39:38.854000Z"
    },
    "scrolled": false
   },
   "outputs": [],
   "source": [
    "fmiUnload(simpleFMU)"
   ]
  },
  {
   "cell_type": "markdown",
   "metadata": {},
   "source": [
    "### Summary\n",
    "\n",
    "Based on the plots, it can be seen that the curves of the *realFMU* and the *neuralFMU* are very close. The *neuralFMU* is able to learn the friction and displacement model."
   ]
  },
  {
   "cell_type": "markdown",
   "metadata": {},
   "source": [
    "### Source\n",
    "\n",
    "[1] Tobias Thummerer, Lars Mikelsons and Josef Kircher. 2021. **NeuralFMU: towards structural integration of FMUs into neural networks.** Martin Sjölund, Lena Buffoni, Adrian Pop and Lennart Ochel (Ed.). Proceedings of 14th Modelica Conference 2021, Linköping, Sweden, September 20-24, 2021. Linköping University Electronic Press, Linköping (Linköping Electronic Conference Proceedings ; 181), 297-306. [DOI: 10.3384/ecp21181297](https://doi.org/10.3384/ecp21181297)\n"
   ]
  }
 ],
 "metadata": {
  "interpreter": {
   "hash": "037537ff7419c497b9325f7d495147943224d408cf5d5ed915294a5b960167b0"
  },
  "jupytext": {
   "cell_metadata_filter": "-all",
   "comment_magics": "false",
   "notebook_metadata_filter": "-all"
  },
  "kernelspec": {
   "display_name": "Julia 1.9.3",
   "language": "julia",
   "name": "julia-1.9"
  },
  "language_info": {
   "file_extension": ".jl",
   "mimetype": "application/julia",
   "name": "julia",
   "version": "1.9.3"
  },
  "nteract": {
   "version": "0.28.0"
  }
 },
 "nbformat": 4,
 "nbformat_minor": 2
}
