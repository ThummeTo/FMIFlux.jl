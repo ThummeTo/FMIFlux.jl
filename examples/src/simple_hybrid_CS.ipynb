{
 "cells": [
  {
   "attachments": {},
   "cell_type": "markdown",
   "metadata": {},
   "source": [
    "# Creation and training of CS-NeuralFMUs\n",
    "Tutorial by Johannes Stoljar, Tobias Thummerer\n",
    "\n",
    "Last edit: 15.11.2023\n",
    "\n",
    "## License"
   ]
  },
  {
   "cell_type": "code",
   "execution_count": null,
   "metadata": {
    "execution": {
     "iopub.execute_input": "2022-10-14T15:39:50.809000Z",
     "iopub.status.busy": "2022-10-14T15:39:50.131000Z",
     "iopub.status.idle": "2022-10-14T15:39:51.083000Z",
     "shell.execute_reply": "2022-10-14T15:39:51.011000Z"
    }
   },
   "outputs": [],
   "source": [
    "# Copyright (c) 2021 Tobias Thummerer, Lars Mikelsons, Johannes Stoljar\n",
    "# Licensed under the MIT license. \n",
    "# See LICENSE (https://github.com/thummeto/FMIFlux.jl/blob/main/LICENSE) file in the project root for details."
   ]
  },
  {
   "attachments": {},
   "cell_type": "markdown",
   "metadata": {},
   "source": [
    "## Motivation\n",
    "The Julia Package *FMIFlux.jl* is motivated by the application of hybrid modeling. This package enables the user to integrate his simulation model between neural networks (NeuralFMU). For this, the simulation model must be exported as FMU (functional mock-up unit), which corresponds to a widely used standard. The big advantage of hybrid modeling with artificial neural networks is, that effects that are difficult to model (because they might be unknown) can be easily learned by the neural networks. For this purpose, the NeuralFMU is trained with measurement data containing the not modeled physical effect. The final product is a simulation model including the originally not modeled effects. Another big advantage of the NeuralFMU is that it works with little data, because the FMU already contains the characteristic functionality of the simulation and only the missing effects are added.\n",
    "\n",
    "NeuralFMUs do not need to be as easy as in this example. Basically a NeuralFMU can combine different ANN topologies that manipulate any FMU-input (system state, system inputs, time) and any FMU-output (system state derivative, system outputs, other system variables). However, for this example a NeuralFMU topology as shown in the following picture is used.\n",
    "\n",
    "![CS-NeuralFMU.svg](https://github.com/thummeto/FMIFlux.jl/blob/main/docs/src/examples/img/CSNeuralFMU.svg?raw=true)\n",
    "\n",
    "*NeuralFMU (CS) from* [[1]](#Source).\n",
    "\n",
    "## Introduction to the example\n",
    "In this example, the model of a one-dimensional spring pendulum (with an external acting force) is used to learn the initial states. For this purpose, on the one hand the initial position of the mass of the pendulum is shifted and on the other hand the default position of the mass from the model is used. The model with the shifted initial position serves as reference and is called *referenceFMU* in the following. The model with the default position is further referenced with *defaultFMU*. At the beginning, the actual state of both simulations is shown, whereby clear deviations can be seen in the graphs. Afterwards, the *defaultFMU* is integrated into a co-simulation NeuralFMU (CS-NeuralFMU) architecture. By training the NeuralFMU, an attempt is made to learn the initial displacement of the *referenceFMU*. It can be clearly seen that the NeuralFMU learns this shift well in just a few training steps. \n",
    "\n",
    "\n",
    "## Target group\n",
    "The example is primarily intended for users who work in the field of first principle and/or hybrid modeling and are further interested in hybrid model building. The example wants to show how simple it is to combine FMUs with machine learning and to illustrate the advantages of this approach.\n",
    "\n",
    "\n",
    "## Other formats\n",
    "Besides, this [Jupyter Notebook](https://github.com/thummeto/FMIFlux.jl/blob/examples/examples/src/simple_hybrid_CS.ipynb) there is also a [Julia file](https://github.com/thummeto/FMIFlux.jl/blob/examples/examples/src/simple_hybrid_CS.jl) with the same name, which contains only the code cells and for the documentation there is a [Markdown file](https://github.com/thummeto/FMIFlux.jl/blob/examples/examples/src/simple_hybrid_CS.md) corresponding to the notebook.  \n",
    "\n",
    "\n",
    "## Getting started\n",
    "\n",
    "### Installation prerequisites\n",
    "|     | Description                       | Command                   |  \n",
    "|:----|:----------------------------------|:--------------------------|\n",
    "| 1.  | Enter Package Manager via         | ]                         |\n",
    "| 2.  | Install FMI via                   | add FMI                   | \n",
    "| 3.  | Install FMIFlux via               | add FMIFlux               | \n",
    "| 4.  | Install FMIZoo via                | add FMIZoo                | \n",
    "| 5.  | Install DifferentialEquations via | add DifferentialEquations | \n",
    "| 6.  | Install Plots via                 | add Plots                 | \n",
    "| 7.  | Install Random via                | add Random                | "
   ]
  },
  {
   "cell_type": "markdown",
   "metadata": {},
   "source": [
    "## Code section\n",
    "\n",
    "To run the example, the previously installed packages must be included. "
   ]
  },
  {
   "cell_type": "code",
   "execution_count": null,
   "metadata": {
    "execution": {
     "iopub.execute_input": "2022-10-14T15:39:51.087000Z",
     "iopub.status.busy": "2022-10-14T15:39:51.086000Z",
     "iopub.status.idle": "2022-10-14T15:41:11.823000Z",
     "shell.execute_reply": "2022-10-14T15:41:11.823000Z"
    },
    "scrolled": false
   },
   "outputs": [],
   "source": [
    "# imports\n",
    "using FMI\n",
    "using FMIFlux\n",
    "using FMIFlux.Flux\n",
    "using FMIZoo\n",
    "using DifferentialEquations: Tsit5\n",
    "import Plots\n",
    "\n",
    "# set seed\n",
    "import Random\n",
    "Random.seed!(1234);"
   ]
  },
  {
   "attachments": {},
   "cell_type": "markdown",
   "metadata": {},
   "source": [
    "After importing the packages, the path to the *Functional Mock-up Units* (FMUs) is set. The FMU is a model exported meeting the *Functional Mock-up Interface* (FMI) Standard. The FMI is a free standard ([fmi-standard.org](http://fmi-standard.org/)) that defines a container and an interface to exchange dynamic models using a combination of XML files, binaries and C code zipped into a single file. \n",
    "\n",
    "The objec-orientated structure of the *SpringPendulumExtForce1D* can be seen in the following graphic. This model is a simple spring pendulum without friction, but with an external force. \n",
    "\n",
    "![svg](https://github.com/thummeto/FMIFlux.jl/blob/main/docs/src/examples/img/SpringPendulumExtForce1D.svg?raw=true)"
   ]
  },
  {
   "cell_type": "markdown",
   "metadata": {},
   "source": [
    "Next, the start time and end time of the simulation are set. Finally, a step size is specified to store the results of the simulation at these time steps."
   ]
  },
  {
   "cell_type": "code",
   "execution_count": null,
   "metadata": {
    "execution": {
     "iopub.execute_input": "2022-10-14T15:41:18.627000Z",
     "iopub.status.busy": "2022-10-14T15:41:11.826000Z",
     "iopub.status.idle": "2022-10-14T15:41:19.383000Z",
     "shell.execute_reply": "2022-10-14T15:41:19.383000Z"
    },
    "scrolled": false
   },
   "outputs": [],
   "source": [
    "tStart = 0.0\n",
    "tStep = 0.01\n",
    "tStop = 5.0\n",
    "tSave = tStart:tStep:tStop"
   ]
  },
  {
   "cell_type": "markdown",
   "metadata": {},
   "source": [
    "### ReferenceFMU\n",
    "\n",
    "In the next lines of code the FMU of the *referenceFMU* model is loaded from *FMIZoo.jl* and the information about the FMU is shown.  "
   ]
  },
  {
   "cell_type": "code",
   "execution_count": null,
   "metadata": {
    "execution": {
     "iopub.execute_input": "2022-10-14T15:41:19.387000Z",
     "iopub.status.busy": "2022-10-14T15:41:19.387000Z",
     "iopub.status.idle": "2022-10-14T15:41:25.065000Z",
     "shell.execute_reply": "2022-10-14T15:41:25.065000Z"
    },
    "scrolled": false
   },
   "outputs": [],
   "source": [
    "referenceFMU = fmiLoad(\"SpringPendulumExtForce1D\", \"Dymola\", \"2022x\")\n",
    "fmiInfo(referenceFMU)"
   ]
  },
  {
   "cell_type": "markdown",
   "metadata": {},
   "source": [
    "In the next steps the parameters are defined. The first parameter is the initial position of the mass, which is initilized with $1.3𝑚$. The second parameter is the initial velocity of the mass, which is initilized with $0\\frac{m}{s}$. The FMU hase two states: The first state is the position of the mass and the second state is the velocity. In the function fmiSimulate() the *referenceFMU* is simulated, still specifying the start and end time, the parameters and which variables are recorded. After the simulation is finished the result of the *referenceFMU* can be plotted. This plot also serves as a reference for the later CS-NeuralFMU model."
   ]
  },
  {
   "cell_type": "code",
   "execution_count": null,
   "metadata": {
    "execution": {
     "iopub.execute_input": "2022-10-14T15:41:25.069000Z",
     "iopub.status.busy": "2022-10-14T15:41:25.068000Z",
     "iopub.status.idle": "2022-10-14T15:43:22.380000Z",
     "shell.execute_reply": "2022-10-14T15:43:22.380000Z"
    },
    "scrolled": false
   },
   "outputs": [],
   "source": [
    "param = Dict(\"mass_s0\" => 1.3, \"mass.v\" => 0.0)   # increase amplitude, invert phase\n",
    "vrs = [\"mass.s\", \"mass.v\", \"mass.a\"]\n",
    "referenceSimData = fmiSimulate(referenceFMU, (tStart, tStop); parameters=param, recordValues=vrs, saveat=tSave)\n",
    "fmiPlot(referenceSimData)"
   ]
  },
  {
   "cell_type": "markdown",
   "metadata": {},
   "source": [
    "The data from the simulation of the *referenceFMU*, are divided into position, velocity and acceleration data. The data for the acceleration will be needed later. "
   ]
  },
  {
   "cell_type": "code",
   "execution_count": null,
   "metadata": {
    "execution": {
     "iopub.execute_input": "2022-10-14T15:43:22.385000Z",
     "iopub.status.busy": "2022-10-14T15:43:22.385000Z",
     "iopub.status.idle": "2022-10-14T15:43:28.506000Z",
     "shell.execute_reply": "2022-10-14T15:43:28.506000Z"
    }
   },
   "outputs": [],
   "source": [
    "posReference = fmi2GetSolutionValue(referenceSimData, vrs[1])\n",
    "velReference = fmi2GetSolutionValue(referenceSimData, vrs[2])\n",
    "accReference = fmi2GetSolutionValue(referenceSimData, vrs[3])"
   ]
  },
  {
   "cell_type": "markdown",
   "metadata": {},
   "source": [
    "### DefaultFMU\n",
    "\n",
    "The following is a renaming for the *referenceFMU* to *defaultFMU*. The previous initial position of the mass is now set to the default position of the *defaultFMU*. The initial position of the mass is initilized with $0.5𝑚$ and initial velocity of the mass is initialized with $0\\frac{m}{s}$."
   ]
  },
  {
   "cell_type": "code",
   "execution_count": null,
   "metadata": {
    "execution": {
     "iopub.execute_input": "2022-10-14T15:43:28.510000Z",
     "iopub.status.busy": "2022-10-14T15:43:28.510000Z",
     "iopub.status.idle": "2022-10-14T15:43:31.209000Z",
     "shell.execute_reply": "2022-10-14T15:43:31.209000Z"
    }
   },
   "outputs": [],
   "source": [
    "defaultFMU = referenceFMU\n",
    "param = Dict(\"mass_s0\" => 0.5, \"mass.v\" => 0.0)"
   ]
  },
  {
   "cell_type": "markdown",
   "metadata": {},
   "source": [
    "The following simulate and plot the *defaultFMU* just like the *referenceFMU*. The differences between both systems can be clearly seen from the plots. In the plots for the *defaultFMU* you can see that other oscillations occur due to the different starting positions. On the one hand the oscillation of the *defaultFMU* starts in the opposite direction of the *referenceFMU* and on the other hand the graphs for the velocity and acceleration differ clearly in the amplitude. In the following we try to learn the initial shift of the position so that the graphs for the acceleration of both graphs match."
   ]
  },
  {
   "cell_type": "code",
   "execution_count": null,
   "metadata": {
    "execution": {
     "iopub.execute_input": "2022-10-14T15:43:31.213000Z",
     "iopub.status.busy": "2022-10-14T15:43:31.213000Z",
     "iopub.status.idle": "2022-10-14T15:43:31.233000Z",
     "shell.execute_reply": "2022-10-14T15:43:31.233000Z"
    }
   },
   "outputs": [],
   "source": [
    "defaultSimData = fmiSimulate(defaultFMU, (tStart, tStop); parameters=param, recordValues=vrs, saveat=tSave)\n",
    "fmiPlot(defaultSimData)"
   ]
  },
  {
   "cell_type": "markdown",
   "metadata": {},
   "source": [
    "The data from the simualtion of the *defaultFMU*, are divided into position, velocity and acceleration data. The data for the acceleration will be needed later."
   ]
  },
  {
   "cell_type": "code",
   "execution_count": null,
   "metadata": {
    "execution": {
     "iopub.execute_input": "2022-10-14T15:43:31.251000Z",
     "iopub.status.busy": "2022-10-14T15:43:31.251000Z",
     "iopub.status.idle": "2022-10-14T15:43:31.255000Z",
     "shell.execute_reply": "2022-10-14T15:43:31.255000Z"
    }
   },
   "outputs": [],
   "source": [
    "posDefault = fmi2GetSolutionValue(defaultSimData, vrs[1])\n",
    "velDefault = fmi2GetSolutionValue(defaultSimData, vrs[2])\n",
    "accDefault = fmi2GetSolutionValue(defaultSimData, vrs[3])"
   ]
  },
  {
   "cell_type": "markdown",
   "metadata": {},
   "source": [
    "## CS-NeuralFMU"
   ]
  },
  {
   "cell_type": "markdown",
   "metadata": {},
   "source": [
    "In this section, the *defaultFMU* is inserted into a CS-NeuralFMU architecture. It has the goal to learn the initial state of the *referenceFMU*.\n",
    "\n",
    "\n",
    "For the external force, a simple function is implemented that always returns a force of $0N$ at each time point. Also, all other functions and implementations would be possible here. Only for simplification reasons the function was chosen so simply."
   ]
  },
  {
   "cell_type": "code",
   "execution_count": null,
   "metadata": {
    "execution": {
     "iopub.execute_input": "2022-10-14T15:43:31.258000Z",
     "iopub.status.busy": "2022-10-14T15:43:31.258000Z",
     "iopub.status.idle": "2022-10-14T15:43:32.798000Z",
     "shell.execute_reply": "2022-10-14T15:43:32.798000Z"
    }
   },
   "outputs": [],
   "source": [
    "function extForce(t)\n",
    "    return [0.0]\n",
    "end "
   ]
  },
  {
   "attachments": {},
   "cell_type": "markdown",
   "metadata": {},
   "source": [
    "#### Loss function\n",
    "\n",
    "In order to train our model, a loss function must be implemented. The solver of the NeuralFMU can calculate the gradient of the loss function. The gradient descent is needed to adjust the weights in the neural network so that the sum of the error is reduced and the model becomes more accurate.\n",
    "\n",
    "The loss function in this implementation consists of the mean squared error (mse) from the acceleration data of the *referenceFMU* simulation (`accReference`) and the acceleration data of the network (`accNet`).\n",
    "\n",
    "$$e_{mse} = \\frac{1}{n} \\sum\\limits_{i=0}^n (accReference[i] - accNet[i])^2$$"
   ]
  },
  {
   "cell_type": "code",
   "execution_count": null,
   "metadata": {
    "execution": {
     "iopub.execute_input": "2022-10-14T15:43:32.802000Z",
     "iopub.status.busy": "2022-10-14T15:43:32.801000Z",
     "iopub.status.idle": "2022-10-14T15:43:32.969000Z",
     "shell.execute_reply": "2022-10-14T15:43:32.969000Z"
    },
    "scrolled": false
   },
   "outputs": [],
   "source": [
    "# loss function for training\n",
    "function lossSum(p)\n",
    "    solution = csNeuralFMU(extForce, tStep, (tStart, tStop); p=p) # saveat=tSave\n",
    "\n",
    "    accNet = fmi2GetSolutionValue(solution, 2; isIndex=true)\n",
    "    \n",
    "    FMIFlux.Losses.mse(accReference, accNet)\n",
    "end"
   ]
  },
  {
   "cell_type": "markdown",
   "metadata": {},
   "source": [
    "#### Callback\n",
    "\n",
    "To output the loss in certain time intervals, a callback is implemented as a function in the following. Here a counter is incremented, every twentieth pass the loss function is called and the average error is printed out."
   ]
  },
  {
   "cell_type": "code",
   "execution_count": null,
   "metadata": {
    "execution": {
     "iopub.execute_input": "2022-10-14T15:43:32.973000Z",
     "iopub.status.busy": "2022-10-14T15:43:32.973000Z",
     "iopub.status.idle": "2022-10-14T15:43:33.073000Z",
     "shell.execute_reply": "2022-10-14T15:43:33.073000Z"
    },
    "scrolled": false
   },
   "outputs": [],
   "source": [
    "# callback function for training\n",
    "global counter = 0\n",
    "function callb(p)\n",
    "    global counter += 1\n",
    "\n",
    "    if counter % 25 == 1\n",
    "        avgLoss = lossSum(p[1])\n",
    "        @info \"Loss [$counter]: $(round(avgLoss, digits=5))\"\n",
    "    end\n",
    "end"
   ]
  },
  {
   "cell_type": "markdown",
   "metadata": {},
   "source": [
    "#### Structure of the CS-NeuralFMU\n",
    "\n",
    "In the following, the topology of the CS-NeuralFMU is constructed. It consists of an input layer, which then leads into the *defaultFMU* model. The CS-FMU computes the outputs for the given system state and time step. After the *defaultFMU* follows a dense layer, which has exactly as many inputs as the model has outputs. The output of this layer consists of 16 output nodes and a *tanh* activation function. The next layer has 16 input and output nodes with the same activation function. The last layer is again a dense layer with 16 input nodes and the number of model outputs as output nodes. Here, it is important that no *tanh*-activation function follows, because otherwise the pendulums state values would be limited to the interval $[-1;1]$."
   ]
  },
  {
   "cell_type": "code",
   "execution_count": null,
   "metadata": {
    "execution": {
     "iopub.execute_input": "2022-10-14T15:43:33.077000Z",
     "iopub.status.busy": "2022-10-14T15:43:33.076000Z",
     "iopub.status.idle": "2022-10-14T15:43:40.696000Z",
     "shell.execute_reply": "2022-10-14T15:43:40.696000Z"
    },
    "scrolled": false
   },
   "outputs": [],
   "source": [
    "# check outputs\n",
    "outputs = defaultFMU.modelDescription.outputValueReferences \n",
    "numOutputs = length(outputs)\n",
    "display(outputs)\n",
    "\n",
    "# check inputs\n",
    "inputs = defaultFMU.modelDescription.inputValueReferences \n",
    "numInputs = length(inputs)\n",
    "display(inputs)\n",
    "\n",
    "# NeuralFMU setup\n",
    "net = Chain(u -> defaultFMU(;u_refs=inputs, u=u, y_refs=outputs),\n",
    "            Dense(numOutputs, 16, tanh),\n",
    "            Dense(16, 16, tanh),\n",
    "            Dense(16, numOutputs))"
   ]
  },
  {
   "cell_type": "markdown",
   "metadata": {},
   "source": [
    "#### Definition of the CS-NeuralFMU\n",
    "\n",
    "The instantiation of the CS-NeuralFMU is done as a one-liner. The FMU `defaultFMU`, the structure of the network `net`, start `tStart` and end time `tStop`, and the time steps `tSave` for saving are specified."
   ]
  },
  {
   "cell_type": "code",
   "execution_count": null,
   "metadata": {
    "execution": {
     "iopub.execute_input": "2022-10-14T15:43:40.700000Z",
     "iopub.status.busy": "2022-10-14T15:43:40.700000Z",
     "iopub.status.idle": "2022-10-14T15:43:40.745000Z",
     "shell.execute_reply": "2022-10-14T15:43:40.745000Z"
    },
    "scrolled": false
   },
   "outputs": [],
   "source": [
    "csNeuralFMU = CS_NeuralFMU(defaultFMU, net, (tStart, tStop));"
   ]
  },
  {
   "cell_type": "markdown",
   "metadata": {},
   "source": [
    "#### Plot before training\n",
    "\n",
    "Here the state trajectory of the *extForceFMU* is recorded. Doesn't really look like a pendulum yet, but the system is random initialized by default. In the plots later on, the effect of learning can be seen."
   ]
  },
  {
   "cell_type": "code",
   "execution_count": null,
   "metadata": {
    "execution": {
     "iopub.execute_input": "2022-10-14T15:43:40.748000Z",
     "iopub.status.busy": "2022-10-14T15:43:40.748000Z",
     "iopub.status.idle": "2022-10-14T15:43:50.276000Z",
     "shell.execute_reply": "2022-10-14T15:43:50.276000Z"
    },
    "scrolled": false
   },
   "outputs": [],
   "source": [
    "solutionBefore = csNeuralFMU(extForce, tStep, (tStart, tStop)) # ; saveat=tSave\n",
    "accNeuralFMU = fmi2GetSolutionValue(solutionBefore, 1; isIndex=true)\n",
    "Plots.plot(tSave, accNeuralFMU, label=\"acc CS-NeuralFMU\", linewidth=2)"
   ]
  },
  {
   "attachments": {},
   "cell_type": "markdown",
   "metadata": {},
   "source": [
    "#### Training of the CS-NeuralFMU\n",
    "\n",
    "For the training of the CS-NeuralFMU the parameters are extracted. The known Adam optimizer for minimizing the gradient descent is used as further passing parameters. In addition, the previously defined loss and callback function, as well as the number of epochs are passed."
   ]
  },
  {
   "cell_type": "code",
   "execution_count": null,
   "metadata": {
    "execution": {
     "iopub.execute_input": "2022-10-14T15:43:50.280000Z",
     "iopub.status.busy": "2022-10-14T15:43:50.280000Z",
     "iopub.status.idle": "2022-10-14T15:44:57.811000Z",
     "shell.execute_reply": "2022-10-14T15:44:57.811000Z"
    },
    "scrolled": false
   },
   "outputs": [],
   "source": [
    "# train\n",
    "paramsNet = FMIFlux.params(csNeuralFMU)\n",
    "\n",
    "optim = Adam()\n",
    "FMIFlux.train!(lossSum, paramsNet, Iterators.repeated((), 250), optim; cb=()->callb(paramsNet))"
   ]
  },
  {
   "cell_type": "markdown",
   "metadata": {},
   "source": [
    "#### Comparison of the plots\n",
    "\n",
    "Here three plots are compared with each other and only the acceleration of the mass is considered. The first plot presents the *defaultFMU*, the second the *referenceFMU* and the third plot the result after training the CS-NeuralFMU. "
   ]
  },
  {
   "cell_type": "code",
   "execution_count": null,
   "metadata": {
    "execution": {
     "iopub.execute_input": "2022-10-14T15:44:57.815000Z",
     "iopub.status.busy": "2022-10-14T15:44:57.814000Z",
     "iopub.status.idle": "2022-10-14T15:44:57.977000Z",
     "shell.execute_reply": "2022-10-14T15:44:57.977000Z"
    },
    "scrolled": false
   },
   "outputs": [],
   "source": [
    "# plot results mass.a\n",
    "solutionAfter = csNeuralFMU(extForce, tStep, (tStart, tStop)) # saveat=tSave, p=paramsNet[1]\n",
    "\n",
    "fig = Plots.plot(xlabel=\"t [s]\", ylabel=\"mass acceleration [m/s^2]\", linewidth=2,\n",
    "                 xtickfontsize=12, ytickfontsize=12,\n",
    "                 xguidefontsize=12, yguidefontsize=12,\n",
    "                 legendfontsize=8, legend=:topright)\n",
    "\n",
    "accNeuralFMU = fmi2GetSolutionValue(solutionAfter, 2; isIndex=true)\n",
    "\n",
    "Plots.plot!(fig, tSave, accDefault, label=\"defaultFMU\", linewidth=2)\n",
    "Plots.plot!(fig, tSave, accReference, label=\"referenceFMU\", linewidth=2)\n",
    "Plots.plot!(fig, tSave, accNeuralFMU, label=\"CS-NeuralFMU (1000 eps.)\", linewidth=2)\n",
    "fig "
   ]
  },
  {
   "cell_type": "markdown",
   "metadata": {
    "nteract": {
     "transient": {
      "deleting": false
     }
    }
   },
   "source": [
    "Finally, the FMU is cleaned-up."
   ]
  },
  {
   "cell_type": "code",
   "execution_count": null,
   "metadata": {
    "execution": {
     "iopub.execute_input": "2022-10-14T15:44:57.982000Z",
     "iopub.status.busy": "2022-10-14T15:44:57.982000Z",
     "iopub.status.idle": "2022-10-14T15:44:58.030000Z",
     "shell.execute_reply": "2022-10-14T15:44:58.030000Z"
    },
    "scrolled": false
   },
   "outputs": [],
   "source": [
    "fmiUnload(defaultFMU)"
   ]
  },
  {
   "attachments": {},
   "cell_type": "markdown",
   "metadata": {},
   "source": [
    "### Summary\n",
    "\n",
    "Based on the plots, it can be clearly seen that the CS-NeuralFMU model is able to learn the shift of the initial position. Even after only 1000 training steps, the curves overlap very much, so no further training with more runs is needed."
   ]
  },
  {
   "cell_type": "markdown",
   "metadata": {},
   "source": [
    "### Source\n",
    "\n",
    "[1] Tobias Thummerer, Lars Mikelsons and Josef Kircher. 2021. **NeuralFMU: towards structural integration of FMUs into neural networks.** Martin Sjölund, Lena Buffoni, Adrian Pop and Lennart Ochel (Ed.). Proceedings of 14th Modelica Conference 2021, Linköping, Sweden, September 20-24, 2021. Linköping University Electronic Press, Linköping (Linköping Electronic Conference Proceedings ; 181), 297-306. [DOI: 10.3384/ecp21181297](https://doi.org/10.3384/ecp21181297)\n"
   ]
  }
 ],
 "metadata": {
  "interpreter": {
   "hash": "037537ff7419c497b9325f7d495147943224d408cf5d5ed915294a5b960167b0"
  },
  "jupytext": {
   "cell_metadata_filter": "-all",
   "comment_magics": "false",
   "notebook_metadata_filter": "-all"
  },
  "kernelspec": {
   "display_name": "Julia 1.8.5",
   "language": "julia",
   "name": "julia-1.8"
  },
  "language_info": {
   "file_extension": ".jl",
   "mimetype": "application/julia",
   "name": "julia",
   "version": "1.8.5"
  },
  "nteract": {
   "version": "0.28.0"
  }
 },
 "nbformat": 4,
 "nbformat_minor": 2
}
