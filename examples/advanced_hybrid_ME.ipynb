{
 "cells": [
  {
   "cell_type": "markdown",
   "metadata": {},
   "source": [
    "# Creation and training of ME-NeuralFMUs\n",
    "Tutorial by Johannes Stoljar, Tobias Thummerer\n",
    "\n",
    "## LICENSE\n"
   ]
  },
  {
   "cell_type": "code",
   "execution_count": 1,
   "metadata": {
    "execution": {
     "iopub.execute_input": "2022-10-14T15:20:31.245000Z",
     "iopub.status.busy": "2022-10-14T15:20:30.554000Z",
     "iopub.status.idle": "2022-10-14T15:20:31.531000Z",
     "shell.execute_reply": "2022-10-14T15:20:31.456000Z"
    }
   },
   "outputs": [],
   "source": [
    "# Copyright (c) 2021 Tobias Thummerer, Lars Mikelsons, Johannes Stoljar\n",
    "# Licensed under the MIT license. \n",
    "# See LICENSE (https://github.com/thummeto/FMIFlux.jl/blob/main/LICENSE) file in the project root for details."
   ]
  },
  {
   "cell_type": "markdown",
   "metadata": {},
   "source": [
    "## Motivation\n",
    "The Julia Package *FMIFlux.jl* is motivated by the application of hybrid modeling. This package enables the user to integrate his simulation model between neural networks (NeuralFMU). For this, the simulation model must be exported as FMU (functional mock-up unit), which corresponds to a widely used standard. The big advantage of hybrid modeling with artificial neural networks is, that effects that are difficult to model (because they might be unknown) can be easily learned by the neural networks. For this purpose, the NeuralFMU is trained with measurement data containing the not modeled physical effect. The final product is a simulation model including the originally not modeled effects. Another big advantage of the NeuralFMU is that it works with little data, because the FMU already contains the characteristic functionality of the simulation and only the missing effects are added.\n",
    "\n",
    "NeuralFMUs do not need to be as easy as in this example. Basically a NeuralFMU can combine different ANN topologies that manipulate any FMU-input (system state, system inputs, time) and any FMU-output (system state derivative, system outputs, other system variables). However, for this example a NeuralFMU topology as shown in the following picture is used.\n",
    "\n",
    "![NeuralFMU.svg](https://github.com/thummeto/FMIFlux.jl/blob/main/docs/src/examples/pics/NeuralFMU.svg?raw=true)\n",
    "\n",
    "*NeuralFMU (ME) from* [[1]](#Source).\n",
    "\n",
    "## Introduction to the example\n",
    "In this example, simplified modeling of a one-dimensional spring pendulum (without friction) is compared to a model of the same system that includes a nonlinear friction model. The FMU with the simplified model will be named *simpleFMU* in the following and the model with the friction will be named *realFMU*. At the beginning, the actual state of both simulations is shown, whereby clear deviations can be seen in the graphs. The *realFMU* serves as a reference graph. The *simpleFMU* is then integrated into a NeuralFMU architecture and a training of the entire network is performed. After the training the final state is compared again to the *realFMU*. It can be clearly seen that by using the NeuralFMU, learning of the friction process has taken place.  \n",
    "\n",
    "\n",
    "## Target group\n",
    "The example is primarily intended for users who work in the field of first principle and/or hybrid modeling and are further interested in hybrid model building. The example wants to show how simple it is to combine FMUs with machine learning and to illustrate the advantages of this approach.\n",
    "\n",
    "\n",
    "## Other formats\n",
    "Besides, this [Jupyter Notebook](https://github.com/thummeto/FMIFlux.jl/blob/examples/examples/advanced_hybrid_ME.ipynb) there is also a [Julia file](https://github.com/thummeto/FMIFlux.jl/blob/examples/examples/advanced_hybrid_ME.jl) with the same name, which contains only the code cells and for the documentation there is a [Markdown file](https://github.com/thummeto/FMIFlux.jl/blob/examples/examples/advanced_hybrid_ME.md) corresponding to the notebook.  \n",
    "\n",
    "\n",
    "## Getting started\n",
    "\n",
    "### Installation prerequisites\n",
    "|     | Description                       | Command                   | Alternative                                    |   \n",
    "|:----|:----------------------------------|:--------------------------|:-----------------------------------------------|\n",
    "| 1.  | Enter Package Manager via         | ]                         |                                                |\n",
    "| 2.  | Install FMI via                   | add FMI                   | add \" https://github.com/ThummeTo/FMI.jl \"     |\n",
    "| 3.  | Install FMIFlux via               | add FMIFlux               | add \" https://github.com/ThummeTo/FMIFlux.jl \" |\n",
    "| 4.  | Install FMIZoo via                | add FMIZoo                | add \" https://github.com/ThummeTo/FMIZoo.jl \"  |\n",
    "| 5.  | Install Flux via                  | add Flux                  |                                                |\n",
    "| 6.  | Install DifferentialEquations via | add DifferentialEquations |                                                |\n",
    "| 7.  | Install Plots via                 | add Plots                 |                                                |\n",
    "| 8.  | Install Random via                | add Random                |                                                |"
   ]
  },
  {
   "cell_type": "markdown",
   "metadata": {},
   "source": [
    "## Code section\n",
    "\n",
    "To run the example, the previously installed packages must be included. "
   ]
  },
  {
   "cell_type": "code",
   "execution_count": 2,
   "metadata": {
    "execution": {
     "iopub.execute_input": "2022-10-14T15:20:31.534000Z",
     "iopub.status.busy": "2022-10-14T15:20:31.534000Z",
     "iopub.status.idle": "2022-10-14T15:21:51.703000Z",
     "shell.execute_reply": "2022-10-14T15:21:51.703000Z"
    },
    "scrolled": false
   },
   "outputs": [],
   "source": [
    "# imports\n",
    "using FMI\n",
    "using FMI.FMIImport: fmi2StringToValueReference, fmi2ValueReference, fmi2Real\n",
    "using FMIFlux\n",
    "using FMIZoo\n",
    "using Flux\n",
    "using DifferentialEquations: Tsit5\n",
    "using Statistics: mean, std\n",
    "import Plots\n",
    "\n",
    "# set seed\n",
    "import Random\n",
    "Random.seed!(1234);"
   ]
  },
  {
   "cell_type": "markdown",
   "metadata": {},
   "source": [
    "After importing the packages, the path to the *Functional Mock-up Units* (FMUs) is set. The FMU is a model exported meeting the *Functional Mock-up Interface* (FMI) Standard. The FMI is a free standard ([fmi-standard.org](http://fmi-standard.org/)) that defines a container and an interface to exchange dynamic models using a combination of XML files, binaries and C code zipped into a single file. \n",
    "\n",
    "The object-orientated structure of the *SpringPendulum1D* (*simpleFMU*) can be seen in the following graphic and corresponds to a simple modeling.\n",
    "\n",
    "![svg](https://github.com/thummeto/FMIFlux.jl/blob/main/docs/src/examples/pics/SpringPendulum1D.svg?raw=true)\n",
    "\n",
    "In contrast, the model *SpringFrictionPendulum1D* (*realFMU*) is somewhat more accurate, because it includes a friction component. \n",
    "\n",
    "![svg](https://github.com/thummeto/FMIFlux.jl/blob/main/docs/src/examples/pics/SpringFrictionPendulum1D.svg?raw=true)"
   ]
  },
  {
   "cell_type": "markdown",
   "metadata": {},
   "source": [
    "Next, the start time and end time of the simulation are set. Finally, a step size is specified to store the results of the simulation at these time steps."
   ]
  },
  {
   "cell_type": "code",
   "execution_count": 3,
   "metadata": {
    "execution": {
     "iopub.execute_input": "2022-10-14T15:21:58.429000Z",
     "iopub.status.busy": "2022-10-14T15:21:51.706000Z",
     "iopub.status.idle": "2022-10-14T15:22:06.288000Z",
     "shell.execute_reply": "2022-10-14T15:22:06.288000Z"
    },
    "scrolled": false
   },
   "outputs": [
    {
     "data": {
      "text/plain": [
       "51-element Vector{Float64}:\n",
       " 0.0\n",
       " 0.1\n",
       " 0.2\n",
       " 0.3\n",
       " 0.4\n",
       " 0.5\n",
       " 0.6\n",
       " 0.7\n",
       " 0.8\n",
       " 0.9\n",
       " 1.0\n",
       " 1.1\n",
       " 1.2\n",
       " ⋮\n",
       " 3.9\n",
       " 4.0\n",
       " 4.1\n",
       " 4.2\n",
       " 4.3\n",
       " 4.4\n",
       " 4.5\n",
       " 4.6\n",
       " 4.7\n",
       " 4.8\n",
       " 4.9\n",
       " 5.0"
      ]
     },
     "execution_count": 3,
     "metadata": {},
     "output_type": "execute_result"
    }
   ],
   "source": [
    "tStart = 0.0\n",
    "tStep = 0.1\n",
    "tStop = 5.0\n",
    "tSave = collect(tStart:tStep:tStop)"
   ]
  },
  {
   "cell_type": "markdown",
   "metadata": {},
   "source": [
    "### RealFMU\n",
    "\n",
    "In the next lines of code the FMU of the *realFMU* model from *FMIZoo.jl* is loaded and the information about the FMU is shown."
   ]
  },
  {
   "cell_type": "code",
   "execution_count": 4,
   "metadata": {
    "execution": {
     "iopub.execute_input": "2022-10-14T15:22:06.330000Z",
     "iopub.status.busy": "2022-10-14T15:22:06.330000Z",
     "iopub.status.idle": "2022-10-14T15:22:11.884000Z",
     "shell.execute_reply": "2022-10-14T15:22:11.884000Z"
    },
    "scrolled": false
   },
   "outputs": [
    {
     "name": "stderr",
     "output_type": "stream",
     "text": [
      "┌ Info: fmi2Unzip(...): Successfully unzipped 153 files at `/tmp/fmijl_VLO3ja/SpringFrictionPendulum1D`.\n",
      "└ @ FMIImport /home/runner/.julia/packages/FMIImport/1Yngw/src/FMI2_ext.jl:90\n",
      "┌ Info: fmi2Load(...): FMU resources location is `file:////tmp/fmijl_VLO3ja/SpringFrictionPendulum1D/resources`\n",
      "└ @ FMIImport /home/runner/.julia/packages/FMIImport/1Yngw/src/FMI2_ext.jl:221\n",
      "┌ Info: fmi2Load(...): FMU supports both CS and ME, using CS as default if nothing specified.\n",
      "└ @ FMIImport /home/runner/.julia/packages/FMIImport/1Yngw/src/FMI2_ext.jl:224\n"
     ]
    },
    {
     "name": "stdout",
     "output_type": "stream",
     "text": [
      "#################### Begin information for FMU ####################\n",
      "\tModel name:\t\t\tSpringFrictionPendulum1D\n",
      "\tFMI-Version:\t\t\t2.0\n",
      "\tGUID:\t\t\t\t{2e178ad3-5e9b-48ec-a7b2-baa5669efc0c}\n",
      "\tGeneration tool:\t\tDymola Version 2022x (64-bit), 2021-10-08\n",
      "\tGeneration time:\t\t2022-05-19T06:54:12Z\n",
      "\tVar. naming conv.:\t\tstructured\n",
      "\tEvent indicators:\t\t24\n",
      "\tInputs:\t\t\t\t0\n",
      "\tOutputs:\t\t\t0\n",
      "\tStates:\t\t\t\t2\n",
      "\t\t33554432 [\"mass.s\"]\n",
      "\t\t33554433 [\"mass.v\", \"mass.v_relfric\"]\n",
      "\tSupports Co-Simulation:\t\ttrue\n",
      "\t\tModel identifier:\tSpringFrictionPendulum1D\n",
      "\t\tGet/Set State:\t\ttrue\n",
      "\t\tSerialize State:\ttrue\n",
      "\t\tDir. Derivatives:\ttrue\n",
      "\t\tVar. com. steps:\ttrue\n",
      "\t\tInput interpol.:\ttrue\n",
      "\t\tMax order out. der.:\t1\n",
      "\tSupports Model-Exchange:\ttrue\n",
      "\t\tModel identifier:\tSpringFrictionPendulum1D\n",
      "\t\tGet/Set State:\t\ttrue\n",
      "\t\tSerialize State:\ttrue\n",
      "\t\tDir. Derivatives:\ttrue\n",
      "##################### End information for FMU #####################\n"
     ]
    }
   ],
   "source": [
    "realFMU = fmiLoad(\"SpringFrictionPendulum1D\", \"Dymola\", \"2022x\")\n",
    "fmiInfo(realFMU)"
   ]
  },
  {
   "cell_type": "markdown",
   "metadata": {},
   "source": [
    "In the function fmiSimulate() the *realFMU* is simulated, still specifying the start and end time, the parameters and which variables are recorded. After the simulation is finished the result of the *realFMU* can be plotted. This plot also serves as a reference for the other model (*simpleFMU*)."
   ]
  },
  {
   "cell_type": "code",
   "execution_count": 5,
   "metadata": {
    "execution": {
     "iopub.execute_input": "2022-10-14T15:22:11.888000Z",
     "iopub.status.busy": "2022-10-14T15:22:11.888000Z",
     "iopub.status.idle": "2022-10-14T15:24:01.505000Z",
     "shell.execute_reply": "2022-10-14T15:24:01.504000Z"
    },
    "scrolled": false
   },
   "outputs": [
    {
     "data": {
      "image/svg+xml": [
       "<?xml version=\"1.0\" encoding=\"utf-8\"?>\n",
       "<svg xmlns=\"http://www.w3.org/2000/svg\" xmlns:xlink=\"http://www.w3.org/1999/xlink\" width=\"600\" height=\"400\" viewBox=\"0 0 2400 1600\">\n",
       "<defs>\n",
       "  <clipPath id=\"clip810\">\n",
       "    <rect x=\"0\" y=\"0\" width=\"2400\" height=\"1600\"/>\n",
       "  </clipPath>\n",
       "</defs>\n",
       "<path clip-path=\"url(#clip810)\" d=\"\n",
       "M0 1600 L2400 1600 L2400 0 L0 0  Z\n",
       "  \" fill=\"#ffffff\" fill-rule=\"evenodd\" fill-opacity=\"1\"/>\n",
       "<defs>\n",
       "  <clipPath id=\"clip811\">\n",
       "    <rect x=\"480\" y=\"0\" width=\"1681\" height=\"1600\"/>\n",
       "  </clipPath>\n",
       "</defs>\n",
       "<path clip-path=\"url(#clip810)\" d=\"\n",
       "M149.191 1423.18 L2352.76 1423.18 L2352.76 47.2441 L149.191 47.2441  Z\n",
       "  \" fill=\"#ffffff\" fill-rule=\"evenodd\" fill-opacity=\"1\"/>\n",
       "<defs>\n",
       "  <clipPath id=\"clip812\">\n",
       "    <rect x=\"149\" y=\"47\" width=\"2205\" height=\"1377\"/>\n",
       "  </clipPath>\n",
       "</defs>\n",
       "<polyline clip-path=\"url(#clip812)\" style=\"stroke:#000000; stroke-linecap:round; stroke-linejoin:round; stroke-width:2; stroke-opacity:0.1; fill:none\" points=\"\n",
       "  211.556,1423.18 211.556,47.2441 \n",
       "  \"/>\n",
       "<polyline clip-path=\"url(#clip812)\" style=\"stroke:#000000; stroke-linecap:round; stroke-linejoin:round; stroke-width:2; stroke-opacity:0.1; fill:none\" points=\"\n",
       "  627.323,1423.18 627.323,47.2441 \n",
       "  \"/>\n",
       "<polyline clip-path=\"url(#clip812)\" style=\"stroke:#000000; stroke-linecap:round; stroke-linejoin:round; stroke-width:2; stroke-opacity:0.1; fill:none\" points=\"\n",
       "  1043.09,1423.18 1043.09,47.2441 \n",
       "  \"/>\n",
       "<polyline clip-path=\"url(#clip812)\" style=\"stroke:#000000; stroke-linecap:round; stroke-linejoin:round; stroke-width:2; stroke-opacity:0.1; fill:none\" points=\"\n",
       "  1458.86,1423.18 1458.86,47.2441 \n",
       "  \"/>\n",
       "<polyline clip-path=\"url(#clip812)\" style=\"stroke:#000000; stroke-linecap:round; stroke-linejoin:round; stroke-width:2; stroke-opacity:0.1; fill:none\" points=\"\n",
       "  1874.62,1423.18 1874.62,47.2441 \n",
       "  \"/>\n",
       "<polyline clip-path=\"url(#clip812)\" style=\"stroke:#000000; stroke-linecap:round; stroke-linejoin:round; stroke-width:2; stroke-opacity:0.1; fill:none\" points=\"\n",
       "  2290.39,1423.18 2290.39,47.2441 \n",
       "  \"/>\n",
       "<polyline clip-path=\"url(#clip810)\" style=\"stroke:#000000; stroke-linecap:round; stroke-linejoin:round; stroke-width:4; stroke-opacity:1; fill:none\" points=\"\n",
       "  149.191,1423.18 2352.76,1423.18 \n",
       "  \"/>\n",
       "<polyline clip-path=\"url(#clip810)\" style=\"stroke:#000000; stroke-linecap:round; stroke-linejoin:round; stroke-width:4; stroke-opacity:1; fill:none\" points=\"\n",
       "  211.556,1423.18 211.556,1404.28 \n",
       "  \"/>\n",
       "<polyline clip-path=\"url(#clip810)\" style=\"stroke:#000000; stroke-linecap:round; stroke-linejoin:round; stroke-width:4; stroke-opacity:1; fill:none\" points=\"\n",
       "  627.323,1423.18 627.323,1404.28 \n",
       "  \"/>\n",
       "<polyline clip-path=\"url(#clip810)\" style=\"stroke:#000000; stroke-linecap:round; stroke-linejoin:round; stroke-width:4; stroke-opacity:1; fill:none\" points=\"\n",
       "  1043.09,1423.18 1043.09,1404.28 \n",
       "  \"/>\n",
       "<polyline clip-path=\"url(#clip810)\" style=\"stroke:#000000; stroke-linecap:round; stroke-linejoin:round; stroke-width:4; stroke-opacity:1; fill:none\" points=\"\n",
       "  1458.86,1423.18 1458.86,1404.28 \n",
       "  \"/>\n",
       "<polyline clip-path=\"url(#clip810)\" style=\"stroke:#000000; stroke-linecap:round; stroke-linejoin:round; stroke-width:4; stroke-opacity:1; fill:none\" points=\"\n",
       "  1874.62,1423.18 1874.62,1404.28 \n",
       "  \"/>\n",
       "<polyline clip-path=\"url(#clip810)\" style=\"stroke:#000000; stroke-linecap:round; stroke-linejoin:round; stroke-width:4; stroke-opacity:1; fill:none\" points=\"\n",
       "  2290.39,1423.18 2290.39,1404.28 \n",
       "  \"/>\n",
       "<path clip-path=\"url(#clip810)\" d=\"M211.556 1454.1 Q207.945 1454.1 206.116 1457.66 Q204.311 1461.2 204.311 1468.33 Q204.311 1475.44 206.116 1479.01 Q207.945 1482.55 211.556 1482.55 Q215.19 1482.55 216.996 1479.01 Q218.824 1475.44 218.824 1468.33 Q218.824 1461.2 216.996 1457.66 Q215.19 1454.1 211.556 1454.1 M211.556 1450.39 Q217.366 1450.39 220.422 1455 Q223.5 1459.58 223.5 1468.33 Q223.5 1477.06 220.422 1481.67 Q217.366 1486.25 211.556 1486.25 Q205.746 1486.25 202.667 1481.67 Q199.612 1477.06 199.612 1468.33 Q199.612 1459.58 202.667 1455 Q205.746 1450.39 211.556 1450.39 Z\" fill=\"#000000\" fill-rule=\"evenodd\" fill-opacity=\"1\" /><path clip-path=\"url(#clip810)\" d=\"M617.705 1481.64 L625.344 1481.64 L625.344 1455.28 L617.034 1456.95 L617.034 1452.69 L625.297 1451.02 L629.973 1451.02 L629.973 1481.64 L637.612 1481.64 L637.612 1485.58 L617.705 1485.58 L617.705 1481.64 Z\" fill=\"#000000\" fill-rule=\"evenodd\" fill-opacity=\"1\" /><path clip-path=\"url(#clip810)\" d=\"M1037.74 1481.64 L1054.06 1481.64 L1054.06 1485.58 L1032.12 1485.58 L1032.12 1481.64 Q1034.78 1478.89 1039.36 1474.26 Q1043.97 1469.61 1045.15 1468.27 Q1047.4 1465.74 1048.28 1464.01 Q1049.18 1462.25 1049.18 1460.56 Q1049.18 1457.8 1047.23 1456.07 Q1045.31 1454.33 1042.21 1454.33 Q1040.01 1454.33 1037.56 1455.09 Q1035.13 1455.86 1032.35 1457.41 L1032.35 1452.69 Q1035.17 1451.55 1037.63 1450.97 Q1040.08 1450.39 1042.12 1450.39 Q1047.49 1450.39 1050.68 1453.08 Q1053.88 1455.77 1053.88 1460.26 Q1053.88 1462.39 1053.07 1464.31 Q1052.28 1466.2 1050.17 1468.8 Q1049.59 1469.47 1046.49 1472.69 Q1043.39 1475.88 1037.74 1481.64 Z\" fill=\"#000000\" fill-rule=\"evenodd\" fill-opacity=\"1\" /><path clip-path=\"url(#clip810)\" d=\"M1463.1 1466.95 Q1466.46 1467.66 1468.34 1469.93 Q1470.23 1472.2 1470.23 1475.53 Q1470.23 1480.65 1466.72 1483.45 Q1463.2 1486.25 1456.72 1486.25 Q1454.54 1486.25 1452.22 1485.81 Q1449.93 1485.39 1447.48 1484.54 L1447.48 1480.02 Q1449.42 1481.16 1451.74 1481.74 Q1454.05 1482.32 1456.58 1482.32 Q1460.97 1482.32 1463.27 1480.58 Q1465.58 1478.84 1465.58 1475.53 Q1465.58 1472.48 1463.43 1470.77 Q1461.3 1469.03 1457.48 1469.03 L1453.45 1469.03 L1453.45 1465.19 L1457.66 1465.19 Q1461.11 1465.19 1462.94 1463.82 Q1464.77 1462.43 1464.77 1459.84 Q1464.77 1457.18 1462.87 1455.77 Q1461 1454.33 1457.48 1454.33 Q1455.56 1454.33 1453.36 1454.75 Q1451.16 1455.16 1448.52 1456.04 L1448.52 1451.88 Q1451.18 1451.14 1453.5 1450.77 Q1455.84 1450.39 1457.9 1450.39 Q1463.22 1450.39 1466.32 1452.83 Q1469.42 1455.23 1469.42 1459.35 Q1469.42 1462.22 1467.78 1464.21 Q1466.14 1466.18 1463.1 1466.95 Z\" fill=\"#000000\" fill-rule=\"evenodd\" fill-opacity=\"1\" /><path clip-path=\"url(#clip810)\" d=\"M1877.63 1455.09 L1865.83 1473.54 L1877.63 1473.54 L1877.63 1455.09 M1876.41 1451.02 L1882.29 1451.02 L1882.29 1473.54 L1887.22 1473.54 L1887.22 1477.43 L1882.29 1477.43 L1882.29 1485.58 L1877.63 1485.58 L1877.63 1477.43 L1862.03 1477.43 L1862.03 1472.92 L1876.41 1451.02 Z\" fill=\"#000000\" fill-rule=\"evenodd\" fill-opacity=\"1\" /><path clip-path=\"url(#clip810)\" d=\"M2280.67 1451.02 L2299.03 1451.02 L2299.03 1454.96 L2284.95 1454.96 L2284.95 1463.43 Q2285.97 1463.08 2286.99 1462.92 Q2288.01 1462.73 2289.03 1462.73 Q2294.81 1462.73 2298.19 1465.9 Q2301.57 1469.08 2301.57 1474.49 Q2301.57 1480.07 2298.1 1483.17 Q2294.63 1486.25 2288.31 1486.25 Q2286.13 1486.25 2283.86 1485.88 Q2281.62 1485.51 2279.21 1484.77 L2279.21 1480.07 Q2281.29 1481.2 2283.52 1481.76 Q2285.74 1482.32 2288.21 1482.32 Q2292.22 1482.32 2294.56 1480.21 Q2296.9 1478.1 2296.9 1474.49 Q2296.9 1470.88 2294.56 1468.77 Q2292.22 1466.67 2288.21 1466.67 Q2286.34 1466.67 2284.46 1467.08 Q2282.61 1467.5 2280.67 1468.38 L2280.67 1451.02 Z\" fill=\"#000000\" fill-rule=\"evenodd\" fill-opacity=\"1\" /><path clip-path=\"url(#clip810)\" d=\"M1199.28 1522.27 L1199.28 1532.4 L1211.35 1532.4 L1211.35 1536.95 L1199.28 1536.95 L1199.28 1556.3 Q1199.28 1560.66 1200.46 1561.9 Q1201.67 1563.14 1205.33 1563.14 L1211.35 1563.14 L1211.35 1568.04 L1205.33 1568.04 Q1198.55 1568.04 1195.97 1565.53 Q1193.4 1562.98 1193.4 1556.3 L1193.4 1536.95 L1189.1 1536.95 L1189.1 1532.4 L1193.4 1532.4 L1193.4 1522.27 L1199.28 1522.27 Z\" fill=\"#000000\" fill-rule=\"evenodd\" fill-opacity=\"1\" /><path clip-path=\"url(#clip810)\" d=\"M1239.23 1518.52 L1252.72 1518.52 L1252.72 1523.07 L1245.09 1523.07 L1245.09 1572.09 L1252.72 1572.09 L1252.72 1576.64 L1239.23 1576.64 L1239.23 1518.52 Z\" fill=\"#000000\" fill-rule=\"evenodd\" fill-opacity=\"1\" /><path clip-path=\"url(#clip810)\" d=\"M1287.93 1533.45 L1287.93 1538.98 Q1285.44 1537.71 1282.77 1537.07 Q1280.1 1536.44 1277.23 1536.44 Q1272.87 1536.44 1270.68 1537.77 Q1268.51 1539.11 1268.51 1541.79 Q1268.51 1543.82 1270.07 1545 Q1271.63 1546.15 1276.34 1547.2 L1278.35 1547.64 Q1284.58 1548.98 1287.19 1551.43 Q1289.84 1553.85 1289.84 1558.21 Q1289.84 1563.17 1285.89 1566.07 Q1281.97 1568.97 1275.1 1568.97 Q1272.23 1568.97 1269.12 1568.39 Q1266.03 1567.85 1262.59 1566.74 L1262.59 1560.69 Q1265.84 1562.38 1268.99 1563.24 Q1272.14 1564.07 1275.23 1564.07 Q1279.36 1564.07 1281.59 1562.66 Q1283.82 1561.23 1283.82 1558.65 Q1283.82 1556.27 1282.2 1554.99 Q1280.61 1553.72 1275.16 1552.54 L1273.13 1552.07 Q1267.68 1550.92 1265.26 1548.56 Q1262.85 1546.18 1262.85 1542.04 Q1262.85 1537.01 1266.41 1534.27 Q1269.98 1531.54 1276.53 1531.54 Q1279.78 1531.54 1282.64 1532.01 Q1285.51 1532.49 1287.93 1533.45 Z\" fill=\"#000000\" fill-rule=\"evenodd\" fill-opacity=\"1\" /><path clip-path=\"url(#clip810)\" d=\"M1312.85 1518.52 L1312.85 1576.64 L1299.35 1576.64 L1299.35 1572.09 L1306.96 1572.09 L1306.96 1523.07 L1299.35 1523.07 L1299.35 1518.52 L1312.85 1518.52 Z\" fill=\"#000000\" fill-rule=\"evenodd\" fill-opacity=\"1\" /><polyline clip-path=\"url(#clip812)\" style=\"stroke:#000000; stroke-linecap:round; stroke-linejoin:round; stroke-width:2; stroke-opacity:0.1; fill:none\" points=\"\n",
       "  149.191,1307.23 2352.76,1307.23 \n",
       "  \"/>\n",
       "<polyline clip-path=\"url(#clip812)\" style=\"stroke:#000000; stroke-linecap:round; stroke-linejoin:round; stroke-width:2; stroke-opacity:0.1; fill:none\" points=\"\n",
       "  149.191,1013.06 2352.76,1013.06 \n",
       "  \"/>\n",
       "<polyline clip-path=\"url(#clip812)\" style=\"stroke:#000000; stroke-linecap:round; stroke-linejoin:round; stroke-width:2; stroke-opacity:0.1; fill:none\" points=\"\n",
       "  149.191,718.889 2352.76,718.889 \n",
       "  \"/>\n",
       "<polyline clip-path=\"url(#clip812)\" style=\"stroke:#000000; stroke-linecap:round; stroke-linejoin:round; stroke-width:2; stroke-opacity:0.1; fill:none\" points=\"\n",
       "  149.191,424.721 2352.76,424.721 \n",
       "  \"/>\n",
       "<polyline clip-path=\"url(#clip812)\" style=\"stroke:#000000; stroke-linecap:round; stroke-linejoin:round; stroke-width:2; stroke-opacity:0.1; fill:none\" points=\"\n",
       "  149.191,130.552 2352.76,130.552 \n",
       "  \"/>\n",
       "<polyline clip-path=\"url(#clip810)\" style=\"stroke:#000000; stroke-linecap:round; stroke-linejoin:round; stroke-width:4; stroke-opacity:1; fill:none\" points=\"\n",
       "  149.191,1423.18 149.191,47.2441 \n",
       "  \"/>\n",
       "<polyline clip-path=\"url(#clip810)\" style=\"stroke:#000000; stroke-linecap:round; stroke-linejoin:round; stroke-width:4; stroke-opacity:1; fill:none\" points=\"\n",
       "  149.191,1307.23 168.089,1307.23 \n",
       "  \"/>\n",
       "<polyline clip-path=\"url(#clip810)\" style=\"stroke:#000000; stroke-linecap:round; stroke-linejoin:round; stroke-width:4; stroke-opacity:1; fill:none\" points=\"\n",
       "  149.191,1013.06 168.089,1013.06 \n",
       "  \"/>\n",
       "<polyline clip-path=\"url(#clip810)\" style=\"stroke:#000000; stroke-linecap:round; stroke-linejoin:round; stroke-width:4; stroke-opacity:1; fill:none\" points=\"\n",
       "  149.191,718.889 168.089,718.889 \n",
       "  \"/>\n",
       "<polyline clip-path=\"url(#clip810)\" style=\"stroke:#000000; stroke-linecap:round; stroke-linejoin:round; stroke-width:4; stroke-opacity:1; fill:none\" points=\"\n",
       "  149.191,424.721 168.089,424.721 \n",
       "  \"/>\n",
       "<polyline clip-path=\"url(#clip810)\" style=\"stroke:#000000; stroke-linecap:round; stroke-linejoin:round; stroke-width:4; stroke-opacity:1; fill:none\" points=\"\n",
       "  149.191,130.552 168.089,130.552 \n",
       "  \"/>\n",
       "<path clip-path=\"url(#clip810)\" d=\"M50.9921 1307.68 L80.6679 1307.68 L80.6679 1311.61 L50.9921 1311.61 L50.9921 1307.68 Z\" fill=\"#000000\" fill-rule=\"evenodd\" fill-opacity=\"1\" /><path clip-path=\"url(#clip810)\" d=\"M103.608 1294.02 L91.8021 1312.47 L103.608 1312.47 L103.608 1294.02 M102.381 1289.95 L108.26 1289.95 L108.26 1312.47 L113.191 1312.47 L113.191 1316.36 L108.26 1316.36 L108.26 1324.51 L103.608 1324.51 L103.608 1316.36 L88.0058 1316.36 L88.0058 1311.84 L102.381 1289.95 Z\" fill=\"#000000\" fill-rule=\"evenodd\" fill-opacity=\"1\" /><path clip-path=\"url(#clip810)\" d=\"M53.0754 1013.51 L82.7512 1013.51 L82.7512 1017.44 L53.0754 1017.44 L53.0754 1013.51 Z\" fill=\"#000000\" fill-rule=\"evenodd\" fill-opacity=\"1\" /><path clip-path=\"url(#clip810)\" d=\"M96.8715 1026.4 L113.191 1026.4 L113.191 1030.34 L91.2465 1030.34 L91.2465 1026.4 Q93.9086 1023.65 98.4919 1019.02 Q103.098 1014.37 104.279 1013.02 Q106.524 1010.5 107.404 1008.76 Q108.307 1007 108.307 1005.31 Q108.307 1002.56 106.362 1000.82 Q104.441 999.087 101.339 999.087 Q99.14 999.087 96.6863 999.851 Q94.2558 1000.62 91.478 1002.17 L91.478 997.444 Q94.3021 996.31 96.7558 995.731 Q99.2095 995.152 101.246 995.152 Q106.617 995.152 109.811 997.837 Q113.006 1000.52 113.006 1005.01 Q113.006 1007.14 112.196 1009.06 Q111.408 1010.96 109.302 1013.55 Q108.723 1014.23 105.621 1017.44 Q102.52 1020.64 96.8715 1026.4 Z\" fill=\"#000000\" fill-rule=\"evenodd\" fill-opacity=\"1\" /><path clip-path=\"url(#clip810)\" d=\"M101.246 704.688 Q97.6354 704.688 95.8067 708.252 Q94.0012 711.794 94.0012 718.924 Q94.0012 726.03 95.8067 729.595 Q97.6354 733.137 101.246 733.137 Q104.881 733.137 106.686 729.595 Q108.515 726.03 108.515 718.924 Q108.515 711.794 106.686 708.252 Q104.881 704.688 101.246 704.688 M101.246 700.984 Q107.057 700.984 110.112 705.59 Q113.191 710.174 113.191 718.924 Q113.191 727.651 110.112 732.257 Q107.057 736.84 101.246 736.84 Q95.4363 736.84 92.3576 732.257 Q89.3021 727.651 89.3021 718.924 Q89.3021 710.174 92.3576 705.59 Q95.4363 700.984 101.246 700.984 Z\" fill=\"#000000\" fill-rule=\"evenodd\" fill-opacity=\"1\" /><path clip-path=\"url(#clip810)\" d=\"M96.8715 438.066 L113.191 438.066 L113.191 442.001 L91.2465 442.001 L91.2465 438.066 Q93.9086 435.311 98.4919 430.681 Q103.098 426.029 104.279 424.686 Q106.524 422.163 107.404 420.427 Q108.307 418.668 108.307 416.978 Q108.307 414.223 106.362 412.487 Q104.441 410.751 101.339 410.751 Q99.14 410.751 96.6863 411.515 Q94.2558 412.279 91.478 413.83 L91.478 409.107 Q94.3021 407.973 96.7558 407.394 Q99.2095 406.816 101.246 406.816 Q106.617 406.816 109.811 409.501 Q113.006 412.186 113.006 416.677 Q113.006 418.806 112.196 420.728 Q111.408 422.626 109.302 425.218 Q108.723 425.89 105.621 429.107 Q102.52 432.302 96.8715 438.066 Z\" fill=\"#000000\" fill-rule=\"evenodd\" fill-opacity=\"1\" /><path clip-path=\"url(#clip810)\" d=\"M103.608 117.347 L91.8021 135.795 L103.608 135.795 L103.608 117.347 M102.381 113.272 L108.26 113.272 L108.26 135.795 L113.191 135.795 L113.191 139.684 L108.26 139.684 L108.26 147.832 L103.608 147.832 L103.608 139.684 L88.0058 139.684 L88.0058 135.17 L102.381 113.272 Z\" fill=\"#000000\" fill-rule=\"evenodd\" fill-opacity=\"1\" /><polyline clip-path=\"url(#clip812)\" style=\"stroke:#009af9; stroke-linecap:round; stroke-linejoin:round; stroke-width:4; stroke-opacity:1; fill:none\" points=\"\n",
       "  211.556,645.347 253.133,642.165 294.709,632.742 336.286,617.853 377.863,598.92 419.439,577.781 461.016,556.534 502.593,537.313 544.17,522.04 585.746,512.277 \n",
       "  627.323,509.15 668.9,512.112 710.476,520.228 752.053,532.859 793.63,548.825 835.206,566.562 876.783,584.315 918.36,600.318 959.936,612.964 1001.51,620.934 \n",
       "  1043.09,623.265 1084.67,620.711 1126.24,614.106 1167.82,603.953 1209.4,591.183 1250.97,577.033 1292.55,562.888 1334.13,550.164 1375.7,540.165 1417.28,533.963 \n",
       "  1458.86,532.321 1500.43,534.273 1542.01,539.087 1583.59,546.423 1625.16,555.638 1666.74,565.865 1708.32,576.098 1749.89,585.313 1791.47,592.555 1833.05,597.022 \n",
       "  1874.62,598.136 1916.2,597.023 1957.78,594.359 1999.35,590.306 2040.93,585.2 2082.51,579.495 2124.08,573.744 2165.66,568.526 2207.24,564.396 2248.81,561.838 \n",
       "  2290.39,561.185 \n",
       "  \"/>\n",
       "<polyline clip-path=\"url(#clip812)\" style=\"stroke:#e26f46; stroke-linecap:round; stroke-linejoin:round; stroke-width:4; stroke-opacity:1; fill:none\" points=\"\n",
       "  211.556,718.889 253.133,655.223 294.709,595.313 336.286,546.767 377.863,515.004 419.439,503.416 461.016,513.271 502.593,543.602 544.17,591.553 585.746,652.963 \n",
       "  627.323,722.126 668.9,774.863 710.476,824.379 752.053,864.398 793.63,890.332 835.206,899.371 876.783,890.515 918.36,864.537 959.936,823.765 1001.51,771.579 \n",
       "  1043.09,714.091 1084.67,672.68 1126.24,633.798 1167.82,602.326 1209.4,581.961 1250.97,574.982 1292.55,582.3 1334.13,603.374 1375.7,636.405 1417.28,678.746 \n",
       "  1458.86,723.727 1500.43,752.995 1542.01,780.591 1583.59,803.103 1625.16,817.828 1666.74,822.974 1708.32,817.807 1749.89,802.603 1791.47,778.517 1833.05,747.354 \n",
       "  1874.62,715.711 1916.2,699.898 1957.78,684.837 1999.35,672.311 2040.93,663.854 2082.51,660.582 2124.08,663.057 2165.66,671.299 2207.24,684.799 2248.81,702.62 \n",
       "  2290.39,718.889 \n",
       "  \"/>\n",
       "<polyline clip-path=\"url(#clip812)\" style=\"stroke:#3da44d; stroke-linecap:round; stroke-linejoin:round; stroke-width:4; stroke-opacity:1; fill:none\" points=\"\n",
       "  211.556,93.7814 253.133,86.1857 294.709,166.17 336.286,310.866 377.863,499.297 419.439,710.6 461.016,923.139 502.593,1116.12 544.17,1272.7 585.746,1384.24 \n",
       "  627.323,1238.12 668.9,1241.89 710.476,1175.09 752.053,1054.13 793.63,896.2 835.206,719.206 876.783,541.311 918.36,379.555 959.936,247.614 1001.51,152.267 \n",
       "  1043.09,310.191 1084.67,308.138 1126.24,360.024 1167.82,455.076 1209.4,580.148 1250.97,720.966 1292.55,863.136 1334.13,993.13 1375.7,1100.14 1417.28,1178.69 \n",
       "  1458.86,1007.86 1500.43,1009.48 1542.01,974.429 1583.59,908.322 1625.16,819.686 1666.74,718.455 1708.32,615.078 1749.89,519.288 1791.47,438.946 1833.05,378.586 \n",
       "  1874.62,562.943 1916.2,561.235 1957.78,578.109 1999.35,612.01 2040.93,659.256 2082.51,714.952 2124.08,773.481 2165.66,829.334 2207.24,877.71 2248.81,915.086 \n",
       "  2290.39,718.889 \n",
       "  \"/>\n",
       "<polyline clip-path=\"url(#clip812)\" style=\"stroke:#c271d2; stroke-linecap:round; stroke-linejoin:round; stroke-width:4; stroke-opacity:1; fill:none\" points=\"\n",
       "  211.556,608.576 253.133,647.991 294.709,662.238 336.286,666.431 377.863,667.326 419.439,667.417 461.016,667.347 502.593,666.571 544.17,662.732 585.746,648.815 \n",
       "  627.323,826.198 668.9,792.813 710.476,778.456 752.053,773.104 793.63,771.379 835.206,771.004 876.783,771.37 918.36,773.092 959.936,778.572 1001.51,794.218 \n",
       "  1043.09,612.981 1084.67,640.575 1126.24,654.741 1167.82,661.217 1209.4,663.845 1250.97,664.53 1292.55,663.809 1334.13,661.053 1375.7,654.037 1417.28,637.504 \n",
       "  1458.86,824.761 1500.43,803.617 1542.01,790.526 1583.59,783.271 1625.16,779.761 1666.74,778.724 1708.32,779.766 1749.89,783.406 1791.47,791.331 1833.05,807.022 \n",
       "  1874.62,611.527 1916.2,624.363 1957.78,634.13 1999.35,640.752 2040.93,644.57 2082.51,645.921 2124.08,644.905 2165.66,641.235 2207.24,634.152 2248.81,622.358 \n",
       "  2290.39,825.084 \n",
       "  \"/>\n",
       "<path clip-path=\"url(#clip810)\" d=\"\n",
       "M1390.67 352.309 L2279.3 352.309 L2279.3 93.1086 L1390.67 93.1086  Z\n",
       "  \" fill=\"#ffffff\" fill-rule=\"evenodd\" fill-opacity=\"1\"/>\n",
       "<polyline clip-path=\"url(#clip810)\" style=\"stroke:#000000; stroke-linecap:round; stroke-linejoin:round; stroke-width:4; stroke-opacity:1; fill:none\" points=\"\n",
       "  1390.67,352.309 2279.3,352.309 2279.3,93.1086 1390.67,93.1086 1390.67,352.309 \n",
       "  \"/>\n",
       "<polyline clip-path=\"url(#clip810)\" style=\"stroke:#009af9; stroke-linecap:round; stroke-linejoin:round; stroke-width:4; stroke-opacity:1; fill:none\" points=\"\n",
       "  1415.15,144.949 1562.06,144.949 \n",
       "  \"/>\n",
       "<path clip-path=\"url(#clip810)\" d=\"M1606.89 141.28 Q1608.49 138.409 1610.71 137.044 Q1612.93 135.678 1615.94 135.678 Q1619.99 135.678 1622.19 138.525 Q1624.39 141.349 1624.39 146.581 L1624.39 162.229 L1620.11 162.229 L1620.11 146.719 Q1620.11 142.993 1618.79 141.187 Q1617.47 139.382 1614.76 139.382 Q1611.45 139.382 1609.53 141.581 Q1607.61 143.78 1607.61 147.576 L1607.61 162.229 L1603.33 162.229 L1603.33 146.719 Q1603.33 142.969 1602.01 141.187 Q1600.69 139.382 1597.93 139.382 Q1594.67 139.382 1592.75 141.604 Q1590.83 143.803 1590.83 147.576 L1590.83 162.229 L1586.54 162.229 L1586.54 136.303 L1590.83 136.303 L1590.83 140.331 Q1592.28 137.946 1594.32 136.812 Q1596.36 135.678 1599.16 135.678 Q1601.98 135.678 1603.95 137.113 Q1605.94 138.548 1606.89 141.28 Z\" fill=\"#000000\" fill-rule=\"evenodd\" fill-opacity=\"1\" /><path clip-path=\"url(#clip810)\" d=\"M1644.67 149.196 Q1639.51 149.196 1637.51 150.377 Q1635.52 151.557 1635.52 154.405 Q1635.52 156.673 1637.01 158.016 Q1638.51 159.335 1641.08 159.335 Q1644.62 159.335 1646.75 156.835 Q1648.9 154.312 1648.9 150.145 L1648.9 149.196 L1644.67 149.196 M1653.16 147.437 L1653.16 162.229 L1648.9 162.229 L1648.9 158.293 Q1647.45 160.655 1645.27 161.789 Q1643.09 162.9 1639.95 162.9 Q1635.96 162.9 1633.6 160.678 Q1631.26 158.432 1631.26 154.682 Q1631.26 150.307 1634.18 148.085 Q1637.12 145.863 1642.93 145.863 L1648.9 145.863 L1648.9 145.446 Q1648.9 142.507 1646.96 140.909 Q1645.04 139.289 1641.54 139.289 Q1639.32 139.289 1637.21 139.821 Q1635.11 140.354 1633.16 141.419 L1633.16 137.483 Q1635.5 136.581 1637.7 136.141 Q1639.9 135.678 1641.98 135.678 Q1647.61 135.678 1650.39 138.594 Q1653.16 141.511 1653.16 147.437 Z\" fill=\"#000000\" fill-rule=\"evenodd\" fill-opacity=\"1\" /><path clip-path=\"url(#clip810)\" d=\"M1678.46 137.067 L1678.46 141.094 Q1676.66 140.169 1674.71 139.706 Q1672.77 139.243 1670.69 139.243 Q1667.51 139.243 1665.92 140.215 Q1664.34 141.187 1664.34 143.131 Q1664.34 144.613 1665.48 145.469 Q1666.61 146.303 1670.04 147.067 L1671.5 147.391 Q1676.03 148.363 1677.93 150.145 Q1679.85 151.905 1679.85 155.076 Q1679.85 158.687 1676.98 160.793 Q1674.13 162.9 1669.13 162.9 Q1667.05 162.9 1664.78 162.483 Q1662.54 162.09 1660.04 161.28 L1660.04 156.881 Q1662.4 158.108 1664.69 158.733 Q1666.98 159.335 1669.23 159.335 Q1672.24 159.335 1673.86 158.317 Q1675.48 157.275 1675.48 155.4 Q1675.48 153.664 1674.3 152.738 Q1673.14 151.812 1669.18 150.956 L1667.7 150.608 Q1663.74 149.775 1661.98 148.062 Q1660.22 146.326 1660.22 143.317 Q1660.22 139.659 1662.82 137.669 Q1665.41 135.678 1670.18 135.678 Q1672.54 135.678 1674.62 136.025 Q1676.7 136.372 1678.46 137.067 Z\" fill=\"#000000\" fill-rule=\"evenodd\" fill-opacity=\"1\" /><path clip-path=\"url(#clip810)\" d=\"M1703.16 137.067 L1703.16 141.094 Q1701.36 140.169 1699.41 139.706 Q1697.47 139.243 1695.38 139.243 Q1692.21 139.243 1690.62 140.215 Q1689.04 141.187 1689.04 143.131 Q1689.04 144.613 1690.18 145.469 Q1691.31 146.303 1694.74 147.067 L1696.19 147.391 Q1700.73 148.363 1702.63 150.145 Q1704.55 151.905 1704.55 155.076 Q1704.55 158.687 1701.68 160.793 Q1698.83 162.9 1693.83 162.9 Q1691.75 162.9 1689.48 162.483 Q1687.24 162.09 1684.74 161.28 L1684.74 156.881 Q1687.1 158.108 1689.39 158.733 Q1691.68 159.335 1693.93 159.335 Q1696.94 159.335 1698.56 158.317 Q1700.18 157.275 1700.18 155.4 Q1700.18 153.664 1699 152.738 Q1697.84 151.812 1693.88 150.956 L1692.4 150.608 Q1688.44 149.775 1686.68 148.062 Q1684.92 146.326 1684.92 143.317 Q1684.92 139.659 1687.51 137.669 Q1690.11 135.678 1694.88 135.678 Q1697.24 135.678 1699.32 136.025 Q1701.4 136.372 1703.16 137.067 Z\" fill=\"#000000\" fill-rule=\"evenodd\" fill-opacity=\"1\" /><path clip-path=\"url(#clip810)\" d=\"M1711.94 156.349 L1716.82 156.349 L1716.82 162.229 L1711.94 162.229 L1711.94 156.349 Z\" fill=\"#000000\" fill-rule=\"evenodd\" fill-opacity=\"1\" /><path clip-path=\"url(#clip810)\" d=\"M1742.93 137.067 L1742.93 141.094 Q1741.13 140.169 1739.18 139.706 Q1737.24 139.243 1735.15 139.243 Q1731.98 139.243 1730.38 140.215 Q1728.81 141.187 1728.81 143.131 Q1728.81 144.613 1729.94 145.469 Q1731.08 146.303 1734.5 147.067 L1735.96 147.391 Q1740.5 148.363 1742.4 150.145 Q1744.32 151.905 1744.32 155.076 Q1744.32 158.687 1741.45 160.793 Q1738.6 162.9 1733.6 162.9 Q1731.52 162.9 1729.25 162.483 Q1727 162.09 1724.51 161.28 L1724.51 156.881 Q1726.87 158.108 1729.16 158.733 Q1731.45 159.335 1733.69 159.335 Q1736.7 159.335 1738.32 158.317 Q1739.94 157.275 1739.94 155.4 Q1739.94 153.664 1738.76 152.738 Q1737.61 151.812 1733.65 150.956 L1732.17 150.608 Q1728.21 149.775 1726.45 148.062 Q1724.69 146.326 1724.69 143.317 Q1724.69 139.659 1727.28 137.669 Q1729.88 135.678 1734.64 135.678 Q1737 135.678 1739.09 136.025 Q1741.17 136.372 1742.93 137.067 Z\" fill=\"#000000\" fill-rule=\"evenodd\" fill-opacity=\"1\" /><path clip-path=\"url(#clip810)\" d=\"M1776.4 126.257 Q1773.3 131.581 1771.8 136.789 Q1770.29 141.997 1770.29 147.344 Q1770.29 152.692 1771.8 157.946 Q1773.32 163.178 1776.4 168.479 L1772.7 168.479 Q1769.23 163.039 1767.49 157.784 Q1765.78 152.53 1765.78 147.344 Q1765.78 142.182 1767.49 136.951 Q1769.2 131.72 1772.7 126.257 L1776.4 126.257 Z\" fill=\"#000000\" fill-rule=\"evenodd\" fill-opacity=\"1\" /><path clip-path=\"url(#clip810)\" d=\"M1799.44 143.594 Q1802.79 144.312 1804.67 146.581 Q1806.56 148.849 1806.56 152.182 Q1806.56 157.298 1803.05 160.099 Q1799.53 162.9 1793.05 162.9 Q1790.87 162.9 1788.56 162.46 Q1786.26 162.043 1783.81 161.187 L1783.81 156.673 Q1785.75 157.807 1788.07 158.386 Q1790.38 158.965 1792.91 158.965 Q1797.31 158.965 1799.6 157.229 Q1801.91 155.493 1801.91 152.182 Q1801.91 149.127 1799.76 147.414 Q1797.63 145.678 1793.81 145.678 L1789.78 145.678 L1789.78 141.835 L1794 141.835 Q1797.44 141.835 1799.27 140.469 Q1801.1 139.081 1801.1 136.488 Q1801.1 133.826 1799.2 132.414 Q1797.33 130.979 1793.81 130.979 Q1791.89 130.979 1789.69 131.395 Q1787.49 131.812 1784.85 132.692 L1784.85 128.525 Q1787.51 127.784 1789.83 127.414 Q1792.17 127.044 1794.23 127.044 Q1799.55 127.044 1802.65 129.474 Q1805.75 131.882 1805.75 136.002 Q1805.75 138.872 1804.11 140.863 Q1802.47 142.831 1799.44 143.594 Z\" fill=\"#000000\" fill-rule=\"evenodd\" fill-opacity=\"1\" /><path clip-path=\"url(#clip810)\" d=\"M1829.6 143.594 Q1832.95 144.312 1834.83 146.581 Q1836.73 148.849 1836.73 152.182 Q1836.73 157.298 1833.21 160.099 Q1829.69 162.9 1823.21 162.9 Q1821.03 162.9 1818.72 162.46 Q1816.43 162.043 1813.97 161.187 L1813.97 156.673 Q1815.92 157.807 1818.23 158.386 Q1820.55 158.965 1823.07 158.965 Q1827.47 158.965 1829.76 157.229 Q1832.07 155.493 1832.07 152.182 Q1832.07 149.127 1829.92 147.414 Q1827.79 145.678 1823.97 145.678 L1819.94 145.678 L1819.94 141.835 L1824.16 141.835 Q1827.61 141.835 1829.43 140.469 Q1831.26 139.081 1831.26 136.488 Q1831.26 133.826 1829.37 132.414 Q1827.49 130.979 1823.97 130.979 Q1822.05 130.979 1819.85 131.395 Q1817.65 131.812 1815.01 132.692 L1815.01 128.525 Q1817.68 127.784 1819.99 127.414 Q1822.33 127.044 1824.39 127.044 Q1829.71 127.044 1832.81 129.474 Q1835.92 131.882 1835.92 136.002 Q1835.92 138.872 1834.27 140.863 Q1832.63 142.831 1829.6 143.594 Z\" fill=\"#000000\" fill-rule=\"evenodd\" fill-opacity=\"1\" /><path clip-path=\"url(#clip810)\" d=\"M1845.64 127.669 L1863.99 127.669 L1863.99 131.604 L1849.92 131.604 L1849.92 140.076 Q1850.94 139.729 1851.96 139.567 Q1852.98 139.382 1854 139.382 Q1859.78 139.382 1863.16 142.553 Q1866.54 145.724 1866.54 151.141 Q1866.54 156.719 1863.07 159.821 Q1859.6 162.9 1853.28 162.9 Q1851.1 162.9 1848.83 162.53 Q1846.59 162.159 1844.18 161.418 L1844.18 156.719 Q1846.26 157.854 1848.49 158.409 Q1850.71 158.965 1853.18 158.965 Q1857.19 158.965 1859.53 156.858 Q1861.87 154.752 1861.87 151.141 Q1861.87 147.53 1859.53 145.423 Q1857.19 143.317 1853.18 143.317 Q1851.31 143.317 1849.43 143.733 Q1847.58 144.15 1845.64 145.03 L1845.64 127.669 Z\" fill=\"#000000\" fill-rule=\"evenodd\" fill-opacity=\"1\" /><path clip-path=\"url(#clip810)\" d=\"M1875.8 127.669 L1894.16 127.669 L1894.16 131.604 L1880.08 131.604 L1880.08 140.076 Q1881.1 139.729 1882.12 139.567 Q1883.14 139.382 1884.16 139.382 Q1889.94 139.382 1893.32 142.553 Q1896.7 145.724 1896.7 151.141 Q1896.7 156.719 1893.23 159.821 Q1889.76 162.9 1883.44 162.9 Q1881.26 162.9 1878.99 162.53 Q1876.75 162.159 1874.34 161.418 L1874.34 156.719 Q1876.43 157.854 1878.65 158.409 Q1880.87 158.965 1883.35 158.965 Q1887.35 158.965 1889.69 156.858 Q1892.03 154.752 1892.03 151.141 Q1892.03 147.53 1889.69 145.423 Q1887.35 143.317 1883.35 143.317 Q1881.47 143.317 1879.6 143.733 Q1877.74 144.15 1875.8 145.03 L1875.8 127.669 Z\" fill=\"#000000\" fill-rule=\"evenodd\" fill-opacity=\"1\" /><path clip-path=\"url(#clip810)\" d=\"M1918.76 131.743 L1906.96 150.192 L1918.76 150.192 L1918.76 131.743 M1917.54 127.669 L1923.42 127.669 L1923.42 150.192 L1928.35 150.192 L1928.35 154.081 L1923.42 154.081 L1923.42 162.229 L1918.76 162.229 L1918.76 154.081 L1903.16 154.081 L1903.16 149.567 L1917.54 127.669 Z\" fill=\"#000000\" fill-rule=\"evenodd\" fill-opacity=\"1\" /><path clip-path=\"url(#clip810)\" d=\"M1948.93 131.743 L1937.12 150.192 L1948.93 150.192 L1948.93 131.743 M1947.7 127.669 L1953.58 127.669 L1953.58 150.192 L1958.51 150.192 L1958.51 154.081 L1953.58 154.081 L1953.58 162.229 L1948.93 162.229 L1948.93 154.081 L1933.32 154.081 L1933.32 149.567 L1947.7 127.669 Z\" fill=\"#000000\" fill-rule=\"evenodd\" fill-opacity=\"1\" /><path clip-path=\"url(#clip810)\" d=\"M1980.41 143.594 Q1983.76 144.312 1985.64 146.581 Q1987.54 148.849 1987.54 152.182 Q1987.54 157.298 1984.02 160.099 Q1980.5 162.9 1974.02 162.9 Q1971.84 162.9 1969.53 162.46 Q1967.24 162.043 1964.78 161.187 L1964.78 156.673 Q1966.73 157.807 1969.04 158.386 Q1971.36 158.965 1973.88 158.965 Q1978.28 158.965 1980.57 157.229 Q1982.88 155.493 1982.88 152.182 Q1982.88 149.127 1980.73 147.414 Q1978.6 145.678 1974.78 145.678 L1970.75 145.678 L1970.75 141.835 L1974.97 141.835 Q1978.42 141.835 1980.24 140.469 Q1982.07 139.081 1982.07 136.488 Q1982.07 133.826 1980.17 132.414 Q1978.3 130.979 1974.78 130.979 Q1972.86 130.979 1970.66 131.395 Q1968.46 131.812 1965.82 132.692 L1965.82 128.525 Q1968.49 127.784 1970.8 127.414 Q1973.14 127.044 1975.2 127.044 Q1980.52 127.044 1983.62 129.474 Q1986.73 131.882 1986.73 136.002 Q1986.73 138.872 1985.08 140.863 Q1983.44 142.831 1980.41 143.594 Z\" fill=\"#000000\" fill-rule=\"evenodd\" fill-opacity=\"1\" /><path clip-path=\"url(#clip810)\" d=\"M2000.43 158.293 L2016.75 158.293 L2016.75 162.229 L1994.8 162.229 L1994.8 158.293 Q1997.47 155.539 2002.05 150.909 Q2006.66 146.256 2007.84 144.914 Q2010.08 142.391 2010.96 140.655 Q2011.86 138.895 2011.86 137.206 Q2011.86 134.451 2009.92 132.715 Q2008 130.979 2004.9 130.979 Q2002.7 130.979 2000.24 131.743 Q1997.81 132.507 1995.04 134.057 L1995.04 129.335 Q1997.86 128.201 2000.31 127.622 Q2002.77 127.044 2004.8 127.044 Q2010.17 127.044 2013.37 129.729 Q2016.56 132.414 2016.56 136.905 Q2016.56 139.034 2015.75 140.956 Q2014.97 142.854 2012.86 145.446 Q2012.28 146.118 2009.18 149.335 Q2006.08 152.53 2000.43 158.293 Z\" fill=\"#000000\" fill-rule=\"evenodd\" fill-opacity=\"1\" /><path clip-path=\"url(#clip810)\" d=\"M2025.29 126.257 L2028.99 126.257 Q2032.47 131.72 2034.18 136.951 Q2035.92 142.182 2035.92 147.344 Q2035.92 152.53 2034.18 157.784 Q2032.47 163.039 2028.99 168.479 L2025.29 168.479 Q2028.37 163.178 2029.87 157.946 Q2031.4 152.692 2031.4 147.344 Q2031.4 141.997 2029.87 136.789 Q2028.37 131.581 2025.29 126.257 Z\" fill=\"#000000\" fill-rule=\"evenodd\" fill-opacity=\"1\" /><polyline clip-path=\"url(#clip810)\" style=\"stroke:#e26f46; stroke-linecap:round; stroke-linejoin:round; stroke-width:4; stroke-opacity:1; fill:none\" points=\"\n",
       "  1415.15,196.789 1562.06,196.789 \n",
       "  \"/>\n",
       "<path clip-path=\"url(#clip810)\" d=\"M1606.89 193.12 Q1608.49 190.249 1610.71 188.884 Q1612.93 187.518 1615.94 187.518 Q1619.99 187.518 1622.19 190.365 Q1624.39 193.189 1624.39 198.421 L1624.39 214.069 L1620.11 214.069 L1620.11 198.559 Q1620.11 194.833 1618.79 193.027 Q1617.47 191.222 1614.76 191.222 Q1611.45 191.222 1609.53 193.421 Q1607.61 195.62 1607.61 199.416 L1607.61 214.069 L1603.33 214.069 L1603.33 198.559 Q1603.33 194.809 1602.01 193.027 Q1600.69 191.222 1597.93 191.222 Q1594.67 191.222 1592.75 193.444 Q1590.83 195.643 1590.83 199.416 L1590.83 214.069 L1586.54 214.069 L1586.54 188.143 L1590.83 188.143 L1590.83 192.171 Q1592.28 189.786 1594.32 188.652 Q1596.36 187.518 1599.16 187.518 Q1601.98 187.518 1603.95 188.953 Q1605.94 190.388 1606.89 193.12 Z\" fill=\"#000000\" fill-rule=\"evenodd\" fill-opacity=\"1\" /><path clip-path=\"url(#clip810)\" d=\"M1644.67 201.036 Q1639.51 201.036 1637.51 202.217 Q1635.52 203.397 1635.52 206.245 Q1635.52 208.513 1637.01 209.856 Q1638.51 211.175 1641.08 211.175 Q1644.62 211.175 1646.75 208.675 Q1648.9 206.152 1648.9 201.985 L1648.9 201.036 L1644.67 201.036 M1653.16 199.277 L1653.16 214.069 L1648.9 214.069 L1648.9 210.133 Q1647.45 212.495 1645.27 213.629 Q1643.09 214.74 1639.95 214.74 Q1635.96 214.74 1633.6 212.518 Q1631.26 210.272 1631.26 206.522 Q1631.26 202.147 1634.18 199.925 Q1637.12 197.703 1642.93 197.703 L1648.9 197.703 L1648.9 197.286 Q1648.9 194.347 1646.96 192.749 Q1645.04 191.129 1641.54 191.129 Q1639.32 191.129 1637.21 191.661 Q1635.11 192.194 1633.16 193.259 L1633.16 189.323 Q1635.5 188.421 1637.7 187.981 Q1639.9 187.518 1641.98 187.518 Q1647.61 187.518 1650.39 190.434 Q1653.16 193.351 1653.16 199.277 Z\" fill=\"#000000\" fill-rule=\"evenodd\" fill-opacity=\"1\" /><path clip-path=\"url(#clip810)\" d=\"M1678.46 188.907 L1678.46 192.934 Q1676.66 192.009 1674.71 191.546 Q1672.77 191.083 1670.69 191.083 Q1667.51 191.083 1665.92 192.055 Q1664.34 193.027 1664.34 194.971 Q1664.34 196.453 1665.48 197.309 Q1666.61 198.143 1670.04 198.907 L1671.5 199.231 Q1676.03 200.203 1677.93 201.985 Q1679.85 203.745 1679.85 206.916 Q1679.85 210.527 1676.98 212.633 Q1674.13 214.74 1669.13 214.74 Q1667.05 214.74 1664.78 214.323 Q1662.54 213.93 1660.04 213.12 L1660.04 208.721 Q1662.4 209.948 1664.69 210.573 Q1666.98 211.175 1669.23 211.175 Q1672.24 211.175 1673.86 210.157 Q1675.48 209.115 1675.48 207.24 Q1675.48 205.504 1674.3 204.578 Q1673.14 203.652 1669.18 202.796 L1667.7 202.448 Q1663.74 201.615 1661.98 199.902 Q1660.22 198.166 1660.22 195.157 Q1660.22 191.499 1662.82 189.509 Q1665.41 187.518 1670.18 187.518 Q1672.54 187.518 1674.62 187.865 Q1676.7 188.212 1678.46 188.907 Z\" fill=\"#000000\" fill-rule=\"evenodd\" fill-opacity=\"1\" /><path clip-path=\"url(#clip810)\" d=\"M1703.16 188.907 L1703.16 192.934 Q1701.36 192.009 1699.41 191.546 Q1697.47 191.083 1695.38 191.083 Q1692.21 191.083 1690.62 192.055 Q1689.04 193.027 1689.04 194.971 Q1689.04 196.453 1690.18 197.309 Q1691.31 198.143 1694.74 198.907 L1696.19 199.231 Q1700.73 200.203 1702.63 201.985 Q1704.55 203.745 1704.55 206.916 Q1704.55 210.527 1701.68 212.633 Q1698.83 214.74 1693.83 214.74 Q1691.75 214.74 1689.48 214.323 Q1687.24 213.93 1684.74 213.12 L1684.74 208.721 Q1687.1 209.948 1689.39 210.573 Q1691.68 211.175 1693.93 211.175 Q1696.94 211.175 1698.56 210.157 Q1700.18 209.115 1700.18 207.24 Q1700.18 205.504 1699 204.578 Q1697.84 203.652 1693.88 202.796 L1692.4 202.448 Q1688.44 201.615 1686.68 199.902 Q1684.92 198.166 1684.92 195.157 Q1684.92 191.499 1687.51 189.509 Q1690.11 187.518 1694.88 187.518 Q1697.24 187.518 1699.32 187.865 Q1701.4 188.212 1703.16 188.907 Z\" fill=\"#000000\" fill-rule=\"evenodd\" fill-opacity=\"1\" /><path clip-path=\"url(#clip810)\" d=\"M1711.94 208.189 L1716.82 208.189 L1716.82 214.069 L1711.94 214.069 L1711.94 208.189 Z\" fill=\"#000000\" fill-rule=\"evenodd\" fill-opacity=\"1\" /><path clip-path=\"url(#clip810)\" d=\"M1723.35 188.143 L1727.86 188.143 L1735.96 209.902 L1744.07 188.143 L1748.58 188.143 L1738.86 214.069 L1733.07 214.069 L1723.35 188.143 Z\" fill=\"#000000\" fill-rule=\"evenodd\" fill-opacity=\"1\" /><path clip-path=\"url(#clip810)\" d=\"M1779.76 178.097 Q1776.66 183.421 1775.15 188.629 Q1773.65 193.837 1773.65 199.184 Q1773.65 204.532 1775.15 209.786 Q1776.68 215.018 1779.76 220.319 L1776.06 220.319 Q1772.58 214.879 1770.85 209.624 Q1769.13 204.37 1769.13 199.184 Q1769.13 194.022 1770.85 188.791 Q1772.56 183.56 1776.06 178.097 L1779.76 178.097 Z\" fill=\"#000000\" fill-rule=\"evenodd\" fill-opacity=\"1\" /><path clip-path=\"url(#clip810)\" d=\"M1802.79 195.434 Q1806.15 196.152 1808.02 198.421 Q1809.92 200.689 1809.92 204.022 Q1809.92 209.138 1806.4 211.939 Q1802.88 214.74 1796.4 214.74 Q1794.23 214.74 1791.91 214.3 Q1789.62 213.883 1787.17 213.027 L1787.17 208.513 Q1789.11 209.647 1791.43 210.226 Q1793.74 210.805 1796.26 210.805 Q1800.66 210.805 1802.95 209.069 Q1805.27 207.333 1805.27 204.022 Q1805.27 200.967 1803.12 199.254 Q1800.99 197.518 1797.17 197.518 L1793.14 197.518 L1793.14 193.675 L1797.35 193.675 Q1800.8 193.675 1802.63 192.309 Q1804.46 190.921 1804.46 188.328 Q1804.46 185.666 1802.56 184.254 Q1800.69 182.819 1797.17 182.819 Q1795.25 182.819 1793.05 183.235 Q1790.85 183.652 1788.21 184.532 L1788.21 180.365 Q1790.87 179.624 1793.19 179.254 Q1795.52 178.884 1797.58 178.884 Q1802.91 178.884 1806.01 181.314 Q1809.11 183.722 1809.11 187.842 Q1809.11 190.712 1807.47 192.703 Q1805.82 194.671 1802.79 195.434 Z\" fill=\"#000000\" fill-rule=\"evenodd\" fill-opacity=\"1\" /><path clip-path=\"url(#clip810)\" d=\"M1832.95 195.434 Q1836.31 196.152 1838.18 198.421 Q1840.08 200.689 1840.08 204.022 Q1840.08 209.138 1836.56 211.939 Q1833.05 214.74 1826.56 214.74 Q1824.39 214.74 1822.07 214.3 Q1819.78 213.883 1817.33 213.027 L1817.33 208.513 Q1819.27 209.647 1821.59 210.226 Q1823.9 210.805 1826.43 210.805 Q1830.82 210.805 1833.12 209.069 Q1835.43 207.333 1835.43 204.022 Q1835.43 200.967 1833.28 199.254 Q1831.15 197.518 1827.33 197.518 L1823.3 197.518 L1823.3 193.675 L1827.51 193.675 Q1830.96 193.675 1832.79 192.309 Q1834.62 190.921 1834.62 188.328 Q1834.62 185.666 1832.72 184.254 Q1830.85 182.819 1827.33 182.819 Q1825.41 182.819 1823.21 183.235 Q1821.01 183.652 1818.37 184.532 L1818.37 180.365 Q1821.03 179.624 1823.35 179.254 Q1825.69 178.884 1827.75 178.884 Q1833.07 178.884 1836.17 181.314 Q1839.27 183.722 1839.27 187.842 Q1839.27 190.712 1837.63 192.703 Q1835.99 194.671 1832.95 195.434 Z\" fill=\"#000000\" fill-rule=\"evenodd\" fill-opacity=\"1\" /><path clip-path=\"url(#clip810)\" d=\"M1849 179.509 L1867.35 179.509 L1867.35 183.444 L1853.28 183.444 L1853.28 191.916 Q1854.3 191.569 1855.31 191.407 Q1856.33 191.222 1857.35 191.222 Q1863.14 191.222 1866.52 194.393 Q1869.9 197.564 1869.9 202.981 Q1869.9 208.559 1866.43 211.661 Q1862.95 214.74 1856.63 214.74 Q1854.46 214.74 1852.19 214.37 Q1849.94 213.999 1847.54 213.258 L1847.54 208.559 Q1849.62 209.694 1851.84 210.249 Q1854.06 210.805 1856.54 210.805 Q1860.55 210.805 1862.88 208.698 Q1865.22 206.592 1865.22 202.981 Q1865.22 199.37 1862.88 197.263 Q1860.55 195.157 1856.54 195.157 Q1854.67 195.157 1852.79 195.573 Q1850.94 195.99 1849 196.87 L1849 179.509 Z\" fill=\"#000000\" fill-rule=\"evenodd\" fill-opacity=\"1\" /><path clip-path=\"url(#clip810)\" d=\"M1879.16 179.509 L1897.51 179.509 L1897.51 183.444 L1883.44 183.444 L1883.44 191.916 Q1884.46 191.569 1885.48 191.407 Q1886.49 191.222 1887.51 191.222 Q1893.3 191.222 1896.68 194.393 Q1900.06 197.564 1900.06 202.981 Q1900.06 208.559 1896.59 211.661 Q1893.12 214.74 1886.8 214.74 Q1884.62 214.74 1882.35 214.37 Q1880.11 213.999 1877.7 213.258 L1877.7 208.559 Q1879.78 209.694 1882 210.249 Q1884.23 210.805 1886.7 210.805 Q1890.71 210.805 1893.05 208.698 Q1895.38 206.592 1895.38 202.981 Q1895.38 199.37 1893.05 197.263 Q1890.71 195.157 1886.7 195.157 Q1884.83 195.157 1882.95 195.573 Q1881.1 195.99 1879.16 196.87 L1879.16 179.509 Z\" fill=\"#000000\" fill-rule=\"evenodd\" fill-opacity=\"1\" /><path clip-path=\"url(#clip810)\" d=\"M1922.12 183.583 L1910.31 202.032 L1922.12 202.032 L1922.12 183.583 M1920.89 179.509 L1926.77 179.509 L1926.77 202.032 L1931.7 202.032 L1931.7 205.921 L1926.77 205.921 L1926.77 214.069 L1922.12 214.069 L1922.12 205.921 L1906.52 205.921 L1906.52 201.407 L1920.89 179.509 Z\" fill=\"#000000\" fill-rule=\"evenodd\" fill-opacity=\"1\" /><path clip-path=\"url(#clip810)\" d=\"M1952.28 183.583 L1940.48 202.032 L1952.28 202.032 L1952.28 183.583 M1951.05 179.509 L1956.93 179.509 L1956.93 202.032 L1961.86 202.032 L1961.86 205.921 L1956.93 205.921 L1956.93 214.069 L1952.28 214.069 L1952.28 205.921 L1936.68 205.921 L1936.68 201.407 L1951.05 179.509 Z\" fill=\"#000000\" fill-rule=\"evenodd\" fill-opacity=\"1\" /><path clip-path=\"url(#clip810)\" d=\"M1983.76 195.434 Q1987.12 196.152 1988.99 198.421 Q1990.89 200.689 1990.89 204.022 Q1990.89 209.138 1987.37 211.939 Q1983.86 214.74 1977.37 214.74 Q1975.2 214.74 1972.88 214.3 Q1970.59 213.883 1968.14 213.027 L1968.14 208.513 Q1970.08 209.647 1972.4 210.226 Q1974.71 210.805 1977.24 210.805 Q1981.63 210.805 1983.92 209.069 Q1986.24 207.333 1986.24 204.022 Q1986.24 200.967 1984.09 199.254 Q1981.96 197.518 1978.14 197.518 L1974.11 197.518 L1974.11 193.675 L1978.32 193.675 Q1981.77 193.675 1983.6 192.309 Q1985.43 190.921 1985.43 188.328 Q1985.43 185.666 1983.53 184.254 Q1981.66 182.819 1978.14 182.819 Q1976.22 182.819 1974.02 183.235 Q1971.82 183.652 1969.18 184.532 L1969.18 180.365 Q1971.84 179.624 1974.16 179.254 Q1976.49 178.884 1978.55 178.884 Q1983.88 178.884 1986.98 181.314 Q1990.08 183.722 1990.08 187.842 Q1990.08 190.712 1988.44 192.703 Q1986.8 194.671 1983.76 195.434 Z\" fill=\"#000000\" fill-rule=\"evenodd\" fill-opacity=\"1\" /><path clip-path=\"url(#clip810)\" d=\"M2013.92 195.434 Q2017.28 196.152 2019.16 198.421 Q2021.05 200.689 2021.05 204.022 Q2021.05 209.138 2017.54 211.939 Q2014.02 214.74 2007.54 214.74 Q2005.36 214.74 2003.05 214.3 Q2000.75 213.883 1998.3 213.027 L1998.3 208.513 Q2000.24 209.647 2002.56 210.226 Q2004.87 210.805 2007.4 210.805 Q2011.8 210.805 2014.09 209.069 Q2016.4 207.333 2016.4 204.022 Q2016.4 200.967 2014.25 199.254 Q2012.12 197.518 2008.3 197.518 L2004.27 197.518 L2004.27 193.675 L2008.48 193.675 Q2011.93 193.675 2013.76 192.309 Q2015.59 190.921 2015.59 188.328 Q2015.59 185.666 2013.69 184.254 Q2011.82 182.819 2008.3 182.819 Q2006.38 182.819 2004.18 183.235 Q2001.98 183.652 1999.34 184.532 L1999.34 180.365 Q2002 179.624 2004.32 179.254 Q2006.66 178.884 2008.72 178.884 Q2014.04 178.884 2017.14 181.314 Q2020.24 183.722 2020.24 187.842 Q2020.24 190.712 2018.6 192.703 Q2016.96 194.671 2013.92 195.434 Z\" fill=\"#000000\" fill-rule=\"evenodd\" fill-opacity=\"1\" /><path clip-path=\"url(#clip810)\" d=\"M2028.65 178.097 L2032.35 178.097 Q2035.82 183.56 2037.54 188.791 Q2039.27 194.022 2039.27 199.184 Q2039.27 204.37 2037.54 209.624 Q2035.82 214.879 2032.35 220.319 L2028.65 220.319 Q2031.73 215.018 2033.23 209.786 Q2034.76 204.532 2034.76 199.184 Q2034.76 193.837 2033.23 188.629 Q2031.73 183.421 2028.65 178.097 Z\" fill=\"#000000\" fill-rule=\"evenodd\" fill-opacity=\"1\" /><polyline clip-path=\"url(#clip810)\" style=\"stroke:#3da44d; stroke-linecap:round; stroke-linejoin:round; stroke-width:4; stroke-opacity:1; fill:none\" points=\"\n",
       "  1415.15,248.629 1562.06,248.629 \n",
       "  \"/>\n",
       "<path clip-path=\"url(#clip810)\" d=\"M1606.89 244.96 Q1608.49 242.089 1610.71 240.724 Q1612.93 239.358 1615.94 239.358 Q1619.99 239.358 1622.19 242.205 Q1624.39 245.029 1624.39 250.261 L1624.39 265.909 L1620.11 265.909 L1620.11 250.399 Q1620.11 246.673 1618.79 244.867 Q1617.47 243.062 1614.76 243.062 Q1611.45 243.062 1609.53 245.261 Q1607.61 247.46 1607.61 251.256 L1607.61 265.909 L1603.33 265.909 L1603.33 250.399 Q1603.33 246.649 1602.01 244.867 Q1600.69 243.062 1597.93 243.062 Q1594.67 243.062 1592.75 245.284 Q1590.83 247.483 1590.83 251.256 L1590.83 265.909 L1586.54 265.909 L1586.54 239.983 L1590.83 239.983 L1590.83 244.011 Q1592.28 241.626 1594.32 240.492 Q1596.36 239.358 1599.16 239.358 Q1601.98 239.358 1603.95 240.793 Q1605.94 242.228 1606.89 244.96 Z\" fill=\"#000000\" fill-rule=\"evenodd\" fill-opacity=\"1\" /><path clip-path=\"url(#clip810)\" d=\"M1644.67 252.876 Q1639.51 252.876 1637.51 254.057 Q1635.52 255.237 1635.52 258.085 Q1635.52 260.353 1637.01 261.696 Q1638.51 263.015 1641.08 263.015 Q1644.62 263.015 1646.75 260.515 Q1648.9 257.992 1648.9 253.825 L1648.9 252.876 L1644.67 252.876 M1653.16 251.117 L1653.16 265.909 L1648.9 265.909 L1648.9 261.973 Q1647.45 264.335 1645.27 265.469 Q1643.09 266.58 1639.95 266.58 Q1635.96 266.58 1633.6 264.358 Q1631.26 262.112 1631.26 258.362 Q1631.26 253.987 1634.18 251.765 Q1637.12 249.543 1642.93 249.543 L1648.9 249.543 L1648.9 249.126 Q1648.9 246.187 1646.96 244.589 Q1645.04 242.969 1641.54 242.969 Q1639.32 242.969 1637.21 243.501 Q1635.11 244.034 1633.16 245.099 L1633.16 241.163 Q1635.5 240.261 1637.7 239.821 Q1639.9 239.358 1641.98 239.358 Q1647.61 239.358 1650.39 242.274 Q1653.16 245.191 1653.16 251.117 Z\" fill=\"#000000\" fill-rule=\"evenodd\" fill-opacity=\"1\" /><path clip-path=\"url(#clip810)\" d=\"M1678.46 240.747 L1678.46 244.774 Q1676.66 243.849 1674.71 243.386 Q1672.77 242.923 1670.69 242.923 Q1667.51 242.923 1665.92 243.895 Q1664.34 244.867 1664.34 246.811 Q1664.34 248.293 1665.48 249.149 Q1666.61 249.983 1670.04 250.747 L1671.5 251.071 Q1676.03 252.043 1677.93 253.825 Q1679.85 255.585 1679.85 258.756 Q1679.85 262.367 1676.98 264.473 Q1674.13 266.58 1669.13 266.58 Q1667.05 266.58 1664.78 266.163 Q1662.54 265.77 1660.04 264.96 L1660.04 260.561 Q1662.4 261.788 1664.69 262.413 Q1666.98 263.015 1669.23 263.015 Q1672.24 263.015 1673.86 261.997 Q1675.48 260.955 1675.48 259.08 Q1675.48 257.344 1674.3 256.418 Q1673.14 255.492 1669.18 254.636 L1667.7 254.288 Q1663.74 253.455 1661.98 251.742 Q1660.22 250.006 1660.22 246.997 Q1660.22 243.339 1662.82 241.349 Q1665.41 239.358 1670.18 239.358 Q1672.54 239.358 1674.62 239.705 Q1676.7 240.052 1678.46 240.747 Z\" fill=\"#000000\" fill-rule=\"evenodd\" fill-opacity=\"1\" /><path clip-path=\"url(#clip810)\" d=\"M1703.16 240.747 L1703.16 244.774 Q1701.36 243.849 1699.41 243.386 Q1697.47 242.923 1695.38 242.923 Q1692.21 242.923 1690.62 243.895 Q1689.04 244.867 1689.04 246.811 Q1689.04 248.293 1690.18 249.149 Q1691.31 249.983 1694.74 250.747 L1696.19 251.071 Q1700.73 252.043 1702.63 253.825 Q1704.55 255.585 1704.55 258.756 Q1704.55 262.367 1701.68 264.473 Q1698.83 266.58 1693.83 266.58 Q1691.75 266.58 1689.48 266.163 Q1687.24 265.77 1684.74 264.96 L1684.74 260.561 Q1687.1 261.788 1689.39 262.413 Q1691.68 263.015 1693.93 263.015 Q1696.94 263.015 1698.56 261.997 Q1700.18 260.955 1700.18 259.08 Q1700.18 257.344 1699 256.418 Q1697.84 255.492 1693.88 254.636 L1692.4 254.288 Q1688.44 253.455 1686.68 251.742 Q1684.92 250.006 1684.92 246.997 Q1684.92 243.339 1687.51 241.349 Q1690.11 239.358 1694.88 239.358 Q1697.24 239.358 1699.32 239.705 Q1701.4 240.052 1703.16 240.747 Z\" fill=\"#000000\" fill-rule=\"evenodd\" fill-opacity=\"1\" /><path clip-path=\"url(#clip810)\" d=\"M1711.94 260.029 L1716.82 260.029 L1716.82 265.909 L1711.94 265.909 L1711.94 260.029 Z\" fill=\"#000000\" fill-rule=\"evenodd\" fill-opacity=\"1\" /><path clip-path=\"url(#clip810)\" d=\"M1738.19 252.876 Q1733.02 252.876 1731.03 254.057 Q1729.04 255.237 1729.04 258.085 Q1729.04 260.353 1730.52 261.696 Q1732.03 263.015 1734.6 263.015 Q1738.14 263.015 1740.27 260.515 Q1742.42 257.992 1742.42 253.825 L1742.42 252.876 L1738.19 252.876 M1746.68 251.117 L1746.68 265.909 L1742.42 265.909 L1742.42 261.973 Q1740.96 264.335 1738.79 265.469 Q1736.61 266.58 1733.46 266.58 Q1729.48 266.58 1727.12 264.358 Q1724.78 262.112 1724.78 258.362 Q1724.78 253.987 1727.7 251.765 Q1730.64 249.543 1736.45 249.543 L1742.42 249.543 L1742.42 249.126 Q1742.42 246.187 1740.48 244.589 Q1738.56 242.969 1735.06 242.969 Q1732.84 242.969 1730.73 243.501 Q1728.63 244.034 1726.68 245.099 L1726.68 241.163 Q1729.02 240.261 1731.22 239.821 Q1733.42 239.358 1735.5 239.358 Q1741.13 239.358 1743.9 242.274 Q1746.68 245.191 1746.68 251.117 Z\" fill=\"#000000\" fill-rule=\"evenodd\" fill-opacity=\"1\" /><path clip-path=\"url(#clip810)\" d=\"M1775.15 273.779 L1775.15 277.089 L1750.52 277.089 L1750.52 273.779 L1775.15 273.779 Z\" fill=\"#000000\" fill-rule=\"evenodd\" fill-opacity=\"1\" /><path clip-path=\"url(#clip810)\" d=\"M1794.18 243.964 Q1793.46 243.548 1792.61 243.362 Q1791.77 243.154 1790.75 243.154 Q1787.14 243.154 1785.2 245.515 Q1783.28 247.853 1783.28 252.251 L1783.28 265.909 L1779 265.909 L1779 239.983 L1783.28 239.983 L1783.28 244.011 Q1784.62 241.649 1786.77 240.515 Q1788.93 239.358 1792 239.358 Q1792.44 239.358 1792.98 239.427 Q1793.51 239.474 1794.16 239.589 L1794.18 243.964 Z\" fill=\"#000000\" fill-rule=\"evenodd\" fill-opacity=\"1\" /><path clip-path=\"url(#clip810)\" d=\"M1819.78 251.881 L1819.78 253.964 L1800.2 253.964 Q1800.48 258.362 1802.84 260.677 Q1805.22 262.969 1809.46 262.969 Q1811.91 262.969 1814.2 262.367 Q1816.52 261.765 1818.79 260.561 L1818.79 264.589 Q1816.5 265.561 1814.09 266.071 Q1811.68 266.58 1809.2 266.58 Q1803 266.58 1799.37 262.969 Q1795.75 259.358 1795.75 253.2 Q1795.75 246.835 1799.18 243.108 Q1802.63 239.358 1808.46 239.358 Q1813.69 239.358 1816.73 242.737 Q1819.78 246.094 1819.78 251.881 M1815.52 250.631 Q1815.48 247.136 1813.56 245.052 Q1811.66 242.969 1808.51 242.969 Q1804.94 242.969 1802.79 244.983 Q1800.66 246.997 1800.34 250.654 L1815.52 250.631 Z\" fill=\"#000000\" fill-rule=\"evenodd\" fill-opacity=\"1\" /><path clip-path=\"url(#clip810)\" d=\"M1826.77 229.89 L1831.03 229.89 L1831.03 265.909 L1826.77 265.909 L1826.77 229.89 Z\" fill=\"#000000\" fill-rule=\"evenodd\" fill-opacity=\"1\" /><path clip-path=\"url(#clip810)\" d=\"M1853.07 229.89 L1853.07 233.432 L1849 233.432 Q1846.7 233.432 1845.8 234.358 Q1844.92 235.284 1844.92 237.691 L1844.92 239.983 L1851.93 239.983 L1851.93 243.293 L1844.92 243.293 L1844.92 265.909 L1840.64 265.909 L1840.64 243.293 L1836.56 243.293 L1836.56 239.983 L1840.64 239.983 L1840.64 238.177 Q1840.64 233.849 1842.65 231.881 Q1844.67 229.89 1849.04 229.89 L1853.07 229.89 Z\" fill=\"#000000\" fill-rule=\"evenodd\" fill-opacity=\"1\" /><path clip-path=\"url(#clip810)\" d=\"M1871.66 243.964 Q1870.94 243.548 1870.08 243.362 Q1869.25 243.154 1868.23 243.154 Q1864.62 243.154 1862.68 245.515 Q1860.75 247.853 1860.75 252.251 L1860.75 265.909 L1856.47 265.909 L1856.47 239.983 L1860.75 239.983 L1860.75 244.011 Q1862.1 241.649 1864.25 240.515 Q1866.4 239.358 1869.48 239.358 Q1869.92 239.358 1870.45 239.427 Q1870.99 239.474 1871.63 239.589 L1871.66 243.964 Z\" fill=\"#000000\" fill-rule=\"evenodd\" fill-opacity=\"1\" /><path clip-path=\"url(#clip810)\" d=\"M1876.12 239.983 L1880.38 239.983 L1880.38 265.909 L1876.12 265.909 L1876.12 239.983 M1876.12 229.89 L1880.38 229.89 L1880.38 235.284 L1876.12 235.284 L1876.12 229.89 Z\" fill=\"#000000\" fill-rule=\"evenodd\" fill-opacity=\"1\" /><path clip-path=\"url(#clip810)\" d=\"M1907.95 240.978 L1907.95 244.96 Q1906.15 243.964 1904.32 243.478 Q1902.51 242.969 1900.66 242.969 Q1896.52 242.969 1894.23 245.608 Q1891.93 248.224 1891.93 252.969 Q1891.93 257.714 1894.23 260.353 Q1896.52 262.969 1900.66 262.969 Q1902.51 262.969 1904.32 262.483 Q1906.15 261.973 1907.95 260.978 L1907.95 264.913 Q1906.17 265.747 1904.25 266.163 Q1902.35 266.58 1900.2 266.58 Q1894.34 266.58 1890.89 262.899 Q1887.44 259.219 1887.44 252.969 Q1887.44 246.626 1890.92 242.992 Q1894.41 239.358 1900.48 239.358 Q1902.44 239.358 1904.32 239.775 Q1906.19 240.168 1907.95 240.978 Z\" fill=\"#000000\" fill-rule=\"evenodd\" fill-opacity=\"1\" /><path clip-path=\"url(#clip810)\" d=\"M1940.66 229.937 Q1937.56 235.261 1936.05 240.469 Q1934.55 245.677 1934.55 251.024 Q1934.55 256.372 1936.05 261.626 Q1937.58 266.858 1940.66 272.159 L1936.96 272.159 Q1933.49 266.719 1931.75 261.464 Q1930.04 256.21 1930.04 251.024 Q1930.04 245.862 1931.75 240.631 Q1933.46 235.4 1936.96 229.937 L1940.66 229.937 Z\" fill=\"#000000\" fill-rule=\"evenodd\" fill-opacity=\"1\" /><path clip-path=\"url(#clip810)\" d=\"M1949.57 231.349 L1967.93 231.349 L1967.93 235.284 L1953.86 235.284 L1953.86 243.756 Q1954.87 243.409 1955.89 243.247 Q1956.91 243.062 1957.93 243.062 Q1963.72 243.062 1967.1 246.233 Q1970.48 249.404 1970.48 254.821 Q1970.48 260.399 1967 263.501 Q1963.53 266.58 1957.21 266.58 Q1955.04 266.58 1952.77 266.21 Q1950.52 265.839 1948.11 265.098 L1948.11 260.399 Q1950.2 261.534 1952.42 262.089 Q1954.64 262.645 1957.12 262.645 Q1961.12 262.645 1963.46 260.538 Q1965.8 258.432 1965.8 254.821 Q1965.8 251.21 1963.46 249.103 Q1961.12 246.997 1957.12 246.997 Q1955.24 246.997 1953.37 247.413 Q1951.52 247.83 1949.57 248.71 L1949.57 231.349 Z\" fill=\"#000000\" fill-rule=\"evenodd\" fill-opacity=\"1\" /><path clip-path=\"url(#clip810)\" d=\"M1989.69 249.497 Q1986.36 249.497 1984.43 251.279 Q1982.54 253.061 1982.54 256.186 Q1982.54 259.311 1984.43 261.094 Q1986.36 262.876 1989.69 262.876 Q1993.02 262.876 1994.94 261.094 Q1996.86 259.288 1996.86 256.186 Q1996.86 253.061 1994.94 251.279 Q1993.05 249.497 1989.69 249.497 M1985.01 247.506 Q1982 246.765 1980.31 244.705 Q1978.65 242.645 1978.65 239.682 Q1978.65 235.538 1981.59 233.131 Q1984.55 230.724 1989.69 230.724 Q1994.85 230.724 1997.79 233.131 Q2000.73 235.538 2000.73 239.682 Q2000.73 242.645 1999.04 244.705 Q1997.37 246.765 1994.39 247.506 Q1997.77 248.293 1999.64 250.585 Q2001.54 252.876 2001.54 256.186 Q2001.54 261.21 1998.46 263.895 Q1995.41 266.58 1989.69 266.58 Q1983.97 266.58 1980.89 263.895 Q1977.84 261.21 1977.84 256.186 Q1977.84 252.876 1979.74 250.585 Q1981.63 248.293 1985.01 247.506 M1983.3 240.122 Q1983.3 242.807 1984.97 244.312 Q1986.66 245.816 1989.69 245.816 Q1992.7 245.816 1994.39 244.312 Q1996.1 242.807 1996.1 240.122 Q1996.1 237.437 1994.39 235.932 Q1992.7 234.427 1989.69 234.427 Q1986.66 234.427 1984.97 235.932 Q1983.3 237.437 1983.3 240.122 Z\" fill=\"#000000\" fill-rule=\"evenodd\" fill-opacity=\"1\" /><path clip-path=\"url(#clip810)\" d=\"M2008.67 231.349 L2030.89 231.349 L2030.89 233.339 L2018.35 265.909 L2013.46 265.909 L2025.27 235.284 L2008.67 235.284 L2008.67 231.349 Z\" fill=\"#000000\" fill-rule=\"evenodd\" fill-opacity=\"1\" /><path clip-path=\"url(#clip810)\" d=\"M2044.04 261.973 L2060.36 261.973 L2060.36 265.909 L2038.42 265.909 L2038.42 261.973 Q2041.08 259.219 2045.66 254.589 Q2050.27 249.936 2051.45 248.594 Q2053.69 246.071 2054.57 244.335 Q2055.48 242.575 2055.48 240.886 Q2055.48 238.131 2053.53 236.395 Q2051.61 234.659 2048.51 234.659 Q2046.31 234.659 2043.86 235.423 Q2041.42 236.187 2038.65 237.737 L2038.65 233.015 Q2041.47 231.881 2043.92 231.302 Q2046.38 230.724 2048.42 230.724 Q2053.79 230.724 2056.98 233.409 Q2060.17 236.094 2060.17 240.585 Q2060.17 242.714 2059.36 244.636 Q2058.58 246.534 2056.47 249.126 Q2055.89 249.798 2052.79 253.015 Q2049.69 256.21 2044.04 261.973 Z\" fill=\"#000000\" fill-rule=\"evenodd\" fill-opacity=\"1\" /><path clip-path=\"url(#clip810)\" d=\"M2080.17 234.427 Q2076.56 234.427 2074.73 237.992 Q2072.93 241.534 2072.93 248.663 Q2072.93 255.77 2074.73 259.335 Q2076.56 262.876 2080.17 262.876 Q2083.81 262.876 2085.61 259.335 Q2087.44 255.77 2087.44 248.663 Q2087.44 241.534 2085.61 237.992 Q2083.81 234.427 2080.17 234.427 M2080.17 230.724 Q2085.98 230.724 2089.04 235.33 Q2092.12 239.913 2092.12 248.663 Q2092.12 257.39 2089.04 261.997 Q2085.98 266.58 2080.17 266.58 Q2074.36 266.58 2071.29 261.997 Q2068.23 257.39 2068.23 248.663 Q2068.23 239.913 2071.29 235.33 Q2074.36 230.724 2080.17 230.724 Z\" fill=\"#000000\" fill-rule=\"evenodd\" fill-opacity=\"1\" /><path clip-path=\"url(#clip810)\" d=\"M2104.36 261.973 L2120.68 261.973 L2120.68 265.909 L2098.74 265.909 L2098.74 261.973 Q2101.4 259.219 2105.98 254.589 Q2110.59 249.936 2111.77 248.594 Q2114.02 246.071 2114.9 244.335 Q2115.8 242.575 2115.8 240.886 Q2115.8 238.131 2113.85 236.395 Q2111.93 234.659 2108.83 234.659 Q2106.63 234.659 2104.18 235.423 Q2101.75 236.187 2098.97 237.737 L2098.97 233.015 Q2101.79 231.881 2104.25 231.302 Q2106.7 230.724 2108.74 230.724 Q2114.11 230.724 2117.3 233.409 Q2120.5 236.094 2120.5 240.585 Q2120.5 242.714 2119.69 244.636 Q2118.9 246.534 2116.79 249.126 Q2116.22 249.798 2113.11 253.015 Q2110.01 256.21 2104.36 261.973 Z\" fill=\"#000000\" fill-rule=\"evenodd\" fill-opacity=\"1\" /><path clip-path=\"url(#clip810)\" d=\"M2130.54 231.349 L2148.9 231.349 L2148.9 235.284 L2134.83 235.284 L2134.83 243.756 Q2135.85 243.409 2136.86 243.247 Q2137.88 243.062 2138.9 243.062 Q2144.69 243.062 2148.07 246.233 Q2151.45 249.404 2151.45 254.821 Q2151.45 260.399 2147.97 263.501 Q2144.5 266.58 2138.18 266.58 Q2136.01 266.58 2133.74 266.21 Q2131.49 265.839 2129.09 265.098 L2129.09 260.399 Q2131.17 261.534 2133.39 262.089 Q2135.61 262.645 2138.09 262.645 Q2142.1 262.645 2144.43 260.538 Q2146.77 258.432 2146.77 254.821 Q2146.77 251.21 2144.43 249.103 Q2142.1 246.997 2138.09 246.997 Q2136.22 246.997 2134.34 247.413 Q2132.49 247.83 2130.54 248.71 L2130.54 231.349 Z\" fill=\"#000000\" fill-rule=\"evenodd\" fill-opacity=\"1\" /><path clip-path=\"url(#clip810)\" d=\"M2171.24 246.765 Q2168.09 246.765 2166.24 248.918 Q2164.41 251.071 2164.41 254.821 Q2164.41 258.548 2166.24 260.723 Q2168.09 262.876 2171.24 262.876 Q2174.39 262.876 2176.22 260.723 Q2178.07 258.548 2178.07 254.821 Q2178.07 251.071 2176.22 248.918 Q2174.39 246.765 2171.24 246.765 M2180.52 232.113 L2180.52 236.372 Q2178.76 235.538 2176.96 235.099 Q2175.17 234.659 2173.41 234.659 Q2168.79 234.659 2166.33 237.784 Q2163.9 240.909 2163.55 247.228 Q2164.92 245.214 2166.98 244.149 Q2169.04 243.062 2171.52 243.062 Q2176.72 243.062 2179.73 246.233 Q2182.77 249.381 2182.77 254.821 Q2182.77 260.145 2179.62 263.362 Q2176.47 266.58 2171.24 266.58 Q2165.24 266.58 2162.07 261.997 Q2158.9 257.39 2158.9 248.663 Q2158.9 240.469 2162.79 235.608 Q2166.68 230.724 2173.23 230.724 Q2174.99 230.724 2176.77 231.071 Q2178.58 231.418 2180.52 232.113 Z\" fill=\"#000000\" fill-rule=\"evenodd\" fill-opacity=\"1\" /><path clip-path=\"url(#clip810)\" d=\"M2191.63 261.973 L2199.27 261.973 L2199.27 235.608 L2190.96 237.275 L2190.96 233.015 L2199.22 231.349 L2203.9 231.349 L2203.9 261.973 L2211.54 261.973 L2211.54 265.909 L2191.63 265.909 L2191.63 261.973 Z\" fill=\"#000000\" fill-rule=\"evenodd\" fill-opacity=\"1\" /><path clip-path=\"url(#clip810)\" d=\"M2219.71 229.937 L2223.41 229.937 Q2226.89 235.4 2228.6 240.631 Q2230.34 245.862 2230.34 251.024 Q2230.34 256.21 2228.6 261.464 Q2226.89 266.719 2223.41 272.159 L2219.71 272.159 Q2222.79 266.858 2224.29 261.626 Q2225.82 256.372 2225.82 251.024 Q2225.82 245.677 2224.29 240.469 Q2222.79 235.261 2219.71 229.937 Z\" fill=\"#000000\" fill-rule=\"evenodd\" fill-opacity=\"1\" /><polyline clip-path=\"url(#clip810)\" style=\"stroke:#c271d2; stroke-linecap:round; stroke-linejoin:round; stroke-width:4; stroke-opacity:1; fill:none\" points=\"\n",
       "  1415.15,300.469 1562.06,300.469 \n",
       "  \"/>\n",
       "<path clip-path=\"url(#clip810)\" d=\"M1606.89 296.8 Q1608.49 293.929 1610.71 292.564 Q1612.93 291.198 1615.94 291.198 Q1619.99 291.198 1622.19 294.045 Q1624.39 296.869 1624.39 302.101 L1624.39 317.749 L1620.11 317.749 L1620.11 302.239 Q1620.11 298.513 1618.79 296.707 Q1617.47 294.902 1614.76 294.902 Q1611.45 294.902 1609.53 297.101 Q1607.61 299.3 1607.61 303.096 L1607.61 317.749 L1603.33 317.749 L1603.33 302.239 Q1603.33 298.489 1602.01 296.707 Q1600.69 294.902 1597.93 294.902 Q1594.67 294.902 1592.75 297.124 Q1590.83 299.323 1590.83 303.096 L1590.83 317.749 L1586.54 317.749 L1586.54 291.823 L1590.83 291.823 L1590.83 295.851 Q1592.28 293.466 1594.32 292.332 Q1596.36 291.198 1599.16 291.198 Q1601.98 291.198 1603.95 292.633 Q1605.94 294.068 1606.89 296.8 Z\" fill=\"#000000\" fill-rule=\"evenodd\" fill-opacity=\"1\" /><path clip-path=\"url(#clip810)\" d=\"M1644.67 304.716 Q1639.51 304.716 1637.51 305.897 Q1635.52 307.077 1635.52 309.925 Q1635.52 312.193 1637.01 313.536 Q1638.51 314.855 1641.08 314.855 Q1644.62 314.855 1646.75 312.355 Q1648.9 309.832 1648.9 305.665 L1648.9 304.716 L1644.67 304.716 M1653.16 302.957 L1653.16 317.749 L1648.9 317.749 L1648.9 313.813 Q1647.45 316.175 1645.27 317.309 Q1643.09 318.42 1639.95 318.42 Q1635.96 318.42 1633.6 316.198 Q1631.26 313.952 1631.26 310.202 Q1631.26 305.827 1634.18 303.605 Q1637.12 301.383 1642.93 301.383 L1648.9 301.383 L1648.9 300.966 Q1648.9 298.027 1646.96 296.429 Q1645.04 294.809 1641.54 294.809 Q1639.32 294.809 1637.21 295.341 Q1635.11 295.874 1633.16 296.939 L1633.16 293.003 Q1635.5 292.101 1637.7 291.661 Q1639.9 291.198 1641.98 291.198 Q1647.61 291.198 1650.39 294.114 Q1653.16 297.031 1653.16 302.957 Z\" fill=\"#000000\" fill-rule=\"evenodd\" fill-opacity=\"1\" /><path clip-path=\"url(#clip810)\" d=\"M1678.46 292.587 L1678.46 296.614 Q1676.66 295.689 1674.71 295.226 Q1672.77 294.763 1670.69 294.763 Q1667.51 294.763 1665.92 295.735 Q1664.34 296.707 1664.34 298.651 Q1664.34 300.133 1665.48 300.989 Q1666.61 301.823 1670.04 302.587 L1671.5 302.911 Q1676.03 303.883 1677.93 305.665 Q1679.85 307.425 1679.85 310.596 Q1679.85 314.207 1676.98 316.313 Q1674.13 318.42 1669.13 318.42 Q1667.05 318.42 1664.78 318.003 Q1662.54 317.61 1660.04 316.8 L1660.04 312.401 Q1662.4 313.628 1664.69 314.253 Q1666.98 314.855 1669.23 314.855 Q1672.24 314.855 1673.86 313.837 Q1675.48 312.795 1675.48 310.92 Q1675.48 309.184 1674.3 308.258 Q1673.14 307.332 1669.18 306.476 L1667.7 306.128 Q1663.74 305.295 1661.98 303.582 Q1660.22 301.846 1660.22 298.837 Q1660.22 295.179 1662.82 293.189 Q1665.41 291.198 1670.18 291.198 Q1672.54 291.198 1674.62 291.545 Q1676.7 291.892 1678.46 292.587 Z\" fill=\"#000000\" fill-rule=\"evenodd\" fill-opacity=\"1\" /><path clip-path=\"url(#clip810)\" d=\"M1703.16 292.587 L1703.16 296.614 Q1701.36 295.689 1699.41 295.226 Q1697.47 294.763 1695.38 294.763 Q1692.21 294.763 1690.62 295.735 Q1689.04 296.707 1689.04 298.651 Q1689.04 300.133 1690.18 300.989 Q1691.31 301.823 1694.74 302.587 L1696.19 302.911 Q1700.73 303.883 1702.63 305.665 Q1704.55 307.425 1704.55 310.596 Q1704.55 314.207 1701.68 316.313 Q1698.83 318.42 1693.83 318.42 Q1691.75 318.42 1689.48 318.003 Q1687.24 317.61 1684.74 316.8 L1684.74 312.401 Q1687.1 313.628 1689.39 314.253 Q1691.68 314.855 1693.93 314.855 Q1696.94 314.855 1698.56 313.837 Q1700.18 312.795 1700.18 310.92 Q1700.18 309.184 1699 308.258 Q1697.84 307.332 1693.88 306.476 L1692.4 306.128 Q1688.44 305.295 1686.68 303.582 Q1684.92 301.846 1684.92 298.837 Q1684.92 295.179 1687.51 293.189 Q1690.11 291.198 1694.88 291.198 Q1697.24 291.198 1699.32 291.545 Q1701.4 291.892 1703.16 292.587 Z\" fill=\"#000000\" fill-rule=\"evenodd\" fill-opacity=\"1\" /><path clip-path=\"url(#clip810)\" d=\"M1711.94 311.869 L1716.82 311.869 L1716.82 317.749 L1711.94 317.749 L1711.94 311.869 Z\" fill=\"#000000\" fill-rule=\"evenodd\" fill-opacity=\"1\" /><path clip-path=\"url(#clip810)\" d=\"M1739.53 281.73 L1739.53 285.272 L1735.45 285.272 Q1733.16 285.272 1732.26 286.198 Q1731.38 287.124 1731.38 289.531 L1731.38 291.823 L1738.39 291.823 L1738.39 295.133 L1731.38 295.133 L1731.38 317.749 L1727.1 317.749 L1727.1 295.133 L1723.02 295.133 L1723.02 291.823 L1727.1 291.823 L1727.1 290.017 Q1727.1 285.689 1729.11 283.721 Q1731.13 281.73 1735.5 281.73 L1739.53 281.73 Z\" fill=\"#000000\" fill-rule=\"evenodd\" fill-opacity=\"1\" /><path clip-path=\"url(#clip810)\" d=\"M1768.39 281.777 Q1765.29 287.101 1763.79 292.309 Q1762.28 297.517 1762.28 302.864 Q1762.28 308.212 1763.79 313.466 Q1765.31 318.698 1768.39 323.999 L1764.69 323.999 Q1761.22 318.559 1759.48 313.304 Q1757.77 308.05 1757.77 302.864 Q1757.77 297.702 1759.48 292.471 Q1761.19 287.24 1764.69 281.777 L1768.39 281.777 Z\" fill=\"#000000\" fill-rule=\"evenodd\" fill-opacity=\"1\" /><path clip-path=\"url(#clip810)\" d=\"M1787.84 298.605 Q1784.69 298.605 1782.84 300.758 Q1781.01 302.911 1781.01 306.661 Q1781.01 310.388 1782.84 312.563 Q1784.69 314.716 1787.84 314.716 Q1790.99 314.716 1792.81 312.563 Q1794.67 310.388 1794.67 306.661 Q1794.67 302.911 1792.81 300.758 Q1790.99 298.605 1787.84 298.605 M1797.12 283.953 L1797.12 288.212 Q1795.36 287.378 1793.56 286.939 Q1791.77 286.499 1790.01 286.499 Q1785.38 286.499 1782.93 289.624 Q1780.5 292.749 1780.15 299.068 Q1781.52 297.054 1783.58 295.989 Q1785.64 294.902 1788.12 294.902 Q1793.32 294.902 1796.33 298.073 Q1799.37 301.221 1799.37 306.661 Q1799.37 311.985 1796.22 315.202 Q1793.07 318.42 1787.84 318.42 Q1781.84 318.42 1778.67 313.837 Q1775.5 309.23 1775.5 300.503 Q1775.5 292.309 1779.39 287.448 Q1783.28 282.564 1789.83 282.564 Q1791.59 282.564 1793.37 282.911 Q1795.18 283.258 1797.12 283.953 Z\" fill=\"#000000\" fill-rule=\"evenodd\" fill-opacity=\"1\" /><path clip-path=\"url(#clip810)\" d=\"M1821.59 299.114 Q1824.94 299.832 1826.82 302.101 Q1828.72 304.369 1828.72 307.702 Q1828.72 312.818 1825.2 315.619 Q1821.68 318.42 1815.2 318.42 Q1813.02 318.42 1810.71 317.98 Q1808.42 317.563 1805.96 316.707 L1805.96 312.193 Q1807.91 313.327 1810.22 313.906 Q1812.54 314.485 1815.06 314.485 Q1819.46 314.485 1821.75 312.749 Q1824.06 311.013 1824.06 307.702 Q1824.06 304.647 1821.91 302.934 Q1819.78 301.198 1815.96 301.198 L1811.94 301.198 L1811.94 297.355 L1816.15 297.355 Q1819.6 297.355 1821.43 295.989 Q1823.25 294.601 1823.25 292.008 Q1823.25 289.346 1821.36 287.934 Q1819.48 286.499 1815.96 286.499 Q1814.04 286.499 1811.84 286.915 Q1809.64 287.332 1807 288.212 L1807 284.045 Q1809.67 283.304 1811.98 282.934 Q1814.32 282.564 1816.38 282.564 Q1821.7 282.564 1824.81 284.994 Q1827.91 287.402 1827.91 291.522 Q1827.91 294.392 1826.26 296.383 Q1824.62 298.351 1821.59 299.114 Z\" fill=\"#000000\" fill-rule=\"evenodd\" fill-opacity=\"1\" /><path clip-path=\"url(#clip810)\" d=\"M1836.4 283.189 L1858.62 283.189 L1858.62 285.179 L1846.08 317.749 L1841.19 317.749 L1853 287.124 L1836.4 287.124 L1836.4 283.189 Z\" fill=\"#000000\" fill-rule=\"evenodd\" fill-opacity=\"1\" /><path clip-path=\"url(#clip810)\" d=\"M1867.79 283.189 L1886.15 283.189 L1886.15 287.124 L1872.07 287.124 L1872.07 295.596 Q1873.09 295.249 1874.11 295.087 Q1875.13 294.902 1876.15 294.902 Q1881.93 294.902 1885.31 298.073 Q1888.69 301.244 1888.69 306.661 Q1888.69 312.239 1885.22 315.341 Q1881.75 318.42 1875.43 318.42 Q1873.25 318.42 1870.99 318.05 Q1868.74 317.679 1866.33 316.938 L1866.33 312.239 Q1868.42 313.374 1870.64 313.929 Q1872.86 314.485 1875.34 314.485 Q1879.34 314.485 1881.68 312.378 Q1884.02 310.272 1884.02 306.661 Q1884.02 303.05 1881.68 300.943 Q1879.34 298.837 1875.34 298.837 Q1873.46 298.837 1871.59 299.253 Q1869.74 299.67 1867.79 300.55 L1867.79 283.189 Z\" fill=\"#000000\" fill-rule=\"evenodd\" fill-opacity=\"1\" /><path clip-path=\"url(#clip810)\" d=\"M1912.07 299.114 Q1915.43 299.832 1917.3 302.101 Q1919.2 304.369 1919.2 307.702 Q1919.2 312.818 1915.68 315.619 Q1912.17 318.42 1905.68 318.42 Q1903.51 318.42 1901.19 317.98 Q1898.9 317.563 1896.45 316.707 L1896.45 312.193 Q1898.39 313.327 1900.71 313.906 Q1903.02 314.485 1905.55 314.485 Q1909.94 314.485 1912.24 312.749 Q1914.55 311.013 1914.55 307.702 Q1914.55 304.647 1912.4 302.934 Q1910.27 301.198 1906.45 301.198 L1902.42 301.198 L1902.42 297.355 L1906.63 297.355 Q1910.08 297.355 1911.91 295.989 Q1913.74 294.601 1913.74 292.008 Q1913.74 289.346 1911.84 287.934 Q1909.97 286.499 1906.45 286.499 Q1904.53 286.499 1902.33 286.915 Q1900.13 287.332 1897.49 288.212 L1897.49 284.045 Q1900.15 283.304 1902.47 282.934 Q1904.8 282.564 1906.87 282.564 Q1912.19 282.564 1915.29 284.994 Q1918.39 287.402 1918.39 291.522 Q1918.39 294.392 1916.75 296.383 Q1915.11 298.351 1912.07 299.114 Z\" fill=\"#000000\" fill-rule=\"evenodd\" fill-opacity=\"1\" /><path clip-path=\"url(#clip810)\" d=\"M1940.92 287.263 L1929.11 305.712 L1940.92 305.712 L1940.92 287.263 M1939.69 283.189 L1945.57 283.189 L1945.57 305.712 L1950.5 305.712 L1950.5 309.601 L1945.57 309.601 L1945.57 317.749 L1940.92 317.749 L1940.92 309.601 L1925.31 309.601 L1925.31 305.087 L1939.69 283.189 Z\" fill=\"#000000\" fill-rule=\"evenodd\" fill-opacity=\"1\" /><path clip-path=\"url(#clip810)\" d=\"M1962.26 313.813 L1978.58 313.813 L1978.58 317.749 L1956.63 317.749 L1956.63 313.813 Q1959.3 311.059 1963.88 306.429 Q1968.49 301.776 1969.67 300.434 Q1971.91 297.911 1972.79 296.175 Q1973.69 294.415 1973.69 292.726 Q1973.69 289.971 1971.75 288.235 Q1969.83 286.499 1966.73 286.499 Q1964.53 286.499 1962.07 287.263 Q1959.64 288.027 1956.86 289.577 L1956.86 284.855 Q1959.69 283.721 1962.14 283.142 Q1964.6 282.564 1966.63 282.564 Q1972 282.564 1975.2 285.249 Q1978.39 287.934 1978.39 292.425 Q1978.39 294.554 1977.58 296.476 Q1976.8 298.374 1974.69 300.966 Q1974.11 301.638 1971.01 304.855 Q1967.91 308.05 1962.26 313.813 Z\" fill=\"#000000\" fill-rule=\"evenodd\" fill-opacity=\"1\" /><path clip-path=\"url(#clip810)\" d=\"M1989.2 313.813 L1996.84 313.813 L1996.84 287.448 L1988.53 289.115 L1988.53 284.855 L1996.8 283.189 L2001.47 283.189 L2001.47 313.813 L2009.11 313.813 L2009.11 317.749 L1989.2 317.749 L1989.2 313.813 Z\" fill=\"#000000\" fill-rule=\"evenodd\" fill-opacity=\"1\" /><path clip-path=\"url(#clip810)\" d=\"M2019.36 313.813 L2027 313.813 L2027 287.448 L2018.69 289.115 L2018.69 284.855 L2026.96 283.189 L2031.63 283.189 L2031.63 313.813 L2039.27 313.813 L2039.27 317.749 L2019.36 317.749 L2019.36 313.813 Z\" fill=\"#000000\" fill-rule=\"evenodd\" fill-opacity=\"1\" /><path clip-path=\"url(#clip810)\" d=\"M2047.44 281.777 L2051.15 281.777 Q2054.62 287.24 2056.33 292.471 Q2058.07 297.702 2058.07 302.864 Q2058.07 308.05 2056.33 313.304 Q2054.62 318.559 2051.15 323.999 L2047.44 323.999 Q2050.52 318.698 2052.03 313.466 Q2053.55 308.212 2053.55 302.864 Q2053.55 297.517 2052.03 292.309 Q2050.52 287.101 2047.44 281.777 Z\" fill=\"#000000\" fill-rule=\"evenodd\" fill-opacity=\"1\" /></svg>\n"
      ]
     },
     "execution_count": 5,
     "metadata": {},
     "output_type": "execute_result"
    }
   ],
   "source": [
    "vrs = [\"mass.s\", \"mass.v\", \"mass.a\", \"mass.f\"]\n",
    "realSimData = fmiSimulate(realFMU, tStart, tStop; recordValues=vrs, saveat=tSave)\n",
    "fmiPlot(realSimData)"
   ]
  },
  {
   "cell_type": "markdown",
   "metadata": {},
   "source": [
    "The data from the simulation of the *realFMU*, are divided into position and velocity data. These data will be needed later. "
   ]
  },
  {
   "cell_type": "code",
   "execution_count": 6,
   "metadata": {
    "execution": {
     "iopub.execute_input": "2022-10-14T15:24:01.510000Z",
     "iopub.status.busy": "2022-10-14T15:24:01.509000Z",
     "iopub.status.idle": "2022-10-14T15:24:02.242000Z",
     "shell.execute_reply": "2022-10-14T15:24:02.242000Z"
    }
   },
   "outputs": [
    {
     "data": {
      "text/plain": [
       "51-element Vector{Float64}:\n",
       "  0.0\n",
       "  0.432852398300982\n",
       "  0.8401743918610578\n",
       "  1.1702254881462497\n",
       "  1.3861768532456016\n",
       "  1.4649609400224617\n",
       "  1.397962181945595\n",
       "  1.1917483098990418\n",
       "  0.8657325133644009\n",
       "  0.44821918384886916\n",
       " -0.02200493896693855\n",
       " -0.380560845401747\n",
       " -0.7172068753289351\n",
       "  ⋮\n",
       " -0.19353187721088116\n",
       "  0.021605187634145845\n",
       "  0.12911473439606144\n",
       "  0.2315130895115627\n",
       "  0.31667721272388255\n",
       "  0.37417576531479746\n",
       "  0.3964197153211615\n",
       "  0.3795927497483354\n",
       "  0.3235539803194403\n",
       "  0.2317738499958648\n",
       "  0.11061350893737848\n",
       " -1.0008118292437196e-10"
      ]
     },
     "execution_count": 6,
     "metadata": {},
     "output_type": "execute_result"
    }
   ],
   "source": [
    "posReal = fmi2GetSolutionValue(realSimData, \"mass.s\")\n",
    "velReal = fmi2GetSolutionValue(realSimData, \"mass.v\")"
   ]
  },
  {
   "cell_type": "markdown",
   "metadata": {},
   "source": [
    "The FMU hase two states: The first state is the position of the mass and the second state is the velocity. The initial position of the mass is initilized with $0.5𝑚$. The initial velocity of the mass is initialized with $0\\frac{m}{s}$. "
   ]
  },
  {
   "cell_type": "code",
   "execution_count": 7,
   "metadata": {
    "execution": {
     "iopub.execute_input": "2022-10-14T15:24:02.246000Z",
     "iopub.status.busy": "2022-10-14T15:24:02.246000Z",
     "iopub.status.idle": "2022-10-14T15:24:02.287000Z",
     "shell.execute_reply": "2022-10-14T15:24:02.287000Z"
    },
    "scrolled": false
   },
   "outputs": [
    {
     "data": {
      "text/plain": [
       "2-element Vector{Float64}:\n",
       " 0.5\n",
       " 0.0"
      ]
     },
     "execution_count": 7,
     "metadata": {},
     "output_type": "execute_result"
    }
   ],
   "source": [
    "x₀ = [posReal[1], velReal[1]]"
   ]
  },
  {
   "cell_type": "markdown",
   "metadata": {},
   "source": [
    "After extracting the data, the FMU is cleaned-up."
   ]
  },
  {
   "cell_type": "code",
   "execution_count": 8,
   "metadata": {
    "execution": {
     "iopub.execute_input": "2022-10-14T15:24:02.291000Z",
     "iopub.status.busy": "2022-10-14T15:24:02.291000Z",
     "iopub.status.idle": "2022-10-14T15:24:02.329000Z",
     "shell.execute_reply": "2022-10-14T15:24:02.329000Z"
    }
   },
   "outputs": [],
   "source": [
    "fmiUnload(realFMU)"
   ]
  },
  {
   "cell_type": "markdown",
   "metadata": {},
   "source": [
    "### SimpleFMU\n",
    "\n",
    "The following lines load, simulate and plot the *simpleFMU* just like the *realFMU*. The differences between both systems can be clearly seen from the plots. In the plot for the *realFMU* it can be seen that the oscillation continues to decrease due to the effect of the friction. If you simulate long enough, the oscillation would come to a standstill in a certain time. The oscillation in the *simpleFMU* behaves differently, since the friction was not taken into account here. The oscillation in this model would continue to infinity with the same oscillation amplitude. From this observation the desire of an improvement of this model arises.     "
   ]
  },
  {
   "cell_type": "code",
   "execution_count": 9,
   "metadata": {
    "execution": {
     "iopub.execute_input": "2022-10-14T15:24:02.332000Z",
     "iopub.status.busy": "2022-10-14T15:24:02.332000Z",
     "iopub.status.idle": "2022-10-14T15:24:02.535000Z",
     "shell.execute_reply": "2022-10-14T15:24:02.534000Z"
    },
    "scrolled": false
   },
   "outputs": [
    {
     "name": "stdout",
     "output_type": "stream",
     "text": [
      "#################### Begin information for FMU ####################\n",
      "\tModel name:\t\t\tSpringPendulum1D\n",
      "\tFMI-Version:\t\t\t2.0\n",
      "\tGUID:\t\t\t\t{fc15d8c4-758b-48e6-b00e-5bf47b8b14e5}\n",
      "\tGeneration tool:\t\tDymola Version 2022x (64-bit), 2021-10-08\n",
      "\tGeneration time:\t\t2022-05-19T06:54:23Z\n",
      "\tVar. naming conv.:\t\tstructured\n",
      "\tEvent indicators:\t\t0\n",
      "\tInputs:\t\t\t\t0\n",
      "\tOutputs:\t\t\t0\n",
      "\tStates:\t\t\t\t2\n",
      "\t\t33554432 [\"mass.s\"]\n",
      "\t\t33554433 [\"mass.v\"]\n",
      "\tSupports Co-Simulation:\t\ttrue\n",
      "\t\tModel identifier:\tSpringPendulum1D\n",
      "\t\tGet/Set State:\t\ttrue\n",
      "\t\tSerialize State:\ttrue\n",
      "\t\tDir. Derivatives:\ttrue\n",
      "\t\tVar. com. steps:\ttrue\n",
      "\t\tInput interpol.:\ttrue\n",
      "\t\tMax order out. der.:\t1\n",
      "\tSupports Model-Exchange:\ttrue\n",
      "\t\tModel identifier:\tSpringPendulum1D\n",
      "\t\tGet/Set State:\t\ttrue\n",
      "\t\tSerialize State:\ttrue\n",
      "\t\tDir. Derivatives:\ttrue\n",
      "##################### End information for FMU #####################\n"
     ]
    },
    {
     "name": "stderr",
     "output_type": "stream",
     "text": [
      "┌ Info: fmi2Unzip(...): Successfully unzipped 153 files at `/tmp/fmijl_kYJI09/SpringPendulum1D`.\n",
      "└ @ FMIImport /home/runner/.julia/packages/FMIImport/1Yngw/src/FMI2_ext.jl:90\n",
      "┌ Info: fmi2Load(...): FMU resources location is `file:////tmp/fmijl_kYJI09/SpringPendulum1D/resources`\n",
      "└ @ FMIImport /home/runner/.julia/packages/FMIImport/1Yngw/src/FMI2_ext.jl:221\n",
      "┌ Info: fmi2Load(...): FMU supports both CS and ME, using CS as default if nothing specified.\n",
      "└ @ FMIImport /home/runner/.julia/packages/FMIImport/1Yngw/src/FMI2_ext.jl:224\n"
     ]
    },
    {
     "data": {
      "image/svg+xml": [
       "<?xml version=\"1.0\" encoding=\"utf-8\"?>\n",
       "<svg xmlns=\"http://www.w3.org/2000/svg\" xmlns:xlink=\"http://www.w3.org/1999/xlink\" width=\"600\" height=\"400\" viewBox=\"0 0 2400 1600\">\n",
       "<defs>\n",
       "  <clipPath id=\"clip850\">\n",
       "    <rect x=\"0\" y=\"0\" width=\"2400\" height=\"1600\"/>\n",
       "  </clipPath>\n",
       "</defs>\n",
       "<path clip-path=\"url(#clip850)\" d=\"\n",
       "M0 1600 L2400 1600 L2400 0 L0 0  Z\n",
       "  \" fill=\"#ffffff\" fill-rule=\"evenodd\" fill-opacity=\"1\"/>\n",
       "<defs>\n",
       "  <clipPath id=\"clip851\">\n",
       "    <rect x=\"480\" y=\"0\" width=\"1681\" height=\"1600\"/>\n",
       "  </clipPath>\n",
       "</defs>\n",
       "<path clip-path=\"url(#clip850)\" d=\"\n",
       "M193.936 1423.18 L2352.76 1423.18 L2352.76 47.2441 L193.936 47.2441  Z\n",
       "  \" fill=\"#ffffff\" fill-rule=\"evenodd\" fill-opacity=\"1\"/>\n",
       "<defs>\n",
       "  <clipPath id=\"clip852\">\n",
       "    <rect x=\"193\" y=\"47\" width=\"2160\" height=\"1377\"/>\n",
       "  </clipPath>\n",
       "</defs>\n",
       "<polyline clip-path=\"url(#clip852)\" style=\"stroke:#000000; stroke-linecap:round; stroke-linejoin:round; stroke-width:2; stroke-opacity:0.1; fill:none\" points=\"\n",
       "  255.035,1423.18 255.035,47.2441 \n",
       "  \"/>\n",
       "<polyline clip-path=\"url(#clip852)\" style=\"stroke:#000000; stroke-linecap:round; stroke-linejoin:round; stroke-width:2; stroke-opacity:0.1; fill:none\" points=\"\n",
       "  662.359,1423.18 662.359,47.2441 \n",
       "  \"/>\n",
       "<polyline clip-path=\"url(#clip852)\" style=\"stroke:#000000; stroke-linecap:round; stroke-linejoin:round; stroke-width:2; stroke-opacity:0.1; fill:none\" points=\"\n",
       "  1069.68,1423.18 1069.68,47.2441 \n",
       "  \"/>\n",
       "<polyline clip-path=\"url(#clip852)\" style=\"stroke:#000000; stroke-linecap:round; stroke-linejoin:round; stroke-width:2; stroke-opacity:0.1; fill:none\" points=\"\n",
       "  1477.01,1423.18 1477.01,47.2441 \n",
       "  \"/>\n",
       "<polyline clip-path=\"url(#clip852)\" style=\"stroke:#000000; stroke-linecap:round; stroke-linejoin:round; stroke-width:2; stroke-opacity:0.1; fill:none\" points=\"\n",
       "  1884.33,1423.18 1884.33,47.2441 \n",
       "  \"/>\n",
       "<polyline clip-path=\"url(#clip852)\" style=\"stroke:#000000; stroke-linecap:round; stroke-linejoin:round; stroke-width:2; stroke-opacity:0.1; fill:none\" points=\"\n",
       "  2291.66,1423.18 2291.66,47.2441 \n",
       "  \"/>\n",
       "<polyline clip-path=\"url(#clip850)\" style=\"stroke:#000000; stroke-linecap:round; stroke-linejoin:round; stroke-width:4; stroke-opacity:1; fill:none\" points=\"\n",
       "  193.936,1423.18 2352.76,1423.18 \n",
       "  \"/>\n",
       "<polyline clip-path=\"url(#clip850)\" style=\"stroke:#000000; stroke-linecap:round; stroke-linejoin:round; stroke-width:4; stroke-opacity:1; fill:none\" points=\"\n",
       "  255.035,1423.18 255.035,1404.28 \n",
       "  \"/>\n",
       "<polyline clip-path=\"url(#clip850)\" style=\"stroke:#000000; stroke-linecap:round; stroke-linejoin:round; stroke-width:4; stroke-opacity:1; fill:none\" points=\"\n",
       "  662.359,1423.18 662.359,1404.28 \n",
       "  \"/>\n",
       "<polyline clip-path=\"url(#clip850)\" style=\"stroke:#000000; stroke-linecap:round; stroke-linejoin:round; stroke-width:4; stroke-opacity:1; fill:none\" points=\"\n",
       "  1069.68,1423.18 1069.68,1404.28 \n",
       "  \"/>\n",
       "<polyline clip-path=\"url(#clip850)\" style=\"stroke:#000000; stroke-linecap:round; stroke-linejoin:round; stroke-width:4; stroke-opacity:1; fill:none\" points=\"\n",
       "  1477.01,1423.18 1477.01,1404.28 \n",
       "  \"/>\n",
       "<polyline clip-path=\"url(#clip850)\" style=\"stroke:#000000; stroke-linecap:round; stroke-linejoin:round; stroke-width:4; stroke-opacity:1; fill:none\" points=\"\n",
       "  1884.33,1423.18 1884.33,1404.28 \n",
       "  \"/>\n",
       "<polyline clip-path=\"url(#clip850)\" style=\"stroke:#000000; stroke-linecap:round; stroke-linejoin:round; stroke-width:4; stroke-opacity:1; fill:none\" points=\"\n",
       "  2291.66,1423.18 2291.66,1404.28 \n",
       "  \"/>\n",
       "<path clip-path=\"url(#clip850)\" d=\"M255.035 1454.1 Q251.424 1454.1 249.595 1457.66 Q247.789 1461.2 247.789 1468.33 Q247.789 1475.44 249.595 1479.01 Q251.424 1482.55 255.035 1482.55 Q258.669 1482.55 260.474 1479.01 Q262.303 1475.44 262.303 1468.33 Q262.303 1461.2 260.474 1457.66 Q258.669 1454.1 255.035 1454.1 M255.035 1450.39 Q260.845 1450.39 263.9 1455 Q266.979 1459.58 266.979 1468.33 Q266.979 1477.06 263.9 1481.67 Q260.845 1486.25 255.035 1486.25 Q249.225 1486.25 246.146 1481.67 Q243.09 1477.06 243.09 1468.33 Q243.09 1459.58 246.146 1455 Q249.225 1450.39 255.035 1450.39 Z\" fill=\"#000000\" fill-rule=\"evenodd\" fill-opacity=\"1\" /><path clip-path=\"url(#clip850)\" d=\"M652.741 1481.64 L660.38 1481.64 L660.38 1455.28 L652.07 1456.95 L652.07 1452.69 L660.334 1451.02 L665.01 1451.02 L665.01 1481.64 L672.648 1481.64 L672.648 1485.58 L652.741 1485.58 L652.741 1481.64 Z\" fill=\"#000000\" fill-rule=\"evenodd\" fill-opacity=\"1\" /><path clip-path=\"url(#clip850)\" d=\"M1064.34 1481.64 L1080.66 1481.64 L1080.66 1485.58 L1058.71 1485.58 L1058.71 1481.64 Q1061.37 1478.89 1065.96 1474.26 Q1070.56 1469.61 1071.74 1468.27 Q1073.99 1465.74 1074.87 1464.01 Q1075.77 1462.25 1075.77 1460.56 Q1075.77 1457.8 1073.83 1456.07 Q1071.91 1454.33 1068.8 1454.33 Q1066.61 1454.33 1064.15 1455.09 Q1061.72 1455.86 1058.94 1457.41 L1058.94 1452.69 Q1061.77 1451.55 1064.22 1450.97 Q1066.67 1450.39 1068.71 1450.39 Q1074.08 1450.39 1077.28 1453.08 Q1080.47 1455.77 1080.47 1460.26 Q1080.47 1462.39 1079.66 1464.31 Q1078.87 1466.2 1076.77 1468.8 Q1076.19 1469.47 1073.09 1472.69 Q1069.98 1475.88 1064.34 1481.64 Z\" fill=\"#000000\" fill-rule=\"evenodd\" fill-opacity=\"1\" /><path clip-path=\"url(#clip850)\" d=\"M1481.26 1466.95 Q1484.61 1467.66 1486.49 1469.93 Q1488.39 1472.2 1488.39 1475.53 Q1488.39 1480.65 1484.87 1483.45 Q1481.35 1486.25 1474.87 1486.25 Q1472.69 1486.25 1470.38 1485.81 Q1468.08 1485.39 1465.63 1484.54 L1465.63 1480.02 Q1467.58 1481.16 1469.89 1481.74 Q1472.2 1482.32 1474.73 1482.32 Q1479.13 1482.32 1481.42 1480.58 Q1483.73 1478.84 1483.73 1475.53 Q1483.73 1472.48 1481.58 1470.77 Q1479.45 1469.03 1475.63 1469.03 L1471.6 1469.03 L1471.6 1465.19 L1475.82 1465.19 Q1479.27 1465.19 1481.09 1463.82 Q1482.92 1462.43 1482.92 1459.84 Q1482.92 1457.18 1481.02 1455.77 Q1479.15 1454.33 1475.63 1454.33 Q1473.71 1454.33 1471.51 1454.75 Q1469.31 1455.16 1466.67 1456.04 L1466.67 1451.88 Q1469.33 1451.14 1471.65 1450.77 Q1473.99 1450.39 1476.05 1450.39 Q1481.37 1450.39 1484.47 1452.83 Q1487.58 1455.23 1487.58 1459.35 Q1487.58 1462.22 1485.93 1464.21 Q1484.29 1466.18 1481.26 1466.95 Z\" fill=\"#000000\" fill-rule=\"evenodd\" fill-opacity=\"1\" /><path clip-path=\"url(#clip850)\" d=\"M1887.34 1455.09 L1875.54 1473.54 L1887.34 1473.54 L1887.34 1455.09 M1886.12 1451.02 L1891.99 1451.02 L1891.99 1473.54 L1896.93 1473.54 L1896.93 1477.43 L1891.99 1477.43 L1891.99 1485.58 L1887.34 1485.58 L1887.34 1477.43 L1871.74 1477.43 L1871.74 1472.92 L1886.12 1451.02 Z\" fill=\"#000000\" fill-rule=\"evenodd\" fill-opacity=\"1\" /><path clip-path=\"url(#clip850)\" d=\"M2281.94 1451.02 L2300.29 1451.02 L2300.29 1454.96 L2286.22 1454.96 L2286.22 1463.43 Q2287.24 1463.08 2288.25 1462.92 Q2289.27 1462.73 2290.29 1462.73 Q2296.08 1462.73 2299.46 1465.9 Q2302.84 1469.08 2302.84 1474.49 Q2302.84 1480.07 2299.37 1483.17 Q2295.89 1486.25 2289.57 1486.25 Q2287.4 1486.25 2285.13 1485.88 Q2282.88 1485.51 2280.48 1484.77 L2280.48 1480.07 Q2282.56 1481.2 2284.78 1481.76 Q2287 1482.32 2289.48 1482.32 Q2293.49 1482.32 2295.82 1480.21 Q2298.16 1478.1 2298.16 1474.49 Q2298.16 1470.88 2295.82 1468.77 Q2293.49 1466.67 2289.48 1466.67 Q2287.61 1466.67 2285.73 1467.08 Q2283.88 1467.5 2281.94 1468.38 L2281.94 1451.02 Z\" fill=\"#000000\" fill-rule=\"evenodd\" fill-opacity=\"1\" /><path clip-path=\"url(#clip850)\" d=\"M1221.66 1522.27 L1221.66 1532.4 L1233.72 1532.4 L1233.72 1536.95 L1221.66 1536.95 L1221.66 1556.3 Q1221.66 1560.66 1222.83 1561.9 Q1224.04 1563.14 1227.7 1563.14 L1233.72 1563.14 L1233.72 1568.04 L1227.7 1568.04 Q1220.92 1568.04 1218.35 1565.53 Q1215.77 1562.98 1215.77 1556.3 L1215.77 1536.95 L1211.47 1536.95 L1211.47 1532.4 L1215.77 1532.4 L1215.77 1522.27 L1221.66 1522.27 Z\" fill=\"#000000\" fill-rule=\"evenodd\" fill-opacity=\"1\" /><path clip-path=\"url(#clip850)\" d=\"M1261.6 1518.52 L1275.1 1518.52 L1275.1 1523.07 L1267.46 1523.07 L1267.46 1572.09 L1275.1 1572.09 L1275.1 1576.64 L1261.6 1576.64 L1261.6 1518.52 Z\" fill=\"#000000\" fill-rule=\"evenodd\" fill-opacity=\"1\" /><path clip-path=\"url(#clip850)\" d=\"M1310.3 1533.45 L1310.3 1538.98 Q1307.82 1537.71 1305.14 1537.07 Q1302.47 1536.44 1299.6 1536.44 Q1295.24 1536.44 1293.05 1537.77 Q1290.88 1539.11 1290.88 1541.79 Q1290.88 1543.82 1292.44 1545 Q1294 1546.15 1298.71 1547.2 L1300.72 1547.64 Q1306.96 1548.98 1309.57 1551.43 Q1312.21 1553.85 1312.21 1558.21 Q1312.21 1563.17 1308.26 1566.07 Q1304.35 1568.97 1297.47 1568.97 Q1294.61 1568.97 1291.49 1568.39 Q1288.4 1567.85 1284.96 1566.74 L1284.96 1560.69 Q1288.21 1562.38 1291.36 1563.24 Q1294.51 1564.07 1297.6 1564.07 Q1301.74 1564.07 1303.97 1562.66 Q1306.19 1561.23 1306.19 1558.65 Q1306.19 1556.27 1304.57 1554.99 Q1302.98 1553.72 1297.54 1552.54 L1295.5 1552.07 Q1290.06 1550.92 1287.64 1548.56 Q1285.22 1546.18 1285.22 1542.04 Q1285.22 1537.01 1288.78 1534.27 Q1292.35 1531.54 1298.9 1531.54 Q1302.15 1531.54 1305.02 1532.01 Q1307.88 1532.49 1310.3 1533.45 Z\" fill=\"#000000\" fill-rule=\"evenodd\" fill-opacity=\"1\" /><path clip-path=\"url(#clip850)\" d=\"M1335.22 1518.52 L1335.22 1576.64 L1321.73 1576.64 L1321.73 1572.09 L1329.33 1572.09 L1329.33 1523.07 L1321.73 1523.07 L1321.73 1518.52 L1335.22 1518.52 Z\" fill=\"#000000\" fill-rule=\"evenodd\" fill-opacity=\"1\" /><polyline clip-path=\"url(#clip852)\" style=\"stroke:#000000; stroke-linecap:round; stroke-linejoin:round; stroke-width:2; stroke-opacity:0.1; fill:none\" points=\"\n",
       "  193.936,1275.7 2352.76,1275.7 \n",
       "  \"/>\n",
       "<polyline clip-path=\"url(#clip852)\" style=\"stroke:#000000; stroke-linecap:round; stroke-linejoin:round; stroke-width:2; stroke-opacity:0.1; fill:none\" points=\"\n",
       "  193.936,1005.41 2352.76,1005.41 \n",
       "  \"/>\n",
       "<polyline clip-path=\"url(#clip852)\" style=\"stroke:#000000; stroke-linecap:round; stroke-linejoin:round; stroke-width:2; stroke-opacity:0.1; fill:none\" points=\"\n",
       "  193.936,735.116 2352.76,735.116 \n",
       "  \"/>\n",
       "<polyline clip-path=\"url(#clip852)\" style=\"stroke:#000000; stroke-linecap:round; stroke-linejoin:round; stroke-width:2; stroke-opacity:0.1; fill:none\" points=\"\n",
       "  193.936,464.824 2352.76,464.824 \n",
       "  \"/>\n",
       "<polyline clip-path=\"url(#clip852)\" style=\"stroke:#000000; stroke-linecap:round; stroke-linejoin:round; stroke-width:2; stroke-opacity:0.1; fill:none\" points=\"\n",
       "  193.936,194.532 2352.76,194.532 \n",
       "  \"/>\n",
       "<polyline clip-path=\"url(#clip850)\" style=\"stroke:#000000; stroke-linecap:round; stroke-linejoin:round; stroke-width:4; stroke-opacity:1; fill:none\" points=\"\n",
       "  193.936,1423.18 193.936,47.2441 \n",
       "  \"/>\n",
       "<polyline clip-path=\"url(#clip850)\" style=\"stroke:#000000; stroke-linecap:round; stroke-linejoin:round; stroke-width:4; stroke-opacity:1; fill:none\" points=\"\n",
       "  193.936,1275.7 212.834,1275.7 \n",
       "  \"/>\n",
       "<polyline clip-path=\"url(#clip850)\" style=\"stroke:#000000; stroke-linecap:round; stroke-linejoin:round; stroke-width:4; stroke-opacity:1; fill:none\" points=\"\n",
       "  193.936,1005.41 212.834,1005.41 \n",
       "  \"/>\n",
       "<polyline clip-path=\"url(#clip850)\" style=\"stroke:#000000; stroke-linecap:round; stroke-linejoin:round; stroke-width:4; stroke-opacity:1; fill:none\" points=\"\n",
       "  193.936,735.116 212.834,735.116 \n",
       "  \"/>\n",
       "<polyline clip-path=\"url(#clip850)\" style=\"stroke:#000000; stroke-linecap:round; stroke-linejoin:round; stroke-width:4; stroke-opacity:1; fill:none\" points=\"\n",
       "  193.936,464.824 212.834,464.824 \n",
       "  \"/>\n",
       "<polyline clip-path=\"url(#clip850)\" style=\"stroke:#000000; stroke-linecap:round; stroke-linejoin:round; stroke-width:4; stroke-opacity:1; fill:none\" points=\"\n",
       "  193.936,194.532 212.834,194.532 \n",
       "  \"/>\n",
       "<path clip-path=\"url(#clip850)\" d=\"M50.9921 1276.15 L80.6679 1276.15 L80.6679 1280.09 L50.9921 1280.09 L50.9921 1276.15 Z\" fill=\"#000000\" fill-rule=\"evenodd\" fill-opacity=\"1\" /><path clip-path=\"url(#clip850)\" d=\"M90.8067 1258.42 L109.163 1258.42 L109.163 1262.35 L95.0891 1262.35 L95.0891 1270.83 Q96.1076 1270.48 97.1261 1270.32 Q98.1447 1270.13 99.1632 1270.13 Q104.95 1270.13 108.33 1273.3 Q111.709 1276.47 111.709 1281.89 Q111.709 1287.47 108.237 1290.57 Q104.765 1293.65 98.4456 1293.65 Q96.2697 1293.65 94.0012 1293.28 Q91.7558 1292.91 89.3484 1292.17 L89.3484 1287.47 Q91.4317 1288.6 93.6539 1289.16 Q95.8761 1289.72 98.353 1289.72 Q102.358 1289.72 104.696 1287.61 Q107.033 1285.5 107.033 1281.89 Q107.033 1278.28 104.696 1276.17 Q102.358 1274.07 98.353 1274.07 Q96.478 1274.07 94.603 1274.48 Q92.7512 1274.9 90.8067 1275.78 L90.8067 1258.42 Z\" fill=\"#000000\" fill-rule=\"evenodd\" fill-opacity=\"1\" /><path clip-path=\"url(#clip850)\" d=\"M120.922 1287.1 L125.807 1287.1 L125.807 1292.98 L120.922 1292.98 L120.922 1287.1 Z\" fill=\"#000000\" fill-rule=\"evenodd\" fill-opacity=\"1\" /><path clip-path=\"url(#clip850)\" d=\"M145.992 1261.5 Q142.381 1261.5 140.552 1265.06 Q138.746 1268.6 138.746 1275.73 Q138.746 1282.84 140.552 1286.4 Q142.381 1289.95 145.992 1289.95 Q149.626 1289.95 151.431 1286.4 Q153.26 1282.84 153.26 1275.73 Q153.26 1268.6 151.431 1265.06 Q149.626 1261.5 145.992 1261.5 M145.992 1257.79 Q151.802 1257.79 154.857 1262.4 Q157.936 1266.98 157.936 1275.73 Q157.936 1284.46 154.857 1289.07 Q151.802 1293.65 145.992 1293.65 Q140.181 1293.65 137.103 1289.07 Q134.047 1284.46 134.047 1275.73 Q134.047 1266.98 137.103 1262.4 Q140.181 1257.79 145.992 1257.79 Z\" fill=\"#000000\" fill-rule=\"evenodd\" fill-opacity=\"1\" /><path clip-path=\"url(#clip850)\" d=\"M51.9875 1005.86 L81.6633 1005.86 L81.6633 1009.79 L51.9875 1009.79 L51.9875 1005.86 Z\" fill=\"#000000\" fill-rule=\"evenodd\" fill-opacity=\"1\" /><path clip-path=\"url(#clip850)\" d=\"M95.7836 1018.75 L112.103 1018.75 L112.103 1022.69 L90.1586 1022.69 L90.1586 1018.75 Q92.8206 1016 97.4039 1011.37 Q102.01 1006.72 103.191 1005.37 Q105.436 1002.85 106.316 1001.11 Q107.219 999.354 107.219 997.664 Q107.219 994.91 105.274 993.174 Q103.353 991.437 100.251 991.437 Q98.0521 991.437 95.5984 992.201 Q93.1678 992.965 90.3901 994.516 L90.3901 989.794 Q93.2141 988.66 95.6678 988.081 Q98.1215 987.502 100.159 987.502 Q105.529 987.502 108.723 990.187 Q111.918 992.873 111.918 997.363 Q111.918 999.493 111.108 1001.41 Q110.321 1003.31 108.214 1005.91 Q107.635 1006.58 104.534 1009.79 Q101.432 1012.99 95.7836 1018.75 Z\" fill=\"#000000\" fill-rule=\"evenodd\" fill-opacity=\"1\" /><path clip-path=\"url(#clip850)\" d=\"M121.918 1016.81 L126.802 1016.81 L126.802 1022.69 L121.918 1022.69 L121.918 1016.81 Z\" fill=\"#000000\" fill-rule=\"evenodd\" fill-opacity=\"1\" /><path clip-path=\"url(#clip850)\" d=\"M137.033 988.127 L155.39 988.127 L155.39 992.062 L141.316 992.062 L141.316 1000.53 Q142.334 1000.19 143.353 1000.03 Q144.371 999.84 145.39 999.84 Q151.177 999.84 154.556 1003.01 Q157.936 1006.18 157.936 1011.6 Q157.936 1017.18 154.464 1020.28 Q150.992 1023.36 144.672 1023.36 Q142.496 1023.36 140.228 1022.99 Q137.982 1022.62 135.575 1021.88 L135.575 1017.18 Q137.658 1018.31 139.881 1018.87 Q142.103 1019.42 144.58 1019.42 Q148.584 1019.42 150.922 1017.32 Q153.26 1015.21 153.26 1011.6 Q153.26 1007.99 150.922 1005.88 Q148.584 1003.78 144.58 1003.78 Q142.705 1003.78 140.83 1004.19 Q138.978 1004.61 137.033 1005.49 L137.033 988.127 Z\" fill=\"#000000\" fill-rule=\"evenodd\" fill-opacity=\"1\" /><path clip-path=\"url(#clip850)\" d=\"M100.76 720.914 Q97.1493 720.914 95.3206 724.479 Q93.515 728.021 93.515 735.15 Q93.515 742.257 95.3206 745.822 Q97.1493 749.363 100.76 749.363 Q104.395 749.363 106.2 745.822 Q108.029 742.257 108.029 735.15 Q108.029 728.021 106.2 724.479 Q104.395 720.914 100.76 720.914 M100.76 717.211 Q106.571 717.211 109.626 721.817 Q112.705 726.4 112.705 735.15 Q112.705 743.877 109.626 748.484 Q106.571 753.067 100.76 753.067 Q94.9502 753.067 91.8715 748.484 Q88.816 743.877 88.816 735.15 Q88.816 726.4 91.8715 721.817 Q94.9502 717.211 100.76 717.211 Z\" fill=\"#000000\" fill-rule=\"evenodd\" fill-opacity=\"1\" /><path clip-path=\"url(#clip850)\" d=\"M120.922 746.516 L125.807 746.516 L125.807 752.396 L120.922 752.396 L120.922 746.516 Z\" fill=\"#000000\" fill-rule=\"evenodd\" fill-opacity=\"1\" /><path clip-path=\"url(#clip850)\" d=\"M145.992 720.914 Q142.381 720.914 140.552 724.479 Q138.746 728.021 138.746 735.15 Q138.746 742.257 140.552 745.822 Q142.381 749.363 145.992 749.363 Q149.626 749.363 151.431 745.822 Q153.26 742.257 153.26 735.15 Q153.26 728.021 151.431 724.479 Q149.626 720.914 145.992 720.914 M145.992 717.211 Q151.802 717.211 154.857 721.817 Q157.936 726.4 157.936 735.15 Q157.936 743.877 154.857 748.484 Q151.802 753.067 145.992 753.067 Q140.181 753.067 137.103 748.484 Q134.047 743.877 134.047 735.15 Q134.047 726.4 137.103 721.817 Q140.181 717.211 145.992 717.211 Z\" fill=\"#000000\" fill-rule=\"evenodd\" fill-opacity=\"1\" /><path clip-path=\"url(#clip850)\" d=\"M95.7836 478.169 L112.103 478.169 L112.103 482.104 L90.1586 482.104 L90.1586 478.169 Q92.8206 475.414 97.4039 470.785 Q102.01 466.132 103.191 464.789 Q105.436 462.266 106.316 460.53 Q107.219 458.771 107.219 457.081 Q107.219 454.326 105.274 452.59 Q103.353 450.854 100.251 450.854 Q98.0521 450.854 95.5984 451.618 Q93.1678 452.382 90.3901 453.933 L90.3901 449.211 Q93.2141 448.076 95.6678 447.498 Q98.1215 446.919 100.159 446.919 Q105.529 446.919 108.723 449.604 Q111.918 452.289 111.918 456.78 Q111.918 458.91 111.108 460.831 Q110.321 462.729 108.214 465.322 Q107.635 465.993 104.534 469.211 Q101.432 472.405 95.7836 478.169 Z\" fill=\"#000000\" fill-rule=\"evenodd\" fill-opacity=\"1\" /><path clip-path=\"url(#clip850)\" d=\"M121.918 476.224 L126.802 476.224 L126.802 482.104 L121.918 482.104 L121.918 476.224 Z\" fill=\"#000000\" fill-rule=\"evenodd\" fill-opacity=\"1\" /><path clip-path=\"url(#clip850)\" d=\"M137.033 447.544 L155.39 447.544 L155.39 451.479 L141.316 451.479 L141.316 459.951 Q142.334 459.604 143.353 459.442 Q144.371 459.257 145.39 459.257 Q151.177 459.257 154.556 462.428 Q157.936 465.599 157.936 471.016 Q157.936 476.595 154.464 479.697 Q150.992 482.775 144.672 482.775 Q142.496 482.775 140.228 482.405 Q137.982 482.035 135.575 481.294 L135.575 476.595 Q137.658 477.729 139.881 478.285 Q142.103 478.84 144.58 478.84 Q148.584 478.84 150.922 476.734 Q153.26 474.627 153.26 471.016 Q153.26 467.405 150.922 465.299 Q148.584 463.192 144.58 463.192 Q142.705 463.192 140.83 463.609 Q138.978 464.025 137.033 464.905 L137.033 447.544 Z\" fill=\"#000000\" fill-rule=\"evenodd\" fill-opacity=\"1\" /><path clip-path=\"url(#clip850)\" d=\"M90.8067 177.252 L109.163 177.252 L109.163 181.188 L95.0891 181.188 L95.0891 189.66 Q96.1076 189.312 97.1261 189.15 Q98.1447 188.965 99.1632 188.965 Q104.95 188.965 108.33 192.137 Q111.709 195.308 111.709 200.724 Q111.709 206.303 108.237 209.405 Q104.765 212.484 98.4456 212.484 Q96.2697 212.484 94.0012 212.113 Q91.7558 211.743 89.3484 211.002 L89.3484 206.303 Q91.4317 207.437 93.6539 207.993 Q95.8761 208.549 98.353 208.549 Q102.358 208.549 104.696 206.442 Q107.033 204.336 107.033 200.724 Q107.033 197.113 104.696 195.007 Q102.358 192.9 98.353 192.9 Q96.478 192.9 94.603 193.317 Q92.7512 193.734 90.8067 194.613 L90.8067 177.252 Z\" fill=\"#000000\" fill-rule=\"evenodd\" fill-opacity=\"1\" /><path clip-path=\"url(#clip850)\" d=\"M120.922 205.933 L125.807 205.933 L125.807 211.812 L120.922 211.812 L120.922 205.933 Z\" fill=\"#000000\" fill-rule=\"evenodd\" fill-opacity=\"1\" /><path clip-path=\"url(#clip850)\" d=\"M145.992 180.331 Q142.381 180.331 140.552 183.896 Q138.746 187.438 138.746 194.567 Q138.746 201.674 140.552 205.238 Q142.381 208.78 145.992 208.78 Q149.626 208.78 151.431 205.238 Q153.26 201.674 153.26 194.567 Q153.26 187.438 151.431 183.896 Q149.626 180.331 145.992 180.331 M145.992 176.627 Q151.802 176.627 154.857 181.234 Q157.936 185.817 157.936 194.567 Q157.936 203.294 154.857 207.9 Q151.802 212.484 145.992 212.484 Q140.181 212.484 137.103 207.9 Q134.047 203.294 134.047 194.567 Q134.047 185.817 137.103 181.234 Q140.181 176.627 145.992 176.627 Z\" fill=\"#000000\" fill-rule=\"evenodd\" fill-opacity=\"1\" /><polyline clip-path=\"url(#clip852)\" style=\"stroke:#009af9; stroke-linecap:round; stroke-linejoin:round; stroke-width:4; stroke-opacity:1; fill:none\" points=\"\n",
       "  255.035,681.057 295.767,677.839 336.5,668.512 377.232,654 417.964,635.738 458.697,615.52 499.429,595.358 540.162,577.262 580.894,563.029 621.627,554.07 \n",
       "  662.359,551.275 703.092,554.922 743.824,564.649 784.557,579.492 825.289,597.977 866.021,618.272 906.754,638.361 947.486,656.251 988.219,670.167 1028.95,678.727 \n",
       "  1069.68,681.08 1110.42,676.994 1151.15,666.873 1191.88,651.721 1232.61,633.041 1273.35,612.688 1314.08,592.679 1354.81,575.003 1395.54,561.411 1436.28,553.256 \n",
       "  1477.01,551.344 1517.74,555.868 1558.47,566.379 1599.21,581.833 1639.94,600.699 1680.67,621.102 1721.4,641.02 1762.14,658.474 1802.87,671.734 1843.6,679.482 \n",
       "  1884.33,680.949 1925.07,675.989 1965.8,665.094 2006.53,649.344 2047.26,630.303 2087.99,609.859 2128.73,590.041 2169.46,572.817 2210.19,559.895 2250.92,552.559 \n",
       "  2291.66,551.538 \n",
       "  \"/>\n",
       "<polyline clip-path=\"url(#clip852)\" style=\"stroke:#e26f46; stroke-linecap:round; stroke-linejoin:round; stroke-width:4; stroke-opacity:1; fill:none\" points=\"\n",
       "  255.035,735.116 295.767,671.329 336.5,613.85 377.232,568.379 417.964,539.406 458.697,529.849 499.429,540.684 540.162,570.819 580.894,617.258 621.627,675.399 \n",
       "  662.359,739.469 703.092,803.115 743.824,860.014 784.557,904.526 825.289,932.226 866.021,940.368 906.754,928.141 947.486,896.756 988.219,849.327 1028.95,790.56 \n",
       "  1069.68,726.286 1110.42,662.882 1151.15,606.643 1191.88,563.148 1232.61,536.717 1273.35,529.973 1314.08,543.588 1354.81,576.21 1395.54,624.607 1436.28,683.972 \n",
       "  1477.01,748.422 1517.74,811.552 1558.47,867.105 1599.21,909.56 1639.94,934.709 1680.67,940.05 1721.4,925.055 1762.14,891.208 1802.87,841.866 1843.6,781.928 \n",
       "  1884.33,717.337 1925.07,654.508 1965.8,599.671 2006.53,558.273 2047.26,534.421 2087.99,530.486 2128.73,546.857 2169.46,581.914 2210.19,632.177 2250.92,692.66 \n",
       "  2291.66,757.361 \n",
       "  \"/>\n",
       "<polyline clip-path=\"url(#clip852)\" style=\"stroke:#3da44d; stroke-linecap:round; stroke-linejoin:round; stroke-width:4; stroke-opacity:1; fill:none\" points=\"\n",
       "  255.035,86.4157 295.767,118.604 336.5,211.867 377.232,356.984 417.964,539.613 458.697,741.794 499.429,943.407 540.162,1124.37 580.894,1266.7 621.627,1356.29 \n",
       "  662.359,1384.24 703.092,1347.77 743.824,1250.5 784.557,1102.07 825.289,917.216 866.021,714.268 906.754,513.38 947.486,334.475 988.219,195.321 1028.95,109.723 \n",
       "  1069.68,86.1857 1110.42,127.047 1151.15,228.258 1191.88,379.778 1232.61,566.577 1273.35,770.113 1314.08,970.198 1354.81,1146.96 1395.54,1282.88 1436.28,1364.43 \n",
       "  1477.01,1383.54 1517.74,1338.3 1558.47,1233.2 1599.21,1078.66 1639.94,890.002 1680.67,685.97 1721.4,486.788 1762.14,312.246 1802.87,179.646 1843.6,102.17 \n",
       "  1884.33,87.4974 1925.07,137.097 1965.8,246.05 2006.53,403.546 2047.26,593.963 2087.99,798.401 2128.73,996.577 2169.46,1168.82 2210.19,1298.03 2250.92,1371.39 \n",
       "  2291.66,1381.61 \n",
       "  \"/>\n",
       "<path clip-path=\"url(#clip850)\" d=\"\n",
       "M1557.04 300.469 L2280.8 300.469 L2280.8 93.1086 L1557.04 93.1086  Z\n",
       "  \" fill=\"#ffffff\" fill-rule=\"evenodd\" fill-opacity=\"1\"/>\n",
       "<polyline clip-path=\"url(#clip850)\" style=\"stroke:#000000; stroke-linecap:round; stroke-linejoin:round; stroke-width:4; stroke-opacity:1; fill:none\" points=\"\n",
       "  1557.04,300.469 2280.8,300.469 2280.8,93.1086 1557.04,93.1086 1557.04,300.469 \n",
       "  \"/>\n",
       "<polyline clip-path=\"url(#clip850)\" style=\"stroke:#009af9; stroke-linecap:round; stroke-linejoin:round; stroke-width:4; stroke-opacity:1; fill:none\" points=\"\n",
       "  1581.03,144.949 1724.95,144.949 \n",
       "  \"/>\n",
       "<path clip-path=\"url(#clip850)\" d=\"M1769.28 141.28 Q1770.88 138.409 1773.1 137.044 Q1775.32 135.678 1778.33 135.678 Q1782.38 135.678 1784.58 138.525 Q1786.78 141.349 1786.78 146.581 L1786.78 162.229 L1782.5 162.229 L1782.5 146.719 Q1782.5 142.993 1781.18 141.187 Q1779.86 139.382 1777.15 139.382 Q1773.84 139.382 1771.92 141.581 Q1770 143.78 1770 147.576 L1770 162.229 L1765.72 162.229 L1765.72 146.719 Q1765.72 142.969 1764.4 141.187 Q1763.08 139.382 1760.32 139.382 Q1757.06 139.382 1755.14 141.604 Q1753.22 143.803 1753.22 147.576 L1753.22 162.229 L1748.94 162.229 L1748.94 136.303 L1753.22 136.303 L1753.22 140.331 Q1754.68 137.946 1756.71 136.812 Q1758.75 135.678 1761.55 135.678 Q1764.37 135.678 1766.34 137.113 Q1768.33 138.548 1769.28 141.28 Z\" fill=\"#000000\" fill-rule=\"evenodd\" fill-opacity=\"1\" /><path clip-path=\"url(#clip850)\" d=\"M1807.06 149.196 Q1801.9 149.196 1799.91 150.377 Q1797.92 151.557 1797.92 154.405 Q1797.92 156.673 1799.4 158.016 Q1800.9 159.335 1803.47 159.335 Q1807.01 159.335 1809.14 156.835 Q1811.3 154.312 1811.3 150.145 L1811.3 149.196 L1807.06 149.196 M1815.56 147.437 L1815.56 162.229 L1811.3 162.229 L1811.3 158.293 Q1809.84 160.655 1807.66 161.789 Q1805.49 162.9 1802.34 162.9 Q1798.36 162.9 1796 160.678 Q1793.66 158.432 1793.66 154.682 Q1793.66 150.307 1796.57 148.085 Q1799.51 145.863 1805.32 145.863 L1811.3 145.863 L1811.3 145.446 Q1811.3 142.507 1809.35 140.909 Q1807.43 139.289 1803.93 139.289 Q1801.71 139.289 1799.61 139.821 Q1797.5 140.354 1795.56 141.419 L1795.56 137.483 Q1797.89 136.581 1800.09 136.141 Q1802.29 135.678 1804.37 135.678 Q1810 135.678 1812.78 138.594 Q1815.56 141.511 1815.56 147.437 Z\" fill=\"#000000\" fill-rule=\"evenodd\" fill-opacity=\"1\" /><path clip-path=\"url(#clip850)\" d=\"M1840.86 137.067 L1840.86 141.094 Q1839.05 140.169 1837.11 139.706 Q1835.16 139.243 1833.08 139.243 Q1829.91 139.243 1828.31 140.215 Q1826.74 141.187 1826.74 143.131 Q1826.74 144.613 1827.87 145.469 Q1829 146.303 1832.43 147.067 L1833.89 147.391 Q1838.43 148.363 1840.32 150.145 Q1842.24 151.905 1842.24 155.076 Q1842.24 158.687 1839.37 160.793 Q1836.53 162.9 1831.53 162.9 Q1829.44 162.9 1827.18 162.483 Q1824.93 162.09 1822.43 161.28 L1822.43 156.881 Q1824.79 158.108 1827.08 158.733 Q1829.37 159.335 1831.62 159.335 Q1834.63 159.335 1836.25 158.317 Q1837.87 157.275 1837.87 155.4 Q1837.87 153.664 1836.69 152.738 Q1835.53 151.812 1831.57 150.956 L1830.09 150.608 Q1826.13 149.775 1824.37 148.062 Q1822.62 146.326 1822.62 143.317 Q1822.62 139.659 1825.21 137.669 Q1827.8 135.678 1832.57 135.678 Q1834.93 135.678 1837.01 136.025 Q1839.1 136.372 1840.86 137.067 Z\" fill=\"#000000\" fill-rule=\"evenodd\" fill-opacity=\"1\" /><path clip-path=\"url(#clip850)\" d=\"M1865.55 137.067 L1865.55 141.094 Q1863.75 140.169 1861.8 139.706 Q1859.86 139.243 1857.78 139.243 Q1854.61 139.243 1853.01 140.215 Q1851.43 141.187 1851.43 143.131 Q1851.43 144.613 1852.57 145.469 Q1853.7 146.303 1857.13 147.067 L1858.59 147.391 Q1863.12 148.363 1865.02 150.145 Q1866.94 151.905 1866.94 155.076 Q1866.94 158.687 1864.07 160.793 Q1861.23 162.9 1856.23 162.9 Q1854.14 162.9 1851.87 162.483 Q1849.63 162.09 1847.13 161.28 L1847.13 156.881 Q1849.49 158.108 1851.78 158.733 Q1854.07 159.335 1856.32 159.335 Q1859.33 159.335 1860.95 158.317 Q1862.57 157.275 1862.57 155.4 Q1862.57 153.664 1861.39 152.738 Q1860.23 151.812 1856.27 150.956 L1854.79 150.608 Q1850.83 149.775 1849.07 148.062 Q1847.31 146.326 1847.31 143.317 Q1847.31 139.659 1849.91 137.669 Q1852.5 135.678 1857.27 135.678 Q1859.63 135.678 1861.71 136.025 Q1863.8 136.372 1865.55 137.067 Z\" fill=\"#000000\" fill-rule=\"evenodd\" fill-opacity=\"1\" /><path clip-path=\"url(#clip850)\" d=\"M1874.33 156.349 L1879.21 156.349 L1879.21 162.229 L1874.33 162.229 L1874.33 156.349 Z\" fill=\"#000000\" fill-rule=\"evenodd\" fill-opacity=\"1\" /><path clip-path=\"url(#clip850)\" d=\"M1905.32 137.067 L1905.32 141.094 Q1903.52 140.169 1901.57 139.706 Q1899.63 139.243 1897.55 139.243 Q1894.37 139.243 1892.78 140.215 Q1891.2 141.187 1891.2 143.131 Q1891.2 144.613 1892.34 145.469 Q1893.47 146.303 1896.9 147.067 L1898.36 147.391 Q1902.89 148.363 1904.79 150.145 Q1906.71 151.905 1906.71 155.076 Q1906.71 158.687 1903.84 160.793 Q1900.99 162.9 1895.99 162.9 Q1893.91 162.9 1891.64 162.483 Q1889.4 162.09 1886.9 161.28 L1886.9 156.881 Q1889.26 158.108 1891.55 158.733 Q1893.84 159.335 1896.09 159.335 Q1899.1 159.335 1900.72 158.317 Q1902.34 157.275 1902.34 155.4 Q1902.34 153.664 1901.16 152.738 Q1900 151.812 1896.04 150.956 L1894.56 150.608 Q1890.6 149.775 1888.84 148.062 Q1887.08 146.326 1887.08 143.317 Q1887.08 139.659 1889.68 137.669 Q1892.27 135.678 1897.04 135.678 Q1899.4 135.678 1901.48 136.025 Q1903.56 136.372 1905.32 137.067 Z\" fill=\"#000000\" fill-rule=\"evenodd\" fill-opacity=\"1\" /><path clip-path=\"url(#clip850)\" d=\"M1938.8 126.257 Q1935.69 131.581 1934.19 136.789 Q1932.68 141.997 1932.68 147.344 Q1932.68 152.692 1934.19 157.946 Q1935.72 163.178 1938.8 168.479 L1935.09 168.479 Q1931.62 163.039 1929.88 157.784 Q1928.17 152.53 1928.17 147.344 Q1928.17 142.182 1929.88 136.951 Q1931.6 131.72 1935.09 126.257 L1938.8 126.257 Z\" fill=\"#000000\" fill-rule=\"evenodd\" fill-opacity=\"1\" /><path clip-path=\"url(#clip850)\" d=\"M1961.83 143.594 Q1965.18 144.312 1967.06 146.581 Q1968.96 148.849 1968.96 152.182 Q1968.96 157.298 1965.44 160.099 Q1961.92 162.9 1955.44 162.9 Q1953.26 162.9 1950.95 162.46 Q1948.66 162.043 1946.2 161.187 L1946.2 156.673 Q1948.15 157.807 1950.46 158.386 Q1952.78 158.965 1955.3 158.965 Q1959.7 158.965 1961.99 157.229 Q1964.3 155.493 1964.3 152.182 Q1964.3 149.127 1962.15 147.414 Q1960.02 145.678 1956.2 145.678 L1952.17 145.678 L1952.17 141.835 L1956.39 141.835 Q1959.84 141.835 1961.67 140.469 Q1963.49 139.081 1963.49 136.488 Q1963.49 133.826 1961.6 132.414 Q1959.72 130.979 1956.2 130.979 Q1954.28 130.979 1952.08 131.395 Q1949.88 131.812 1947.24 132.692 L1947.24 128.525 Q1949.91 127.784 1952.22 127.414 Q1954.56 127.044 1956.62 127.044 Q1961.94 127.044 1965.05 129.474 Q1968.15 131.882 1968.15 136.002 Q1968.15 138.872 1966.5 140.863 Q1964.86 142.831 1961.83 143.594 Z\" fill=\"#000000\" fill-rule=\"evenodd\" fill-opacity=\"1\" /><path clip-path=\"url(#clip850)\" d=\"M1991.99 143.594 Q1995.35 144.312 1997.22 146.581 Q1999.12 148.849 1999.12 152.182 Q1999.12 157.298 1995.6 160.099 Q1992.08 162.9 1985.6 162.9 Q1983.42 162.9 1981.11 162.46 Q1978.82 162.043 1976.36 161.187 L1976.36 156.673 Q1978.31 157.807 1980.62 158.386 Q1982.94 158.965 1985.46 158.965 Q1989.86 158.965 1992.15 157.229 Q1994.47 155.493 1994.47 152.182 Q1994.47 149.127 1992.31 147.414 Q1990.18 145.678 1986.36 145.678 L1982.34 145.678 L1982.34 141.835 L1986.55 141.835 Q1990 141.835 1991.83 140.469 Q1993.66 139.081 1993.66 136.488 Q1993.66 133.826 1991.76 132.414 Q1989.88 130.979 1986.36 130.979 Q1984.44 130.979 1982.24 131.395 Q1980.05 131.812 1977.41 132.692 L1977.41 128.525 Q1980.07 127.784 1982.38 127.414 Q1984.72 127.044 1986.78 127.044 Q1992.11 127.044 1995.21 129.474 Q1998.31 131.882 1998.31 136.002 Q1998.31 138.872 1996.67 140.863 Q1995.02 142.831 1991.99 143.594 Z\" fill=\"#000000\" fill-rule=\"evenodd\" fill-opacity=\"1\" /><path clip-path=\"url(#clip850)\" d=\"M2008.03 127.669 L2026.39 127.669 L2026.39 131.604 L2012.31 131.604 L2012.31 140.076 Q2013.33 139.729 2014.35 139.567 Q2015.37 139.382 2016.39 139.382 Q2022.17 139.382 2025.55 142.553 Q2028.93 145.724 2028.93 151.141 Q2028.93 156.719 2025.46 159.821 Q2021.99 162.9 2015.67 162.9 Q2013.49 162.9 2011.23 162.53 Q2008.98 162.159 2006.57 161.418 L2006.57 156.719 Q2008.66 157.854 2010.88 158.409 Q2013.1 158.965 2015.58 158.965 Q2019.58 158.965 2021.92 156.858 Q2024.26 154.752 2024.26 151.141 Q2024.26 147.53 2021.92 145.423 Q2019.58 143.317 2015.58 143.317 Q2013.7 143.317 2011.83 143.733 Q2009.98 144.15 2008.03 145.03 L2008.03 127.669 Z\" fill=\"#000000\" fill-rule=\"evenodd\" fill-opacity=\"1\" /><path clip-path=\"url(#clip850)\" d=\"M2038.19 127.669 L2056.55 127.669 L2056.55 131.604 L2042.48 131.604 L2042.48 140.076 Q2043.49 139.729 2044.51 139.567 Q2045.53 139.382 2046.55 139.382 Q2052.34 139.382 2055.72 142.553 Q2059.1 145.724 2059.1 151.141 Q2059.1 156.719 2055.62 159.821 Q2052.15 162.9 2045.83 162.9 Q2043.66 162.9 2041.39 162.53 Q2039.14 162.159 2036.73 161.418 L2036.73 156.719 Q2038.82 157.854 2041.04 158.409 Q2043.26 158.965 2045.74 158.965 Q2049.74 158.965 2052.08 156.858 Q2054.42 154.752 2054.42 151.141 Q2054.42 147.53 2052.08 145.423 Q2049.74 143.317 2045.74 143.317 Q2043.86 143.317 2041.99 143.733 Q2040.14 144.15 2038.19 145.03 L2038.19 127.669 Z\" fill=\"#000000\" fill-rule=\"evenodd\" fill-opacity=\"1\" /><path clip-path=\"url(#clip850)\" d=\"M2081.16 131.743 L2069.35 150.192 L2081.16 150.192 L2081.16 131.743 M2079.93 127.669 L2085.81 127.669 L2085.81 150.192 L2090.74 150.192 L2090.74 154.081 L2085.81 154.081 L2085.81 162.229 L2081.16 162.229 L2081.16 154.081 L2065.55 154.081 L2065.55 149.567 L2079.93 127.669 Z\" fill=\"#000000\" fill-rule=\"evenodd\" fill-opacity=\"1\" /><path clip-path=\"url(#clip850)\" d=\"M2111.32 131.743 L2099.51 150.192 L2111.32 150.192 L2111.32 131.743 M2110.09 127.669 L2115.97 127.669 L2115.97 150.192 L2120.9 150.192 L2120.9 154.081 L2115.97 154.081 L2115.97 162.229 L2111.32 162.229 L2111.32 154.081 L2095.72 154.081 L2095.72 149.567 L2110.09 127.669 Z\" fill=\"#000000\" fill-rule=\"evenodd\" fill-opacity=\"1\" /><path clip-path=\"url(#clip850)\" d=\"M2142.8 143.594 Q2146.16 144.312 2148.03 146.581 Q2149.93 148.849 2149.93 152.182 Q2149.93 157.298 2146.41 160.099 Q2142.89 162.9 2136.41 162.9 Q2134.23 162.9 2131.92 162.46 Q2129.63 162.043 2127.17 161.187 L2127.17 156.673 Q2129.12 157.807 2131.43 158.386 Q2133.75 158.965 2136.27 158.965 Q2140.67 158.965 2142.96 157.229 Q2145.28 155.493 2145.28 152.182 Q2145.28 149.127 2143.12 147.414 Q2140.99 145.678 2137.17 145.678 L2133.15 145.678 L2133.15 141.835 L2137.36 141.835 Q2140.81 141.835 2142.64 140.469 Q2144.47 139.081 2144.47 136.488 Q2144.47 133.826 2142.57 132.414 Q2140.69 130.979 2137.17 130.979 Q2135.25 130.979 2133.05 131.395 Q2130.85 131.812 2128.22 132.692 L2128.22 128.525 Q2130.88 127.784 2133.19 127.414 Q2135.53 127.044 2137.59 127.044 Q2142.91 127.044 2146.02 129.474 Q2149.12 131.882 2149.12 136.002 Q2149.12 138.872 2147.47 140.863 Q2145.83 142.831 2142.8 143.594 Z\" fill=\"#000000\" fill-rule=\"evenodd\" fill-opacity=\"1\" /><path clip-path=\"url(#clip850)\" d=\"M2162.82 158.293 L2179.14 158.293 L2179.14 162.229 L2157.2 162.229 L2157.2 158.293 Q2159.86 155.539 2164.44 150.909 Q2169.05 146.256 2170.23 144.914 Q2172.47 142.391 2173.35 140.655 Q2174.26 138.895 2174.26 137.206 Q2174.26 134.451 2172.31 132.715 Q2170.39 130.979 2167.29 130.979 Q2165.09 130.979 2162.64 131.743 Q2160.21 132.507 2157.43 134.057 L2157.43 129.335 Q2160.25 128.201 2162.71 127.622 Q2165.16 127.044 2167.2 127.044 Q2172.57 127.044 2175.76 129.729 Q2178.96 132.414 2178.96 136.905 Q2178.96 139.034 2178.15 140.956 Q2177.36 142.854 2175.25 145.446 Q2174.67 146.118 2171.57 149.335 Q2168.47 152.53 2162.82 158.293 Z\" fill=\"#000000\" fill-rule=\"evenodd\" fill-opacity=\"1\" /><path clip-path=\"url(#clip850)\" d=\"M2187.68 126.257 L2191.39 126.257 Q2194.86 131.72 2196.57 136.951 Q2198.31 142.182 2198.31 147.344 Q2198.31 152.53 2196.57 157.784 Q2194.86 163.039 2191.39 168.479 L2187.68 168.479 Q2190.76 163.178 2192.27 157.946 Q2193.79 152.692 2193.79 147.344 Q2193.79 141.997 2192.27 136.789 Q2190.76 131.581 2187.68 126.257 Z\" fill=\"#000000\" fill-rule=\"evenodd\" fill-opacity=\"1\" /><polyline clip-path=\"url(#clip850)\" style=\"stroke:#e26f46; stroke-linecap:round; stroke-linejoin:round; stroke-width:4; stroke-opacity:1; fill:none\" points=\"\n",
       "  1581.03,196.789 1724.95,196.789 \n",
       "  \"/>\n",
       "<path clip-path=\"url(#clip850)\" d=\"M1769.28 193.12 Q1770.88 190.249 1773.1 188.884 Q1775.32 187.518 1778.33 187.518 Q1782.38 187.518 1784.58 190.365 Q1786.78 193.189 1786.78 198.421 L1786.78 214.069 L1782.5 214.069 L1782.5 198.559 Q1782.5 194.833 1781.18 193.027 Q1779.86 191.222 1777.15 191.222 Q1773.84 191.222 1771.92 193.421 Q1770 195.62 1770 199.416 L1770 214.069 L1765.72 214.069 L1765.72 198.559 Q1765.72 194.809 1764.4 193.027 Q1763.08 191.222 1760.32 191.222 Q1757.06 191.222 1755.14 193.444 Q1753.22 195.643 1753.22 199.416 L1753.22 214.069 L1748.94 214.069 L1748.94 188.143 L1753.22 188.143 L1753.22 192.171 Q1754.68 189.786 1756.71 188.652 Q1758.75 187.518 1761.55 187.518 Q1764.37 187.518 1766.34 188.953 Q1768.33 190.388 1769.28 193.12 Z\" fill=\"#000000\" fill-rule=\"evenodd\" fill-opacity=\"1\" /><path clip-path=\"url(#clip850)\" d=\"M1807.06 201.036 Q1801.9 201.036 1799.91 202.217 Q1797.92 203.397 1797.92 206.245 Q1797.92 208.513 1799.4 209.856 Q1800.9 211.175 1803.47 211.175 Q1807.01 211.175 1809.14 208.675 Q1811.3 206.152 1811.3 201.985 L1811.3 201.036 L1807.06 201.036 M1815.56 199.277 L1815.56 214.069 L1811.3 214.069 L1811.3 210.133 Q1809.84 212.495 1807.66 213.629 Q1805.49 214.74 1802.34 214.74 Q1798.36 214.74 1796 212.518 Q1793.66 210.272 1793.66 206.522 Q1793.66 202.147 1796.57 199.925 Q1799.51 197.703 1805.32 197.703 L1811.3 197.703 L1811.3 197.286 Q1811.3 194.347 1809.35 192.749 Q1807.43 191.129 1803.93 191.129 Q1801.71 191.129 1799.61 191.661 Q1797.5 192.194 1795.56 193.259 L1795.56 189.323 Q1797.89 188.421 1800.09 187.981 Q1802.29 187.518 1804.37 187.518 Q1810 187.518 1812.78 190.434 Q1815.56 193.351 1815.56 199.277 Z\" fill=\"#000000\" fill-rule=\"evenodd\" fill-opacity=\"1\" /><path clip-path=\"url(#clip850)\" d=\"M1840.86 188.907 L1840.86 192.934 Q1839.05 192.009 1837.11 191.546 Q1835.16 191.083 1833.08 191.083 Q1829.91 191.083 1828.31 192.055 Q1826.74 193.027 1826.74 194.971 Q1826.74 196.453 1827.87 197.309 Q1829 198.143 1832.43 198.907 L1833.89 199.231 Q1838.43 200.203 1840.32 201.985 Q1842.24 203.745 1842.24 206.916 Q1842.24 210.527 1839.37 212.633 Q1836.53 214.74 1831.53 214.74 Q1829.44 214.74 1827.18 214.323 Q1824.93 213.93 1822.43 213.12 L1822.43 208.721 Q1824.79 209.948 1827.08 210.573 Q1829.37 211.175 1831.62 211.175 Q1834.63 211.175 1836.25 210.157 Q1837.87 209.115 1837.87 207.24 Q1837.87 205.504 1836.69 204.578 Q1835.53 203.652 1831.57 202.796 L1830.09 202.448 Q1826.13 201.615 1824.37 199.902 Q1822.62 198.166 1822.62 195.157 Q1822.62 191.499 1825.21 189.509 Q1827.8 187.518 1832.57 187.518 Q1834.93 187.518 1837.01 187.865 Q1839.1 188.212 1840.86 188.907 Z\" fill=\"#000000\" fill-rule=\"evenodd\" fill-opacity=\"1\" /><path clip-path=\"url(#clip850)\" d=\"M1865.55 188.907 L1865.55 192.934 Q1863.75 192.009 1861.8 191.546 Q1859.86 191.083 1857.78 191.083 Q1854.61 191.083 1853.01 192.055 Q1851.43 193.027 1851.43 194.971 Q1851.43 196.453 1852.57 197.309 Q1853.7 198.143 1857.13 198.907 L1858.59 199.231 Q1863.12 200.203 1865.02 201.985 Q1866.94 203.745 1866.94 206.916 Q1866.94 210.527 1864.07 212.633 Q1861.23 214.74 1856.23 214.74 Q1854.14 214.74 1851.87 214.323 Q1849.63 213.93 1847.13 213.12 L1847.13 208.721 Q1849.49 209.948 1851.78 210.573 Q1854.07 211.175 1856.32 211.175 Q1859.33 211.175 1860.95 210.157 Q1862.57 209.115 1862.57 207.24 Q1862.57 205.504 1861.39 204.578 Q1860.23 203.652 1856.27 202.796 L1854.79 202.448 Q1850.83 201.615 1849.07 199.902 Q1847.31 198.166 1847.31 195.157 Q1847.31 191.499 1849.91 189.509 Q1852.5 187.518 1857.27 187.518 Q1859.63 187.518 1861.71 187.865 Q1863.8 188.212 1865.55 188.907 Z\" fill=\"#000000\" fill-rule=\"evenodd\" fill-opacity=\"1\" /><path clip-path=\"url(#clip850)\" d=\"M1874.33 208.189 L1879.21 208.189 L1879.21 214.069 L1874.33 214.069 L1874.33 208.189 Z\" fill=\"#000000\" fill-rule=\"evenodd\" fill-opacity=\"1\" /><path clip-path=\"url(#clip850)\" d=\"M1885.74 188.143 L1890.25 188.143 L1898.36 209.902 L1906.46 188.143 L1910.97 188.143 L1901.25 214.069 L1895.46 214.069 L1885.74 188.143 Z\" fill=\"#000000\" fill-rule=\"evenodd\" fill-opacity=\"1\" /><path clip-path=\"url(#clip850)\" d=\"M1942.15 178.097 Q1939.05 183.421 1937.55 188.629 Q1936.04 193.837 1936.04 199.184 Q1936.04 204.532 1937.55 209.786 Q1939.07 215.018 1942.15 220.319 L1938.45 220.319 Q1934.98 214.879 1933.24 209.624 Q1931.53 204.37 1931.53 199.184 Q1931.53 194.022 1933.24 188.791 Q1934.95 183.56 1938.45 178.097 L1942.15 178.097 Z\" fill=\"#000000\" fill-rule=\"evenodd\" fill-opacity=\"1\" /><path clip-path=\"url(#clip850)\" d=\"M1965.18 195.434 Q1968.54 196.152 1970.42 198.421 Q1972.31 200.689 1972.31 204.022 Q1972.31 209.138 1968.8 211.939 Q1965.28 214.74 1958.8 214.74 Q1956.62 214.74 1954.3 214.3 Q1952.01 213.883 1949.56 213.027 L1949.56 208.513 Q1951.5 209.647 1953.82 210.226 Q1956.13 210.805 1958.66 210.805 Q1963.05 210.805 1965.35 209.069 Q1967.66 207.333 1967.66 204.022 Q1967.66 200.967 1965.51 199.254 Q1963.38 197.518 1959.56 197.518 L1955.53 197.518 L1955.53 193.675 L1959.74 193.675 Q1963.19 193.675 1965.02 192.309 Q1966.85 190.921 1966.85 188.328 Q1966.85 185.666 1964.95 184.254 Q1963.08 182.819 1959.56 182.819 Q1957.64 182.819 1955.44 183.235 Q1953.24 183.652 1950.6 184.532 L1950.6 180.365 Q1953.26 179.624 1955.58 179.254 Q1957.92 178.884 1959.98 178.884 Q1965.3 178.884 1968.4 181.314 Q1971.5 183.722 1971.5 187.842 Q1971.5 190.712 1969.86 192.703 Q1968.22 194.671 1965.18 195.434 Z\" fill=\"#000000\" fill-rule=\"evenodd\" fill-opacity=\"1\" /><path clip-path=\"url(#clip850)\" d=\"M1995.35 195.434 Q1998.7 196.152 2000.58 198.421 Q2002.48 200.689 2002.48 204.022 Q2002.48 209.138 1998.96 211.939 Q1995.44 214.74 1988.96 214.74 Q1986.78 214.74 1984.47 214.3 Q1982.17 213.883 1979.72 213.027 L1979.72 208.513 Q1981.67 209.647 1983.98 210.226 Q1986.3 210.805 1988.82 210.805 Q1993.22 210.805 1995.51 209.069 Q1997.82 207.333 1997.82 204.022 Q1997.82 200.967 1995.67 199.254 Q1993.54 197.518 1989.72 197.518 L1985.69 197.518 L1985.69 193.675 L1989.91 193.675 Q1993.36 193.675 1995.18 192.309 Q1997.01 190.921 1997.01 188.328 Q1997.01 185.666 1995.11 184.254 Q1993.24 182.819 1989.72 182.819 Q1987.8 182.819 1985.6 183.235 Q1983.4 183.652 1980.76 184.532 L1980.76 180.365 Q1983.42 179.624 1985.74 179.254 Q1988.08 178.884 1990.14 178.884 Q1995.46 178.884 1998.56 181.314 Q2001.67 183.722 2001.67 187.842 Q2001.67 190.712 2000.02 192.703 Q1998.38 194.671 1995.35 195.434 Z\" fill=\"#000000\" fill-rule=\"evenodd\" fill-opacity=\"1\" /><path clip-path=\"url(#clip850)\" d=\"M2011.39 179.509 L2029.74 179.509 L2029.74 183.444 L2015.67 183.444 L2015.67 191.916 Q2016.69 191.569 2017.71 191.407 Q2018.73 191.222 2019.74 191.222 Q2025.53 191.222 2028.91 194.393 Q2032.29 197.564 2032.29 202.981 Q2032.29 208.559 2028.82 211.661 Q2025.35 214.74 2019.03 214.74 Q2016.85 214.74 2014.58 214.37 Q2012.34 213.999 2009.93 213.258 L2009.93 208.559 Q2012.01 209.694 2014.23 210.249 Q2016.46 210.805 2018.93 210.805 Q2022.94 210.805 2025.28 208.698 Q2027.61 206.592 2027.61 202.981 Q2027.61 199.37 2025.28 197.263 Q2022.94 195.157 2018.93 195.157 Q2017.06 195.157 2015.18 195.573 Q2013.33 195.99 2011.39 196.87 L2011.39 179.509 Z\" fill=\"#000000\" fill-rule=\"evenodd\" fill-opacity=\"1\" /><path clip-path=\"url(#clip850)\" d=\"M2041.55 179.509 L2059.91 179.509 L2059.91 183.444 L2045.83 183.444 L2045.83 191.916 Q2046.85 191.569 2047.87 191.407 Q2048.89 191.222 2049.91 191.222 Q2055.69 191.222 2059.07 194.393 Q2062.45 197.564 2062.45 202.981 Q2062.45 208.559 2058.98 211.661 Q2055.51 214.74 2049.19 214.74 Q2047.01 214.74 2044.74 214.37 Q2042.5 213.999 2040.09 213.258 L2040.09 208.559 Q2042.17 209.694 2044.4 210.249 Q2046.62 210.805 2049.1 210.805 Q2053.1 210.805 2055.44 208.698 Q2057.78 206.592 2057.78 202.981 Q2057.78 199.37 2055.44 197.263 Q2053.1 195.157 2049.1 195.157 Q2047.22 195.157 2045.35 195.573 Q2043.49 195.99 2041.55 196.87 L2041.55 179.509 Z\" fill=\"#000000\" fill-rule=\"evenodd\" fill-opacity=\"1\" /><path clip-path=\"url(#clip850)\" d=\"M2084.51 183.583 L2072.71 202.032 L2084.51 202.032 L2084.51 183.583 M2083.29 179.509 L2089.16 179.509 L2089.16 202.032 L2094.1 202.032 L2094.1 205.921 L2089.16 205.921 L2089.16 214.069 L2084.51 214.069 L2084.51 205.921 L2068.91 205.921 L2068.91 201.407 L2083.29 179.509 Z\" fill=\"#000000\" fill-rule=\"evenodd\" fill-opacity=\"1\" /><path clip-path=\"url(#clip850)\" d=\"M2114.67 183.583 L2102.87 202.032 L2114.67 202.032 L2114.67 183.583 M2113.45 179.509 L2119.33 179.509 L2119.33 202.032 L2124.26 202.032 L2124.26 205.921 L2119.33 205.921 L2119.33 214.069 L2114.67 214.069 L2114.67 205.921 L2099.07 205.921 L2099.07 201.407 L2113.45 179.509 Z\" fill=\"#000000\" fill-rule=\"evenodd\" fill-opacity=\"1\" /><path clip-path=\"url(#clip850)\" d=\"M2146.16 195.434 Q2149.51 196.152 2151.39 198.421 Q2153.28 200.689 2153.28 204.022 Q2153.28 209.138 2149.77 211.939 Q2146.25 214.74 2139.77 214.74 Q2137.59 214.74 2135.28 214.3 Q2132.98 213.883 2130.53 213.027 L2130.53 208.513 Q2132.47 209.647 2134.79 210.226 Q2137.1 210.805 2139.63 210.805 Q2144.03 210.805 2146.32 209.069 Q2148.63 207.333 2148.63 204.022 Q2148.63 200.967 2146.48 199.254 Q2144.35 197.518 2140.53 197.518 L2136.5 197.518 L2136.5 193.675 L2140.72 193.675 Q2144.16 193.675 2145.99 192.309 Q2147.82 190.921 2147.82 188.328 Q2147.82 185.666 2145.92 184.254 Q2144.05 182.819 2140.53 182.819 Q2138.61 182.819 2136.41 183.235 Q2134.21 183.652 2131.57 184.532 L2131.57 180.365 Q2134.23 179.624 2136.55 179.254 Q2138.89 178.884 2140.95 178.884 Q2146.27 178.884 2149.37 181.314 Q2152.47 183.722 2152.47 187.842 Q2152.47 190.712 2150.83 192.703 Q2149.19 194.671 2146.16 195.434 Z\" fill=\"#000000\" fill-rule=\"evenodd\" fill-opacity=\"1\" /><path clip-path=\"url(#clip850)\" d=\"M2176.32 195.434 Q2179.67 196.152 2181.55 198.421 Q2183.45 200.689 2183.45 204.022 Q2183.45 209.138 2179.93 211.939 Q2176.41 214.74 2169.93 214.74 Q2167.75 214.74 2165.44 214.3 Q2163.15 213.883 2160.69 213.027 L2160.69 208.513 Q2162.64 209.647 2164.95 210.226 Q2167.27 210.805 2169.79 210.805 Q2174.19 210.805 2176.48 209.069 Q2178.79 207.333 2178.79 204.022 Q2178.79 200.967 2176.64 199.254 Q2174.51 197.518 2170.69 197.518 L2166.66 197.518 L2166.66 193.675 L2170.88 193.675 Q2174.33 193.675 2176.16 192.309 Q2177.98 190.921 2177.98 188.328 Q2177.98 185.666 2176.09 184.254 Q2174.21 182.819 2170.69 182.819 Q2168.77 182.819 2166.57 183.235 Q2164.37 183.652 2161.73 184.532 L2161.73 180.365 Q2164.4 179.624 2166.71 179.254 Q2169.05 178.884 2171.11 178.884 Q2176.43 178.884 2179.53 181.314 Q2182.64 183.722 2182.64 187.842 Q2182.64 190.712 2180.99 192.703 Q2179.35 194.671 2176.32 195.434 Z\" fill=\"#000000\" fill-rule=\"evenodd\" fill-opacity=\"1\" /><path clip-path=\"url(#clip850)\" d=\"M2191.04 178.097 L2194.74 178.097 Q2198.22 183.56 2199.93 188.791 Q2201.66 194.022 2201.66 199.184 Q2201.66 204.37 2199.93 209.624 Q2198.22 214.879 2194.74 220.319 L2191.04 220.319 Q2194.12 215.018 2195.62 209.786 Q2197.15 204.532 2197.15 199.184 Q2197.15 193.837 2195.62 188.629 Q2194.12 183.421 2191.04 178.097 Z\" fill=\"#000000\" fill-rule=\"evenodd\" fill-opacity=\"1\" /><polyline clip-path=\"url(#clip850)\" style=\"stroke:#3da44d; stroke-linecap:round; stroke-linejoin:round; stroke-width:4; stroke-opacity:1; fill:none\" points=\"\n",
       "  1581.03,248.629 1724.95,248.629 \n",
       "  \"/>\n",
       "<path clip-path=\"url(#clip850)\" d=\"M1769.28 244.96 Q1770.88 242.089 1773.1 240.724 Q1775.32 239.358 1778.33 239.358 Q1782.38 239.358 1784.58 242.205 Q1786.78 245.029 1786.78 250.261 L1786.78 265.909 L1782.5 265.909 L1782.5 250.399 Q1782.5 246.673 1781.18 244.867 Q1779.86 243.062 1777.15 243.062 Q1773.84 243.062 1771.92 245.261 Q1770 247.46 1770 251.256 L1770 265.909 L1765.72 265.909 L1765.72 250.399 Q1765.72 246.649 1764.4 244.867 Q1763.08 243.062 1760.32 243.062 Q1757.06 243.062 1755.14 245.284 Q1753.22 247.483 1753.22 251.256 L1753.22 265.909 L1748.94 265.909 L1748.94 239.983 L1753.22 239.983 L1753.22 244.011 Q1754.68 241.626 1756.71 240.492 Q1758.75 239.358 1761.55 239.358 Q1764.37 239.358 1766.34 240.793 Q1768.33 242.228 1769.28 244.96 Z\" fill=\"#000000\" fill-rule=\"evenodd\" fill-opacity=\"1\" /><path clip-path=\"url(#clip850)\" d=\"M1807.06 252.876 Q1801.9 252.876 1799.91 254.057 Q1797.92 255.237 1797.92 258.085 Q1797.92 260.353 1799.4 261.696 Q1800.9 263.015 1803.47 263.015 Q1807.01 263.015 1809.14 260.515 Q1811.3 257.992 1811.3 253.825 L1811.3 252.876 L1807.06 252.876 M1815.56 251.117 L1815.56 265.909 L1811.3 265.909 L1811.3 261.973 Q1809.84 264.335 1807.66 265.469 Q1805.49 266.58 1802.34 266.58 Q1798.36 266.58 1796 264.358 Q1793.66 262.112 1793.66 258.362 Q1793.66 253.987 1796.57 251.765 Q1799.51 249.543 1805.32 249.543 L1811.3 249.543 L1811.3 249.126 Q1811.3 246.187 1809.35 244.589 Q1807.43 242.969 1803.93 242.969 Q1801.71 242.969 1799.61 243.501 Q1797.5 244.034 1795.56 245.099 L1795.56 241.163 Q1797.89 240.261 1800.09 239.821 Q1802.29 239.358 1804.37 239.358 Q1810 239.358 1812.78 242.274 Q1815.56 245.191 1815.56 251.117 Z\" fill=\"#000000\" fill-rule=\"evenodd\" fill-opacity=\"1\" /><path clip-path=\"url(#clip850)\" d=\"M1840.86 240.747 L1840.86 244.774 Q1839.05 243.849 1837.11 243.386 Q1835.16 242.923 1833.08 242.923 Q1829.91 242.923 1828.31 243.895 Q1826.74 244.867 1826.74 246.811 Q1826.74 248.293 1827.87 249.149 Q1829 249.983 1832.43 250.747 L1833.89 251.071 Q1838.43 252.043 1840.32 253.825 Q1842.24 255.585 1842.24 258.756 Q1842.24 262.367 1839.37 264.473 Q1836.53 266.58 1831.53 266.58 Q1829.44 266.58 1827.18 266.163 Q1824.93 265.77 1822.43 264.96 L1822.43 260.561 Q1824.79 261.788 1827.08 262.413 Q1829.37 263.015 1831.62 263.015 Q1834.63 263.015 1836.25 261.997 Q1837.87 260.955 1837.87 259.08 Q1837.87 257.344 1836.69 256.418 Q1835.53 255.492 1831.57 254.636 L1830.09 254.288 Q1826.13 253.455 1824.37 251.742 Q1822.62 250.006 1822.62 246.997 Q1822.62 243.339 1825.21 241.349 Q1827.8 239.358 1832.57 239.358 Q1834.93 239.358 1837.01 239.705 Q1839.1 240.052 1840.86 240.747 Z\" fill=\"#000000\" fill-rule=\"evenodd\" fill-opacity=\"1\" /><path clip-path=\"url(#clip850)\" d=\"M1865.55 240.747 L1865.55 244.774 Q1863.75 243.849 1861.8 243.386 Q1859.86 242.923 1857.78 242.923 Q1854.61 242.923 1853.01 243.895 Q1851.43 244.867 1851.43 246.811 Q1851.43 248.293 1852.57 249.149 Q1853.7 249.983 1857.13 250.747 L1858.59 251.071 Q1863.12 252.043 1865.02 253.825 Q1866.94 255.585 1866.94 258.756 Q1866.94 262.367 1864.07 264.473 Q1861.23 266.58 1856.23 266.58 Q1854.14 266.58 1851.87 266.163 Q1849.63 265.77 1847.13 264.96 L1847.13 260.561 Q1849.49 261.788 1851.78 262.413 Q1854.07 263.015 1856.32 263.015 Q1859.33 263.015 1860.95 261.997 Q1862.57 260.955 1862.57 259.08 Q1862.57 257.344 1861.39 256.418 Q1860.23 255.492 1856.27 254.636 L1854.79 254.288 Q1850.83 253.455 1849.07 251.742 Q1847.31 250.006 1847.31 246.997 Q1847.31 243.339 1849.91 241.349 Q1852.5 239.358 1857.27 239.358 Q1859.63 239.358 1861.71 239.705 Q1863.8 240.052 1865.55 240.747 Z\" fill=\"#000000\" fill-rule=\"evenodd\" fill-opacity=\"1\" /><path clip-path=\"url(#clip850)\" d=\"M1874.33 260.029 L1879.21 260.029 L1879.21 265.909 L1874.33 265.909 L1874.33 260.029 Z\" fill=\"#000000\" fill-rule=\"evenodd\" fill-opacity=\"1\" /><path clip-path=\"url(#clip850)\" d=\"M1900.58 252.876 Q1895.42 252.876 1893.43 254.057 Q1891.43 255.237 1891.43 258.085 Q1891.43 260.353 1892.92 261.696 Q1894.42 263.015 1896.99 263.015 Q1900.53 263.015 1902.66 260.515 Q1904.81 257.992 1904.81 253.825 L1904.81 252.876 L1900.58 252.876 M1909.07 251.117 L1909.07 265.909 L1904.81 265.909 L1904.81 261.973 Q1903.36 264.335 1901.18 265.469 Q1899 266.58 1895.86 266.58 Q1891.87 266.58 1889.51 264.358 Q1887.18 262.112 1887.18 258.362 Q1887.18 253.987 1890.09 251.765 Q1893.03 249.543 1898.84 249.543 L1904.81 249.543 L1904.81 249.126 Q1904.81 246.187 1902.87 244.589 Q1900.95 242.969 1897.45 242.969 Q1895.23 242.969 1893.12 243.501 Q1891.02 244.034 1889.07 245.099 L1889.07 241.163 Q1891.41 240.261 1893.61 239.821 Q1895.81 239.358 1897.89 239.358 Q1903.52 239.358 1906.3 242.274 Q1909.07 245.191 1909.07 251.117 Z\" fill=\"#000000\" fill-rule=\"evenodd\" fill-opacity=\"1\" /><path clip-path=\"url(#clip850)\" d=\"M1943.15 229.937 Q1940.05 235.261 1938.54 240.469 Q1937.04 245.677 1937.04 251.024 Q1937.04 256.372 1938.54 261.626 Q1940.07 266.858 1943.15 272.159 L1939.44 272.159 Q1935.97 266.719 1934.24 261.464 Q1932.52 256.21 1932.52 251.024 Q1932.52 245.862 1934.24 240.631 Q1935.95 235.4 1939.44 229.937 L1943.15 229.937 Z\" fill=\"#000000\" fill-rule=\"evenodd\" fill-opacity=\"1\" /><path clip-path=\"url(#clip850)\" d=\"M1952.06 231.349 L1970.42 231.349 L1970.42 235.284 L1956.34 235.284 L1956.34 243.756 Q1957.36 243.409 1958.38 243.247 Q1959.4 243.062 1960.42 243.062 Q1966.2 243.062 1969.58 246.233 Q1972.96 249.404 1972.96 254.821 Q1972.96 260.399 1969.49 263.501 Q1966.02 266.58 1959.7 266.58 Q1957.52 266.58 1955.25 266.21 Q1953.01 265.839 1950.6 265.098 L1950.6 260.399 Q1952.68 261.534 1954.91 262.089 Q1957.13 262.645 1959.61 262.645 Q1963.61 262.645 1965.95 260.538 Q1968.29 258.432 1968.29 254.821 Q1968.29 251.21 1965.95 249.103 Q1963.61 246.997 1959.61 246.997 Q1957.73 246.997 1955.86 247.413 Q1954 247.83 1952.06 248.71 L1952.06 231.349 Z\" fill=\"#000000\" fill-rule=\"evenodd\" fill-opacity=\"1\" /><path clip-path=\"url(#clip850)\" d=\"M1992.17 249.497 Q1988.84 249.497 1986.92 251.279 Q1985.02 253.061 1985.02 256.186 Q1985.02 259.311 1986.92 261.094 Q1988.84 262.876 1992.17 262.876 Q1995.51 262.876 1997.43 261.094 Q1999.35 259.288 1999.35 256.186 Q1999.35 253.061 1997.43 251.279 Q1995.53 249.497 1992.17 249.497 M1987.5 247.506 Q1984.49 246.765 1982.8 244.705 Q1981.13 242.645 1981.13 239.682 Q1981.13 235.538 1984.07 233.131 Q1987.04 230.724 1992.17 230.724 Q1997.34 230.724 2000.28 233.131 Q2003.22 235.538 2003.22 239.682 Q2003.22 242.645 2001.53 244.705 Q1999.86 246.765 1996.87 247.506 Q2000.25 248.293 2002.13 250.585 Q2004.03 252.876 2004.03 256.186 Q2004.03 261.21 2000.95 263.895 Q1997.89 266.58 1992.17 266.58 Q1986.46 266.58 1983.38 263.895 Q1980.32 261.21 1980.32 256.186 Q1980.32 252.876 1982.22 250.585 Q1984.12 248.293 1987.5 247.506 M1985.79 240.122 Q1985.79 242.807 1987.45 244.312 Q1989.14 245.816 1992.17 245.816 Q1995.18 245.816 1996.87 244.312 Q1998.59 242.807 1998.59 240.122 Q1998.59 237.437 1996.87 235.932 Q1995.18 234.427 1992.17 234.427 Q1989.14 234.427 1987.45 235.932 Q1985.79 237.437 1985.79 240.122 Z\" fill=\"#000000\" fill-rule=\"evenodd\" fill-opacity=\"1\" /><path clip-path=\"url(#clip850)\" d=\"M2011.16 231.349 L2033.38 231.349 L2033.38 233.339 L2020.83 265.909 L2015.95 265.909 L2027.75 235.284 L2011.16 235.284 L2011.16 231.349 Z\" fill=\"#000000\" fill-rule=\"evenodd\" fill-opacity=\"1\" /><path clip-path=\"url(#clip850)\" d=\"M2046.53 261.973 L2062.85 261.973 L2062.85 265.909 L2040.9 265.909 L2040.9 261.973 Q2043.56 259.219 2048.15 254.589 Q2052.75 249.936 2053.93 248.594 Q2056.18 246.071 2057.06 244.335 Q2057.96 242.575 2057.96 240.886 Q2057.96 238.131 2056.02 236.395 Q2054.1 234.659 2050.99 234.659 Q2048.79 234.659 2046.34 235.423 Q2043.91 236.187 2041.13 237.737 L2041.13 233.015 Q2043.96 231.881 2046.41 231.302 Q2048.86 230.724 2050.9 230.724 Q2056.27 230.724 2059.47 233.409 Q2062.66 236.094 2062.66 240.585 Q2062.66 242.714 2061.85 244.636 Q2061.06 246.534 2058.96 249.126 Q2058.38 249.798 2055.28 253.015 Q2052.17 256.21 2046.53 261.973 Z\" fill=\"#000000\" fill-rule=\"evenodd\" fill-opacity=\"1\" /><path clip-path=\"url(#clip850)\" d=\"M2082.66 234.427 Q2079.05 234.427 2077.22 237.992 Q2075.41 241.534 2075.41 248.663 Q2075.41 255.77 2077.22 259.335 Q2079.05 262.876 2082.66 262.876 Q2086.29 262.876 2088.1 259.335 Q2089.93 255.77 2089.93 248.663 Q2089.93 241.534 2088.1 237.992 Q2086.29 234.427 2082.66 234.427 M2082.66 230.724 Q2088.47 230.724 2091.53 235.33 Q2094.6 239.913 2094.6 248.663 Q2094.6 257.39 2091.53 261.997 Q2088.47 266.58 2082.66 266.58 Q2076.85 266.58 2073.77 261.997 Q2070.72 257.39 2070.72 248.663 Q2070.72 239.913 2073.77 235.33 Q2076.85 230.724 2082.66 230.724 Z\" fill=\"#000000\" fill-rule=\"evenodd\" fill-opacity=\"1\" /><path clip-path=\"url(#clip850)\" d=\"M2106.85 261.973 L2123.17 261.973 L2123.17 265.909 L2101.22 265.909 L2101.22 261.973 Q2103.89 259.219 2108.47 254.589 Q2113.08 249.936 2114.26 248.594 Q2116.5 246.071 2117.38 244.335 Q2118.29 242.575 2118.29 240.886 Q2118.29 238.131 2116.34 236.395 Q2114.42 234.659 2111.32 234.659 Q2109.12 234.659 2106.66 235.423 Q2104.23 236.187 2101.46 237.737 L2101.46 233.015 Q2104.28 231.881 2106.73 231.302 Q2109.19 230.724 2111.22 230.724 Q2116.6 230.724 2119.79 233.409 Q2122.98 236.094 2122.98 240.585 Q2122.98 242.714 2122.17 244.636 Q2121.39 246.534 2119.28 249.126 Q2118.7 249.798 2115.6 253.015 Q2112.5 256.21 2106.85 261.973 Z\" fill=\"#000000\" fill-rule=\"evenodd\" fill-opacity=\"1\" /><path clip-path=\"url(#clip850)\" d=\"M2133.03 231.349 L2151.39 231.349 L2151.39 235.284 L2137.31 235.284 L2137.31 243.756 Q2138.33 243.409 2139.35 243.247 Q2140.37 243.062 2141.39 243.062 Q2147.17 243.062 2150.55 246.233 Q2153.93 249.404 2153.93 254.821 Q2153.93 260.399 2150.46 263.501 Q2146.99 266.58 2140.67 266.58 Q2138.49 266.58 2136.22 266.21 Q2133.98 265.839 2131.57 265.098 L2131.57 260.399 Q2133.66 261.534 2135.88 262.089 Q2138.1 262.645 2140.58 262.645 Q2144.58 262.645 2146.92 260.538 Q2149.26 258.432 2149.26 254.821 Q2149.26 251.21 2146.92 249.103 Q2144.58 246.997 2140.58 246.997 Q2138.7 246.997 2136.83 247.413 Q2134.97 247.83 2133.03 248.71 L2133.03 231.349 Z\" fill=\"#000000\" fill-rule=\"evenodd\" fill-opacity=\"1\" /><path clip-path=\"url(#clip850)\" d=\"M2173.72 246.765 Q2170.58 246.765 2168.72 248.918 Q2166.9 251.071 2166.9 254.821 Q2166.9 258.548 2168.72 260.723 Q2170.58 262.876 2173.72 262.876 Q2176.87 262.876 2178.7 260.723 Q2180.55 258.548 2180.55 254.821 Q2180.55 251.071 2178.7 248.918 Q2176.87 246.765 2173.72 246.765 M2183.01 232.113 L2183.01 236.372 Q2181.25 235.538 2179.44 235.099 Q2177.66 234.659 2175.9 234.659 Q2171.27 234.659 2168.82 237.784 Q2166.39 240.909 2166.04 247.228 Q2167.41 245.214 2169.47 244.149 Q2171.53 243.062 2174 243.062 Q2179.21 243.062 2182.22 246.233 Q2185.25 249.381 2185.25 254.821 Q2185.25 260.145 2182.1 263.362 Q2178.96 266.58 2173.72 266.58 Q2167.73 266.58 2164.56 261.997 Q2161.39 257.39 2161.39 248.663 Q2161.39 240.469 2165.28 235.608 Q2169.16 230.724 2175.72 230.724 Q2177.47 230.724 2179.26 231.071 Q2181.06 231.418 2183.01 232.113 Z\" fill=\"#000000\" fill-rule=\"evenodd\" fill-opacity=\"1\" /><path clip-path=\"url(#clip850)\" d=\"M2194.12 261.973 L2201.76 261.973 L2201.76 235.608 L2193.45 237.275 L2193.45 233.015 L2201.71 231.349 L2206.39 231.349 L2206.39 261.973 L2214.03 261.973 L2214.03 265.909 L2194.12 265.909 L2194.12 261.973 Z\" fill=\"#000000\" fill-rule=\"evenodd\" fill-opacity=\"1\" /><path clip-path=\"url(#clip850)\" d=\"M2222.2 229.937 L2225.9 229.937 Q2229.37 235.4 2231.09 240.631 Q2232.82 245.862 2232.82 251.024 Q2232.82 256.21 2231.09 261.464 Q2229.37 266.719 2225.9 272.159 L2222.2 272.159 Q2225.28 266.858 2226.78 261.626 Q2228.31 256.372 2228.31 251.024 Q2228.31 245.677 2226.78 240.469 Q2225.28 235.261 2222.2 229.937 Z\" fill=\"#000000\" fill-rule=\"evenodd\" fill-opacity=\"1\" /></svg>\n"
      ]
     },
     "execution_count": 9,
     "metadata": {},
     "output_type": "execute_result"
    }
   ],
   "source": [
    "simpleFMU = fmiLoad(\"SpringPendulum1D\", \"Dymola\", \"2022x\")\n",
    "fmiInfo(simpleFMU)\n",
    "\n",
    "vrs = [\"mass.s\", \"mass.v\", \"mass.a\"]\n",
    "simpleSimData = fmiSimulate(simpleFMU, tStart, tStop; recordValues=vrs, saveat=tSave)\n",
    "fmiPlot(simpleSimData)"
   ]
  },
  {
   "cell_type": "markdown",
   "metadata": {},
   "source": [
    "The data from the simulation of the *simpleFMU*, are divided into position and velocity data. These data will be needed later to plot the results. "
   ]
  },
  {
   "cell_type": "code",
   "execution_count": 10,
   "metadata": {
    "execution": {
     "iopub.execute_input": "2022-10-14T15:24:02.539000Z",
     "iopub.status.busy": "2022-10-14T15:24:02.538000Z",
     "iopub.status.idle": "2022-10-14T15:24:02.593000Z",
     "shell.execute_reply": "2022-10-14T15:24:02.592000Z"
    },
    "scrolled": false
   },
   "outputs": [
    {
     "data": {
      "text/plain": [
       "51-element Vector{Float64}:\n",
       "  0.0\n",
       "  0.5899802196326744\n",
       "  1.1216144329248279\n",
       "  1.542195620662035\n",
       "  1.810172737052044\n",
       "  1.8985676043018223\n",
       "  1.7983499725303025\n",
       "  1.5196216961327944\n",
       "  1.0900958349841172\n",
       "  0.5523346620786151\n",
       " -0.040261546913912205\n",
       " -0.6289411637396933\n",
       " -1.1552195220019175\n",
       "  ⋮\n",
       " -0.43297835247721894\n",
       "  0.1644403574466082\n",
       "  0.7455652283389829\n",
       "  1.2527659117804728\n",
       "  1.6356623403044424\n",
       "  1.8562751551367387\n",
       "  1.8926761758140136\n",
       "  1.7412508664862896\n",
       "  1.417004896988811\n",
       "  0.9521088322603164\n",
       "  0.3926807653512623\n",
       " -0.20575332570677826"
      ]
     },
     "execution_count": 10,
     "metadata": {},
     "output_type": "execute_result"
    }
   ],
   "source": [
    "posSimple = fmi2GetSolutionValue(simpleSimData, \"mass.s\")\n",
    "velSimple = fmi2GetSolutionValue(simpleSimData, \"mass.v\")"
   ]
  },
  {
   "cell_type": "markdown",
   "metadata": {},
   "source": [
    "## NeuralFMU\n",
    "\n",
    "#### Loss function with growing horizon\n",
    "\n",
    "In order to train our model, a loss function must be implemented. The solver of the NeuralFMU can calculate the gradient of the loss function. The gradient descent is needed to adjust the weights in the neural network so that the sum of the error is reduced and the model becomes more accurate.\n",
    "\n",
    "The loss function in this implementation consists of the mean squared error (mse) from the real position of the *realFMU* simulation (posReal) and the position data of the network (posNet).\n",
    "$$ mse = \\frac{1}{n} \\sum\\limits_{i=0}^n (posReal[i] - posNet[i])^2 $$\n",
    "A growing horizon is applied, whereby the horizon only goes over the first five values. For this horizon the mse is calculated."
   ]
  },
  {
   "cell_type": "code",
   "execution_count": 11,
   "metadata": {
    "execution": {
     "iopub.execute_input": "2022-10-14T15:24:02.596000Z",
     "iopub.status.busy": "2022-10-14T15:24:02.596000Z",
     "iopub.status.idle": "2022-10-14T15:24:04.131000Z",
     "shell.execute_reply": "2022-10-14T15:24:04.131000Z"
    },
    "scrolled": false
   },
   "outputs": [
    {
     "data": {
      "text/plain": [
       "lossSum (generic function with 1 method)"
      ]
     },
     "execution_count": 11,
     "metadata": {},
     "output_type": "execute_result"
    }
   ],
   "source": [
    "# loss function for training\n",
    "global horizon = 5\n",
    "function lossSum(p)\n",
    "    global posReal, neuralFMU, horizon\n",
    "    solution = neuralFMU(x₀, tStart; p=p)\n",
    "\n",
    "    posNet = fmi2GetSolutionState(solution, 1; isIndex=true)\n",
    "    \n",
    "    horizon = min(length(posNet), horizon)\n",
    "\n",
    "    Flux.Losses.mse(posReal[1:horizon], posNet[1:horizon])\n",
    "end"
   ]
  },
  {
   "cell_type": "markdown",
   "metadata": {},
   "source": [
    "#### Function for plotting\n",
    "\n",
    "In this section the function for plotting is defined. The function `plotResults()` creates a new figure object. In dieses figure objekt werden dann die aktuellsten Ergebnisse von *realFMU*, *simpleFMU* und *neuralFMU* gegenübergestellt. \n",
    "\n",
    "To output the loss in certain time intervals, a callback is implemented as a function in the following. Here a counter is incremented, every twentieth pass the loss function is called and the average error is printed out."
   ]
  },
  {
   "cell_type": "code",
   "execution_count": 12,
   "metadata": {
    "execution": {
     "iopub.execute_input": "2022-10-14T15:24:04.135000Z",
     "iopub.status.busy": "2022-10-14T15:24:04.135000Z",
     "iopub.status.idle": "2022-10-14T15:24:04.240000Z",
     "shell.execute_reply": "2022-10-14T15:24:04.240000Z"
    }
   },
   "outputs": [
    {
     "data": {
      "text/plain": [
       "plotResults (generic function with 1 method)"
      ]
     },
     "execution_count": 12,
     "metadata": {},
     "output_type": "execute_result"
    }
   ],
   "source": [
    "function plotResults()\n",
    "    global neuralFMU\n",
    "    solution = neuralFMU(x₀, tStart)\n",
    "\n",
    "    posNeural = fmi2GetSolutionState(solution, 1; isIndex=true)\n",
    "    time = fmi2GetSolutionTime(solution)\n",
    "    \n",
    "    fig = Plots.plot(xlabel=\"t [s]\", ylabel=\"mass position [m]\", linewidth=2,\n",
    "                     xtickfontsize=12, ytickfontsize=12,\n",
    "                     xguidefontsize=12, yguidefontsize=12,\n",
    "                     legendfontsize=8, legend=:topright)\n",
    "    \n",
    "    Plots.plot!(fig, tSave, posSimple, label=\"SimpleFMU\", linewidth=2)\n",
    "    Plots.plot!(fig, tSave, posReal, label=\"RealFMU\", linewidth=2)\n",
    "    Plots.plot!(fig, time, posNeural, label=\"NeuralFMU\", linewidth=2)\n",
    "    fig\n",
    "end"
   ]
  },
  {
   "cell_type": "markdown",
   "metadata": {},
   "source": [
    "#### Callback\n",
    "\n",
    "To output the loss in certain time intervals, a callback is implemented as a function in the following. Here a counter is incremented, every twentieth pass the loss function is called and the average error is printed out.  As soon as a limit value (in this example `0.1`) is undershot, the horizon is extended by the next two values."
   ]
  },
  {
   "cell_type": "code",
   "execution_count": 13,
   "metadata": {
    "execution": {
     "iopub.execute_input": "2022-10-14T15:24:04.244000Z",
     "iopub.status.busy": "2022-10-14T15:24:04.244000Z",
     "iopub.status.idle": "2022-10-14T15:24:04.416000Z",
     "shell.execute_reply": "2022-10-14T15:24:04.416000Z"
    },
    "scrolled": false
   },
   "outputs": [
    {
     "data": {
      "text/plain": [
       "callb (generic function with 1 method)"
      ]
     },
     "execution_count": 13,
     "metadata": {},
     "output_type": "execute_result"
    }
   ],
   "source": [
    "# callback function for training\n",
    "global counter = 0\n",
    "function callb(p)\n",
    "    global counter, horizon \n",
    "    counter += 1\n",
    "   \n",
    "    if counter % 20 == 1\n",
    "        avgLoss = lossSum(p[1])\n",
    "        @info \"   Loss [$counter] for horizon $horizon : $(round(avgLoss, digits=5))   \n",
    "        Avg displacement in data: $(round(sqrt(avgLoss), digits=5))\"\n",
    "        \n",
    "        if avgLoss <= 0.01\n",
    "            horizon += 2\n",
    "        end\n",
    "   \n",
    "        # fig = plotResults()\n",
    "        # println(\"Figure update.\")\n",
    "        # display(fig)\n",
    "    end\n",
    "end\n"
   ]
  },
  {
   "cell_type": "markdown",
   "metadata": {},
   "source": [
    "#### Pre- and Postprocessing\n",
    "\n",
    "In the following functions for pre-processing and post-processing are defined. The function `preProc` is normalized the input values to mean of zero and a standard deviation of one. "
   ]
  },
  {
   "cell_type": "code",
   "execution_count": 14,
   "metadata": {
    "execution": {
     "iopub.execute_input": "2022-10-14T15:24:04.420000Z",
     "iopub.status.busy": "2022-10-14T15:24:04.420000Z",
     "iopub.status.idle": "2022-10-14T15:24:04.523000Z",
     "shell.execute_reply": "2022-10-14T15:24:04.523000Z"
    }
   },
   "outputs": [
    {
     "data": {
      "text/plain": [
       "preProc! (generic function with 1 method)"
      ]
     },
     "execution_count": 14,
     "metadata": {},
     "output_type": "execute_result"
    }
   ],
   "source": [
    "global meanVal = 0.0\n",
    "global stdVal = 0.0\n",
    "\n",
    "function preProc!(data)\n",
    "    global meanVal, stdVal\n",
    "\n",
    "    meanVal = mean(data)\n",
    "    stdVal = std(data)\n",
    "    \n",
    "    (data .- meanVal) ./ stdVal    \n",
    "end "
   ]
  },
  {
   "cell_type": "markdown",
   "metadata": {},
   "source": [
    "For post-processing, the previous normalization is undone by applying the calculation steps in reverse order."
   ]
  },
  {
   "cell_type": "code",
   "execution_count": 15,
   "metadata": {
    "execution": {
     "iopub.execute_input": "2022-10-14T15:24:04.527000Z",
     "iopub.status.busy": "2022-10-14T15:24:04.527000Z",
     "iopub.status.idle": "2022-10-14T15:24:04.628000Z",
     "shell.execute_reply": "2022-10-14T15:24:04.628000Z"
    }
   },
   "outputs": [
    {
     "data": {
      "text/plain": [
       "postProc! (generic function with 1 method)"
      ]
     },
     "execution_count": 15,
     "metadata": {},
     "output_type": "execute_result"
    }
   ],
   "source": [
    "function postProc!(data)\n",
    "    global meanVal, stdVal\n",
    "    \n",
    "    (data .* stdVal) .+ meanVal\n",
    "end "
   ]
  },
  {
   "cell_type": "markdown",
   "metadata": {},
   "source": [
    "#### Structure of the NeuralFMU\n",
    "\n",
    "In the following, the topology of the NeuralFMU is constructed. It consists of an input layer, which then leads into the *simpleFMU* model. The ME-FMU computes the state derivatives for a given system state. Following the *simpleFMU* is a dense layer that has exactly as many inputs as the model has states (and therefore state derivatives). The output of this layer consists of 16 output nodes and a *tanh* activation function. The next layer has 16 input and output nodes with the same activation function. The last layer is again a dense layer with 16 input nodes and the number of states as outputs. Here, it is important that no *tanh*-activation function follows, because otherwise the pendulums state values would be limited to the interval $[-1;1]$."
   ]
  },
  {
   "cell_type": "code",
   "execution_count": 16,
   "metadata": {
    "execution": {
     "iopub.execute_input": "2022-10-14T15:24:04.632000Z",
     "iopub.status.busy": "2022-10-14T15:24:04.632000Z",
     "iopub.status.idle": "2022-10-14T15:24:11.624000Z",
     "shell.execute_reply": "2022-10-14T15:24:11.624000Z"
    },
    "scrolled": false
   },
   "outputs": [
    {
     "data": {
      "text/plain": [
       "Chain(\n",
       "  var\"#1#2\"(),\n",
       "  preProc!,\n",
       "  Dense(3 => 16, tanh),                 \u001b[90m# 64 parameters\u001b[39m\n",
       "  postProc!,\n",
       "  preProc!,\n",
       "  Dense(16 => 16, tanh),                \u001b[90m# 272 parameters\u001b[39m\n",
       "  postProc!,\n",
       "  preProc!,\n",
       "  Dense(16 => 2),                       \u001b[90m# 34 parameters\u001b[39m\n",
       "  postProc!,\n",
       ") \u001b[90m                  # Total: 6 arrays, \u001b[39m370 parameters, 1.820 KiB."
      ]
     },
     "execution_count": 16,
     "metadata": {},
     "output_type": "execute_result"
    }
   ],
   "source": [
    "# NeuralFMU setup\n",
    "numStates = fmiGetNumberOfStates(simpleFMU)\n",
    "additionalVRs = [fmi2StringToValueReference(simpleFMU, \"mass.m\")]\n",
    "numAdditionalVRs = length(additionalVRs)\n",
    "\n",
    "net = Chain(\n",
    "    inputs -> fmiEvaluateME(simpleFMU, inputs, -1.0, zeros(fmi2ValueReference, 0), \n",
    "                            zeros(fmi2Real, 0), additionalVRs),\n",
    "    preProc!,\n",
    "    Dense(numStates+numAdditionalVRs, 16, tanh),\n",
    "    postProc!,\n",
    "    preProc!,\n",
    "    Dense(16, 16, tanh),\n",
    "    postProc!,\n",
    "    preProc!,\n",
    "    Dense(16, numStates),\n",
    "    postProc!,\n",
    ")"
   ]
  },
  {
   "cell_type": "markdown",
   "metadata": {},
   "source": [
    "#### Definition of the NeuralFMU\n",
    "\n",
    "The instantiation of the ME-NeuralFMU is done as a one-liner. The FMU (*simpleFMU*), the structure of the network `net`, start `tStart` and end time `tStop`, the numerical solver `Tsit5()` and the time steps `tSave` for saving are specified."
   ]
  },
  {
   "cell_type": "code",
   "execution_count": 17,
   "metadata": {
    "execution": {
     "iopub.execute_input": "2022-10-14T15:24:11.628000Z",
     "iopub.status.busy": "2022-10-14T15:24:11.628000Z",
     "iopub.status.idle": "2022-10-14T15:24:13.173000Z",
     "shell.execute_reply": "2022-10-14T15:24:13.173000Z"
    },
    "scrolled": false
   },
   "outputs": [
    {
     "name": "stderr",
     "output_type": "stream",
     "text": [
      "┌ Info: ME_NeuralFMU(...): Succesfully converted layer of type `Dense{typeof(tanh), Matrix{Float32}, Vector{Float32}}` to `Dense{typeof(tanh), Matrix{Float64}, Vector{Float64}}`.\n",
      "└ @ FMIFlux /home/runner/.julia/packages/FMIFlux/WeryT/src/FMI_neural.jl:1089\n",
      "┌ Info: ME_NeuralFMU(...): Succesfully converted layer of type `Dense{typeof(tanh), Matrix{Float32}, Vector{Float32}}` to `Dense{typeof(tanh), Matrix{Float64}, Vector{Float64}}`.\n",
      "└ @ FMIFlux /home/runner/.julia/packages/FMIFlux/WeryT/src/FMI_neural.jl:1089\n",
      "┌ Info: ME_NeuralFMU(...): Succesfully converted layer of type `Dense{typeof(identity), Matrix{Float32}, Vector{Float32}}` to `Dense{typeof(identity), Matrix{Float64}, Vector{Float64}}`.\n",
      "└ @ FMIFlux /home/runner/.julia/packages/FMIFlux/WeryT/src/FMI_neural.jl:1089\n",
      "┌ Info: ME_NeuralFMU(...): Succesfully converted model to Float64.\n",
      "└ @ FMIFlux /home/runner/.julia/packages/FMIFlux/WeryT/src/FMI_neural.jl:1103\n"
     ]
    }
   ],
   "source": [
    "neuralFMU = ME_NeuralFMU(simpleFMU, net, (tStart, tStop), Tsit5(); saveat=tSave);"
   ]
  },
  {
   "cell_type": "markdown",
   "metadata": {},
   "source": [
    "#### Plot before training\n",
    "\n",
    "Here the state trajectory of the *simpleFMU* is recorded. Doesn't really look like a pendulum yet, but the system is random initialized by default. In the plots later on, the effect of learning can be seen."
   ]
  },
  {
   "cell_type": "code",
   "execution_count": 18,
   "metadata": {
    "execution": {
     "iopub.execute_input": "2022-10-14T15:24:13.177000Z",
     "iopub.status.busy": "2022-10-14T15:24:13.177000Z",
     "iopub.status.idle": "2022-10-14T15:24:50.220000Z",
     "shell.execute_reply": "2022-10-14T15:24:50.220000Z"
    },
    "scrolled": false
   },
   "outputs": [
    {
     "name": "stderr",
     "output_type": "stream",
     "text": [
      "\u001b[34mSimulating ME-NeuralFMU ... 100%|████████████████████████| Time: 0:00:25\u001b[39m\n"
     ]
    },
    {
     "data": {
      "image/svg+xml": [
       "<?xml version=\"1.0\" encoding=\"utf-8\"?>\n",
       "<svg xmlns=\"http://www.w3.org/2000/svg\" xmlns:xlink=\"http://www.w3.org/1999/xlink\" width=\"600\" height=\"400\" viewBox=\"0 0 2400 1600\">\n",
       "<defs>\n",
       "  <clipPath id=\"clip890\">\n",
       "    <rect x=\"0\" y=\"0\" width=\"2400\" height=\"1600\"/>\n",
       "  </clipPath>\n",
       "</defs>\n",
       "<path clip-path=\"url(#clip890)\" d=\"\n",
       "M0 1600 L2400 1600 L2400 0 L0 0  Z\n",
       "  \" fill=\"#ffffff\" fill-rule=\"evenodd\" fill-opacity=\"1\"/>\n",
       "<defs>\n",
       "  <clipPath id=\"clip891\">\n",
       "    <rect x=\"480\" y=\"0\" width=\"1681\" height=\"1600\"/>\n",
       "  </clipPath>\n",
       "</defs>\n",
       "<path clip-path=\"url(#clip890)\" d=\"\n",
       "M112.177 1423.18 L2352.76 1423.18 L2352.76 47.2441 L112.177 47.2441  Z\n",
       "  \" fill=\"#ffffff\" fill-rule=\"evenodd\" fill-opacity=\"1\"/>\n",
       "<defs>\n",
       "  <clipPath id=\"clip892\">\n",
       "    <rect x=\"112\" y=\"47\" width=\"2242\" height=\"1377\"/>\n",
       "  </clipPath>\n",
       "</defs>\n",
       "<polyline clip-path=\"url(#clip892)\" style=\"stroke:#000000; stroke-linecap:round; stroke-linejoin:round; stroke-width:2; stroke-opacity:0.1; fill:none\" points=\"\n",
       "  175.59,1423.18 175.59,47.2441 \n",
       "  \"/>\n",
       "<polyline clip-path=\"url(#clip892)\" style=\"stroke:#000000; stroke-linecap:round; stroke-linejoin:round; stroke-width:2; stroke-opacity:0.1; fill:none\" points=\"\n",
       "  598.34,1423.18 598.34,47.2441 \n",
       "  \"/>\n",
       "<polyline clip-path=\"url(#clip892)\" style=\"stroke:#000000; stroke-linecap:round; stroke-linejoin:round; stroke-width:2; stroke-opacity:0.1; fill:none\" points=\"\n",
       "  1021.09,1423.18 1021.09,47.2441 \n",
       "  \"/>\n",
       "<polyline clip-path=\"url(#clip892)\" style=\"stroke:#000000; stroke-linecap:round; stroke-linejoin:round; stroke-width:2; stroke-opacity:0.1; fill:none\" points=\"\n",
       "  1443.84,1423.18 1443.84,47.2441 \n",
       "  \"/>\n",
       "<polyline clip-path=\"url(#clip892)\" style=\"stroke:#000000; stroke-linecap:round; stroke-linejoin:round; stroke-width:2; stroke-opacity:0.1; fill:none\" points=\"\n",
       "  1866.59,1423.18 1866.59,47.2441 \n",
       "  \"/>\n",
       "<polyline clip-path=\"url(#clip892)\" style=\"stroke:#000000; stroke-linecap:round; stroke-linejoin:round; stroke-width:2; stroke-opacity:0.1; fill:none\" points=\"\n",
       "  2289.34,1423.18 2289.34,47.2441 \n",
       "  \"/>\n",
       "<polyline clip-path=\"url(#clip890)\" style=\"stroke:#000000; stroke-linecap:round; stroke-linejoin:round; stroke-width:4; stroke-opacity:1; fill:none\" points=\"\n",
       "  112.177,1423.18 2352.76,1423.18 \n",
       "  \"/>\n",
       "<polyline clip-path=\"url(#clip890)\" style=\"stroke:#000000; stroke-linecap:round; stroke-linejoin:round; stroke-width:4; stroke-opacity:1; fill:none\" points=\"\n",
       "  175.59,1423.18 175.59,1404.28 \n",
       "  \"/>\n",
       "<polyline clip-path=\"url(#clip890)\" style=\"stroke:#000000; stroke-linecap:round; stroke-linejoin:round; stroke-width:4; stroke-opacity:1; fill:none\" points=\"\n",
       "  598.34,1423.18 598.34,1404.28 \n",
       "  \"/>\n",
       "<polyline clip-path=\"url(#clip890)\" style=\"stroke:#000000; stroke-linecap:round; stroke-linejoin:round; stroke-width:4; stroke-opacity:1; fill:none\" points=\"\n",
       "  1021.09,1423.18 1021.09,1404.28 \n",
       "  \"/>\n",
       "<polyline clip-path=\"url(#clip890)\" style=\"stroke:#000000; stroke-linecap:round; stroke-linejoin:round; stroke-width:4; stroke-opacity:1; fill:none\" points=\"\n",
       "  1443.84,1423.18 1443.84,1404.28 \n",
       "  \"/>\n",
       "<polyline clip-path=\"url(#clip890)\" style=\"stroke:#000000; stroke-linecap:round; stroke-linejoin:round; stroke-width:4; stroke-opacity:1; fill:none\" points=\"\n",
       "  1866.59,1423.18 1866.59,1404.28 \n",
       "  \"/>\n",
       "<polyline clip-path=\"url(#clip890)\" style=\"stroke:#000000; stroke-linecap:round; stroke-linejoin:round; stroke-width:4; stroke-opacity:1; fill:none\" points=\"\n",
       "  2289.34,1423.18 2289.34,1404.28 \n",
       "  \"/>\n",
       "<path clip-path=\"url(#clip890)\" d=\"M175.59 1454.1 Q171.979 1454.1 170.15 1457.66 Q168.344 1461.2 168.344 1468.33 Q168.344 1475.44 170.15 1479.01 Q171.979 1482.55 175.59 1482.55 Q179.224 1482.55 181.03 1479.01 Q182.858 1475.44 182.858 1468.33 Q182.858 1461.2 181.03 1457.66 Q179.224 1454.1 175.59 1454.1 M175.59 1450.39 Q181.4 1450.39 184.455 1455 Q187.534 1459.58 187.534 1468.33 Q187.534 1477.06 184.455 1481.67 Q181.4 1486.25 175.59 1486.25 Q169.78 1486.25 166.701 1481.67 Q163.645 1477.06 163.645 1468.33 Q163.645 1459.58 166.701 1455 Q169.78 1450.39 175.59 1450.39 Z\" fill=\"#000000\" fill-rule=\"evenodd\" fill-opacity=\"1\" /><path clip-path=\"url(#clip890)\" d=\"M588.722 1481.64 L596.361 1481.64 L596.361 1455.28 L588.051 1456.95 L588.051 1452.69 L596.315 1451.02 L600.991 1451.02 L600.991 1481.64 L608.63 1481.64 L608.63 1485.58 L588.722 1485.58 L588.722 1481.64 Z\" fill=\"#000000\" fill-rule=\"evenodd\" fill-opacity=\"1\" /><path clip-path=\"url(#clip890)\" d=\"M1015.74 1481.64 L1032.06 1481.64 L1032.06 1485.58 L1010.12 1485.58 L1010.12 1481.64 Q1012.78 1478.89 1017.36 1474.26 Q1021.97 1469.61 1023.15 1468.27 Q1025.4 1465.74 1026.28 1464.01 Q1027.18 1462.25 1027.18 1460.56 Q1027.18 1457.8 1025.23 1456.07 Q1023.31 1454.33 1020.21 1454.33 Q1018.01 1454.33 1015.56 1455.09 Q1013.13 1455.86 1010.35 1457.41 L1010.35 1452.69 Q1013.17 1451.55 1015.63 1450.97 Q1018.08 1450.39 1020.12 1450.39 Q1025.49 1450.39 1028.68 1453.08 Q1031.88 1455.77 1031.88 1460.26 Q1031.88 1462.39 1031.07 1464.31 Q1030.28 1466.2 1028.17 1468.8 Q1027.6 1469.47 1024.49 1472.69 Q1021.39 1475.88 1015.74 1481.64 Z\" fill=\"#000000\" fill-rule=\"evenodd\" fill-opacity=\"1\" /><path clip-path=\"url(#clip890)\" d=\"M1448.09 1466.95 Q1451.45 1467.66 1453.32 1469.93 Q1455.22 1472.2 1455.22 1475.53 Q1455.22 1480.65 1451.7 1483.45 Q1448.18 1486.25 1441.7 1486.25 Q1439.52 1486.25 1437.21 1485.81 Q1434.92 1485.39 1432.46 1484.54 L1432.46 1480.02 Q1434.41 1481.16 1436.72 1481.74 Q1439.04 1482.32 1441.56 1482.32 Q1445.96 1482.32 1448.25 1480.58 Q1450.57 1478.84 1450.57 1475.53 Q1450.57 1472.48 1448.41 1470.77 Q1446.28 1469.03 1442.46 1469.03 L1438.44 1469.03 L1438.44 1465.19 L1442.65 1465.19 Q1446.1 1465.19 1447.93 1463.82 Q1449.76 1462.43 1449.76 1459.84 Q1449.76 1457.18 1447.86 1455.77 Q1445.98 1454.33 1442.46 1454.33 Q1440.54 1454.33 1438.34 1454.75 Q1436.15 1455.16 1433.51 1456.04 L1433.51 1451.88 Q1436.17 1451.14 1438.48 1450.77 Q1440.82 1450.39 1442.88 1450.39 Q1448.21 1450.39 1451.31 1452.83 Q1454.41 1455.23 1454.41 1459.35 Q1454.41 1462.22 1452.77 1464.21 Q1451.12 1466.18 1448.09 1466.95 Z\" fill=\"#000000\" fill-rule=\"evenodd\" fill-opacity=\"1\" /><path clip-path=\"url(#clip890)\" d=\"M1869.6 1455.09 L1857.8 1473.54 L1869.6 1473.54 L1869.6 1455.09 M1868.37 1451.02 L1874.25 1451.02 L1874.25 1473.54 L1879.19 1473.54 L1879.19 1477.43 L1874.25 1477.43 L1874.25 1485.58 L1869.6 1485.58 L1869.6 1477.43 L1854 1477.43 L1854 1472.92 L1868.37 1451.02 Z\" fill=\"#000000\" fill-rule=\"evenodd\" fill-opacity=\"1\" /><path clip-path=\"url(#clip890)\" d=\"M2279.62 1451.02 L2297.98 1451.02 L2297.98 1454.96 L2283.9 1454.96 L2283.9 1463.43 Q2284.92 1463.08 2285.94 1462.92 Q2286.96 1462.73 2287.98 1462.73 Q2293.76 1462.73 2297.14 1465.9 Q2300.52 1469.08 2300.52 1474.49 Q2300.52 1480.07 2297.05 1483.17 Q2293.58 1486.25 2287.26 1486.25 Q2285.08 1486.25 2282.82 1485.88 Q2280.57 1485.51 2278.16 1484.77 L2278.16 1480.07 Q2280.25 1481.2 2282.47 1481.76 Q2284.69 1482.32 2287.17 1482.32 Q2291.17 1482.32 2293.51 1480.21 Q2295.85 1478.1 2295.85 1474.49 Q2295.85 1470.88 2293.51 1468.77 Q2291.17 1466.67 2287.17 1466.67 Q2285.29 1466.67 2283.42 1467.08 Q2281.57 1467.5 2279.62 1468.38 L2279.62 1451.02 Z\" fill=\"#000000\" fill-rule=\"evenodd\" fill-opacity=\"1\" /><path clip-path=\"url(#clip890)\" d=\"M1180.78 1522.27 L1180.78 1532.4 L1192.84 1532.4 L1192.84 1536.95 L1180.78 1536.95 L1180.78 1556.3 Q1180.78 1560.66 1181.95 1561.9 Q1183.16 1563.14 1186.82 1563.14 L1192.84 1563.14 L1192.84 1568.04 L1186.82 1568.04 Q1180.04 1568.04 1177.47 1565.53 Q1174.89 1562.98 1174.89 1556.3 L1174.89 1536.95 L1170.59 1536.95 L1170.59 1532.4 L1174.89 1532.4 L1174.89 1522.27 L1180.78 1522.27 Z\" fill=\"#000000\" fill-rule=\"evenodd\" fill-opacity=\"1\" /><path clip-path=\"url(#clip890)\" d=\"M1220.72 1518.52 L1234.22 1518.52 L1234.22 1523.07 L1226.58 1523.07 L1226.58 1572.09 L1234.22 1572.09 L1234.22 1576.64 L1220.72 1576.64 L1220.72 1518.52 Z\" fill=\"#000000\" fill-rule=\"evenodd\" fill-opacity=\"1\" /><path clip-path=\"url(#clip890)\" d=\"M1269.42 1533.45 L1269.42 1538.98 Q1266.94 1537.71 1264.26 1537.07 Q1261.59 1536.44 1258.73 1536.44 Q1254.36 1536.44 1252.17 1537.77 Q1250 1539.11 1250 1541.79 Q1250 1543.82 1251.56 1545 Q1253.12 1546.15 1257.83 1547.2 L1259.84 1547.64 Q1266.08 1548.98 1268.69 1551.43 Q1271.33 1553.85 1271.33 1558.21 Q1271.33 1563.17 1267.38 1566.07 Q1263.47 1568.97 1256.59 1568.97 Q1253.73 1568.97 1250.61 1568.39 Q1247.52 1567.85 1244.08 1566.74 L1244.08 1560.69 Q1247.33 1562.38 1250.48 1563.24 Q1253.63 1564.07 1256.72 1564.07 Q1260.86 1564.07 1263.09 1562.66 Q1265.31 1561.23 1265.31 1558.65 Q1265.31 1556.27 1263.69 1554.99 Q1262.1 1553.72 1256.66 1552.54 L1254.62 1552.07 Q1249.18 1550.92 1246.76 1548.56 Q1244.34 1546.18 1244.34 1542.04 Q1244.34 1537.01 1247.9 1534.27 Q1251.47 1531.54 1258.02 1531.54 Q1261.27 1531.54 1264.14 1532.01 Q1267 1532.49 1269.42 1533.45 Z\" fill=\"#000000\" fill-rule=\"evenodd\" fill-opacity=\"1\" /><path clip-path=\"url(#clip890)\" d=\"M1294.34 1518.52 L1294.34 1576.64 L1280.85 1576.64 L1280.85 1572.09 L1288.45 1572.09 L1288.45 1523.07 L1280.85 1523.07 L1280.85 1518.52 L1294.34 1518.52 Z\" fill=\"#000000\" fill-rule=\"evenodd\" fill-opacity=\"1\" /><polyline clip-path=\"url(#clip892)\" style=\"stroke:#000000; stroke-linecap:round; stroke-linejoin:round; stroke-width:2; stroke-opacity:0.1; fill:none\" points=\"\n",
       "  112.177,1384.24 2352.76,1384.24 \n",
       "  \"/>\n",
       "<polyline clip-path=\"url(#clip892)\" style=\"stroke:#000000; stroke-linecap:round; stroke-linejoin:round; stroke-width:2; stroke-opacity:0.1; fill:none\" points=\"\n",
       "  112.177,1062.59 2352.76,1062.59 \n",
       "  \"/>\n",
       "<polyline clip-path=\"url(#clip892)\" style=\"stroke:#000000; stroke-linecap:round; stroke-linejoin:round; stroke-width:2; stroke-opacity:0.1; fill:none\" points=\"\n",
       "  112.177,740.95 2352.76,740.95 \n",
       "  \"/>\n",
       "<polyline clip-path=\"url(#clip892)\" style=\"stroke:#000000; stroke-linecap:round; stroke-linejoin:round; stroke-width:2; stroke-opacity:0.1; fill:none\" points=\"\n",
       "  112.177,419.306 2352.76,419.306 \n",
       "  \"/>\n",
       "<polyline clip-path=\"url(#clip892)\" style=\"stroke:#000000; stroke-linecap:round; stroke-linejoin:round; stroke-width:2; stroke-opacity:0.1; fill:none\" points=\"\n",
       "  112.177,97.6618 2352.76,97.6618 \n",
       "  \"/>\n",
       "<polyline clip-path=\"url(#clip890)\" style=\"stroke:#000000; stroke-linecap:round; stroke-linejoin:round; stroke-width:4; stroke-opacity:1; fill:none\" points=\"\n",
       "  112.177,1423.18 112.177,47.2441 \n",
       "  \"/>\n",
       "<polyline clip-path=\"url(#clip890)\" style=\"stroke:#000000; stroke-linecap:round; stroke-linejoin:round; stroke-width:4; stroke-opacity:1; fill:none\" points=\"\n",
       "  112.177,1384.24 131.075,1384.24 \n",
       "  \"/>\n",
       "<polyline clip-path=\"url(#clip890)\" style=\"stroke:#000000; stroke-linecap:round; stroke-linejoin:round; stroke-width:4; stroke-opacity:1; fill:none\" points=\"\n",
       "  112.177,1062.59 131.075,1062.59 \n",
       "  \"/>\n",
       "<polyline clip-path=\"url(#clip890)\" style=\"stroke:#000000; stroke-linecap:round; stroke-linejoin:round; stroke-width:4; stroke-opacity:1; fill:none\" points=\"\n",
       "  112.177,740.95 131.075,740.95 \n",
       "  \"/>\n",
       "<polyline clip-path=\"url(#clip890)\" style=\"stroke:#000000; stroke-linecap:round; stroke-linejoin:round; stroke-width:4; stroke-opacity:1; fill:none\" points=\"\n",
       "  112.177,419.306 131.075,419.306 \n",
       "  \"/>\n",
       "<polyline clip-path=\"url(#clip890)\" style=\"stroke:#000000; stroke-linecap:round; stroke-linejoin:round; stroke-width:4; stroke-opacity:1; fill:none\" points=\"\n",
       "  112.177,97.6618 131.075,97.6618 \n",
       "  \"/>\n",
       "<path clip-path=\"url(#clip890)\" d=\"M64.2328 1370.04 Q60.6217 1370.04 58.793 1373.6 Q56.9875 1377.14 56.9875 1384.27 Q56.9875 1391.38 58.793 1394.94 Q60.6217 1398.49 64.2328 1398.49 Q67.867 1398.49 69.6726 1394.94 Q71.5013 1391.38 71.5013 1384.27 Q71.5013 1377.14 69.6726 1373.6 Q67.867 1370.04 64.2328 1370.04 M64.2328 1366.33 Q70.0429 1366.33 73.0985 1370.94 Q76.1772 1375.52 76.1772 1384.27 Q76.1772 1393 73.0985 1397.61 Q70.0429 1402.19 64.2328 1402.19 Q58.4226 1402.19 55.344 1397.61 Q52.2884 1393 52.2884 1384.27 Q52.2884 1375.52 55.344 1370.94 Q58.4226 1366.33 64.2328 1366.33 Z\" fill=\"#000000\" fill-rule=\"evenodd\" fill-opacity=\"1\" /><path clip-path=\"url(#clip890)\" d=\"M56.2699 1075.94 L63.9087 1075.94 L63.9087 1049.57 L55.5986 1051.24 L55.5986 1046.98 L63.8624 1045.31 L68.5383 1045.31 L68.5383 1075.94 L76.1772 1075.94 L76.1772 1079.87 L56.2699 1079.87 L56.2699 1075.94 Z\" fill=\"#000000\" fill-rule=\"evenodd\" fill-opacity=\"1\" /><path clip-path=\"url(#clip890)\" d=\"M59.8578 754.295 L76.1772 754.295 L76.1772 758.23 L54.2328 758.23 L54.2328 754.295 Q56.8949 751.54 61.4782 746.911 Q66.0846 742.258 67.2652 740.915 Q69.5105 738.392 70.3902 736.656 Q71.2929 734.897 71.2929 733.207 Q71.2929 730.452 69.3485 728.716 Q67.4272 726.98 64.3254 726.98 Q62.1263 726.98 59.6726 727.744 Q57.2421 728.508 54.4643 730.059 L54.4643 725.337 Q57.2884 724.202 59.7421 723.624 Q62.1958 723.045 64.2328 723.045 Q69.6031 723.045 72.7976 725.73 Q75.992 728.415 75.992 732.906 Q75.992 735.036 75.1818 736.957 Q74.3948 738.855 72.2883 741.448 Q71.7096 742.119 68.6078 745.337 Q65.5059 748.531 59.8578 754.295 Z\" fill=\"#000000\" fill-rule=\"evenodd\" fill-opacity=\"1\" /><path clip-path=\"url(#clip890)\" d=\"M69.0476 417.952 Q72.404 418.669 74.279 420.938 Q76.1772 423.206 76.1772 426.54 Q76.1772 431.655 72.6587 434.456 Q69.1402 437.257 62.6587 437.257 Q60.4828 437.257 58.168 436.817 Q55.8764 436.401 53.4227 435.544 L53.4227 431.03 Q55.3671 432.165 57.6819 432.743 Q59.9967 433.322 62.5198 433.322 Q66.918 433.322 69.2096 431.586 Q71.5244 429.85 71.5244 426.54 Q71.5244 423.484 69.3717 421.771 Q67.242 420.035 63.4226 420.035 L59.3949 420.035 L59.3949 416.193 L63.6078 416.193 Q67.0569 416.193 68.8855 414.827 Q70.7142 413.438 70.7142 410.845 Q70.7142 408.183 68.8161 406.771 Q66.9411 405.336 63.4226 405.336 Q61.5013 405.336 59.3023 405.753 Q57.1032 406.169 54.4643 407.049 L54.4643 402.882 Q57.1264 402.142 59.4412 401.771 Q61.7791 401.401 63.8393 401.401 Q69.1633 401.401 72.2652 403.831 Q75.367 406.239 75.367 410.359 Q75.367 413.23 73.7235 415.22 Q72.08 417.188 69.0476 417.952 Z\" fill=\"#000000\" fill-rule=\"evenodd\" fill-opacity=\"1\" /><path clip-path=\"url(#clip890)\" d=\"M66.5939 84.4559 L54.7884 102.905 L66.5939 102.905 L66.5939 84.4559 M65.367 80.3818 L71.2466 80.3818 L71.2466 102.905 L76.1772 102.905 L76.1772 106.794 L71.2466 106.794 L71.2466 114.942 L66.5939 114.942 L66.5939 106.794 L50.9921 106.794 L50.9921 102.28 L65.367 80.3818 Z\" fill=\"#000000\" fill-rule=\"evenodd\" fill-opacity=\"1\" /><polyline clip-path=\"url(#clip892)\" style=\"stroke:#009af9; stroke-linecap:round; stroke-linejoin:round; stroke-width:4; stroke-opacity:1; fill:none\" points=\"\n",
       "  175.59,1223.42 217.865,1141.47 260.14,1090.87 302.415,1059.44 344.69,1039.85 386.965,1026.95 429.24,1018.88 471.515,1013.82 513.79,1010.5 556.065,1008.23 \n",
       "  598.34,1006.57 640.616,1005.28 682.891,1004.18 725.166,1003.2 767.441,1002.26 809.716,1001.34 851.991,1000.43 894.266,999.492 936.541,998.529 978.816,997.539 \n",
       "  1021.09,996.518 1063.37,995.464 1105.64,994.376 1147.92,993.255 1190.19,992.096 1232.47,990.897 1274.74,989.661 1317.02,988.389 1359.29,987.087 1401.57,985.749 \n",
       "  1443.84,984.37 1486.12,982.948 1528.39,981.482 1570.67,979.975 1612.94,978.433 1655.22,976.857 1697.49,975.239 1739.77,973.573 1782.04,971.855 1824.32,970.086 \n",
       "  1866.59,968.267 1908.87,966.402 1951.14,964.499 1993.42,962.556 2035.69,960.56 2077.97,958.502 2120.24,956.377 2162.52,954.185 2204.79,951.928 2247.07,949.615 \n",
       "  2289.34,947.256 \n",
       "  \"/>\n",
       "<polyline clip-path=\"url(#clip892)\" style=\"stroke:#e26f46; stroke-linecap:round; stroke-linejoin:round; stroke-width:4; stroke-opacity:1; fill:none\" points=\"\n",
       "  175.59,1384.24 217.865,1337.21 260.14,1303.41 302.415,1277.73 344.69,1257.92 386.965,1241.15 429.24,1225.76 471.515,1211.09 513.79,1196.67 556.065,1182.22 \n",
       "  598.34,1167.56 640.616,1152.58 682.891,1137.22 725.166,1121.42 767.441,1105.15 809.716,1088.4 851.991,1071.15 894.266,1053.39 936.541,1035.1 978.816,1016.27 \n",
       "  1021.09,996.9 1063.37,976.971 1105.64,956.476 1147.92,935.403 1190.19,913.738 1232.47,891.468 1274.74,868.58 1317.02,845.062 1359.29,820.901 1401.57,796.079 \n",
       "  1443.84,770.577 1486.12,744.377 1528.39,717.462 1570.67,689.814 1612.94,661.417 1655.22,632.251 1697.49,602.294 1739.77,571.52 1782.04,539.908 1824.32,507.433 \n",
       "  1866.59,474.074 1908.87,439.809 1951.14,404.616 1993.42,368.468 2035.69,331.336 2077.97,293.187 2120.24,253.991 2162.52,213.721 2204.79,172.347 2247.07,129.844 \n",
       "  2289.34,86.1857 \n",
       "  \"/>\n",
       "<path clip-path=\"url(#clip890)\" d=\"\n",
       "M1576.39 248.629 L2278.07 248.629 L2278.07 93.1086 L1576.39 93.1086  Z\n",
       "  \" fill=\"#ffffff\" fill-rule=\"evenodd\" fill-opacity=\"1\"/>\n",
       "<polyline clip-path=\"url(#clip890)\" style=\"stroke:#000000; stroke-linecap:round; stroke-linejoin:round; stroke-width:4; stroke-opacity:1; fill:none\" points=\"\n",
       "  1576.39,248.629 2278.07,248.629 2278.07,93.1086 1576.39,93.1086 1576.39,248.629 \n",
       "  \"/>\n",
       "<polyline clip-path=\"url(#clip890)\" style=\"stroke:#009af9; stroke-linecap:round; stroke-linejoin:round; stroke-width:4; stroke-opacity:1; fill:none\" points=\"\n",
       "  1601.28,144.949 1750.65,144.949 \n",
       "  \"/>\n",
       "<path clip-path=\"url(#clip890)\" d=\"M1795.9 141.28 Q1797.49 138.409 1799.72 137.044 Q1801.94 135.678 1804.95 135.678 Q1809 135.678 1811.2 138.525 Q1813.4 141.349 1813.4 146.581 L1813.4 162.229 L1809.11 162.229 L1809.11 146.719 Q1809.11 142.993 1807.8 141.187 Q1806.48 139.382 1803.77 139.382 Q1800.46 139.382 1798.54 141.581 Q1796.61 143.78 1796.61 147.576 L1796.61 162.229 L1792.33 162.229 L1792.33 146.719 Q1792.33 142.969 1791.01 141.187 Q1789.69 139.382 1786.94 139.382 Q1783.68 139.382 1781.75 141.604 Q1779.83 143.803 1779.83 147.576 L1779.83 162.229 L1775.55 162.229 L1775.55 136.303 L1779.83 136.303 L1779.83 140.331 Q1781.29 137.946 1783.33 136.812 Q1785.37 135.678 1788.17 135.678 Q1790.99 135.678 1792.96 137.113 Q1794.95 138.548 1795.9 141.28 Z\" fill=\"#000000\" fill-rule=\"evenodd\" fill-opacity=\"1\" /><path clip-path=\"url(#clip890)\" d=\"M1833.67 149.196 Q1828.51 149.196 1826.52 150.377 Q1824.53 151.557 1824.53 154.405 Q1824.53 156.673 1826.01 158.016 Q1827.52 159.335 1830.09 159.335 Q1833.63 159.335 1835.76 156.835 Q1837.91 154.312 1837.91 150.145 L1837.91 149.196 L1833.67 149.196 M1842.17 147.437 L1842.17 162.229 L1837.91 162.229 L1837.91 158.293 Q1836.45 160.655 1834.28 161.789 Q1832.1 162.9 1828.95 162.9 Q1824.97 162.9 1822.61 160.678 Q1820.27 158.432 1820.27 154.682 Q1820.27 150.307 1823.19 148.085 Q1826.13 145.863 1831.94 145.863 L1837.91 145.863 L1837.91 145.446 Q1837.91 142.507 1835.97 140.909 Q1834.05 139.289 1830.55 139.289 Q1828.33 139.289 1826.22 139.821 Q1824.11 140.354 1822.17 141.419 L1822.17 137.483 Q1824.51 136.581 1826.71 136.141 Q1828.91 135.678 1830.99 135.678 Q1836.61 135.678 1839.39 138.594 Q1842.17 141.511 1842.17 147.437 Z\" fill=\"#000000\" fill-rule=\"evenodd\" fill-opacity=\"1\" /><path clip-path=\"url(#clip890)\" d=\"M1867.47 137.067 L1867.47 141.094 Q1865.67 140.169 1863.72 139.706 Q1861.78 139.243 1859.69 139.243 Q1856.52 139.243 1854.92 140.215 Q1853.35 141.187 1853.35 143.131 Q1853.35 144.613 1854.49 145.469 Q1855.62 146.303 1859.05 147.067 L1860.5 147.391 Q1865.04 148.363 1866.94 150.145 Q1868.86 151.905 1868.86 155.076 Q1868.86 158.687 1865.99 160.793 Q1863.14 162.9 1858.14 162.9 Q1856.06 162.9 1853.79 162.483 Q1851.55 162.09 1849.05 161.28 L1849.05 156.881 Q1851.41 158.108 1853.7 158.733 Q1855.99 159.335 1858.23 159.335 Q1861.24 159.335 1862.86 158.317 Q1864.48 157.275 1864.48 155.4 Q1864.48 153.664 1863.3 152.738 Q1862.15 151.812 1858.19 150.956 L1856.71 150.608 Q1852.75 149.775 1850.99 148.062 Q1849.23 146.326 1849.23 143.317 Q1849.23 139.659 1851.82 137.669 Q1854.42 135.678 1859.18 135.678 Q1861.55 135.678 1863.63 136.025 Q1865.71 136.372 1867.47 137.067 Z\" fill=\"#000000\" fill-rule=\"evenodd\" fill-opacity=\"1\" /><path clip-path=\"url(#clip890)\" d=\"M1892.17 137.067 L1892.17 141.094 Q1890.36 140.169 1888.42 139.706 Q1886.48 139.243 1884.39 139.243 Q1881.22 139.243 1879.62 140.215 Q1878.05 141.187 1878.05 143.131 Q1878.05 144.613 1879.18 145.469 Q1880.32 146.303 1883.74 147.067 L1885.2 147.391 Q1889.74 148.363 1891.64 150.145 Q1893.56 151.905 1893.56 155.076 Q1893.56 158.687 1890.69 160.793 Q1887.84 162.9 1882.84 162.9 Q1880.76 162.9 1878.49 162.483 Q1876.24 162.09 1873.74 161.28 L1873.74 156.881 Q1876.11 158.108 1878.4 158.733 Q1880.69 159.335 1882.93 159.335 Q1885.94 159.335 1887.56 158.317 Q1889.18 157.275 1889.18 155.4 Q1889.18 153.664 1888 152.738 Q1886.85 151.812 1882.89 150.956 L1881.41 150.608 Q1877.45 149.775 1875.69 148.062 Q1873.93 146.326 1873.93 143.317 Q1873.93 139.659 1876.52 137.669 Q1879.11 135.678 1883.88 135.678 Q1886.24 135.678 1888.33 136.025 Q1890.41 136.372 1892.17 137.067 Z\" fill=\"#000000\" fill-rule=\"evenodd\" fill-opacity=\"1\" /><path clip-path=\"url(#clip890)\" d=\"M1900.94 156.349 L1905.83 156.349 L1905.83 162.229 L1900.94 162.229 L1900.94 156.349 Z\" fill=\"#000000\" fill-rule=\"evenodd\" fill-opacity=\"1\" /><path clip-path=\"url(#clip890)\" d=\"M1931.94 137.067 L1931.94 141.094 Q1930.13 140.169 1928.19 139.706 Q1926.24 139.243 1924.16 139.243 Q1920.99 139.243 1919.39 140.215 Q1917.82 141.187 1917.82 143.131 Q1917.82 144.613 1918.95 145.469 Q1920.09 146.303 1923.51 147.067 L1924.97 147.391 Q1929.51 148.363 1931.41 150.145 Q1933.33 151.905 1933.33 155.076 Q1933.33 158.687 1930.46 160.793 Q1927.61 162.9 1922.61 162.9 Q1920.53 162.9 1918.26 162.483 Q1916.01 162.09 1913.51 161.28 L1913.51 156.881 Q1915.87 158.108 1918.17 158.733 Q1920.46 159.335 1922.7 159.335 Q1925.71 159.335 1927.33 158.317 Q1928.95 157.275 1928.95 155.4 Q1928.95 153.664 1927.77 152.738 Q1926.61 151.812 1922.66 150.956 L1921.17 150.608 Q1917.22 149.775 1915.46 148.062 Q1913.7 146.326 1913.7 143.317 Q1913.7 139.659 1916.29 137.669 Q1918.88 135.678 1923.65 135.678 Q1926.01 135.678 1928.1 136.025 Q1930.18 136.372 1931.94 137.067 Z\" fill=\"#000000\" fill-rule=\"evenodd\" fill-opacity=\"1\" /><path clip-path=\"url(#clip890)\" d=\"M1965.41 126.257 Q1962.31 131.581 1960.8 136.789 Q1959.3 141.997 1959.3 147.344 Q1959.3 152.692 1960.8 157.946 Q1962.33 163.178 1965.41 168.479 L1961.71 168.479 Q1958.23 163.039 1956.5 157.784 Q1954.79 152.53 1954.79 147.344 Q1954.79 142.182 1956.5 136.951 Q1958.21 131.72 1961.71 126.257 L1965.41 126.257 Z\" fill=\"#000000\" fill-rule=\"evenodd\" fill-opacity=\"1\" /><path clip-path=\"url(#clip890)\" d=\"M1988.44 143.594 Q1991.8 144.312 1993.67 146.581 Q1995.57 148.849 1995.57 152.182 Q1995.57 157.298 1992.05 160.099 Q1988.54 162.9 1982.05 162.9 Q1979.88 162.9 1977.56 162.46 Q1975.27 162.043 1972.82 161.187 L1972.82 156.673 Q1974.76 157.807 1977.08 158.386 Q1979.39 158.965 1981.91 158.965 Q1986.31 158.965 1988.6 157.229 Q1990.92 155.493 1990.92 152.182 Q1990.92 149.127 1988.77 147.414 Q1986.64 145.678 1982.82 145.678 L1978.79 145.678 L1978.79 141.835 L1983 141.835 Q1986.45 141.835 1988.28 140.469 Q1990.11 139.081 1990.11 136.488 Q1990.11 133.826 1988.21 132.414 Q1986.34 130.979 1982.82 130.979 Q1980.9 130.979 1978.7 131.395 Q1976.5 131.812 1973.86 132.692 L1973.86 128.525 Q1976.52 127.784 1978.84 127.414 Q1981.17 127.044 1983.23 127.044 Q1988.56 127.044 1991.66 129.474 Q1994.76 131.882 1994.76 136.002 Q1994.76 138.872 1993.12 140.863 Q1991.48 142.831 1988.44 143.594 Z\" fill=\"#000000\" fill-rule=\"evenodd\" fill-opacity=\"1\" /><path clip-path=\"url(#clip890)\" d=\"M2018.6 143.594 Q2021.96 144.312 2023.84 146.581 Q2025.73 148.849 2025.73 152.182 Q2025.73 157.298 2022.22 160.099 Q2018.7 162.9 2012.22 162.9 Q2010.04 162.9 2007.72 162.46 Q2005.43 162.043 2002.98 161.187 L2002.98 156.673 Q2004.92 157.807 2007.24 158.386 Q2009.55 158.965 2012.08 158.965 Q2016.47 158.965 2018.77 157.229 Q2021.08 155.493 2021.08 152.182 Q2021.08 149.127 2018.93 147.414 Q2016.8 145.678 2012.98 145.678 L2008.95 145.678 L2008.95 141.835 L2013.16 141.835 Q2016.61 141.835 2018.44 140.469 Q2020.27 139.081 2020.27 136.488 Q2020.27 133.826 2018.37 132.414 Q2016.5 130.979 2012.98 130.979 Q2011.06 130.979 2008.86 131.395 Q2006.66 131.812 2004.02 132.692 L2004.02 128.525 Q2006.68 127.784 2009 127.414 Q2011.34 127.044 2013.4 127.044 Q2018.72 127.044 2021.82 129.474 Q2024.92 131.882 2024.92 136.002 Q2024.92 138.872 2023.28 140.863 Q2021.64 142.831 2018.6 143.594 Z\" fill=\"#000000\" fill-rule=\"evenodd\" fill-opacity=\"1\" /><path clip-path=\"url(#clip890)\" d=\"M2034.65 127.669 L2053 127.669 L2053 131.604 L2038.93 131.604 L2038.93 140.076 Q2039.95 139.729 2040.97 139.567 Q2041.98 139.382 2043 139.382 Q2048.79 139.382 2052.17 142.553 Q2055.55 145.724 2055.55 151.141 Q2055.55 156.719 2052.08 159.821 Q2048.6 162.9 2042.28 162.9 Q2040.11 162.9 2037.84 162.53 Q2035.6 162.159 2033.19 161.418 L2033.19 156.719 Q2035.27 157.854 2037.49 158.409 Q2039.72 158.965 2042.19 158.965 Q2046.2 158.965 2048.53 156.858 Q2050.87 154.752 2050.87 151.141 Q2050.87 147.53 2048.53 145.423 Q2046.2 143.317 2042.19 143.317 Q2040.32 143.317 2038.44 143.733 Q2036.59 144.15 2034.65 145.03 L2034.65 127.669 Z\" fill=\"#000000\" fill-rule=\"evenodd\" fill-opacity=\"1\" /><path clip-path=\"url(#clip890)\" d=\"M2064.81 127.669 L2083.16 127.669 L2083.16 131.604 L2069.09 131.604 L2069.09 140.076 Q2070.11 139.729 2071.13 139.567 Q2072.15 139.382 2073.16 139.382 Q2078.95 139.382 2082.33 142.553 Q2085.71 145.724 2085.71 151.141 Q2085.71 156.719 2082.24 159.821 Q2078.77 162.9 2072.45 162.9 Q2070.27 162.9 2068 162.53 Q2065.76 162.159 2063.35 161.418 L2063.35 156.719 Q2065.43 157.854 2067.66 158.409 Q2069.88 158.965 2072.35 158.965 Q2076.36 158.965 2078.7 156.858 Q2081.03 154.752 2081.03 151.141 Q2081.03 147.53 2078.7 145.423 Q2076.36 143.317 2072.35 143.317 Q2070.48 143.317 2068.6 143.733 Q2066.75 144.15 2064.81 145.03 L2064.81 127.669 Z\" fill=\"#000000\" fill-rule=\"evenodd\" fill-opacity=\"1\" /><path clip-path=\"url(#clip890)\" d=\"M2107.77 131.743 L2095.97 150.192 L2107.77 150.192 L2107.77 131.743 M2106.54 127.669 L2112.42 127.669 L2112.42 150.192 L2117.35 150.192 L2117.35 154.081 L2112.42 154.081 L2112.42 162.229 L2107.77 162.229 L2107.77 154.081 L2092.17 154.081 L2092.17 149.567 L2106.54 127.669 Z\" fill=\"#000000\" fill-rule=\"evenodd\" fill-opacity=\"1\" /><path clip-path=\"url(#clip890)\" d=\"M2137.93 131.743 L2126.13 150.192 L2137.93 150.192 L2137.93 131.743 M2136.71 127.669 L2142.59 127.669 L2142.59 150.192 L2147.52 150.192 L2147.52 154.081 L2142.59 154.081 L2142.59 162.229 L2137.93 162.229 L2137.93 154.081 L2122.33 154.081 L2122.33 149.567 L2136.71 127.669 Z\" fill=\"#000000\" fill-rule=\"evenodd\" fill-opacity=\"1\" /><path clip-path=\"url(#clip890)\" d=\"M2169.41 143.594 Q2172.77 144.312 2174.65 146.581 Q2176.54 148.849 2176.54 152.182 Q2176.54 157.298 2173.02 160.099 Q2169.51 162.9 2163.03 162.9 Q2160.85 162.9 2158.53 162.46 Q2156.24 162.043 2153.79 161.187 L2153.79 156.673 Q2155.73 157.807 2158.05 158.386 Q2160.36 158.965 2162.89 158.965 Q2167.28 158.965 2169.58 157.229 Q2171.89 155.493 2171.89 152.182 Q2171.89 149.127 2169.74 147.414 Q2167.61 145.678 2163.79 145.678 L2159.76 145.678 L2159.76 141.835 L2163.97 141.835 Q2167.42 141.835 2169.25 140.469 Q2171.08 139.081 2171.08 136.488 Q2171.08 133.826 2169.18 132.414 Q2167.31 130.979 2163.79 130.979 Q2161.87 130.979 2159.67 131.395 Q2157.47 131.812 2154.83 132.692 L2154.83 128.525 Q2157.49 127.784 2159.81 127.414 Q2162.15 127.044 2164.21 127.044 Q2169.53 127.044 2172.63 129.474 Q2175.73 131.882 2175.73 136.002 Q2175.73 138.872 2174.09 140.863 Q2172.45 142.831 2169.41 143.594 Z\" fill=\"#000000\" fill-rule=\"evenodd\" fill-opacity=\"1\" /><path clip-path=\"url(#clip890)\" d=\"M2189.44 158.293 L2205.76 158.293 L2205.76 162.229 L2183.81 162.229 L2183.81 158.293 Q2186.47 155.539 2191.06 150.909 Q2195.66 146.256 2196.84 144.914 Q2199.09 142.391 2199.97 140.655 Q2200.87 138.895 2200.87 137.206 Q2200.87 134.451 2198.93 132.715 Q2197.01 130.979 2193.9 130.979 Q2191.71 130.979 2189.25 131.743 Q2186.82 132.507 2184.04 134.057 L2184.04 129.335 Q2186.87 128.201 2189.32 127.622 Q2191.77 127.044 2193.81 127.044 Q2199.18 127.044 2202.38 129.729 Q2205.57 132.414 2205.57 136.905 Q2205.57 139.034 2204.76 140.956 Q2203.97 142.854 2201.87 145.446 Q2201.29 146.118 2198.19 149.335 Q2195.09 152.53 2189.44 158.293 Z\" fill=\"#000000\" fill-rule=\"evenodd\" fill-opacity=\"1\" /><path clip-path=\"url(#clip890)\" d=\"M2214.3 126.257 L2218 126.257 Q2221.47 131.72 2223.19 136.951 Q2224.92 142.182 2224.92 147.344 Q2224.92 152.53 2223.19 157.784 Q2221.47 163.039 2218 168.479 L2214.3 168.479 Q2217.38 163.178 2218.88 157.946 Q2220.41 152.692 2220.41 147.344 Q2220.41 141.997 2218.88 136.789 Q2217.38 131.581 2214.3 126.257 Z\" fill=\"#000000\" fill-rule=\"evenodd\" fill-opacity=\"1\" /><polyline clip-path=\"url(#clip890)\" style=\"stroke:#e26f46; stroke-linecap:round; stroke-linejoin:round; stroke-width:4; stroke-opacity:1; fill:none\" points=\"\n",
       "  1601.28,196.789 1750.65,196.789 \n",
       "  \"/>\n",
       "<path clip-path=\"url(#clip890)\" d=\"M1795.9 193.12 Q1797.49 190.249 1799.72 188.884 Q1801.94 187.518 1804.95 187.518 Q1809 187.518 1811.2 190.365 Q1813.4 193.189 1813.4 198.421 L1813.4 214.069 L1809.11 214.069 L1809.11 198.559 Q1809.11 194.833 1807.8 193.027 Q1806.48 191.222 1803.77 191.222 Q1800.46 191.222 1798.54 193.421 Q1796.61 195.62 1796.61 199.416 L1796.61 214.069 L1792.33 214.069 L1792.33 198.559 Q1792.33 194.809 1791.01 193.027 Q1789.69 191.222 1786.94 191.222 Q1783.68 191.222 1781.75 193.444 Q1779.83 195.643 1779.83 199.416 L1779.83 214.069 L1775.55 214.069 L1775.55 188.143 L1779.83 188.143 L1779.83 192.171 Q1781.29 189.786 1783.33 188.652 Q1785.37 187.518 1788.17 187.518 Q1790.99 187.518 1792.96 188.953 Q1794.95 190.388 1795.9 193.12 Z\" fill=\"#000000\" fill-rule=\"evenodd\" fill-opacity=\"1\" /><path clip-path=\"url(#clip890)\" d=\"M1833.67 201.036 Q1828.51 201.036 1826.52 202.217 Q1824.53 203.397 1824.53 206.245 Q1824.53 208.513 1826.01 209.856 Q1827.52 211.175 1830.09 211.175 Q1833.63 211.175 1835.76 208.675 Q1837.91 206.152 1837.91 201.985 L1837.91 201.036 L1833.67 201.036 M1842.17 199.277 L1842.17 214.069 L1837.91 214.069 L1837.91 210.133 Q1836.45 212.495 1834.28 213.629 Q1832.1 214.74 1828.95 214.74 Q1824.97 214.74 1822.61 212.518 Q1820.27 210.272 1820.27 206.522 Q1820.27 202.147 1823.19 199.925 Q1826.13 197.703 1831.94 197.703 L1837.91 197.703 L1837.91 197.286 Q1837.91 194.347 1835.97 192.749 Q1834.05 191.129 1830.55 191.129 Q1828.33 191.129 1826.22 191.661 Q1824.11 192.194 1822.17 193.259 L1822.17 189.323 Q1824.51 188.421 1826.71 187.981 Q1828.91 187.518 1830.99 187.518 Q1836.61 187.518 1839.39 190.434 Q1842.17 193.351 1842.17 199.277 Z\" fill=\"#000000\" fill-rule=\"evenodd\" fill-opacity=\"1\" /><path clip-path=\"url(#clip890)\" d=\"M1867.47 188.907 L1867.47 192.934 Q1865.67 192.009 1863.72 191.546 Q1861.78 191.083 1859.69 191.083 Q1856.52 191.083 1854.92 192.055 Q1853.35 193.027 1853.35 194.971 Q1853.35 196.453 1854.49 197.309 Q1855.62 198.143 1859.05 198.907 L1860.5 199.231 Q1865.04 200.203 1866.94 201.985 Q1868.86 203.745 1868.86 206.916 Q1868.86 210.527 1865.99 212.633 Q1863.14 214.74 1858.14 214.74 Q1856.06 214.74 1853.79 214.323 Q1851.55 213.93 1849.05 213.12 L1849.05 208.721 Q1851.41 209.948 1853.7 210.573 Q1855.99 211.175 1858.23 211.175 Q1861.24 211.175 1862.86 210.157 Q1864.48 209.115 1864.48 207.24 Q1864.48 205.504 1863.3 204.578 Q1862.15 203.652 1858.19 202.796 L1856.71 202.448 Q1852.75 201.615 1850.99 199.902 Q1849.23 198.166 1849.23 195.157 Q1849.23 191.499 1851.82 189.509 Q1854.42 187.518 1859.18 187.518 Q1861.55 187.518 1863.63 187.865 Q1865.71 188.212 1867.47 188.907 Z\" fill=\"#000000\" fill-rule=\"evenodd\" fill-opacity=\"1\" /><path clip-path=\"url(#clip890)\" d=\"M1892.17 188.907 L1892.17 192.934 Q1890.36 192.009 1888.42 191.546 Q1886.48 191.083 1884.39 191.083 Q1881.22 191.083 1879.62 192.055 Q1878.05 193.027 1878.05 194.971 Q1878.05 196.453 1879.18 197.309 Q1880.32 198.143 1883.74 198.907 L1885.2 199.231 Q1889.74 200.203 1891.64 201.985 Q1893.56 203.745 1893.56 206.916 Q1893.56 210.527 1890.69 212.633 Q1887.84 214.74 1882.84 214.74 Q1880.76 214.74 1878.49 214.323 Q1876.24 213.93 1873.74 213.12 L1873.74 208.721 Q1876.11 209.948 1878.4 210.573 Q1880.69 211.175 1882.93 211.175 Q1885.94 211.175 1887.56 210.157 Q1889.18 209.115 1889.18 207.24 Q1889.18 205.504 1888 204.578 Q1886.85 203.652 1882.89 202.796 L1881.41 202.448 Q1877.45 201.615 1875.69 199.902 Q1873.93 198.166 1873.93 195.157 Q1873.93 191.499 1876.52 189.509 Q1879.11 187.518 1883.88 187.518 Q1886.24 187.518 1888.33 187.865 Q1890.41 188.212 1892.17 188.907 Z\" fill=\"#000000\" fill-rule=\"evenodd\" fill-opacity=\"1\" /><path clip-path=\"url(#clip890)\" d=\"M1900.94 208.189 L1905.83 208.189 L1905.83 214.069 L1900.94 214.069 L1900.94 208.189 Z\" fill=\"#000000\" fill-rule=\"evenodd\" fill-opacity=\"1\" /><path clip-path=\"url(#clip890)\" d=\"M1912.36 188.143 L1916.87 188.143 L1924.97 209.902 L1933.07 188.143 L1937.59 188.143 L1927.86 214.069 L1922.08 214.069 L1912.36 188.143 Z\" fill=\"#000000\" fill-rule=\"evenodd\" fill-opacity=\"1\" /><path clip-path=\"url(#clip890)\" d=\"M1968.77 178.097 Q1965.66 183.421 1964.16 188.629 Q1962.66 193.837 1962.66 199.184 Q1962.66 204.532 1964.16 209.786 Q1965.69 215.018 1968.77 220.319 L1965.06 220.319 Q1961.59 214.879 1959.85 209.624 Q1958.14 204.37 1958.14 199.184 Q1958.14 194.022 1959.85 188.791 Q1961.57 183.56 1965.06 178.097 L1968.77 178.097 Z\" fill=\"#000000\" fill-rule=\"evenodd\" fill-opacity=\"1\" /><path clip-path=\"url(#clip890)\" d=\"M1991.8 195.434 Q1995.16 196.152 1997.03 198.421 Q1998.93 200.689 1998.93 204.022 Q1998.93 209.138 1995.41 211.939 Q1991.89 214.74 1985.41 214.74 Q1983.23 214.74 1980.92 214.3 Q1978.63 213.883 1976.17 213.027 L1976.17 208.513 Q1978.12 209.647 1980.43 210.226 Q1982.75 210.805 1985.27 210.805 Q1989.67 210.805 1991.96 209.069 Q1994.28 207.333 1994.28 204.022 Q1994.28 200.967 1992.12 199.254 Q1989.99 197.518 1986.17 197.518 L1982.15 197.518 L1982.15 193.675 L1986.36 193.675 Q1989.81 193.675 1991.64 192.309 Q1993.47 190.921 1993.47 188.328 Q1993.47 185.666 1991.57 184.254 Q1989.69 182.819 1986.17 182.819 Q1984.25 182.819 1982.05 183.235 Q1979.85 183.652 1977.22 184.532 L1977.22 180.365 Q1979.88 179.624 1982.19 179.254 Q1984.53 178.884 1986.59 178.884 Q1991.91 178.884 1995.02 181.314 Q1998.12 183.722 1998.12 187.842 Q1998.12 190.712 1996.47 192.703 Q1994.83 194.671 1991.8 195.434 Z\" fill=\"#000000\" fill-rule=\"evenodd\" fill-opacity=\"1\" /><path clip-path=\"url(#clip890)\" d=\"M2021.96 195.434 Q2025.32 196.152 2027.19 198.421 Q2029.09 200.689 2029.09 204.022 Q2029.09 209.138 2025.57 211.939 Q2022.05 214.74 2015.57 214.74 Q2013.4 214.74 2011.08 214.3 Q2008.79 213.883 2006.34 213.027 L2006.34 208.513 Q2008.28 209.647 2010.6 210.226 Q2012.91 210.805 2015.43 210.805 Q2019.83 210.805 2022.12 209.069 Q2024.44 207.333 2024.44 204.022 Q2024.44 200.967 2022.29 199.254 Q2020.16 197.518 2016.34 197.518 L2012.31 197.518 L2012.31 193.675 L2016.52 193.675 Q2019.97 193.675 2021.8 192.309 Q2023.63 190.921 2023.63 188.328 Q2023.63 185.666 2021.73 184.254 Q2019.85 182.819 2016.34 182.819 Q2014.41 182.819 2012.22 183.235 Q2010.02 183.652 2007.38 184.532 L2007.38 180.365 Q2010.04 179.624 2012.35 179.254 Q2014.69 178.884 2016.75 178.884 Q2022.08 178.884 2025.18 181.314 Q2028.28 183.722 2028.28 187.842 Q2028.28 190.712 2026.64 192.703 Q2024.99 194.671 2021.96 195.434 Z\" fill=\"#000000\" fill-rule=\"evenodd\" fill-opacity=\"1\" /><path clip-path=\"url(#clip890)\" d=\"M2038 179.509 L2056.36 179.509 L2056.36 183.444 L2042.28 183.444 L2042.28 191.916 Q2043.3 191.569 2044.32 191.407 Q2045.34 191.222 2046.36 191.222 Q2052.15 191.222 2055.53 194.393 Q2058.91 197.564 2058.91 202.981 Q2058.91 208.559 2055.43 211.661 Q2051.96 214.74 2045.64 214.74 Q2043.47 214.74 2041.2 214.37 Q2038.95 213.999 2036.54 213.258 L2036.54 208.559 Q2038.63 209.694 2040.85 210.249 Q2043.07 210.805 2045.55 210.805 Q2049.55 210.805 2051.89 208.698 Q2054.23 206.592 2054.23 202.981 Q2054.23 199.37 2051.89 197.263 Q2049.55 195.157 2045.55 195.157 Q2043.67 195.157 2041.8 195.573 Q2039.95 195.99 2038 196.87 L2038 179.509 Z\" fill=\"#000000\" fill-rule=\"evenodd\" fill-opacity=\"1\" /><path clip-path=\"url(#clip890)\" d=\"M2068.16 179.509 L2086.52 179.509 L2086.52 183.444 L2072.45 183.444 L2072.45 191.916 Q2073.47 191.569 2074.48 191.407 Q2075.5 191.222 2076.52 191.222 Q2082.31 191.222 2085.69 194.393 Q2089.07 197.564 2089.07 202.981 Q2089.07 208.559 2085.59 211.661 Q2082.12 214.74 2075.8 214.74 Q2073.63 214.74 2071.36 214.37 Q2069.11 213.999 2066.71 213.258 L2066.71 208.559 Q2068.79 209.694 2071.01 210.249 Q2073.23 210.805 2075.71 210.805 Q2079.72 210.805 2082.05 208.698 Q2084.39 206.592 2084.39 202.981 Q2084.39 199.37 2082.05 197.263 Q2079.72 195.157 2075.71 195.157 Q2073.84 195.157 2071.96 195.573 Q2070.11 195.99 2068.16 196.87 L2068.16 179.509 Z\" fill=\"#000000\" fill-rule=\"evenodd\" fill-opacity=\"1\" /><path clip-path=\"url(#clip890)\" d=\"M2111.13 183.583 L2099.32 202.032 L2111.13 202.032 L2111.13 183.583 M2109.9 179.509 L2115.78 179.509 L2115.78 202.032 L2120.71 202.032 L2120.71 205.921 L2115.78 205.921 L2115.78 214.069 L2111.13 214.069 L2111.13 205.921 L2095.53 205.921 L2095.53 201.407 L2109.9 179.509 Z\" fill=\"#000000\" fill-rule=\"evenodd\" fill-opacity=\"1\" /><path clip-path=\"url(#clip890)\" d=\"M2141.29 183.583 L2129.48 202.032 L2141.29 202.032 L2141.29 183.583 M2140.06 179.509 L2145.94 179.509 L2145.94 202.032 L2150.87 202.032 L2150.87 205.921 L2145.94 205.921 L2145.94 214.069 L2141.29 214.069 L2141.29 205.921 L2125.69 205.921 L2125.69 201.407 L2140.06 179.509 Z\" fill=\"#000000\" fill-rule=\"evenodd\" fill-opacity=\"1\" /><path clip-path=\"url(#clip890)\" d=\"M2172.77 195.434 Q2176.13 196.152 2178 198.421 Q2179.9 200.689 2179.9 204.022 Q2179.9 209.138 2176.38 211.939 Q2172.86 214.74 2166.38 214.74 Q2164.21 214.74 2161.89 214.3 Q2159.6 213.883 2157.15 213.027 L2157.15 208.513 Q2159.09 209.647 2161.4 210.226 Q2163.72 210.805 2166.24 210.805 Q2170.64 210.805 2172.93 209.069 Q2175.25 207.333 2175.25 204.022 Q2175.25 200.967 2173.09 199.254 Q2170.96 197.518 2167.15 197.518 L2163.12 197.518 L2163.12 193.675 L2167.33 193.675 Q2170.78 193.675 2172.61 192.309 Q2174.44 190.921 2174.44 188.328 Q2174.44 185.666 2172.54 184.254 Q2170.66 182.819 2167.15 182.819 Q2165.22 182.819 2163.03 183.235 Q2160.83 183.652 2158.19 184.532 L2158.19 180.365 Q2160.85 179.624 2163.16 179.254 Q2165.5 178.884 2167.56 178.884 Q2172.89 178.884 2175.99 181.314 Q2179.09 183.722 2179.09 187.842 Q2179.09 190.712 2177.45 192.703 Q2175.8 194.671 2172.77 195.434 Z\" fill=\"#000000\" fill-rule=\"evenodd\" fill-opacity=\"1\" /><path clip-path=\"url(#clip890)\" d=\"M2202.93 195.434 Q2206.29 196.152 2208.16 198.421 Q2210.06 200.689 2210.06 204.022 Q2210.06 209.138 2206.54 211.939 Q2203.02 214.74 2196.54 214.74 Q2194.37 214.74 2192.05 214.3 Q2189.76 213.883 2187.31 213.027 L2187.31 208.513 Q2189.25 209.647 2191.57 210.226 Q2193.88 210.805 2196.4 210.805 Q2200.8 210.805 2203.09 209.069 Q2205.41 207.333 2205.41 204.022 Q2205.41 200.967 2203.26 199.254 Q2201.13 197.518 2197.31 197.518 L2193.28 197.518 L2193.28 193.675 L2197.49 193.675 Q2200.94 193.675 2202.77 192.309 Q2204.6 190.921 2204.6 188.328 Q2204.6 185.666 2202.7 184.254 Q2200.83 182.819 2197.31 182.819 Q2195.39 182.819 2193.19 183.235 Q2190.99 183.652 2188.35 184.532 L2188.35 180.365 Q2191.01 179.624 2193.33 179.254 Q2195.66 178.884 2197.72 178.884 Q2203.05 178.884 2206.15 181.314 Q2209.25 183.722 2209.25 187.842 Q2209.25 190.712 2207.61 192.703 Q2205.96 194.671 2202.93 195.434 Z\" fill=\"#000000\" fill-rule=\"evenodd\" fill-opacity=\"1\" /><path clip-path=\"url(#clip890)\" d=\"M2217.65 178.097 L2221.36 178.097 Q2224.83 183.56 2226.54 188.791 Q2228.28 194.022 2228.28 199.184 Q2228.28 204.37 2226.54 209.624 Q2224.83 214.879 2221.36 220.319 L2217.65 220.319 Q2220.73 215.018 2222.24 209.786 Q2223.77 204.532 2223.77 199.184 Q2223.77 193.837 2222.24 188.629 Q2220.73 183.421 2217.65 178.097 Z\" fill=\"#000000\" fill-rule=\"evenodd\" fill-opacity=\"1\" /></svg>\n"
      ]
     },
     "execution_count": 18,
     "metadata": {},
     "output_type": "execute_result"
    }
   ],
   "source": [
    "solutionBefore = neuralFMU(x₀, tStart)\n",
    "fmiPlot(solutionBefore)"
   ]
  },
  {
   "cell_type": "markdown",
   "metadata": {},
   "source": [
    "#### Training of the NeuralFMU\n",
    "\n",
    "For the training of the NeuralFMU the parameters are extracted. The known ADAM optimizer for minimizing the gradient descent is used as further passing parameters. In addition, the previously defined loss and callback function, as well as the number of epochs are passed."
   ]
  },
  {
   "cell_type": "code",
   "execution_count": 19,
   "metadata": {
    "execution": {
     "iopub.execute_input": "2022-10-14T15:24:50.225000Z",
     "iopub.status.busy": "2022-10-14T15:24:50.225000Z",
     "iopub.status.idle": "2022-10-14T15:29:56.341000Z",
     "shell.execute_reply": "2022-10-14T15:29:56.341000Z"
    },
    "scrolled": false
   },
   "outputs": [
    {
     "name": "stderr",
     "output_type": "stream",
     "text": [
      "\u001b[34mSimulating ME-NeuralFMU ... 100%|████████████████████████| Time: 0:00:26\u001b[39m\n",
      "┌ Info:    Loss [1] for horizon 5 : 0.06331   \n",
      "│         Avg displacement in data: 0.25162\n",
      "└ @ Main In[13]:9\n",
      "┌ Info:    Loss [21] for horizon 5 : 0.00542   \n",
      "│         Avg displacement in data: 0.0736\n",
      "└ @ Main In[13]:9\n",
      "┌ Info:    Loss [41] for horizon 7 : 0.00257   \n",
      "│         Avg displacement in data: 0.05067\n",
      "└ @ Main In[13]:9\n",
      "┌ Info:    Loss [61] for horizon 9 : 0.00295   \n",
      "│         Avg displacement in data: 0.05433\n",
      "└ @ Main In[13]:9\n",
      "┌ Info:    Loss [81] for horizon 11 : 0.00074   \n",
      "│         Avg displacement in data: 0.02722\n",
      "└ @ Main In[13]:9\n",
      "┌ Info:    Loss [101] for horizon 13 : 0.00286   \n",
      "│         Avg displacement in data: 0.0535\n",
      "└ @ Main In[13]:9\n",
      "┌ Info:    Loss [121] for horizon 15 : 0.00705   \n",
      "│         Avg displacement in data: 0.08397\n",
      "└ @ Main In[13]:9\n",
      "┌ Info:    Loss [141] for horizon 17 : 0.01516   \n",
      "│         Avg displacement in data: 0.12313\n",
      "└ @ Main In[13]:9\n",
      "┌ Info:    Loss [161] for horizon 17 : 0.00837   \n",
      "│         Avg displacement in data: 0.0915\n",
      "└ @ Main In[13]:9\n",
      "┌ Info:    Loss [181] for horizon 19 : 0.01059   \n",
      "│         Avg displacement in data: 0.10291\n",
      "└ @ Main In[13]:9\n",
      "┌ Info:    Loss [201] for horizon 19 : 0.00551   \n",
      "│         Avg displacement in data: 0.07425\n",
      "└ @ Main In[13]:9\n",
      "┌ Info:    Loss [221] for horizon 21 : 0.00338   \n",
      "│         Avg displacement in data: 0.05816\n",
      "└ @ Main In[13]:9\n",
      "┌ Info:    Loss [241] for horizon 23 : 0.00146   \n",
      "│         Avg displacement in data: 0.03818\n",
      "└ @ Main In[13]:9\n",
      "┌ Info:    Loss [261] for horizon 25 : 0.00067   \n",
      "│         Avg displacement in data: 0.02579\n",
      "└ @ Main In[13]:9\n",
      "┌ Info:    Loss [281] for horizon 27 : 0.00045   \n",
      "│         Avg displacement in data: 0.02115\n",
      "└ @ Main In[13]:9\n",
      "┌ Info:    Loss [301] for horizon 29 : 0.00041   \n",
      "│         Avg displacement in data: 0.02028\n",
      "└ @ Main In[13]:9\n",
      "┌ Info:    Loss [321] for horizon 31 : 0.00048   \n",
      "│         Avg displacement in data: 0.02183\n",
      "└ @ Main In[13]:9\n",
      "┌ Info:    Loss [341] for horizon 33 : 0.00062   \n",
      "│         Avg displacement in data: 0.02489\n",
      "└ @ Main In[13]:9\n",
      "┌ Info:    Loss [361] for horizon 35 : 0.00062   \n",
      "│         Avg displacement in data: 0.0249\n",
      "└ @ Main In[13]:9\n",
      "┌ Info:    Loss [381] for horizon 37 : 0.00056   \n",
      "│         Avg displacement in data: 0.02377\n",
      "└ @ Main In[13]:9\n",
      "┌ Info:    Loss [401] for horizon 39 : 0.00053   \n",
      "│         Avg displacement in data: 0.02304\n",
      "└ @ Main In[13]:9\n",
      "┌ Info:    Loss [421] for horizon 41 : 0.00052   \n",
      "│         Avg displacement in data: 0.02287\n",
      "└ @ Main In[13]:9\n",
      "┌ Info:    Loss [441] for horizon 43 : 0.00052   \n",
      "│         Avg displacement in data: 0.02286\n",
      "└ @ Main In[13]:9\n",
      "┌ Info:    Loss [461] for horizon 45 : 0.0005   \n",
      "│         Avg displacement in data: 0.02234\n",
      "└ @ Main In[13]:9\n",
      "┌ Info:    Loss [481] for horizon 47 : 0.00063   \n",
      "│         Avg displacement in data: 0.02518\n",
      "└ @ Main In[13]:9\n",
      "┌ Info:    Loss [501] for horizon 49 : 0.00092   \n",
      "│         Avg displacement in data: 0.03039\n",
      "└ @ Main In[13]:9\n",
      "┌ Info:    Loss [521] for horizon 51 : 0.0014   \n",
      "│         Avg displacement in data: 0.03746\n",
      "└ @ Main In[13]:9\n",
      "┌ Info:    Loss [541] for horizon 51 : 0.00134   \n",
      "│         Avg displacement in data: 0.03662\n",
      "└ @ Main In[13]:9\n",
      "┌ Info:    Loss [561] for horizon 51 : 0.00129   \n",
      "│         Avg displacement in data: 0.03597\n",
      "└ @ Main In[13]:9\n",
      "┌ Info:    Loss [581] for horizon 51 : 0.00129   \n",
      "│         Avg displacement in data: 0.03598\n",
      "└ @ Main In[13]:9\n",
      "┌ Info:    Loss [601] for horizon 51 : 0.00123   \n",
      "│         Avg displacement in data: 0.03513\n",
      "└ @ Main In[13]:9\n",
      "┌ Info:    Loss [621] for horizon 51 : 0.0012   \n",
      "│         Avg displacement in data: 0.03459\n",
      "└ @ Main In[13]:9\n",
      "┌ Info:    Loss [641] for horizon 51 : 0.00116   \n",
      "│         Avg displacement in data: 0.03399\n",
      "└ @ Main In[13]:9\n",
      "┌ Info:    Loss [661] for horizon 51 : 0.00114   \n",
      "│         Avg displacement in data: 0.03379\n",
      "└ @ Main In[13]:9\n",
      "┌ Info:    Loss [681] for horizon 51 : 0.00113   \n",
      "│         Avg displacement in data: 0.03362\n",
      "└ @ Main In[13]:9\n",
      "┌ Info:    Loss [701] for horizon 51 : 0.00111   \n",
      "│         Avg displacement in data: 0.03329\n",
      "└ @ Main In[13]:9\n",
      "┌ Info:    Loss [721] for horizon 51 : 0.0011   \n",
      "│         Avg displacement in data: 0.03311\n",
      "└ @ Main In[13]:9\n",
      "┌ Info:    Loss [741] for horizon 51 : 0.00107   \n",
      "│         Avg displacement in data: 0.03272\n",
      "└ @ Main In[13]:9\n",
      "┌ Info:    Loss [761] for horizon 51 : 0.00105   \n",
      "│         Avg displacement in data: 0.03248\n",
      "└ @ Main In[13]:9\n",
      "┌ Info:    Loss [781] for horizon 51 : 0.00104   \n",
      "│         Avg displacement in data: 0.03225\n",
      "└ @ Main In[13]:9\n",
      "┌ Info:    Loss [801] for horizon 51 : 0.00103   \n",
      "│         Avg displacement in data: 0.03207\n",
      "└ @ Main In[13]:9\n",
      "┌ Info:    Loss [821] for horizon 51 : 0.001   \n",
      "│         Avg displacement in data: 0.03162\n",
      "└ @ Main In[13]:9\n",
      "┌ Info:    Loss [841] for horizon 51 : 0.00098   \n",
      "│         Avg displacement in data: 0.03131\n",
      "└ @ Main In[13]:9\n",
      "┌ Info:    Loss [861] for horizon 51 : 0.00096   \n",
      "│         Avg displacement in data: 0.03099\n",
      "└ @ Main In[13]:9\n",
      "┌ Info:    Loss [881] for horizon 51 : 0.00093   \n",
      "│         Avg displacement in data: 0.03052\n",
      "└ @ Main In[13]:9\n",
      "┌ Info:    Loss [901] for horizon 51 : 0.0009   \n",
      "│         Avg displacement in data: 0.03007\n",
      "└ @ Main In[13]:9\n",
      "┌ Info:    Loss [921] for horizon 51 : 0.00088   \n",
      "│         Avg displacement in data: 0.02968\n",
      "└ @ Main In[13]:9\n",
      "┌ Info:    Loss [941] for horizon 51 : 0.00086   \n",
      "│         Avg displacement in data: 0.02926\n",
      "└ @ Main In[13]:9\n",
      "┌ Info:    Loss [961] for horizon 51 : 0.00082   \n",
      "│         Avg displacement in data: 0.02861\n",
      "└ @ Main In[13]:9\n",
      "┌ Info:    Loss [981] for horizon 51 : 0.00078   \n",
      "│         Avg displacement in data: 0.02802\n",
      "└ @ Main In[13]:9\n"
     ]
    }
   ],
   "source": [
    "# train\n",
    "paramsNet = Flux.params(neuralFMU)\n",
    "\n",
    "optim = ADAM()\n",
    "FMIFlux.train!(lossSum, paramsNet, Iterators.repeated((), 1000), optim; cb=()->callb(paramsNet)) "
   ]
  },
  {
   "cell_type": "markdown",
   "metadata": {},
   "source": [
    "#### Comparison of the plots\n",
    "\n",
    "Here three plots are compared with each other and only the position of the mass is considered. The first plot represents the *simpleFMU*, the second represents the *realFMU* (reference) and the third plot represents the result after training the NeuralFMU. "
   ]
  },
  {
   "cell_type": "code",
   "execution_count": 20,
   "metadata": {
    "execution": {
     "iopub.execute_input": "2022-10-14T15:29:56.344000Z",
     "iopub.status.busy": "2022-10-14T15:29:56.344000Z",
     "iopub.status.idle": "2022-10-14T15:29:56.646000Z",
     "shell.execute_reply": "2022-10-14T15:29:56.646000Z"
    },
    "scrolled": false
   },
   "outputs": [
    {
     "data": {
      "image/svg+xml": [
       "<?xml version=\"1.0\" encoding=\"utf-8\"?>\n",
       "<svg xmlns=\"http://www.w3.org/2000/svg\" xmlns:xlink=\"http://www.w3.org/1999/xlink\" width=\"600\" height=\"400\" viewBox=\"0 0 2400 1600\">\n",
       "<defs>\n",
       "  <clipPath id=\"clip930\">\n",
       "    <rect x=\"0\" y=\"0\" width=\"2400\" height=\"1600\"/>\n",
       "  </clipPath>\n",
       "</defs>\n",
       "<path clip-path=\"url(#clip930)\" d=\"\n",
       "M0 1600 L2400 1600 L2400 0 L0 0  Z\n",
       "  \" fill=\"#ffffff\" fill-rule=\"evenodd\" fill-opacity=\"1\"/>\n",
       "<defs>\n",
       "  <clipPath id=\"clip931\">\n",
       "    <rect x=\"480\" y=\"0\" width=\"1681\" height=\"1600\"/>\n",
       "  </clipPath>\n",
       "</defs>\n",
       "<path clip-path=\"url(#clip930)\" d=\"\n",
       "M303.503 1401.58 L2352.76 1401.58 L2352.76 47.2441 L303.503 47.2441  Z\n",
       "  \" fill=\"#ffffff\" fill-rule=\"evenodd\" fill-opacity=\"1\"/>\n",
       "<defs>\n",
       "  <clipPath id=\"clip932\">\n",
       "    <rect x=\"303\" y=\"47\" width=\"2050\" height=\"1355\"/>\n",
       "  </clipPath>\n",
       "</defs>\n",
       "<polyline clip-path=\"url(#clip932)\" style=\"stroke:#000000; stroke-linecap:round; stroke-linejoin:round; stroke-width:2; stroke-opacity:0.1; fill:none\" points=\"\n",
       "  361.501,1401.58 361.501,47.2441 \n",
       "  \"/>\n",
       "<polyline clip-path=\"url(#clip932)\" style=\"stroke:#000000; stroke-linecap:round; stroke-linejoin:round; stroke-width:2; stroke-opacity:0.1; fill:none\" points=\"\n",
       "  748.152,1401.58 748.152,47.2441 \n",
       "  \"/>\n",
       "<polyline clip-path=\"url(#clip932)\" style=\"stroke:#000000; stroke-linecap:round; stroke-linejoin:round; stroke-width:2; stroke-opacity:0.1; fill:none\" points=\"\n",
       "  1134.8,1401.58 1134.8,47.2441 \n",
       "  \"/>\n",
       "<polyline clip-path=\"url(#clip932)\" style=\"stroke:#000000; stroke-linecap:round; stroke-linejoin:round; stroke-width:2; stroke-opacity:0.1; fill:none\" points=\"\n",
       "  1521.46,1401.58 1521.46,47.2441 \n",
       "  \"/>\n",
       "<polyline clip-path=\"url(#clip932)\" style=\"stroke:#000000; stroke-linecap:round; stroke-linejoin:round; stroke-width:2; stroke-opacity:0.1; fill:none\" points=\"\n",
       "  1908.11,1401.58 1908.11,47.2441 \n",
       "  \"/>\n",
       "<polyline clip-path=\"url(#clip932)\" style=\"stroke:#000000; stroke-linecap:round; stroke-linejoin:round; stroke-width:2; stroke-opacity:0.1; fill:none\" points=\"\n",
       "  2294.76,1401.58 2294.76,47.2441 \n",
       "  \"/>\n",
       "<polyline clip-path=\"url(#clip930)\" style=\"stroke:#000000; stroke-linecap:round; stroke-linejoin:round; stroke-width:4; stroke-opacity:1; fill:none\" points=\"\n",
       "  303.503,1401.58 2352.76,1401.58 \n",
       "  \"/>\n",
       "<polyline clip-path=\"url(#clip930)\" style=\"stroke:#000000; stroke-linecap:round; stroke-linejoin:round; stroke-width:4; stroke-opacity:1; fill:none\" points=\"\n",
       "  361.501,1401.58 361.501,1382.68 \n",
       "  \"/>\n",
       "<polyline clip-path=\"url(#clip930)\" style=\"stroke:#000000; stroke-linecap:round; stroke-linejoin:round; stroke-width:4; stroke-opacity:1; fill:none\" points=\"\n",
       "  748.152,1401.58 748.152,1382.68 \n",
       "  \"/>\n",
       "<polyline clip-path=\"url(#clip930)\" style=\"stroke:#000000; stroke-linecap:round; stroke-linejoin:round; stroke-width:4; stroke-opacity:1; fill:none\" points=\"\n",
       "  1134.8,1401.58 1134.8,1382.68 \n",
       "  \"/>\n",
       "<polyline clip-path=\"url(#clip930)\" style=\"stroke:#000000; stroke-linecap:round; stroke-linejoin:round; stroke-width:4; stroke-opacity:1; fill:none\" points=\"\n",
       "  1521.46,1401.58 1521.46,1382.68 \n",
       "  \"/>\n",
       "<polyline clip-path=\"url(#clip930)\" style=\"stroke:#000000; stroke-linecap:round; stroke-linejoin:round; stroke-width:4; stroke-opacity:1; fill:none\" points=\"\n",
       "  1908.11,1401.58 1908.11,1382.68 \n",
       "  \"/>\n",
       "<polyline clip-path=\"url(#clip930)\" style=\"stroke:#000000; stroke-linecap:round; stroke-linejoin:round; stroke-width:4; stroke-opacity:1; fill:none\" points=\"\n",
       "  2294.76,1401.58 2294.76,1382.68 \n",
       "  \"/>\n",
       "<path clip-path=\"url(#clip930)\" d=\"M361.501 1438.36 Q356.084 1438.36 353.341 1443.71 Q350.633 1449.02 350.633 1459.71 Q350.633 1470.37 353.341 1475.72 Q356.084 1481.03 361.501 1481.03 Q366.952 1481.03 369.66 1475.72 Q372.403 1470.37 372.403 1459.71 Q372.403 1449.02 369.66 1443.71 Q366.952 1438.36 361.501 1438.36 M361.501 1432.8 Q370.216 1432.8 374.799 1439.71 Q379.417 1446.59 379.417 1459.71 Q379.417 1472.8 374.799 1479.71 Q370.216 1486.59 361.501 1486.59 Q352.785 1486.59 348.167 1479.71 Q343.584 1472.8 343.584 1459.71 Q343.584 1446.59 348.167 1439.71 Q352.785 1432.8 361.501 1432.8 Z\" fill=\"#000000\" fill-rule=\"evenodd\" fill-opacity=\"1\" /><path clip-path=\"url(#clip930)\" d=\"M733.725 1479.68 L745.183 1479.68 L745.183 1440.13 L732.718 1442.63 L732.718 1436.24 L745.114 1433.74 L752.128 1433.74 L752.128 1479.68 L763.586 1479.68 L763.586 1485.58 L733.725 1485.58 L733.725 1479.68 Z\" fill=\"#000000\" fill-rule=\"evenodd\" fill-opacity=\"1\" /><path clip-path=\"url(#clip930)\" d=\"M1126.78 1479.68 L1151.26 1479.68 L1151.26 1485.58 L1118.35 1485.58 L1118.35 1479.68 Q1122.34 1475.55 1129.21 1468.6 Q1136.12 1461.62 1137.89 1459.61 Q1141.26 1455.82 1142.58 1453.22 Q1143.94 1450.58 1143.94 1448.05 Q1143.94 1443.91 1141.02 1441.31 Q1138.14 1438.71 1133.48 1438.71 Q1130.19 1438.71 1126.51 1439.85 Q1122.86 1441 1118.69 1443.32 L1118.69 1436.24 Q1122.93 1434.54 1126.61 1433.67 Q1130.29 1432.8 1133.35 1432.8 Q1141.4 1432.8 1146.19 1436.83 Q1150.98 1440.86 1150.98 1447.59 Q1150.98 1450.79 1149.77 1453.67 Q1148.59 1456.52 1145.43 1460.41 Q1144.56 1461.41 1139.91 1466.24 Q1135.26 1471.03 1126.78 1479.68 Z\" fill=\"#000000\" fill-rule=\"evenodd\" fill-opacity=\"1\" /><path clip-path=\"url(#clip930)\" d=\"M1527.83 1457.63 Q1532.86 1458.7 1535.67 1462.11 Q1538.52 1465.51 1538.52 1470.51 Q1538.52 1478.18 1533.24 1482.39 Q1527.97 1486.59 1518.24 1486.59 Q1514.98 1486.59 1511.51 1485.93 Q1508.07 1485.3 1504.39 1484.02 L1504.39 1477.25 Q1507.31 1478.95 1510.78 1479.82 Q1514.25 1480.68 1518.04 1480.68 Q1524.63 1480.68 1528.07 1478.08 Q1531.54 1475.48 1531.54 1470.51 Q1531.54 1465.93 1528.31 1463.36 Q1525.12 1460.75 1519.39 1460.75 L1513.35 1460.75 L1513.35 1454.99 L1519.67 1454.99 Q1524.84 1454.99 1527.58 1452.94 Q1530.33 1450.86 1530.33 1446.97 Q1530.33 1442.98 1527.48 1440.86 Q1524.67 1438.71 1519.39 1438.71 Q1516.51 1438.71 1513.21 1439.33 Q1509.91 1439.96 1505.95 1441.27 L1505.95 1435.02 Q1509.94 1433.91 1513.42 1433.36 Q1516.92 1432.8 1520.01 1432.8 Q1528 1432.8 1532.65 1436.45 Q1537.31 1440.06 1537.31 1446.24 Q1537.31 1450.55 1534.84 1453.53 Q1532.38 1456.48 1527.83 1457.63 Z\" fill=\"#000000\" fill-rule=\"evenodd\" fill-opacity=\"1\" /><path clip-path=\"url(#clip930)\" d=\"M1912.62 1439.85 L1894.91 1467.52 L1912.62 1467.52 L1912.62 1439.85 M1910.78 1433.74 L1919.6 1433.74 L1919.6 1467.52 L1927 1467.52 L1927 1473.36 L1919.6 1473.36 L1919.6 1485.58 L1912.62 1485.58 L1912.62 1473.36 L1889.22 1473.36 L1889.22 1466.59 L1910.78 1433.74 Z\" fill=\"#000000\" fill-rule=\"evenodd\" fill-opacity=\"1\" /><path clip-path=\"url(#clip930)\" d=\"M2280.17 1433.74 L2307.71 1433.74 L2307.71 1439.64 L2286.6 1439.64 L2286.6 1452.35 Q2288.13 1451.83 2289.65 1451.59 Q2291.18 1451.31 2292.71 1451.31 Q2301.39 1451.31 2306.46 1456.07 Q2311.53 1460.82 2311.53 1468.95 Q2311.53 1477.32 2306.32 1481.97 Q2301.11 1486.59 2291.63 1486.59 Q2288.37 1486.59 2284.97 1486.03 Q2281.6 1485.48 2277.99 1484.36 L2277.99 1477.32 Q2281.11 1479.02 2284.45 1479.85 Q2287.78 1480.68 2291.49 1480.68 Q2297.5 1480.68 2301.01 1477.52 Q2304.52 1474.36 2304.52 1468.95 Q2304.52 1463.53 2301.01 1460.37 Q2297.5 1457.21 2291.49 1457.21 Q2288.68 1457.21 2285.87 1457.84 Q2283.09 1458.46 2280.17 1459.78 L2280.17 1433.74 Z\" fill=\"#000000\" fill-rule=\"evenodd\" fill-opacity=\"1\" /><path clip-path=\"url(#clip930)\" d=\"M1271.74 1527.62 L1271.74 1538.66 L1284.9 1538.66 L1284.9 1543.62 L1271.74 1543.62 L1271.74 1564.74 Q1271.74 1569.49 1273.03 1570.85 Q1274.35 1572.2 1278.34 1572.2 L1284.9 1572.2 L1284.9 1577.55 L1278.34 1577.55 Q1270.94 1577.55 1268.13 1574.8 Q1265.32 1572.03 1265.32 1564.74 L1265.32 1543.62 L1260.63 1543.62 L1260.63 1538.66 L1265.32 1538.66 L1265.32 1527.62 L1271.74 1527.62 Z\" fill=\"#000000\" fill-rule=\"evenodd\" fill-opacity=\"1\" /><path clip-path=\"url(#clip930)\" d=\"M1315.32 1523.52 L1330.04 1523.52 L1330.04 1528.49 L1321.71 1528.49 L1321.71 1581.96 L1330.04 1581.96 L1330.04 1586.92 L1315.32 1586.92 L1315.32 1523.52 Z\" fill=\"#000000\" fill-rule=\"evenodd\" fill-opacity=\"1\" /><path clip-path=\"url(#clip930)\" d=\"M1368.44 1539.8 L1368.44 1545.85 Q1365.73 1544.46 1362.82 1543.76 Q1359.9 1543.07 1356.78 1543.07 Q1352.02 1543.07 1349.62 1544.53 Q1347.26 1545.99 1347.26 1548.9 Q1347.26 1551.12 1348.96 1552.41 Q1350.66 1553.66 1355.8 1554.8 L1357.99 1555.29 Q1364.8 1556.75 1367.64 1559.42 Q1370.53 1562.06 1370.53 1566.82 Q1370.53 1572.24 1366.22 1575.4 Q1361.95 1578.55 1354.45 1578.55 Q1351.32 1578.55 1347.92 1577.93 Q1344.55 1577.34 1340.8 1576.12 L1340.8 1569.53 Q1344.34 1571.37 1347.78 1572.3 Q1351.22 1573.21 1354.59 1573.21 Q1359.1 1573.21 1361.53 1571.68 Q1363.96 1570.12 1363.96 1567.3 Q1363.96 1564.7 1362.19 1563.31 Q1360.46 1561.92 1354.52 1560.64 L1352.3 1560.12 Q1346.36 1558.87 1343.72 1556.3 Q1341.08 1553.69 1341.08 1549.18 Q1341.08 1543.69 1344.97 1540.71 Q1348.86 1537.72 1356.01 1537.72 Q1359.55 1537.72 1362.68 1538.24 Q1365.8 1538.76 1368.44 1539.8 Z\" fill=\"#000000\" fill-rule=\"evenodd\" fill-opacity=\"1\" /><path clip-path=\"url(#clip930)\" d=\"M1395.63 1523.52 L1395.63 1586.92 L1380.91 1586.92 L1380.91 1581.96 L1389.21 1581.96 L1389.21 1528.49 L1380.91 1528.49 L1380.91 1523.52 L1395.63 1523.52 Z\" fill=\"#000000\" fill-rule=\"evenodd\" fill-opacity=\"1\" /><polyline clip-path=\"url(#clip932)\" style=\"stroke:#000000; stroke-linecap:round; stroke-linejoin:round; stroke-width:2; stroke-opacity:0.1; fill:none\" points=\"\n",
       "  303.503,1363.02 2352.76,1363.02 \n",
       "  \"/>\n",
       "<polyline clip-path=\"url(#clip932)\" style=\"stroke:#000000; stroke-linecap:round; stroke-linejoin:round; stroke-width:2; stroke-opacity:0.1; fill:none\" points=\"\n",
       "  303.503,1096.97 2352.76,1096.97 \n",
       "  \"/>\n",
       "<polyline clip-path=\"url(#clip932)\" style=\"stroke:#000000; stroke-linecap:round; stroke-linejoin:round; stroke-width:2; stroke-opacity:0.1; fill:none\" points=\"\n",
       "  303.503,830.926 2352.76,830.926 \n",
       "  \"/>\n",
       "<polyline clip-path=\"url(#clip932)\" style=\"stroke:#000000; stroke-linecap:round; stroke-linejoin:round; stroke-width:2; stroke-opacity:0.1; fill:none\" points=\"\n",
       "  303.503,564.878 2352.76,564.878 \n",
       "  \"/>\n",
       "<polyline clip-path=\"url(#clip932)\" style=\"stroke:#000000; stroke-linecap:round; stroke-linejoin:round; stroke-width:2; stroke-opacity:0.1; fill:none\" points=\"\n",
       "  303.503,298.829 2352.76,298.829 \n",
       "  \"/>\n",
       "<polyline clip-path=\"url(#clip930)\" style=\"stroke:#000000; stroke-linecap:round; stroke-linejoin:round; stroke-width:4; stroke-opacity:1; fill:none\" points=\"\n",
       "  303.503,1401.58 303.503,47.2441 \n",
       "  \"/>\n",
       "<polyline clip-path=\"url(#clip930)\" style=\"stroke:#000000; stroke-linecap:round; stroke-linejoin:round; stroke-width:4; stroke-opacity:1; fill:none\" points=\"\n",
       "  303.503,1363.02 322.401,1363.02 \n",
       "  \"/>\n",
       "<polyline clip-path=\"url(#clip930)\" style=\"stroke:#000000; stroke-linecap:round; stroke-linejoin:round; stroke-width:4; stroke-opacity:1; fill:none\" points=\"\n",
       "  303.503,1096.97 322.401,1096.97 \n",
       "  \"/>\n",
       "<polyline clip-path=\"url(#clip930)\" style=\"stroke:#000000; stroke-linecap:round; stroke-linejoin:round; stroke-width:4; stroke-opacity:1; fill:none\" points=\"\n",
       "  303.503,830.926 322.401,830.926 \n",
       "  \"/>\n",
       "<polyline clip-path=\"url(#clip930)\" style=\"stroke:#000000; stroke-linecap:round; stroke-linejoin:round; stroke-width:4; stroke-opacity:1; fill:none\" points=\"\n",
       "  303.503,564.878 322.401,564.878 \n",
       "  \"/>\n",
       "<polyline clip-path=\"url(#clip930)\" style=\"stroke:#000000; stroke-linecap:round; stroke-linejoin:round; stroke-width:4; stroke-opacity:1; fill:none\" points=\"\n",
       "  303.503,298.829 322.401,298.829 \n",
       "  \"/>\n",
       "<path clip-path=\"url(#clip930)\" d=\"M136.497 1341.72 Q131.08 1341.72 128.337 1347.07 Q125.629 1352.38 125.629 1363.08 Q125.629 1373.73 128.337 1379.08 Q131.08 1384.39 136.497 1384.39 Q141.948 1384.39 144.656 1379.08 Q147.399 1373.73 147.399 1363.08 Q147.399 1352.38 144.656 1347.07 Q141.948 1341.72 136.497 1341.72 M136.497 1336.17 Q145.212 1336.17 149.795 1343.08 Q154.413 1349.95 154.413 1363.08 Q154.413 1376.17 149.795 1383.08 Q145.212 1389.95 136.497 1389.95 Q127.781 1389.95 123.163 1383.08 Q118.58 1376.17 118.58 1363.08 Q118.58 1349.95 123.163 1343.08 Q127.781 1336.17 136.497 1336.17 Z\" fill=\"#000000\" fill-rule=\"evenodd\" fill-opacity=\"1\" /><path clip-path=\"url(#clip930)\" d=\"M166.74 1380.12 L174.066 1380.12 L174.066 1388.94 L166.74 1388.94 L166.74 1380.12 Z\" fill=\"#000000\" fill-rule=\"evenodd\" fill-opacity=\"1\" /><path clip-path=\"url(#clip930)\" d=\"M189.413 1337.1 L216.948 1337.1 L216.948 1343.01 L195.837 1343.01 L195.837 1355.71 Q197.364 1355.19 198.892 1354.95 Q200.42 1354.67 201.948 1354.67 Q210.628 1354.67 215.698 1359.43 Q220.767 1364.19 220.767 1372.31 Q220.767 1380.68 215.559 1385.33 Q210.35 1389.95 200.871 1389.95 Q197.608 1389.95 194.205 1389.39 Q190.837 1388.84 187.226 1387.73 L187.226 1380.68 Q190.351 1382.38 193.684 1383.21 Q197.017 1384.05 200.732 1384.05 Q206.739 1384.05 210.246 1380.89 Q213.753 1377.73 213.753 1372.31 Q213.753 1366.89 210.246 1363.73 Q206.739 1360.58 200.732 1360.58 Q197.92 1360.58 195.108 1361.2 Q192.33 1361.83 189.413 1363.14 L189.413 1337.1 Z\" fill=\"#000000\" fill-rule=\"evenodd\" fill-opacity=\"1\" /><path clip-path=\"url(#clip930)\" d=\"M249.586 1341.72 Q244.17 1341.72 241.427 1347.07 Q238.718 1352.38 238.718 1363.08 Q238.718 1373.73 241.427 1379.08 Q244.17 1384.39 249.586 1384.39 Q255.038 1384.39 257.746 1379.08 Q260.489 1373.73 260.489 1363.08 Q260.489 1352.38 257.746 1347.07 Q255.038 1341.72 249.586 1341.72 M249.586 1336.17 Q258.302 1336.17 262.885 1343.08 Q267.503 1349.95 267.503 1363.08 Q267.503 1376.17 262.885 1383.08 Q258.302 1389.95 249.586 1389.95 Q240.871 1389.95 236.253 1383.08 Q231.67 1376.17 231.67 1363.08 Q231.67 1349.95 236.253 1343.08 Q240.871 1336.17 249.586 1336.17 Z\" fill=\"#000000\" fill-rule=\"evenodd\" fill-opacity=\"1\" /><path clip-path=\"url(#clip930)\" d=\"M137.99 1075.67 Q132.573 1075.67 129.83 1081.02 Q127.122 1086.33 127.122 1097.03 Q127.122 1107.69 129.83 1113.03 Q132.573 1118.35 137.99 1118.35 Q143.441 1118.35 146.149 1113.03 Q148.892 1107.69 148.892 1097.03 Q148.892 1086.33 146.149 1081.02 Q143.441 1075.67 137.99 1075.67 M137.99 1070.12 Q146.705 1070.12 151.288 1077.03 Q155.906 1083.9 155.906 1097.03 Q155.906 1110.12 151.288 1117.03 Q146.705 1123.9 137.99 1123.9 Q129.275 1123.9 124.657 1117.03 Q120.073 1110.12 120.073 1097.03 Q120.073 1083.9 124.657 1077.03 Q129.275 1070.12 137.99 1070.12 Z\" fill=\"#000000\" fill-rule=\"evenodd\" fill-opacity=\"1\" /><path clip-path=\"url(#clip930)\" d=\"M168.233 1114.08 L175.559 1114.08 L175.559 1122.89 L168.233 1122.89 L168.233 1114.08 Z\" fill=\"#000000\" fill-rule=\"evenodd\" fill-opacity=\"1\" /><path clip-path=\"url(#clip930)\" d=\"M189.066 1071.05 L222.399 1071.05 L222.399 1074.04 L203.58 1122.89 L196.253 1122.89 L213.962 1076.96 L189.066 1076.96 L189.066 1071.05 Z\" fill=\"#000000\" fill-rule=\"evenodd\" fill-opacity=\"1\" /><path clip-path=\"url(#clip930)\" d=\"M236.149 1071.05 L263.684 1071.05 L263.684 1076.96 L242.573 1076.96 L242.573 1089.67 Q244.1 1089.14 245.628 1088.9 Q247.156 1088.62 248.684 1088.62 Q257.364 1088.62 262.434 1093.38 Q267.503 1098.14 267.503 1106.26 Q267.503 1114.63 262.295 1119.28 Q257.086 1123.9 247.607 1123.9 Q244.343 1123.9 240.941 1123.35 Q237.573 1122.79 233.961 1121.68 L233.961 1114.63 Q237.086 1116.33 240.42 1117.17 Q243.753 1118 247.468 1118 Q253.475 1118 256.982 1114.84 Q260.489 1111.68 260.489 1106.26 Q260.489 1100.85 256.982 1097.69 Q253.475 1094.53 247.468 1094.53 Q244.656 1094.53 241.843 1095.15 Q239.066 1095.78 236.149 1097.1 L236.149 1071.05 Z\" fill=\"#000000\" fill-rule=\"evenodd\" fill-opacity=\"1\" /><path clip-path=\"url(#clip930)\" d=\"M122.712 850.943 L134.17 850.943 L134.17 811.395 L121.705 813.895 L121.705 807.506 L134.101 805.006 L141.115 805.006 L141.115 850.943 L152.573 850.943 L152.573 856.846 L122.712 856.846 L122.712 850.943 Z\" fill=\"#000000\" fill-rule=\"evenodd\" fill-opacity=\"1\" /><path clip-path=\"url(#clip930)\" d=\"M166.74 848.027 L174.066 848.027 L174.066 856.846 L166.74 856.846 L166.74 848.027 Z\" fill=\"#000000\" fill-rule=\"evenodd\" fill-opacity=\"1\" /><path clip-path=\"url(#clip930)\" d=\"M204.344 809.624 Q198.927 809.624 196.184 814.971 Q193.476 820.284 193.476 830.978 Q193.476 841.638 196.184 846.985 Q198.927 852.298 204.344 852.298 Q209.795 852.298 212.503 846.985 Q215.246 841.638 215.246 830.978 Q215.246 820.284 212.503 814.971 Q209.795 809.624 204.344 809.624 M204.344 804.069 Q213.059 804.069 217.642 810.978 Q222.26 817.853 222.26 830.978 Q222.26 844.068 217.642 850.978 Q213.059 857.853 204.344 857.853 Q195.628 857.853 191.01 850.978 Q186.427 844.068 186.427 830.978 Q186.427 817.853 191.01 810.978 Q195.628 804.069 204.344 804.069 Z\" fill=\"#000000\" fill-rule=\"evenodd\" fill-opacity=\"1\" /><path clip-path=\"url(#clip930)\" d=\"M249.586 809.624 Q244.17 809.624 241.427 814.971 Q238.718 820.284 238.718 830.978 Q238.718 841.638 241.427 846.985 Q244.17 852.298 249.586 852.298 Q255.038 852.298 257.746 846.985 Q260.489 841.638 260.489 830.978 Q260.489 820.284 257.746 814.971 Q255.038 809.624 249.586 809.624 M249.586 804.069 Q258.302 804.069 262.885 810.978 Q267.503 817.853 267.503 830.978 Q267.503 844.068 262.885 850.978 Q258.302 857.853 249.586 857.853 Q240.871 857.853 236.253 850.978 Q231.67 844.068 231.67 830.978 Q231.67 817.853 236.253 810.978 Q240.871 804.069 249.586 804.069 Z\" fill=\"#000000\" fill-rule=\"evenodd\" fill-opacity=\"1\" /><path clip-path=\"url(#clip930)\" d=\"M124.205 584.895 L135.663 584.895 L135.663 545.347 L123.198 547.846 L123.198 541.458 L135.594 538.958 L142.608 538.958 L142.608 584.895 L154.066 584.895 L154.066 590.798 L124.205 590.798 L124.205 584.895 Z\" fill=\"#000000\" fill-rule=\"evenodd\" fill-opacity=\"1\" /><path clip-path=\"url(#clip930)\" d=\"M168.233 581.978 L175.559 581.978 L175.559 590.798 L168.233 590.798 L168.233 581.978 Z\" fill=\"#000000\" fill-rule=\"evenodd\" fill-opacity=\"1\" /><path clip-path=\"url(#clip930)\" d=\"M196.878 584.895 L221.357 584.895 L221.357 590.798 L188.441 590.798 L188.441 584.895 Q192.434 580.763 199.309 573.819 Q206.219 566.839 207.989 564.826 Q211.357 561.041 212.677 558.437 Q214.031 555.798 214.031 553.263 Q214.031 549.131 211.114 546.527 Q208.232 543.923 203.58 543.923 Q200.281 543.923 196.601 545.069 Q192.955 546.215 188.788 548.541 L188.788 541.458 Q193.024 539.756 196.705 538.888 Q200.385 538.02 203.441 538.02 Q211.496 538.02 216.288 542.048 Q221.08 546.076 221.08 552.812 Q221.08 556.006 219.864 558.888 Q218.684 561.735 215.524 565.624 Q214.656 566.631 210.003 571.457 Q205.351 576.249 196.878 584.895 Z\" fill=\"#000000\" fill-rule=\"evenodd\" fill-opacity=\"1\" /><path clip-path=\"url(#clip930)\" d=\"M236.149 538.958 L263.684 538.958 L263.684 544.86 L242.573 544.86 L242.573 557.569 Q244.1 557.048 245.628 556.805 Q247.156 556.527 248.684 556.527 Q257.364 556.527 262.434 561.284 Q267.503 566.041 267.503 574.166 Q267.503 582.534 262.295 587.187 Q257.086 591.805 247.607 591.805 Q244.343 591.805 240.941 591.249 Q237.573 590.693 233.961 589.582 L233.961 582.534 Q237.086 584.235 240.42 585.069 Q243.753 585.902 247.468 585.902 Q253.475 585.902 256.982 582.742 Q260.489 579.582 260.489 574.166 Q260.489 568.749 256.982 565.589 Q253.475 562.43 247.468 562.43 Q244.656 562.43 241.843 563.055 Q239.066 563.68 236.149 564.999 L236.149 538.958 Z\" fill=\"#000000\" fill-rule=\"evenodd\" fill-opacity=\"1\" /><path clip-path=\"url(#clip930)\" d=\"M122.712 318.846 L134.17 318.846 L134.17 279.298 L121.705 281.798 L121.705 275.409 L134.101 272.909 L141.115 272.909 L141.115 318.846 L152.573 318.846 L152.573 324.749 L122.712 324.749 L122.712 318.846 Z\" fill=\"#000000\" fill-rule=\"evenodd\" fill-opacity=\"1\" /><path clip-path=\"url(#clip930)\" d=\"M166.74 315.93 L174.066 315.93 L174.066 324.749 L166.74 324.749 L166.74 315.93 Z\" fill=\"#000000\" fill-rule=\"evenodd\" fill-opacity=\"1\" /><path clip-path=\"url(#clip930)\" d=\"M189.413 272.909 L216.948 272.909 L216.948 278.812 L195.837 278.812 L195.837 291.52 Q197.364 290.999 198.892 290.756 Q200.42 290.479 201.948 290.479 Q210.628 290.479 215.698 295.235 Q220.767 299.992 220.767 308.117 Q220.767 316.485 215.559 321.138 Q210.35 325.756 200.871 325.756 Q197.608 325.756 194.205 325.201 Q190.837 324.645 187.226 323.534 L187.226 316.485 Q190.351 318.187 193.684 319.02 Q197.017 319.853 200.732 319.853 Q206.739 319.853 210.246 316.694 Q213.753 313.534 213.753 308.117 Q213.753 302.701 210.246 299.541 Q206.739 296.381 200.732 296.381 Q197.92 296.381 195.108 297.006 Q192.33 297.631 189.413 298.951 L189.413 272.909 Z\" fill=\"#000000\" fill-rule=\"evenodd\" fill-opacity=\"1\" /><path clip-path=\"url(#clip930)\" d=\"M249.586 277.527 Q244.17 277.527 241.427 282.874 Q238.718 288.187 238.718 298.881 Q238.718 309.541 241.427 314.888 Q244.17 320.201 249.586 320.201 Q255.038 320.201 257.746 314.888 Q260.489 309.541 260.489 298.881 Q260.489 288.187 257.746 282.874 Q255.038 277.527 249.586 277.527 M249.586 271.972 Q258.302 271.972 262.885 278.881 Q267.503 285.756 267.503 298.881 Q267.503 311.971 262.885 318.881 Q258.302 325.756 249.586 325.756 Q240.871 325.756 236.253 318.881 Q231.67 311.971 231.67 298.881 Q231.67 285.756 236.253 278.881 Q240.871 271.972 249.586 271.972 Z\" fill=\"#000000\" fill-rule=\"evenodd\" fill-opacity=\"1\" /><path clip-path=\"url(#clip930)\" d=\"M35.6047 1006.89 Q31.2992 1004.5 29.2506 1001.16 Q27.202 997.831 27.202 993.317 Q27.202 987.24 31.4728 983.942 Q35.7089 980.643 43.5561 980.643 L67.0282 980.643 L67.0282 987.067 L43.7644 987.067 Q38.1741 987.067 35.4658 989.046 Q32.7575 991.025 32.7575 995.088 Q32.7575 1000.05 36.0561 1002.93 Q39.3547 1005.82 45.0491 1005.82 L67.0282 1005.82 L67.0282 1012.24 L43.7644 1012.24 Q38.1394 1012.24 35.4658 1014.22 Q32.7575 1016.2 32.7575 1020.33 Q32.7575 1025.23 36.0908 1028.11 Q39.3894 1030.99 45.0491 1030.99 L67.0282 1030.99 L67.0282 1037.41 L28.1395 1037.41 L28.1395 1030.99 L34.1811 1030.99 Q30.6047 1028.8 28.9034 1025.75 Q27.202 1022.69 27.202 1018.49 Q27.202 1014.25 29.3547 1011.3 Q31.5075 1008.32 35.6047 1006.89 Z\" fill=\"#000000\" fill-rule=\"evenodd\" fill-opacity=\"1\" /><path clip-path=\"url(#clip930)\" d=\"M47.4797 950.227 Q47.4797 957.97 49.2505 960.956 Q51.0213 963.942 55.2921 963.942 Q58.6949 963.942 60.7087 961.72 Q62.6879 959.463 62.6879 955.609 Q62.6879 950.296 58.9379 947.102 Q55.1532 943.873 48.9033 943.873 L47.4797 943.873 L47.4797 950.227 M44.8408 937.484 L67.0282 937.484 L67.0282 943.873 L61.1254 943.873 Q64.6671 946.06 66.3684 949.324 Q68.0351 952.588 68.0351 957.31 Q68.0351 963.282 64.7018 966.824 Q61.3337 970.331 55.7088 970.331 Q49.1463 970.331 45.813 965.956 Q42.4797 961.546 42.4797 952.831 L42.4797 943.873 L41.8547 943.873 Q37.445 943.873 35.0492 946.789 Q32.6186 949.671 32.6186 954.914 Q32.6186 958.248 33.4172 961.407 Q34.2158 964.567 35.813 967.484 L29.9103 967.484 Q28.5561 963.977 27.8964 960.678 Q27.202 957.379 27.202 954.254 Q27.202 945.817 31.577 941.65 Q35.9519 937.484 44.8408 937.484 Z\" fill=\"#000000\" fill-rule=\"evenodd\" fill-opacity=\"1\" /><path clip-path=\"url(#clip930)\" d=\"M29.2853 899.533 L35.3269 899.533 Q33.9381 902.241 33.2436 905.158 Q32.5492 908.074 32.5492 911.199 Q32.5492 915.956 34.0075 918.352 Q35.4658 920.713 38.3825 920.713 Q40.6047 920.713 41.8894 919.012 Q43.1394 917.31 44.2852 912.171 L44.7713 909.984 Q46.2297 903.178 48.9033 900.331 Q51.5421 897.449 56.299 897.449 Q61.7157 897.449 64.8754 901.755 Q68.0351 906.026 68.0351 913.526 Q68.0351 916.651 67.4101 920.053 Q66.8198 923.421 65.6046 927.171 L59.0074 927.171 Q60.8476 923.63 61.7851 920.192 Q62.6879 916.755 62.6879 913.387 Q62.6879 908.873 61.1601 906.442 Q59.5976 904.012 56.7852 904.012 Q54.181 904.012 52.7921 905.783 Q51.4032 907.519 50.1185 913.456 L49.5977 915.678 Q48.3477 921.616 45.7783 924.255 Q43.1741 926.894 38.6603 926.894 Q33.1742 926.894 30.1881 923.005 Q27.202 919.116 27.202 911.963 Q27.202 908.421 27.7228 905.296 Q28.2436 902.171 29.2853 899.533 Z\" fill=\"#000000\" fill-rule=\"evenodd\" fill-opacity=\"1\" /><path clip-path=\"url(#clip930)\" d=\"M29.2853 862.484 L35.3269 862.484 Q33.9381 865.192 33.2436 868.109 Q32.5492 871.026 32.5492 874.151 Q32.5492 878.908 34.0075 881.303 Q35.4658 883.665 38.3825 883.665 Q40.6047 883.665 41.8894 881.963 Q43.1394 880.262 44.2852 875.123 L44.7713 872.935 Q46.2297 866.13 48.9033 863.283 Q51.5421 860.401 56.299 860.401 Q61.7157 860.401 64.8754 864.706 Q68.0351 868.977 68.0351 876.477 Q68.0351 879.602 67.4101 883.005 Q66.8198 886.373 65.6046 890.123 L59.0074 890.123 Q60.8476 886.581 61.7851 883.144 Q62.6879 879.706 62.6879 876.338 Q62.6879 871.824 61.1601 869.394 Q59.5976 866.963 56.7852 866.963 Q54.181 866.963 52.7921 868.734 Q51.4032 870.47 50.1185 876.408 L49.5977 878.63 Q48.3477 884.567 45.7783 887.206 Q43.1741 889.845 38.6603 889.845 Q33.1742 889.845 30.1881 885.956 Q27.202 882.067 27.202 874.915 Q27.202 871.373 27.7228 868.248 Q28.2436 865.123 29.2853 862.484 Z\" fill=\"#000000\" fill-rule=\"evenodd\" fill-opacity=\"1\" /><path clip-path=\"url(#clip930)\" d=\"M61.1949 821.443 L81.8197 821.443 L81.8197 827.866 L28.1395 827.866 L28.1395 821.443 L34.0422 821.443 Q30.57 819.429 28.9034 816.373 Q27.202 813.283 27.202 809.012 Q27.202 801.929 32.827 797.519 Q38.4519 793.075 47.6185 793.075 Q56.7852 793.075 62.4101 797.519 Q68.0351 801.929 68.0351 809.012 Q68.0351 813.283 66.3684 816.373 Q64.6671 819.429 61.1949 821.443 M47.6185 799.707 Q40.57 799.707 36.5769 802.623 Q32.5492 805.505 32.5492 810.575 Q32.5492 815.644 36.5769 818.561 Q40.57 821.443 47.6185 821.443 Q54.6671 821.443 58.6949 818.561 Q62.6879 815.644 62.6879 810.575 Q62.6879 805.505 58.6949 802.623 Q54.6671 799.707 47.6185 799.707 Z\" fill=\"#000000\" fill-rule=\"evenodd\" fill-opacity=\"1\" /><path clip-path=\"url(#clip930)\" d=\"M32.6186 767.415 Q32.6186 772.554 36.6464 775.54 Q40.6394 778.526 47.6185 778.526 Q54.5977 778.526 58.6254 775.575 Q62.6185 772.589 62.6185 767.415 Q62.6185 762.311 58.5907 759.325 Q54.5629 756.339 47.6185 756.339 Q40.7089 756.339 36.6811 759.325 Q32.6186 762.311 32.6186 767.415 M27.202 767.415 Q27.202 759.082 32.6186 754.325 Q38.0353 749.568 47.6185 749.568 Q57.1671 749.568 62.6185 754.325 Q68.0351 759.082 68.0351 767.415 Q68.0351 775.783 62.6185 780.54 Q57.1671 785.262 47.6185 785.262 Q38.0353 785.262 32.6186 780.54 Q27.202 775.783 27.202 767.415 Z\" fill=\"#000000\" fill-rule=\"evenodd\" fill-opacity=\"1\" /><path clip-path=\"url(#clip930)\" d=\"M29.2853 714.186 L35.3269 714.186 Q33.9381 716.895 33.2436 719.811 Q32.5492 722.728 32.5492 725.853 Q32.5492 730.61 34.0075 733.006 Q35.4658 735.367 38.3825 735.367 Q40.6047 735.367 41.8894 733.665 Q43.1394 731.964 44.2852 726.825 L44.7713 724.638 Q46.2297 717.832 48.9033 714.985 Q51.5421 712.103 56.299 712.103 Q61.7157 712.103 64.8754 716.409 Q68.0351 720.679 68.0351 728.179 Q68.0351 731.304 67.4101 734.707 Q66.8198 738.075 65.6046 741.825 L59.0074 741.825 Q60.8476 738.283 61.7851 734.846 Q62.6879 731.408 62.6879 728.04 Q62.6879 723.527 61.1601 721.096 Q59.5976 718.665 56.7852 718.665 Q54.181 718.665 52.7921 720.436 Q51.4032 722.172 50.1185 728.11 L49.5977 730.332 Q48.3477 736.27 45.7783 738.908 Q43.1741 741.547 38.6603 741.547 Q33.1742 741.547 30.1881 737.658 Q27.202 733.77 27.202 726.617 Q27.202 723.075 27.7228 719.95 Q28.2436 716.825 29.2853 714.186 Z\" fill=\"#000000\" fill-rule=\"evenodd\" fill-opacity=\"1\" /><path clip-path=\"url(#clip930)\" d=\"M28.1395 701.929 L28.1395 695.541 L67.0282 695.541 L67.0282 701.929 L28.1395 701.929 M13.0007 701.929 L13.0007 695.541 L21.0909 695.541 L21.0909 701.929 L13.0007 701.929 Z\" fill=\"#000000\" fill-rule=\"evenodd\" fill-opacity=\"1\" /><path clip-path=\"url(#clip930)\" d=\"M17.0979 675.853 L28.1395 675.853 L28.1395 662.694 L33.1047 662.694 L33.1047 675.853 L54.2157 675.853 Q58.9726 675.853 60.3268 674.568 Q61.681 673.249 61.681 669.256 L61.681 662.694 L67.0282 662.694 L67.0282 669.256 Q67.0282 676.652 64.2851 679.464 Q61.5074 682.277 54.2157 682.277 L33.1047 682.277 L33.1047 686.964 L28.1395 686.964 L28.1395 682.277 L17.0979 682.277 L17.0979 675.853 Z\" fill=\"#000000\" fill-rule=\"evenodd\" fill-opacity=\"1\" /><path clip-path=\"url(#clip930)\" d=\"M28.1395 654.291 L28.1395 647.902 L67.0282 647.902 L67.0282 654.291 L28.1395 654.291 M13.0007 654.291 L13.0007 647.902 L21.0909 647.902 L21.0909 654.291 L13.0007 654.291 Z\" fill=\"#000000\" fill-rule=\"evenodd\" fill-opacity=\"1\" /><path clip-path=\"url(#clip930)\" d=\"M32.6186 619.465 Q32.6186 624.603 36.6464 627.59 Q40.6394 630.576 47.6185 630.576 Q54.5977 630.576 58.6254 627.624 Q62.6185 624.638 62.6185 619.465 Q62.6185 614.36 58.5907 611.374 Q54.5629 608.388 47.6185 608.388 Q40.7089 608.388 36.6811 611.374 Q32.6186 614.36 32.6186 619.465 M27.202 619.465 Q27.202 611.131 32.6186 606.374 Q38.0353 601.617 47.6185 601.617 Q57.1671 601.617 62.6185 606.374 Q68.0351 611.131 68.0351 619.465 Q68.0351 627.833 62.6185 632.59 Q57.1671 637.312 47.6185 637.312 Q38.0353 637.312 32.6186 632.59 Q27.202 627.833 27.202 619.465 Z\" fill=\"#000000\" fill-rule=\"evenodd\" fill-opacity=\"1\" /><path clip-path=\"url(#clip930)\" d=\"M43.5561 558.701 L67.0282 558.701 L67.0282 565.09 L43.7644 565.09 Q38.2436 565.09 35.5005 567.243 Q32.7575 569.395 32.7575 573.701 Q32.7575 578.875 36.0561 581.861 Q39.3547 584.847 45.0491 584.847 L67.0282 584.847 L67.0282 591.27 L28.1395 591.27 L28.1395 584.847 L34.1811 584.847 Q30.6742 582.555 28.9381 579.465 Q27.202 576.34 27.202 572.277 Q27.202 565.576 31.3686 562.139 Q35.5005 558.701 43.5561 558.701 Z\" fill=\"#000000\" fill-rule=\"evenodd\" fill-opacity=\"1\" /><path clip-path=\"url(#clip930)\" d=\"M13.0007 523.944 L13.0007 509.222 L17.9659 509.222 L17.9659 517.555 L71.4379 517.555 L71.4379 509.222 L76.4031 509.222 L76.4031 523.944 L13.0007 523.944 Z\" fill=\"#000000\" fill-rule=\"evenodd\" fill-opacity=\"1\" /><path clip-path=\"url(#clip930)\" d=\"M35.6047 465.333 Q31.2992 462.938 29.2506 459.604 Q27.202 456.271 27.202 451.757 Q27.202 445.681 31.4728 442.382 Q35.7089 439.084 43.5561 439.084 L67.0282 439.084 L67.0282 445.507 L43.7644 445.507 Q38.1741 445.507 35.4658 447.486 Q32.7575 449.466 32.7575 453.528 Q32.7575 458.493 36.0561 461.375 Q39.3547 464.257 45.0491 464.257 L67.0282 464.257 L67.0282 470.681 L43.7644 470.681 Q38.1394 470.681 35.4658 472.66 Q32.7575 474.639 32.7575 478.771 Q32.7575 483.667 36.0908 486.549 Q39.3894 489.431 45.0491 489.431 L67.0282 489.431 L67.0282 495.854 L28.1395 495.854 L28.1395 489.431 L34.1811 489.431 Q30.6047 487.243 28.9034 484.188 Q27.202 481.132 27.202 476.931 Q27.202 472.695 29.3547 469.743 Q31.5075 466.757 35.6047 465.333 Z\" fill=\"#000000\" fill-rule=\"evenodd\" fill-opacity=\"1\" /><path clip-path=\"url(#clip930)\" d=\"M13.0007 411.41 L76.4031 411.41 L76.4031 426.132 L71.4379 426.132 L71.4379 417.834 L17.9659 417.834 L17.9659 426.132 L13.0007 426.132 L13.0007 411.41 Z\" fill=\"#000000\" fill-rule=\"evenodd\" fill-opacity=\"1\" /><polyline clip-path=\"url(#clip932)\" style=\"stroke:#009af9; stroke-linecap:round; stroke-linejoin:round; stroke-width:8; stroke-opacity:1; fill:none\" points=\"\n",
       "  361.501,1363.02 400.166,1331.34 438.831,1239.54 477.496,1096.7 516.161,916.94 554.826,717.934 593.492,519.485 632.157,341.362 670.822,201.271 709.487,113.085 \n",
       "  748.152,85.5744 786.817,121.468 825.482,217.213 864.148,363.313 902.813,545.265 941.478,745.027 980.143,942.762 1018.81,1118.86 1057.47,1255.83 1096.14,1340.08 \n",
       "  1134.8,1363.25 1173.47,1323.03 1212.13,1223.41 1250.8,1074.27 1289.46,890.399 1328.13,690.058 1366.79,493.114 1405.46,319.126 1444.12,185.346 1482.79,105.071 \n",
       "  1521.46,86.2574 1560.12,130.787 1598.79,234.243 1637.45,386.358 1676.12,572.052 1714.78,772.881 1753.45,968.936 1792.11,1140.74 1830.78,1271.26 1869.44,1347.52 \n",
       "  1908.11,1361.96 1946.77,1313.14 1985.44,1205.89 2024.1,1050.87 2062.77,863.443 2101.43,662.215 2140.1,467.15 2178.76,297.612 2217.43,170.425 2256.09,98.2167 \n",
       "  2294.76,88.1573 \n",
       "  \"/>\n",
       "<polyline clip-path=\"url(#clip932)\" style=\"stroke:#e26f46; stroke-linecap:round; stroke-linejoin:round; stroke-width:8; stroke-opacity:1; fill:none\" points=\"\n",
       "  361.501,1363.02 400.166,1340 438.831,1271.82 477.496,1164.1 516.161,1027.11 554.826,874.165 593.492,720.438 632.157,581.369 670.822,470.861 709.487,400.228 \n",
       "  748.152,377.604 786.817,399.031 825.482,457.754 864.148,549.143 902.813,664.659 941.478,792.99 980.143,921.437 1018.81,1037.23 1057.47,1128.72 1096.14,1186.39 \n",
       "  1134.8,1203.26 1173.47,1184.78 1212.13,1136.99 1250.8,1063.53 1289.46,971.135 1328.13,868.754 1366.79,766.411 1405.46,674.351 1444.12,602.002 1482.79,557.13 \n",
       "  1521.46,545.246 1560.12,559.369 1598.79,594.205 1637.45,647.284 1676.12,713.954 1714.78,787.948 1753.45,861.991 1792.11,928.663 1830.78,981.059 1869.44,1013.38 \n",
       "  1908.11,1021.44 1946.77,1013.39 1985.44,994.11 2024.1,964.79 2062.77,927.844 2101.43,886.569 2140.1,844.957 2178.76,807.201 2217.43,777.324 2256.09,758.815 \n",
       "  2294.76,754.091 \n",
       "  \"/>\n",
       "<polyline clip-path=\"url(#clip932)\" style=\"stroke:#3da44d; stroke-linecap:round; stroke-linejoin:round; stroke-width:8; stroke-opacity:1; fill:none\" points=\"\n",
       "  361.501,1363.02 400.166,1327.89 438.831,1257.71 477.496,1154.69 516.161,1022 554.826,855.766 593.492,700.879 632.157,566.622 670.822,465.097 709.487,403.683 \n",
       "  748.152,385.385 786.817,409.898 825.482,475.935 864.148,586.326 902.813,729.178 941.478,850.621 980.143,948.889 1018.81,1027.64 1057.47,1087.65 1096.14,1128.01 \n",
       "  1134.8,1147.09 1173.47,1143.51 1212.13,1116.76 1250.8,1067.37 1289.46,997.103 1328.13,908.708 1366.79,805.839 1405.46,707.001 1444.12,624.83 1482.79,565.493 \n",
       "  1521.46,533.464 1560.12,530.229 1598.79,556.688 1637.45,614.454 1676.12,701.958 1714.78,787.963 1753.45,856.773 1792.11,911.223 1830.78,952.657 1869.44,981.027 \n",
       "  1908.11,995.864 1946.77,996.828 1985.44,983.905 2024.1,957.628 2062.77,919.829 2101.43,874.05 2140.1,826.761 2178.76,787.989 2217.43,751.668 2256.09,713.318 \n",
       "  2294.76,680.961 \n",
       "  \"/>\n",
       "<path clip-path=\"url(#clip930)\" d=\"\n",
       "M1799.25 299.749 L2284.45 299.749 L2284.45 92.3886 L1799.25 92.3886  Z\n",
       "  \" fill=\"#ffffff\" fill-rule=\"evenodd\" fill-opacity=\"1\"/>\n",
       "<polyline clip-path=\"url(#clip930)\" style=\"stroke:#000000; stroke-linecap:round; stroke-linejoin:round; stroke-width:4; stroke-opacity:1; fill:none\" points=\"\n",
       "  1799.25,299.749 2284.45,299.749 2284.45,92.3886 1799.25,92.3886 1799.25,299.749 \n",
       "  \"/>\n",
       "<polyline clip-path=\"url(#clip930)\" style=\"stroke:#009af9; stroke-linecap:round; stroke-linejoin:round; stroke-width:4; stroke-opacity:1; fill:none\" points=\"\n",
       "  1822.02,144.229 1958.64,144.229 \n",
       "  \"/>\n",
       "<path clip-path=\"url(#clip930)\" d=\"M2003.66 128.083 L2003.66 132.643 Q2000.99 131.37 1998.63 130.745 Q1996.27 130.12 1994.07 130.12 Q1990.25 130.12 1988.17 131.601 Q1986.11 133.083 1986.11 135.814 Q1986.11 138.106 1987.47 139.287 Q1988.86 140.444 1992.71 141.162 L1995.53 141.74 Q2000.76 142.736 2003.24 145.259 Q2005.74 147.759 2005.74 151.972 Q2005.74 156.995 2002.36 159.587 Q1999 162.18 1992.5 162.18 Q1990.04 162.18 1987.27 161.624 Q1984.51 161.069 1981.55 159.981 L1981.55 155.166 Q1984.4 156.763 1987.13 157.573 Q1989.86 158.384 1992.5 158.384 Q1996.5 158.384 1998.68 156.81 Q2000.85 155.236 2000.85 152.319 Q2000.85 149.773 1999.28 148.337 Q1997.73 146.902 1994.16 146.185 L1991.32 145.629 Q1986.09 144.587 1983.75 142.365 Q1981.41 140.143 1981.41 136.185 Q1981.41 131.601 1984.63 128.962 Q1987.87 126.324 1993.54 126.324 Q1995.97 126.324 1998.49 126.763 Q2001.02 127.203 2003.66 128.083 Z\" fill=\"#000000\" fill-rule=\"evenodd\" fill-opacity=\"1\" /><path clip-path=\"url(#clip930)\" d=\"M2012.84 135.583 L2017.1 135.583 L2017.1 161.509 L2012.84 161.509 L2012.84 135.583 M2012.84 125.49 L2017.1 125.49 L2017.1 130.884 L2012.84 130.884 L2012.84 125.49 Z\" fill=\"#000000\" fill-rule=\"evenodd\" fill-opacity=\"1\" /><path clip-path=\"url(#clip930)\" d=\"M2046.2 140.56 Q2047.8 137.689 2050.02 136.324 Q2052.24 134.958 2055.25 134.958 Q2059.3 134.958 2061.5 137.805 Q2063.7 140.629 2063.7 145.861 L2063.7 161.509 L2059.42 161.509 L2059.42 145.999 Q2059.42 142.273 2058.1 140.467 Q2056.78 138.662 2054.07 138.662 Q2050.76 138.662 2048.84 140.861 Q2046.92 143.06 2046.92 146.856 L2046.92 161.509 L2042.64 161.509 L2042.64 145.999 Q2042.64 142.249 2041.32 140.467 Q2040 138.662 2037.24 138.662 Q2033.98 138.662 2032.06 140.884 Q2030.14 143.083 2030.14 146.856 L2030.14 161.509 L2025.85 161.509 L2025.85 135.583 L2030.14 135.583 L2030.14 139.611 Q2031.59 137.226 2033.63 136.092 Q2035.67 134.958 2038.47 134.958 Q2041.29 134.958 2043.26 136.393 Q2045.25 137.828 2046.2 140.56 Z\" fill=\"#000000\" fill-rule=\"evenodd\" fill-opacity=\"1\" /><path clip-path=\"url(#clip930)\" d=\"M2076.32 157.62 L2076.32 171.37 L2072.03 171.37 L2072.03 135.583 L2076.32 135.583 L2076.32 139.518 Q2077.66 137.203 2079.7 136.092 Q2081.76 134.958 2084.6 134.958 Q2089.33 134.958 2092.27 138.708 Q2095.23 142.458 2095.23 148.569 Q2095.23 154.68 2092.27 158.43 Q2089.33 162.18 2084.6 162.18 Q2081.76 162.18 2079.7 161.069 Q2077.66 159.935 2076.32 157.62 M2090.81 148.569 Q2090.81 143.87 2088.86 141.208 Q2086.94 138.523 2083.56 138.523 Q2080.18 138.523 2078.24 141.208 Q2076.32 143.87 2076.32 148.569 Q2076.32 153.268 2078.24 155.953 Q2080.18 158.615 2083.56 158.615 Q2086.94 158.615 2088.86 155.953 Q2090.81 153.268 2090.81 148.569 Z\" fill=\"#000000\" fill-rule=\"evenodd\" fill-opacity=\"1\" /><path clip-path=\"url(#clip930)\" d=\"M2102.29 125.49 L2106.55 125.49 L2106.55 161.509 L2102.29 161.509 L2102.29 125.49 Z\" fill=\"#000000\" fill-rule=\"evenodd\" fill-opacity=\"1\" /><path clip-path=\"url(#clip930)\" d=\"M2137.64 147.481 L2137.64 149.564 L2118.05 149.564 Q2118.33 153.962 2120.69 156.277 Q2123.08 158.569 2127.31 158.569 Q2129.77 158.569 2132.06 157.967 Q2134.37 157.365 2136.64 156.161 L2136.64 160.189 Q2134.35 161.161 2131.94 161.671 Q2129.53 162.18 2127.06 162.18 Q2120.85 162.18 2117.22 158.569 Q2113.61 154.958 2113.61 148.8 Q2113.61 142.435 2117.03 138.708 Q2120.48 134.958 2126.32 134.958 Q2131.55 134.958 2134.58 138.337 Q2137.64 141.694 2137.64 147.481 M2133.38 146.231 Q2133.33 142.736 2131.41 140.652 Q2129.51 138.569 2126.36 138.569 Q2122.8 138.569 2120.65 140.583 Q2118.52 142.597 2118.19 146.254 L2133.38 146.231 Z\" fill=\"#000000\" fill-rule=\"evenodd\" fill-opacity=\"1\" /><path clip-path=\"url(#clip930)\" d=\"M2144.81 126.949 L2164.67 126.949 L2164.67 130.884 L2149.49 130.884 L2149.49 141.069 L2163.19 141.069 L2163.19 145.004 L2149.49 145.004 L2149.49 161.509 L2144.81 161.509 L2144.81 126.949 Z\" fill=\"#000000\" fill-rule=\"evenodd\" fill-opacity=\"1\" /><path clip-path=\"url(#clip930)\" d=\"M2172.08 126.949 L2179.05 126.949 L2187.87 150.467 L2196.73 126.949 L2203.7 126.949 L2203.7 161.509 L2199.14 161.509 L2199.14 131.162 L2190.23 154.865 L2185.53 154.865 L2176.62 131.162 L2176.62 161.509 L2172.08 161.509 L2172.08 126.949 Z\" fill=\"#000000\" fill-rule=\"evenodd\" fill-opacity=\"1\" /><path clip-path=\"url(#clip930)\" d=\"M2212.45 126.949 L2217.15 126.949 L2217.15 147.944 Q2217.15 153.499 2219.16 155.953 Q2221.18 158.384 2225.69 158.384 Q2230.18 158.384 2232.2 155.953 Q2234.21 153.499 2234.21 147.944 L2234.21 126.949 L2238.91 126.949 L2238.91 148.523 Q2238.91 155.282 2235.55 158.731 Q2232.22 162.18 2225.69 162.18 Q2219.14 162.18 2215.78 158.731 Q2212.45 155.282 2212.45 148.523 L2212.45 126.949 Z\" fill=\"#000000\" fill-rule=\"evenodd\" fill-opacity=\"1\" /><polyline clip-path=\"url(#clip930)\" style=\"stroke:#e26f46; stroke-linecap:round; stroke-linejoin:round; stroke-width:4; stroke-opacity:1; fill:none\" points=\"\n",
       "  1822.02,196.069 1958.64,196.069 \n",
       "  \"/>\n",
       "<path clip-path=\"url(#clip930)\" d=\"M1997.8 197.145 Q1999.3 197.654 2000.72 199.321 Q2002.15 200.988 2003.59 203.904 L2008.33 213.349 L2003.31 213.349 L1998.89 204.483 Q1997.17 201.011 1995.55 199.876 Q1993.96 198.742 1991.18 198.742 L1986.09 198.742 L1986.09 213.349 L1981.41 213.349 L1981.41 178.789 L1991.97 178.789 Q1997.89 178.789 2000.81 181.265 Q2003.72 183.742 2003.72 188.742 Q2003.72 192.006 2002.2 194.159 Q2000.69 196.312 1997.8 197.145 M1986.09 182.631 L1986.09 194.9 L1991.97 194.9 Q1995.35 194.9 1997.06 193.349 Q1998.79 191.775 1998.79 188.742 Q1998.79 185.71 1997.06 184.182 Q1995.35 182.631 1991.97 182.631 L1986.09 182.631 Z\" fill=\"#000000\" fill-rule=\"evenodd\" fill-opacity=\"1\" /><path clip-path=\"url(#clip930)\" d=\"M2034.21 199.321 L2034.21 201.404 L2014.63 201.404 Q2014.91 205.802 2017.27 208.117 Q2019.65 210.409 2023.89 210.409 Q2026.34 210.409 2028.63 209.807 Q2030.95 209.205 2033.22 208.001 L2033.22 212.029 Q2030.92 213.001 2028.52 213.511 Q2026.11 214.02 2023.63 214.02 Q2017.43 214.02 2013.79 210.409 Q2010.18 206.798 2010.18 200.64 Q2010.18 194.275 2013.61 190.548 Q2017.06 186.798 2022.89 186.798 Q2028.12 186.798 2031.16 190.177 Q2034.21 193.534 2034.21 199.321 M2029.95 198.071 Q2029.91 194.576 2027.98 192.492 Q2026.09 190.409 2022.94 190.409 Q2019.37 190.409 2017.22 192.423 Q2015.09 194.437 2014.77 198.094 L2029.95 198.071 Z\" fill=\"#000000\" fill-rule=\"evenodd\" fill-opacity=\"1\" /><path clip-path=\"url(#clip930)\" d=\"M2052.98 200.316 Q2047.82 200.316 2045.83 201.497 Q2043.84 202.677 2043.84 205.525 Q2043.84 207.793 2045.32 209.136 Q2046.83 210.455 2049.4 210.455 Q2052.94 210.455 2055.07 207.955 Q2057.22 205.432 2057.22 201.265 L2057.22 200.316 L2052.98 200.316 M2061.48 198.557 L2061.48 213.349 L2057.22 213.349 L2057.22 209.413 Q2055.76 211.775 2053.59 212.909 Q2051.41 214.02 2048.26 214.02 Q2044.28 214.02 2041.92 211.798 Q2039.58 209.552 2039.58 205.802 Q2039.58 201.427 2042.5 199.205 Q2045.44 196.983 2051.25 196.983 L2057.22 196.983 L2057.22 196.566 Q2057.22 193.627 2055.28 192.029 Q2053.35 190.409 2049.86 190.409 Q2047.64 190.409 2045.53 190.941 Q2043.42 191.474 2041.48 192.539 L2041.48 188.603 Q2043.82 187.701 2046.02 187.261 Q2048.22 186.798 2050.3 186.798 Q2055.92 186.798 2058.7 189.714 Q2061.48 192.631 2061.48 198.557 Z\" fill=\"#000000\" fill-rule=\"evenodd\" fill-opacity=\"1\" /><path clip-path=\"url(#clip930)\" d=\"M2070.25 177.33 L2074.51 177.33 L2074.51 213.349 L2070.25 213.349 L2070.25 177.33 Z\" fill=\"#000000\" fill-rule=\"evenodd\" fill-opacity=\"1\" /><path clip-path=\"url(#clip930)\" d=\"M2083.61 178.789 L2103.47 178.789 L2103.47 182.724 L2088.28 182.724 L2088.28 192.909 L2101.99 192.909 L2101.99 196.844 L2088.28 196.844 L2088.28 213.349 L2083.61 213.349 L2083.61 178.789 Z\" fill=\"#000000\" fill-rule=\"evenodd\" fill-opacity=\"1\" /><path clip-path=\"url(#clip930)\" d=\"M2110.88 178.789 L2117.84 178.789 L2126.66 202.307 L2135.53 178.789 L2142.5 178.789 L2142.5 213.349 L2137.94 213.349 L2137.94 183.002 L2129.02 206.705 L2124.33 206.705 L2115.41 183.002 L2115.41 213.349 L2110.88 213.349 L2110.88 178.789 Z\" fill=\"#000000\" fill-rule=\"evenodd\" fill-opacity=\"1\" /><path clip-path=\"url(#clip930)\" d=\"M2151.25 178.789 L2155.95 178.789 L2155.95 199.784 Q2155.95 205.339 2157.96 207.793 Q2159.97 210.224 2164.49 210.224 Q2168.98 210.224 2170.99 207.793 Q2173.01 205.339 2173.01 199.784 L2173.01 178.789 L2177.71 178.789 L2177.71 200.363 Q2177.71 207.122 2174.35 210.571 Q2171.02 214.02 2164.49 214.02 Q2157.94 214.02 2154.58 210.571 Q2151.25 207.122 2151.25 200.363 L2151.25 178.789 Z\" fill=\"#000000\" fill-rule=\"evenodd\" fill-opacity=\"1\" /><polyline clip-path=\"url(#clip930)\" style=\"stroke:#3da44d; stroke-linecap:round; stroke-linejoin:round; stroke-width:4; stroke-opacity:1; fill:none\" points=\"\n",
       "  1822.02,247.909 1958.64,247.909 \n",
       "  \"/>\n",
       "<path clip-path=\"url(#clip930)\" d=\"M1981.41 230.629 L1987.71 230.629 L2003.03 259.541 L2003.03 230.629 L2007.57 230.629 L2007.57 265.189 L2001.27 265.189 L1985.95 236.277 L1985.95 265.189 L1981.41 265.189 L1981.41 230.629 Z\" fill=\"#000000\" fill-rule=\"evenodd\" fill-opacity=\"1\" /><path clip-path=\"url(#clip930)\" d=\"M2038.86 251.161 L2038.86 253.244 L2019.28 253.244 Q2019.56 257.642 2021.92 259.957 Q2024.3 262.249 2028.54 262.249 Q2030.99 262.249 2033.28 261.647 Q2035.6 261.045 2037.87 259.841 L2037.87 263.869 Q2035.58 264.841 2033.17 265.351 Q2030.76 265.86 2028.28 265.86 Q2022.08 265.86 2018.45 262.249 Q2014.84 258.638 2014.84 252.48 Q2014.84 246.115 2018.26 242.388 Q2021.71 238.638 2027.54 238.638 Q2032.78 238.638 2035.81 242.017 Q2038.86 245.374 2038.86 251.161 M2034.6 249.911 Q2034.56 246.416 2032.64 244.332 Q2030.74 242.249 2027.59 242.249 Q2024.03 242.249 2021.87 244.263 Q2019.74 246.277 2019.42 249.934 L2034.6 249.911 Z\" fill=\"#000000\" fill-rule=\"evenodd\" fill-opacity=\"1\" /><path clip-path=\"url(#clip930)\" d=\"M2045.41 254.957 L2045.41 239.263 L2049.67 239.263 L2049.67 254.795 Q2049.67 258.476 2051.11 260.328 Q2052.54 262.156 2055.41 262.156 Q2058.86 262.156 2060.85 259.957 Q2062.87 257.758 2062.87 253.962 L2062.87 239.263 L2067.13 239.263 L2067.13 265.189 L2062.87 265.189 L2062.87 261.207 Q2061.32 263.568 2059.26 264.726 Q2057.22 265.86 2054.51 265.86 Q2050.04 265.86 2047.73 263.082 Q2045.41 260.304 2045.41 254.957 M2056.13 238.638 L2056.13 238.638 Z\" fill=\"#000000\" fill-rule=\"evenodd\" fill-opacity=\"1\" /><path clip-path=\"url(#clip930)\" d=\"M2090.92 243.244 Q2090.21 242.828 2089.35 242.642 Q2088.52 242.434 2087.5 242.434 Q2083.89 242.434 2081.94 244.795 Q2080.02 247.133 2080.02 251.531 L2080.02 265.189 L2075.74 265.189 L2075.74 239.263 L2080.02 239.263 L2080.02 243.291 Q2081.36 240.929 2083.52 239.795 Q2085.67 238.638 2088.75 238.638 Q2089.19 238.638 2089.72 238.707 Q2090.25 238.754 2090.9 238.869 L2090.92 243.244 Z\" fill=\"#000000\" fill-rule=\"evenodd\" fill-opacity=\"1\" /><path clip-path=\"url(#clip930)\" d=\"M2107.17 252.156 Q2102.01 252.156 2100.02 253.337 Q2098.03 254.517 2098.03 257.365 Q2098.03 259.633 2099.51 260.976 Q2101.02 262.295 2103.59 262.295 Q2107.13 262.295 2109.26 259.795 Q2111.41 257.272 2111.41 253.105 L2111.41 252.156 L2107.17 252.156 M2115.67 250.397 L2115.67 265.189 L2111.41 265.189 L2111.41 261.253 Q2109.95 263.615 2107.77 264.749 Q2105.6 265.86 2102.45 265.86 Q2098.47 265.86 2096.11 263.638 Q2093.77 261.392 2093.77 257.642 Q2093.77 253.267 2096.69 251.045 Q2099.63 248.823 2105.44 248.823 L2111.41 248.823 L2111.41 248.406 Q2111.41 245.467 2109.46 243.869 Q2107.54 242.249 2104.05 242.249 Q2101.83 242.249 2099.72 242.781 Q2097.61 243.314 2095.67 244.379 L2095.67 240.443 Q2098.01 239.541 2100.21 239.101 Q2102.4 238.638 2104.49 238.638 Q2110.11 238.638 2112.89 241.554 Q2115.67 244.471 2115.67 250.397 Z\" fill=\"#000000\" fill-rule=\"evenodd\" fill-opacity=\"1\" /><path clip-path=\"url(#clip930)\" d=\"M2124.44 229.17 L2128.7 229.17 L2128.7 265.189 L2124.44 265.189 L2124.44 229.17 Z\" fill=\"#000000\" fill-rule=\"evenodd\" fill-opacity=\"1\" /><path clip-path=\"url(#clip930)\" d=\"M2137.8 230.629 L2157.66 230.629 L2157.66 234.564 L2142.47 234.564 L2142.47 244.749 L2156.18 244.749 L2156.18 248.684 L2142.47 248.684 L2142.47 265.189 L2137.8 265.189 L2137.8 230.629 Z\" fill=\"#000000\" fill-rule=\"evenodd\" fill-opacity=\"1\" /><path clip-path=\"url(#clip930)\" d=\"M2165.07 230.629 L2172.03 230.629 L2180.85 254.147 L2189.72 230.629 L2196.69 230.629 L2196.69 265.189 L2192.13 265.189 L2192.13 234.842 L2183.21 258.545 L2178.52 258.545 L2169.6 234.842 L2169.6 265.189 L2165.07 265.189 L2165.07 230.629 Z\" fill=\"#000000\" fill-rule=\"evenodd\" fill-opacity=\"1\" /><path clip-path=\"url(#clip930)\" d=\"M2205.44 230.629 L2210.14 230.629 L2210.14 251.624 Q2210.14 257.179 2212.15 259.633 Q2214.16 262.064 2218.68 262.064 Q2223.17 262.064 2225.18 259.633 Q2227.2 257.179 2227.2 251.624 L2227.2 230.629 L2231.89 230.629 L2231.89 252.203 Q2231.89 258.962 2228.54 262.411 Q2225.2 265.86 2218.68 265.86 Q2212.13 265.86 2208.77 262.411 Q2205.44 258.962 2205.44 252.203 L2205.44 230.629 Z\" fill=\"#000000\" fill-rule=\"evenodd\" fill-opacity=\"1\" /></svg>\n"
      ]
     },
     "execution_count": 20,
     "metadata": {},
     "output_type": "execute_result"
    }
   ],
   "source": [
    "# plot results mass.s\n",
    "plotResults()"
   ]
  },
  {
   "cell_type": "markdown",
   "metadata": {
    "nteract": {
     "transient": {
      "deleting": false
     }
    }
   },
   "source": [
    "Finally, the FMU is cleaned-up."
   ]
  },
  {
   "cell_type": "code",
   "execution_count": 21,
   "metadata": {
    "execution": {
     "iopub.execute_input": "2022-10-14T15:29:56.651000Z",
     "iopub.status.busy": "2022-10-14T15:29:56.651000Z",
     "iopub.status.idle": "2022-10-14T15:29:56.657000Z",
     "shell.execute_reply": "2022-10-14T15:29:56.657000Z"
    },
    "scrolled": false
   },
   "outputs": [],
   "source": [
    "fmiUnload(simpleFMU)"
   ]
  },
  {
   "cell_type": "markdown",
   "metadata": {},
   "source": [
    "### Summary\n",
    "\n",
    "Based on the plots, it can be seen that the NeuralFMU is able to adapt the friction model of the *realFMU*. After 300 runs, the curves do not overlap very well, but this can be achieved by longer training (1000 runs) or a better initialization."
   ]
  },
  {
   "cell_type": "markdown",
   "metadata": {},
   "source": [
    "### Source\n",
    "\n",
    "[1] Tobias Thummerer, Lars Mikelsons and Josef Kircher. 2021. **NeuralFMU: towards structural integration of FMUs into neural networks.** Martin Sjölund, Lena Buffoni, Adrian Pop and Lennart Ochel (Ed.). Proceedings of 14th Modelica Conference 2021, Linköping, Sweden, September 20-24, 2021. Linköping University Electronic Press, Linköping (Linköping Electronic Conference Proceedings ; 181), 297-306. [DOI: 10.3384/ecp21181297](https://doi.org/10.3384/ecp21181297)\n"
   ]
  }
 ],
 "metadata": {
  "interpreter": {
   "hash": "037537ff7419c497b9325f7d495147943224d408cf5d5ed915294a5b960167b0"
  },
  "jupytext": {
   "cell_metadata_filter": "-all",
   "comment_magics": "false",
   "notebook_metadata_filter": "-all"
  },
  "kernelspec": {
   "display_name": "Julia 1.6.6",
   "language": "julia",
   "name": "julia-1.6"
  },
  "language_info": {
   "file_extension": ".jl",
   "mimetype": "application/julia",
   "name": "julia",
   "version": "1.6.7"
  },
  "nteract": {
   "version": "0.28.0"
  }
 },
 "nbformat": 4,
 "nbformat_minor": 2
}
