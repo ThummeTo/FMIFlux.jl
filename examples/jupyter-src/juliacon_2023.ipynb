{
 "cells": [
  {
   "cell_type": "markdown",
   "metadata": {},
   "source": [
    "# Using NeuralODEs in real life applications\n",
    "-----\n",
    "Tutorial by Tobias Thummerer | Last edit: September 24 2024\n",
    "\n",
    "This workshop was held at the JuliaCon 2023 | July 25 2023 | MIT (Boston, USA)\n",
    "\n",
    "Keywords: *#NeuralODE, #NeuralFMU, #SciML, #PeNODE, #HybridModeling*"
   ]
  },
  {
   "cell_type": "markdown",
   "metadata": {},
   "source": [
    "## Workshop Video\n",
    "[![YouTube Video of Workshop](https://img.youtube.com/vi/X_u0KlZizD4/0.jpg)](https://www.youtube.com/watch?v=X_u0KlZizD4)\n",
    "\n",
    "## License"
   ]
  },
  {
   "cell_type": "code",
   "execution_count": 1,
   "metadata": {},
   "outputs": [],
   "source": [
    "# Copyright (c) 2023 Tobias Thummerer, Lars Mikelsons\n",
    "# Licensed under the MIT license. \n",
    "# See LICENSE (https://github.com/thummeto/FMIFlux.jl/blob/main/LICENSE) file in the project root for details.\n",
    "\n",
    "# This workshop was held at the JuliaCon2023 @ MIT (Boston)"
   ]
  },
  {
   "cell_type": "markdown",
   "metadata": {},
   "source": [
    "## Introduction\n",
    "NeuralODEs lead to amazing results in academic examples. But the expectations are often being disappointed as soon as one tries to adapt this concept for real life use cases. Bad convergence behavior, handling of discontinuities and/or instabilities are just some of the stumbling blocks that might pop up during the first steps. During the workshop, we want to show how to integrate real life industrial models in NeuralODEs using FMI and present sophisticated training strategies.\n",
    "\n",
    "This tutorial can be used in two ways:\n",
    "1. As a single script, showing how a NeuralFMU can be setup and trained. Results can be loaded from a precomputed hyperparameter optimization.\n",
    "2. As a module (see sections *Optional: Organize as module*) together with the file `juliacon_2023_distributedhyperopt.jl` to perform your own distributed hyperparameter optimization.\n",
    "\n",
    "This workshops divides into five sections:\n",
    "1. Installing / Loading the Packages\n",
    "2. Loading FMU & Data\n",
    "3. NeuralFMU setup\n",
    "4. Training the NeuralFMU\n",
    "5. Results"
   ]
  },
  {
   "cell_type": "markdown",
   "metadata": {},
   "source": [
    "## 1. Installing / Loading the Packages\n",
    "Before we start modeling our NeuralODE, we load all required packages. If some packages are still missing, install them by typing `import Pkg; Pkg.add(\"[PKG-NAME]\")`."
   ]
  },
  {
   "cell_type": "code",
   "execution_count": 2,
   "metadata": {},
   "outputs": [],
   "source": [
    "# Loading the required libraries\n",
    "using FMI           # import FMUs into Julia \n",
    "using FMIFlux       # for NeuralFMUs\n",
    "using FMIZoo        # a collection of demo models, including the VLDM\n",
    "using FMIFlux.Flux  # Machine Learning in Julia\n",
    "using DifferentialEquations: Tsit5 # for picking a NeuralFMU solver\n",
    "\n",
    "import JLD2         # data format for saving/loading parameters\n",
    "\n",
    "import Random       # for fixing the random seed\n",
    "using Plots         # plotting results"
   ]
  },
  {
   "cell_type": "markdown",
   "metadata": {},
   "source": [
    "Beside the packages, we use another little script that includes some nice plotting functions specially for this workshop."
   ]
  },
  {
   "cell_type": "code",
   "execution_count": 3,
   "metadata": {},
   "outputs": [],
   "source": [
    "# a helper file with some predefined functions to make \"things look nicer\", but are not really relevant to the topic\n",
    "include(joinpath(@__DIR__, \"juliacon_2023_helpers.jl\"));"
   ]
  },
  {
   "cell_type": "markdown",
   "metadata": {},
   "source": [
    "Because notebooks can't handle progress bars, we disable *progress bar printing* - but feel free to enable it if you are using the code outside of a jupyter notebook. The progress bar gives further helpful information, like the estimated remaining computation time for simulation and training."
   ]
  },
  {
   "cell_type": "code",
   "execution_count": 4,
   "metadata": {},
   "outputs": [],
   "source": [
    "# disable progress bars in jupyter notebook\n",
    "showProgress=false;"
   ]
  },
  {
   "cell_type": "markdown",
   "metadata": {},
   "source": [
    "## 2. Loading FMU & Data\n",
    "Before starting with hybrid modeling, we load in the used training data and our FMU of the VLDM. We simulate the FMU, plot the results and compare them to data. \n",
    "\n",
    "### 2.1 Loading measurement data\n",
    "We start by loading in the data (training and validation) used in this tutorial from *FMIZoo.jl* - a container library for different system model FMUs and corresponding data.\n",
    "\n",
    "**Note:** There where two measurements done, so data is a mean value with some deviation around (not an exact line)."
   ]
  },
  {
   "cell_type": "code",
   "execution_count": null,
   "metadata": {},
   "outputs": [],
   "source": [
    "# FMIZoo.jl supports different data sampling rates (by interpolation), sample length for data is 0.1s\n",
    "dt = 0.1 \n",
    "\n",
    "# load data (training) from FMIZoo.jl\n",
    "data = VLDM(:train, dt=dt) \n",
    "\n",
    "# plot the velocity consumption (training data)\n",
    "plot(data.speed_t,              # the time points the speed was captures (from data)\n",
    "     data.speed_val;            # the speeds at the considered time points (from data)\n",
    "     ribbon=data.speed_dev,     # a `ribbon` for the speed deviation - so the `uncertainty` because we made two measurements - but don't expect too much to see (very little uncertainty)\n",
    "     fillalpha=0.3,             # alpha value for the ribbon\n",
    "     label=\"Data\",              # the plot label\n",
    "     title=\"WLTC (first 40%)\",  # plot title\n",
    "     xlabel=\"t [s]\",            # plot x-label\n",
    "     ylabel=\"velocity [m/s]\")   # plot y-label"
   ]
  },
  {
   "cell_type": "markdown",
   "metadata": {},
   "source": [
    "Further, we load validation data and have a look on it, too."
   ]
  },
  {
   "cell_type": "code",
   "execution_count": null,
   "metadata": {},
   "outputs": [],
   "source": [
    "# load data (validation) from FMIZoo.jl\n",
    "data_validation = VLDM(:validate, dt=dt)\n",
    "\n",
    "# plot the velocity consumption (validation data)\n",
    "plot(data_validation.speed_t, data_validation.speed_val; label=\"Data\", ribbon=data_validation.speed_dev, fillalpha=0.3, title=\"WLTC (complete)\", xlabel=\"t [s]\", ylabel=\"velocity [m/s]\")"
   ]
  },
  {
   "cell_type": "markdown",
   "metadata": {},
   "source": [
    "Let's extract a simulation starting time `tStart` and stopping time `tStop` from data - so we simulate as far as data is available. `tSave` are the points in time we want our ODE solution being saved later."
   ]
  },
  {
   "cell_type": "code",
   "execution_count": null,
   "metadata": {},
   "outputs": [],
   "source": [
    "# start (`tStart`) and stop time (`tStop`) for simulation, saving time points for ODE solver (`tSave`)\n",
    "tStart = data.consumption_t[1]\n",
    "tStop = data.consumption_t[end]\n",
    "tSave = data.consumption_t"
   ]
  },
  {
   "cell_type": "markdown",
   "metadata": {},
   "source": [
    "So you can see time points are sampled with `dt=0.1` as specified and the cycle ranges from $0.0s$ to $583.7s$.\n",
    "\n",
    "Next is to get a value for the start state `x0`, so the initial state to solve the FMU and NeuralFMU."
   ]
  },
  {
   "cell_type": "code",
   "execution_count": null,
   "metadata": {},
   "outputs": [],
   "source": [
    "# get start state vector from data (FMIZoo)\n",
    "x0 = FMIZoo.getStateVector(data,    # the data container\n",
    "                           tStart)  # the point in time where we want the state"
   ]
  },
  {
   "cell_type": "markdown",
   "metadata": {},
   "source": [
    "In this special case, it's all zero, but this is not the default over different system!\n",
    "\n",
    "Further, we can check for the loaded FMU parameters, that are paths to the used characteristic maps used in the model."
   ]
  },
  {
   "cell_type": "code",
   "execution_count": null,
   "metadata": {},
   "outputs": [],
   "source": [
    "# have a look on the FMU parameters (these are the file paths to the characteristic maps, remaining parameters are set to default by the FMU)\n",
    "display(data.params)"
   ]
  },
  {
   "cell_type": "markdown",
   "metadata": {},
   "source": [
    "After that, we load the FMU and have a look on its model meta data."
   ]
  },
  {
   "cell_type": "code",
   "execution_count": null,
   "metadata": {},
   "outputs": [],
   "source": [
    "# load our FMU of the VLDM (we take it from the FMIZoo.jl, exported with Dymola 2020x)\n",
    "fmu = loadFMU(\"VLDM\", \"Dymola\", \"2020x\"; type=:ME) \n",
    "\n",
    "# let's have a look on the model meta data\n",
    "info(fmu)"
   ]
  },
  {
   "cell_type": "markdown",
   "metadata": {},
   "source": [
    "One can find many useful things, like the number of states (6), inputs (0) and outputs (0), their names and information about supported features. \n",
    "\n",
    "### 2.2 Simulating the FMU\n",
    "Simulating is as easy as calling `simulate`. Note, that we are putting in the parameter dictionary `data.params` from above. This FMU has many events, these are detected and handled automatically by *FMI.jl*."
   ]
  },
  {
   "cell_type": "code",
   "execution_count": null,
   "metadata": {},
   "outputs": [],
   "source": [
    "# let's run a simulation from `tStart` to `tStop`, use the parameters we just viewed for the simulation run\n",
    "resultFMU = simulate(fmu,                       # the loaded FMU of the VLDM \n",
    "                    (tStart, tStop);            # the simulation time range\n",
    "                    parameters=data.params,     # the parameters for the VLDM\n",
    "                    showProgress=showProgress,  # show (or don't) the progres bar\n",
    "                    recordValues=:derivatives,  # record all state derivatives\n",
    "                    saveat=tSave)               # save solution points at `tSave`\n",
    "display(resultFMU)"
   ]
  },
  {
   "cell_type": "markdown",
   "metadata": {},
   "source": [
    "This way, you can see interesting metadata on the solution process, like the number of evaluations of the ODE-function, sensitivity or callback evaluations. \n",
    "\n",
    "We can use the `plot` command to plot simulation results from FMUs, too!"
   ]
  },
  {
   "cell_type": "code",
   "execution_count": null,
   "metadata": {},
   "outputs": [],
   "source": [
    "# Plot the simulation results\n",
    "fig = plot(resultFMU;                               # the simulation result from above \n",
    "           values=false,                            # don't plot values (:derivatives)\n",
    "           stateIndices=6:6,                        # only plot states 6 to 6 -> so state 6 ;-)\n",
    "           ylabel=\"Cumulative consumption [Ws]\",    # set the title for the y-label\n",
    "           label=\"FMU\")                             # title the plot line \n",
    "\n",
    "# further plot the (measurement) data values `consumption_val` and deviation between measurements `consumption_dev`\n",
    "plot!(fig, data.cumconsumption_t, data.cumconsumption_val; label=\"Data\", ribbon=data.cumconsumption_dev, fillalpha=0.3)"
   ]
  },
  {
   "cell_type": "markdown",
   "metadata": {},
   "source": [
    "The simulation result we already know from the introduction!"
   ]
  },
  {
   "cell_type": "markdown",
   "metadata": {},
   "source": [
    "## 3. NeuralFMU setup"
   ]
  },
  {
   "cell_type": "markdown",
   "metadata": {},
   "source": [
    "![NeuralFMU](https://github.com/thummeto/FMIFlux.jl/blob/main/docs/src/examples/img/juliacon_2023/neuralfmu_topology.png?raw=true)\n",
    "\n",
    "Equipped with data and a simulation model, we can setup the NeuralFMU as introduced in the workshop.\n",
    "\n",
    "\n",
    "### 3.1 Pre- and Post-Processing\n",
    "We gather the three derivative values from the last simulation run, to have values for initialization of the pre- and post-processing layers."
   ]
  },
  {
   "cell_type": "code",
   "execution_count": null,
   "metadata": {},
   "outputs": [],
   "source": [
    "# variable we want to manipulate - why we are picking exactly these three is shown a few lines later ;-)\n",
    "manipulatedDerVars = [\"der(dynamics.accelerationCalculation.integrator.y)\",\n",
    "                      \"der(dynamics.accelerationCalculation.limIntegrator.y)\",\n",
    "                      \"der(result.integrator.y)\"]\n",
    "manipulatedDerVals = getValue(resultFMU, manipulatedDerVars)\n",
    "\n",
    "# what happens without proper transformation between FMU- and ANN-domain?\n",
    "plot(resultFMU.values.t, manipulatedDerVals[1,:][1]; label=\"original\", xlabel=\"t [s]\", ylabel=\"velocity [m/s]\")"
   ]
  },
  {
   "cell_type": "markdown",
   "metadata": {},
   "source": [
    "But what happens if we put the velocity into the hyperbolic tangent function?"
   ]
  },
  {
   "cell_type": "code",
   "execution_count": null,
   "metadata": {},
   "outputs": [],
   "source": [
    "plot!(resultFMU.values.t, tanh.(manipulatedDerVals[1,:][1]); label=\"tanh(velocity)\")"
   ]
  },
  {
   "cell_type": "markdown",
   "metadata": {},
   "source": [
    "It gets saturated drastically! That's why we need shift- and scale layers for online pre- and post-processing!\n",
    "\n",
    "We introduce the `ShiftScale`-layer for pre-processing our data."
   ]
  },
  {
   "cell_type": "code",
   "execution_count": 15,
   "metadata": {},
   "outputs": [],
   "source": [
    "# pre- and post-processing\n",
    "preProcess = ShiftScale(manipulatedDerVals);    # we put in the derivatives recorded above, FMIFlux shift and scales so we have a data mean of 0 and a standard deivation of 1 (other activation functions / ranges are possible!)"
   ]
  },
  {
   "cell_type": "markdown",
   "metadata": {},
   "source": [
    "How does the velocity look after pushing it through the `ShiftScale`-layer?"
   ]
  },
  {
   "cell_type": "code",
   "execution_count": null,
   "metadata": {},
   "outputs": [],
   "source": [
    "testVals = collect(tanh(preProcess(collect(val[t] for val in manipulatedDerVals))[1]) for t in 1:length(resultFMU.values.t))\n",
    "plot!(resultFMU.values.t, \n",
    "      testVals; \n",
    "      label=\"tanh(preProcess(velocity))\")"
   ]
  },
  {
   "cell_type": "markdown",
   "metadata": {},
   "source": [
    "You can clearly see, that after pre-processing, the trajectory (green) still mirrors the dynamical behavior of the original system (blue), while the not pre-processed option (orange) just saturates values. "
   ]
  },
  {
   "cell_type": "code",
   "execution_count": 17,
   "metadata": {},
   "outputs": [],
   "source": [
    "# we add some additional \"buffer\" - this is not necessary but helps to preserve peaks\n",
    "preProcess.scale[:] *= 0.25;    \n",
    "\n",
    "# initialize the postProcess as inverse of the preProcess, but only take indices 2 and 3 (we don't need 1, the vehicle velocity)\n",
    "postProcess = ScaleShift(preProcess; indices=2:3);"
   ]
  },
  {
   "cell_type": "markdown",
   "metadata": {},
   "source": [
    "### 3.2 Building the NeuralFMU\n",
    "\n",
    "To make this more usable, we put the entire NeuralFMU building process (including the pre- and post-processing we had a detailed look on) into a dedicated function `build_FMU`."
   ]
  },
  {
   "cell_type": "code",
   "execution_count": null,
   "metadata": {},
   "outputs": [],
   "source": [
    "# function that builds the considered NeuralFMU on basis of a given FMU (FMI-Version 2.0) `f`\n",
    "function build_NFMU(f::FMU2)\n",
    "    \n",
    "    # pre- and post-processing\n",
    "    preProcess = ShiftScale(manipulatedDerVals)         # we put in the derivatives recorded above, FMIFlux shift and scales so we have a data mean of 0 and a standard deviation of 1\n",
    "    preProcess.scale[:] *= 0.25                         # add some additional \"buffer\"\n",
    "    postProcess = ScaleShift(preProcess; indices=2:3)   # initialize the postProcess as inverse of the preProcess, but only take indices 2 and 3 (we don't need 1, the vehicle velocity)\n",
    "\n",
    "    # cache\n",
    "    cache = CacheLayer()                        # allocate a cache layer\n",
    "    cacheRetrieve = CacheRetrieveLayer(cache)   # allocate a cache retrieve layer, link it to the cache layer\n",
    "\n",
    "    # we have two signals (acceleration, consumption) and two sources (ANN, FMU), so four gates:\n",
    "    # (1) acceleration from FMU (gate=1.0 | open)\n",
    "    # (2) consumption  from FMU (gate=1.0 | open)\n",
    "    # (3) acceleration from ANN (gate=0.0 | closed)\n",
    "    # (4) consumption  from ANN (gate=0.0 | closed)\n",
    "    # the accelerations [1,3] and consumptions [2,4] are paired\n",
    "    gates = ScaleSum([1.0, 1.0, 0.0, 0.0], [[1,3], [2,4]]) # gates with sum\n",
    "\n",
    "    # setup the NeuralFMU topology\n",
    "    model = Chain(x -> f(; x=x, dx_refs=:all),        # take `x`, put it into the FMU, retrieve all derivatives `dx`\n",
    "                  dx -> cache(dx),                    # cache `dx`\n",
    "                  dx -> dx[4:6],                      # forward only dx[4, 5, 6]\n",
    "                  preProcess,                         # pre-process `dx`\n",
    "                  Dense(3, 32, tanh),                 # Dense Layer 3 -> 32 with `tanh` activation\n",
    "                  Dense(32, 2, tanh),                 # Dense Layer 32 -> 2 with `tanh` activation \n",
    "                  postProcess,                        # post process `dx`\n",
    "                  dx -> cacheRetrieve(5:6, dx),       # dynamics FMU | dynamics ANN\n",
    "                  gates,                              # compute resulting dx from ANN + FMU\n",
    "                  dx -> cacheRetrieve(1:4, dx))       # stack together: dx[1,2,3,4] from cache + dx[5,6] from gates\n",
    "\n",
    "    solver = Tsit5()\n",
    "    \n",
    "    # new NeuralFMU \n",
    "    neuralFMU = ME_NeuralFMU(f,                 # the FMU used in the NeuralFMU \n",
    "                             model,             # the model we specified above \n",
    "                             (tStart, tStop),   # a default start ad stop time for solving the NeuralFMU\n",
    "                             solver;\n",
    "                             saveat=tSave)      # the time points to save the solution at\n",
    "    neuralFMU.modifiedState = false             # speed optimization (NeuralFMU state equals FMU state)\n",
    "    \n",
    "    return neuralFMU \n",
    "end"
   ]
  },
  {
   "cell_type": "markdown",
   "metadata": {},
   "source": [
    "Let's test the NeuralFMU: First, load the FMU und built a NeuralFMU from it."
   ]
  },
  {
   "cell_type": "code",
   "execution_count": 19,
   "metadata": {},
   "outputs": [],
   "source": [
    "# build NeuralFMU\n",
    "neuralFMU = build_NFMU(fmu);"
   ]
  },
  {
   "cell_type": "markdown",
   "metadata": {},
   "source": [
    "Next, do a simulation for a given start state `x0` from *FMIZoo.jl*."
   ]
  },
  {
   "cell_type": "code",
   "execution_count": null,
   "metadata": {},
   "outputs": [],
   "source": [
    "# simulate and plot the (uninitialized) NeuralFMU\n",
    "resultNFMU = neuralFMU(x0,                          # the start state to solve the ODE\n",
    "                       (tStart, tStop);             # the simulation range\n",
    "                       parameters=data.params,      # the parameters for the VLDM\n",
    "                       showProgress=showProgress,   # show progress (or not)\n",
    "                       saveat=tSave)                # the time points to save the solution at\n",
    "\n",
    "display(resultNFMU)     "
   ]
  },
  {
   "cell_type": "markdown",
   "metadata": {},
   "source": [
    "As for the FMU, we can display the NeuralFMU simulation result and check some statistics.\n",
    "\n",
    "Now, let's have a look on the cumulative consumption plot ..."
   ]
  },
  {
   "cell_type": "code",
   "execution_count": null,
   "metadata": {},
   "outputs": [],
   "source": [
    "# plot the NeuralFMU, original FMU and data (cumulative consumption)\n",
    "fig = plot(resultNFMU; stateIndices=6:6, stateEvents=false, timeEvents=false, label=\"NeuralFMU (untrained)\", ylabel=\"cumulative consumption [Ws]\")\n",
    "plot!(fig, resultFMU; stateIndices=6:6, values=false, stateEvents=false, timeEvents=false, label=\"FMU\")\n",
    "plot!(fig, data.cumconsumption_t, data.cumconsumption_val, label=\"Data\")"
   ]
  },
  {
   "cell_type": "markdown",
   "metadata": {},
   "source": [
    "As you can see, the FMU und NeuralFMU result looks identically - and this is what we expect for a fully open FMU gate and a fully closed ANN gate!\n",
    "\n",
    "Finally, unload the FMU and invalidate the NeuralFMU."
   ]
  },
  {
   "cell_type": "code",
   "execution_count": 22,
   "metadata": {},
   "outputs": [],
   "source": [
    "# unload FMU / invalidate NeuralFMU\n",
    "unloadFMU(fmu)\n",
    "neuralFMU = nothing"
   ]
  },
  {
   "cell_type": "markdown",
   "metadata": {},
   "source": [
    "## 4. Training the NeuralFMU"
   ]
  },
  {
   "cell_type": "markdown",
   "metadata": {},
   "source": [
    "An untrained NeuralFMU is not that impressive - so let's train it a bit. \n",
    "\n",
    "We start by defining a time sequence (the time points of data measurements) and the cumulative consumption values we want to train for."
   ]
  },
  {
   "cell_type": "code",
   "execution_count": null,
   "metadata": {},
   "outputs": [],
   "source": [
    "# prepare training data \n",
    "train_t = data.consumption_t \n",
    "\n",
    "# data is as \"array of arrays\" required (often we have multidimensional data)\n",
    "train_data = collect([d] for d in data.cumconsumption_val)"
   ]
  },
  {
   "cell_type": "markdown",
   "metadata": {},
   "source": [
    "The data sequence is too long to train on it all at once - so we **need to batch** our data.\n",
    "\n",
    "First, we introduce some hyperparameters. Training success always depends on a good choice of hyperparameters, we use the following hyperparameters in this workshop:\n",
    "- `BATCHDUR` the duration of a single batch element (length) in seconds.\n",
    "- `TRAINDUR` specifies the training duration (measured on data) in seconds.\n",
    "- `ETA` the update rate $\\eta$ of the *Adam* optimizer.\n",
    "- `BETA1` the first momentum coefficient $\\beta_1$ of the *Adam* optimizer.\n",
    "- `BETA2` the second momentum coefficient $\\beta_2$ of the *Adam* optimizer. \n",
    "- `LASTWEIGHT` a weighting factor between the last solution point and all remaining solution points.\n",
    "- `SCHEDULER` an identifier for the batch scheduler, can be `:Sequential`, `:Random` or `:LossAccumulation`.\n",
    "- `LOSS` an identifier for the loss function to use, `:MAE` or `:MSE`.\n",
    "\n",
    "Next, the loss function is defined. The loss is computed on basis of a given `solution` and `data`. Dependent on the hyperparameter `LOSS`, either `:MAE` or `:MSE` is used to compute the loss. The hyperparameter `LASTWEIGHT` determines how much the last solution point is weight against the remaining solution points. For example a value of $0.3$ determines that the last point of the solution contributes $30\\%$ to the loss, whereas all remaining solution points contribute $70\\%$ in total."
   ]
  },
  {
   "cell_type": "code",
   "execution_count": null,
   "metadata": {},
   "outputs": [],
   "source": [
    "function _lossFct(solution::FMUSolution, data::VLDM_Data, LOSS::Symbol, LASTWEIGHT::Real=1.0/length(data.consumption_t) )\n",
    "\n",
    "    # determine the start/end indices `ts` and `te` in the data array (sampled with 10Hz)\n",
    "    ts = dataIndexForTime(solution.states.t[1])\n",
    "    te = dataIndexForTime(solution.states.t[end])\n",
    "    \n",
    "    # retrieve the data from NeuralODE (\"where we are\") and data from measurements (\"where we want to be\") and an allowed deviation (\"we are unsure about\")\n",
    "    nfmu_cumconsumption = getState(solution, 6; isIndex=true)\n",
    "    cumconsumption = data.cumconsumption_val[ts:te]\n",
    "    cumconsumption_dev = data.cumconsumption_dev[ts:te]\n",
    "\n",
    "    Δcumconsumption = 0.0\n",
    "    if LOSS == :MAE\n",
    "        Δcumconsumption = FMIFlux.Losses.mae_last_element_rel_dev(nfmu_cumconsumption,  # NeuralFMU \n",
    "                                                                  cumconsumption,       # data target\n",
    "                                                                  cumconsumption_dev,   # data uncertainty\n",
    "                                                                  LASTWEIGHT)           # how much do we scale the last point compared to the remaining ones?\n",
    "    elseif LOSS == :MSE\n",
    "        Δcumconsumption = FMIFlux.Losses.mse_last_element_rel_dev(nfmu_cumconsumption, \n",
    "                                                                  cumconsumption, \n",
    "                                                                  cumconsumption_dev, \n",
    "                                                                  LASTWEIGHT)\n",
    "    else\n",
    "        @assert false, \"Unknown LOSS: `$(LOSS)`\"\n",
    "    end\n",
    "    \n",
    "    return Δcumconsumption \n",
    "end"
   ]
  },
  {
   "cell_type": "markdown",
   "metadata": {},
   "source": [
    "Finally, the function `train!` is defined, that triggers a new training run for a given set of hyperparameters `hyper_params`, a training resource `resource` and the current training index `ind`."
   ]
  },
  {
   "cell_type": "code",
   "execution_count": null,
   "metadata": {},
   "outputs": [],
   "source": [
    "# resource = training time horizon (duration of data seen)\n",
    "function train!(hyper_params, resource, ind)\n",
    "\n",
    "    # make the runs deterministic by fixing the random seed\n",
    "    Random.seed!(1234)\n",
    "\n",
    "    # training duration (in seconds) equals the given resource\n",
    "    TRAINDUR = resource\n",
    "\n",
    "    # unpack the hyperparameters\n",
    "    ETA, BETA1, BETA2, BATCHDUR, LASTWEIGHT, SCHEDULER, LOSS = hyper_params\n",
    "\n",
    "    # compute the number of training steps TRAINDUR / BATCHDUR, but do at least one step\n",
    "    steps = max(round(Int, TRAINDUR/BATCHDUR), 1) \n",
    "\n",
    "    # print a bit of info\n",
    "    @info \"--------------\\nStarting run $(ind) with parameters: $(hyper_params) and resource $(resource) doing $(steps) step(s).\\n--------------------\"\n",
    "\n",
    "    # load our FMU (we take one from the FMIZoo.jl, exported with Dymola 2020x)\n",
    "    fmu = loadFMU(\"VLDM\", \"Dymola\", \"2020x\"; type=:ME) \n",
    "\n",
    "    # built the NeuralFMU on basis of the loaded FMU `fmu`\n",
    "    neuralFMU = build_NFMU(fmu)\n",
    "\n",
    "    # a more efficient execution mode\n",
    "    singleInstanceMode(fmu, true)\n",
    "    \n",
    "    # batch the data (time, targets), train only on model output index 6, plot batch elements\n",
    "    batch = batchDataSolution(neuralFMU,                            # our NeuralFMU model\n",
    "                              t -> FMIZoo.getStateVector(data, t),  # a function returning a start state for a given time point `t`, to determine start states for batch elements\n",
    "                              train_t,                              # data time points\n",
    "                              train_data;                           # data cumulative consumption \n",
    "                              batchDuration=BATCHDUR,               # duration of one batch element\n",
    "                              indicesModel=6:6,                     # model indices to train on (6 equals the state `cumulative consumption`)\n",
    "                              plot=false,                           # don't show intermediate plots (try this outside of Jupyter)\n",
    "                              parameters=data.params,               # use the parameters (map file paths) from *FMIZoo.jl*\n",
    "                              showProgress=showProgress)            # show or don't show progress bar, as specified at the very beginning\n",
    "\n",
    "    # limit the maximum number of solver steps to 1000 * BATCHDUR (longer batch elements get more steps)\n",
    "    # this allows the NeuralFMU to do 10x more steps (average) than the original FMU, but more should not be tolerated (to stiff system)\n",
    "    solverKwargsTrain = Dict{Symbol, Any}(:maxiters => round(Int, 1000*BATCHDUR)) \n",
    "    \n",
    "    # a smaller dispatch for our custom loss function, only taking the solution object\n",
    "    lossFct = (solution::FMUSolution) -> _lossFct(solution, data, LOSS, LASTWEIGHT)\n",
    "\n",
    "    # selecting a scheduler for training\n",
    "    scheduler = nothing\n",
    "    if SCHEDULER == :Random\n",
    "        # a scheduler that picks a random batch element\n",
    "        scheduler = RandomScheduler(neuralFMU, batch; applyStep=1, plotStep=0)\n",
    "    elseif SCHEDULER == :Sequential\n",
    "        # a scheduler that picks one batch element after another (in chronological order)\n",
    "        scheduler = SequentialScheduler(neuralFMU, batch; applyStep=1, plotStep=0)\n",
    "    elseif SCHEDULER == :LossAccumulation\n",
    "        # a scheduler that picks the element with largest accumulated loss:\n",
    "        # - after every training step, the accumulated loss for every batch element is increased by the current loss value \n",
    "        # - when picking a batch element, the accumulated loss is reset to zero\n",
    "        # - this promotes selecting elements with larger losses more often, but also prevents starving of elements with small losses\n",
    "        scheduler = LossAccumulationScheduler(neuralFMU, batch, lossFct; applyStep=1, plotStep=0, updateStep=1)\n",
    "    else \n",
    "        @error \"Unknown SCHEDULER: ´$(SCHEDULER)´.\"\n",
    "        return nothing\n",
    "    end\n",
    "\n",
    "    # loss for training, do a simulation run on a batch element taken from the scheduler\n",
    "    loss = p -> FMIFlux.Losses.loss(neuralFMU,                          # the NeuralFMU to simulate\n",
    "                                    batch;                              # the batch to take an element from\n",
    "                                    p=p,                                # the NeuralFMU training parameters (given as input)\n",
    "                                    parameters=data.params,             # the FMU parameters\n",
    "                                    lossFct=lossFct,                    # our custom loss function\n",
    "                                    batchIndex=scheduler.elementIndex,  # the index of the batch element to take, determined by the chosen scheduler\n",
    "                                    logLoss=true,                       # log losses after every evaluation\n",
    "                                    showProgress=showProgress,          # show progress bar (or don't)\n",
    "                                    solverKwargsTrain...)               # the solver kwargs defined above\n",
    "\n",
    "    # gather the parameters from the NeuralFMU\n",
    "    params = FMIFlux.params(neuralFMU)\n",
    "\n",
    "    # initialize the scheduler, keywords are passed to the NeuralFMU\n",
    "    FMIFlux.initialize!(scheduler; parameters=data.params, p=params[1], showProgress=showProgress)\n",
    "    \n",
    "    # initialize Adam optimizer with our hyperparameters\n",
    "    optim = Adam(ETA, (BETA1, BETA2))\n",
    "   \n",
    "    # the actual training\n",
    "    FMIFlux.train!(loss,                            # the loss function for training\n",
    "                   neuralFMU,                       # the neural FMU including the parameters to train\n",
    "                   Iterators.repeated((), steps),   # an iterator repeating `steps` times\n",
    "                   optim;                           # the optimizer to train\n",
    "                   gradient=:ReverseDiff,           # ForwardDiff leads to good results for multi-event systems\n",
    "                   chunk_size=32,                   # ForwardDiff chunk_size (=number of parameter estimations per run) - only if ForwardDiff is used\n",
    "                   cb=() -> FMIFlux.update!(scheduler),     # update the scheduler after every step \n",
    "                   proceed_on_assert=true)          # proceed, even if assertions are thrown, with the next step\n",
    "    \n",
    "    # the default execution mode\n",
    "    singleInstanceMode(fmu, false)\n",
    "\n",
    "    # save our result parameters\n",
    "    FMIFlux.saveParameters(neuralFMU, joinpath(@__DIR__, \"params\", \"$(ind).jld2\"))\n",
    "    \n",
    "    # simulate the NeuralFMU on a validation trajectory\n",
    "    resultNFMU = neuralFMU(x0, (data_validation.consumption_t[1], data_validation.consumption_t[end]); parameters=data_validation.params, showProgress=showProgress, maxiters=1e7, saveat=data_validation.consumption_t)\n",
    "\n",
    "    # determine loss on validation data (if the simulation was successful)\n",
    "    validation_loss = nothing \n",
    "    if resultNFMU.success\n",
    "        # compute the loss on VALIDATION data \n",
    "        validation_loss = _lossFct(resultNFMU,      # the NeuralFMU\n",
    "                                  data_validation,  # the validation data set \n",
    "                                  :MSE)             # use MSE \n",
    "    end        \n",
    "\n",
    "    # unload FMU\n",
    "    unloadFMU(fmu)\n",
    "\n",
    "    # return the loss (or `nothing` if no loss can be determined)\n",
    "    return validation_loss\n",
    "end"
   ]
  },
  {
   "cell_type": "markdown",
   "metadata": {},
   "source": [
    "Let's check if the train function is working for a given set of hyperparameters."
   ]
  },
  {
   "cell_type": "code",
   "execution_count": null,
   "metadata": {},
   "outputs": [],
   "source": [
    "# check if the train function is working for a set of given (random) hyperparameters\n",
    "#     ([  ETA, BETA1,  BETA2, BATCHDUR, LASTWEIGHT, SCHEDULER, LOSS], RESOURCE, INDEX)\n",
    "train!([0.0001,  0.9,  0.999,      4.0,        0.7,   :Random, :MSE],      8.0,     1) \n",
    "\n",
    "# for hyper parameter optimization, uncomment the line above!"
   ]
  },
  {
   "cell_type": "markdown",
   "metadata": {},
   "source": [
    "# 5. Results \n",
    "After training with a set of good hyperparameters, results can be loaded (one set is already prepared if you skipped the optimization)."
   ]
  },
  {
   "cell_type": "code",
   "execution_count": null,
   "metadata": {},
   "outputs": [],
   "source": [
    "# load our FMU (we take one from the FMIZoo.jl, exported with Dymola 2020x)\n",
    "fmu = loadFMU(\"VLDM\", \"Dymola\", \"2020x\"; type=:ME)\n",
    "\n",
    "# build NeuralFMU\n",
    "neuralFMU = build_NFMU(fmu)\n",
    "\n",
    "# load parameters from hyperparameter optimization\n",
    "FMIFlux.loadParameters(neuralFMU, joinpath(@__DIR__, \"juliacon_2023.jld2\"))\n",
    "\n",
    "# simulate and plot the NeuralFMU\n",
    "resultNFMU = neuralFMU(x0,  (tStart, tStop); parameters=data.params, showProgress=showProgress, saveat=tSave) \n",
    "resultFMU  =  simulate(fmu, (tStart, tStop); parameters=data.params, showProgress=showProgress, saveat=tSave) \n",
    "\n",
    "# plot the NeuralFMU, original FMU and data (cumulative consumption)\n",
    "fig = plot(resultNFMU; stateIndices=6:6, stateEvents=false, timeEvents=false, label=\"NeuralFMU\", ylabel=\"cumulative consumption [m/s]\")\n",
    "plot!(fig, resultFMU; stateIndices=6:6, values=false, stateEvents=false, timeEvents=false, label=\"FMU\")\n",
    "plot!(fig, data.cumconsumption_t, data.cumconsumption_val, label=\"Data\")"
   ]
  },
  {
   "cell_type": "markdown",
   "metadata": {},
   "source": [
    "We also have a ready-to-use function that calculates different errors and plots them."
   ]
  },
  {
   "cell_type": "code",
   "execution_count": null,
   "metadata": {},
   "outputs": [],
   "source": [
    "plotCumulativeConsumption(resultNFMU, resultFMU, data; filename=joinpath(@__DIR__, \"comparison_train_100.png\"))"
   ]
  },
  {
   "cell_type": "markdown",
   "metadata": {},
   "source": [
    "Because the deviation is small, let's check the last 10% of WLTC focussed, so from 90% to 100%."
   ]
  },
  {
   "cell_type": "code",
   "execution_count": null,
   "metadata": {},
   "outputs": [],
   "source": [
    "plotCumulativeConsumption(resultNFMU, resultFMU, data; range=(0.9, 1.0), filename=joinpath(@__DIR__, \"comparison_train_10.png\"))"
   ]
  },
  {
   "cell_type": "markdown",
   "metadata": {},
   "source": [
    "Finally, we should check the results on validation data: The full WLTC cycle."
   ]
  },
  {
   "cell_type": "code",
   "execution_count": null,
   "metadata": {},
   "outputs": [],
   "source": [
    "# get start and stop for the validation cycle (full WLTC)\n",
    "tStart_validation = data_validation.cumconsumption_t[1]\n",
    "tStop_validation = data_validation.cumconsumption_t[end]\n",
    "tSave_validation = data_validation.cumconsumption_t\n",
    "\n",
    "# simulate the NeuralFMU on validation data\n",
    "resultNFMU = neuralFMU(x0,  (tStart_validation, tStop_validation); parameters=data_validation.params, showProgress=showProgress, saveat=tSave_validation) \n",
    "resultFMU  =  simulate(fmu, (tStart_validation, tStop_validation); parameters=data_validation.params, showProgress=showProgress, saveat=tSave_validation) \n",
    "\n",
    "plotCumulativeConsumption(resultNFMU, resultFMU, data_validation; filename=joinpath(@__DIR__, \"comparison_validation_100.png\"))"
   ]
  },
  {
   "cell_type": "markdown",
   "metadata": {},
   "source": [
    "... and the last 10% ..."
   ]
  },
  {
   "cell_type": "code",
   "execution_count": null,
   "metadata": {},
   "outputs": [],
   "source": [
    "plotCumulativeConsumption(resultNFMU, resultFMU, data_validation; range=(0.9, 1.0), filename=joinpath(@__DIR__, \"comparison_validation_10.png\"))"
   ]
  },
  {
   "cell_type": "markdown",
   "metadata": {},
   "source": [
    "Check out the **error values** in the legend: This is an enhancement of factor x326 on MSE, x22 on MAE and x11 on MAX error, wow!\n",
    "\n",
    "Finally some plotting \"sugar\": A plot showing for which locations in derivative-space the model enhanced the cumulative consumption prediction the most:"
   ]
  },
  {
   "cell_type": "code",
   "execution_count": null,
   "metadata": {},
   "outputs": [],
   "source": [
    "plotEnhancements(neuralFMU, fmu, data; filename=joinpath(@__DIR__, \"result.gif\"))"
   ]
  },
  {
   "cell_type": "markdown",
   "metadata": {},
   "source": [
    "After we finished, let's finally unload the FMU and invalidate the NeuralFMU."
   ]
  },
  {
   "cell_type": "code",
   "execution_count": 33,
   "metadata": {},
   "outputs": [],
   "source": [
    "# unload FMU / invalidate NeuralFMU\n",
    "unloadFMU(fmu)\n",
    "neuralFMU = nothing"
   ]
  },
  {
   "cell_type": "markdown",
   "metadata": {},
   "source": [
    "**But:** We did look on some results, but did not talk about where the used hyperparameters came from ...\n",
    "\n",
    "They come from hyperparameter optimization - and this step is necessary for NeuralODEs too! "
   ]
  },
  {
   "cell_type": "markdown",
   "metadata": {},
   "source": [
    "# Optional: Organize as module\n",
    "If you want, you can place all code inside of a module named `NODE_Training`, this simplifies hyper parameter optimization (if you want to do one)."
   ]
  },
  {
   "cell_type": "code",
   "execution_count": 34,
   "metadata": {},
   "outputs": [],
   "source": [
    "# for hyper parameter optimization, place the code in a `module`\n",
    "# uncomment the following three lines and place them at the very beginning\n",
    " \n",
    "#module NODE_Training \n",
    "#using DistributedHyperOpt\n",
    "#using DistributedHyperOpt.Distributed \n",
    "\n",
    "# ... and uncomment the following line\n",
    "#end # NODE_Training "
   ]
  }
 ],
 "metadata": {
  "kernelspec": {
   "display_name": "Julia 1.10.5",
   "language": "julia",
   "name": "julia-1.10"
  },
  "language_info": {
   "file_extension": ".jl",
   "mimetype": "application/julia",
   "name": "julia",
   "version": "1.10.5"
  },
  "orig_nbformat": 4
 },
 "nbformat": 4,
 "nbformat_minor": 2
}
