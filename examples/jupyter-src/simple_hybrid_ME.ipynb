{
 "cells": [
  {
   "attachments": {},
   "cell_type": "markdown",
   "metadata": {},
   "source": [
    "# Neural FMUs in model exchange (ME) mode\n",
    "Tutorial by Tobias Thummerer\n",
    "\n",
    "*Last edit: 03.09.2024*\n",
    "\n",
    "## License"
   ]
  },
  {
   "cell_type": "code",
   "execution_count": null,
   "metadata": {
    "execution": {
     "iopub.execute_input": "2022-10-14T15:45:10.103000Z",
     "iopub.status.busy": "2022-10-14T15:45:09.414000Z",
     "iopub.status.idle": "2022-10-14T15:45:10.382000Z",
     "shell.execute_reply": "2022-10-14T15:45:10.307000Z"
    }
   },
   "outputs": [],
   "source": [
    "# Copyright (c) 2021 Tobias Thummerer, Lars Mikelsons\n",
    "# Licensed under the MIT license. \n",
    "# See LICENSE (https://github.com/thummeto/FMIFlux.jl/blob/main/LICENSE) file in the project root for details."
   ]
  },
  {
   "attachments": {},
   "cell_type": "markdown",
   "metadata": {},
   "source": [
    "## Introduction\n",
    "Functional mock-up units (FMUs) can easily be seen as containers for simulation models. \n",
    "\n",
    "This example shows how to build a very easy neural FMU by combining a model exchange (ME) FMU and an artificial neural network (ANN).\n",
    "The goal is, to train the hybrid model based on a very simple simulation model."
   ]
  },
  {
   "cell_type": "markdown",
   "metadata": {},
   "source": [
    "## Packages\n",
    "First, import the packages needed:"
   ]
  },
  {
   "cell_type": "code",
   "execution_count": null,
   "metadata": {
    "execution": {
     "iopub.execute_input": "2022-10-14T15:45:10.385000Z",
     "iopub.status.busy": "2022-10-14T15:45:10.385000Z",
     "iopub.status.idle": "2022-10-14T15:46:31.651000Z",
     "shell.execute_reply": "2022-10-14T15:46:31.651000Z"
    },
    "scrolled": false
   },
   "outputs": [],
   "source": [
    "# imports\n",
    "using FMI                       # for importing and simulating FMUs\n",
    "using FMIFlux                   # for building neural FMUs\n",
    "using FMIFlux.Flux              # the default machine learning library in Julia\n",
    "using FMIZoo                    # a collection of demo FMUs\n",
    "using DifferentialEquations     # the (O)DE solver suite in Julia\n",
    "using Plots                     # for plotting some results\n",
    "\n",
    "import Random                   # for random variables (and random initialization)\n",
    "Random.seed!(1234)              # makes our program deterministic"
   ]
  },
  {
   "cell_type": "markdown",
   "metadata": {},
   "source": [
    "## Code\n",
    "Next, start and stop time are set for the simulation, as well as some intermediate time points `tSave` to record simulation results."
   ]
  },
  {
   "cell_type": "code",
   "execution_count": null,
   "metadata": {
    "execution": {
     "iopub.execute_input": "2022-10-14T15:46:38.515000Z",
     "iopub.status.busy": "2022-10-14T15:46:31.654000Z",
     "iopub.status.idle": "2022-10-14T15:46:46.541000Z",
     "shell.execute_reply": "2022-10-14T15:46:46.541000Z"
    },
    "scrolled": false
   },
   "outputs": [],
   "source": [
    "tStart = 0.0\n",
    "tStep = 0.01\n",
    "tStop = 5.0\n",
    "tSave = collect(tStart:tStep:tStop)"
   ]
  },
  {
   "cell_type": "markdown",
   "metadata": {},
   "source": [
    "### Complex FMU (ground truth training data)\n",
    "First, let's load a model from the *FMIZoo.jl*, an easy pendulum including some friction. We will use that to generate training data."
   ]
  },
  {
   "cell_type": "code",
   "execution_count": null,
   "metadata": {
    "execution": {
     "iopub.execute_input": "2022-10-14T15:46:46.545000Z",
     "iopub.status.busy": "2022-10-14T15:46:46.545000Z",
     "iopub.status.idle": "2022-10-14T15:46:52.150000Z",
     "shell.execute_reply": "2022-10-14T15:46:52.150000Z"
    },
    "scrolled": false
   },
   "outputs": [],
   "source": [
    "# let's load the FMU in ME-mode (some FMUs support multiple simulation modes)\n",
    "fmu_gt = loadFMU(\"SpringFrictionPendulum1D\", \"Dymola\", \"2022x\"; type=:ME)  \n",
    "\n",
    "# and print some info\n",
    "info(fmu_gt)   "
   ]
  },
  {
   "cell_type": "markdown",
   "metadata": {},
   "source": [
    "Next, the start state `x0` is defined, together with some variables to be recorded `vrs` (they are identified by the names that where used during export of the FMU). The FMU is simulated and the results are plotted."
   ]
  },
  {
   "cell_type": "code",
   "execution_count": null,
   "metadata": {
    "execution": {
     "iopub.execute_input": "2022-10-14T15:46:52.154000Z",
     "iopub.status.busy": "2022-10-14T15:46:52.154000Z",
     "iopub.status.idle": "2022-10-14T15:48:47.834000Z",
     "shell.execute_reply": "2022-10-14T15:48:47.834000Z"
    },
    "scrolled": false
   },
   "outputs": [],
   "source": [
    "# the initial state we start our simulation with, position (0.5 m) and velocity (0.0 m/s) of the pendulum\n",
    "x0 = [0.5, 0.0] \n",
    "\n",
    "# some variables we are interested in, so let's record them: position, velocity and acceleration\n",
    "vrs = [\"mass.s\", \"mass.v\", \"mass.a\"]  \n",
    "\n",
    "# simulate the FMU ...\n",
    "sol_gt = simulate(fmu_gt, (tStart, tStop); recordValues=vrs, saveat=tSave, x0=x0)    \n",
    "\n",
    "# ... and plot it! (but only the recorded values, not the states)\n",
    "plot(sol_gt; states=false)                                                                    "
   ]
  },
  {
   "cell_type": "markdown",
   "metadata": {},
   "source": [
    "After the simulation, specific variables can be extracted. We will use them for the later training - as training data!"
   ]
  },
  {
   "cell_type": "code",
   "execution_count": null,
   "metadata": {
    "execution": {
     "iopub.execute_input": "2022-10-14T15:48:47.840000Z",
     "iopub.status.busy": "2022-10-14T15:48:47.840000Z",
     "iopub.status.idle": "2022-10-14T15:48:48.576000Z",
     "shell.execute_reply": "2022-10-14T15:48:48.576000Z"
    },
    "scrolled": false
   },
   "outputs": [],
   "source": [
    "pos_gt = getValue(sol_gt, \"mass.s\")"
   ]
  },
  {
   "cell_type": "markdown",
   "metadata": {},
   "source": [
    "Now, we can release the FMU again - we don't need it anymore."
   ]
  },
  {
   "cell_type": "code",
   "execution_count": null,
   "metadata": {
    "execution": {
     "iopub.execute_input": "2022-10-14T15:48:48.580000Z",
     "iopub.status.busy": "2022-10-14T15:48:48.579000Z",
     "iopub.status.idle": "2022-10-14T15:48:48.617000Z",
     "shell.execute_reply": "2022-10-14T15:48:48.617000Z"
    }
   },
   "outputs": [],
   "source": [
    "unloadFMU(fmu_gt)"
   ]
  },
  {
   "cell_type": "markdown",
   "metadata": {},
   "source": [
    "### Simple FMU\n",
    "Now, we load an even more simple system, that we use as *core* for our neural FMU: A pendulum *without* friction. Again, we load, simulate and plot the FMU and its results."
   ]
  },
  {
   "cell_type": "code",
   "execution_count": null,
   "metadata": {
    "execution": {
     "iopub.execute_input": "2022-10-14T15:48:48.620000Z",
     "iopub.status.busy": "2022-10-14T15:48:48.620000Z",
     "iopub.status.idle": "2022-10-14T15:48:51.280000Z",
     "shell.execute_reply": "2022-10-14T15:48:51.279000Z"
    },
    "scrolled": false
   },
   "outputs": [],
   "source": [
    "fmu = loadFMU(\"SpringPendulum1D\", \"Dymola\", \"2022x\"; type=:ME)\n",
    "info(fmu)\n",
    "\n",
    "sol_fmu = simulate(fmu, (tStart, tStop); recordValues=vrs, saveat=tSave)\n",
    "plot(sol_fmu)"
   ]
  },
  {
   "attachments": {},
   "cell_type": "markdown",
   "metadata": {},
   "source": [
    "### Neural FMU\n",
    "Now the fun begins, let's combine the loaded FMU and the ANN! "
   ]
  },
  {
   "cell_type": "code",
   "execution_count": null,
   "metadata": {
    "execution": {
     "iopub.execute_input": "2022-10-14T15:48:53.090000Z",
     "iopub.status.busy": "2022-10-14T15:48:53.090000Z",
     "iopub.status.idle": "2022-10-14T15:49:00.956000Z",
     "shell.execute_reply": "2022-10-14T15:49:00.956000Z"
    },
    "scrolled": false
   },
   "outputs": [],
   "source": [
    "# get number of states\n",
    "numStates = getNumberOfStates(fmu)\n",
    "\n",
    "net = Chain(x -> fmu(x=x, dx_refs=:all),    # we can use the FMU just like any other neural network layer!\n",
    "            Dense(numStates, 16, tanh),     # some additional dense layers ...\n",
    "            Dense(16, 16, tanh),\n",
    "            Dense(16, numStates))\n",
    "\n",
    "# the neural FMU is constructed by providing the FMU, the net topology, start and stop time and a solver (here: Tsit5)\n",
    "neuralFMU = ME_NeuralFMU(fmu, net, (tStart, tStop), Tsit5(); saveat=tSave);"
   ]
  },
  {
   "cell_type": "markdown",
   "metadata": {},
   "source": [
    "Now, we can check how the neural FMU performs before the actual training!"
   ]
  },
  {
   "cell_type": "code",
   "execution_count": null,
   "metadata": {
    "execution": {
     "iopub.execute_input": "2022-10-14T15:49:03.158000Z",
     "iopub.status.busy": "2022-10-14T15:49:03.158000Z",
     "iopub.status.idle": "2022-10-14T15:49:34.545000Z",
     "shell.execute_reply": "2022-10-14T15:49:34.545000Z"
    },
    "scrolled": false
   },
   "outputs": [],
   "source": [
    "solutionBefore = neuralFMU(x0)\n",
    "plot(solutionBefore)"
   ]
  },
  {
   "cell_type": "markdown",
   "metadata": {},
   "source": [
    "Not that ideal... let's add our ground truth data to compare!"
   ]
  },
  {
   "cell_type": "code",
   "execution_count": null,
   "metadata": {},
   "outputs": [],
   "source": [
    "plot!(sol_gt; values=false)"
   ]
  },
  {
   "cell_type": "markdown",
   "metadata": {},
   "source": [
    "Ufff... only the starting state for position and velocity is correct. Training seems a good idea here!"
   ]
  },
  {
   "cell_type": "markdown",
   "metadata": {},
   "source": [
    "### Loss function\n",
    "Before we can train the neural FMU, we need to define a loss function. We use the common mean-squared-error (MSE) here."
   ]
  },
  {
   "cell_type": "code",
   "execution_count": null,
   "metadata": {
    "execution": {
     "iopub.execute_input": "2022-10-14T15:48:51.344000Z",
     "iopub.status.busy": "2022-10-14T15:48:51.344000Z",
     "iopub.status.idle": "2022-10-14T15:48:52.974000Z",
     "shell.execute_reply": "2022-10-14T15:48:52.974000Z"
    },
    "scrolled": false
   },
   "outputs": [],
   "source": [
    "function loss(p)\n",
    "    # simulate the neural FMU by calling it\n",
    "    sol_nfmu = neuralFMU(x0; p=p)\n",
    "\n",
    "    # we use the first state, because we know that's the position\n",
    "    pos_nfmu = getState(sol_nfmu, 1; isIndex=true)\n",
    "\n",
    "    # we could also identify the position state by its name\n",
    "    #pos_nfmu = getState(solution, \"mass.s\")\n",
    "    \n",
    "    FMIFlux.Losses.mse(pos_gt, pos_nfmu) \n",
    "end"
   ]
  },
  {
   "cell_type": "markdown",
   "metadata": {},
   "source": [
    "### Callback\n",
    "Further, we define a simple logging function for our training."
   ]
  },
  {
   "cell_type": "code",
   "execution_count": null,
   "metadata": {
    "execution": {
     "iopub.execute_input": "2022-10-14T15:48:52.978000Z",
     "iopub.status.busy": "2022-10-14T15:48:52.978000Z",
     "iopub.status.idle": "2022-10-14T15:48:53.086000Z",
     "shell.execute_reply": "2022-10-14T15:48:53.086000Z"
    },
    "scrolled": false
   },
   "outputs": [],
   "source": [
    "global counter = 0\n",
    "function callback(p)\n",
    "    global counter += 1\n",
    "    if counter % 20 == 1\n",
    "        lossVal = loss(p[1])\n",
    "        @info \"Loss [$(counter)]: $(round(lossVal, digits=6))\"\n",
    "    end\n",
    "end"
   ]
  },
  {
   "attachments": {},
   "cell_type": "markdown",
   "metadata": {},
   "source": [
    "### Training\n",
    "For training, we only need to extract the parameters to optimize and pass it to a pre-build train command `FMIFlux.train!`."
   ]
  },
  {
   "cell_type": "code",
   "execution_count": null,
   "metadata": {
    "execution": {
     "iopub.execute_input": "2022-10-14T15:49:34.550000Z",
     "iopub.status.busy": "2022-10-14T15:49:34.550000Z",
     "iopub.status.idle": "2022-10-14T15:51:13.090000Z",
     "shell.execute_reply": "2022-10-14T15:51:13.090000Z"
    },
    "scrolled": false
   },
   "outputs": [],
   "source": [
    "optim = Adam()\n",
    "\n",
    "p = FMIFlux.params(neuralFMU)\n",
    "\n",
    "FMIFlux.train!(\n",
    "    loss, \n",
    "    neuralFMU,\n",
    "    Iterators.repeated((), 500), \n",
    "    optim; \n",
    "    cb=()->callback(p)\n",
    ") "
   ]
  },
  {
   "cell_type": "markdown",
   "metadata": {},
   "source": [
    "## Results\n",
    "Finally, we can compare the results before and after training, as well as the ground truth data:"
   ]
  },
  {
   "cell_type": "code",
   "execution_count": null,
   "metadata": {
    "execution": {
     "iopub.execute_input": "2022-10-14T15:51:13.094000Z",
     "iopub.status.busy": "2022-10-14T15:51:13.094000Z",
     "iopub.status.idle": "2022-10-14T15:51:13.295000Z",
     "shell.execute_reply": "2022-10-14T15:51:13.295000Z"
    },
    "scrolled": false
   },
   "outputs": [],
   "source": [
    "solutionAfter = neuralFMU(x0)\n",
    "\n",
    "fig = plot(solutionBefore; stateIndices=1:1, label=\"Neural FMU (before)\", ylabel=\"position [m]\")\n",
    "plot!(fig, solutionAfter; stateIndices=1:1, label=\"Neural FMU (after)\")\n",
    "plot!(fig, tSave, pos_gt; label=\"ground truth\")\n",
    "fig"
   ]
  },
  {
   "cell_type": "markdown",
   "metadata": {},
   "source": [
    "Finally, the FMU is unloaded and memory released."
   ]
  },
  {
   "cell_type": "code",
   "execution_count": null,
   "metadata": {
    "execution": {
     "iopub.execute_input": "2022-10-14T15:53:37.332000Z",
     "iopub.status.busy": "2022-10-14T15:53:37.332000Z",
     "iopub.status.idle": "2022-10-14T15:53:37.338000Z",
     "shell.execute_reply": "2022-10-14T15:53:37.338000Z"
    },
    "scrolled": false
   },
   "outputs": [],
   "source": [
    "unloadFMU(fmu)"
   ]
  },
  {
   "cell_type": "markdown",
   "metadata": {},
   "source": [
    "### Source\n",
    "\n",
    "[1] Tobias Thummerer, Lars Mikelsons and Josef Kircher. 2021. **NeuralFMU: towards structural integration of FMUs into neural networks.** Martin Sjölund, Lena Buffoni, Adrian Pop and Lennart Ochel (Ed.). Proceedings of 14th Modelica Conference 2021, Linköping, Sweden, September 20-24, 2021. Linköping University Electronic Press, Linköping (Linköping Electronic Conference Proceedings ; 181), 297-306. [DOI: 10.3384/ecp21181297](https://doi.org/10.3384/ecp21181297)\n"
   ]
  },
  {
   "cell_type": "markdown",
   "metadata": {},
   "source": [
    "## Build information"
   ]
  },
  {
   "cell_type": "code",
   "execution_count": null,
   "metadata": {},
   "outputs": [],
   "source": [
    "# check package build information for reproducibility\n",
    "import Pkg; Pkg.status()"
   ]
  }
 ],
 "metadata": {
  "interpreter": {
   "hash": "037537ff7419c497b9325f7d495147943224d408cf5d5ed915294a5b960167b0"
  },
  "jupytext": {
   "cell_metadata_filter": "-all",
   "comment_magics": "false",
   "notebook_metadata_filter": "-all"
  },
  "kernelspec": {
   "display_name": "Julia 1.10.5",
   "language": "julia",
   "name": "julia-1.10"
  },
  "language_info": {
   "file_extension": ".jl",
   "mimetype": "application/julia",
   "name": "julia",
   "version": "1.10.5"
  }
 },
 "nbformat": 4,
 "nbformat_minor": 2
}
