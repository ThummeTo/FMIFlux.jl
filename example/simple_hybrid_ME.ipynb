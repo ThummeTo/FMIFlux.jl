{
 "cells": [
  {
   "cell_type": "markdown",
   "metadata": {},
   "source": [
    "# Creation and training of ME-NeuralFMUs\n",
    "Tutorial by Johannes Stoljar, Tobias Thummerer\n",
    "\n",
    "## License\n",
    "Copyright (c) 2021 Tobias Thummerer, Lars Mikelsons, Johannes Stoljar\n",
    "\n",
    "Licensed under the MIT license. See [LICENSE](https://github.com/thummeto/FMIFlux.jl/blob/main/LICENSE) file in the project root for details.\n",
    "\n",
    "## Motivation\n",
    "The Julia Package *FMIFlux.jl* is motivated by the application of hybrid modeling. This package enables the user to integrate his simulation model between neural networks (NeuralFMU). For this, the simulation model must be exported as FMU (functional mock-up unit), which corresponds to a widely used standard. The big advantage of hybrid modeling with artificial neural networks is, that effects that are difficult to model (because they might be unknown) can be easily learned by the neural networks. For this purpose, the NeuralFMU is trained with measurement data containing the unmodeled physical effect. The final product is a simulation model including the orignially unmodeled effects. Another big advantage of the NeuralFMU is that it works with little data, because the FMU already contains the characterisitic functionality of the simulation and only the missing effects are added.\n",
    "\n",
    "NeuralFMUs need not to be as easy as in this example. Basically a NeuralFMU can combine different ANN topologies that manipulate any FMU-input (system state, system inputs, time) and any FMU-output (system state derivative, system outputs, other system variables). However, for this example a NeuralFMU topology as shown in the following picture is used.\n",
    "\n",
    "![NeuralFMU.svg](https://github.com/thummeto/FMIFlux.jl/blob/main/docs/src/examples/pics/NeuralFMU.svg?raw=true)\n",
    "\n",
    "*NeuralFMU (ME) from* [[1]](#Source).\n",
    "\n",
    "## Introduction to the example\n",
    "In this example, simplified modeling of a one-dimensional spring pendulum (without friction) is compared to a model of the same system that includes a nonlinear friction model. The FMU with the simplified model will be named *simpleFMU* in the following and the model with the friction will be named *realFMU*. At the beginning, the actual state of both simulations is shown, whereby clear deviations can be seen in the graphs. The *realFMU* serves as a reference graph. The *simpleFMU* is then integrated into a NeuralFMU architecture and a training of the entire network is performed. After the training the final state is compared again to the *realFMU*. It can be clearly seen that by using the NeuralFMU, learning of the friction process has taken place.  \n",
    "\n",
    "\n",
    "## Target group\n",
    "The example is primarily intended for users who work in the field of first principle and/or hybrid modeling and are further interested in hybrid model building. The example wants to show how simple it is to combine FMUs with machine learning and to illustrate the advantages of this approach.\n",
    "\n",
    "\n",
    "## Other formats\n",
    "Besides this [Jupyter Notebook](https://github.com/thummeto/FMIFlux.jl/blob/main/example/simple_hybrid_ME.ipynb) there is also a [Julia file](https://github.com/thummeto/FMIFlux.jl/blob/main/example/simple_hybrid_ME.jl) with the same name, which contains only the code cells and for the documentation there is a [Markdown file](https://github.com/thummeto/FMIFlux.jl/blob/main/docs/src/examples/simple_hybrid_ME.md) corresponding to the notebook.  \n",
    "\n",
    "\n",
    "## Getting started\n",
    "\n",
    "### Installation prerequisites\n",
    "|    | Description                       | Command     |  Alternative  |   \n",
    "|:--- |:---                               |:---        |:---|\n",
    "|1.  | Enter Package Manager via         |     ]       |     |\n",
    "|2.  | Install FMI via                   |   add FMI   | add \" https://github.com/ThummeTo/FMI.jl \"   |\n",
    "|3.  | Install FMIFlux via               | add FMIFlux | add \" https://github.com/ThummeTo/FMIFlux.jl \" |\n",
    "|4.  | Install FMIZoo via                | add FMIZoo  | add \" https://github.com/ThummeTo/FMIZoo.jl \" |\n",
    "|5.  | Install Flux via                  |  add Flux   |     |\n",
    "|6.  | Install DifferentialEquations via | add DifferentialEquations |  |\n",
    "|7.  | Install Plots via                 | add Plots   |     |\n",
    "|8.  | Install Random via                | add Random  |     |"
   ]
  },
  {
   "cell_type": "markdown",
   "metadata": {},
   "source": [
    "## Code section\n",
    "\n",
    "To run the example, the previously installed packages must be included. "
   ]
  },
  {
   "cell_type": "code",
   "execution_count": 1,
   "metadata": {
    "scrolled": false
   },
   "outputs": [],
   "source": [
    "# imports\n",
    "using FMI\n",
    "using FMIFlux\n",
    "using FMIZoo\n",
    "using Flux\n",
    "using DifferentialEquations: Tsit5\n",
    "import Plots\n",
    "\n",
    "# set seed\n",
    "import Random\n",
    "Random.seed!(42);"
   ]
  },
  {
   "cell_type": "markdown",
   "metadata": {},
   "source": [
    "After importing the packages, the path to the *Functional Mock-up Units* (FMUs) is set. The FMU is a model exported meeting the *Functional Mock-up Interface* (FMI) Standard. The FMI is a free standard ([fmi-standard.org](http://fmi-standard.org/)) that defines a container and an interface to exchange dynamic models using a combination of XML files, binaries and C code zipped into a single file. \n",
    "\n",
    "The objec-orientated structure of the *SpringPendulum1D* (*simpleFMU*) can be seen in the following graphic and corresponds to a simple modeling.\n",
    "\n",
    "![svg](https://github.com/thummeto/FMIFlux.jl/blob/main/docs/src/examples/pics/SpringPendulum1D.svg?raw=true)\n",
    "\n",
    "In contrast, the model *SpringFrictionPendulum1D* (*realFMU*) is somewhat more accurate, because it includes a friction component. \n",
    "\n",
    "![svg](https://github.com/thummeto/FMIFlux.jl/blob/main/docs/src/examples/pics/SpringFrictionPendulum1D.svg?raw=true)"
   ]
  },
  {
   "cell_type": "markdown",
   "metadata": {},
   "source": [
    "Next, the start time and end time of the simulation are set. Finally, a step size is specified to store the results of the simulation at these time steps."
   ]
  },
  {
   "cell_type": "code",
   "execution_count": 2,
   "metadata": {
    "scrolled": false
   },
   "outputs": [
    {
     "data": {
      "text/plain": [
       "501-element Vector{Float64}:\n",
       " 0.0\n",
       " 0.01\n",
       " 0.02\n",
       " 0.03\n",
       " 0.04\n",
       " 0.05\n",
       " 0.06\n",
       " 0.07\n",
       " 0.08\n",
       " 0.09\n",
       " 0.1\n",
       " 0.11\n",
       " 0.12\n",
       " ⋮\n",
       " 4.89\n",
       " 4.9\n",
       " 4.91\n",
       " 4.92\n",
       " 4.93\n",
       " 4.94\n",
       " 4.95\n",
       " 4.96\n",
       " 4.97\n",
       " 4.98\n",
       " 4.99\n",
       " 5.0"
      ]
     },
     "execution_count": 2,
     "metadata": {},
     "output_type": "execute_result"
    }
   ],
   "source": [
    "tStart = 0.0\n",
    "tStep = 0.01\n",
    "tStop = 5.0\n",
    "tSave = collect(tStart:tStep:tStop)"
   ]
  },
  {
   "cell_type": "markdown",
   "metadata": {},
   "source": [
    "### RealFMU\n",
    "\n",
    "In the next lines of code the FMU of the *realFMU* model from *FMIZoo.jl* is loaded and instantiated.  "
   ]
  },
  {
   "cell_type": "code",
   "execution_count": 3,
   "metadata": {
    "scrolled": false
   },
   "outputs": [
    {
     "name": "stderr",
     "output_type": "stream",
     "text": [
      "┌ Info: fmi2Unzip(...): Successfully unzipped 29 files at `C:\\Users\\JOHANN~1\\AppData\\Local\\Temp\\fmijl_Ult4lO\\SpringFrictionPendulum1D`.\n",
      "└ @ FMI C:\\Users\\Johannes Stoljar\\.julia\\packages\\FMI\\2vOeg\\src\\FMI2.jl:274\n",
      "┌ Info: fmi2Load(...): FMU resources location is `file:///C:/Users/JOHANN~1/AppData/Local/Temp/fmijl_Ult4lO/SpringFrictionPendulum1D/resources`\n",
      "└ @ FMI C:\\Users\\Johannes Stoljar\\.julia\\packages\\FMI\\2vOeg\\src\\FMI2.jl:385\n",
      "┌ Info: fmi2Load(...): FMU supports both CS and ME, using CS as default if nothing specified.\n",
      "└ @ FMI C:\\Users\\Johannes Stoljar\\.julia\\packages\\FMI\\2vOeg\\src\\FMI2.jl:388\n"
     ]
    },
    {
     "name": "stdout",
     "output_type": "stream",
     "text": [
      "#################### Begin information for FMU ####################\n",
      "\tModel name:\t\t\tSpringFrictionPendulum1D\n",
      "\tFMI-Version:\t\t\t2.0\n",
      "\tGUID:\t\t\t\t{df491d8d-0598-4495-913e-5b025e54d7f2}\n",
      "\tGeneration tool:\t\tDymola Version 2022x (64-bit), 2021-10-08\n",
      "\tGeneration time:\t\t2022-03-03T15:09:18Z\n",
      "\tVar. naming conv.:\t\tstructured\n",
      "\tEvent indicators:\t\t24\n",
      "\tInputs:\t\t\t\t0\n",
      "\tOutputs:\t\t\t0\n",
      "\tStates:\t\t\t\t2\n",
      "\t\t33554432 [\"mass.s\"]\n",
      "\t\t33554433 [\"mass.v\", \"mass.v_relfric\"]\n",
      "\tSupports Co-Simulation:\t\ttrue\n",
      "\t\tModel identifier:\tSpringFrictionPendulum1D\n",
      "\t\tGet/Set State:\t\ttrue\n",
      "\t\tSerialize State:\ttrue\n",
      "\t\tDir. Derivatives:\ttrue\n",
      "\t\tVar. com. steps:\ttrue\n",
      "\t\tInput interpol.:\ttrue\n",
      "\t\tMax order out. der.:\t1\n",
      "\tSupports Model-Exchange:\ttrue\n",
      "\t\tModel identifier:\tSpringFrictionPendulum1D\n",
      "\t\tGet/Set State:\t\ttrue\n",
      "\t\tSerialize State:\ttrue\n",
      "\t\tDir. Derivatives:\ttrue\n",
      "##################### End information for FMU #####################\n"
     ]
    }
   ],
   "source": [
    "realFMU = fmiLoad(\"SpringFrictionPendulum1D\", \"Dymola\", \"2022x\")\n",
    "fmiInstantiate!(realFMU; loggingOn=false)\n",
    "fmiInfo(realFMU)"
   ]
  },
  {
   "cell_type": "markdown",
   "metadata": {},
   "source": [
    "Both the start and end time are set via the *fmiSetupExperiment()* function. The experiment is initialized to get the information of the continuous states. You can get all continuous states of a FMU by the function *fmiGetContinuousStates()* and this is also done for the *realFMU*. It has two states: The first state is the position of the mass, which is initilized with $0.5m$, the second state is the velocity, which is initialized with $0\\frac{m}{s}$.   "
   ]
  },
  {
   "cell_type": "code",
   "execution_count": 4,
   "metadata": {
    "scrolled": false
   },
   "outputs": [
    {
     "data": {
      "text/plain": [
       "2-element Vector{Float64}:\n",
       " 0.5\n",
       " 0.0"
      ]
     },
     "execution_count": 4,
     "metadata": {},
     "output_type": "execute_result"
    }
   ],
   "source": [
    "fmiSetupExperiment(realFMU, tStart, tStop)\n",
    "\n",
    "fmiEnterInitializationMode(realFMU)\n",
    "fmiExitInitializationMode(realFMU)\n",
    "\n",
    "x₀ = fmiGetContinuousStates(realFMU)"
   ]
  },
  {
   "cell_type": "markdown",
   "metadata": {},
   "source": [
    "In the following code block the *realFMU* is simulated, still specifying which variables are included. After the simulation is finished the result of the *realFMU* can be plotted. This plot also serves as a reference for the other model (*simpleFMU*)."
   ]
  },
  {
   "cell_type": "code",
   "execution_count": 5,
   "metadata": {
    "scrolled": false
   },
   "outputs": [
    {
     "data": {
      "image/svg+xml": [
       "<?xml version=\"1.0\" encoding=\"utf-8\"?>\n",
       "<svg xmlns=\"http://www.w3.org/2000/svg\" xmlns:xlink=\"http://www.w3.org/1999/xlink\" width=\"600\" height=\"400\" viewBox=\"0 0 2400 1600\">\n",
       "<defs>\n",
       "  <clipPath id=\"clip520\">\n",
       "    <rect x=\"0\" y=\"0\" width=\"2400\" height=\"1600\"/>\n",
       "  </clipPath>\n",
       "</defs>\n",
       "<path clip-path=\"url(#clip520)\" d=\"\n",
       "M0 1600 L2400 1600 L2400 0 L0 0  Z\n",
       "  \" fill=\"#ffffff\" fill-rule=\"evenodd\" fill-opacity=\"1\"/>\n",
       "<defs>\n",
       "  <clipPath id=\"clip521\">\n",
       "    <rect x=\"480\" y=\"0\" width=\"1681\" height=\"1600\"/>\n",
       "  </clipPath>\n",
       "</defs>\n",
       "<path clip-path=\"url(#clip520)\" d=\"\n",
       "M149.191 1423.18 L2352.76 1423.18 L2352.76 47.2441 L149.191 47.2441  Z\n",
       "  \" fill=\"#ffffff\" fill-rule=\"evenodd\" fill-opacity=\"1\"/>\n",
       "<defs>\n",
       "  <clipPath id=\"clip522\">\n",
       "    <rect x=\"149\" y=\"47\" width=\"2205\" height=\"1377\"/>\n",
       "  </clipPath>\n",
       "</defs>\n",
       "<polyline clip-path=\"url(#clip522)\" style=\"stroke:#000000; stroke-linecap:butt; stroke-linejoin:round; stroke-width:2; stroke-opacity:0.1; fill:none\" points=\"\n",
       "  211.556,1423.18 211.556,47.2441 \n",
       "  \"/>\n",
       "<polyline clip-path=\"url(#clip522)\" style=\"stroke:#000000; stroke-linecap:butt; stroke-linejoin:round; stroke-width:2; stroke-opacity:0.1; fill:none\" points=\"\n",
       "  627.323,1423.18 627.323,47.2441 \n",
       "  \"/>\n",
       "<polyline clip-path=\"url(#clip522)\" style=\"stroke:#000000; stroke-linecap:butt; stroke-linejoin:round; stroke-width:2; stroke-opacity:0.1; fill:none\" points=\"\n",
       "  1043.09,1423.18 1043.09,47.2441 \n",
       "  \"/>\n",
       "<polyline clip-path=\"url(#clip522)\" style=\"stroke:#000000; stroke-linecap:butt; stroke-linejoin:round; stroke-width:2; stroke-opacity:0.1; fill:none\" points=\"\n",
       "  1458.86,1423.18 1458.86,47.2441 \n",
       "  \"/>\n",
       "<polyline clip-path=\"url(#clip522)\" style=\"stroke:#000000; stroke-linecap:butt; stroke-linejoin:round; stroke-width:2; stroke-opacity:0.1; fill:none\" points=\"\n",
       "  1874.62,1423.18 1874.62,47.2441 \n",
       "  \"/>\n",
       "<polyline clip-path=\"url(#clip522)\" style=\"stroke:#000000; stroke-linecap:butt; stroke-linejoin:round; stroke-width:2; stroke-opacity:0.1; fill:none\" points=\"\n",
       "  2290.39,1423.18 2290.39,47.2441 \n",
       "  \"/>\n",
       "<polyline clip-path=\"url(#clip520)\" style=\"stroke:#000000; stroke-linecap:butt; stroke-linejoin:round; stroke-width:4; stroke-opacity:1; fill:none\" points=\"\n",
       "  149.191,1423.18 2352.76,1423.18 \n",
       "  \"/>\n",
       "<polyline clip-path=\"url(#clip520)\" style=\"stroke:#000000; stroke-linecap:butt; stroke-linejoin:round; stroke-width:4; stroke-opacity:1; fill:none\" points=\"\n",
       "  211.556,1423.18 211.556,1406.67 \n",
       "  \"/>\n",
       "<polyline clip-path=\"url(#clip520)\" style=\"stroke:#000000; stroke-linecap:butt; stroke-linejoin:round; stroke-width:4; stroke-opacity:1; fill:none\" points=\"\n",
       "  627.323,1423.18 627.323,1406.67 \n",
       "  \"/>\n",
       "<polyline clip-path=\"url(#clip520)\" style=\"stroke:#000000; stroke-linecap:butt; stroke-linejoin:round; stroke-width:4; stroke-opacity:1; fill:none\" points=\"\n",
       "  1043.09,1423.18 1043.09,1406.67 \n",
       "  \"/>\n",
       "<polyline clip-path=\"url(#clip520)\" style=\"stroke:#000000; stroke-linecap:butt; stroke-linejoin:round; stroke-width:4; stroke-opacity:1; fill:none\" points=\"\n",
       "  1458.86,1423.18 1458.86,1406.67 \n",
       "  \"/>\n",
       "<polyline clip-path=\"url(#clip520)\" style=\"stroke:#000000; stroke-linecap:butt; stroke-linejoin:round; stroke-width:4; stroke-opacity:1; fill:none\" points=\"\n",
       "  1874.62,1423.18 1874.62,1406.67 \n",
       "  \"/>\n",
       "<polyline clip-path=\"url(#clip520)\" style=\"stroke:#000000; stroke-linecap:butt; stroke-linejoin:round; stroke-width:4; stroke-opacity:1; fill:none\" points=\"\n",
       "  2290.39,1423.18 2290.39,1406.67 \n",
       "  \"/>\n",
       "<path clip-path=\"url(#clip520)\" d=\"M211.556 1452.37 Q207.945 1452.37 206.116 1455.94 Q204.311 1459.48 204.311 1466.61 Q204.311 1473.71 206.116 1477.28 Q207.945 1480.82 211.556 1480.82 Q215.19 1480.82 216.996 1477.28 Q218.824 1473.71 218.824 1466.61 Q218.824 1459.48 216.996 1455.94 Q215.19 1452.37 211.556 1452.37 M211.556 1448.67 Q217.366 1448.67 220.422 1453.27 Q223.5 1457.86 223.5 1466.61 Q223.5 1475.33 220.422 1479.94 Q217.366 1484.52 211.556 1484.52 Q205.746 1484.52 202.667 1479.94 Q199.612 1475.33 199.612 1466.61 Q199.612 1457.86 202.667 1453.27 Q205.746 1448.67 211.556 1448.67 Z\" fill=\"#000000\" fill-rule=\"evenodd\" fill-opacity=\"1\" /><path clip-path=\"url(#clip520)\" d=\"M617.705 1479.92 L625.344 1479.92 L625.344 1453.55 L617.034 1455.22 L617.034 1450.96 L625.297 1449.29 L629.973 1449.29 L629.973 1479.92 L637.612 1479.92 L637.612 1483.85 L617.705 1483.85 L617.705 1479.92 Z\" fill=\"#000000\" fill-rule=\"evenodd\" fill-opacity=\"1\" /><path clip-path=\"url(#clip520)\" d=\"M1037.74 1479.92 L1054.06 1479.92 L1054.06 1483.85 L1032.12 1483.85 L1032.12 1479.92 Q1034.78 1477.16 1039.36 1472.53 Q1043.97 1467.88 1045.15 1466.54 Q1047.4 1464.01 1048.28 1462.28 Q1049.18 1460.52 1049.18 1458.83 Q1049.18 1456.07 1047.23 1454.34 Q1045.31 1452.6 1042.21 1452.6 Q1040.01 1452.6 1037.56 1453.37 Q1035.13 1454.13 1032.35 1455.68 L1032.35 1450.96 Q1035.17 1449.82 1037.63 1449.25 Q1040.08 1448.67 1042.12 1448.67 Q1047.49 1448.67 1050.68 1451.35 Q1053.88 1454.04 1053.88 1458.53 Q1053.88 1460.66 1053.07 1462.58 Q1052.28 1464.48 1050.17 1467.07 Q1049.59 1467.74 1046.49 1470.96 Q1043.39 1474.15 1037.74 1479.92 Z\" fill=\"#000000\" fill-rule=\"evenodd\" fill-opacity=\"1\" /><path clip-path=\"url(#clip520)\" d=\"M1463.1 1465.22 Q1466.46 1465.94 1468.34 1468.2 Q1470.23 1470.47 1470.23 1473.81 Q1470.23 1478.92 1466.72 1481.72 Q1463.2 1484.52 1456.72 1484.52 Q1454.54 1484.52 1452.22 1484.08 Q1449.93 1483.67 1447.48 1482.81 L1447.48 1478.3 Q1449.42 1479.43 1451.74 1480.01 Q1454.05 1480.59 1456.58 1480.59 Q1460.97 1480.59 1463.27 1478.85 Q1465.58 1477.12 1465.58 1473.81 Q1465.58 1470.75 1463.43 1469.04 Q1461.3 1467.3 1457.48 1467.3 L1453.45 1467.3 L1453.45 1463.46 L1457.66 1463.46 Q1461.11 1463.46 1462.94 1462.09 Q1464.77 1460.7 1464.77 1458.11 Q1464.77 1455.45 1462.87 1454.04 Q1461 1452.6 1457.48 1452.6 Q1455.56 1452.6 1453.36 1453.02 Q1451.16 1453.44 1448.52 1454.31 L1448.52 1450.15 Q1451.18 1449.41 1453.5 1449.04 Q1455.84 1448.67 1457.9 1448.67 Q1463.22 1448.67 1466.32 1451.1 Q1469.42 1453.5 1469.42 1457.63 Q1469.42 1460.5 1467.78 1462.49 Q1466.14 1464.45 1463.1 1465.22 Z\" fill=\"#000000\" fill-rule=\"evenodd\" fill-opacity=\"1\" /><path clip-path=\"url(#clip520)\" d=\"M1877.63 1453.37 L1865.83 1471.81 L1877.63 1471.81 L1877.63 1453.37 M1876.41 1449.29 L1882.29 1449.29 L1882.29 1471.81 L1887.22 1471.81 L1887.22 1475.7 L1882.29 1475.7 L1882.29 1483.85 L1877.63 1483.85 L1877.63 1475.7 L1862.03 1475.7 L1862.03 1471.19 L1876.41 1449.29 Z\" fill=\"#000000\" fill-rule=\"evenodd\" fill-opacity=\"1\" /><path clip-path=\"url(#clip520)\" d=\"M2280.67 1449.29 L2299.03 1449.29 L2299.03 1453.23 L2284.95 1453.23 L2284.95 1461.7 Q2285.97 1461.35 2286.99 1461.19 Q2288.01 1461 2289.03 1461 Q2294.81 1461 2298.19 1464.18 Q2301.57 1467.35 2301.57 1472.76 Q2301.57 1478.34 2298.1 1481.44 Q2294.63 1484.52 2288.31 1484.52 Q2286.13 1484.52 2283.86 1484.15 Q2281.62 1483.78 2279.21 1483.04 L2279.21 1478.34 Q2281.29 1479.48 2283.52 1480.03 Q2285.74 1480.59 2288.21 1480.59 Q2292.22 1480.59 2294.56 1478.48 Q2296.9 1476.38 2296.9 1472.76 Q2296.9 1469.15 2294.56 1467.05 Q2292.22 1464.94 2288.21 1464.94 Q2286.34 1464.94 2284.46 1465.36 Q2282.61 1465.77 2280.67 1466.65 L2280.67 1449.29 Z\" fill=\"#000000\" fill-rule=\"evenodd\" fill-opacity=\"1\" /><path clip-path=\"url(#clip520)\" d=\"M1199.28 1522.27 L1199.28 1532.4 L1211.35 1532.4 L1211.35 1536.95 L1199.28 1536.95 L1199.28 1556.3 Q1199.28 1560.66 1200.46 1561.9 Q1201.67 1563.14 1205.33 1563.14 L1211.35 1563.14 L1211.35 1568.04 L1205.33 1568.04 Q1198.55 1568.04 1195.97 1565.53 Q1193.4 1562.98 1193.4 1556.3 L1193.4 1536.95 L1189.1 1536.95 L1189.1 1532.4 L1193.4 1532.4 L1193.4 1522.27 L1199.28 1522.27 Z\" fill=\"#000000\" fill-rule=\"evenodd\" fill-opacity=\"1\" /><path clip-path=\"url(#clip520)\" d=\"M1239.23 1518.52 L1252.72 1518.52 L1252.72 1523.07 L1245.09 1523.07 L1245.09 1572.09 L1252.72 1572.09 L1252.72 1576.64 L1239.23 1576.64 L1239.23 1518.52 Z\" fill=\"#000000\" fill-rule=\"evenodd\" fill-opacity=\"1\" /><path clip-path=\"url(#clip520)\" d=\"M1287.93 1533.45 L1287.93 1538.98 Q1285.44 1537.71 1282.77 1537.07 Q1280.1 1536.44 1277.23 1536.44 Q1272.87 1536.44 1270.68 1537.77 Q1268.51 1539.11 1268.51 1541.79 Q1268.51 1543.82 1270.07 1545 Q1271.63 1546.15 1276.34 1547.2 L1278.35 1547.64 Q1284.58 1548.98 1287.19 1551.43 Q1289.84 1553.85 1289.84 1558.21 Q1289.84 1563.17 1285.89 1566.07 Q1281.97 1568.97 1275.1 1568.97 Q1272.23 1568.97 1269.12 1568.39 Q1266.03 1567.85 1262.59 1566.74 L1262.59 1560.69 Q1265.84 1562.38 1268.99 1563.24 Q1272.14 1564.07 1275.23 1564.07 Q1279.36 1564.07 1281.59 1562.66 Q1283.82 1561.23 1283.82 1558.65 Q1283.82 1556.27 1282.2 1554.99 Q1280.61 1553.72 1275.16 1552.54 L1273.13 1552.07 Q1267.68 1550.92 1265.26 1548.56 Q1262.85 1546.18 1262.85 1542.04 Q1262.85 1537.01 1266.41 1534.27 Q1269.98 1531.54 1276.53 1531.54 Q1279.78 1531.54 1282.64 1532.01 Q1285.51 1532.49 1287.93 1533.45 Z\" fill=\"#000000\" fill-rule=\"evenodd\" fill-opacity=\"1\" /><path clip-path=\"url(#clip520)\" d=\"M1312.85 1518.52 L1312.85 1576.64 L1299.35 1576.64 L1299.35 1572.09 L1306.96 1572.09 L1306.96 1523.07 L1299.35 1523.07 L1299.35 1518.52 L1312.85 1518.52 Z\" fill=\"#000000\" fill-rule=\"evenodd\" fill-opacity=\"1\" /><polyline clip-path=\"url(#clip522)\" style=\"stroke:#000000; stroke-linecap:butt; stroke-linejoin:round; stroke-width:2; stroke-opacity:0.1; fill:none\" points=\"\n",
       "  149.191,1247.37 2352.76,1247.37 \n",
       "  \"/>\n",
       "<polyline clip-path=\"url(#clip522)\" style=\"stroke:#000000; stroke-linecap:butt; stroke-linejoin:round; stroke-width:2; stroke-opacity:0.1; fill:none\" points=\"\n",
       "  149.191,969.637 2352.76,969.637 \n",
       "  \"/>\n",
       "<polyline clip-path=\"url(#clip522)\" style=\"stroke:#000000; stroke-linecap:butt; stroke-linejoin:round; stroke-width:2; stroke-opacity:0.1; fill:none\" points=\"\n",
       "  149.191,691.907 2352.76,691.907 \n",
       "  \"/>\n",
       "<polyline clip-path=\"url(#clip522)\" style=\"stroke:#000000; stroke-linecap:butt; stroke-linejoin:round; stroke-width:2; stroke-opacity:0.1; fill:none\" points=\"\n",
       "  149.191,414.176 2352.76,414.176 \n",
       "  \"/>\n",
       "<polyline clip-path=\"url(#clip522)\" style=\"stroke:#000000; stroke-linecap:butt; stroke-linejoin:round; stroke-width:2; stroke-opacity:0.1; fill:none\" points=\"\n",
       "  149.191,136.446 2352.76,136.446 \n",
       "  \"/>\n",
       "<polyline clip-path=\"url(#clip520)\" style=\"stroke:#000000; stroke-linecap:butt; stroke-linejoin:round; stroke-width:4; stroke-opacity:1; fill:none\" points=\"\n",
       "  149.191,1423.18 149.191,47.2441 \n",
       "  \"/>\n",
       "<polyline clip-path=\"url(#clip520)\" style=\"stroke:#000000; stroke-linecap:butt; stroke-linejoin:round; stroke-width:4; stroke-opacity:1; fill:none\" points=\"\n",
       "  149.191,1247.37 175.634,1247.37 \n",
       "  \"/>\n",
       "<polyline clip-path=\"url(#clip520)\" style=\"stroke:#000000; stroke-linecap:butt; stroke-linejoin:round; stroke-width:4; stroke-opacity:1; fill:none\" points=\"\n",
       "  149.191,969.637 175.634,969.637 \n",
       "  \"/>\n",
       "<polyline clip-path=\"url(#clip520)\" style=\"stroke:#000000; stroke-linecap:butt; stroke-linejoin:round; stroke-width:4; stroke-opacity:1; fill:none\" points=\"\n",
       "  149.191,691.907 175.634,691.907 \n",
       "  \"/>\n",
       "<polyline clip-path=\"url(#clip520)\" style=\"stroke:#000000; stroke-linecap:butt; stroke-linejoin:round; stroke-width:4; stroke-opacity:1; fill:none\" points=\"\n",
       "  149.191,414.176 175.634,414.176 \n",
       "  \"/>\n",
       "<polyline clip-path=\"url(#clip520)\" style=\"stroke:#000000; stroke-linecap:butt; stroke-linejoin:round; stroke-width:4; stroke-opacity:1; fill:none\" points=\"\n",
       "  149.191,136.446 175.634,136.446 \n",
       "  \"/>\n",
       "<path clip-path=\"url(#clip520)\" d=\"M50.9921 1247.82 L80.6679 1247.82 L80.6679 1251.75 L50.9921 1251.75 L50.9921 1247.82 Z\" fill=\"#000000\" fill-rule=\"evenodd\" fill-opacity=\"1\" /><path clip-path=\"url(#clip520)\" d=\"M103.608 1234.16 L91.8021 1252.61 L103.608 1252.61 L103.608 1234.16 M102.381 1230.09 L108.26 1230.09 L108.26 1252.61 L113.191 1252.61 L113.191 1256.5 L108.26 1256.5 L108.26 1264.65 L103.608 1264.65 L103.608 1256.5 L88.0058 1256.5 L88.0058 1251.99 L102.381 1230.09 Z\" fill=\"#000000\" fill-rule=\"evenodd\" fill-opacity=\"1\" /><path clip-path=\"url(#clip520)\" d=\"M53.0754 970.088 L82.7512 970.088 L82.7512 974.023 L53.0754 974.023 L53.0754 970.088 Z\" fill=\"#000000\" fill-rule=\"evenodd\" fill-opacity=\"1\" /><path clip-path=\"url(#clip520)\" d=\"M96.8715 982.982 L113.191 982.982 L113.191 986.917 L91.2465 986.917 L91.2465 982.982 Q93.9086 980.227 98.4919 975.597 Q103.098 970.945 104.279 969.602 Q106.524 967.079 107.404 965.343 Q108.307 963.584 108.307 961.894 Q108.307 959.139 106.362 957.403 Q104.441 955.667 101.339 955.667 Q99.14 955.667 96.6863 956.431 Q94.2558 957.195 91.478 958.746 L91.478 954.024 Q94.3021 952.889 96.7558 952.311 Q99.2095 951.732 101.246 951.732 Q106.617 951.732 109.811 954.417 Q113.006 957.102 113.006 961.593 Q113.006 963.723 112.196 965.644 Q111.408 967.542 109.302 970.135 Q108.723 970.806 105.621 974.023 Q102.52 977.218 96.8715 982.982 Z\" fill=\"#000000\" fill-rule=\"evenodd\" fill-opacity=\"1\" /><path clip-path=\"url(#clip520)\" d=\"M101.246 677.705 Q97.6354 677.705 95.8067 681.27 Q94.0012 684.812 94.0012 691.941 Q94.0012 699.048 95.8067 702.613 Q97.6354 706.154 101.246 706.154 Q104.881 706.154 106.686 702.613 Q108.515 699.048 108.515 691.941 Q108.515 684.812 106.686 681.27 Q104.881 677.705 101.246 677.705 M101.246 674.002 Q107.057 674.002 110.112 678.608 Q113.191 683.191 113.191 691.941 Q113.191 700.668 110.112 705.275 Q107.057 709.858 101.246 709.858 Q95.4363 709.858 92.3576 705.275 Q89.3021 700.668 89.3021 691.941 Q89.3021 683.191 92.3576 678.608 Q95.4363 674.002 101.246 674.002 Z\" fill=\"#000000\" fill-rule=\"evenodd\" fill-opacity=\"1\" /><path clip-path=\"url(#clip520)\" d=\"M96.8715 427.521 L113.191 427.521 L113.191 431.456 L91.2465 431.456 L91.2465 427.521 Q93.9086 424.766 98.4919 420.137 Q103.098 415.484 104.279 414.142 Q106.524 411.618 107.404 409.882 Q108.307 408.123 108.307 406.433 Q108.307 403.679 106.362 401.943 Q104.441 400.206 101.339 400.206 Q99.14 400.206 96.6863 400.97 Q94.2558 401.734 91.478 403.285 L91.478 398.563 Q94.3021 397.429 96.7558 396.85 Q99.2095 396.271 101.246 396.271 Q106.617 396.271 109.811 398.956 Q113.006 401.642 113.006 406.132 Q113.006 408.262 112.196 410.183 Q111.408 412.081 109.302 414.674 Q108.723 415.345 105.621 418.563 Q102.52 421.757 96.8715 427.521 Z\" fill=\"#000000\" fill-rule=\"evenodd\" fill-opacity=\"1\" /><path clip-path=\"url(#clip520)\" d=\"M103.608 123.24 L91.8021 141.689 L103.608 141.689 L103.608 123.24 M102.381 119.166 L108.26 119.166 L108.26 141.689 L113.191 141.689 L113.191 145.578 L108.26 145.578 L108.26 153.726 L103.608 153.726 L103.608 145.578 L88.0058 145.578 L88.0058 141.064 L102.381 119.166 Z\" fill=\"#000000\" fill-rule=\"evenodd\" fill-opacity=\"1\" /><polyline clip-path=\"url(#clip522)\" style=\"stroke:#009af9; stroke-linecap:butt; stroke-linejoin:round; stroke-width:4; stroke-opacity:1; fill:none\" points=\"\n",
       "  211.556,622.474 215.714,622.444 219.871,622.355 224.029,622.206 228.187,621.997 232.344,621.727 236.502,621.397 240.66,621.006 244.817,620.555 248.975,620.043 \n",
       "  253.133,619.472 257.29,618.841 261.448,618.15 265.606,617.401 269.763,616.593 273.921,615.728 278.079,614.806 282.236,613.828 286.394,612.795 290.552,611.708 \n",
       "  294.709,610.567 298.867,609.375 303.025,608.131 307.182,606.837 311.34,605.495 315.498,604.105 319.655,602.669 323.813,601.189 327.971,599.665 332.128,598.1 \n",
       "  336.286,596.494 340.444,594.85 344.601,593.17 348.759,591.453 352.917,589.703 357.074,587.921 361.232,586.109 365.39,584.269 369.547,582.403 373.705,580.512 \n",
       "  377.863,578.598 382.02,576.663 386.178,574.71 390.336,572.739 394.493,570.754 398.651,568.756 402.809,566.748 406.966,564.731 411.124,562.707 415.282,560.678 \n",
       "  419.439,558.647 423.597,556.615 427.755,554.585 431.912,552.558 436.07,550.536 440.228,548.522 444.385,546.517 448.543,544.523 452.701,542.543 456.858,540.578 \n",
       "  461.016,538.63 465.174,536.702 469.331,534.794 473.489,532.91 477.647,531.051 481.804,529.219 485.962,527.416 490.12,525.643 494.277,523.902 498.435,522.195 \n",
       "  502.593,520.525 506.75,518.891 510.908,517.297 515.066,515.743 519.223,514.232 523.381,512.765 527.539,511.343 531.696,509.968 535.854,508.641 540.012,507.363 \n",
       "  544.17,506.137 548.327,504.963 552.485,503.842 556.643,502.776 560.8,501.766 564.958,500.812 569.116,499.917 573.273,499.081 577.431,498.305 581.589,497.59 \n",
       "  585.746,496.936 589.904,496.346 594.062,495.819 598.219,495.356 602.377,494.959 606.535,494.627 610.692,494.362 614.85,494.164 619.008,494.034 623.165,493.973 \n",
       "  627.323,493.977 631.481,494.032 635.638,494.136 639.796,494.289 643.954,494.492 648.111,494.745 652.269,495.048 656.427,495.401 660.584,495.804 664.742,496.257 \n",
       "  668.9,496.759 673.057,497.31 677.215,497.911 681.373,498.56 685.53,499.257 689.688,500.001 693.846,500.792 698.003,501.63 702.161,502.513 706.319,503.44 \n",
       "  710.476,504.412 714.634,505.427 718.792,506.484 722.949,507.581 727.107,508.719 731.265,509.896 735.422,511.111 739.58,512.362 743.738,513.648 747.895,514.969 \n",
       "  752.053,516.323 756.211,517.709 760.368,519.125 764.526,520.57 768.684,522.042 772.841,523.54 776.999,525.063 781.157,526.609 785.314,528.176 789.472,529.763 \n",
       "  793.63,531.369 797.787,532.991 801.945,534.628 806.103,536.279 810.26,537.941 814.418,539.614 818.576,541.295 822.733,542.983 826.891,544.676 831.049,546.373 \n",
       "  835.206,548.071 839.364,549.77 843.522,551.467 847.679,553.161 851.837,554.849 855.995,556.531 860.152,558.204 864.31,559.868 868.468,561.519 872.625,563.157 \n",
       "  876.783,564.78 880.941,566.387 885.098,567.975 889.256,569.543 893.414,571.09 897.571,572.613 901.729,574.112 905.887,575.585 910.044,577.03 914.202,578.447 \n",
       "  918.36,579.832 922.517,581.186 926.675,582.507 930.833,583.792 934.99,585.042 939.148,586.255 943.306,587.429 947.463,588.563 951.621,589.656 955.779,590.707 \n",
       "  959.936,591.715 964.094,592.679 968.252,593.597 972.41,594.469 976.567,595.293 980.725,596.069 984.883,596.796 989.04,597.473 993.198,598.098 997.356,598.672 \n",
       "  1001.51,599.193 1005.67,599.661 1009.83,600.075 1013.99,600.435 1018.14,600.739 1022.3,600.987 1026.46,601.178 1030.62,601.313 1034.77,601.389 1038.93,601.407 \n",
       "  1043.09,601.381 1047.25,601.316 1051.41,601.213 1055.56,601.071 1059.72,600.89 1063.88,600.67 1068.04,600.411 1072.19,600.113 1076.35,599.776 1080.51,599.4 \n",
       "  1084.67,598.985 1088.82,598.532 1092.98,598.04 1097.14,597.511 1101.3,596.944 1105.45,596.339 1109.61,595.699 1113.77,595.022 1117.93,594.31 1122.09,593.562 \n",
       "  1126.24,592.781 1130.4,591.965 1134.56,591.116 1138.72,590.236 1142.87,589.323 1147.03,588.38 1151.19,587.408 1155.35,586.406 1159.5,585.377 1163.66,584.321 \n",
       "  1167.82,583.24 1171.98,582.133 1176.14,581.003 1180.29,579.85 1184.45,578.676 1188.61,577.482 1192.77,576.268 1196.92,575.036 1201.08,573.788 1205.24,572.524 \n",
       "  1209.4,571.246 1213.55,569.955 1217.71,568.652 1221.87,567.338 1226.03,566.015 1230.19,564.684 1234.34,563.347 1238.5,562.005 1242.66,560.659 1246.82,559.311 \n",
       "  1250.97,557.961 1255.13,556.611 1259.29,555.263 1263.45,553.918 1267.6,552.578 1271.76,551.243 1275.92,549.915 1280.08,548.595 1284.23,547.285 1288.39,545.986 \n",
       "  1292.55,544.699 1296.71,543.426 1300.87,542.168 1305.02,540.926 1309.18,539.701 1313.34,538.495 1317.5,537.309 1321.65,536.144 1325.81,535.002 1329.97,533.883 \n",
       "  1334.13,532.788 1338.28,531.719 1342.44,530.677 1346.6,529.663 1350.76,528.678 1354.92,527.723 1359.07,526.799 1363.23,525.907 1367.39,525.048 1371.55,524.223 \n",
       "  1375.7,523.433 1379.86,522.678 1384.02,521.96 1388.18,521.28 1392.33,520.638 1396.49,520.035 1400.65,519.471 1404.81,518.948 1408.96,518.467 1413.12,518.027 \n",
       "  1417.28,517.63 1421.44,517.276 1425.6,516.965 1429.75,516.699 1433.91,516.478 1438.07,516.302 1442.23,516.172 1446.38,516.088 1450.54,516.051 1454.7,516.056 \n",
       "  1458.86,516.089 1463.01,516.148 1467.17,516.235 1471.33,516.349 1475.49,516.49 1479.65,516.658 1483.8,516.855 1487.96,517.078 1492.12,517.329 1496.28,517.607 \n",
       "  1500.43,517.913 1504.59,518.246 1508.75,518.605 1512.91,518.991 1517.06,519.404 1521.22,519.843 1525.38,520.307 1529.54,520.798 1533.69,521.313 1537.85,521.853 \n",
       "  1542.01,522.418 1546.17,523.006 1550.33,523.617 1554.48,524.251 1558.64,524.908 1562.8,525.586 1566.96,526.286 1571.11,527.005 1575.27,527.745 1579.43,528.504 \n",
       "  1583.59,529.282 1587.74,530.077 1591.9,530.889 1596.06,531.717 1600.22,532.56 1604.38,533.418 1608.53,534.29 1612.69,535.175 1616.85,536.071 1621.01,536.979 \n",
       "  1625.16,537.897 1629.32,538.825 1633.48,539.761 1637.64,540.704 1641.79,541.654 1645.95,542.61 1650.11,543.571 1654.27,544.535 1658.43,545.502 1662.58,546.471 \n",
       "  1666.74,547.441 1670.9,548.411 1675.06,549.38 1679.21,550.346 1683.37,551.31 1687.53,552.27 1691.69,553.225 1695.84,554.174 1700,555.116 1704.16,556.05 \n",
       "  1708.32,556.976 1712.47,557.892 1716.63,558.797 1720.79,559.69 1724.95,560.571 1729.11,561.439 1733.26,562.292 1737.42,563.13 1741.58,563.952 1745.74,564.757 \n",
       "  1749.89,565.545 1754.05,566.313 1758.21,567.062 1762.37,567.791 1766.52,568.499 1770.68,569.185 1774.84,569.849 1779,570.489 1783.16,571.105 1787.31,571.696 \n",
       "  1791.47,572.262 1795.63,572.802 1799.79,573.315 1803.94,573.801 1808.1,574.259 1812.26,574.688 1816.42,575.088 1820.57,575.458 1824.73,575.798 1828.89,576.108 \n",
       "  1833.05,576.386 1837.2,576.632 1841.36,576.846 1845.52,577.028 1849.68,577.177 1853.84,577.292 1857.99,577.373 1862.15,577.42 1866.31,577.433 1870.47,577.424 \n",
       "  1874.62,577.401 1878.78,577.363 1882.94,577.312 1887.1,577.246 1891.25,577.165 1895.41,577.071 1899.57,576.961 1903.73,576.838 1907.89,576.699 1912.04,576.546 \n",
       "  1916.2,576.379 1920.36,576.198 1924.52,576.002 1928.67,575.792 1932.83,575.568 1936.99,575.33 1941.15,575.078 1945.3,574.812 1949.46,574.533 1953.62,574.241 \n",
       "  1957.78,573.936 1961.93,573.618 1966.09,573.287 1970.25,572.944 1974.41,572.589 1978.57,572.222 1982.72,571.844 1986.88,571.455 1991.04,571.054 1995.2,570.643 \n",
       "  1999.35,570.223 2003.51,569.792 2007.67,569.352 2011.83,568.903 2015.98,568.446 2020.14,567.98 2024.3,567.507 2028.46,567.026 2032.62,566.538 2036.77,566.045 \n",
       "  2040.93,565.545 2045.09,565.04 2049.25,564.53 2053.4,564.015 2057.56,563.496 2061.72,562.975 2065.88,562.45 2070.03,561.922 2074.19,561.393 2078.35,560.862 \n",
       "  2082.51,560.331 2086.67,559.799 2090.82,559.267 2094.98,558.736 2099.14,558.207 2103.3,557.679 2107.45,557.153 2111.61,556.63 2115.77,556.111 2119.93,555.596 \n",
       "  2124.08,555.085 2128.24,554.579 2132.4,554.079 2136.56,553.585 2140.71,553.097 2144.87,552.616 2149.03,552.143 2153.19,551.679 2157.35,551.223 2161.5,550.776 \n",
       "  2165.66,550.338 2169.82,549.911 2173.98,549.494 2178.13,549.089 2182.29,548.695 2186.45,548.313 2190.61,547.943 2194.76,547.586 2198.92,547.243 2203.08,546.913 \n",
       "  2207.24,546.598 2211.4,546.296 2215.55,546.01 2219.71,545.739 2223.87,545.484 2228.03,545.245 2232.18,545.022 2236.34,544.816 2240.5,544.627 2244.66,544.455 \n",
       "  2248.81,544.301 2252.97,544.164 2257.13,544.046 2261.29,543.947 2265.44,543.866 2269.6,543.804 2273.76,543.761 2277.92,543.737 2282.08,543.733 2286.23,543.733 \n",
       "  2290.39,543.733 \n",
       "  \"/>\n",
       "<polyline clip-path=\"url(#clip522)\" style=\"stroke:#e26f46; stroke-linecap:butt; stroke-linejoin:round; stroke-width:4; stroke-opacity:1; fill:none\" points=\"\n",
       "  211.556,691.907 215.714,685.979 219.871,680.007 224.029,673.999 228.187,667.966 232.344,661.916 236.502,655.86 240.66,649.806 244.817,643.764 248.975,637.743 \n",
       "  253.133,631.751 257.29,625.797 261.448,619.889 265.606,614.035 269.763,608.242 273.921,602.519 278.079,596.872 282.236,591.309 286.394,585.836 290.552,580.46 \n",
       "  294.709,575.187 298.867,570.025 303.025,564.977 307.182,560.05 311.34,555.251 315.498,550.585 319.655,546.056 323.813,541.669 327.971,537.43 332.128,533.344 \n",
       "  336.286,529.413 340.444,525.644 344.601,522.04 348.759,518.604 352.917,515.34 357.074,512.253 361.232,509.344 365.39,506.617 369.547,504.075 373.705,501.72 \n",
       "  377.863,499.556 382.02,497.583 386.178,495.804 390.336,494.222 394.493,492.837 398.651,491.652 402.809,490.667 406.966,489.883 411.124,489.301 415.282,488.921 \n",
       "  419.439,488.745 423.597,488.772 427.755,489.002 431.912,489.435 436.07,490.071 440.228,490.908 444.385,491.947 448.543,493.185 452.701,494.623 456.858,496.258 \n",
       "  461.016,498.088 465.174,500.113 469.331,502.33 473.489,504.737 477.647,507.331 481.804,510.111 485.962,513.073 490.12,516.215 494.277,519.533 498.435,523.025 \n",
       "  502.593,526.687 506.75,530.517 510.908,534.509 515.066,538.662 519.223,542.969 523.381,547.429 527.539,552.038 531.696,556.79 535.854,561.681 540.012,566.708 \n",
       "  544.17,571.866 548.327,577.151 552.485,582.558 556.643,588.082 560.8,593.721 564.958,599.469 569.116,605.322 573.273,611.277 577.431,617.327 581.589,623.469 \n",
       "  585.746,629.7 589.904,636.015 594.062,642.411 598.219,648.885 602.377,655.433 606.535,662.053 610.692,668.744 614.85,675.503 619.008,682.328 623.165,689.219 \n",
       "  627.323,694.895 631.481,699.806 635.638,704.751 639.796,709.72 643.954,714.709 648.111,719.707 652.269,724.71 656.427,729.709 660.584,734.698 664.742,739.668 \n",
       "  668.9,744.613 673.057,749.526 677.215,754.4 681.373,759.23 685.53,764.008 689.688,768.728 693.846,773.385 698.003,777.972 702.161,782.485 706.319,786.916 \n",
       "  710.476,791.262 714.634,795.516 718.792,799.674 722.949,803.731 727.107,807.683 731.265,811.524 735.422,815.251 739.58,818.86 743.738,822.345 747.895,825.702 \n",
       "  752.053,828.93 756.211,832.022 760.368,834.977 764.526,837.791 768.684,840.461 772.841,842.983 776.999,845.357 781.157,847.578 785.314,849.645 789.472,851.555 \n",
       "  793.63,853.306 797.787,854.897 801.945,856.325 806.103,857.59 810.26,858.69 814.418,859.623 818.576,860.389 822.733,860.987 826.891,861.416 831.049,861.675 \n",
       "  835.206,861.765 839.364,861.685 843.522,861.435 847.679,861.016 851.837,860.427 855.995,859.669 860.152,858.743 864.31,857.65 868.468,856.391 872.625,854.966 \n",
       "  876.783,853.378 880.941,851.627 885.098,849.716 889.256,847.645 893.414,845.418 897.571,843.036 901.729,840.501 905.887,837.815 910.044,834.982 914.202,832.003 \n",
       "  918.36,828.881 922.517,825.62 926.675,822.222 930.833,818.689 934.99,815.026 939.148,811.236 943.306,807.321 947.463,803.285 951.621,799.131 955.779,794.862 \n",
       "  959.936,790.484 964.094,785.998 968.252,781.409 972.41,776.719 976.567,771.932 980.725,767.053 984.883,762.085 989.04,757.032 993.198,751.895 997.356,746.68 \n",
       "  1001.51,741.389 1005.67,736.025 1009.83,730.591 1013.99,725.09 1018.14,719.524 1022.3,713.895 1026.46,708.206 1030.62,702.458 1034.77,696.654 1038.93,691.191 \n",
       "  1043.09,687.373 1047.25,683.525 1051.41,679.654 1055.56,675.765 1059.72,671.864 1063.88,667.954 1068.04,664.042 1072.19,660.134 1076.35,656.234 1080.51,652.349 \n",
       "  1084.67,648.484 1088.82,644.643 1092.98,640.831 1097.14,637.055 1101.3,633.318 1105.45,629.625 1109.61,625.982 1113.77,622.391 1117.93,618.859 1122.09,615.389 \n",
       "  1126.24,611.985 1130.4,608.654 1134.56,605.397 1138.72,602.219 1142.87,599.124 1147.03,596.115 1151.19,593.196 1155.35,590.371 1159.5,587.642 1163.66,585.013 \n",
       "  1167.82,582.486 1171.98,580.065 1176.14,577.753 1180.29,575.551 1184.45,573.462 1188.61,571.489 1192.77,569.635 1196.92,567.9 1201.08,566.287 1205.24,564.798 \n",
       "  1209.4,563.435 1213.55,562.198 1217.71,561.09 1221.87,560.112 1226.03,559.265 1230.19,558.55 1234.34,557.967 1238.5,557.518 1242.66,557.203 1246.82,557.023 \n",
       "  1250.97,556.977 1255.13,557.067 1259.29,557.291 1263.45,557.651 1267.6,558.145 1271.76,558.774 1275.92,559.536 1280.08,560.432 1284.23,561.46 1288.39,562.62 \n",
       "  1292.55,563.911 1296.71,565.331 1300.87,566.879 1305.02,568.555 1309.18,570.356 1313.34,572.281 1317.5,574.327 1321.65,576.495 1325.81,578.78 1329.97,581.182 \n",
       "  1334.13,583.699 1338.28,586.329 1342.44,589.068 1346.6,591.915 1350.76,594.867 1354.92,597.922 1359.07,601.078 1363.23,604.332 1367.39,607.681 1371.55,611.122 \n",
       "  1375.7,614.653 1379.86,618.272 1384.02,621.975 1388.18,625.76 1392.33,629.624 1396.49,633.564 1400.65,637.578 1404.81,641.662 1408.96,645.814 1413.12,650.033 \n",
       "  1417.28,654.314 1421.44,658.657 1425.6,663.057 1429.75,667.513 1433.91,672.022 1438.07,676.583 1442.23,681.193 1446.38,685.852 1450.54,690.557 1454.7,693.813 \n",
       "  1458.86,696.498 1463.01,699.203 1467.17,701.923 1471.33,704.655 1475.49,707.395 1479.65,710.141 1483.8,712.888 1487.96,715.634 1492.12,718.375 1496.28,721.106 \n",
       "  1500.43,723.825 1504.59,726.528 1508.75,729.211 1512.91,731.871 1517.06,734.505 1521.22,737.109 1525.38,739.681 1529.54,742.216 1533.69,744.712 1537.85,747.165 \n",
       "  1542.01,749.573 1546.17,751.933 1550.33,754.242 1554.48,756.497 1558.64,758.695 1562.8,760.832 1566.96,762.908 1571.11,764.919 1575.27,766.863 1579.43,768.737 \n",
       "  1583.59,770.539 1587.74,772.268 1591.9,773.92 1596.06,775.495 1600.22,776.99 1604.38,778.404 1608.53,779.734 1612.69,780.979 1616.85,782.138 1621.01,783.209 \n",
       "  1625.16,784.192 1629.32,785.084 1633.48,785.885 1637.64,786.593 1641.79,787.208 1645.95,787.729 1650.11,788.155 1654.27,788.485 1658.43,788.72 1662.58,788.858 \n",
       "  1666.74,788.899 1670.9,788.843 1675.06,788.69 1679.21,788.44 1683.37,788.092 1687.53,787.648 1691.69,787.107 1695.84,786.469 1700,785.736 1704.16,784.907 \n",
       "  1708.32,783.983 1712.47,782.965 1716.63,781.853 1720.79,780.649 1724.95,779.353 1729.11,777.967 1733.26,776.492 1737.42,774.928 1741.58,773.277 1745.74,771.54 \n",
       "  1749.89,769.718 1754.05,767.814 1758.21,765.829 1762.37,763.763 1766.52,761.619 1770.68,759.399 1774.84,757.104 1779,754.735 1783.16,752.296 1787.31,749.786 \n",
       "  1791.47,747.209 1795.63,744.567 1799.79,741.86 1803.94,739.092 1808.1,736.263 1812.26,733.377 1816.42,730.434 1820.57,727.438 1824.73,724.389 1828.89,721.29 \n",
       "  1833.05,718.143 1837.2,714.949 1841.36,711.711 1845.52,708.43 1849.68,705.108 1853.84,701.747 1857.99,698.349 1862.15,694.915 1866.31,691.722 1870.47,690.316 \n",
       "  1874.62,688.899 1878.78,687.472 1882.94,686.037 1887.1,684.596 1891.25,683.15 1895.41,681.701 1899.57,680.25 1903.73,678.799 1907.89,677.349 1912.04,675.903 \n",
       "  1916.2,674.462 1920.36,673.028 1924.52,671.603 1928.67,670.188 1932.83,668.785 1936.99,667.395 1941.15,666.022 1945.3,664.665 1949.46,663.327 1953.62,662.01 \n",
       "  1957.78,660.714 1961.93,659.443 1966.09,658.196 1970.25,656.976 1974.41,655.784 1978.57,654.622 1982.72,653.491 1986.88,652.392 1991.04,651.328 1995.2,650.299 \n",
       "  1999.35,649.306 2003.51,648.35 2007.67,647.434 2011.83,646.559 2015.98,645.724 2020.14,644.931 2024.3,644.182 2028.46,643.478 2032.62,642.819 2036.77,642.206 \n",
       "  2040.93,641.64 2045.09,641.122 2049.25,640.652 2053.4,640.232 2057.56,639.862 2061.72,639.543 2065.88,639.274 2070.03,639.057 2074.19,638.893 2078.35,638.78 \n",
       "  2082.51,638.72 2086.67,638.714 2090.82,638.761 2094.98,638.861 2099.14,639.014 2103.3,639.222 2107.45,639.483 2111.61,639.798 2115.77,640.166 2119.93,640.588 \n",
       "  2124.08,641.064 2128.24,641.592 2132.4,642.173 2136.56,642.807 2140.71,643.493 2144.87,644.23 2149.03,645.018 2153.19,645.858 2157.35,646.747 2161.5,647.685 \n",
       "  2165.66,648.673 2169.82,649.709 2173.98,650.792 2178.13,651.921 2182.29,653.097 2186.45,654.318 2190.61,655.583 2194.76,656.891 2198.92,658.241 2203.08,659.633 \n",
       "  2207.24,661.066 2211.4,662.538 2215.55,664.048 2219.71,665.596 2223.87,667.179 2228.03,668.799 2232.18,670.452 2236.34,672.138 2240.5,673.856 2244.66,675.604 \n",
       "  2248.81,677.382 2252.97,679.188 2257.13,681.021 2261.29,682.88 2265.44,684.763 2269.6,686.67 2273.76,688.599 2277.92,690.548 2282.08,691.907 2286.23,691.907 \n",
       "  2290.39,691.907 \n",
       "  \"/>\n",
       "<polyline clip-path=\"url(#clip522)\" style=\"stroke:#3da44d; stroke-linecap:butt; stroke-linejoin:round; stroke-width:4; stroke-opacity:1; fill:none\" points=\"\n",
       "  211.556,101.73 215.714,96.6426 219.871,92.579 224.029,89.5214 228.187,87.451 232.344,86.3465 236.502,86.1857 240.66,86.946 244.817,88.6044 248.975,91.1371 \n",
       "  253.133,94.5199 257.29,98.7307 261.448,103.744 265.606,109.541 269.763,116.094 273.921,123.386 278.079,131.391 282.236,140.089 286.394,149.458 290.552,159.476 \n",
       "  294.709,170.125 298.867,181.386 303.025,193.234 307.182,205.652 311.34,218.621 315.498,232.123 319.655,246.134 323.813,260.637 327.971,275.613 332.128,291.041 \n",
       "  336.286,306.903 340.444,323.178 344.601,339.846 348.759,356.891 352.917,374.292 357.074,392.029 361.232,410.079 365.39,428.424 369.547,447.041 373.705,465.909 \n",
       "  377.863,485.021 382.02,504.347 386.178,523.867 390.336,543.558 394.493,563.4 398.651,583.369 402.809,603.443 406.966,623.612 411.124,643.849 415.282,664.134 \n",
       "  419.439,684.445 423.597,704.763 427.755,725.069 431.912,745.343 436.07,765.564 440.228,785.712 444.385,805.768 448.543,825.713 452.701,845.527 456.858,865.191 \n",
       "  461.016,884.685 465.174,903.994 469.331,923.098 473.489,941.978 477.647,960.617 481.804,978.998 485.962,997.106 490.12,1014.92 494.277,1032.44 498.435,1049.63 \n",
       "  502.593,1066.48 506.75,1082.99 510.908,1099.13 515.066,1114.9 519.223,1130.29 523.381,1145.28 527.539,1159.86 531.696,1174.03 535.854,1187.78 540.012,1201.1 \n",
       "  544.17,1213.99 548.327,1226.45 552.485,1238.46 556.643,1250.03 560.8,1261.17 564.958,1271.87 569.116,1282.15 573.273,1292 577.431,1301.43 581.589,1310.47 \n",
       "  585.746,1319.13 589.904,1327.42 594.062,1335.36 598.219,1342.99 602.377,1350.33 606.535,1357.43 610.692,1364.31 614.85,1371.04 619.008,1377.66 623.165,1384.24 \n",
       "  627.323,1181.18 631.481,1184.93 635.638,1187.9 639.796,1190.1 643.954,1191.55 648.111,1192.24 652.269,1192.19 656.427,1191.42 660.584,1189.94 664.742,1187.75 \n",
       "  668.9,1184.88 673.057,1181.34 677.215,1177.14 681.373,1172.31 685.53,1166.85 689.688,1160.79 693.846,1154.13 698.003,1146.9 702.161,1139.11 706.319,1130.78 \n",
       "  710.476,1121.92 714.634,1112.54 718.792,1102.67 722.949,1092.33 727.107,1081.52 731.265,1070.26 735.422,1058.58 739.58,1046.49 743.738,1033.99 747.895,1021.11 \n",
       "  752.053,1007.87 756.211,994.282 760.368,980.359 764.526,966.12 768.684,951.584 772.841,936.766 776.999,921.684 781.157,906.354 785.314,890.795 789.472,875.022 \n",
       "  793.63,859.054 797.787,842.907 801.945,826.598 806.103,810.146 810.26,793.566 814.418,776.877 818.576,760.094 822.733,743.236 826.891,726.32 831.049,709.364 \n",
       "  835.206,692.383 839.364,675.395 843.522,658.416 847.679,641.464 851.837,624.557 855.995,607.711 860.152,590.94 864.31,574.26 868.468,557.69 872.625,541.245 \n",
       "  876.783,524.942 880.941,508.793 885.098,492.813 889.256,477.017 893.414,461.422 897.571,446.04 901.729,430.885 905.887,415.968 910.044,401.302 914.202,386.901 \n",
       "  918.36,372.776 922.517,358.938 926.675,345.396 930.833,332.159 934.99,319.238 939.148,306.641 943.306,294.376 947.463,282.446 951.621,270.86 955.779,259.622 \n",
       "  959.936,248.736 964.094,238.205 968.252,228.029 972.41,218.209 976.567,208.743 980.725,199.631 984.883,190.867 989.04,182.445 993.198,174.359 997.356,166.598 \n",
       "  1001.51,159.151 1005.67,152.005 1009.83,145.142 1013.99,138.544 1018.14,132.188 1022.3,126.051 1026.46,120.101 1030.62,114.308 1034.77,108.632 1038.93,311.718 \n",
       "  1043.09,308.497 1047.25,305.829 1051.41,303.718 1055.56,302.162 1059.72,301.159 1063.88,300.706 1068.04,300.798 1072.19,301.431 1076.35,302.599 1080.51,304.293 \n",
       "  1084.67,306.507 1088.82,309.234 1092.98,312.462 1097.14,316.184 1101.3,320.39 1105.45,325.07 1109.61,330.214 1113.77,335.808 1117.93,341.841 1122.09,348.305 \n",
       "  1126.24,355.189 1130.4,362.483 1134.56,370.172 1138.72,378.245 1142.87,386.691 1147.03,395.497 1151.19,404.65 1155.35,414.136 1159.5,423.944 1163.66,434.061 \n",
       "  1167.82,444.473 1171.98,455.166 1176.14,466.129 1180.29,477.347 1184.45,488.808 1188.61,500.498 1192.77,512.405 1196.92,524.513 1201.08,536.81 1205.24,549.283 \n",
       "  1209.4,561.915 1213.55,574.697 1217.71,587.614 1221.87,600.652 1226.03,613.796 1230.19,627.033 1234.34,640.347 1238.5,653.725 1242.66,667.155 1246.82,680.626 \n",
       "  1250.97,694.121 1255.13,707.626 1259.29,721.126 1263.45,734.609 1267.6,748.061 1271.76,761.471 1275.92,774.827 1280.08,788.113 1284.23,801.318 1288.39,814.429 \n",
       "  1292.55,827.434 1296.71,840.32 1300.87,853.078 1305.02,865.694 1309.18,878.158 1313.34,890.46 1317.5,902.59 1321.65,914.536 1325.81,926.29 1329.97,937.841 \n",
       "  1334.13,949.181 1338.28,960.302 1342.44,971.195 1346.6,981.855 1350.76,992.273 1354.92,1002.44 1359.07,1012.36 1363.23,1022.02 1367.39,1031.41 1371.55,1040.54 \n",
       "  1375.7,1049.4 1379.86,1057.98 1384.02,1066.29 1388.18,1074.33 1392.33,1082.09 1396.49,1089.57 1400.65,1096.79 1404.81,1103.74 1408.96,1110.42 1413.12,1116.85 \n",
       "  1417.28,1123.02 1421.44,1128.95 1425.6,1134.65 1429.75,1140.13 1433.91,1145.39 1438.07,1150.47 1442.23,1155.36 1446.38,1160.1 1450.54,1164.69 1454.7,959.396 \n",
       "  1458.86,961.498 1463.01,963.251 1467.17,964.65 1471.33,965.694 1475.49,966.381 1479.65,966.712 1483.8,966.685 1487.96,966.303 1492.12,965.566 1496.28,964.475 \n",
       "  1500.43,963.035 1504.59,961.247 1508.75,959.117 1512.91,956.647 1517.06,953.842 1521.22,950.708 1525.38,947.249 1529.54,943.471 1533.69,939.381 1537.85,934.984 \n",
       "  1542.01,930.286 1546.17,925.299 1550.33,920.027 1554.48,914.476 1558.64,908.654 1562.8,902.567 1566.96,896.227 1571.11,889.64 1575.27,882.814 1579.43,875.759 \n",
       "  1583.59,868.483 1587.74,860.996 1591.9,853.307 1596.06,845.424 1600.22,837.358 1604.38,829.118 1608.53,820.713 1612.69,812.153 1616.85,803.447 1621.01,794.606 \n",
       "  1625.16,785.638 1629.32,776.553 1633.48,767.362 1637.64,758.074 1641.79,748.699 1645.95,739.247 1650.11,729.727 1654.27,720.149 1658.43,710.524 1662.58,700.861 \n",
       "  1666.74,691.17 1670.9,681.461 1675.06,671.742 1679.21,662.024 1683.37,652.317 1687.53,642.629 1691.69,632.971 1695.84,623.35 1700,613.777 1704.16,604.26 \n",
       "  1708.32,594.807 1712.47,585.428 1716.63,576.13 1720.79,566.923 1724.95,557.813 1729.11,548.809 1733.26,539.919 1737.42,531.148 1741.58,522.505 1745.74,513.997 \n",
       "  1749.89,505.629 1754.05,497.409 1758.21,489.341 1762.37,481.432 1766.52,473.687 1770.68,466.111 1774.84,458.708 1779,451.483 1783.16,444.439 1787.31,437.58 \n",
       "  1791.47,430.908 1795.63,424.427 1799.79,418.139 1803.94,412.045 1808.1,406.146 1812.26,400.442 1816.42,394.935 1820.57,389.624 1824.73,384.507 1828.89,379.584 \n",
       "  1833.05,374.852 1837.2,370.308 1841.36,365.949 1845.52,361.771 1849.68,357.769 1853.84,353.938 1857.99,350.271 1862.15,346.762 1866.31,551.962 1870.47,550.739 \n",
       "  1874.62,549.67 1878.78,548.762 1882.94,548.017 1887.1,547.438 1891.25,547.025 1895.41,546.782 1899.57,546.708 1903.73,546.805 1907.89,547.072 1912.04,547.512 \n",
       "  1916.2,548.124 1920.36,548.907 1924.52,549.863 1928.67,550.989 1932.83,552.284 1936.99,553.748 1941.15,555.379 1945.3,557.177 1949.46,559.138 1953.62,561.26 \n",
       "  1957.78,563.543 1961.93,565.984 1966.09,568.578 1970.25,571.325 1974.41,574.22 1978.57,577.263 1982.72,580.446 1986.88,583.768 1991.04,587.226 1995.2,590.817 \n",
       "  1999.35,594.533 2003.51,598.373 2007.67,602.333 2011.83,606.408 2015.98,610.592 2020.14,614.883 2024.3,619.276 2028.46,623.766 2032.62,628.346 2036.77,633.014 \n",
       "  2040.93,637.765 2045.09,642.592 2049.25,647.491 2053.4,652.457 2057.56,657.487 2061.72,662.571 2065.88,667.708 2070.03,672.891 2074.19,678.115 2078.35,683.375 \n",
       "  2082.51,688.665 2086.67,693.981 2090.82,699.318 2094.98,704.669 2099.14,710.029 2103.3,715.395 2107.45,720.76 2111.61,726.12 2115.77,731.469 2119.93,736.802 \n",
       "  2124.08,742.114 2128.24,747.402 2132.4,752.658 2136.56,757.88 2140.71,763.062 2144.87,768.199 2149.03,773.288 2153.19,778.323 2157.35,783.301 2161.5,788.217 \n",
       "  2165.66,793.067 2169.82,797.847 2173.98,802.554 2178.13,807.183 2182.29,811.731 2186.45,816.195 2190.61,820.571 2194.76,824.855 2198.92,829.046 2203.08,833.14 \n",
       "  2207.24,837.133 2211.4,841.025 2215.55,844.812 2219.71,848.491 2223.87,852.061 2228.03,855.52 2232.18,858.865 2236.34,862.096 2240.5,865.21 2244.66,868.206 \n",
       "  2248.81,871.083 2252.97,873.84 2257.13,876.476 2261.29,878.991 2265.44,881.383 2269.6,883.651 2273.76,885.797 2277.92,887.818 2282.08,691.907 2286.23,691.907 \n",
       "  2290.39,691.907 \n",
       "  \"/>\n",
       "<polyline clip-path=\"url(#clip522)\" style=\"stroke:#c271d2; stroke-linecap:butt; stroke-linejoin:round; stroke-width:4; stroke-opacity:1; fill:none\" points=\"\n",
       "  211.556,587.758 215.714,593.143 219.871,598.099 224.029,602.647 228.187,606.81 232.344,610.611 236.502,614.074 240.66,617.221 244.817,620.075 248.975,622.657 \n",
       "  253.133,624.988 257.29,627.09 261.448,628.98 265.606,630.677 269.763,632.198 273.921,633.558 278.079,634.773 282.236,635.855 286.394,636.817 290.552,637.671 \n",
       "  294.709,638.427 298.867,639.096 303.025,639.685 307.182,640.203 311.34,640.657 315.498,641.054 319.655,641.4 323.813,641.701 327.971,641.962 332.128,642.186 \n",
       "  336.286,642.379 340.444,642.544 344.601,642.684 348.759,642.803 352.917,642.902 357.074,642.985 361.232,643.054 365.39,643.111 369.547,643.157 373.705,643.194 \n",
       "  377.863,643.223 382.02,643.247 386.178,643.265 390.336,643.278 394.493,643.289 398.651,643.296 402.809,643.302 406.966,643.305 411.124,643.308 415.282,643.309 \n",
       "  419.439,643.31 423.597,643.31 427.755,643.309 431.912,643.307 436.07,643.304 440.228,643.3 444.385,643.294 448.543,643.286 452.701,643.275 456.858,643.26 \n",
       "  461.016,643.241 465.174,643.216 469.331,643.185 473.489,643.145 477.647,643.097 481.804,643.037 485.962,642.964 490.12,642.877 494.277,642.772 498.435,642.648 \n",
       "  502.593,642.5 506.75,642.327 510.908,642.125 515.066,641.889 519.223,641.616 523.381,641.299 527.539,640.935 531.696,640.517 535.854,640.037 540.012,639.49 \n",
       "  544.17,638.865 548.327,638.155 552.485,637.348 556.643,636.434 560.8,635.399 564.958,634.229 569.116,632.909 573.273,631.42 577.431,629.744 581.589,627.857 \n",
       "  585.746,625.736 589.904,623.353 594.062,620.677 598.219,617.674 602.377,614.306 606.535,610.529 610.692,606.295 614.85,601.547 619.008,596.226 623.165,590.26 \n",
       "  627.323,793.28 631.481,788.984 635.638,784.972 639.796,781.234 643.954,777.759 648.111,774.536 652.269,771.552 656.427,768.795 660.584,766.252 664.742,763.911 \n",
       "  668.9,761.759 673.057,759.784 677.215,757.975 681.373,756.32 685.53,754.808 689.688,753.428 693.846,752.171 698.003,751.028 702.161,749.988 706.319,749.045 \n",
       "  710.476,748.191 714.634,747.417 718.792,746.717 722.949,746.085 727.107,745.515 731.265,745.002 735.422,744.541 739.58,744.126 743.738,743.754 747.895,743.421 \n",
       "  752.053,743.123 756.211,742.858 760.368,742.621 764.526,742.41 768.684,742.223 772.841,742.058 776.999,741.912 781.157,741.783 785.314,741.67 789.472,741.571 \n",
       "  793.63,741.485 797.787,741.411 801.945,741.347 806.103,741.293 810.26,741.248 814.418,741.21 818.576,741.181 822.733,741.158 826.891,741.142 831.049,741.132 \n",
       "  835.206,741.129 839.364,741.132 843.522,741.141 847.679,741.157 851.837,741.179 855.995,741.209 860.152,741.245 864.31,741.29 868.468,741.344 872.625,741.408 \n",
       "  876.783,741.482 880.941,741.568 885.098,741.666 889.256,741.779 893.414,741.908 897.571,742.055 901.729,742.221 905.887,742.408 910.044,742.62 914.202,742.859 \n",
       "  918.36,743.128 922.517,743.429 926.675,743.767 930.833,744.145 934.99,744.567 939.148,745.039 943.306,745.566 947.463,746.152 951.621,746.805 955.779,747.532 \n",
       "  959.936,748.339 964.094,749.235 968.252,750.229 972.41,751.331 976.567,752.553 980.725,753.905 984.883,755.402 989.04,757.057 993.198,758.887 997.356,760.909 \n",
       "  1001.51,763.142 1005.67,765.608 1009.83,768.331 1013.99,771.335 1018.14,774.65 1022.3,778.308 1026.46,782.343 1030.62,786.794 1034.77,791.704 1038.93,588.434 \n",
       "  1043.09,591.92 1047.25,595.234 1051.41,598.377 1055.56,601.353 1059.72,604.165 1063.88,606.818 1068.04,609.316 1072.19,611.665 1076.35,613.869 1080.51,615.936 \n",
       "  1084.67,617.869 1088.82,619.677 1092.98,621.364 1097.14,622.936 1101.3,624.4 1105.45,625.762 1109.61,627.028 1113.77,628.202 1117.93,629.291 1122.09,630.3 \n",
       "  1126.24,631.233 1130.4,632.095 1134.56,632.891 1138.72,633.626 1142.87,634.303 1147.03,634.927 1151.19,635.5 1155.35,636.027 1159.5,636.51 1163.66,636.954 \n",
       "  1167.82,637.359 1171.98,637.73 1176.14,638.069 1180.29,638.378 1184.45,638.658 1188.61,638.913 1192.77,639.143 1196.92,639.351 1201.08,639.538 1205.24,639.704 \n",
       "  1209.4,639.853 1213.55,639.983 1217.71,640.098 1221.87,640.197 1226.03,640.28 1230.19,640.35 1234.34,640.406 1238.5,640.448 1242.66,640.478 1246.82,640.495 \n",
       "  1250.97,640.499 1255.13,640.491 1259.29,640.47 1263.45,640.436 1267.6,640.389 1271.76,640.328 1275.92,640.254 1280.08,640.164 1284.23,640.06 1288.39,639.939 \n",
       "  1292.55,639.801 1296.71,639.645 1300.87,639.47 1305.02,639.273 1309.18,639.055 1313.34,638.812 1317.5,638.544 1321.65,638.247 1325.81,637.921 1329.97,637.561 \n",
       "  1334.13,637.167 1338.28,636.734 1342.44,636.261 1346.6,635.742 1350.76,635.175 1354.92,634.556 1359.07,633.88 1363.23,633.142 1367.39,632.338 1371.55,631.461 \n",
       "  1375.7,630.506 1379.86,629.466 1384.02,628.334 1388.18,627.102 1392.33,625.763 1396.49,624.307 1400.65,622.724 1404.81,621.004 1408.96,619.137 1413.12,617.109 \n",
       "  1417.28,614.906 1421.44,612.516 1425.6,609.922 1429.75,607.107 1433.91,604.054 1438.07,600.742 1442.23,597.15 1446.38,593.253 1450.54,589.027 1454.7,794.27 \n",
       "  1458.86,791.842 1463.01,789.494 1467.17,787.229 1471.33,785.047 1475.49,782.947 1479.65,780.931 1483.8,778.996 1487.96,777.144 1492.12,775.371 1496.28,773.678 \n",
       "  1500.43,772.063 1504.59,770.525 1508.75,769.06 1512.91,767.668 1517.06,766.346 1521.22,765.093 1525.38,763.905 1529.54,762.78 1533.69,761.717 1537.85,760.713 \n",
       "  1542.01,759.766 1546.17,758.873 1550.33,758.031 1554.48,757.24 1558.64,756.497 1562.8,755.799 1566.96,755.145 1571.11,754.533 1575.27,753.96 1579.43,753.426 \n",
       "  1583.59,752.927 1587.74,752.464 1591.9,752.033 1596.06,751.634 1600.22,751.265 1604.38,750.925 1608.53,750.612 1612.69,750.326 1616.85,750.065 1621.01,749.829 \n",
       "  1625.16,749.616 1629.32,749.426 1633.48,749.258 1637.64,749.112 1641.79,748.986 1645.95,748.88 1650.11,748.795 1654.27,748.729 1658.43,748.682 1662.58,748.655 \n",
       "  1666.74,748.647 1670.9,748.658 1675.06,748.688 1679.21,748.738 1683.37,748.807 1687.53,748.897 1691.69,749.006 1695.84,749.137 1700,749.289 1704.16,749.464 \n",
       "  1708.32,749.661 1712.47,749.883 1716.63,750.129 1720.79,750.401 1724.95,750.701 1729.11,751.029 1733.26,751.387 1737.42,751.777 1741.58,752.199 1745.74,752.657 \n",
       "  1749.89,753.152 1754.05,753.687 1758.21,754.262 1762.37,754.882 1766.52,755.548 1770.68,756.264 1774.84,757.032 1779,757.856 1783.16,758.738 1787.31,759.684 \n",
       "  1791.47,760.696 1795.63,761.778 1799.79,762.935 1803.94,764.173 1808.1,765.494 1812.26,766.906 1816.42,768.413 1820.57,770.021 1824.73,771.737 1828.89,773.567 \n",
       "  1833.05,775.518 1837.2,777.598 1841.36,779.815 1845.52,782.177 1849.68,784.693 1853.84,787.372 1857.99,790.225 1862.15,793.262 1866.31,587.933 1870.47,589.251 \n",
       "  1874.62,590.551 1878.78,591.832 1882.94,593.092 1887.1,594.331 1891.25,595.547 1895.41,596.739 1899.57,597.906 1903.73,599.047 1907.89,600.163 1912.04,601.251 \n",
       "  1916.2,602.311 1920.36,603.343 1924.52,604.347 1928.67,605.322 1932.83,606.268 1936.99,607.184 1941.15,608.071 1945.3,608.928 1949.46,609.757 1953.62,610.555 \n",
       "  1957.78,611.325 1961.93,612.065 1966.09,612.777 1970.25,613.461 1974.41,614.115 1978.57,614.742 1982.72,615.341 1986.88,615.913 1991.04,616.458 1995.2,616.976 \n",
       "  1999.35,617.468 2003.51,617.934 2007.67,618.374 2011.83,618.789 2015.98,619.179 2020.14,619.545 2024.3,619.886 2028.46,620.203 2032.62,620.497 2036.77,620.767 \n",
       "  2040.93,621.014 2045.09,621.239 2049.25,621.44 2053.4,621.619 2057.56,621.776 2061.72,621.911 2065.88,622.024 2070.03,622.114 2074.19,622.183 2078.35,622.229 \n",
       "  2082.51,622.254 2086.67,622.257 2090.82,622.238 2094.98,622.196 2099.14,622.132 2103.3,622.045 2107.45,621.936 2111.61,621.803 2115.77,621.647 2119.93,621.468 \n",
       "  2124.08,621.264 2128.24,621.035 2132.4,620.781 2136.56,620.502 2140.71,620.196 2144.87,619.864 2149.03,619.505 2153.19,619.117 2157.35,618.7 2161.5,618.254 \n",
       "  2165.66,617.777 2169.82,617.269 2173.98,616.729 2178.13,616.156 2182.29,615.548 2186.45,614.905 2190.61,614.225 2194.76,613.508 2198.92,612.752 2203.08,611.955 \n",
       "  2207.24,611.118 2211.4,610.237 2215.55,609.313 2219.71,608.342 2223.87,607.325 2228.03,606.258 2232.18,605.142 2236.34,603.973 2240.5,602.75 2244.66,601.473 \n",
       "  2248.81,600.138 2252.97,598.744 2257.13,597.289 2261.29,595.771 2265.44,594.189 2269.6,592.54 2273.76,590.823 2277.92,589.035 2282.08,784.993 2286.23,784.993 \n",
       "  2290.39,784.993 \n",
       "  \"/>\n",
       "<path clip-path=\"url(#clip520)\" d=\"\n",
       "M1390.67 395.509 L2279.3 395.509 L2279.3 93.1086 L1390.67 93.1086  Z\n",
       "  \" fill=\"#ffffff\" fill-rule=\"evenodd\" fill-opacity=\"1\"/>\n",
       "<polyline clip-path=\"url(#clip520)\" style=\"stroke:#000000; stroke-linecap:butt; stroke-linejoin:round; stroke-width:4; stroke-opacity:1; fill:none\" points=\"\n",
       "  1390.67,395.509 2279.3,395.509 2279.3,93.1086 1390.67,93.1086 1390.67,395.509 \n",
       "  \"/>\n",
       "<polyline clip-path=\"url(#clip520)\" style=\"stroke:#009af9; stroke-linecap:butt; stroke-linejoin:round; stroke-width:4; stroke-opacity:1; fill:none\" points=\"\n",
       "  1415.15,153.589 1562.06,153.589 \n",
       "  \"/>\n",
       "<path clip-path=\"url(#clip520)\" d=\"M1606.89 149.92 Q1608.49 147.049 1610.71 145.684 Q1612.93 144.318 1615.94 144.318 Q1619.99 144.318 1622.19 147.165 Q1624.39 149.989 1624.39 155.221 L1624.39 170.869 L1620.11 170.869 L1620.11 155.359 Q1620.11 151.633 1618.79 149.827 Q1617.47 148.022 1614.76 148.022 Q1611.45 148.022 1609.53 150.221 Q1607.61 152.42 1607.61 156.216 L1607.61 170.869 L1603.33 170.869 L1603.33 155.359 Q1603.33 151.609 1602.01 149.827 Q1600.69 148.022 1597.93 148.022 Q1594.67 148.022 1592.75 150.244 Q1590.83 152.443 1590.83 156.216 L1590.83 170.869 L1586.54 170.869 L1586.54 144.943 L1590.83 144.943 L1590.83 148.971 Q1592.28 146.586 1594.32 145.452 Q1596.36 144.318 1599.16 144.318 Q1601.98 144.318 1603.95 145.753 Q1605.94 147.188 1606.89 149.92 Z\" fill=\"#000000\" fill-rule=\"evenodd\" fill-opacity=\"1\" /><path clip-path=\"url(#clip520)\" d=\"M1644.67 157.836 Q1639.51 157.836 1637.51 159.017 Q1635.52 160.197 1635.52 163.045 Q1635.52 165.313 1637.01 166.656 Q1638.51 167.975 1641.08 167.975 Q1644.62 167.975 1646.75 165.475 Q1648.9 162.952 1648.9 158.785 L1648.9 157.836 L1644.67 157.836 M1653.16 156.077 L1653.16 170.869 L1648.9 170.869 L1648.9 166.933 Q1647.45 169.295 1645.27 170.429 Q1643.09 171.54 1639.95 171.54 Q1635.96 171.54 1633.6 169.318 Q1631.26 167.072 1631.26 163.322 Q1631.26 158.947 1634.18 156.725 Q1637.12 154.503 1642.93 154.503 L1648.9 154.503 L1648.9 154.086 Q1648.9 151.147 1646.96 149.549 Q1645.04 147.929 1641.54 147.929 Q1639.32 147.929 1637.21 148.461 Q1635.11 148.994 1633.16 150.059 L1633.16 146.123 Q1635.5 145.221 1637.7 144.781 Q1639.9 144.318 1641.98 144.318 Q1647.61 144.318 1650.39 147.234 Q1653.16 150.151 1653.16 156.077 Z\" fill=\"#000000\" fill-rule=\"evenodd\" fill-opacity=\"1\" /><path clip-path=\"url(#clip520)\" d=\"M1678.46 145.707 L1678.46 149.734 Q1676.66 148.809 1674.71 148.346 Q1672.77 147.883 1670.69 147.883 Q1667.51 147.883 1665.92 148.855 Q1664.34 149.827 1664.34 151.771 Q1664.34 153.253 1665.48 154.109 Q1666.61 154.943 1670.04 155.707 L1671.5 156.031 Q1676.03 157.003 1677.93 158.785 Q1679.85 160.545 1679.85 163.716 Q1679.85 167.327 1676.98 169.433 Q1674.13 171.54 1669.13 171.54 Q1667.05 171.54 1664.78 171.123 Q1662.54 170.73 1660.04 169.92 L1660.04 165.521 Q1662.4 166.748 1664.69 167.373 Q1666.98 167.975 1669.23 167.975 Q1672.24 167.975 1673.86 166.957 Q1675.48 165.915 1675.48 164.04 Q1675.48 162.304 1674.3 161.378 Q1673.14 160.452 1669.18 159.596 L1667.7 159.248 Q1663.74 158.415 1661.98 156.702 Q1660.22 154.966 1660.22 151.957 Q1660.22 148.299 1662.82 146.309 Q1665.41 144.318 1670.18 144.318 Q1672.54 144.318 1674.62 144.665 Q1676.7 145.012 1678.46 145.707 Z\" fill=\"#000000\" fill-rule=\"evenodd\" fill-opacity=\"1\" /><path clip-path=\"url(#clip520)\" d=\"M1703.16 145.707 L1703.16 149.734 Q1701.36 148.809 1699.41 148.346 Q1697.47 147.883 1695.38 147.883 Q1692.21 147.883 1690.62 148.855 Q1689.04 149.827 1689.04 151.771 Q1689.04 153.253 1690.18 154.109 Q1691.31 154.943 1694.74 155.707 L1696.19 156.031 Q1700.73 157.003 1702.63 158.785 Q1704.55 160.545 1704.55 163.716 Q1704.55 167.327 1701.68 169.433 Q1698.83 171.54 1693.83 171.54 Q1691.75 171.54 1689.48 171.123 Q1687.24 170.73 1684.74 169.92 L1684.74 165.521 Q1687.1 166.748 1689.39 167.373 Q1691.68 167.975 1693.93 167.975 Q1696.94 167.975 1698.56 166.957 Q1700.18 165.915 1700.18 164.04 Q1700.18 162.304 1699 161.378 Q1697.84 160.452 1693.88 159.596 L1692.4 159.248 Q1688.44 158.415 1686.68 156.702 Q1684.92 154.966 1684.92 151.957 Q1684.92 148.299 1687.51 146.309 Q1690.11 144.318 1694.88 144.318 Q1697.24 144.318 1699.32 144.665 Q1701.4 145.012 1703.16 145.707 Z\" fill=\"#000000\" fill-rule=\"evenodd\" fill-opacity=\"1\" /><path clip-path=\"url(#clip520)\" d=\"M1711.94 164.989 L1716.82 164.989 L1716.82 170.869 L1711.94 170.869 L1711.94 164.989 Z\" fill=\"#000000\" fill-rule=\"evenodd\" fill-opacity=\"1\" /><path clip-path=\"url(#clip520)\" d=\"M1742.93 145.707 L1742.93 149.734 Q1741.13 148.809 1739.18 148.346 Q1737.24 147.883 1735.15 147.883 Q1731.98 147.883 1730.38 148.855 Q1728.81 149.827 1728.81 151.771 Q1728.81 153.253 1729.94 154.109 Q1731.08 154.943 1734.5 155.707 L1735.96 156.031 Q1740.5 157.003 1742.4 158.785 Q1744.32 160.545 1744.32 163.716 Q1744.32 167.327 1741.45 169.433 Q1738.6 171.54 1733.6 171.54 Q1731.52 171.54 1729.25 171.123 Q1727 170.73 1724.51 169.92 L1724.51 165.521 Q1726.87 166.748 1729.16 167.373 Q1731.45 167.975 1733.69 167.975 Q1736.7 167.975 1738.32 166.957 Q1739.94 165.915 1739.94 164.04 Q1739.94 162.304 1738.76 161.378 Q1737.61 160.452 1733.65 159.596 L1732.17 159.248 Q1728.21 158.415 1726.45 156.702 Q1724.69 154.966 1724.69 151.957 Q1724.69 148.299 1727.28 146.309 Q1729.88 144.318 1734.64 144.318 Q1737 144.318 1739.09 144.665 Q1741.17 145.012 1742.93 145.707 Z\" fill=\"#000000\" fill-rule=\"evenodd\" fill-opacity=\"1\" /><path clip-path=\"url(#clip520)\" d=\"M1776.4 134.897 Q1773.3 140.221 1771.8 145.429 Q1770.29 150.637 1770.29 155.984 Q1770.29 161.332 1771.8 166.586 Q1773.32 171.818 1776.4 177.119 L1772.7 177.119 Q1769.23 171.679 1767.49 166.424 Q1765.78 161.17 1765.78 155.984 Q1765.78 150.822 1767.49 145.591 Q1769.2 140.36 1772.7 134.897 L1776.4 134.897 Z\" fill=\"#000000\" fill-rule=\"evenodd\" fill-opacity=\"1\" /><path clip-path=\"url(#clip520)\" d=\"M1799.44 152.234 Q1802.79 152.952 1804.67 155.221 Q1806.56 157.489 1806.56 160.822 Q1806.56 165.938 1803.05 168.739 Q1799.53 171.54 1793.05 171.54 Q1790.87 171.54 1788.56 171.1 Q1786.26 170.683 1783.81 169.827 L1783.81 165.313 Q1785.75 166.447 1788.07 167.026 Q1790.38 167.605 1792.91 167.605 Q1797.31 167.605 1799.6 165.869 Q1801.91 164.133 1801.91 160.822 Q1801.91 157.767 1799.76 156.054 Q1797.63 154.318 1793.81 154.318 L1789.78 154.318 L1789.78 150.475 L1794 150.475 Q1797.44 150.475 1799.27 149.109 Q1801.1 147.721 1801.1 145.128 Q1801.1 142.466 1799.2 141.054 Q1797.33 139.619 1793.81 139.619 Q1791.89 139.619 1789.69 140.035 Q1787.49 140.452 1784.85 141.332 L1784.85 137.165 Q1787.51 136.424 1789.83 136.054 Q1792.17 135.684 1794.23 135.684 Q1799.55 135.684 1802.65 138.114 Q1805.75 140.522 1805.75 144.642 Q1805.75 147.512 1804.11 149.503 Q1802.47 151.471 1799.44 152.234 Z\" fill=\"#000000\" fill-rule=\"evenodd\" fill-opacity=\"1\" /><path clip-path=\"url(#clip520)\" d=\"M1829.6 152.234 Q1832.95 152.952 1834.83 155.221 Q1836.73 157.489 1836.73 160.822 Q1836.73 165.938 1833.21 168.739 Q1829.69 171.54 1823.21 171.54 Q1821.03 171.54 1818.72 171.1 Q1816.43 170.683 1813.97 169.827 L1813.97 165.313 Q1815.92 166.447 1818.23 167.026 Q1820.55 167.605 1823.07 167.605 Q1827.47 167.605 1829.76 165.869 Q1832.07 164.133 1832.07 160.822 Q1832.07 157.767 1829.92 156.054 Q1827.79 154.318 1823.97 154.318 L1819.94 154.318 L1819.94 150.475 L1824.16 150.475 Q1827.61 150.475 1829.43 149.109 Q1831.26 147.721 1831.26 145.128 Q1831.26 142.466 1829.37 141.054 Q1827.49 139.619 1823.97 139.619 Q1822.05 139.619 1819.85 140.035 Q1817.65 140.452 1815.01 141.332 L1815.01 137.165 Q1817.68 136.424 1819.99 136.054 Q1822.33 135.684 1824.39 135.684 Q1829.71 135.684 1832.81 138.114 Q1835.92 140.522 1835.92 144.642 Q1835.92 147.512 1834.27 149.503 Q1832.63 151.471 1829.6 152.234 Z\" fill=\"#000000\" fill-rule=\"evenodd\" fill-opacity=\"1\" /><path clip-path=\"url(#clip520)\" d=\"M1845.64 136.309 L1863.99 136.309 L1863.99 140.244 L1849.92 140.244 L1849.92 148.716 Q1850.94 148.369 1851.96 148.207 Q1852.98 148.022 1854 148.022 Q1859.78 148.022 1863.16 151.193 Q1866.54 154.364 1866.54 159.781 Q1866.54 165.359 1863.07 168.461 Q1859.6 171.54 1853.28 171.54 Q1851.1 171.54 1848.83 171.17 Q1846.59 170.799 1844.18 170.058 L1844.18 165.359 Q1846.26 166.494 1848.49 167.049 Q1850.71 167.605 1853.18 167.605 Q1857.19 167.605 1859.53 165.498 Q1861.87 163.392 1861.87 159.781 Q1861.87 156.17 1859.53 154.063 Q1857.19 151.957 1853.18 151.957 Q1851.31 151.957 1849.43 152.373 Q1847.58 152.79 1845.64 153.67 L1845.64 136.309 Z\" fill=\"#000000\" fill-rule=\"evenodd\" fill-opacity=\"1\" /><path clip-path=\"url(#clip520)\" d=\"M1875.8 136.309 L1894.16 136.309 L1894.16 140.244 L1880.08 140.244 L1880.08 148.716 Q1881.1 148.369 1882.12 148.207 Q1883.14 148.022 1884.16 148.022 Q1889.94 148.022 1893.32 151.193 Q1896.7 154.364 1896.7 159.781 Q1896.7 165.359 1893.23 168.461 Q1889.76 171.54 1883.44 171.54 Q1881.26 171.54 1878.99 171.17 Q1876.75 170.799 1874.34 170.058 L1874.34 165.359 Q1876.43 166.494 1878.65 167.049 Q1880.87 167.605 1883.35 167.605 Q1887.35 167.605 1889.69 165.498 Q1892.03 163.392 1892.03 159.781 Q1892.03 156.17 1889.69 154.063 Q1887.35 151.957 1883.35 151.957 Q1881.47 151.957 1879.6 152.373 Q1877.74 152.79 1875.8 153.67 L1875.8 136.309 Z\" fill=\"#000000\" fill-rule=\"evenodd\" fill-opacity=\"1\" /><path clip-path=\"url(#clip520)\" d=\"M1918.76 140.383 L1906.96 158.832 L1918.76 158.832 L1918.76 140.383 M1917.54 136.309 L1923.42 136.309 L1923.42 158.832 L1928.35 158.832 L1928.35 162.721 L1923.42 162.721 L1923.42 170.869 L1918.76 170.869 L1918.76 162.721 L1903.16 162.721 L1903.16 158.207 L1917.54 136.309 Z\" fill=\"#000000\" fill-rule=\"evenodd\" fill-opacity=\"1\" /><path clip-path=\"url(#clip520)\" d=\"M1948.93 140.383 L1937.12 158.832 L1948.93 158.832 L1948.93 140.383 M1947.7 136.309 L1953.58 136.309 L1953.58 158.832 L1958.51 158.832 L1958.51 162.721 L1953.58 162.721 L1953.58 170.869 L1948.93 170.869 L1948.93 162.721 L1933.32 162.721 L1933.32 158.207 L1947.7 136.309 Z\" fill=\"#000000\" fill-rule=\"evenodd\" fill-opacity=\"1\" /><path clip-path=\"url(#clip520)\" d=\"M1980.41 152.234 Q1983.76 152.952 1985.64 155.221 Q1987.54 157.489 1987.54 160.822 Q1987.54 165.938 1984.02 168.739 Q1980.5 171.54 1974.02 171.54 Q1971.84 171.54 1969.53 171.1 Q1967.24 170.683 1964.78 169.827 L1964.78 165.313 Q1966.73 166.447 1969.04 167.026 Q1971.36 167.605 1973.88 167.605 Q1978.28 167.605 1980.57 165.869 Q1982.88 164.133 1982.88 160.822 Q1982.88 157.767 1980.73 156.054 Q1978.6 154.318 1974.78 154.318 L1970.75 154.318 L1970.75 150.475 L1974.97 150.475 Q1978.42 150.475 1980.24 149.109 Q1982.07 147.721 1982.07 145.128 Q1982.07 142.466 1980.17 141.054 Q1978.3 139.619 1974.78 139.619 Q1972.86 139.619 1970.66 140.035 Q1968.46 140.452 1965.82 141.332 L1965.82 137.165 Q1968.49 136.424 1970.8 136.054 Q1973.14 135.684 1975.2 135.684 Q1980.52 135.684 1983.62 138.114 Q1986.73 140.522 1986.73 144.642 Q1986.73 147.512 1985.08 149.503 Q1983.44 151.471 1980.41 152.234 Z\" fill=\"#000000\" fill-rule=\"evenodd\" fill-opacity=\"1\" /><path clip-path=\"url(#clip520)\" d=\"M2000.43 166.933 L2016.75 166.933 L2016.75 170.869 L1994.8 170.869 L1994.8 166.933 Q1997.47 164.179 2002.05 159.549 Q2006.66 154.896 2007.84 153.554 Q2010.08 151.031 2010.96 149.295 Q2011.86 147.535 2011.86 145.846 Q2011.86 143.091 2009.92 141.355 Q2008 139.619 2004.9 139.619 Q2002.7 139.619 2000.24 140.383 Q1997.81 141.147 1995.04 142.697 L1995.04 137.975 Q1997.86 136.841 2000.31 136.262 Q2002.77 135.684 2004.8 135.684 Q2010.17 135.684 2013.37 138.369 Q2016.56 141.054 2016.56 145.545 Q2016.56 147.674 2015.75 149.596 Q2014.97 151.494 2012.86 154.086 Q2012.28 154.758 2009.18 157.975 Q2006.08 161.17 2000.43 166.933 Z\" fill=\"#000000\" fill-rule=\"evenodd\" fill-opacity=\"1\" /><path clip-path=\"url(#clip520)\" d=\"M2025.29 134.897 L2028.99 134.897 Q2032.47 140.36 2034.18 145.591 Q2035.92 150.822 2035.92 155.984 Q2035.92 161.17 2034.18 166.424 Q2032.47 171.679 2028.99 177.119 L2025.29 177.119 Q2028.37 171.818 2029.87 166.586 Q2031.4 161.332 2031.4 155.984 Q2031.4 150.637 2029.87 145.429 Q2028.37 140.221 2025.29 134.897 Z\" fill=\"#000000\" fill-rule=\"evenodd\" fill-opacity=\"1\" /><polyline clip-path=\"url(#clip520)\" style=\"stroke:#e26f46; stroke-linecap:butt; stroke-linejoin:round; stroke-width:4; stroke-opacity:1; fill:none\" points=\"\n",
       "  1415.15,214.069 1562.06,214.069 \n",
       "  \"/>\n",
       "<path clip-path=\"url(#clip520)\" d=\"M1606.89 210.4 Q1608.49 207.529 1610.71 206.164 Q1612.93 204.798 1615.94 204.798 Q1619.99 204.798 1622.19 207.645 Q1624.39 210.469 1624.39 215.701 L1624.39 231.349 L1620.11 231.349 L1620.11 215.839 Q1620.11 212.113 1618.79 210.307 Q1617.47 208.502 1614.76 208.502 Q1611.45 208.502 1609.53 210.701 Q1607.61 212.9 1607.61 216.696 L1607.61 231.349 L1603.33 231.349 L1603.33 215.839 Q1603.33 212.089 1602.01 210.307 Q1600.69 208.502 1597.93 208.502 Q1594.67 208.502 1592.75 210.724 Q1590.83 212.923 1590.83 216.696 L1590.83 231.349 L1586.54 231.349 L1586.54 205.423 L1590.83 205.423 L1590.83 209.451 Q1592.28 207.066 1594.32 205.932 Q1596.36 204.798 1599.16 204.798 Q1601.98 204.798 1603.95 206.233 Q1605.94 207.668 1606.89 210.4 Z\" fill=\"#000000\" fill-rule=\"evenodd\" fill-opacity=\"1\" /><path clip-path=\"url(#clip520)\" d=\"M1644.67 218.316 Q1639.51 218.316 1637.51 219.497 Q1635.52 220.677 1635.52 223.525 Q1635.52 225.793 1637.01 227.136 Q1638.51 228.455 1641.08 228.455 Q1644.62 228.455 1646.75 225.955 Q1648.9 223.432 1648.9 219.265 L1648.9 218.316 L1644.67 218.316 M1653.16 216.557 L1653.16 231.349 L1648.9 231.349 L1648.9 227.413 Q1647.45 229.775 1645.27 230.909 Q1643.09 232.02 1639.95 232.02 Q1635.96 232.02 1633.6 229.798 Q1631.26 227.552 1631.26 223.802 Q1631.26 219.427 1634.18 217.205 Q1637.12 214.983 1642.93 214.983 L1648.9 214.983 L1648.9 214.566 Q1648.9 211.627 1646.96 210.029 Q1645.04 208.409 1641.54 208.409 Q1639.32 208.409 1637.21 208.941 Q1635.11 209.474 1633.16 210.539 L1633.16 206.603 Q1635.5 205.701 1637.7 205.261 Q1639.9 204.798 1641.98 204.798 Q1647.61 204.798 1650.39 207.714 Q1653.16 210.631 1653.16 216.557 Z\" fill=\"#000000\" fill-rule=\"evenodd\" fill-opacity=\"1\" /><path clip-path=\"url(#clip520)\" d=\"M1678.46 206.187 L1678.46 210.214 Q1676.66 209.289 1674.71 208.826 Q1672.77 208.363 1670.69 208.363 Q1667.51 208.363 1665.92 209.335 Q1664.34 210.307 1664.34 212.251 Q1664.34 213.733 1665.48 214.589 Q1666.61 215.423 1670.04 216.187 L1671.5 216.511 Q1676.03 217.483 1677.93 219.265 Q1679.85 221.025 1679.85 224.196 Q1679.85 227.807 1676.98 229.913 Q1674.13 232.02 1669.13 232.02 Q1667.05 232.02 1664.78 231.603 Q1662.54 231.21 1660.04 230.4 L1660.04 226.001 Q1662.4 227.228 1664.69 227.853 Q1666.98 228.455 1669.23 228.455 Q1672.24 228.455 1673.86 227.437 Q1675.48 226.395 1675.48 224.52 Q1675.48 222.784 1674.3 221.858 Q1673.14 220.932 1669.18 220.076 L1667.7 219.728 Q1663.74 218.895 1661.98 217.182 Q1660.22 215.446 1660.22 212.437 Q1660.22 208.779 1662.82 206.789 Q1665.41 204.798 1670.18 204.798 Q1672.54 204.798 1674.62 205.145 Q1676.7 205.492 1678.46 206.187 Z\" fill=\"#000000\" fill-rule=\"evenodd\" fill-opacity=\"1\" /><path clip-path=\"url(#clip520)\" d=\"M1703.16 206.187 L1703.16 210.214 Q1701.36 209.289 1699.41 208.826 Q1697.47 208.363 1695.38 208.363 Q1692.21 208.363 1690.62 209.335 Q1689.04 210.307 1689.04 212.251 Q1689.04 213.733 1690.18 214.589 Q1691.31 215.423 1694.74 216.187 L1696.19 216.511 Q1700.73 217.483 1702.63 219.265 Q1704.55 221.025 1704.55 224.196 Q1704.55 227.807 1701.68 229.913 Q1698.83 232.02 1693.83 232.02 Q1691.75 232.02 1689.48 231.603 Q1687.24 231.21 1684.74 230.4 L1684.74 226.001 Q1687.1 227.228 1689.39 227.853 Q1691.68 228.455 1693.93 228.455 Q1696.94 228.455 1698.56 227.437 Q1700.18 226.395 1700.18 224.52 Q1700.18 222.784 1699 221.858 Q1697.84 220.932 1693.88 220.076 L1692.4 219.728 Q1688.44 218.895 1686.68 217.182 Q1684.92 215.446 1684.92 212.437 Q1684.92 208.779 1687.51 206.789 Q1690.11 204.798 1694.88 204.798 Q1697.24 204.798 1699.32 205.145 Q1701.4 205.492 1703.16 206.187 Z\" fill=\"#000000\" fill-rule=\"evenodd\" fill-opacity=\"1\" /><path clip-path=\"url(#clip520)\" d=\"M1711.94 225.469 L1716.82 225.469 L1716.82 231.349 L1711.94 231.349 L1711.94 225.469 Z\" fill=\"#000000\" fill-rule=\"evenodd\" fill-opacity=\"1\" /><path clip-path=\"url(#clip520)\" d=\"M1723.35 205.423 L1727.86 205.423 L1735.96 227.182 L1744.07 205.423 L1748.58 205.423 L1738.86 231.349 L1733.07 231.349 L1723.35 205.423 Z\" fill=\"#000000\" fill-rule=\"evenodd\" fill-opacity=\"1\" /><path clip-path=\"url(#clip520)\" d=\"M1779.76 195.377 Q1776.66 200.701 1775.15 205.909 Q1773.65 211.117 1773.65 216.464 Q1773.65 221.812 1775.15 227.066 Q1776.68 232.298 1779.76 237.599 L1776.06 237.599 Q1772.58 232.159 1770.85 226.904 Q1769.13 221.65 1769.13 216.464 Q1769.13 211.302 1770.85 206.071 Q1772.56 200.84 1776.06 195.377 L1779.76 195.377 Z\" fill=\"#000000\" fill-rule=\"evenodd\" fill-opacity=\"1\" /><path clip-path=\"url(#clip520)\" d=\"M1802.79 212.714 Q1806.15 213.432 1808.02 215.701 Q1809.92 217.969 1809.92 221.302 Q1809.92 226.418 1806.4 229.219 Q1802.88 232.02 1796.4 232.02 Q1794.23 232.02 1791.91 231.58 Q1789.62 231.163 1787.17 230.307 L1787.17 225.793 Q1789.11 226.927 1791.43 227.506 Q1793.74 228.085 1796.26 228.085 Q1800.66 228.085 1802.95 226.349 Q1805.27 224.613 1805.27 221.302 Q1805.27 218.247 1803.12 216.534 Q1800.99 214.798 1797.17 214.798 L1793.14 214.798 L1793.14 210.955 L1797.35 210.955 Q1800.8 210.955 1802.63 209.589 Q1804.46 208.201 1804.46 205.608 Q1804.46 202.946 1802.56 201.534 Q1800.69 200.099 1797.17 200.099 Q1795.25 200.099 1793.05 200.515 Q1790.85 200.932 1788.21 201.812 L1788.21 197.645 Q1790.87 196.904 1793.19 196.534 Q1795.52 196.164 1797.58 196.164 Q1802.91 196.164 1806.01 198.594 Q1809.11 201.002 1809.11 205.122 Q1809.11 207.992 1807.47 209.983 Q1805.82 211.951 1802.79 212.714 Z\" fill=\"#000000\" fill-rule=\"evenodd\" fill-opacity=\"1\" /><path clip-path=\"url(#clip520)\" d=\"M1832.95 212.714 Q1836.31 213.432 1838.18 215.701 Q1840.08 217.969 1840.08 221.302 Q1840.08 226.418 1836.56 229.219 Q1833.05 232.02 1826.56 232.02 Q1824.39 232.02 1822.07 231.58 Q1819.78 231.163 1817.33 230.307 L1817.33 225.793 Q1819.27 226.927 1821.59 227.506 Q1823.9 228.085 1826.43 228.085 Q1830.82 228.085 1833.12 226.349 Q1835.43 224.613 1835.43 221.302 Q1835.43 218.247 1833.28 216.534 Q1831.15 214.798 1827.33 214.798 L1823.3 214.798 L1823.3 210.955 L1827.51 210.955 Q1830.96 210.955 1832.79 209.589 Q1834.62 208.201 1834.62 205.608 Q1834.62 202.946 1832.72 201.534 Q1830.85 200.099 1827.33 200.099 Q1825.41 200.099 1823.21 200.515 Q1821.01 200.932 1818.37 201.812 L1818.37 197.645 Q1821.03 196.904 1823.35 196.534 Q1825.69 196.164 1827.75 196.164 Q1833.07 196.164 1836.17 198.594 Q1839.27 201.002 1839.27 205.122 Q1839.27 207.992 1837.63 209.983 Q1835.99 211.951 1832.95 212.714 Z\" fill=\"#000000\" fill-rule=\"evenodd\" fill-opacity=\"1\" /><path clip-path=\"url(#clip520)\" d=\"M1849 196.789 L1867.35 196.789 L1867.35 200.724 L1853.28 200.724 L1853.28 209.196 Q1854.3 208.849 1855.31 208.687 Q1856.33 208.502 1857.35 208.502 Q1863.14 208.502 1866.52 211.673 Q1869.9 214.844 1869.9 220.261 Q1869.9 225.839 1866.43 228.941 Q1862.95 232.02 1856.63 232.02 Q1854.46 232.02 1852.19 231.65 Q1849.94 231.279 1847.54 230.538 L1847.54 225.839 Q1849.62 226.974 1851.84 227.529 Q1854.06 228.085 1856.54 228.085 Q1860.55 228.085 1862.88 225.978 Q1865.22 223.872 1865.22 220.261 Q1865.22 216.65 1862.88 214.543 Q1860.55 212.437 1856.54 212.437 Q1854.67 212.437 1852.79 212.853 Q1850.94 213.27 1849 214.15 L1849 196.789 Z\" fill=\"#000000\" fill-rule=\"evenodd\" fill-opacity=\"1\" /><path clip-path=\"url(#clip520)\" d=\"M1879.16 196.789 L1897.51 196.789 L1897.51 200.724 L1883.44 200.724 L1883.44 209.196 Q1884.46 208.849 1885.48 208.687 Q1886.49 208.502 1887.51 208.502 Q1893.3 208.502 1896.68 211.673 Q1900.06 214.844 1900.06 220.261 Q1900.06 225.839 1896.59 228.941 Q1893.12 232.02 1886.8 232.02 Q1884.62 232.02 1882.35 231.65 Q1880.11 231.279 1877.7 230.538 L1877.7 225.839 Q1879.78 226.974 1882 227.529 Q1884.23 228.085 1886.7 228.085 Q1890.71 228.085 1893.05 225.978 Q1895.38 223.872 1895.38 220.261 Q1895.38 216.65 1893.05 214.543 Q1890.71 212.437 1886.7 212.437 Q1884.83 212.437 1882.95 212.853 Q1881.1 213.27 1879.16 214.15 L1879.16 196.789 Z\" fill=\"#000000\" fill-rule=\"evenodd\" fill-opacity=\"1\" /><path clip-path=\"url(#clip520)\" d=\"M1922.12 200.863 L1910.31 219.312 L1922.12 219.312 L1922.12 200.863 M1920.89 196.789 L1926.77 196.789 L1926.77 219.312 L1931.7 219.312 L1931.7 223.201 L1926.77 223.201 L1926.77 231.349 L1922.12 231.349 L1922.12 223.201 L1906.52 223.201 L1906.52 218.687 L1920.89 196.789 Z\" fill=\"#000000\" fill-rule=\"evenodd\" fill-opacity=\"1\" /><path clip-path=\"url(#clip520)\" d=\"M1952.28 200.863 L1940.48 219.312 L1952.28 219.312 L1952.28 200.863 M1951.05 196.789 L1956.93 196.789 L1956.93 219.312 L1961.86 219.312 L1961.86 223.201 L1956.93 223.201 L1956.93 231.349 L1952.28 231.349 L1952.28 223.201 L1936.68 223.201 L1936.68 218.687 L1951.05 196.789 Z\" fill=\"#000000\" fill-rule=\"evenodd\" fill-opacity=\"1\" /><path clip-path=\"url(#clip520)\" d=\"M1983.76 212.714 Q1987.12 213.432 1988.99 215.701 Q1990.89 217.969 1990.89 221.302 Q1990.89 226.418 1987.37 229.219 Q1983.86 232.02 1977.37 232.02 Q1975.2 232.02 1972.88 231.58 Q1970.59 231.163 1968.14 230.307 L1968.14 225.793 Q1970.08 226.927 1972.4 227.506 Q1974.71 228.085 1977.24 228.085 Q1981.63 228.085 1983.92 226.349 Q1986.24 224.613 1986.24 221.302 Q1986.24 218.247 1984.09 216.534 Q1981.96 214.798 1978.14 214.798 L1974.11 214.798 L1974.11 210.955 L1978.32 210.955 Q1981.77 210.955 1983.6 209.589 Q1985.43 208.201 1985.43 205.608 Q1985.43 202.946 1983.53 201.534 Q1981.66 200.099 1978.14 200.099 Q1976.22 200.099 1974.02 200.515 Q1971.82 200.932 1969.18 201.812 L1969.18 197.645 Q1971.84 196.904 1974.16 196.534 Q1976.49 196.164 1978.55 196.164 Q1983.88 196.164 1986.98 198.594 Q1990.08 201.002 1990.08 205.122 Q1990.08 207.992 1988.44 209.983 Q1986.8 211.951 1983.76 212.714 Z\" fill=\"#000000\" fill-rule=\"evenodd\" fill-opacity=\"1\" /><path clip-path=\"url(#clip520)\" d=\"M2013.92 212.714 Q2017.28 213.432 2019.16 215.701 Q2021.05 217.969 2021.05 221.302 Q2021.05 226.418 2017.54 229.219 Q2014.02 232.02 2007.54 232.02 Q2005.36 232.02 2003.05 231.58 Q2000.75 231.163 1998.3 230.307 L1998.3 225.793 Q2000.24 226.927 2002.56 227.506 Q2004.87 228.085 2007.4 228.085 Q2011.8 228.085 2014.09 226.349 Q2016.4 224.613 2016.4 221.302 Q2016.4 218.247 2014.25 216.534 Q2012.12 214.798 2008.3 214.798 L2004.27 214.798 L2004.27 210.955 L2008.48 210.955 Q2011.93 210.955 2013.76 209.589 Q2015.59 208.201 2015.59 205.608 Q2015.59 202.946 2013.69 201.534 Q2011.82 200.099 2008.3 200.099 Q2006.38 200.099 2004.18 200.515 Q2001.98 200.932 1999.34 201.812 L1999.34 197.645 Q2002 196.904 2004.32 196.534 Q2006.66 196.164 2008.72 196.164 Q2014.04 196.164 2017.14 198.594 Q2020.24 201.002 2020.24 205.122 Q2020.24 207.992 2018.6 209.983 Q2016.96 211.951 2013.92 212.714 Z\" fill=\"#000000\" fill-rule=\"evenodd\" fill-opacity=\"1\" /><path clip-path=\"url(#clip520)\" d=\"M2028.65 195.377 L2032.35 195.377 Q2035.82 200.84 2037.54 206.071 Q2039.27 211.302 2039.27 216.464 Q2039.27 221.65 2037.54 226.904 Q2035.82 232.159 2032.35 237.599 L2028.65 237.599 Q2031.73 232.298 2033.23 227.066 Q2034.76 221.812 2034.76 216.464 Q2034.76 211.117 2033.23 205.909 Q2031.73 200.701 2028.65 195.377 Z\" fill=\"#000000\" fill-rule=\"evenodd\" fill-opacity=\"1\" /><polyline clip-path=\"url(#clip520)\" style=\"stroke:#3da44d; stroke-linecap:butt; stroke-linejoin:round; stroke-width:4; stroke-opacity:1; fill:none\" points=\"\n",
       "  1415.15,274.549 1562.06,274.549 \n",
       "  \"/>\n",
       "<path clip-path=\"url(#clip520)\" d=\"M1606.89 270.88 Q1608.49 268.009 1610.71 266.644 Q1612.93 265.278 1615.94 265.278 Q1619.99 265.278 1622.19 268.125 Q1624.39 270.949 1624.39 276.181 L1624.39 291.829 L1620.11 291.829 L1620.11 276.319 Q1620.11 272.593 1618.79 270.787 Q1617.47 268.982 1614.76 268.982 Q1611.45 268.982 1609.53 271.181 Q1607.61 273.38 1607.61 277.176 L1607.61 291.829 L1603.33 291.829 L1603.33 276.319 Q1603.33 272.569 1602.01 270.787 Q1600.69 268.982 1597.93 268.982 Q1594.67 268.982 1592.75 271.204 Q1590.83 273.403 1590.83 277.176 L1590.83 291.829 L1586.54 291.829 L1586.54 265.903 L1590.83 265.903 L1590.83 269.931 Q1592.28 267.546 1594.32 266.412 Q1596.36 265.278 1599.16 265.278 Q1601.98 265.278 1603.95 266.713 Q1605.94 268.148 1606.89 270.88 Z\" fill=\"#000000\" fill-rule=\"evenodd\" fill-opacity=\"1\" /><path clip-path=\"url(#clip520)\" d=\"M1644.67 278.796 Q1639.51 278.796 1637.51 279.977 Q1635.52 281.157 1635.52 284.005 Q1635.52 286.273 1637.01 287.616 Q1638.51 288.935 1641.08 288.935 Q1644.62 288.935 1646.75 286.435 Q1648.9 283.912 1648.9 279.745 L1648.9 278.796 L1644.67 278.796 M1653.16 277.037 L1653.16 291.829 L1648.9 291.829 L1648.9 287.893 Q1647.45 290.255 1645.27 291.389 Q1643.09 292.5 1639.95 292.5 Q1635.96 292.5 1633.6 290.278 Q1631.26 288.032 1631.26 284.282 Q1631.26 279.907 1634.18 277.685 Q1637.12 275.463 1642.93 275.463 L1648.9 275.463 L1648.9 275.046 Q1648.9 272.107 1646.96 270.509 Q1645.04 268.889 1641.54 268.889 Q1639.32 268.889 1637.21 269.421 Q1635.11 269.954 1633.16 271.019 L1633.16 267.083 Q1635.5 266.181 1637.7 265.741 Q1639.9 265.278 1641.98 265.278 Q1647.61 265.278 1650.39 268.194 Q1653.16 271.111 1653.16 277.037 Z\" fill=\"#000000\" fill-rule=\"evenodd\" fill-opacity=\"1\" /><path clip-path=\"url(#clip520)\" d=\"M1678.46 266.667 L1678.46 270.694 Q1676.66 269.769 1674.71 269.306 Q1672.77 268.843 1670.69 268.843 Q1667.51 268.843 1665.92 269.815 Q1664.34 270.787 1664.34 272.731 Q1664.34 274.213 1665.48 275.069 Q1666.61 275.903 1670.04 276.667 L1671.5 276.991 Q1676.03 277.963 1677.93 279.745 Q1679.85 281.505 1679.85 284.676 Q1679.85 288.287 1676.98 290.393 Q1674.13 292.5 1669.13 292.5 Q1667.05 292.5 1664.78 292.083 Q1662.54 291.69 1660.04 290.88 L1660.04 286.481 Q1662.4 287.708 1664.69 288.333 Q1666.98 288.935 1669.23 288.935 Q1672.24 288.935 1673.86 287.917 Q1675.48 286.875 1675.48 285 Q1675.48 283.264 1674.3 282.338 Q1673.14 281.412 1669.18 280.556 L1667.7 280.208 Q1663.74 279.375 1661.98 277.662 Q1660.22 275.926 1660.22 272.917 Q1660.22 269.259 1662.82 267.269 Q1665.41 265.278 1670.18 265.278 Q1672.54 265.278 1674.62 265.625 Q1676.7 265.972 1678.46 266.667 Z\" fill=\"#000000\" fill-rule=\"evenodd\" fill-opacity=\"1\" /><path clip-path=\"url(#clip520)\" d=\"M1703.16 266.667 L1703.16 270.694 Q1701.36 269.769 1699.41 269.306 Q1697.47 268.843 1695.38 268.843 Q1692.21 268.843 1690.62 269.815 Q1689.04 270.787 1689.04 272.731 Q1689.04 274.213 1690.18 275.069 Q1691.31 275.903 1694.74 276.667 L1696.19 276.991 Q1700.73 277.963 1702.63 279.745 Q1704.55 281.505 1704.55 284.676 Q1704.55 288.287 1701.68 290.393 Q1698.83 292.5 1693.83 292.5 Q1691.75 292.5 1689.48 292.083 Q1687.24 291.69 1684.74 290.88 L1684.74 286.481 Q1687.1 287.708 1689.39 288.333 Q1691.68 288.935 1693.93 288.935 Q1696.94 288.935 1698.56 287.917 Q1700.18 286.875 1700.18 285 Q1700.18 283.264 1699 282.338 Q1697.84 281.412 1693.88 280.556 L1692.4 280.208 Q1688.44 279.375 1686.68 277.662 Q1684.92 275.926 1684.92 272.917 Q1684.92 269.259 1687.51 267.269 Q1690.11 265.278 1694.88 265.278 Q1697.24 265.278 1699.32 265.625 Q1701.4 265.972 1703.16 266.667 Z\" fill=\"#000000\" fill-rule=\"evenodd\" fill-opacity=\"1\" /><path clip-path=\"url(#clip520)\" d=\"M1711.94 285.949 L1716.82 285.949 L1716.82 291.829 L1711.94 291.829 L1711.94 285.949 Z\" fill=\"#000000\" fill-rule=\"evenodd\" fill-opacity=\"1\" /><path clip-path=\"url(#clip520)\" d=\"M1738.19 278.796 Q1733.02 278.796 1731.03 279.977 Q1729.04 281.157 1729.04 284.005 Q1729.04 286.273 1730.52 287.616 Q1732.03 288.935 1734.6 288.935 Q1738.14 288.935 1740.27 286.435 Q1742.42 283.912 1742.42 279.745 L1742.42 278.796 L1738.19 278.796 M1746.68 277.037 L1746.68 291.829 L1742.42 291.829 L1742.42 287.893 Q1740.96 290.255 1738.79 291.389 Q1736.61 292.5 1733.46 292.5 Q1729.48 292.5 1727.12 290.278 Q1724.78 288.032 1724.78 284.282 Q1724.78 279.907 1727.7 277.685 Q1730.64 275.463 1736.45 275.463 L1742.42 275.463 L1742.42 275.046 Q1742.42 272.107 1740.48 270.509 Q1738.56 268.889 1735.06 268.889 Q1732.84 268.889 1730.73 269.421 Q1728.63 269.954 1726.68 271.019 L1726.68 267.083 Q1729.02 266.181 1731.22 265.741 Q1733.42 265.278 1735.5 265.278 Q1741.13 265.278 1743.9 268.194 Q1746.68 271.111 1746.68 277.037 Z\" fill=\"#000000\" fill-rule=\"evenodd\" fill-opacity=\"1\" /><path clip-path=\"url(#clip520)\" d=\"M1775.15 299.699 L1775.15 303.009 L1750.52 303.009 L1750.52 299.699 L1775.15 299.699 Z\" fill=\"#000000\" fill-rule=\"evenodd\" fill-opacity=\"1\" /><path clip-path=\"url(#clip520)\" d=\"M1794.18 269.884 Q1793.46 269.468 1792.61 269.282 Q1791.77 269.074 1790.75 269.074 Q1787.14 269.074 1785.2 271.435 Q1783.28 273.773 1783.28 278.171 L1783.28 291.829 L1779 291.829 L1779 265.903 L1783.28 265.903 L1783.28 269.931 Q1784.62 267.569 1786.77 266.435 Q1788.93 265.278 1792 265.278 Q1792.44 265.278 1792.98 265.347 Q1793.51 265.394 1794.16 265.509 L1794.18 269.884 Z\" fill=\"#000000\" fill-rule=\"evenodd\" fill-opacity=\"1\" /><path clip-path=\"url(#clip520)\" d=\"M1819.78 277.801 L1819.78 279.884 L1800.2 279.884 Q1800.48 284.282 1802.84 286.597 Q1805.22 288.889 1809.46 288.889 Q1811.91 288.889 1814.2 288.287 Q1816.52 287.685 1818.79 286.481 L1818.79 290.509 Q1816.5 291.481 1814.09 291.991 Q1811.68 292.5 1809.2 292.5 Q1803 292.5 1799.37 288.889 Q1795.75 285.278 1795.75 279.12 Q1795.75 272.755 1799.18 269.028 Q1802.63 265.278 1808.46 265.278 Q1813.69 265.278 1816.73 268.657 Q1819.78 272.014 1819.78 277.801 M1815.52 276.551 Q1815.48 273.056 1813.56 270.972 Q1811.66 268.889 1808.51 268.889 Q1804.94 268.889 1802.79 270.903 Q1800.66 272.917 1800.34 276.574 L1815.52 276.551 Z\" fill=\"#000000\" fill-rule=\"evenodd\" fill-opacity=\"1\" /><path clip-path=\"url(#clip520)\" d=\"M1826.77 255.81 L1831.03 255.81 L1831.03 291.829 L1826.77 291.829 L1826.77 255.81 Z\" fill=\"#000000\" fill-rule=\"evenodd\" fill-opacity=\"1\" /><path clip-path=\"url(#clip520)\" d=\"M1853.07 255.81 L1853.07 259.352 L1849 259.352 Q1846.7 259.352 1845.8 260.278 Q1844.92 261.204 1844.92 263.611 L1844.92 265.903 L1851.93 265.903 L1851.93 269.213 L1844.92 269.213 L1844.92 291.829 L1840.64 291.829 L1840.64 269.213 L1836.56 269.213 L1836.56 265.903 L1840.64 265.903 L1840.64 264.097 Q1840.64 259.769 1842.65 257.801 Q1844.67 255.81 1849.04 255.81 L1853.07 255.81 Z\" fill=\"#000000\" fill-rule=\"evenodd\" fill-opacity=\"1\" /><path clip-path=\"url(#clip520)\" d=\"M1871.66 269.884 Q1870.94 269.468 1870.08 269.282 Q1869.25 269.074 1868.23 269.074 Q1864.62 269.074 1862.68 271.435 Q1860.75 273.773 1860.75 278.171 L1860.75 291.829 L1856.47 291.829 L1856.47 265.903 L1860.75 265.903 L1860.75 269.931 Q1862.1 267.569 1864.25 266.435 Q1866.4 265.278 1869.48 265.278 Q1869.92 265.278 1870.45 265.347 Q1870.99 265.394 1871.63 265.509 L1871.66 269.884 Z\" fill=\"#000000\" fill-rule=\"evenodd\" fill-opacity=\"1\" /><path clip-path=\"url(#clip520)\" d=\"M1876.12 265.903 L1880.38 265.903 L1880.38 291.829 L1876.12 291.829 L1876.12 265.903 M1876.12 255.81 L1880.38 255.81 L1880.38 261.204 L1876.12 261.204 L1876.12 255.81 Z\" fill=\"#000000\" fill-rule=\"evenodd\" fill-opacity=\"1\" /><path clip-path=\"url(#clip520)\" d=\"M1907.95 266.898 L1907.95 270.88 Q1906.15 269.884 1904.32 269.398 Q1902.51 268.889 1900.66 268.889 Q1896.52 268.889 1894.23 271.528 Q1891.93 274.144 1891.93 278.889 Q1891.93 283.634 1894.23 286.273 Q1896.52 288.889 1900.66 288.889 Q1902.51 288.889 1904.32 288.403 Q1906.15 287.893 1907.95 286.898 L1907.95 290.833 Q1906.17 291.667 1904.25 292.083 Q1902.35 292.5 1900.2 292.5 Q1894.34 292.5 1890.89 288.819 Q1887.44 285.139 1887.44 278.889 Q1887.44 272.546 1890.92 268.912 Q1894.41 265.278 1900.48 265.278 Q1902.44 265.278 1904.32 265.695 Q1906.19 266.088 1907.95 266.898 Z\" fill=\"#000000\" fill-rule=\"evenodd\" fill-opacity=\"1\" /><path clip-path=\"url(#clip520)\" d=\"M1940.66 255.857 Q1937.56 261.181 1936.05 266.389 Q1934.55 271.597 1934.55 276.944 Q1934.55 282.292 1936.05 287.546 Q1937.58 292.778 1940.66 298.079 L1936.96 298.079 Q1933.49 292.639 1931.75 287.384 Q1930.04 282.13 1930.04 276.944 Q1930.04 271.782 1931.75 266.551 Q1933.46 261.32 1936.96 255.857 L1940.66 255.857 Z\" fill=\"#000000\" fill-rule=\"evenodd\" fill-opacity=\"1\" /><path clip-path=\"url(#clip520)\" d=\"M1949.57 257.269 L1967.93 257.269 L1967.93 261.204 L1953.86 261.204 L1953.86 269.676 Q1954.87 269.329 1955.89 269.167 Q1956.91 268.982 1957.93 268.982 Q1963.72 268.982 1967.1 272.153 Q1970.48 275.324 1970.48 280.741 Q1970.48 286.319 1967 289.421 Q1963.53 292.5 1957.21 292.5 Q1955.04 292.5 1952.77 292.13 Q1950.52 291.759 1948.11 291.018 L1948.11 286.319 Q1950.2 287.454 1952.42 288.009 Q1954.64 288.565 1957.12 288.565 Q1961.12 288.565 1963.46 286.458 Q1965.8 284.352 1965.8 280.741 Q1965.8 277.13 1963.46 275.023 Q1961.12 272.917 1957.12 272.917 Q1955.24 272.917 1953.37 273.333 Q1951.52 273.75 1949.57 274.63 L1949.57 257.269 Z\" fill=\"#000000\" fill-rule=\"evenodd\" fill-opacity=\"1\" /><path clip-path=\"url(#clip520)\" d=\"M1989.69 275.417 Q1986.36 275.417 1984.43 277.199 Q1982.54 278.981 1982.54 282.106 Q1982.54 285.231 1984.43 287.014 Q1986.36 288.796 1989.69 288.796 Q1993.02 288.796 1994.94 287.014 Q1996.86 285.208 1996.86 282.106 Q1996.86 278.981 1994.94 277.199 Q1993.05 275.417 1989.69 275.417 M1985.01 273.426 Q1982 272.685 1980.31 270.625 Q1978.65 268.565 1978.65 265.602 Q1978.65 261.458 1981.59 259.051 Q1984.55 256.644 1989.69 256.644 Q1994.85 256.644 1997.79 259.051 Q2000.73 261.458 2000.73 265.602 Q2000.73 268.565 1999.04 270.625 Q1997.37 272.685 1994.39 273.426 Q1997.77 274.213 1999.64 276.505 Q2001.54 278.796 2001.54 282.106 Q2001.54 287.13 1998.46 289.815 Q1995.41 292.5 1989.69 292.5 Q1983.97 292.5 1980.89 289.815 Q1977.84 287.13 1977.84 282.106 Q1977.84 278.796 1979.74 276.505 Q1981.63 274.213 1985.01 273.426 M1983.3 266.042 Q1983.3 268.727 1984.97 270.232 Q1986.66 271.736 1989.69 271.736 Q1992.7 271.736 1994.39 270.232 Q1996.1 268.727 1996.1 266.042 Q1996.1 263.357 1994.39 261.852 Q1992.7 260.347 1989.69 260.347 Q1986.66 260.347 1984.97 261.852 Q1983.3 263.357 1983.3 266.042 Z\" fill=\"#000000\" fill-rule=\"evenodd\" fill-opacity=\"1\" /><path clip-path=\"url(#clip520)\" d=\"M2008.67 257.269 L2030.89 257.269 L2030.89 259.259 L2018.35 291.829 L2013.46 291.829 L2025.27 261.204 L2008.67 261.204 L2008.67 257.269 Z\" fill=\"#000000\" fill-rule=\"evenodd\" fill-opacity=\"1\" /><path clip-path=\"url(#clip520)\" d=\"M2044.04 287.893 L2060.36 287.893 L2060.36 291.829 L2038.42 291.829 L2038.42 287.893 Q2041.08 285.139 2045.66 280.509 Q2050.27 275.856 2051.45 274.514 Q2053.69 271.991 2054.57 270.255 Q2055.48 268.495 2055.48 266.806 Q2055.48 264.051 2053.53 262.315 Q2051.61 260.579 2048.51 260.579 Q2046.31 260.579 2043.86 261.343 Q2041.42 262.107 2038.65 263.657 L2038.65 258.935 Q2041.47 257.801 2043.92 257.222 Q2046.38 256.644 2048.42 256.644 Q2053.79 256.644 2056.98 259.329 Q2060.17 262.014 2060.17 266.505 Q2060.17 268.634 2059.36 270.556 Q2058.58 272.454 2056.47 275.046 Q2055.89 275.718 2052.79 278.935 Q2049.69 282.13 2044.04 287.893 Z\" fill=\"#000000\" fill-rule=\"evenodd\" fill-opacity=\"1\" /><path clip-path=\"url(#clip520)\" d=\"M2080.17 260.347 Q2076.56 260.347 2074.73 263.912 Q2072.93 267.454 2072.93 274.583 Q2072.93 281.69 2074.73 285.255 Q2076.56 288.796 2080.17 288.796 Q2083.81 288.796 2085.61 285.255 Q2087.44 281.69 2087.44 274.583 Q2087.44 267.454 2085.61 263.912 Q2083.81 260.347 2080.17 260.347 M2080.17 256.644 Q2085.98 256.644 2089.04 261.25 Q2092.12 265.833 2092.12 274.583 Q2092.12 283.31 2089.04 287.917 Q2085.98 292.5 2080.17 292.5 Q2074.36 292.5 2071.29 287.917 Q2068.23 283.31 2068.23 274.583 Q2068.23 265.833 2071.29 261.25 Q2074.36 256.644 2080.17 256.644 Z\" fill=\"#000000\" fill-rule=\"evenodd\" fill-opacity=\"1\" /><path clip-path=\"url(#clip520)\" d=\"M2104.36 287.893 L2120.68 287.893 L2120.68 291.829 L2098.74 291.829 L2098.74 287.893 Q2101.4 285.139 2105.98 280.509 Q2110.59 275.856 2111.77 274.514 Q2114.02 271.991 2114.9 270.255 Q2115.8 268.495 2115.8 266.806 Q2115.8 264.051 2113.85 262.315 Q2111.93 260.579 2108.83 260.579 Q2106.63 260.579 2104.18 261.343 Q2101.75 262.107 2098.97 263.657 L2098.97 258.935 Q2101.79 257.801 2104.25 257.222 Q2106.7 256.644 2108.74 256.644 Q2114.11 256.644 2117.3 259.329 Q2120.5 262.014 2120.5 266.505 Q2120.5 268.634 2119.69 270.556 Q2118.9 272.454 2116.79 275.046 Q2116.22 275.718 2113.11 278.935 Q2110.01 282.13 2104.36 287.893 Z\" fill=\"#000000\" fill-rule=\"evenodd\" fill-opacity=\"1\" /><path clip-path=\"url(#clip520)\" d=\"M2130.54 257.269 L2148.9 257.269 L2148.9 261.204 L2134.83 261.204 L2134.83 269.676 Q2135.85 269.329 2136.86 269.167 Q2137.88 268.982 2138.9 268.982 Q2144.69 268.982 2148.07 272.153 Q2151.45 275.324 2151.45 280.741 Q2151.45 286.319 2147.97 289.421 Q2144.5 292.5 2138.18 292.5 Q2136.01 292.5 2133.74 292.13 Q2131.49 291.759 2129.09 291.018 L2129.09 286.319 Q2131.17 287.454 2133.39 288.009 Q2135.61 288.565 2138.09 288.565 Q2142.1 288.565 2144.43 286.458 Q2146.77 284.352 2146.77 280.741 Q2146.77 277.13 2144.43 275.023 Q2142.1 272.917 2138.09 272.917 Q2136.22 272.917 2134.34 273.333 Q2132.49 273.75 2130.54 274.63 L2130.54 257.269 Z\" fill=\"#000000\" fill-rule=\"evenodd\" fill-opacity=\"1\" /><path clip-path=\"url(#clip520)\" d=\"M2171.24 272.685 Q2168.09 272.685 2166.24 274.838 Q2164.41 276.991 2164.41 280.741 Q2164.41 284.468 2166.24 286.643 Q2168.09 288.796 2171.24 288.796 Q2174.39 288.796 2176.22 286.643 Q2178.07 284.468 2178.07 280.741 Q2178.07 276.991 2176.22 274.838 Q2174.39 272.685 2171.24 272.685 M2180.52 258.033 L2180.52 262.292 Q2178.76 261.458 2176.96 261.019 Q2175.17 260.579 2173.41 260.579 Q2168.79 260.579 2166.33 263.704 Q2163.9 266.829 2163.55 273.148 Q2164.92 271.134 2166.98 270.069 Q2169.04 268.982 2171.52 268.982 Q2176.72 268.982 2179.73 272.153 Q2182.77 275.301 2182.77 280.741 Q2182.77 286.065 2179.62 289.282 Q2176.47 292.5 2171.24 292.5 Q2165.24 292.5 2162.07 287.917 Q2158.9 283.31 2158.9 274.583 Q2158.9 266.389 2162.79 261.528 Q2166.68 256.644 2173.23 256.644 Q2174.99 256.644 2176.77 256.991 Q2178.58 257.338 2180.52 258.033 Z\" fill=\"#000000\" fill-rule=\"evenodd\" fill-opacity=\"1\" /><path clip-path=\"url(#clip520)\" d=\"M2191.63 287.893 L2199.27 287.893 L2199.27 261.528 L2190.96 263.195 L2190.96 258.935 L2199.22 257.269 L2203.9 257.269 L2203.9 287.893 L2211.54 287.893 L2211.54 291.829 L2191.63 291.829 L2191.63 287.893 Z\" fill=\"#000000\" fill-rule=\"evenodd\" fill-opacity=\"1\" /><path clip-path=\"url(#clip520)\" d=\"M2219.71 255.857 L2223.41 255.857 Q2226.89 261.32 2228.6 266.551 Q2230.34 271.782 2230.34 276.944 Q2230.34 282.13 2228.6 287.384 Q2226.89 292.639 2223.41 298.079 L2219.71 298.079 Q2222.79 292.778 2224.29 287.546 Q2225.82 282.292 2225.82 276.944 Q2225.82 271.597 2224.29 266.389 Q2222.79 261.181 2219.71 255.857 Z\" fill=\"#000000\" fill-rule=\"evenodd\" fill-opacity=\"1\" /><polyline clip-path=\"url(#clip520)\" style=\"stroke:#c271d2; stroke-linecap:butt; stroke-linejoin:round; stroke-width:4; stroke-opacity:1; fill:none\" points=\"\n",
       "  1415.15,335.029 1562.06,335.029 \n",
       "  \"/>\n",
       "<path clip-path=\"url(#clip520)\" d=\"M1606.89 331.36 Q1608.49 328.489 1610.71 327.124 Q1612.93 325.758 1615.94 325.758 Q1619.99 325.758 1622.19 328.605 Q1624.39 331.429 1624.39 336.661 L1624.39 352.309 L1620.11 352.309 L1620.11 336.799 Q1620.11 333.073 1618.79 331.267 Q1617.47 329.462 1614.76 329.462 Q1611.45 329.462 1609.53 331.661 Q1607.61 333.86 1607.61 337.656 L1607.61 352.309 L1603.33 352.309 L1603.33 336.799 Q1603.33 333.049 1602.01 331.267 Q1600.69 329.462 1597.93 329.462 Q1594.67 329.462 1592.75 331.684 Q1590.83 333.883 1590.83 337.656 L1590.83 352.309 L1586.54 352.309 L1586.54 326.383 L1590.83 326.383 L1590.83 330.411 Q1592.28 328.026 1594.32 326.892 Q1596.36 325.758 1599.16 325.758 Q1601.98 325.758 1603.95 327.193 Q1605.94 328.628 1606.89 331.36 Z\" fill=\"#000000\" fill-rule=\"evenodd\" fill-opacity=\"1\" /><path clip-path=\"url(#clip520)\" d=\"M1644.67 339.276 Q1639.51 339.276 1637.51 340.457 Q1635.52 341.637 1635.52 344.485 Q1635.52 346.753 1637.01 348.096 Q1638.51 349.415 1641.08 349.415 Q1644.62 349.415 1646.75 346.915 Q1648.9 344.392 1648.9 340.225 L1648.9 339.276 L1644.67 339.276 M1653.16 337.517 L1653.16 352.309 L1648.9 352.309 L1648.9 348.373 Q1647.45 350.735 1645.27 351.869 Q1643.09 352.98 1639.95 352.98 Q1635.96 352.98 1633.6 350.758 Q1631.26 348.512 1631.26 344.762 Q1631.26 340.387 1634.18 338.165 Q1637.12 335.943 1642.93 335.943 L1648.9 335.943 L1648.9 335.526 Q1648.9 332.587 1646.96 330.989 Q1645.04 329.369 1641.54 329.369 Q1639.32 329.369 1637.21 329.901 Q1635.11 330.434 1633.16 331.499 L1633.16 327.563 Q1635.5 326.661 1637.7 326.221 Q1639.9 325.758 1641.98 325.758 Q1647.61 325.758 1650.39 328.674 Q1653.16 331.591 1653.16 337.517 Z\" fill=\"#000000\" fill-rule=\"evenodd\" fill-opacity=\"1\" /><path clip-path=\"url(#clip520)\" d=\"M1678.46 327.147 L1678.46 331.174 Q1676.66 330.249 1674.71 329.786 Q1672.77 329.323 1670.69 329.323 Q1667.51 329.323 1665.92 330.295 Q1664.34 331.267 1664.34 333.211 Q1664.34 334.693 1665.48 335.549 Q1666.61 336.383 1670.04 337.147 L1671.5 337.471 Q1676.03 338.443 1677.93 340.225 Q1679.85 341.985 1679.85 345.156 Q1679.85 348.767 1676.98 350.873 Q1674.13 352.98 1669.13 352.98 Q1667.05 352.98 1664.78 352.563 Q1662.54 352.17 1660.04 351.36 L1660.04 346.961 Q1662.4 348.188 1664.69 348.813 Q1666.98 349.415 1669.23 349.415 Q1672.24 349.415 1673.86 348.397 Q1675.48 347.355 1675.48 345.48 Q1675.48 343.744 1674.3 342.818 Q1673.14 341.892 1669.18 341.036 L1667.7 340.688 Q1663.74 339.855 1661.98 338.142 Q1660.22 336.406 1660.22 333.397 Q1660.22 329.739 1662.82 327.749 Q1665.41 325.758 1670.18 325.758 Q1672.54 325.758 1674.62 326.105 Q1676.7 326.452 1678.46 327.147 Z\" fill=\"#000000\" fill-rule=\"evenodd\" fill-opacity=\"1\" /><path clip-path=\"url(#clip520)\" d=\"M1703.16 327.147 L1703.16 331.174 Q1701.36 330.249 1699.41 329.786 Q1697.47 329.323 1695.38 329.323 Q1692.21 329.323 1690.62 330.295 Q1689.04 331.267 1689.04 333.211 Q1689.04 334.693 1690.18 335.549 Q1691.31 336.383 1694.74 337.147 L1696.19 337.471 Q1700.73 338.443 1702.63 340.225 Q1704.55 341.985 1704.55 345.156 Q1704.55 348.767 1701.68 350.873 Q1698.83 352.98 1693.83 352.98 Q1691.75 352.98 1689.48 352.563 Q1687.24 352.17 1684.74 351.36 L1684.74 346.961 Q1687.1 348.188 1689.39 348.813 Q1691.68 349.415 1693.93 349.415 Q1696.94 349.415 1698.56 348.397 Q1700.18 347.355 1700.18 345.48 Q1700.18 343.744 1699 342.818 Q1697.84 341.892 1693.88 341.036 L1692.4 340.688 Q1688.44 339.855 1686.68 338.142 Q1684.92 336.406 1684.92 333.397 Q1684.92 329.739 1687.51 327.749 Q1690.11 325.758 1694.88 325.758 Q1697.24 325.758 1699.32 326.105 Q1701.4 326.452 1703.16 327.147 Z\" fill=\"#000000\" fill-rule=\"evenodd\" fill-opacity=\"1\" /><path clip-path=\"url(#clip520)\" d=\"M1711.94 346.429 L1716.82 346.429 L1716.82 352.309 L1711.94 352.309 L1711.94 346.429 Z\" fill=\"#000000\" fill-rule=\"evenodd\" fill-opacity=\"1\" /><path clip-path=\"url(#clip520)\" d=\"M1739.53 316.29 L1739.53 319.832 L1735.45 319.832 Q1733.16 319.832 1732.26 320.758 Q1731.38 321.684 1731.38 324.091 L1731.38 326.383 L1738.39 326.383 L1738.39 329.693 L1731.38 329.693 L1731.38 352.309 L1727.1 352.309 L1727.1 329.693 L1723.02 329.693 L1723.02 326.383 L1727.1 326.383 L1727.1 324.577 Q1727.1 320.249 1729.11 318.281 Q1731.13 316.29 1735.5 316.29 L1739.53 316.29 Z\" fill=\"#000000\" fill-rule=\"evenodd\" fill-opacity=\"1\" /><path clip-path=\"url(#clip520)\" d=\"M1768.39 316.337 Q1765.29 321.661 1763.79 326.869 Q1762.28 332.077 1762.28 337.424 Q1762.28 342.772 1763.79 348.026 Q1765.31 353.258 1768.39 358.559 L1764.69 358.559 Q1761.22 353.119 1759.48 347.864 Q1757.77 342.61 1757.77 337.424 Q1757.77 332.262 1759.48 327.031 Q1761.19 321.8 1764.69 316.337 L1768.39 316.337 Z\" fill=\"#000000\" fill-rule=\"evenodd\" fill-opacity=\"1\" /><path clip-path=\"url(#clip520)\" d=\"M1787.84 333.165 Q1784.69 333.165 1782.84 335.318 Q1781.01 337.471 1781.01 341.221 Q1781.01 344.948 1782.84 347.123 Q1784.69 349.276 1787.84 349.276 Q1790.99 349.276 1792.81 347.123 Q1794.67 344.948 1794.67 341.221 Q1794.67 337.471 1792.81 335.318 Q1790.99 333.165 1787.84 333.165 M1797.12 318.513 L1797.12 322.772 Q1795.36 321.938 1793.56 321.499 Q1791.77 321.059 1790.01 321.059 Q1785.38 321.059 1782.93 324.184 Q1780.5 327.309 1780.15 333.628 Q1781.52 331.614 1783.58 330.549 Q1785.64 329.462 1788.12 329.462 Q1793.32 329.462 1796.33 332.633 Q1799.37 335.781 1799.37 341.221 Q1799.37 346.545 1796.22 349.762 Q1793.07 352.98 1787.84 352.98 Q1781.84 352.98 1778.67 348.397 Q1775.5 343.79 1775.5 335.063 Q1775.5 326.869 1779.39 322.008 Q1783.28 317.124 1789.83 317.124 Q1791.59 317.124 1793.37 317.471 Q1795.18 317.818 1797.12 318.513 Z\" fill=\"#000000\" fill-rule=\"evenodd\" fill-opacity=\"1\" /><path clip-path=\"url(#clip520)\" d=\"M1821.59 333.674 Q1824.94 334.392 1826.82 336.661 Q1828.72 338.929 1828.72 342.262 Q1828.72 347.378 1825.2 350.179 Q1821.68 352.98 1815.2 352.98 Q1813.02 352.98 1810.71 352.54 Q1808.42 352.123 1805.96 351.267 L1805.96 346.753 Q1807.91 347.887 1810.22 348.466 Q1812.54 349.045 1815.06 349.045 Q1819.46 349.045 1821.75 347.309 Q1824.06 345.573 1824.06 342.262 Q1824.06 339.207 1821.91 337.494 Q1819.78 335.758 1815.96 335.758 L1811.94 335.758 L1811.94 331.915 L1816.15 331.915 Q1819.6 331.915 1821.43 330.549 Q1823.25 329.161 1823.25 326.568 Q1823.25 323.906 1821.36 322.494 Q1819.48 321.059 1815.96 321.059 Q1814.04 321.059 1811.84 321.475 Q1809.64 321.892 1807 322.772 L1807 318.605 Q1809.67 317.864 1811.98 317.494 Q1814.32 317.124 1816.38 317.124 Q1821.7 317.124 1824.81 319.554 Q1827.91 321.962 1827.91 326.082 Q1827.91 328.952 1826.26 330.943 Q1824.62 332.911 1821.59 333.674 Z\" fill=\"#000000\" fill-rule=\"evenodd\" fill-opacity=\"1\" /><path clip-path=\"url(#clip520)\" d=\"M1836.4 317.749 L1858.62 317.749 L1858.62 319.739 L1846.08 352.309 L1841.19 352.309 L1853 321.684 L1836.4 321.684 L1836.4 317.749 Z\" fill=\"#000000\" fill-rule=\"evenodd\" fill-opacity=\"1\" /><path clip-path=\"url(#clip520)\" d=\"M1867.79 317.749 L1886.15 317.749 L1886.15 321.684 L1872.07 321.684 L1872.07 330.156 Q1873.09 329.809 1874.11 329.647 Q1875.13 329.462 1876.15 329.462 Q1881.93 329.462 1885.31 332.633 Q1888.69 335.804 1888.69 341.221 Q1888.69 346.799 1885.22 349.901 Q1881.75 352.98 1875.43 352.98 Q1873.25 352.98 1870.99 352.61 Q1868.74 352.239 1866.33 351.498 L1866.33 346.799 Q1868.42 347.934 1870.64 348.489 Q1872.86 349.045 1875.34 349.045 Q1879.34 349.045 1881.68 346.938 Q1884.02 344.832 1884.02 341.221 Q1884.02 337.61 1881.68 335.503 Q1879.34 333.397 1875.34 333.397 Q1873.46 333.397 1871.59 333.813 Q1869.74 334.23 1867.79 335.11 L1867.79 317.749 Z\" fill=\"#000000\" fill-rule=\"evenodd\" fill-opacity=\"1\" /><path clip-path=\"url(#clip520)\" d=\"M1912.07 333.674 Q1915.43 334.392 1917.3 336.661 Q1919.2 338.929 1919.2 342.262 Q1919.2 347.378 1915.68 350.179 Q1912.17 352.98 1905.68 352.98 Q1903.51 352.98 1901.19 352.54 Q1898.9 352.123 1896.45 351.267 L1896.45 346.753 Q1898.39 347.887 1900.71 348.466 Q1903.02 349.045 1905.55 349.045 Q1909.94 349.045 1912.24 347.309 Q1914.55 345.573 1914.55 342.262 Q1914.55 339.207 1912.4 337.494 Q1910.27 335.758 1906.45 335.758 L1902.42 335.758 L1902.42 331.915 L1906.63 331.915 Q1910.08 331.915 1911.91 330.549 Q1913.74 329.161 1913.74 326.568 Q1913.74 323.906 1911.84 322.494 Q1909.97 321.059 1906.45 321.059 Q1904.53 321.059 1902.33 321.475 Q1900.13 321.892 1897.49 322.772 L1897.49 318.605 Q1900.15 317.864 1902.47 317.494 Q1904.8 317.124 1906.87 317.124 Q1912.19 317.124 1915.29 319.554 Q1918.39 321.962 1918.39 326.082 Q1918.39 328.952 1916.75 330.943 Q1915.11 332.911 1912.07 333.674 Z\" fill=\"#000000\" fill-rule=\"evenodd\" fill-opacity=\"1\" /><path clip-path=\"url(#clip520)\" d=\"M1940.92 321.823 L1929.11 340.272 L1940.92 340.272 L1940.92 321.823 M1939.69 317.749 L1945.57 317.749 L1945.57 340.272 L1950.5 340.272 L1950.5 344.161 L1945.57 344.161 L1945.57 352.309 L1940.92 352.309 L1940.92 344.161 L1925.31 344.161 L1925.31 339.647 L1939.69 317.749 Z\" fill=\"#000000\" fill-rule=\"evenodd\" fill-opacity=\"1\" /><path clip-path=\"url(#clip520)\" d=\"M1962.26 348.373 L1978.58 348.373 L1978.58 352.309 L1956.63 352.309 L1956.63 348.373 Q1959.3 345.619 1963.88 340.989 Q1968.49 336.336 1969.67 334.994 Q1971.91 332.471 1972.79 330.735 Q1973.69 328.975 1973.69 327.286 Q1973.69 324.531 1971.75 322.795 Q1969.83 321.059 1966.73 321.059 Q1964.53 321.059 1962.07 321.823 Q1959.64 322.587 1956.86 324.137 L1956.86 319.415 Q1959.69 318.281 1962.14 317.702 Q1964.6 317.124 1966.63 317.124 Q1972 317.124 1975.2 319.809 Q1978.39 322.494 1978.39 326.985 Q1978.39 329.114 1977.58 331.036 Q1976.8 332.934 1974.69 335.526 Q1974.11 336.198 1971.01 339.415 Q1967.91 342.61 1962.26 348.373 Z\" fill=\"#000000\" fill-rule=\"evenodd\" fill-opacity=\"1\" /><path clip-path=\"url(#clip520)\" d=\"M1989.2 348.373 L1996.84 348.373 L1996.84 322.008 L1988.53 323.675 L1988.53 319.415 L1996.8 317.749 L2001.47 317.749 L2001.47 348.373 L2009.11 348.373 L2009.11 352.309 L1989.2 352.309 L1989.2 348.373 Z\" fill=\"#000000\" fill-rule=\"evenodd\" fill-opacity=\"1\" /><path clip-path=\"url(#clip520)\" d=\"M2019.36 348.373 L2027 348.373 L2027 322.008 L2018.69 323.675 L2018.69 319.415 L2026.96 317.749 L2031.63 317.749 L2031.63 348.373 L2039.27 348.373 L2039.27 352.309 L2019.36 352.309 L2019.36 348.373 Z\" fill=\"#000000\" fill-rule=\"evenodd\" fill-opacity=\"1\" /><path clip-path=\"url(#clip520)\" d=\"M2047.44 316.337 L2051.15 316.337 Q2054.62 321.8 2056.33 327.031 Q2058.07 332.262 2058.07 337.424 Q2058.07 342.61 2056.33 347.864 Q2054.62 353.119 2051.15 358.559 L2047.44 358.559 Q2050.52 353.258 2052.03 348.026 Q2053.55 342.772 2053.55 337.424 Q2053.55 332.077 2052.03 326.869 Q2050.52 321.661 2047.44 316.337 Z\" fill=\"#000000\" fill-rule=\"evenodd\" fill-opacity=\"1\" /></svg>\n"
      ]
     },
     "execution_count": 5,
     "metadata": {},
     "output_type": "execute_result"
    }
   ],
   "source": [
    "vrs = [\"mass.s\", \"mass.v\", \"mass.a\", \"mass.f\"]\n",
    "_, realSimData = fmiSimulate(realFMU, tStart, tStop; recordValues=vrs, saveat=tSave, setup=false, reset=false)\n",
    "fmiPlot(realFMU, vrs, realSimData)"
   ]
  },
  {
   "cell_type": "markdown",
   "metadata": {},
   "source": [
    " After the plots are created, the FMU is unloaded."
   ]
  },
  {
   "cell_type": "code",
   "execution_count": 6,
   "metadata": {
    "scrolled": false
   },
   "outputs": [],
   "source": [
    "fmiUnload(realFMU)"
   ]
  },
  {
   "cell_type": "markdown",
   "metadata": {},
   "source": [
    "The data from the simualtion of the *realFMU*, are divided into position and velocity data. These data will be needed later. "
   ]
  },
  {
   "cell_type": "code",
   "execution_count": 7,
   "metadata": {
    "scrolled": false
   },
   "outputs": [
    {
     "data": {
      "text/plain": [
       "501-element Vector{Float64}:\n",
       " 0.5\n",
       " 0.5002147350958549\n",
       " 0.5008572068150906\n",
       " 0.5019307343013393\n",
       " 0.5034377791759037\n",
       " 0.5053797361931734\n",
       " 0.507757421354132\n",
       " 0.5105710760625108\n",
       " 0.5138202661486302\n",
       " 0.5175035429290001\n",
       " 0.5216187663581402\n",
       " 0.5261643784845171\n",
       " 0.5311361825547609\n",
       " ⋮\n",
       " 1.0618338496933084\n",
       " 1.0629441718413108\n",
       " 1.0639256972572486\n",
       " 1.0647763670106132\n",
       " 1.06549412855799\n",
       " 1.0660771282511987\n",
       " 1.066523587371857\n",
       " 1.066831801521633\n",
       " 1.0670001400125004\n",
       " 1.0670339828286313\n",
       " 1.0670339828276312\n",
       " 1.067033982826631"
      ]
     },
     "execution_count": 7,
     "metadata": {},
     "output_type": "execute_result"
    }
   ],
   "source": [
    "velReal = collect(data[2] for data in realSimData.saveval)\n",
    "posReal = collect(data[1] for data in realSimData.saveval)"
   ]
  },
  {
   "cell_type": "markdown",
   "metadata": {},
   "source": [
    "### SimpleFMU\n",
    "\n",
    "The following lines load, instantiate, simulate and plot the *simpleFMU* just like the *realFMU*. The differences between both systems can be clearly seen from the plots. In the plot for the *realFMU* it can be seen that the oscillation continues to decrease due to the effect of the friction. If you would simulate long enough, the oscillation would come to a standstill in a certain time. The oscillation in the *simpleFMU* behaves differently, since the friction was not taken into account here. The oscillation in this model would continue to infinity with the same oscillation amplitude. From this observation the desire of an improvement of this model arises.     "
   ]
  },
  {
   "cell_type": "code",
   "execution_count": 8,
   "metadata": {
    "scrolled": false
   },
   "outputs": [
    {
     "name": "stderr",
     "output_type": "stream",
     "text": [
      "┌ Info: fmi2Unzip(...): Successfully unzipped 29 files at `C:\\Users\\JOHANN~1\\AppData\\Local\\Temp\\fmijl_4GO6KV\\SpringPendulum1D`.\n",
      "└ @ FMI C:\\Users\\Johannes Stoljar\\.julia\\packages\\FMI\\2vOeg\\src\\FMI2.jl:274\n",
      "┌ Info: fmi2Load(...): FMU resources location is `file:///C:/Users/JOHANN~1/AppData/Local/Temp/fmijl_4GO6KV/SpringPendulum1D/resources`\n",
      "└ @ FMI C:\\Users\\Johannes Stoljar\\.julia\\packages\\FMI\\2vOeg\\src\\FMI2.jl:385\n",
      "┌ Info: fmi2Load(...): FMU supports both CS and ME, using CS as default if nothing specified.\n",
      "└ @ FMI C:\\Users\\Johannes Stoljar\\.julia\\packages\\FMI\\2vOeg\\src\\FMI2.jl:388\n"
     ]
    },
    {
     "name": "stdout",
     "output_type": "stream",
     "text": [
      "#################### Begin information for FMU ####################\n",
      "\tModel name:\t\t\tSpringPendulum1D\n",
      "\tFMI-Version:\t\t\t2.0\n",
      "\tGUID:\t\t\t\t{a3e886fa-675c-4308-8e91-3490e598ba11}\n",
      "\tGeneration tool:\t\tDymola Version 2022x (64-bit), 2021-10-08\n",
      "\tGeneration time:\t\t2022-03-03T15:08:57Z\n",
      "\tVar. naming conv.:\t\tstructured\n",
      "\tEvent indicators:\t\t0\n",
      "\tInputs:\t\t\t\t0\n",
      "\tOutputs:\t\t\t0\n",
      "\tStates:\t\t\t\t2\n",
      "\t\t33554432 [\"mass.s\"]\n",
      "\t\t33554433 [\"mass.v\"]\n",
      "\tSupports Co-Simulation:\t\ttrue\n",
      "\t\tModel identifier:\tSpringPendulum1D\n",
      "\t\tGet/Set State:\t\ttrue\n",
      "\t\tSerialize State:\ttrue\n",
      "\t\tDir. Derivatives:\ttrue\n",
      "\t\tVar. com. steps:\ttrue\n",
      "\t\tInput interpol.:\ttrue\n",
      "\t\tMax order out. der.:\t1\n",
      "\tSupports Model-Exchange:\ttrue\n",
      "\t\tModel identifier:\tSpringPendulum1D\n",
      "\t\tGet/Set State:\t\ttrue\n",
      "\t\tSerialize State:\ttrue\n",
      "\t\tDir. Derivatives:\ttrue\n",
      "##################### End information for FMU #####################\n"
     ]
    },
    {
     "data": {
      "image/svg+xml": [
       "<?xml version=\"1.0\" encoding=\"utf-8\"?>\n",
       "<svg xmlns=\"http://www.w3.org/2000/svg\" xmlns:xlink=\"http://www.w3.org/1999/xlink\" width=\"600\" height=\"400\" viewBox=\"0 0 2400 1600\">\n",
       "<defs>\n",
       "  <clipPath id=\"clip560\">\n",
       "    <rect x=\"0\" y=\"0\" width=\"2400\" height=\"1600\"/>\n",
       "  </clipPath>\n",
       "</defs>\n",
       "<path clip-path=\"url(#clip560)\" d=\"\n",
       "M0 1600 L2400 1600 L2400 0 L0 0  Z\n",
       "  \" fill=\"#ffffff\" fill-rule=\"evenodd\" fill-opacity=\"1\"/>\n",
       "<defs>\n",
       "  <clipPath id=\"clip561\">\n",
       "    <rect x=\"480\" y=\"0\" width=\"1681\" height=\"1600\"/>\n",
       "  </clipPath>\n",
       "</defs>\n",
       "<path clip-path=\"url(#clip560)\" d=\"\n",
       "M193.936 1423.18 L2352.76 1423.18 L2352.76 47.2441 L193.936 47.2441  Z\n",
       "  \" fill=\"#ffffff\" fill-rule=\"evenodd\" fill-opacity=\"1\"/>\n",
       "<defs>\n",
       "  <clipPath id=\"clip562\">\n",
       "    <rect x=\"193\" y=\"47\" width=\"2160\" height=\"1377\"/>\n",
       "  </clipPath>\n",
       "</defs>\n",
       "<polyline clip-path=\"url(#clip562)\" style=\"stroke:#000000; stroke-linecap:butt; stroke-linejoin:round; stroke-width:2; stroke-opacity:0.1; fill:none\" points=\"\n",
       "  255.035,1423.18 255.035,47.2441 \n",
       "  \"/>\n",
       "<polyline clip-path=\"url(#clip562)\" style=\"stroke:#000000; stroke-linecap:butt; stroke-linejoin:round; stroke-width:2; stroke-opacity:0.1; fill:none\" points=\"\n",
       "  662.359,1423.18 662.359,47.2441 \n",
       "  \"/>\n",
       "<polyline clip-path=\"url(#clip562)\" style=\"stroke:#000000; stroke-linecap:butt; stroke-linejoin:round; stroke-width:2; stroke-opacity:0.1; fill:none\" points=\"\n",
       "  1069.68,1423.18 1069.68,47.2441 \n",
       "  \"/>\n",
       "<polyline clip-path=\"url(#clip562)\" style=\"stroke:#000000; stroke-linecap:butt; stroke-linejoin:round; stroke-width:2; stroke-opacity:0.1; fill:none\" points=\"\n",
       "  1477.01,1423.18 1477.01,47.2441 \n",
       "  \"/>\n",
       "<polyline clip-path=\"url(#clip562)\" style=\"stroke:#000000; stroke-linecap:butt; stroke-linejoin:round; stroke-width:2; stroke-opacity:0.1; fill:none\" points=\"\n",
       "  1884.33,1423.18 1884.33,47.2441 \n",
       "  \"/>\n",
       "<polyline clip-path=\"url(#clip562)\" style=\"stroke:#000000; stroke-linecap:butt; stroke-linejoin:round; stroke-width:2; stroke-opacity:0.1; fill:none\" points=\"\n",
       "  2291.66,1423.18 2291.66,47.2441 \n",
       "  \"/>\n",
       "<polyline clip-path=\"url(#clip560)\" style=\"stroke:#000000; stroke-linecap:butt; stroke-linejoin:round; stroke-width:4; stroke-opacity:1; fill:none\" points=\"\n",
       "  193.936,1423.18 2352.76,1423.18 \n",
       "  \"/>\n",
       "<polyline clip-path=\"url(#clip560)\" style=\"stroke:#000000; stroke-linecap:butt; stroke-linejoin:round; stroke-width:4; stroke-opacity:1; fill:none\" points=\"\n",
       "  255.035,1423.18 255.035,1406.67 \n",
       "  \"/>\n",
       "<polyline clip-path=\"url(#clip560)\" style=\"stroke:#000000; stroke-linecap:butt; stroke-linejoin:round; stroke-width:4; stroke-opacity:1; fill:none\" points=\"\n",
       "  662.359,1423.18 662.359,1406.67 \n",
       "  \"/>\n",
       "<polyline clip-path=\"url(#clip560)\" style=\"stroke:#000000; stroke-linecap:butt; stroke-linejoin:round; stroke-width:4; stroke-opacity:1; fill:none\" points=\"\n",
       "  1069.68,1423.18 1069.68,1406.67 \n",
       "  \"/>\n",
       "<polyline clip-path=\"url(#clip560)\" style=\"stroke:#000000; stroke-linecap:butt; stroke-linejoin:round; stroke-width:4; stroke-opacity:1; fill:none\" points=\"\n",
       "  1477.01,1423.18 1477.01,1406.67 \n",
       "  \"/>\n",
       "<polyline clip-path=\"url(#clip560)\" style=\"stroke:#000000; stroke-linecap:butt; stroke-linejoin:round; stroke-width:4; stroke-opacity:1; fill:none\" points=\"\n",
       "  1884.33,1423.18 1884.33,1406.67 \n",
       "  \"/>\n",
       "<polyline clip-path=\"url(#clip560)\" style=\"stroke:#000000; stroke-linecap:butt; stroke-linejoin:round; stroke-width:4; stroke-opacity:1; fill:none\" points=\"\n",
       "  2291.66,1423.18 2291.66,1406.67 \n",
       "  \"/>\n",
       "<path clip-path=\"url(#clip560)\" d=\"M255.035 1452.37 Q251.424 1452.37 249.595 1455.94 Q247.789 1459.48 247.789 1466.61 Q247.789 1473.71 249.595 1477.28 Q251.424 1480.82 255.035 1480.82 Q258.669 1480.82 260.474 1477.28 Q262.303 1473.71 262.303 1466.61 Q262.303 1459.48 260.474 1455.94 Q258.669 1452.37 255.035 1452.37 M255.035 1448.67 Q260.845 1448.67 263.9 1453.27 Q266.979 1457.86 266.979 1466.61 Q266.979 1475.33 263.9 1479.94 Q260.845 1484.52 255.035 1484.52 Q249.225 1484.52 246.146 1479.94 Q243.09 1475.33 243.09 1466.61 Q243.09 1457.86 246.146 1453.27 Q249.225 1448.67 255.035 1448.67 Z\" fill=\"#000000\" fill-rule=\"evenodd\" fill-opacity=\"1\" /><path clip-path=\"url(#clip560)\" d=\"M652.741 1479.92 L660.38 1479.92 L660.38 1453.55 L652.07 1455.22 L652.07 1450.96 L660.334 1449.29 L665.01 1449.29 L665.01 1479.92 L672.648 1479.92 L672.648 1483.85 L652.741 1483.85 L652.741 1479.92 Z\" fill=\"#000000\" fill-rule=\"evenodd\" fill-opacity=\"1\" /><path clip-path=\"url(#clip560)\" d=\"M1064.34 1479.92 L1080.66 1479.92 L1080.66 1483.85 L1058.71 1483.85 L1058.71 1479.92 Q1061.37 1477.16 1065.96 1472.53 Q1070.56 1467.88 1071.74 1466.54 Q1073.99 1464.01 1074.87 1462.28 Q1075.77 1460.52 1075.77 1458.83 Q1075.77 1456.07 1073.83 1454.34 Q1071.91 1452.6 1068.8 1452.6 Q1066.61 1452.6 1064.15 1453.37 Q1061.72 1454.13 1058.94 1455.68 L1058.94 1450.96 Q1061.77 1449.82 1064.22 1449.25 Q1066.67 1448.67 1068.71 1448.67 Q1074.08 1448.67 1077.28 1451.35 Q1080.47 1454.04 1080.47 1458.53 Q1080.47 1460.66 1079.66 1462.58 Q1078.87 1464.48 1076.77 1467.07 Q1076.19 1467.74 1073.09 1470.96 Q1069.98 1474.15 1064.34 1479.92 Z\" fill=\"#000000\" fill-rule=\"evenodd\" fill-opacity=\"1\" /><path clip-path=\"url(#clip560)\" d=\"M1481.26 1465.22 Q1484.61 1465.94 1486.49 1468.2 Q1488.39 1470.47 1488.39 1473.81 Q1488.39 1478.92 1484.87 1481.72 Q1481.35 1484.52 1474.87 1484.52 Q1472.69 1484.52 1470.38 1484.08 Q1468.08 1483.67 1465.63 1482.81 L1465.63 1478.3 Q1467.58 1479.43 1469.89 1480.01 Q1472.2 1480.59 1474.73 1480.59 Q1479.13 1480.59 1481.42 1478.85 Q1483.73 1477.12 1483.73 1473.81 Q1483.73 1470.75 1481.58 1469.04 Q1479.45 1467.3 1475.63 1467.3 L1471.6 1467.3 L1471.6 1463.46 L1475.82 1463.46 Q1479.27 1463.46 1481.09 1462.09 Q1482.92 1460.7 1482.92 1458.11 Q1482.92 1455.45 1481.02 1454.04 Q1479.15 1452.6 1475.63 1452.6 Q1473.71 1452.6 1471.51 1453.02 Q1469.31 1453.44 1466.67 1454.31 L1466.67 1450.15 Q1469.33 1449.41 1471.65 1449.04 Q1473.99 1448.67 1476.05 1448.67 Q1481.37 1448.67 1484.47 1451.1 Q1487.58 1453.5 1487.58 1457.63 Q1487.58 1460.5 1485.93 1462.49 Q1484.29 1464.45 1481.26 1465.22 Z\" fill=\"#000000\" fill-rule=\"evenodd\" fill-opacity=\"1\" /><path clip-path=\"url(#clip560)\" d=\"M1887.34 1453.37 L1875.54 1471.81 L1887.34 1471.81 L1887.34 1453.37 M1886.12 1449.29 L1891.99 1449.29 L1891.99 1471.81 L1896.93 1471.81 L1896.93 1475.7 L1891.99 1475.7 L1891.99 1483.85 L1887.34 1483.85 L1887.34 1475.7 L1871.74 1475.7 L1871.74 1471.19 L1886.12 1449.29 Z\" fill=\"#000000\" fill-rule=\"evenodd\" fill-opacity=\"1\" /><path clip-path=\"url(#clip560)\" d=\"M2281.94 1449.29 L2300.29 1449.29 L2300.29 1453.23 L2286.22 1453.23 L2286.22 1461.7 Q2287.24 1461.35 2288.25 1461.19 Q2289.27 1461 2290.29 1461 Q2296.08 1461 2299.46 1464.18 Q2302.84 1467.35 2302.84 1472.76 Q2302.84 1478.34 2299.37 1481.44 Q2295.89 1484.52 2289.57 1484.52 Q2287.4 1484.52 2285.13 1484.15 Q2282.88 1483.78 2280.48 1483.04 L2280.48 1478.34 Q2282.56 1479.48 2284.78 1480.03 Q2287 1480.59 2289.48 1480.59 Q2293.49 1480.59 2295.82 1478.48 Q2298.16 1476.38 2298.16 1472.76 Q2298.16 1469.15 2295.82 1467.05 Q2293.49 1464.94 2289.48 1464.94 Q2287.61 1464.94 2285.73 1465.36 Q2283.88 1465.77 2281.94 1466.65 L2281.94 1449.29 Z\" fill=\"#000000\" fill-rule=\"evenodd\" fill-opacity=\"1\" /><path clip-path=\"url(#clip560)\" d=\"M1221.66 1522.27 L1221.66 1532.4 L1233.72 1532.4 L1233.72 1536.95 L1221.66 1536.95 L1221.66 1556.3 Q1221.66 1560.66 1222.83 1561.9 Q1224.04 1563.14 1227.7 1563.14 L1233.72 1563.14 L1233.72 1568.04 L1227.7 1568.04 Q1220.92 1568.04 1218.35 1565.53 Q1215.77 1562.98 1215.77 1556.3 L1215.77 1536.95 L1211.47 1536.95 L1211.47 1532.4 L1215.77 1532.4 L1215.77 1522.27 L1221.66 1522.27 Z\" fill=\"#000000\" fill-rule=\"evenodd\" fill-opacity=\"1\" /><path clip-path=\"url(#clip560)\" d=\"M1261.6 1518.52 L1275.1 1518.52 L1275.1 1523.07 L1267.46 1523.07 L1267.46 1572.09 L1275.1 1572.09 L1275.1 1576.64 L1261.6 1576.64 L1261.6 1518.52 Z\" fill=\"#000000\" fill-rule=\"evenodd\" fill-opacity=\"1\" /><path clip-path=\"url(#clip560)\" d=\"M1310.3 1533.45 L1310.3 1538.98 Q1307.82 1537.71 1305.14 1537.07 Q1302.47 1536.44 1299.6 1536.44 Q1295.24 1536.44 1293.05 1537.77 Q1290.88 1539.11 1290.88 1541.79 Q1290.88 1543.82 1292.44 1545 Q1294 1546.15 1298.71 1547.2 L1300.72 1547.64 Q1306.96 1548.98 1309.57 1551.43 Q1312.21 1553.85 1312.21 1558.21 Q1312.21 1563.17 1308.26 1566.07 Q1304.35 1568.97 1297.47 1568.97 Q1294.61 1568.97 1291.49 1568.39 Q1288.4 1567.85 1284.96 1566.74 L1284.96 1560.69 Q1288.21 1562.38 1291.36 1563.24 Q1294.51 1564.07 1297.6 1564.07 Q1301.74 1564.07 1303.97 1562.66 Q1306.19 1561.23 1306.19 1558.65 Q1306.19 1556.27 1304.57 1554.99 Q1302.98 1553.72 1297.54 1552.54 L1295.5 1552.07 Q1290.06 1550.92 1287.64 1548.56 Q1285.22 1546.18 1285.22 1542.04 Q1285.22 1537.01 1288.78 1534.27 Q1292.35 1531.54 1298.9 1531.54 Q1302.15 1531.54 1305.02 1532.01 Q1307.88 1532.49 1310.3 1533.45 Z\" fill=\"#000000\" fill-rule=\"evenodd\" fill-opacity=\"1\" /><path clip-path=\"url(#clip560)\" d=\"M1335.22 1518.52 L1335.22 1576.64 L1321.73 1576.64 L1321.73 1572.09 L1329.33 1572.09 L1329.33 1523.07 L1321.73 1523.07 L1321.73 1518.52 L1335.22 1518.52 Z\" fill=\"#000000\" fill-rule=\"evenodd\" fill-opacity=\"1\" /><polyline clip-path=\"url(#clip562)\" style=\"stroke:#000000; stroke-linecap:butt; stroke-linejoin:round; stroke-width:2; stroke-opacity:0.1; fill:none\" points=\"\n",
       "  193.936,1274.78 2352.76,1274.78 \n",
       "  \"/>\n",
       "<polyline clip-path=\"url(#clip562)\" style=\"stroke:#000000; stroke-linecap:butt; stroke-linejoin:round; stroke-width:2; stroke-opacity:0.1; fill:none\" points=\"\n",
       "  193.936,1004.94 2352.76,1004.94 \n",
       "  \"/>\n",
       "<polyline clip-path=\"url(#clip562)\" style=\"stroke:#000000; stroke-linecap:butt; stroke-linejoin:round; stroke-width:2; stroke-opacity:0.1; fill:none\" points=\"\n",
       "  193.936,735.102 2352.76,735.102 \n",
       "  \"/>\n",
       "<polyline clip-path=\"url(#clip562)\" style=\"stroke:#000000; stroke-linecap:butt; stroke-linejoin:round; stroke-width:2; stroke-opacity:0.1; fill:none\" points=\"\n",
       "  193.936,465.265 2352.76,465.265 \n",
       "  \"/>\n",
       "<polyline clip-path=\"url(#clip562)\" style=\"stroke:#000000; stroke-linecap:butt; stroke-linejoin:round; stroke-width:2; stroke-opacity:0.1; fill:none\" points=\"\n",
       "  193.936,195.428 2352.76,195.428 \n",
       "  \"/>\n",
       "<polyline clip-path=\"url(#clip560)\" style=\"stroke:#000000; stroke-linecap:butt; stroke-linejoin:round; stroke-width:4; stroke-opacity:1; fill:none\" points=\"\n",
       "  193.936,1423.18 193.936,47.2441 \n",
       "  \"/>\n",
       "<polyline clip-path=\"url(#clip560)\" style=\"stroke:#000000; stroke-linecap:butt; stroke-linejoin:round; stroke-width:4; stroke-opacity:1; fill:none\" points=\"\n",
       "  193.936,1274.78 219.842,1274.78 \n",
       "  \"/>\n",
       "<polyline clip-path=\"url(#clip560)\" style=\"stroke:#000000; stroke-linecap:butt; stroke-linejoin:round; stroke-width:4; stroke-opacity:1; fill:none\" points=\"\n",
       "  193.936,1004.94 219.842,1004.94 \n",
       "  \"/>\n",
       "<polyline clip-path=\"url(#clip560)\" style=\"stroke:#000000; stroke-linecap:butt; stroke-linejoin:round; stroke-width:4; stroke-opacity:1; fill:none\" points=\"\n",
       "  193.936,735.102 219.842,735.102 \n",
       "  \"/>\n",
       "<polyline clip-path=\"url(#clip560)\" style=\"stroke:#000000; stroke-linecap:butt; stroke-linejoin:round; stroke-width:4; stroke-opacity:1; fill:none\" points=\"\n",
       "  193.936,465.265 219.842,465.265 \n",
       "  \"/>\n",
       "<polyline clip-path=\"url(#clip560)\" style=\"stroke:#000000; stroke-linecap:butt; stroke-linejoin:round; stroke-width:4; stroke-opacity:1; fill:none\" points=\"\n",
       "  193.936,195.428 219.842,195.428 \n",
       "  \"/>\n",
       "<path clip-path=\"url(#clip560)\" d=\"M50.9921 1275.23 L80.6679 1275.23 L80.6679 1279.16 L50.9921 1279.16 L50.9921 1275.23 Z\" fill=\"#000000\" fill-rule=\"evenodd\" fill-opacity=\"1\" /><path clip-path=\"url(#clip560)\" d=\"M90.8067 1257.5 L109.163 1257.5 L109.163 1261.43 L95.0891 1261.43 L95.0891 1269.9 Q96.1076 1269.56 97.1261 1269.39 Q98.1447 1269.21 99.1632 1269.21 Q104.95 1269.21 108.33 1272.38 Q111.709 1275.55 111.709 1280.97 Q111.709 1286.55 108.237 1289.65 Q104.765 1292.73 98.4456 1292.73 Q96.2697 1292.73 94.0012 1292.36 Q91.7558 1291.99 89.3484 1291.25 L89.3484 1286.55 Q91.4317 1287.68 93.6539 1288.24 Q95.8761 1288.79 98.353 1288.79 Q102.358 1288.79 104.696 1286.69 Q107.033 1284.58 107.033 1280.97 Q107.033 1277.36 104.696 1275.25 Q102.358 1273.14 98.353 1273.14 Q96.478 1273.14 94.603 1273.56 Q92.7512 1273.98 90.8067 1274.86 L90.8067 1257.5 Z\" fill=\"#000000\" fill-rule=\"evenodd\" fill-opacity=\"1\" /><path clip-path=\"url(#clip560)\" d=\"M120.922 1286.18 L125.807 1286.18 L125.807 1292.06 L120.922 1292.06 L120.922 1286.18 Z\" fill=\"#000000\" fill-rule=\"evenodd\" fill-opacity=\"1\" /><path clip-path=\"url(#clip560)\" d=\"M145.992 1260.57 Q142.381 1260.57 140.552 1264.14 Q138.746 1267.68 138.746 1274.81 Q138.746 1281.92 140.552 1285.48 Q142.381 1289.02 145.992 1289.02 Q149.626 1289.02 151.431 1285.48 Q153.26 1281.92 153.26 1274.81 Q153.26 1267.68 151.431 1264.14 Q149.626 1260.57 145.992 1260.57 M145.992 1256.87 Q151.802 1256.87 154.857 1261.48 Q157.936 1266.06 157.936 1274.81 Q157.936 1283.54 154.857 1288.14 Q151.802 1292.73 145.992 1292.73 Q140.181 1292.73 137.103 1288.14 Q134.047 1283.54 134.047 1274.81 Q134.047 1266.06 137.103 1261.48 Q140.181 1256.87 145.992 1256.87 Z\" fill=\"#000000\" fill-rule=\"evenodd\" fill-opacity=\"1\" /><path clip-path=\"url(#clip560)\" d=\"M51.9875 1005.39 L81.6633 1005.39 L81.6633 1009.33 L51.9875 1009.33 L51.9875 1005.39 Z\" fill=\"#000000\" fill-rule=\"evenodd\" fill-opacity=\"1\" /><path clip-path=\"url(#clip560)\" d=\"M95.7836 1018.28 L112.103 1018.28 L112.103 1022.22 L90.1586 1022.22 L90.1586 1018.28 Q92.8206 1015.53 97.4039 1010.9 Q102.01 1006.25 103.191 1004.9 Q105.436 1002.38 106.316 1000.64 Q107.219 998.886 107.219 997.196 Q107.219 994.441 105.274 992.705 Q103.353 990.969 100.251 990.969 Q98.0521 990.969 95.5984 991.733 Q93.1678 992.497 90.3901 994.048 L90.3901 989.325 Q93.2141 988.191 95.6678 987.613 Q98.1215 987.034 100.159 987.034 Q105.529 987.034 108.723 989.719 Q111.918 992.404 111.918 996.895 Q111.918 999.024 111.108 1000.95 Q110.321 1002.84 108.214 1005.44 Q107.635 1006.11 104.534 1009.33 Q101.432 1012.52 95.7836 1018.28 Z\" fill=\"#000000\" fill-rule=\"evenodd\" fill-opacity=\"1\" /><path clip-path=\"url(#clip560)\" d=\"M121.918 1016.34 L126.802 1016.34 L126.802 1022.22 L121.918 1022.22 L121.918 1016.34 Z\" fill=\"#000000\" fill-rule=\"evenodd\" fill-opacity=\"1\" /><path clip-path=\"url(#clip560)\" d=\"M137.033 987.659 L155.39 987.659 L155.39 991.594 L141.316 991.594 L141.316 1000.07 Q142.334 999.719 143.353 999.557 Q144.371 999.372 145.39 999.372 Q151.177 999.372 154.556 1002.54 Q157.936 1005.71 157.936 1011.13 Q157.936 1016.71 154.464 1019.81 Q150.992 1022.89 144.672 1022.89 Q142.496 1022.89 140.228 1022.52 Q137.982 1022.15 135.575 1021.41 L135.575 1016.71 Q137.658 1017.84 139.881 1018.4 Q142.103 1018.95 144.58 1018.95 Q148.584 1018.95 150.922 1016.85 Q153.26 1014.74 153.26 1011.13 Q153.26 1007.52 150.922 1005.41 Q148.584 1003.31 144.58 1003.31 Q142.705 1003.31 140.83 1003.72 Q138.978 1004.14 137.033 1005.02 L137.033 987.659 Z\" fill=\"#000000\" fill-rule=\"evenodd\" fill-opacity=\"1\" /><path clip-path=\"url(#clip560)\" d=\"M100.76 720.901 Q97.1493 720.901 95.3206 724.465 Q93.515 728.007 93.515 735.137 Q93.515 742.243 95.3206 745.808 Q97.1493 749.349 100.76 749.349 Q104.395 749.349 106.2 745.808 Q108.029 742.243 108.029 735.137 Q108.029 728.007 106.2 724.465 Q104.395 720.901 100.76 720.901 M100.76 717.197 Q106.571 717.197 109.626 721.803 Q112.705 726.387 112.705 735.137 Q112.705 743.863 109.626 748.47 Q106.571 753.053 100.76 753.053 Q94.9502 753.053 91.8715 748.47 Q88.816 743.863 88.816 735.137 Q88.816 726.387 91.8715 721.803 Q94.9502 717.197 100.76 717.197 Z\" fill=\"#000000\" fill-rule=\"evenodd\" fill-opacity=\"1\" /><path clip-path=\"url(#clip560)\" d=\"M120.922 746.502 L125.807 746.502 L125.807 752.382 L120.922 752.382 L120.922 746.502 Z\" fill=\"#000000\" fill-rule=\"evenodd\" fill-opacity=\"1\" /><path clip-path=\"url(#clip560)\" d=\"M145.992 720.901 Q142.381 720.901 140.552 724.465 Q138.746 728.007 138.746 735.137 Q138.746 742.243 140.552 745.808 Q142.381 749.349 145.992 749.349 Q149.626 749.349 151.431 745.808 Q153.26 742.243 153.26 735.137 Q153.26 728.007 151.431 724.465 Q149.626 720.901 145.992 720.901 M145.992 717.197 Q151.802 717.197 154.857 721.803 Q157.936 726.387 157.936 735.137 Q157.936 743.863 154.857 748.47 Q151.802 753.053 145.992 753.053 Q140.181 753.053 137.103 748.47 Q134.047 743.863 134.047 735.137 Q134.047 726.387 137.103 721.803 Q140.181 717.197 145.992 717.197 Z\" fill=\"#000000\" fill-rule=\"evenodd\" fill-opacity=\"1\" /><path clip-path=\"url(#clip560)\" d=\"M95.7836 478.61 L112.103 478.61 L112.103 482.545 L90.1586 482.545 L90.1586 478.61 Q92.8206 475.855 97.4039 471.226 Q102.01 466.573 103.191 465.23 Q105.436 462.707 106.316 460.971 Q107.219 459.212 107.219 457.522 Q107.219 454.767 105.274 453.031 Q103.353 451.295 100.251 451.295 Q98.0521 451.295 95.5984 452.059 Q93.1678 452.823 90.3901 454.374 L90.3901 449.652 Q93.2141 448.517 95.6678 447.939 Q98.1215 447.36 100.159 447.36 Q105.529 447.36 108.723 450.045 Q111.918 452.73 111.918 457.221 Q111.918 459.351 111.108 461.272 Q110.321 463.17 108.214 465.763 Q107.635 466.434 104.534 469.651 Q101.432 472.846 95.7836 478.61 Z\" fill=\"#000000\" fill-rule=\"evenodd\" fill-opacity=\"1\" /><path clip-path=\"url(#clip560)\" d=\"M121.918 476.665 L126.802 476.665 L126.802 482.545 L121.918 482.545 L121.918 476.665 Z\" fill=\"#000000\" fill-rule=\"evenodd\" fill-opacity=\"1\" /><path clip-path=\"url(#clip560)\" d=\"M137.033 447.985 L155.39 447.985 L155.39 451.92 L141.316 451.92 L141.316 460.392 Q142.334 460.045 143.353 459.883 Q144.371 459.698 145.39 459.698 Q151.177 459.698 154.556 462.869 Q157.936 466.04 157.936 471.457 Q157.936 477.036 154.464 480.138 Q150.992 483.216 144.672 483.216 Q142.496 483.216 140.228 482.846 Q137.982 482.475 135.575 481.735 L135.575 477.036 Q137.658 478.17 139.881 478.726 Q142.103 479.281 144.58 479.281 Q148.584 479.281 150.922 477.175 Q153.26 475.068 153.26 471.457 Q153.26 467.846 150.922 465.739 Q148.584 463.633 144.58 463.633 Q142.705 463.633 140.83 464.05 Q138.978 464.466 137.033 465.346 L137.033 447.985 Z\" fill=\"#000000\" fill-rule=\"evenodd\" fill-opacity=\"1\" /><path clip-path=\"url(#clip560)\" d=\"M90.8067 178.148 L109.163 178.148 L109.163 182.083 L95.0891 182.083 L95.0891 190.555 Q96.1076 190.208 97.1261 190.046 Q98.1447 189.861 99.1632 189.861 Q104.95 189.861 108.33 193.032 Q111.709 196.203 111.709 201.62 Q111.709 207.199 108.237 210.301 Q104.765 213.379 98.4456 213.379 Q96.2697 213.379 94.0012 213.009 Q91.7558 212.639 89.3484 211.898 L89.3484 207.199 Q91.4317 208.333 93.6539 208.889 Q95.8761 209.444 98.353 209.444 Q102.358 209.444 104.696 207.338 Q107.033 205.231 107.033 201.62 Q107.033 198.009 104.696 195.903 Q102.358 193.796 98.353 193.796 Q96.478 193.796 94.603 194.213 Q92.7512 194.629 90.8067 195.509 L90.8067 178.148 Z\" fill=\"#000000\" fill-rule=\"evenodd\" fill-opacity=\"1\" /><path clip-path=\"url(#clip560)\" d=\"M120.922 206.828 L125.807 206.828 L125.807 212.708 L120.922 212.708 L120.922 206.828 Z\" fill=\"#000000\" fill-rule=\"evenodd\" fill-opacity=\"1\" /><path clip-path=\"url(#clip560)\" d=\"M145.992 181.227 Q142.381 181.227 140.552 184.791 Q138.746 188.333 138.746 195.463 Q138.746 202.569 140.552 206.134 Q142.381 209.676 145.992 209.676 Q149.626 209.676 151.431 206.134 Q153.26 202.569 153.26 195.463 Q153.26 188.333 151.431 184.791 Q149.626 181.227 145.992 181.227 M145.992 177.523 Q151.802 177.523 154.857 182.129 Q157.936 186.713 157.936 195.463 Q157.936 204.19 154.857 208.796 Q151.802 213.379 145.992 213.379 Q140.181 213.379 137.103 208.796 Q134.047 204.19 134.047 195.463 Q134.047 186.713 137.103 182.129 Q140.181 177.523 145.992 177.523 Z\" fill=\"#000000\" fill-rule=\"evenodd\" fill-opacity=\"1\" /><polyline clip-path=\"url(#clip562)\" style=\"stroke:#009af9; stroke-linecap:butt; stroke-linejoin:round; stroke-width:4; stroke-opacity:1; fill:none\" points=\"\n",
       "  255.035,681.134 259.108,681.101 263.181,681.003 267.254,680.841 271.328,680.615 275.401,680.325 279.474,679.971 283.547,679.553 287.621,679.072 291.694,678.528 \n",
       "  295.767,677.922 299.84,677.255 303.914,676.526 307.987,675.738 312.06,674.891 316.133,673.985 320.207,673.021 324.28,672.001 328.353,670.926 332.426,669.795 \n",
       "  336.5,668.612 340.573,667.376 344.646,666.089 348.719,664.752 352.793,663.368 356.866,661.936 360.939,660.458 365.012,658.936 369.086,657.373 373.159,655.768 \n",
       "  377.232,654.124 381.305,652.443 385.379,650.724 389.452,648.971 393.525,647.187 397.598,645.371 401.671,643.526 405.745,641.654 409.818,639.756 413.891,637.835 \n",
       "  417.964,635.892 422.038,633.929 426.111,631.949 430.184,629.952 434.257,627.942 438.331,625.921 442.404,623.889 446.477,621.85 450.55,619.805 454.624,617.757 \n",
       "  458.697,615.707 462.77,613.657 466.843,611.611 470.917,609.57 474.99,607.534 479.063,605.507 483.136,603.492 487.21,601.489 491.283,599.502 495.356,597.531 \n",
       "  499.429,595.579 503.503,593.648 507.576,591.739 511.649,589.855 515.722,587.998 519.796,586.169 523.869,584.371 527.942,582.604 532.015,580.871 536.089,579.174 \n",
       "  540.162,577.513 544.235,575.892 548.308,574.312 552.382,572.773 556.455,571.278 560.528,569.828 564.601,568.425 568.675,567.069 572.748,565.764 576.821,564.508 \n",
       "  580.894,563.305 584.968,562.154 589.041,561.058 593.114,560.017 597.187,559.033 601.261,558.106 605.334,557.237 609.407,556.427 613.48,555.677 617.553,554.988 \n",
       "  621.627,554.361 625.7,553.795 629.773,553.293 633.846,552.853 637.92,552.476 641.993,552.164 646.066,551.916 650.139,551.732 654.213,551.614 658.286,551.56 \n",
       "  662.359,551.57 666.432,551.646 670.506,551.786 674.579,551.991 678.652,552.261 682.725,552.594 686.799,552.992 690.872,553.453 694.945,553.976 699.018,554.563 \n",
       "  703.092,555.211 707.165,555.92 711.238,556.69 715.311,557.519 719.385,558.408 723.458,559.354 727.531,560.358 731.604,561.417 735.678,562.532 739.751,563.7 \n",
       "  743.824,564.922 747.897,566.194 751.971,567.517 756.044,568.889 760.117,570.308 764.19,571.773 768.264,573.283 772.337,574.837 776.41,576.432 780.483,578.066 \n",
       "  784.557,579.739 788.63,581.449 792.703,583.193 796.776,584.971 800.85,586.781 804.923,588.62 808.996,590.487 813.069,592.379 817.142,594.296 821.216,596.235 \n",
       "  825.289,598.194 829.362,600.171 833.435,602.164 837.509,604.172 841.582,606.191 845.655,608.221 849.728,610.26 853.802,612.304 857.875,614.353 861.948,616.404 \n",
       "  866.021,618.454 870.095,620.502 874.168,622.546 878.241,624.585 882.314,626.615 886.388,628.635 890.461,630.642 894.534,632.635 898.607,634.611 902.681,636.57 \n",
       "  906.754,638.509 910.827,640.426 914.9,642.318 918.974,644.184 923.047,646.022 927.12,647.831 931.193,649.609 935.267,651.353 939.34,653.063 943.413,654.735 \n",
       "  947.486,656.369 951.56,657.963 955.633,659.516 959.706,661.025 963.779,662.49 967.853,663.909 971.926,665.28 975.999,666.601 980.072,667.873 984.146,669.094 \n",
       "  988.219,670.262 992.292,671.375 996.365,672.434 1000.44,673.436 1004.51,674.382 1008.59,675.269 1012.66,676.098 1016.73,676.867 1020.8,677.575 1024.88,678.222 \n",
       "  1028.95,678.807 1033.02,679.329 1037.1,679.789 1041.17,680.186 1045.24,680.518 1049.32,680.786 1053.39,680.99 1057.46,681.129 1061.54,681.203 1065.61,681.213 \n",
       "  1069.68,681.157 1073.76,681.037 1077.83,680.852 1081.9,680.602 1085.98,680.289 1090.05,679.911 1094.12,679.47 1098.2,678.965 1102.27,678.398 1106.34,677.769 \n",
       "  1110.42,677.078 1114.49,676.327 1118.56,675.516 1122.64,674.645 1126.71,673.716 1130.78,672.73 1134.86,671.688 1138.93,670.59 1143,669.437 1147.08,668.232 \n",
       "  1151.15,666.975 1155.22,665.667 1159.3,664.31 1163.37,662.905 1167.44,661.453 1171.51,659.956 1175.59,658.415 1179.66,656.833 1183.73,655.21 1187.81,653.548 \n",
       "  1191.88,651.849 1195.95,650.114 1200.03,648.346 1204.1,646.545 1208.17,644.714 1212.25,642.855 1216.32,640.97 1220.39,639.06 1224.47,637.127 1228.54,635.173 \n",
       "  1232.61,633.201 1236.69,631.211 1240.76,629.207 1244.83,627.191 1248.91,625.163 1252.98,623.126 1257.05,621.082 1261.13,619.034 1265.2,616.983 1269.27,614.932 \n",
       "  1273.35,612.882 1277.42,610.835 1281.49,608.794 1285.57,606.76 1289.64,604.736 1293.71,602.724 1297.79,600.726 1301.86,598.743 1305.93,596.777 1310.01,594.831 \n",
       "  1314.08,592.907 1318.15,591.006 1322.22,589.131 1326.3,587.283 1330.37,585.464 1334.44,583.676 1338.52,581.92 1342.59,580.199 1346.66,578.514 1350.74,576.868 \n",
       "  1354.81,575.26 1358.88,573.694 1362.96,572.17 1367.03,570.691 1371.1,569.257 1375.18,567.871 1379.25,566.533 1383.32,565.245 1387.4,564.007 1391.47,562.823 \n",
       "  1395.54,561.692 1399.62,560.615 1403.69,559.595 1407.76,558.631 1411.84,557.725 1415.91,556.878 1419.98,556.09 1424.06,555.362 1428.13,554.696 1432.2,554.092 \n",
       "  1436.28,553.549 1440.35,553.07 1444.42,552.653 1448.5,552.301 1452.57,552.013 1456.64,551.789 1460.72,551.629 1464.79,551.535 1468.86,551.505 1472.93,551.54 \n",
       "  1477.01,551.641 1481.08,551.805 1485.15,552.035 1489.23,552.329 1493.3,552.687 1497.37,553.109 1501.45,553.594 1505.52,554.141 1509.59,554.752 1513.67,555.423 \n",
       "  1517.74,556.156 1521.81,556.949 1525.89,557.802 1529.96,558.713 1534.03,559.682 1538.11,560.707 1542.18,561.788 1546.25,562.924 1550.33,564.114 1554.4,565.355 \n",
       "  1558.47,566.648 1562.55,567.99 1566.62,569.381 1570.69,570.819 1574.77,572.303 1578.84,573.831 1582.91,575.401 1586.99,577.012 1591.06,578.662 1595.13,580.351 \n",
       "  1599.21,582.076 1603.28,583.835 1607.35,585.626 1611.43,587.448 1615.5,589.299 1619.57,591.177 1623.65,593.081 1627.72,595.007 1631.79,596.956 1635.86,598.923 \n",
       "  1639.94,600.908 1644.01,602.908 1648.08,604.923 1652.16,606.948 1656.23,608.983 1660.3,611.026 1664.38,613.074 1668.45,615.124 1672.52,617.176 1676.6,619.228 \n",
       "  1680.67,621.277 1684.74,623.321 1688.82,625.358 1692.89,627.386 1696.96,629.402 1701.04,631.406 1705.11,633.395 1709.18,635.367 1713.26,637.32 1717.33,639.252 \n",
       "  1721.4,641.161 1725.48,643.045 1729.55,644.903 1733.62,646.732 1737.7,648.531 1741.77,650.297 1745.84,652.03 1749.92,653.726 1753.99,655.386 1758.06,657.006 \n",
       "  1762.14,658.587 1766.21,660.124 1770.28,661.618 1774.36,663.067 1778.43,664.468 1782.5,665.822 1786.57,667.127 1790.65,668.38 1794.72,669.582 1798.79,670.73 \n",
       "  1802.87,671.824 1806.94,672.862 1811.01,673.844 1815.09,674.769 1819.16,675.635 1823.23,676.442 1827.31,677.188 1831.38,677.874 1835.45,678.498 1839.53,679.06 \n",
       "  1843.6,679.56 1847.67,679.996 1851.75,680.368 1855.82,680.677 1859.89,680.921 1863.97,681.1 1868.04,681.215 1872.11,681.265 1876.19,681.25 1880.26,681.17 \n",
       "  1884.33,681.025 1888.41,680.816 1892.48,680.542 1896.55,680.204 1900.63,679.802 1904.7,679.336 1908.77,678.808 1912.85,678.217 1916.92,677.564 1920.99,676.85 \n",
       "  1925.07,676.075 1929.14,675.241 1933.21,674.347 1937.28,673.396 1941.36,672.388 1945.43,671.323 1949.5,670.204 1953.58,669.03 1957.65,667.804 1961.72,666.527 \n",
       "  1965.8,665.2 1969.87,663.823 1973.94,662.399 1978.02,660.929 1982.09,659.414 1986.16,657.856 1990.24,656.257 1994.31,654.618 1998.38,652.94 2002.46,651.226 \n",
       "  2006.53,649.477 2010.6,647.695 2014.68,645.882 2018.75,644.039 2022.82,642.168 2026.9,640.272 2030.97,638.351 2035.04,636.408 2039.12,634.446 2043.19,632.466 \n",
       "  2047.26,630.469 2051.34,628.458 2055.41,626.435 2059.48,624.402 2063.56,622.361 2067.63,620.314 2071.7,618.263 2075.78,616.21 2079.85,614.157 2083.92,612.106 \n",
       "  2087.99,610.06 2092.07,608.02 2096.14,605.988 2100.21,603.967 2104.29,601.958 2108.36,599.963 2112.43,597.985 2116.51,596.025 2120.58,594.086 2124.65,592.169 \n",
       "  2128.73,590.276 2132.8,588.409 2136.87,586.57 2140.95,584.761 2145.02,582.984 2149.09,581.24 2153.17,579.531 2157.24,577.859 2161.31,576.225 2165.39,574.632 \n",
       "  2169.46,573.08 2173.53,571.572 2177.61,570.109 2181.68,568.692 2185.75,567.322 2189.83,566.002 2193.9,564.732 2197.97,563.513 2202.05,562.348 2206.12,561.237 \n",
       "  2210.19,560.18 2214.27,559.18 2218.34,558.237 2222.41,557.353 2226.49,556.527 2230.56,555.762 2234.63,555.056 2238.71,554.413 2242.78,553.831 2246.85,553.311 \n",
       "  2250.92,552.855 2255,552.463 2259.07,552.135 2263.14,551.87 2267.22,551.67 2271.29,551.535 2275.36,551.465 2279.44,551.46 2283.51,551.52 2287.58,551.645 \n",
       "  2291.66,551.834 \n",
       "  \"/>\n",
       "<polyline clip-path=\"url(#clip562)\" style=\"stroke:#e26f46; stroke-linecap:butt; stroke-linejoin:round; stroke-width:4; stroke-opacity:1; fill:none\" points=\"\n",
       "  255.035,735.102 259.108,728.627 263.181,722.162 267.254,715.709 271.328,709.276 275.401,702.868 279.474,696.49 283.547,690.15 287.621,683.853 291.694,677.608 \n",
       "  295.767,671.421 299.84,665.299 303.914,659.246 307.987,653.268 312.06,647.372 316.133,641.565 320.207,635.85 324.28,630.234 328.353,624.724 332.426,619.324 \n",
       "  336.5,614.039 340.573,608.875 344.646,603.837 348.719,598.931 352.793,594.16 356.866,589.53 360.939,585.047 365.012,580.711 369.086,576.529 373.159,572.504 \n",
       "  377.232,568.641 381.305,564.946 385.379,561.421 389.452,558.072 393.525,554.894 397.598,551.896 401.671,549.081 405.745,546.453 409.818,544.015 413.891,541.77 \n",
       "  417.964,539.717 422.038,537.858 426.111,536.196 430.184,534.733 434.257,533.472 438.331,532.414 442.404,531.559 446.477,530.907 450.55,530.459 454.624,530.216 \n",
       "  458.697,530.179 462.77,530.347 466.843,530.72 470.917,531.298 474.99,532.08 479.063,533.065 483.136,534.252 487.21,535.641 491.283,537.229 495.356,539.014 \n",
       "  499.429,540.997 503.503,543.173 507.576,545.542 511.649,548.101 515.722,550.846 519.796,553.775 523.869,556.886 527.942,560.176 532.015,563.641 536.089,567.277 \n",
       "  540.162,571.081 544.235,575.049 548.308,579.177 552.382,583.461 556.455,587.898 560.528,592.481 564.601,597.208 568.675,602.072 572.748,607.069 576.821,612.193 \n",
       "  580.894,617.442 584.968,622.809 589.041,628.288 593.114,633.873 597.187,639.56 601.261,645.342 605.334,651.214 609.407,657.171 613.48,663.206 617.553,669.313 \n",
       "  621.627,675.485 625.7,681.716 629.773,688 633.846,694.334 637.92,700.708 641.993,707.116 646.066,713.553 650.139,720.01 654.213,726.482 658.286,732.963 \n",
       "  662.359,739.447 666.432,745.927 670.506,752.396 674.579,758.848 678.652,765.274 682.725,771.67 686.799,778.032 690.872,784.351 694.945,790.62 699.018,796.834 \n",
       "  703.092,802.985 707.165,809.068 711.238,815.077 715.311,821.007 719.385,826.852 723.458,832.604 727.531,838.259 731.604,843.81 735.678,849.251 739.751,854.58 \n",
       "  743.824,859.79 747.897,864.874 751.971,869.829 756.044,874.649 760.117,879.328 764.19,883.863 768.264,888.25 772.337,892.485 776.41,896.562 780.483,900.477 \n",
       "  784.557,904.226 788.63,907.805 792.703,911.212 796.776,914.444 800.85,917.496 804.923,920.366 808.996,923.049 813.069,925.545 817.142,927.849 821.216,929.962 \n",
       "  825.289,931.88 829.362,933.601 833.435,935.123 837.509,936.445 841.582,937.565 845.655,938.483 849.728,939.197 853.802,939.708 857.875,940.013 861.948,940.114 \n",
       "  866.021,940.009 870.095,939.699 874.168,939.184 878.241,938.466 882.314,937.544 886.388,936.419 890.461,935.093 894.534,933.566 898.607,931.841 902.681,929.92 \n",
       "  906.754,927.803 910.827,925.493 914.9,922.993 918.974,920.305 923.047,917.432 927.12,914.376 931.193,911.14 935.267,907.728 939.34,904.144 943.413,900.391 \n",
       "  947.486,896.472 951.56,892.392 955.633,888.154 959.706,883.763 963.779,879.223 967.853,874.539 971.926,869.715 975.999,864.758 980.072,859.67 984.146,854.456 \n",
       "  988.219,849.124 992.292,843.677 996.365,838.122 1000.44,832.465 1004.51,826.71 1008.59,820.862 1012.66,814.928 1016.73,808.915 1020.8,802.827 1024.88,796.673 \n",
       "  1028.95,790.458 1033.02,784.186 1037.1,777.864 1041.17,771.499 1045.24,765.099 1049.32,758.668 1053.39,752.215 1057.46,745.745 1061.54,739.262 1065.61,732.775 \n",
       "  1069.68,726.291 1073.76,719.815 1077.83,713.356 1081.9,706.919 1085.98,700.509 1090.05,694.133 1094.12,687.797 1098.2,681.51 1102.27,675.276 1106.34,669.103 \n",
       "  1110.42,662.996 1114.49,656.96 1118.56,651.002 1122.64,645.128 1126.71,639.344 1130.78,633.656 1134.86,628.071 1138.93,622.592 1143,617.225 1147.08,611.975 \n",
       "  1151.15,606.849 1155.22,601.852 1159.3,596.988 1163.37,592.264 1167.44,587.68 1171.51,583.244 1175.59,578.96 1179.66,574.832 1183.73,570.865 1187.81,567.063 \n",
       "  1191.88,563.429 1195.95,559.966 1200.03,556.677 1204.1,553.568 1208.17,550.64 1212.25,547.897 1216.32,545.343 1220.39,542.977 1224.47,540.802 1228.54,538.823 \n",
       "  1232.61,537.04 1236.69,535.455 1240.76,534.071 1244.83,532.887 1248.91,531.905 1252.98,531.127 1257.05,530.553 1261.13,530.183 1265.2,530.019 1269.27,530.06 \n",
       "  1273.35,530.306 1277.42,530.757 1281.49,531.412 1285.57,532.271 1289.64,533.334 1293.71,534.598 1297.79,536.063 1301.86,537.726 1305.93,539.588 1310.01,541.645 \n",
       "  1314.08,543.896 1318.15,546.337 1322.22,548.968 1326.3,551.785 1330.37,554.786 1334.44,557.967 1338.52,561.326 1342.59,564.858 1346.66,568.56 1350.74,572.429 \n",
       "  1354.81,576.461 1358.88,580.653 1362.96,584.998 1367.03,589.494 1371.1,594.135 1375.18,598.917 1379.25,603.836 1383.32,608.886 1387.4,614.063 1391.47,619.361 \n",
       "  1395.54,624.775 1399.62,630.298 1403.69,635.926 1407.76,641.654 1411.84,647.477 1415.91,653.387 1419.98,659.378 1424.06,665.445 1428.13,671.581 1432.2,677.781 \n",
       "  1436.28,684.039 1440.35,690.348 1444.42,696.703 1448.5,703.095 1452.57,709.519 1456.64,715.967 1460.72,722.437 1464.79,728.92 1468.86,735.408 1472.93,741.896 \n",
       "  1477.01,748.377 1481.08,754.844 1485.15,761.292 1489.23,767.714 1493.3,774.105 1497.37,780.456 1501.45,786.761 1505.52,793.014 1509.59,799.208 1513.67,805.34 \n",
       "  1517.74,811.402 1521.81,817.387 1525.89,823.29 1529.96,829.105 1534.03,834.824 1538.11,840.444 1542.18,845.96 1546.25,851.365 1550.33,856.654 1554.4,861.821 \n",
       "  1558.47,866.86 1562.55,871.767 1566.62,876.538 1570.69,881.169 1574.77,885.653 1578.84,889.987 1582.91,894.165 1586.99,898.183 1591.06,902.038 1595.13,905.728 \n",
       "  1599.21,909.246 1603.28,912.591 1607.35,915.757 1611.43,918.743 1615.5,921.544 1619.57,924.159 1623.65,926.586 1627.72,928.821 1631.79,930.862 1635.86,932.707 \n",
       "  1639.94,934.354 1644.01,935.801 1648.08,937.049 1652.16,938.094 1656.23,938.936 1660.3,939.574 1664.38,940.008 1668.45,940.236 1672.52,940.258 1676.6,940.076 \n",
       "  1680.67,939.689 1684.74,939.097 1688.82,938.301 1692.89,937.302 1696.96,936.1 1701.04,934.697 1705.11,933.094 1709.18,931.294 1713.26,929.297 1717.33,927.105 \n",
       "  1721.4,924.722 1725.48,922.149 1729.55,919.388 1733.62,916.443 1737.7,913.316 1741.77,910.012 1745.84,906.532 1749.92,902.881 1753.99,899.062 1758.06,895.078 \n",
       "  1762.14,890.934 1766.21,886.635 1770.28,882.184 1774.36,877.586 1778.43,872.846 1782.5,867.967 1786.57,862.955 1790.65,857.814 1794.72,852.552 1798.79,847.172 \n",
       "  1802.87,841.681 1806.94,836.082 1811.01,830.381 1815.09,824.585 1819.16,818.7 1823.23,812.731 1827.31,806.685 1831.38,800.568 1835.45,794.384 1839.53,788.141 \n",
       "  1843.6,781.844 1847.67,775.501 1851.75,769.118 1855.82,762.701 1859.89,756.256 1863.97,749.789 1868.04,743.307 1872.11,736.818 1876.19,730.326 1880.26,723.841 \n",
       "  1884.33,717.367 1888.41,710.909 1892.48,704.475 1896.55,698.071 1900.63,691.705 1904.7,685.383 1908.77,679.111 1912.85,672.895 1916.92,666.74 1920.99,660.653 \n",
       "  1925.07,654.641 1929.14,648.709 1933.21,642.865 1937.28,637.114 1941.36,631.459 1945.43,625.907 1949.5,620.465 1953.58,615.137 1957.65,609.93 1961.72,604.849 \n",
       "  1965.8,599.899 1969.87,595.082 1973.94,590.405 1978.02,585.873 1982.09,581.49 1986.16,577.262 1990.24,573.193 1994.31,569.284 1998.38,565.541 2002.46,561.967 \n",
       "  2006.53,558.567 2010.6,555.343 2014.68,552.3 2018.75,549.441 2022.82,546.765 2026.9,544.278 2030.97,541.983 2035.04,539.88 2039.12,537.973 2043.19,536.264 \n",
       "  2047.26,534.754 2051.34,533.443 2055.41,532.334 2059.48,531.428 2063.56,530.726 2067.63,530.229 2071.7,529.937 2075.78,529.85 2079.85,529.968 2083.92,530.291 \n",
       "  2087.99,530.82 2092.07,531.553 2096.14,532.489 2100.21,533.629 2104.29,534.97 2108.36,536.511 2112.43,538.251 2116.51,540.188 2120.58,542.32 2124.65,544.644 \n",
       "  2128.73,547.16 2132.8,549.863 2136.87,552.752 2140.95,555.824 2145.02,559.075 2149.09,562.501 2153.17,566.101 2157.24,569.87 2161.31,573.804 2165.39,577.9 \n",
       "  2169.46,582.153 2173.53,586.559 2177.61,591.113 2181.68,595.812 2185.75,600.65 2189.83,605.623 2193.9,610.726 2197.97,615.953 2202.05,621.298 2206.12,626.758 \n",
       "  2210.19,632.327 2214.27,637.998 2218.34,643.767 2222.41,649.628 2226.49,655.573 2230.56,661.597 2234.63,667.696 2238.71,673.863 2242.78,680.091 2246.85,686.374 \n",
       "  2250.92,692.705 2255,699.079 2259.07,705.488 2263.14,711.928 2267.22,718.392 2271.29,724.872 2275.36,731.362 2279.44,737.856 2283.51,744.346 2287.58,750.828 \n",
       "  2291.66,757.295 \n",
       "  \"/>\n",
       "<polyline clip-path=\"url(#clip562)\" style=\"stroke:#3da44d; stroke-linecap:butt; stroke-linejoin:round; stroke-width:4; stroke-opacity:1; fill:none\" points=\"\n",
       "  255.035,87.4932 259.108,87.8307 263.181,88.8074 267.254,90.4261 271.328,92.6875 275.401,95.5897 279.474,99.1318 283.547,103.309 287.621,108.12 291.694,113.558 \n",
       "  295.767,119.618 299.84,126.293 303.914,133.576 307.987,141.457 312.06,149.932 316.133,158.993 320.207,168.627 324.28,178.825 328.353,189.582 332.426,200.887 \n",
       "  336.5,212.72 340.573,225.077 344.646,237.947 348.719,251.315 352.793,265.162 356.866,279.482 360.939,294.26 365.012,309.475 369.086,325.11 373.159,341.155 \n",
       "  377.232,357.593 381.305,374.412 385.379,391.595 389.452,409.126 393.525,426.973 397.598,445.128 401.671,463.574 405.745,482.295 409.818,501.273 413.891,520.49 \n",
       "  417.964,539.922 422.038,559.548 426.111,579.352 430.184,599.314 434.257,619.414 438.331,639.63 442.404,659.944 446.477,680.337 450.55,700.787 454.624,721.272 \n",
       "  458.697,741.771 462.77,762.263 466.843,782.725 470.917,803.142 474.99,823.497 479.063,843.763 483.136,863.92 487.21,883.947 491.283,903.823 495.356,923.526 \n",
       "  499.429,943.048 503.503,962.362 507.576,981.449 511.649,1000.29 515.722,1018.86 519.796,1037.15 523.869,1055.13 527.942,1072.8 532.015,1090.13 536.089,1107.1 \n",
       "  540.162,1123.7 544.235,1139.91 548.308,1155.72 552.382,1171.1 556.455,1186.06 560.528,1200.56 564.601,1214.59 568.675,1228.14 572.748,1241.2 576.821,1253.75 \n",
       "  580.894,1265.79 584.968,1277.3 589.041,1288.26 593.114,1298.67 597.187,1308.51 601.261,1317.78 605.334,1326.47 609.407,1334.57 613.48,1342.07 617.553,1348.96 \n",
       "  621.627,1355.23 625.7,1360.89 629.773,1365.91 633.846,1370.31 637.92,1374.07 641.993,1377.2 646.066,1379.68 650.139,1381.51 654.213,1382.7 658.286,1383.24 \n",
       "  662.359,1383.13 666.432,1382.38 670.506,1380.98 674.579,1378.93 678.652,1376.23 682.725,1372.89 686.799,1368.92 690.872,1364.31 694.945,1359.07 699.018,1353.21 \n",
       "  703.092,1346.73 707.165,1339.64 711.238,1331.94 715.311,1323.64 719.385,1314.76 723.458,1305.29 727.531,1295.26 731.604,1284.66 735.678,1273.52 739.751,1261.83 \n",
       "  743.824,1249.62 747.897,1236.9 751.971,1223.67 756.044,1209.95 760.117,1195.76 764.19,1181.1 768.264,1166 772.337,1150.47 776.41,1134.52 780.483,1118.17 \n",
       "  784.557,1101.45 788.63,1084.35 792.703,1066.9 796.776,1049.12 800.85,1031.03 804.923,1012.64 808.996,993.971 813.069,975.046 817.142,955.882 821.216,936.493 \n",
       "  825.289,916.901 829.362,897.128 833.435,877.193 837.509,857.118 841.582,836.924 845.655,816.623 849.728,796.239 853.802,775.793 857.875,755.307 861.948,734.803 \n",
       "  866.021,714.3 870.095,693.82 874.168,673.375 878.241,652.992 882.314,632.691 886.388,612.493 890.461,592.419 894.534,572.491 898.607,552.723 902.681,533.134 \n",
       "  906.754,513.747 910.827,494.581 914.9,475.658 918.974,456.996 923.047,438.616 927.12,420.524 931.193,402.748 935.267,385.304 939.34,368.21 943.413,351.486 \n",
       "  947.486,335.148 951.56,319.208 955.633,303.681 959.706,288.585 963.779,273.936 967.853,259.75 971.926,246.041 975.999,232.825 980.072,220.105 984.146,207.9 \n",
       "  988.219,196.222 992.292,185.084 996.365,174.498 1000.44,164.475 1004.51,155.022 1008.59,146.146 1012.66,137.86 1016.73,130.171 1020.8,123.088 1024.88,116.619 \n",
       "  1028.95,110.77 1033.02,105.543 1037.1,100.946 1041.17,96.9824 1045.24,93.6581 1049.32,90.9761 1053.39,88.9397 1057.46,87.5503 1061.54,86.8068 1065.61,86.7119 \n",
       "  1069.68,87.266 1073.76,88.4685 1077.83,90.3184 1081.9,92.8142 1085.98,95.9521 1090.05,99.7292 1094.12,104.142 1098.2,109.186 1102.27,114.857 1106.34,121.148 \n",
       "  1110.42,128.054 1114.49,135.568 1118.56,143.681 1122.64,152.387 1126.71,161.675 1130.78,171.537 1134.86,181.962 1138.93,192.941 1143,204.464 1147.08,216.518 \n",
       "  1151.15,229.091 1155.22,242.17 1159.3,255.741 1163.37,269.791 1167.44,284.309 1171.51,299.279 1175.59,314.685 1179.66,330.511 1183.73,346.741 1187.81,363.358 \n",
       "  1191.88,380.349 1195.95,397.697 1200.03,415.383 1204.1,433.388 1208.17,451.695 1212.25,470.283 1216.32,489.135 1220.39,508.238 1224.47,527.568 1228.54,547.106 \n",
       "  1232.61,566.832 1236.69,586.725 1240.76,606.764 1244.83,626.932 1248.91,647.213 1252.98,667.582 1257.05,688.018 1261.13,708.501 1265.2,729.008 1269.27,749.519 \n",
       "  1273.35,770.02 1277.42,790.488 1281.49,810.901 1285.57,831.237 1289.64,851.476 1293.71,871.596 1297.79,891.579 1301.86,911.411 1305.93,931.066 1310.01,950.526 \n",
       "  1314.08,969.769 1318.15,988.775 1322.22,1007.53 1326.3,1026.01 1330.37,1044.2 1334.44,1062.08 1338.52,1079.64 1342.59,1096.85 1346.66,1113.69 1350.74,1130.16 \n",
       "  1354.81,1146.23 1358.88,1161.9 1362.96,1177.14 1367.03,1191.93 1371.1,1206.27 1375.18,1220.13 1379.25,1233.51 1383.32,1246.39 1387.4,1258.76 1391.47,1270.61 \n",
       "  1395.54,1281.92 1399.62,1292.68 1403.69,1302.89 1407.76,1312.52 1411.84,1321.59 1415.91,1330.06 1419.98,1337.94 1424.06,1345.21 1428.13,1351.88 1432.2,1357.92 \n",
       "  1436.28,1363.35 1440.35,1368.14 1444.42,1372.31 1448.5,1375.83 1452.57,1378.71 1456.64,1380.95 1460.72,1382.54 1464.79,1383.49 1468.86,1383.79 1472.93,1383.43 \n",
       "  1477.01,1382.43 1481.08,1380.78 1485.15,1378.49 1489.23,1375.55 1493.3,1371.97 1497.37,1367.75 1501.45,1362.9 1505.52,1357.42 1509.59,1351.32 1513.67,1344.6 \n",
       "  1517.74,1337.28 1521.81,1329.35 1525.89,1320.82 1529.96,1311.71 1534.03,1302.02 1538.11,1291.77 1542.18,1280.95 1546.25,1269.6 1550.33,1257.7 1554.4,1245.28 \n",
       "  1558.47,1232.36 1562.55,1218.93 1566.62,1205.02 1570.69,1190.64 1574.77,1175.81 1578.84,1160.53 1582.91,1144.83 1586.99,1128.72 1591.06,1112.21 1595.13,1095.33 \n",
       "  1599.21,1078.08 1603.28,1060.49 1607.35,1042.58 1611.43,1024.36 1615.5,1005.85 1619.57,987.069 1623.65,968.032 1627.72,948.763 1631.79,929.28 1635.86,909.604 \n",
       "  1639.94,889.756 1644.01,869.754 1648.08,849.612 1652.16,829.355 1656.23,809.003 1660.3,788.578 1664.38,768.102 1668.45,747.594 1672.52,727.073 1676.6,706.556 \n",
       "  1680.67,686.066 1684.74,665.627 1688.82,645.257 1692.89,624.98 1696.96,604.816 1701.04,584.776 1705.11,564.885 1709.18,545.165 1713.26,525.635 1717.33,506.316 \n",
       "  1721.4,487.229 1725.48,468.39 1729.55,449.812 1733.62,431.52 1737.7,413.531 1741.77,395.865 1745.84,378.541 1749.92,361.576 1753.99,344.98 1758.06,328.773 \n",
       "  1762.14,312.972 1766.21,297.594 1770.28,282.656 1774.36,268.172 1778.43,254.156 1782.5,240.616 1786.57,227.571 1790.65,215.033 1794.72,203.017 1798.79,191.535 \n",
       "  1802.87,180.599 1806.94,170.215 1811.01,160.394 1815.09,151.148 1819.16,142.487 1823.23,134.42 1827.31,126.955 1831.38,120.1 1835.45,113.856 1839.53,108.234 \n",
       "  1843.6,103.24 1847.67,98.8776 1851.75,95.153 1855.82,92.0701 1859.89,89.6296 1863.97,87.8335 1868.04,86.6851 1872.11,86.1857 1876.19,86.3359 1880.26,87.136 \n",
       "  1884.33,88.5851 1888.41,90.6797 1892.48,93.4191 1896.55,96.8006 1900.63,100.821 1904.7,105.476 1908.77,110.762 1912.85,116.672 1916.92,123.201 1920.99,130.342 \n",
       "  1925.07,138.089 1929.14,146.432 1933.21,155.365 1937.28,164.877 1941.36,174.961 1945.43,185.606 1949.5,196.801 1953.58,208.534 1957.65,220.794 1961.72,233.567 \n",
       "  1965.8,246.843 1969.87,260.609 1973.94,274.85 1978.02,289.552 1982.09,304.699 1986.16,320.276 1990.24,336.266 1994.31,352.658 1998.38,369.434 2002.46,386.576 \n",
       "  2006.53,404.067 2010.6,421.887 2014.68,440.02 2018.75,458.447 2022.82,477.156 2026.9,496.123 2030.97,515.329 2035.04,534.754 2039.12,554.378 2043.19,574.18 \n",
       "  2047.26,594.147 2051.34,614.258 2055.41,634.489 2059.48,654.821 2063.56,675.232 2067.63,695.7 2071.7,716.207 2075.78,736.738 2079.85,757.269 2083.92,777.777 \n",
       "  2087.99,798.241 2092.07,818.641 2096.14,838.954 2100.21,859.166 2104.29,879.258 2108.36,899.205 2112.43,918.988 2116.51,938.586 2120.58,957.978 2124.65,977.144 \n",
       "  2128.73,996.075 2132.8,1014.75 2136.87,1033.14 2140.95,1051.23 2145.02,1069 2149.09,1086.44 2153.17,1103.52 2157.24,1120.25 2161.31,1136.58 2165.39,1152.52 \n",
       "  2169.46,1168.03 2173.53,1183.12 2177.61,1197.75 2181.68,1211.92 2185.75,1225.62 2189.83,1238.82 2193.9,1251.52 2197.97,1263.71 2202.05,1275.36 2206.12,1286.47 \n",
       "  2210.19,1297.03 2214.27,1307.04 2218.34,1316.47 2222.41,1325.31 2226.49,1333.57 2230.56,1341.22 2234.63,1348.27 2238.71,1354.71 2242.78,1360.53 2246.85,1365.72 \n",
       "  2250.92,1370.28 2255,1374.21 2259.07,1377.49 2263.14,1380.14 2267.22,1382.13 2271.29,1383.48 2275.36,1384.19 2279.44,1384.24 2283.51,1383.64 2287.58,1382.39 \n",
       "  2291.66,1380.5 \n",
       "  \"/>\n",
       "<path clip-path=\"url(#clip560)\" d=\"\n",
       "M1557.04 335.029 L2280.8 335.029 L2280.8 93.1086 L1557.04 93.1086  Z\n",
       "  \" fill=\"#ffffff\" fill-rule=\"evenodd\" fill-opacity=\"1\"/>\n",
       "<polyline clip-path=\"url(#clip560)\" style=\"stroke:#000000; stroke-linecap:butt; stroke-linejoin:round; stroke-width:4; stroke-opacity:1; fill:none\" points=\"\n",
       "  1557.04,335.029 2280.8,335.029 2280.8,93.1086 1557.04,93.1086 1557.04,335.029 \n",
       "  \"/>\n",
       "<polyline clip-path=\"url(#clip560)\" style=\"stroke:#009af9; stroke-linecap:butt; stroke-linejoin:round; stroke-width:4; stroke-opacity:1; fill:none\" points=\"\n",
       "  1581.03,153.589 1724.95,153.589 \n",
       "  \"/>\n",
       "<path clip-path=\"url(#clip560)\" d=\"M1769.28 149.92 Q1770.88 147.049 1773.1 145.684 Q1775.32 144.318 1778.33 144.318 Q1782.38 144.318 1784.58 147.165 Q1786.78 149.989 1786.78 155.221 L1786.78 170.869 L1782.5 170.869 L1782.5 155.359 Q1782.5 151.633 1781.18 149.827 Q1779.86 148.022 1777.15 148.022 Q1773.84 148.022 1771.92 150.221 Q1770 152.42 1770 156.216 L1770 170.869 L1765.72 170.869 L1765.72 155.359 Q1765.72 151.609 1764.4 149.827 Q1763.08 148.022 1760.32 148.022 Q1757.06 148.022 1755.14 150.244 Q1753.22 152.443 1753.22 156.216 L1753.22 170.869 L1748.94 170.869 L1748.94 144.943 L1753.22 144.943 L1753.22 148.971 Q1754.68 146.586 1756.71 145.452 Q1758.75 144.318 1761.55 144.318 Q1764.37 144.318 1766.34 145.753 Q1768.33 147.188 1769.28 149.92 Z\" fill=\"#000000\" fill-rule=\"evenodd\" fill-opacity=\"1\" /><path clip-path=\"url(#clip560)\" d=\"M1807.06 157.836 Q1801.9 157.836 1799.91 159.017 Q1797.92 160.197 1797.92 163.045 Q1797.92 165.313 1799.4 166.656 Q1800.9 167.975 1803.47 167.975 Q1807.01 167.975 1809.14 165.475 Q1811.3 162.952 1811.3 158.785 L1811.3 157.836 L1807.06 157.836 M1815.56 156.077 L1815.56 170.869 L1811.3 170.869 L1811.3 166.933 Q1809.84 169.295 1807.66 170.429 Q1805.49 171.54 1802.34 171.54 Q1798.36 171.54 1796 169.318 Q1793.66 167.072 1793.66 163.322 Q1793.66 158.947 1796.57 156.725 Q1799.51 154.503 1805.32 154.503 L1811.3 154.503 L1811.3 154.086 Q1811.3 151.147 1809.35 149.549 Q1807.43 147.929 1803.93 147.929 Q1801.71 147.929 1799.61 148.461 Q1797.5 148.994 1795.56 150.059 L1795.56 146.123 Q1797.89 145.221 1800.09 144.781 Q1802.29 144.318 1804.37 144.318 Q1810 144.318 1812.78 147.234 Q1815.56 150.151 1815.56 156.077 Z\" fill=\"#000000\" fill-rule=\"evenodd\" fill-opacity=\"1\" /><path clip-path=\"url(#clip560)\" d=\"M1840.86 145.707 L1840.86 149.734 Q1839.05 148.809 1837.11 148.346 Q1835.16 147.883 1833.08 147.883 Q1829.91 147.883 1828.31 148.855 Q1826.74 149.827 1826.74 151.771 Q1826.74 153.253 1827.87 154.109 Q1829 154.943 1832.43 155.707 L1833.89 156.031 Q1838.43 157.003 1840.32 158.785 Q1842.24 160.545 1842.24 163.716 Q1842.24 167.327 1839.37 169.433 Q1836.53 171.54 1831.53 171.54 Q1829.44 171.54 1827.18 171.123 Q1824.93 170.73 1822.43 169.92 L1822.43 165.521 Q1824.79 166.748 1827.08 167.373 Q1829.37 167.975 1831.62 167.975 Q1834.63 167.975 1836.25 166.957 Q1837.87 165.915 1837.87 164.04 Q1837.87 162.304 1836.69 161.378 Q1835.53 160.452 1831.57 159.596 L1830.09 159.248 Q1826.13 158.415 1824.37 156.702 Q1822.62 154.966 1822.62 151.957 Q1822.62 148.299 1825.21 146.309 Q1827.8 144.318 1832.57 144.318 Q1834.93 144.318 1837.01 144.665 Q1839.1 145.012 1840.86 145.707 Z\" fill=\"#000000\" fill-rule=\"evenodd\" fill-opacity=\"1\" /><path clip-path=\"url(#clip560)\" d=\"M1865.55 145.707 L1865.55 149.734 Q1863.75 148.809 1861.8 148.346 Q1859.86 147.883 1857.78 147.883 Q1854.61 147.883 1853.01 148.855 Q1851.43 149.827 1851.43 151.771 Q1851.43 153.253 1852.57 154.109 Q1853.7 154.943 1857.13 155.707 L1858.59 156.031 Q1863.12 157.003 1865.02 158.785 Q1866.94 160.545 1866.94 163.716 Q1866.94 167.327 1864.07 169.433 Q1861.23 171.54 1856.23 171.54 Q1854.14 171.54 1851.87 171.123 Q1849.63 170.73 1847.13 169.92 L1847.13 165.521 Q1849.49 166.748 1851.78 167.373 Q1854.07 167.975 1856.32 167.975 Q1859.33 167.975 1860.95 166.957 Q1862.57 165.915 1862.57 164.04 Q1862.57 162.304 1861.39 161.378 Q1860.23 160.452 1856.27 159.596 L1854.79 159.248 Q1850.83 158.415 1849.07 156.702 Q1847.31 154.966 1847.31 151.957 Q1847.31 148.299 1849.91 146.309 Q1852.5 144.318 1857.27 144.318 Q1859.63 144.318 1861.71 144.665 Q1863.8 145.012 1865.55 145.707 Z\" fill=\"#000000\" fill-rule=\"evenodd\" fill-opacity=\"1\" /><path clip-path=\"url(#clip560)\" d=\"M1874.33 164.989 L1879.21 164.989 L1879.21 170.869 L1874.33 170.869 L1874.33 164.989 Z\" fill=\"#000000\" fill-rule=\"evenodd\" fill-opacity=\"1\" /><path clip-path=\"url(#clip560)\" d=\"M1905.32 145.707 L1905.32 149.734 Q1903.52 148.809 1901.57 148.346 Q1899.63 147.883 1897.55 147.883 Q1894.37 147.883 1892.78 148.855 Q1891.2 149.827 1891.2 151.771 Q1891.2 153.253 1892.34 154.109 Q1893.47 154.943 1896.9 155.707 L1898.36 156.031 Q1902.89 157.003 1904.79 158.785 Q1906.71 160.545 1906.71 163.716 Q1906.71 167.327 1903.84 169.433 Q1900.99 171.54 1895.99 171.54 Q1893.91 171.54 1891.64 171.123 Q1889.4 170.73 1886.9 169.92 L1886.9 165.521 Q1889.26 166.748 1891.55 167.373 Q1893.84 167.975 1896.09 167.975 Q1899.1 167.975 1900.72 166.957 Q1902.34 165.915 1902.34 164.04 Q1902.34 162.304 1901.16 161.378 Q1900 160.452 1896.04 159.596 L1894.56 159.248 Q1890.6 158.415 1888.84 156.702 Q1887.08 154.966 1887.08 151.957 Q1887.08 148.299 1889.68 146.309 Q1892.27 144.318 1897.04 144.318 Q1899.4 144.318 1901.48 144.665 Q1903.56 145.012 1905.32 145.707 Z\" fill=\"#000000\" fill-rule=\"evenodd\" fill-opacity=\"1\" /><path clip-path=\"url(#clip560)\" d=\"M1938.8 134.897 Q1935.69 140.221 1934.19 145.429 Q1932.68 150.637 1932.68 155.984 Q1932.68 161.332 1934.19 166.586 Q1935.72 171.818 1938.8 177.119 L1935.09 177.119 Q1931.62 171.679 1929.88 166.424 Q1928.17 161.17 1928.17 155.984 Q1928.17 150.822 1929.88 145.591 Q1931.6 140.36 1935.09 134.897 L1938.8 134.897 Z\" fill=\"#000000\" fill-rule=\"evenodd\" fill-opacity=\"1\" /><path clip-path=\"url(#clip560)\" d=\"M1961.83 152.234 Q1965.18 152.952 1967.06 155.221 Q1968.96 157.489 1968.96 160.822 Q1968.96 165.938 1965.44 168.739 Q1961.92 171.54 1955.44 171.54 Q1953.26 171.54 1950.95 171.1 Q1948.66 170.683 1946.2 169.827 L1946.2 165.313 Q1948.15 166.447 1950.46 167.026 Q1952.78 167.605 1955.3 167.605 Q1959.7 167.605 1961.99 165.869 Q1964.3 164.133 1964.3 160.822 Q1964.3 157.767 1962.15 156.054 Q1960.02 154.318 1956.2 154.318 L1952.17 154.318 L1952.17 150.475 L1956.39 150.475 Q1959.84 150.475 1961.67 149.109 Q1963.49 147.721 1963.49 145.128 Q1963.49 142.466 1961.6 141.054 Q1959.72 139.619 1956.2 139.619 Q1954.28 139.619 1952.08 140.035 Q1949.88 140.452 1947.24 141.332 L1947.24 137.165 Q1949.91 136.424 1952.22 136.054 Q1954.56 135.684 1956.62 135.684 Q1961.94 135.684 1965.05 138.114 Q1968.15 140.522 1968.15 144.642 Q1968.15 147.512 1966.5 149.503 Q1964.86 151.471 1961.83 152.234 Z\" fill=\"#000000\" fill-rule=\"evenodd\" fill-opacity=\"1\" /><path clip-path=\"url(#clip560)\" d=\"M1991.99 152.234 Q1995.35 152.952 1997.22 155.221 Q1999.12 157.489 1999.12 160.822 Q1999.12 165.938 1995.6 168.739 Q1992.08 171.54 1985.6 171.54 Q1983.42 171.54 1981.11 171.1 Q1978.82 170.683 1976.36 169.827 L1976.36 165.313 Q1978.31 166.447 1980.62 167.026 Q1982.94 167.605 1985.46 167.605 Q1989.86 167.605 1992.15 165.869 Q1994.47 164.133 1994.47 160.822 Q1994.47 157.767 1992.31 156.054 Q1990.18 154.318 1986.36 154.318 L1982.34 154.318 L1982.34 150.475 L1986.55 150.475 Q1990 150.475 1991.83 149.109 Q1993.66 147.721 1993.66 145.128 Q1993.66 142.466 1991.76 141.054 Q1989.88 139.619 1986.36 139.619 Q1984.44 139.619 1982.24 140.035 Q1980.05 140.452 1977.41 141.332 L1977.41 137.165 Q1980.07 136.424 1982.38 136.054 Q1984.72 135.684 1986.78 135.684 Q1992.11 135.684 1995.21 138.114 Q1998.31 140.522 1998.31 144.642 Q1998.31 147.512 1996.67 149.503 Q1995.02 151.471 1991.99 152.234 Z\" fill=\"#000000\" fill-rule=\"evenodd\" fill-opacity=\"1\" /><path clip-path=\"url(#clip560)\" d=\"M2008.03 136.309 L2026.39 136.309 L2026.39 140.244 L2012.31 140.244 L2012.31 148.716 Q2013.33 148.369 2014.35 148.207 Q2015.37 148.022 2016.39 148.022 Q2022.17 148.022 2025.55 151.193 Q2028.93 154.364 2028.93 159.781 Q2028.93 165.359 2025.46 168.461 Q2021.99 171.54 2015.67 171.54 Q2013.49 171.54 2011.23 171.17 Q2008.98 170.799 2006.57 170.058 L2006.57 165.359 Q2008.66 166.494 2010.88 167.049 Q2013.1 167.605 2015.58 167.605 Q2019.58 167.605 2021.92 165.498 Q2024.26 163.392 2024.26 159.781 Q2024.26 156.17 2021.92 154.063 Q2019.58 151.957 2015.58 151.957 Q2013.7 151.957 2011.83 152.373 Q2009.98 152.79 2008.03 153.67 L2008.03 136.309 Z\" fill=\"#000000\" fill-rule=\"evenodd\" fill-opacity=\"1\" /><path clip-path=\"url(#clip560)\" d=\"M2038.19 136.309 L2056.55 136.309 L2056.55 140.244 L2042.48 140.244 L2042.48 148.716 Q2043.49 148.369 2044.51 148.207 Q2045.53 148.022 2046.55 148.022 Q2052.34 148.022 2055.72 151.193 Q2059.1 154.364 2059.1 159.781 Q2059.1 165.359 2055.62 168.461 Q2052.15 171.54 2045.83 171.54 Q2043.66 171.54 2041.39 171.17 Q2039.14 170.799 2036.73 170.058 L2036.73 165.359 Q2038.82 166.494 2041.04 167.049 Q2043.26 167.605 2045.74 167.605 Q2049.74 167.605 2052.08 165.498 Q2054.42 163.392 2054.42 159.781 Q2054.42 156.17 2052.08 154.063 Q2049.74 151.957 2045.74 151.957 Q2043.86 151.957 2041.99 152.373 Q2040.14 152.79 2038.19 153.67 L2038.19 136.309 Z\" fill=\"#000000\" fill-rule=\"evenodd\" fill-opacity=\"1\" /><path clip-path=\"url(#clip560)\" d=\"M2081.16 140.383 L2069.35 158.832 L2081.16 158.832 L2081.16 140.383 M2079.93 136.309 L2085.81 136.309 L2085.81 158.832 L2090.74 158.832 L2090.74 162.721 L2085.81 162.721 L2085.81 170.869 L2081.16 170.869 L2081.16 162.721 L2065.55 162.721 L2065.55 158.207 L2079.93 136.309 Z\" fill=\"#000000\" fill-rule=\"evenodd\" fill-opacity=\"1\" /><path clip-path=\"url(#clip560)\" d=\"M2111.32 140.383 L2099.51 158.832 L2111.32 158.832 L2111.32 140.383 M2110.09 136.309 L2115.97 136.309 L2115.97 158.832 L2120.9 158.832 L2120.9 162.721 L2115.97 162.721 L2115.97 170.869 L2111.32 170.869 L2111.32 162.721 L2095.72 162.721 L2095.72 158.207 L2110.09 136.309 Z\" fill=\"#000000\" fill-rule=\"evenodd\" fill-opacity=\"1\" /><path clip-path=\"url(#clip560)\" d=\"M2142.8 152.234 Q2146.16 152.952 2148.03 155.221 Q2149.93 157.489 2149.93 160.822 Q2149.93 165.938 2146.41 168.739 Q2142.89 171.54 2136.41 171.54 Q2134.23 171.54 2131.92 171.1 Q2129.63 170.683 2127.17 169.827 L2127.17 165.313 Q2129.12 166.447 2131.43 167.026 Q2133.75 167.605 2136.27 167.605 Q2140.67 167.605 2142.96 165.869 Q2145.28 164.133 2145.28 160.822 Q2145.28 157.767 2143.12 156.054 Q2140.99 154.318 2137.17 154.318 L2133.15 154.318 L2133.15 150.475 L2137.36 150.475 Q2140.81 150.475 2142.64 149.109 Q2144.47 147.721 2144.47 145.128 Q2144.47 142.466 2142.57 141.054 Q2140.69 139.619 2137.17 139.619 Q2135.25 139.619 2133.05 140.035 Q2130.85 140.452 2128.22 141.332 L2128.22 137.165 Q2130.88 136.424 2133.19 136.054 Q2135.53 135.684 2137.59 135.684 Q2142.91 135.684 2146.02 138.114 Q2149.12 140.522 2149.12 144.642 Q2149.12 147.512 2147.47 149.503 Q2145.83 151.471 2142.8 152.234 Z\" fill=\"#000000\" fill-rule=\"evenodd\" fill-opacity=\"1\" /><path clip-path=\"url(#clip560)\" d=\"M2162.82 166.933 L2179.14 166.933 L2179.14 170.869 L2157.2 170.869 L2157.2 166.933 Q2159.86 164.179 2164.44 159.549 Q2169.05 154.896 2170.23 153.554 Q2172.47 151.031 2173.35 149.295 Q2174.26 147.535 2174.26 145.846 Q2174.26 143.091 2172.31 141.355 Q2170.39 139.619 2167.29 139.619 Q2165.09 139.619 2162.64 140.383 Q2160.21 141.147 2157.43 142.697 L2157.43 137.975 Q2160.25 136.841 2162.71 136.262 Q2165.16 135.684 2167.2 135.684 Q2172.57 135.684 2175.76 138.369 Q2178.96 141.054 2178.96 145.545 Q2178.96 147.674 2178.15 149.596 Q2177.36 151.494 2175.25 154.086 Q2174.67 154.758 2171.57 157.975 Q2168.47 161.17 2162.82 166.933 Z\" fill=\"#000000\" fill-rule=\"evenodd\" fill-opacity=\"1\" /><path clip-path=\"url(#clip560)\" d=\"M2187.68 134.897 L2191.39 134.897 Q2194.86 140.36 2196.57 145.591 Q2198.31 150.822 2198.31 155.984 Q2198.31 161.17 2196.57 166.424 Q2194.86 171.679 2191.39 177.119 L2187.68 177.119 Q2190.76 171.818 2192.27 166.586 Q2193.79 161.332 2193.79 155.984 Q2193.79 150.637 2192.27 145.429 Q2190.76 140.221 2187.68 134.897 Z\" fill=\"#000000\" fill-rule=\"evenodd\" fill-opacity=\"1\" /><polyline clip-path=\"url(#clip560)\" style=\"stroke:#e26f46; stroke-linecap:butt; stroke-linejoin:round; stroke-width:4; stroke-opacity:1; fill:none\" points=\"\n",
       "  1581.03,214.069 1724.95,214.069 \n",
       "  \"/>\n",
       "<path clip-path=\"url(#clip560)\" d=\"M1769.28 210.4 Q1770.88 207.529 1773.1 206.164 Q1775.32 204.798 1778.33 204.798 Q1782.38 204.798 1784.58 207.645 Q1786.78 210.469 1786.78 215.701 L1786.78 231.349 L1782.5 231.349 L1782.5 215.839 Q1782.5 212.113 1781.18 210.307 Q1779.86 208.502 1777.15 208.502 Q1773.84 208.502 1771.92 210.701 Q1770 212.9 1770 216.696 L1770 231.349 L1765.72 231.349 L1765.72 215.839 Q1765.72 212.089 1764.4 210.307 Q1763.08 208.502 1760.32 208.502 Q1757.06 208.502 1755.14 210.724 Q1753.22 212.923 1753.22 216.696 L1753.22 231.349 L1748.94 231.349 L1748.94 205.423 L1753.22 205.423 L1753.22 209.451 Q1754.68 207.066 1756.71 205.932 Q1758.75 204.798 1761.55 204.798 Q1764.37 204.798 1766.34 206.233 Q1768.33 207.668 1769.28 210.4 Z\" fill=\"#000000\" fill-rule=\"evenodd\" fill-opacity=\"1\" /><path clip-path=\"url(#clip560)\" d=\"M1807.06 218.316 Q1801.9 218.316 1799.91 219.497 Q1797.92 220.677 1797.92 223.525 Q1797.92 225.793 1799.4 227.136 Q1800.9 228.455 1803.47 228.455 Q1807.01 228.455 1809.14 225.955 Q1811.3 223.432 1811.3 219.265 L1811.3 218.316 L1807.06 218.316 M1815.56 216.557 L1815.56 231.349 L1811.3 231.349 L1811.3 227.413 Q1809.84 229.775 1807.66 230.909 Q1805.49 232.02 1802.34 232.02 Q1798.36 232.02 1796 229.798 Q1793.66 227.552 1793.66 223.802 Q1793.66 219.427 1796.57 217.205 Q1799.51 214.983 1805.32 214.983 L1811.3 214.983 L1811.3 214.566 Q1811.3 211.627 1809.35 210.029 Q1807.43 208.409 1803.93 208.409 Q1801.71 208.409 1799.61 208.941 Q1797.5 209.474 1795.56 210.539 L1795.56 206.603 Q1797.89 205.701 1800.09 205.261 Q1802.29 204.798 1804.37 204.798 Q1810 204.798 1812.78 207.714 Q1815.56 210.631 1815.56 216.557 Z\" fill=\"#000000\" fill-rule=\"evenodd\" fill-opacity=\"1\" /><path clip-path=\"url(#clip560)\" d=\"M1840.86 206.187 L1840.86 210.214 Q1839.05 209.289 1837.11 208.826 Q1835.16 208.363 1833.08 208.363 Q1829.91 208.363 1828.31 209.335 Q1826.74 210.307 1826.74 212.251 Q1826.74 213.733 1827.87 214.589 Q1829 215.423 1832.43 216.187 L1833.89 216.511 Q1838.43 217.483 1840.32 219.265 Q1842.24 221.025 1842.24 224.196 Q1842.24 227.807 1839.37 229.913 Q1836.53 232.02 1831.53 232.02 Q1829.44 232.02 1827.18 231.603 Q1824.93 231.21 1822.43 230.4 L1822.43 226.001 Q1824.79 227.228 1827.08 227.853 Q1829.37 228.455 1831.62 228.455 Q1834.63 228.455 1836.25 227.437 Q1837.87 226.395 1837.87 224.52 Q1837.87 222.784 1836.69 221.858 Q1835.53 220.932 1831.57 220.076 L1830.09 219.728 Q1826.13 218.895 1824.37 217.182 Q1822.62 215.446 1822.62 212.437 Q1822.62 208.779 1825.21 206.789 Q1827.8 204.798 1832.57 204.798 Q1834.93 204.798 1837.01 205.145 Q1839.1 205.492 1840.86 206.187 Z\" fill=\"#000000\" fill-rule=\"evenodd\" fill-opacity=\"1\" /><path clip-path=\"url(#clip560)\" d=\"M1865.55 206.187 L1865.55 210.214 Q1863.75 209.289 1861.8 208.826 Q1859.86 208.363 1857.78 208.363 Q1854.61 208.363 1853.01 209.335 Q1851.43 210.307 1851.43 212.251 Q1851.43 213.733 1852.57 214.589 Q1853.7 215.423 1857.13 216.187 L1858.59 216.511 Q1863.12 217.483 1865.02 219.265 Q1866.94 221.025 1866.94 224.196 Q1866.94 227.807 1864.07 229.913 Q1861.23 232.02 1856.23 232.02 Q1854.14 232.02 1851.87 231.603 Q1849.63 231.21 1847.13 230.4 L1847.13 226.001 Q1849.49 227.228 1851.78 227.853 Q1854.07 228.455 1856.32 228.455 Q1859.33 228.455 1860.95 227.437 Q1862.57 226.395 1862.57 224.52 Q1862.57 222.784 1861.39 221.858 Q1860.23 220.932 1856.27 220.076 L1854.79 219.728 Q1850.83 218.895 1849.07 217.182 Q1847.31 215.446 1847.31 212.437 Q1847.31 208.779 1849.91 206.789 Q1852.5 204.798 1857.27 204.798 Q1859.63 204.798 1861.71 205.145 Q1863.8 205.492 1865.55 206.187 Z\" fill=\"#000000\" fill-rule=\"evenodd\" fill-opacity=\"1\" /><path clip-path=\"url(#clip560)\" d=\"M1874.33 225.469 L1879.21 225.469 L1879.21 231.349 L1874.33 231.349 L1874.33 225.469 Z\" fill=\"#000000\" fill-rule=\"evenodd\" fill-opacity=\"1\" /><path clip-path=\"url(#clip560)\" d=\"M1885.74 205.423 L1890.25 205.423 L1898.36 227.182 L1906.46 205.423 L1910.97 205.423 L1901.25 231.349 L1895.46 231.349 L1885.74 205.423 Z\" fill=\"#000000\" fill-rule=\"evenodd\" fill-opacity=\"1\" /><path clip-path=\"url(#clip560)\" d=\"M1942.15 195.377 Q1939.05 200.701 1937.55 205.909 Q1936.04 211.117 1936.04 216.464 Q1936.04 221.812 1937.55 227.066 Q1939.07 232.298 1942.15 237.599 L1938.45 237.599 Q1934.98 232.159 1933.24 226.904 Q1931.53 221.65 1931.53 216.464 Q1931.53 211.302 1933.24 206.071 Q1934.95 200.84 1938.45 195.377 L1942.15 195.377 Z\" fill=\"#000000\" fill-rule=\"evenodd\" fill-opacity=\"1\" /><path clip-path=\"url(#clip560)\" d=\"M1965.18 212.714 Q1968.54 213.432 1970.42 215.701 Q1972.31 217.969 1972.31 221.302 Q1972.31 226.418 1968.8 229.219 Q1965.28 232.02 1958.8 232.02 Q1956.62 232.02 1954.3 231.58 Q1952.01 231.163 1949.56 230.307 L1949.56 225.793 Q1951.5 226.927 1953.82 227.506 Q1956.13 228.085 1958.66 228.085 Q1963.05 228.085 1965.35 226.349 Q1967.66 224.613 1967.66 221.302 Q1967.66 218.247 1965.51 216.534 Q1963.38 214.798 1959.56 214.798 L1955.53 214.798 L1955.53 210.955 L1959.74 210.955 Q1963.19 210.955 1965.02 209.589 Q1966.85 208.201 1966.85 205.608 Q1966.85 202.946 1964.95 201.534 Q1963.08 200.099 1959.56 200.099 Q1957.64 200.099 1955.44 200.515 Q1953.24 200.932 1950.6 201.812 L1950.6 197.645 Q1953.26 196.904 1955.58 196.534 Q1957.92 196.164 1959.98 196.164 Q1965.3 196.164 1968.4 198.594 Q1971.5 201.002 1971.5 205.122 Q1971.5 207.992 1969.86 209.983 Q1968.22 211.951 1965.18 212.714 Z\" fill=\"#000000\" fill-rule=\"evenodd\" fill-opacity=\"1\" /><path clip-path=\"url(#clip560)\" d=\"M1995.35 212.714 Q1998.7 213.432 2000.58 215.701 Q2002.48 217.969 2002.48 221.302 Q2002.48 226.418 1998.96 229.219 Q1995.44 232.02 1988.96 232.02 Q1986.78 232.02 1984.47 231.58 Q1982.17 231.163 1979.72 230.307 L1979.72 225.793 Q1981.67 226.927 1983.98 227.506 Q1986.3 228.085 1988.82 228.085 Q1993.22 228.085 1995.51 226.349 Q1997.82 224.613 1997.82 221.302 Q1997.82 218.247 1995.67 216.534 Q1993.54 214.798 1989.72 214.798 L1985.69 214.798 L1985.69 210.955 L1989.91 210.955 Q1993.36 210.955 1995.18 209.589 Q1997.01 208.201 1997.01 205.608 Q1997.01 202.946 1995.11 201.534 Q1993.24 200.099 1989.72 200.099 Q1987.8 200.099 1985.6 200.515 Q1983.4 200.932 1980.76 201.812 L1980.76 197.645 Q1983.42 196.904 1985.74 196.534 Q1988.08 196.164 1990.14 196.164 Q1995.46 196.164 1998.56 198.594 Q2001.67 201.002 2001.67 205.122 Q2001.67 207.992 2000.02 209.983 Q1998.38 211.951 1995.35 212.714 Z\" fill=\"#000000\" fill-rule=\"evenodd\" fill-opacity=\"1\" /><path clip-path=\"url(#clip560)\" d=\"M2011.39 196.789 L2029.74 196.789 L2029.74 200.724 L2015.67 200.724 L2015.67 209.196 Q2016.69 208.849 2017.71 208.687 Q2018.73 208.502 2019.74 208.502 Q2025.53 208.502 2028.91 211.673 Q2032.29 214.844 2032.29 220.261 Q2032.29 225.839 2028.82 228.941 Q2025.35 232.02 2019.03 232.02 Q2016.85 232.02 2014.58 231.65 Q2012.34 231.279 2009.93 230.538 L2009.93 225.839 Q2012.01 226.974 2014.23 227.529 Q2016.46 228.085 2018.93 228.085 Q2022.94 228.085 2025.28 225.978 Q2027.61 223.872 2027.61 220.261 Q2027.61 216.65 2025.28 214.543 Q2022.94 212.437 2018.93 212.437 Q2017.06 212.437 2015.18 212.853 Q2013.33 213.27 2011.39 214.15 L2011.39 196.789 Z\" fill=\"#000000\" fill-rule=\"evenodd\" fill-opacity=\"1\" /><path clip-path=\"url(#clip560)\" d=\"M2041.55 196.789 L2059.91 196.789 L2059.91 200.724 L2045.83 200.724 L2045.83 209.196 Q2046.85 208.849 2047.87 208.687 Q2048.89 208.502 2049.91 208.502 Q2055.69 208.502 2059.07 211.673 Q2062.45 214.844 2062.45 220.261 Q2062.45 225.839 2058.98 228.941 Q2055.51 232.02 2049.19 232.02 Q2047.01 232.02 2044.74 231.65 Q2042.5 231.279 2040.09 230.538 L2040.09 225.839 Q2042.17 226.974 2044.4 227.529 Q2046.62 228.085 2049.1 228.085 Q2053.1 228.085 2055.44 225.978 Q2057.78 223.872 2057.78 220.261 Q2057.78 216.65 2055.44 214.543 Q2053.1 212.437 2049.1 212.437 Q2047.22 212.437 2045.35 212.853 Q2043.49 213.27 2041.55 214.15 L2041.55 196.789 Z\" fill=\"#000000\" fill-rule=\"evenodd\" fill-opacity=\"1\" /><path clip-path=\"url(#clip560)\" d=\"M2084.51 200.863 L2072.71 219.312 L2084.51 219.312 L2084.51 200.863 M2083.29 196.789 L2089.16 196.789 L2089.16 219.312 L2094.1 219.312 L2094.1 223.201 L2089.16 223.201 L2089.16 231.349 L2084.51 231.349 L2084.51 223.201 L2068.91 223.201 L2068.91 218.687 L2083.29 196.789 Z\" fill=\"#000000\" fill-rule=\"evenodd\" fill-opacity=\"1\" /><path clip-path=\"url(#clip560)\" d=\"M2114.67 200.863 L2102.87 219.312 L2114.67 219.312 L2114.67 200.863 M2113.45 196.789 L2119.33 196.789 L2119.33 219.312 L2124.26 219.312 L2124.26 223.201 L2119.33 223.201 L2119.33 231.349 L2114.67 231.349 L2114.67 223.201 L2099.07 223.201 L2099.07 218.687 L2113.45 196.789 Z\" fill=\"#000000\" fill-rule=\"evenodd\" fill-opacity=\"1\" /><path clip-path=\"url(#clip560)\" d=\"M2146.16 212.714 Q2149.51 213.432 2151.39 215.701 Q2153.28 217.969 2153.28 221.302 Q2153.28 226.418 2149.77 229.219 Q2146.25 232.02 2139.77 232.02 Q2137.59 232.02 2135.28 231.58 Q2132.98 231.163 2130.53 230.307 L2130.53 225.793 Q2132.47 226.927 2134.79 227.506 Q2137.1 228.085 2139.63 228.085 Q2144.03 228.085 2146.32 226.349 Q2148.63 224.613 2148.63 221.302 Q2148.63 218.247 2146.48 216.534 Q2144.35 214.798 2140.53 214.798 L2136.5 214.798 L2136.5 210.955 L2140.72 210.955 Q2144.16 210.955 2145.99 209.589 Q2147.82 208.201 2147.82 205.608 Q2147.82 202.946 2145.92 201.534 Q2144.05 200.099 2140.53 200.099 Q2138.61 200.099 2136.41 200.515 Q2134.21 200.932 2131.57 201.812 L2131.57 197.645 Q2134.23 196.904 2136.55 196.534 Q2138.89 196.164 2140.95 196.164 Q2146.27 196.164 2149.37 198.594 Q2152.47 201.002 2152.47 205.122 Q2152.47 207.992 2150.83 209.983 Q2149.19 211.951 2146.16 212.714 Z\" fill=\"#000000\" fill-rule=\"evenodd\" fill-opacity=\"1\" /><path clip-path=\"url(#clip560)\" d=\"M2176.32 212.714 Q2179.67 213.432 2181.55 215.701 Q2183.45 217.969 2183.45 221.302 Q2183.45 226.418 2179.93 229.219 Q2176.41 232.02 2169.93 232.02 Q2167.75 232.02 2165.44 231.58 Q2163.15 231.163 2160.69 230.307 L2160.69 225.793 Q2162.64 226.927 2164.95 227.506 Q2167.27 228.085 2169.79 228.085 Q2174.19 228.085 2176.48 226.349 Q2178.79 224.613 2178.79 221.302 Q2178.79 218.247 2176.64 216.534 Q2174.51 214.798 2170.69 214.798 L2166.66 214.798 L2166.66 210.955 L2170.88 210.955 Q2174.33 210.955 2176.16 209.589 Q2177.98 208.201 2177.98 205.608 Q2177.98 202.946 2176.09 201.534 Q2174.21 200.099 2170.69 200.099 Q2168.77 200.099 2166.57 200.515 Q2164.37 200.932 2161.73 201.812 L2161.73 197.645 Q2164.4 196.904 2166.71 196.534 Q2169.05 196.164 2171.11 196.164 Q2176.43 196.164 2179.53 198.594 Q2182.64 201.002 2182.64 205.122 Q2182.64 207.992 2180.99 209.983 Q2179.35 211.951 2176.32 212.714 Z\" fill=\"#000000\" fill-rule=\"evenodd\" fill-opacity=\"1\" /><path clip-path=\"url(#clip560)\" d=\"M2191.04 195.377 L2194.74 195.377 Q2198.22 200.84 2199.93 206.071 Q2201.66 211.302 2201.66 216.464 Q2201.66 221.65 2199.93 226.904 Q2198.22 232.159 2194.74 237.599 L2191.04 237.599 Q2194.12 232.298 2195.62 227.066 Q2197.15 221.812 2197.15 216.464 Q2197.15 211.117 2195.62 205.909 Q2194.12 200.701 2191.04 195.377 Z\" fill=\"#000000\" fill-rule=\"evenodd\" fill-opacity=\"1\" /><polyline clip-path=\"url(#clip560)\" style=\"stroke:#3da44d; stroke-linecap:butt; stroke-linejoin:round; stroke-width:4; stroke-opacity:1; fill:none\" points=\"\n",
       "  1581.03,274.549 1724.95,274.549 \n",
       "  \"/>\n",
       "<path clip-path=\"url(#clip560)\" d=\"M1769.28 270.88 Q1770.88 268.009 1773.1 266.644 Q1775.32 265.278 1778.33 265.278 Q1782.38 265.278 1784.58 268.125 Q1786.78 270.949 1786.78 276.181 L1786.78 291.829 L1782.5 291.829 L1782.5 276.319 Q1782.5 272.593 1781.18 270.787 Q1779.86 268.982 1777.15 268.982 Q1773.84 268.982 1771.92 271.181 Q1770 273.38 1770 277.176 L1770 291.829 L1765.72 291.829 L1765.72 276.319 Q1765.72 272.569 1764.4 270.787 Q1763.08 268.982 1760.32 268.982 Q1757.06 268.982 1755.14 271.204 Q1753.22 273.403 1753.22 277.176 L1753.22 291.829 L1748.94 291.829 L1748.94 265.903 L1753.22 265.903 L1753.22 269.931 Q1754.68 267.546 1756.71 266.412 Q1758.75 265.278 1761.55 265.278 Q1764.37 265.278 1766.34 266.713 Q1768.33 268.148 1769.28 270.88 Z\" fill=\"#000000\" fill-rule=\"evenodd\" fill-opacity=\"1\" /><path clip-path=\"url(#clip560)\" d=\"M1807.06 278.796 Q1801.9 278.796 1799.91 279.977 Q1797.92 281.157 1797.92 284.005 Q1797.92 286.273 1799.4 287.616 Q1800.9 288.935 1803.47 288.935 Q1807.01 288.935 1809.14 286.435 Q1811.3 283.912 1811.3 279.745 L1811.3 278.796 L1807.06 278.796 M1815.56 277.037 L1815.56 291.829 L1811.3 291.829 L1811.3 287.893 Q1809.84 290.255 1807.66 291.389 Q1805.49 292.5 1802.34 292.5 Q1798.36 292.5 1796 290.278 Q1793.66 288.032 1793.66 284.282 Q1793.66 279.907 1796.57 277.685 Q1799.51 275.463 1805.32 275.463 L1811.3 275.463 L1811.3 275.046 Q1811.3 272.107 1809.35 270.509 Q1807.43 268.889 1803.93 268.889 Q1801.71 268.889 1799.61 269.421 Q1797.5 269.954 1795.56 271.019 L1795.56 267.083 Q1797.89 266.181 1800.09 265.741 Q1802.29 265.278 1804.37 265.278 Q1810 265.278 1812.78 268.194 Q1815.56 271.111 1815.56 277.037 Z\" fill=\"#000000\" fill-rule=\"evenodd\" fill-opacity=\"1\" /><path clip-path=\"url(#clip560)\" d=\"M1840.86 266.667 L1840.86 270.694 Q1839.05 269.769 1837.11 269.306 Q1835.16 268.843 1833.08 268.843 Q1829.91 268.843 1828.31 269.815 Q1826.74 270.787 1826.74 272.731 Q1826.74 274.213 1827.87 275.069 Q1829 275.903 1832.43 276.667 L1833.89 276.991 Q1838.43 277.963 1840.32 279.745 Q1842.24 281.505 1842.24 284.676 Q1842.24 288.287 1839.37 290.393 Q1836.53 292.5 1831.53 292.5 Q1829.44 292.5 1827.18 292.083 Q1824.93 291.69 1822.43 290.88 L1822.43 286.481 Q1824.79 287.708 1827.08 288.333 Q1829.37 288.935 1831.62 288.935 Q1834.63 288.935 1836.25 287.917 Q1837.87 286.875 1837.87 285 Q1837.87 283.264 1836.69 282.338 Q1835.53 281.412 1831.57 280.556 L1830.09 280.208 Q1826.13 279.375 1824.37 277.662 Q1822.62 275.926 1822.62 272.917 Q1822.62 269.259 1825.21 267.269 Q1827.8 265.278 1832.57 265.278 Q1834.93 265.278 1837.01 265.625 Q1839.1 265.972 1840.86 266.667 Z\" fill=\"#000000\" fill-rule=\"evenodd\" fill-opacity=\"1\" /><path clip-path=\"url(#clip560)\" d=\"M1865.55 266.667 L1865.55 270.694 Q1863.75 269.769 1861.8 269.306 Q1859.86 268.843 1857.78 268.843 Q1854.61 268.843 1853.01 269.815 Q1851.43 270.787 1851.43 272.731 Q1851.43 274.213 1852.57 275.069 Q1853.7 275.903 1857.13 276.667 L1858.59 276.991 Q1863.12 277.963 1865.02 279.745 Q1866.94 281.505 1866.94 284.676 Q1866.94 288.287 1864.07 290.393 Q1861.23 292.5 1856.23 292.5 Q1854.14 292.5 1851.87 292.083 Q1849.63 291.69 1847.13 290.88 L1847.13 286.481 Q1849.49 287.708 1851.78 288.333 Q1854.07 288.935 1856.32 288.935 Q1859.33 288.935 1860.95 287.917 Q1862.57 286.875 1862.57 285 Q1862.57 283.264 1861.39 282.338 Q1860.23 281.412 1856.27 280.556 L1854.79 280.208 Q1850.83 279.375 1849.07 277.662 Q1847.31 275.926 1847.31 272.917 Q1847.31 269.259 1849.91 267.269 Q1852.5 265.278 1857.27 265.278 Q1859.63 265.278 1861.71 265.625 Q1863.8 265.972 1865.55 266.667 Z\" fill=\"#000000\" fill-rule=\"evenodd\" fill-opacity=\"1\" /><path clip-path=\"url(#clip560)\" d=\"M1874.33 285.949 L1879.21 285.949 L1879.21 291.829 L1874.33 291.829 L1874.33 285.949 Z\" fill=\"#000000\" fill-rule=\"evenodd\" fill-opacity=\"1\" /><path clip-path=\"url(#clip560)\" d=\"M1900.58 278.796 Q1895.42 278.796 1893.43 279.977 Q1891.43 281.157 1891.43 284.005 Q1891.43 286.273 1892.92 287.616 Q1894.42 288.935 1896.99 288.935 Q1900.53 288.935 1902.66 286.435 Q1904.81 283.912 1904.81 279.745 L1904.81 278.796 L1900.58 278.796 M1909.07 277.037 L1909.07 291.829 L1904.81 291.829 L1904.81 287.893 Q1903.36 290.255 1901.18 291.389 Q1899 292.5 1895.86 292.5 Q1891.87 292.5 1889.51 290.278 Q1887.18 288.032 1887.18 284.282 Q1887.18 279.907 1890.09 277.685 Q1893.03 275.463 1898.84 275.463 L1904.81 275.463 L1904.81 275.046 Q1904.81 272.107 1902.87 270.509 Q1900.95 268.889 1897.45 268.889 Q1895.23 268.889 1893.12 269.421 Q1891.02 269.954 1889.07 271.019 L1889.07 267.083 Q1891.41 266.181 1893.61 265.741 Q1895.81 265.278 1897.89 265.278 Q1903.52 265.278 1906.3 268.194 Q1909.07 271.111 1909.07 277.037 Z\" fill=\"#000000\" fill-rule=\"evenodd\" fill-opacity=\"1\" /><path clip-path=\"url(#clip560)\" d=\"M1943.15 255.857 Q1940.05 261.181 1938.54 266.389 Q1937.04 271.597 1937.04 276.944 Q1937.04 282.292 1938.54 287.546 Q1940.07 292.778 1943.15 298.079 L1939.44 298.079 Q1935.97 292.639 1934.24 287.384 Q1932.52 282.13 1932.52 276.944 Q1932.52 271.782 1934.24 266.551 Q1935.95 261.32 1939.44 255.857 L1943.15 255.857 Z\" fill=\"#000000\" fill-rule=\"evenodd\" fill-opacity=\"1\" /><path clip-path=\"url(#clip560)\" d=\"M1952.06 257.269 L1970.42 257.269 L1970.42 261.204 L1956.34 261.204 L1956.34 269.676 Q1957.36 269.329 1958.38 269.167 Q1959.4 268.982 1960.42 268.982 Q1966.2 268.982 1969.58 272.153 Q1972.96 275.324 1972.96 280.741 Q1972.96 286.319 1969.49 289.421 Q1966.02 292.5 1959.7 292.5 Q1957.52 292.5 1955.25 292.13 Q1953.01 291.759 1950.6 291.018 L1950.6 286.319 Q1952.68 287.454 1954.91 288.009 Q1957.13 288.565 1959.61 288.565 Q1963.61 288.565 1965.95 286.458 Q1968.29 284.352 1968.29 280.741 Q1968.29 277.13 1965.95 275.023 Q1963.61 272.917 1959.61 272.917 Q1957.73 272.917 1955.86 273.333 Q1954 273.75 1952.06 274.63 L1952.06 257.269 Z\" fill=\"#000000\" fill-rule=\"evenodd\" fill-opacity=\"1\" /><path clip-path=\"url(#clip560)\" d=\"M1992.17 275.417 Q1988.84 275.417 1986.92 277.199 Q1985.02 278.981 1985.02 282.106 Q1985.02 285.231 1986.92 287.014 Q1988.84 288.796 1992.17 288.796 Q1995.51 288.796 1997.43 287.014 Q1999.35 285.208 1999.35 282.106 Q1999.35 278.981 1997.43 277.199 Q1995.53 275.417 1992.17 275.417 M1987.5 273.426 Q1984.49 272.685 1982.8 270.625 Q1981.13 268.565 1981.13 265.602 Q1981.13 261.458 1984.07 259.051 Q1987.04 256.644 1992.17 256.644 Q1997.34 256.644 2000.28 259.051 Q2003.22 261.458 2003.22 265.602 Q2003.22 268.565 2001.53 270.625 Q1999.86 272.685 1996.87 273.426 Q2000.25 274.213 2002.13 276.505 Q2004.03 278.796 2004.03 282.106 Q2004.03 287.13 2000.95 289.815 Q1997.89 292.5 1992.17 292.5 Q1986.46 292.5 1983.38 289.815 Q1980.32 287.13 1980.32 282.106 Q1980.32 278.796 1982.22 276.505 Q1984.12 274.213 1987.5 273.426 M1985.79 266.042 Q1985.79 268.727 1987.45 270.232 Q1989.14 271.736 1992.17 271.736 Q1995.18 271.736 1996.87 270.232 Q1998.59 268.727 1998.59 266.042 Q1998.59 263.357 1996.87 261.852 Q1995.18 260.347 1992.17 260.347 Q1989.14 260.347 1987.45 261.852 Q1985.79 263.357 1985.79 266.042 Z\" fill=\"#000000\" fill-rule=\"evenodd\" fill-opacity=\"1\" /><path clip-path=\"url(#clip560)\" d=\"M2011.16 257.269 L2033.38 257.269 L2033.38 259.259 L2020.83 291.829 L2015.95 291.829 L2027.75 261.204 L2011.16 261.204 L2011.16 257.269 Z\" fill=\"#000000\" fill-rule=\"evenodd\" fill-opacity=\"1\" /><path clip-path=\"url(#clip560)\" d=\"M2046.53 287.893 L2062.85 287.893 L2062.85 291.829 L2040.9 291.829 L2040.9 287.893 Q2043.56 285.139 2048.15 280.509 Q2052.75 275.856 2053.93 274.514 Q2056.18 271.991 2057.06 270.255 Q2057.96 268.495 2057.96 266.806 Q2057.96 264.051 2056.02 262.315 Q2054.1 260.579 2050.99 260.579 Q2048.79 260.579 2046.34 261.343 Q2043.91 262.107 2041.13 263.657 L2041.13 258.935 Q2043.96 257.801 2046.41 257.222 Q2048.86 256.644 2050.9 256.644 Q2056.27 256.644 2059.47 259.329 Q2062.66 262.014 2062.66 266.505 Q2062.66 268.634 2061.85 270.556 Q2061.06 272.454 2058.96 275.046 Q2058.38 275.718 2055.28 278.935 Q2052.17 282.13 2046.53 287.893 Z\" fill=\"#000000\" fill-rule=\"evenodd\" fill-opacity=\"1\" /><path clip-path=\"url(#clip560)\" d=\"M2082.66 260.347 Q2079.05 260.347 2077.22 263.912 Q2075.41 267.454 2075.41 274.583 Q2075.41 281.69 2077.22 285.255 Q2079.05 288.796 2082.66 288.796 Q2086.29 288.796 2088.1 285.255 Q2089.93 281.69 2089.93 274.583 Q2089.93 267.454 2088.1 263.912 Q2086.29 260.347 2082.66 260.347 M2082.66 256.644 Q2088.47 256.644 2091.53 261.25 Q2094.6 265.833 2094.6 274.583 Q2094.6 283.31 2091.53 287.917 Q2088.47 292.5 2082.66 292.5 Q2076.85 292.5 2073.77 287.917 Q2070.72 283.31 2070.72 274.583 Q2070.72 265.833 2073.77 261.25 Q2076.85 256.644 2082.66 256.644 Z\" fill=\"#000000\" fill-rule=\"evenodd\" fill-opacity=\"1\" /><path clip-path=\"url(#clip560)\" d=\"M2106.85 287.893 L2123.17 287.893 L2123.17 291.829 L2101.22 291.829 L2101.22 287.893 Q2103.89 285.139 2108.47 280.509 Q2113.08 275.856 2114.26 274.514 Q2116.5 271.991 2117.38 270.255 Q2118.29 268.495 2118.29 266.806 Q2118.29 264.051 2116.34 262.315 Q2114.42 260.579 2111.32 260.579 Q2109.12 260.579 2106.66 261.343 Q2104.23 262.107 2101.46 263.657 L2101.46 258.935 Q2104.28 257.801 2106.73 257.222 Q2109.19 256.644 2111.22 256.644 Q2116.6 256.644 2119.79 259.329 Q2122.98 262.014 2122.98 266.505 Q2122.98 268.634 2122.17 270.556 Q2121.39 272.454 2119.28 275.046 Q2118.7 275.718 2115.6 278.935 Q2112.5 282.13 2106.85 287.893 Z\" fill=\"#000000\" fill-rule=\"evenodd\" fill-opacity=\"1\" /><path clip-path=\"url(#clip560)\" d=\"M2133.03 257.269 L2151.39 257.269 L2151.39 261.204 L2137.31 261.204 L2137.31 269.676 Q2138.33 269.329 2139.35 269.167 Q2140.37 268.982 2141.39 268.982 Q2147.17 268.982 2150.55 272.153 Q2153.93 275.324 2153.93 280.741 Q2153.93 286.319 2150.46 289.421 Q2146.99 292.5 2140.67 292.5 Q2138.49 292.5 2136.22 292.13 Q2133.98 291.759 2131.57 291.018 L2131.57 286.319 Q2133.66 287.454 2135.88 288.009 Q2138.1 288.565 2140.58 288.565 Q2144.58 288.565 2146.92 286.458 Q2149.26 284.352 2149.26 280.741 Q2149.26 277.13 2146.92 275.023 Q2144.58 272.917 2140.58 272.917 Q2138.7 272.917 2136.83 273.333 Q2134.97 273.75 2133.03 274.63 L2133.03 257.269 Z\" fill=\"#000000\" fill-rule=\"evenodd\" fill-opacity=\"1\" /><path clip-path=\"url(#clip560)\" d=\"M2173.72 272.685 Q2170.58 272.685 2168.72 274.838 Q2166.9 276.991 2166.9 280.741 Q2166.9 284.468 2168.72 286.643 Q2170.58 288.796 2173.72 288.796 Q2176.87 288.796 2178.7 286.643 Q2180.55 284.468 2180.55 280.741 Q2180.55 276.991 2178.7 274.838 Q2176.87 272.685 2173.72 272.685 M2183.01 258.033 L2183.01 262.292 Q2181.25 261.458 2179.44 261.019 Q2177.66 260.579 2175.9 260.579 Q2171.27 260.579 2168.82 263.704 Q2166.39 266.829 2166.04 273.148 Q2167.41 271.134 2169.47 270.069 Q2171.53 268.982 2174 268.982 Q2179.21 268.982 2182.22 272.153 Q2185.25 275.301 2185.25 280.741 Q2185.25 286.065 2182.1 289.282 Q2178.96 292.5 2173.72 292.5 Q2167.73 292.5 2164.56 287.917 Q2161.39 283.31 2161.39 274.583 Q2161.39 266.389 2165.28 261.528 Q2169.16 256.644 2175.72 256.644 Q2177.47 256.644 2179.26 256.991 Q2181.06 257.338 2183.01 258.033 Z\" fill=\"#000000\" fill-rule=\"evenodd\" fill-opacity=\"1\" /><path clip-path=\"url(#clip560)\" d=\"M2194.12 287.893 L2201.76 287.893 L2201.76 261.528 L2193.45 263.195 L2193.45 258.935 L2201.71 257.269 L2206.39 257.269 L2206.39 287.893 L2214.03 287.893 L2214.03 291.829 L2194.12 291.829 L2194.12 287.893 Z\" fill=\"#000000\" fill-rule=\"evenodd\" fill-opacity=\"1\" /><path clip-path=\"url(#clip560)\" d=\"M2222.2 255.857 L2225.9 255.857 Q2229.37 261.32 2231.09 266.551 Q2232.82 271.782 2232.82 276.944 Q2232.82 282.13 2231.09 287.384 Q2229.37 292.639 2225.9 298.079 L2222.2 298.079 Q2225.28 292.778 2226.78 287.546 Q2228.31 282.292 2228.31 276.944 Q2228.31 271.597 2226.78 266.389 Q2225.28 261.181 2222.2 255.857 Z\" fill=\"#000000\" fill-rule=\"evenodd\" fill-opacity=\"1\" /></svg>\n"
      ]
     },
     "execution_count": 8,
     "metadata": {},
     "output_type": "execute_result"
    }
   ],
   "source": [
    "simpleFMU = fmiLoad(\"SpringPendulum1D\", \"Dymola\", \"2022x\")\n",
    "\n",
    "fmiInstantiate!(simpleFMU; loggingOn=false)\n",
    "fmiInfo(simpleFMU)\n",
    "\n",
    "vrs = [\"mass.s\", \"mass.v\", \"mass.a\"]\n",
    "_, simpleSimData = fmiSimulate(simpleFMU, tStart, tStop; recordValues=vrs, saveat=tSave, reset=false)\n",
    "fmiPlot(simpleFMU, vrs, simpleSimData)"
   ]
  },
  {
   "cell_type": "markdown",
   "metadata": {},
   "source": [
    "The data from the simualtion of the *simpleFMU*, are divided into position and velocity data. These data will be needed later to plot the results. "
   ]
  },
  {
   "cell_type": "code",
   "execution_count": 9,
   "metadata": {
    "scrolled": false
   },
   "outputs": [
    {
     "data": {
      "text/plain": [
       "501-element Vector{Float64}:\n",
       " 0.5\n",
       " 0.5003127019074967\n",
       " 0.5012175433745238\n",
       " 0.5027172504687035\n",
       " 0.504812416566759\n",
       " 0.5075012719497328\n",
       " 0.5107830165354977\n",
       " 0.5146534880772458\n",
       " 0.5191107030735219\n",
       " 0.5241484264969329\n",
       " 0.5297629811612266\n",
       " 0.5359472314461261\n",
       " 0.5426950964528339\n",
       " ⋮\n",
       " 1.6842615646003007\n",
       " 1.6884869953422783\n",
       " 1.6921224800662573\n",
       " 1.69516502108285\n",
       " 1.6976144547672483\n",
       " 1.6994659284032172\n",
       " 1.7007174453690572\n",
       " 1.7013675684067706\n",
       " 1.7014154196220592\n",
       " 1.7008606804843265\n",
       " 1.69970552855305\n",
       " 1.6979508813706"
      ]
     },
     "execution_count": 9,
     "metadata": {},
     "output_type": "execute_result"
    }
   ],
   "source": [
    "velSimple = collect(data[2] for data in simpleSimData.saveval)\n",
    "posSimple = collect(data[1] for data in simpleSimData.saveval)"
   ]
  },
  {
   "cell_type": "markdown",
   "metadata": {},
   "source": [
    "## NeuralFMU\n",
    "\n",
    "#### Loss function\n",
    "\n",
    "In order to train our model, a loss function must be implemented. The solver of the NeuralFMU can calculate the gradient of the loss function. The gradient descent is needed to adjust the weights in the neural network so that the sum of the error is reduced and the model becomes more accurate.\n",
    "\n",
    "The loss function in this implmentation consists of the mean squared error (mse) from the real position of the *realFMU* simulation (posReal) and the position data of the network (posNet).\n",
    "$$ mse = \\frac{1}{n} \\sum\\limits_{i=0}^n (posReal[i] - posNet[i])^2 $$\n",
    "\n",
    "As it is indicated with the comments, one could also additionally consider the mse from the real velocity (velReal) and the velocity from the network (velNet). The error in this case would be calculated from the sum of both errors."
   ]
  },
  {
   "cell_type": "code",
   "execution_count": 10,
   "metadata": {
    "scrolled": false
   },
   "outputs": [
    {
     "data": {
      "text/plain": [
       "lossSum (generic function with 1 method)"
      ]
     },
     "execution_count": 10,
     "metadata": {},
     "output_type": "execute_result"
    }
   ],
   "source": [
    "# loss function for training\n",
    "function lossSum()\n",
    "    solution = neuralFMU(x₀, tStart)\n",
    "\n",
    "    posNet = collect(data[1] for data in solution.u)\n",
    "    #velNet = collect(data[2] for data in solution.u)\n",
    "\n",
    "    Flux.Losses.mse(posReal, posNet) #+ Flux.Losses.mse(velReal, velNet)\n",
    "end"
   ]
  },
  {
   "cell_type": "markdown",
   "metadata": {},
   "source": [
    "#### Callback\n",
    "\n",
    "To output the loss in certain time intervals, a callback is implemented as a function in the following. Here a counter is incremented, every twentieth pass the loss function is called and the average error is printed out."
   ]
  },
  {
   "cell_type": "code",
   "execution_count": 11,
   "metadata": {
    "scrolled": false
   },
   "outputs": [
    {
     "data": {
      "text/plain": [
       "callb (generic function with 1 method)"
      ]
     },
     "execution_count": 11,
     "metadata": {},
     "output_type": "execute_result"
    }
   ],
   "source": [
    "# callback function for training\n",
    "global counter = 0\n",
    "function callb()\n",
    "    global counter += 1\n",
    "\n",
    "    if counter % 20 == 1\n",
    "        avgLoss = lossSum()\n",
    "        @info \"Loss [$counter]: $(round(avgLoss, digits=5))   Avg displacement in data: $(round(sqrt(avgLoss), digits=5))\"\n",
    "    end\n",
    "end"
   ]
  },
  {
   "cell_type": "markdown",
   "metadata": {},
   "source": [
    "#### Structure of the NeuralFMU\n",
    "\n",
    "In the following, the topology of the NeuralFMU is constructed. It consists of an input layer, which then leads into the *simpleFMU* model. The ME-FMU computes the state derivatives for a given system state. Following the *simpleFMU* is a dense layer that has exactly as many inputs as the model has states (and therefore state derivatives). The output of this layer consists of 16 output nodes and a *tanh* activation function. The next layer has 16 input and output nodes with the same activation function. The last layer is again a dense layer with 16 input nodes and the number of states as outputs. Here, it is important that no *tanh*-activation function follows, because otherwise the pendulums state values would be limited to the interval $[-1;1]$."
   ]
  },
  {
   "cell_type": "code",
   "execution_count": 12,
   "metadata": {
    "scrolled": false
   },
   "outputs": [
    {
     "data": {
      "text/plain": [
       "Chain(\n",
       "  var\"#11#12\"(),\n",
       "  Dense(2, 16, tanh),                   \u001b[90m# 48 parameters\u001b[39m\n",
       "  Dense(16, 16, tanh),                  \u001b[90m# 272 parameters\u001b[39m\n",
       "  Dense(16, 2),                         \u001b[90m# 34 parameters\u001b[39m\n",
       ")\u001b[90m                   # Total: 6 arrays, \u001b[39m354 parameters, 1.758 KiB."
      ]
     },
     "execution_count": 12,
     "metadata": {},
     "output_type": "execute_result"
    }
   ],
   "source": [
    "# NeuralFMU setup\n",
    "numStates = fmiGetNumberOfStates(simpleFMU)\n",
    "\n",
    "net = Chain(inputs -> fmiEvaluateME(simpleFMU, inputs),\n",
    "            Dense(numStates, 16, tanh),\n",
    "            Dense(16, 16, tanh),\n",
    "            Dense(16, numStates))"
   ]
  },
  {
   "cell_type": "markdown",
   "metadata": {},
   "source": [
    "#### Definition of the NeuralFMU\n",
    "\n",
    "The instantiation of the ME-NeuralFMU is done as a one-liner. The FMU (*simpleFMU*), the structure of the network `net`, start `tStart` and end time `tStop`, the numerical solver `Tsit5()` and the time steps `tSave` for saving are specified."
   ]
  },
  {
   "cell_type": "code",
   "execution_count": 13,
   "metadata": {
    "scrolled": false
   },
   "outputs": [
    {
     "ename": "LoadError",
     "evalue": "MethodError: no method matching ME_NeuralFMU(::FMU2, ::Chain{Tuple{var\"#11#12\", Dense{typeof(tanh), Matrix{Float32}, Vector{Float32}}, Dense{typeof(tanh), Matrix{Float32}, Vector{Float32}}, Dense{typeof(identity), Matrix{Float32}, Vector{Float32}}}}, ::Tuple{Float64, Float64}, ::Tsit5{typeof(OrdinaryDiffEq.trivial_limiter!), typeof(OrdinaryDiffEq.trivial_limiter!), Static.False}; saveat=[0.0, 0.01, 0.02, 0.03, 0.04, 0.05, 0.06, 0.07, 0.08, 0.09  …  4.91, 4.92, 4.93, 4.94, 4.95, 4.96, 4.97, 4.98, 4.99, 5.0])\n\u001b[0mClosest candidates are:\n\u001b[0m  ME_NeuralFMU(\u001b[91m::FMICore.FMU2\u001b[39m, ::Any, ::Any, ::Any; saveat, recordFMUValues, callbacks, kwargs...) at C:\\Users\\Johannes Stoljar\\Desktop\\Hiwi\\FMIFlux.jl\\src\\FMI_neural.jl:474\n\u001b[0m  ME_NeuralFMU(\u001b[91m::FMICore.FMU2\u001b[39m, ::Any, ::Any) at C:\\Users\\Johannes Stoljar\\Desktop\\Hiwi\\FMIFlux.jl\\src\\FMI_neural.jl:474\u001b[91m got unsupported keyword argument \"saveat\"\u001b[39m",
     "output_type": "error",
     "traceback": [
      "MethodError: no method matching ME_NeuralFMU(::FMU2, ::Chain{Tuple{var\"#11#12\", Dense{typeof(tanh), Matrix{Float32}, Vector{Float32}}, Dense{typeof(tanh), Matrix{Float32}, Vector{Float32}}, Dense{typeof(identity), Matrix{Float32}, Vector{Float32}}}}, ::Tuple{Float64, Float64}, ::Tsit5{typeof(OrdinaryDiffEq.trivial_limiter!), typeof(OrdinaryDiffEq.trivial_limiter!), Static.False}; saveat=[0.0, 0.01, 0.02, 0.03, 0.04, 0.05, 0.06, 0.07, 0.08, 0.09  …  4.91, 4.92, 4.93, 4.94, 4.95, 4.96, 4.97, 4.98, 4.99, 5.0])\n\u001b[0mClosest candidates are:\n\u001b[0m  ME_NeuralFMU(\u001b[91m::FMICore.FMU2\u001b[39m, ::Any, ::Any, ::Any; saveat, recordFMUValues, callbacks, kwargs...) at C:\\Users\\Johannes Stoljar\\Desktop\\Hiwi\\FMIFlux.jl\\src\\FMI_neural.jl:474\n\u001b[0m  ME_NeuralFMU(\u001b[91m::FMICore.FMU2\u001b[39m, ::Any, ::Any) at C:\\Users\\Johannes Stoljar\\Desktop\\Hiwi\\FMIFlux.jl\\src\\FMI_neural.jl:474\u001b[91m got unsupported keyword argument \"saveat\"\u001b[39m",
      "",
      "Stacktrace:",
      " [1] top-level scope",
      "   @ In[13]:1",
      " [2] eval",
      "   @ .\\boot.jl:360 [inlined]",
      " [3] include_string(mapexpr::typeof(REPL.softscope), mod::Module, code::String, filename::String)",
      "   @ Base .\\loading.jl:1094"
     ]
    }
   ],
   "source": [
    "neuralFMU = ME_NeuralFMU(simpleFMU, net, (tStart, tStop), Tsit5(); saveat=tSave);"
   ]
  },
  {
   "cell_type": "markdown",
   "metadata": {},
   "source": [
    "#### Plot before training\n",
    "\n",
    "Here the state trajactory of the *simpleFMU* is recorded. Doesn't really look like a pendulum yet, but the system is random initialized by default. In the later plots, the effect of learning can be seen."
   ]
  },
  {
   "cell_type": "code",
   "execution_count": null,
   "metadata": {
    "scrolled": false
   },
   "outputs": [],
   "source": [
    "solutionBefore = neuralFMU(x₀, tStart)\n",
    "fmiPlot(simpleFMU, solutionBefore)"
   ]
  },
  {
   "cell_type": "markdown",
   "metadata": {},
   "source": [
    "#### Training of the NeuralFMU\n",
    "\n",
    "For the training of the NeuralFMU the parameters are extracted. The known ADAM optimizer for minimizing the gradient descent is used as further passing parameters. In addition, the previously defined loss and callback function, as well as the number of epochs are passed."
   ]
  },
  {
   "cell_type": "code",
   "execution_count": null,
   "metadata": {
    "scrolled": false
   },
   "outputs": [],
   "source": [
    "# train\n",
    "paramsNet = Flux.params(neuralFMU)\n",
    "\n",
    "optim = ADAM()\n",
    "Flux.train!(lossSum, paramsNet, Iterators.repeated((), 300), optim; cb=callb) "
   ]
  },
  {
   "cell_type": "markdown",
   "metadata": {},
   "source": [
    "#### Comparison of the plots\n",
    "\n",
    "Here three plots are compared with each other and only the position of the mass is considered. The first plot represents the *simpleFMU*, the second represents the *realFMU* (reference) and the third plot represents the result after training the NeuralFMU. "
   ]
  },
  {
   "cell_type": "code",
   "execution_count": null,
   "metadata": {
    "scrolled": false
   },
   "outputs": [],
   "source": [
    "# plot results mass.s\n",
    "solutionAfter = neuralFMU(x₀, tStart)\n",
    "\n",
    "fig = Plots.plot(xlabel=\"t [s]\", ylabel=\"mass position [m]\", linewidth=2,\n",
    "                 xtickfontsize=12, ytickfontsize=12,\n",
    "                 xguidefontsize=12, yguidefontsize=12,\n",
    "                 legendfontsize=8, legend=:topright)\n",
    "\n",
    "posNeuralFMU = collect(data[1] for data in solutionAfter.u)\n",
    "\n",
    "Plots.plot!(fig, tSave, posSimple, label=\"SimpleFMU\", linewidth=2)\n",
    "Plots.plot!(fig, tSave, posReal, label=\"RealFMU\", linewidth=2)\n",
    "Plots.plot!(fig, tSave, posNeuralFMU, label=\"NeuralFMU (300 epochs)\", linewidth=2)\n",
    "fig "
   ]
  },
  {
   "cell_type": "markdown",
   "metadata": {},
   "source": [
    "#### Continue training and plotting\n",
    "\n",
    "As can be seen from the previous figure, the plot of the NeuralFMU has not yet fully converged against the *realFMU*, so the training of the NeuralFMU is continued. After further training, the plot of *NeuralFMU* is added to the figure again. The effect of the longer training is well recognizable, since the plot of the NeuralFMU had further converged. "
   ]
  },
  {
   "cell_type": "code",
   "execution_count": null,
   "metadata": {
    "scrolled": false
   },
   "outputs": [],
   "source": [
    "Flux.train!(lossSum, paramsNet, Iterators.repeated((), 700), optim; cb=callb) \n",
    "# plot results mass.s\n",
    "solutionAfter = neuralFMU(x₀, tStart)\n",
    "posNeuralFMU = collect(data[1] for data in solutionAfter.u)\n",
    "Plots.plot!(fig, tSave, posNeuralFMU, label=\"NeuralFMU (1000 epochs)\", linewidth=2)\n",
    "fig "
   ]
  },
  {
   "cell_type": "markdown",
   "metadata": {
    "nteract": {
     "transient": {
      "deleting": false
     }
    }
   },
   "source": [
    "Finally, the FMU is cleaned-up."
   ]
  },
  {
   "cell_type": "code",
   "execution_count": null,
   "metadata": {
    "scrolled": false
   },
   "outputs": [],
   "source": [
    "fmiUnload(simpleFMU)"
   ]
  },
  {
   "cell_type": "markdown",
   "metadata": {},
   "source": [
    "### Summary\n",
    "\n",
    "Based on the plots, it can be seen that the NeuralFMU is able to adapt the friction model of the *realFMU*. After 300 runs, the curves do not overlap very well, but this can be achieved by longer training (1000 runs) or a better initialization."
   ]
  },
  {
   "cell_type": "markdown",
   "metadata": {},
   "source": [
    "### Source\n",
    "\n",
    "[1] Tobias Thummerer, Lars Mikelsons and Josef Kircher. 2021. **NeuralFMU: towards structural integration of FMUs into neural networks.** Martin Sjölund, Lena Buffoni, Adrian Pop and Lennart Ochel (Ed.). Proceedings of 14th Modelica Conference 2021, Linköping, Sweden, September 20-24, 2021. Linköping University Electronic Press, Linköping (Linköping Electronic Conference Proceedings ; 181), 297-306. [DOI: 10.3384/ecp21181297](https://doi.org/10.3384/ecp21181297)\n"
   ]
  }
 ],
 "metadata": {
  "interpreter": {
   "hash": "037537ff7419c497b9325f7d495147943224d408cf5d5ed915294a5b960167b0"
  },
  "jupytext": {
   "cell_metadata_filter": "-all",
   "comment_magics": "false",
   "notebook_metadata_filter": "-all"
  },
  "kernelspec": {
   "display_name": "Julia 1.6.1",
   "language": "julia",
   "name": "julia-1.6"
  },
  "language_info": {
   "file_extension": ".jl",
   "mimetype": "application/julia",
   "name": "julia",
   "version": "1.6.1"
  },
  "nteract": {
   "version": "0.28.0"
  }
 },
 "nbformat": 4,
 "nbformat_minor": 2
}
