{
 "cells": [
  {
   "cell_type": "markdown",
   "metadata": {},
   "source": [
    "# This example covers creation and training of ME-NeuralFMUs\n",
    "\n",
    "## Motivation\n",
    "This Julia Package is motivated by the application of hybrid modeling. This package enables the user to integrate his simulation model between neural networks (NeuralFMU). For this, the simulation model must be exported as FMU (functional mock-up unit), which corresponds to a widely used standard. The big advantage of a hybrid modeling with artificial neural networks is, that effects, that are difficult to model, can easily be learned by the neural networks. For this purpose, the so-called NeuralFMU is trained with measurement data containing the effect and as a final product a simulation with the mapping of complex effects is obtained. Another big advantage of the NeuralFMU is that it works with relatively little data, because the FMU already contains the rough functionality of the simulation and only the missing effects are added.\n",
    "\n",
    "## Introduction to the example\n",
    "Test!!!!!!!!!!!!!!\n",
    "\n",
    "\n",
    "Grob Erklärung der Funktion\n",
    "Zielgruppe: Leute, die Modell bauen und Machine Learning mit diesen Modell durchführen wollen\n",
    "            -> hybride Modellbildung\n",
    "\n",
    "\n",
    "Copyright (c) 2021 Tobias Thummerer, Lars Mikelsons\n",
    "\n",
    "Licensed under the MIT license. See LICENSE file in the project root for details."
   ]
  },
  {
   "cell_type": "markdown",
   "metadata": {},
   "source": [
    "## Installation prerequisites\n",
    "\n",
    "|    | Description                       | Command     |  Alternative  |   \n",
    "|:--- |:---                               |:---:        |:---:|\n",
    "|1.  | Enter Package Manager via         |     ]       |     |\n",
    "|2.  | Install FMI via                   |   add FMI   | add \" https://github.com/ThummeTo/FMI.jl \"   |\n",
    "|3.  | Install FMIFlux via               | add FMIFlux | add \" https://github.com/ThummeTo/FMIFlux.jl \" |\n",
    "|4.  | Install Flux via                  |  add Flux   |     |\n",
    "|5.  | Install DifferentialEquations via | add DifferentialEquations |  |\n",
    "|6.  | Install Plots via                 | add Plots   |     |"
   ]
  },
  {
   "cell_type": "markdown",
   "metadata": {},
   "source": [
    "## Code section\n",
    "\n",
    "To run the example, the previously installed packages must be included. "
   ]
  },
  {
   "cell_type": "code",
   "execution_count": 2,
   "metadata": {},
   "outputs": [],
   "source": [
    "# imports\n",
    "# using Pkg\n",
    "# Pkg.activate(\"Your Env\")\n",
    "using FMI\n",
    "using FMIFlux\n",
    "using Flux\n",
    "using DifferentialEquations: Tsit5\n",
    "import Plots"
   ]
  },
  {
   "cell_type": "markdown",
   "metadata": {},
   "source": [
    "After importing the packages, the path to the FMUs (FMU = functional mock-up unit) is set. The FMU is a model from the Functional Mock-up Interface (FMI) Standard. The FMI is a free standard that defines a container and an interface to exchange dynamic models using a combination of XML files, binaries and C code zipped into a single file. Here the path for the [*SpringPendulum1D*](../model/SpringPendulum1D.mo) and the *SpringFrictionPendulum1D* model is set. The structure of the *SpringPendulum1D* can be seen in the following graphic and corresponds to a simple modeling.\n",
    "\n",
    "<img src=\"./pics/SpringPendulum1D.png\" alt=\"\" width=\"300\"/>\n",
    "\n",
    "\n",
    "In contrast, the other model (*SpringFrictionPendulum1D*) is somewhat more accurate, because it includes a friction component. \n",
    "\n",
    "<img src=\"./pics/SpringFrictionPendulum1D.png\" alt=\"\" width=\"300\"/>"
   ]
  },
  {
   "cell_type": "code",
   "execution_count": null,
   "metadata": {
    "lines_to_next_cell": 0
   },
   "outputs": [],
   "source": [
    "modelFMUPath = joinpath(dirname(@__FILE__), \"../model/SpringPendulum1D.fmu\")\n",
    "realFMUPath = joinpath(dirname(@__FILE__), \"../model/SpringFrictionPendulum1D.fmu\")"
   ]
  },
  {
   "cell_type": "markdown",
   "metadata": {},
   "source": [
    "\n",
    "\n"
   ]
  },
  {
   "cell_type": "code",
   "execution_count": null,
   "metadata": {},
   "outputs": [],
   "source": [
    "\n",
    "t_start = 0.0\n",
    "t_step = 0.01\n",
    "t_stop = 5.0\n",
    "tData = collect(t_start:t_step:t_stop)\n",
    "\n",
    "myFMU = fmiLoad(realFMUPath)\n",
    "fmiInstantiate!(myFMU; loggingOn=false)\n",
    "fmiSetupExperiment(myFMU, t_start, t_stop)\n",
    "\n",
    "fmiEnterInitializationMode(myFMU)\n",
    "fmiExitInitializationMode(myFMU)\n",
    "\n",
    "x0 = fmiGetContinuousStates(myFMU)\n",
    "\n",
    "vrs = [\"mass.s\", \"mass.v\", \"mass.f\", \"mass.a\"]\n",
    "_, realSimData = fmiSimulate(myFMU, t_start, t_stop; recordValues=vrs, saveat=tData, setup=false, reset=false)\n",
    "fmiUnload(myFMU)\n",
    "\n",
    "fmiPlot(myFMU, vrs, realSimData)\n",
    "\n",
    "myFMU = fmiLoad(modelFMUPath)\n",
    "\n",
    "fmiInstantiate!(myFMU; loggingOn=false)\n",
    "_, fmuSimData = fmiSimulate(myFMU, t_start, t_stop; recordValues=[\"mass.s\", \"mass.v\", \"mass.a\"], saveat=tData)\n",
    "\n",
    "posData = collect(data[1] for data in realSimData.saveval)\n",
    "velData = collect(data[2] for data in realSimData.saveval)\n",
    "\n",
    "# loss function for training\n",
    "function losssum()\n",
    "    solution = problem(x0, t_start)\n",
    "\n",
    "    posNet = collect(data[1] for data in solution.u)\n",
    "    #velNet = collect(data[2] for data in solution.u)\n",
    "\n",
    "    Flux.Losses.mse(posData, posNet) #+ Flux.Losses.mse(velData, velNet)\n",
    "end\n",
    "\n",
    "# callback function for training\n",
    "global iterCB = 0\n",
    "function callb()\n",
    "    global iterCB += 1\n",
    "\n",
    "    if iterCB % 10 == 1\n",
    "        avg_ls = losssum()\n",
    "        @info \"Loss [$iterCB]: $(round(avg_ls, digits=5))   Avg displacement in data: $(round(sqrt(avg_ls), digits=5))\"\n",
    "    end\n",
    "end\n",
    "\n",
    "# NeuralFMU setup\n",
    "numStates = fmiGetNumberOfStates(myFMU)\n",
    "\n",
    "net = Chain(inputs -> fmiDoStepME(myFMU, inputs),\n",
    "            Dense(numStates, 16, tanh),\n",
    "            Dense(16, 16, tanh),\n",
    "            Dense(16, numStates))\n",
    "\n",
    "problem = ME_NeuralFMU(myFMU, net, (t_start, t_stop), Tsit5(); saveat=tData)\n",
    "solutionBefore = problem(x0, t_start)\n",
    "fmiPlot(myFMU, solutionBefore)\n",
    "\n",
    "# train it ...\n",
    "p_net = Flux.params(problem)\n",
    "\n",
    "optim = ADAM()\n",
    "Flux.train!(losssum, p_net, Iterators.repeated((), 300), optim; cb=callb) # Feel free to increase training steps or epochs for better results\n",
    "\n",
    "###### plot results mass.s\n",
    "solutionAfter = problem(x0, t_start)\n",
    "fig = Plots.plot(xlabel=\"t [s]\", ylabel=\"mass position [m]\", linewidth=2,\n",
    "    xtickfontsize=12, ytickfontsize=12,\n",
    "    xguidefontsize=12, yguidefontsize=12,\n",
    "    legendfontsize=12, legend=:bottomright)\n",
    "Plots.plot!(fig, tData, collect(data[1] for data in fmuSimData.saveval), label=\"FMU\", linewidth=2)\n",
    "Plots.plot!(fig, tData, posData, label=\"reference\", linewidth=2)\n",
    "Plots.plot!(fig, tData, collect(data[2] for data in solutionAfter.u), label=\"NeuralFMU\", linewidth=2)\n",
    "Plots.savefig(fig, \"exampleResult_s.pdf\")\n",
    "fig \n",
    "\n",
    "fmiUnload(myFMU)\n"
   ]
  }
 ],
 "metadata": {
  "interpreter": {
   "hash": "037537ff7419c497b9325f7d495147943224d408cf5d5ed915294a5b960167b0"
  },
  "jupytext": {
   "cell_metadata_filter": "-all",
   "comment_magics": "false",
   "formats": "ipynb,md,auto:percent",
   "notebook_metadata_filter": "-all"
  },
  "kernelspec": {
   "display_name": "Julia 1.6.1",
   "language": "julia",
   "name": "julia-1.6"
  },
  "language_info": {
   "file_extension": ".jl",
   "mimetype": "application/julia",
   "name": "julia",
   "version": "1.6.1"
  }
 },
 "nbformat": 4,
 "nbformat_minor": 2
}
